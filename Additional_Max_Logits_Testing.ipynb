{
  "nbformat": 4,
  "nbformat_minor": 0,
  "metadata": {
    "colab": {
      "provenance": [],
      "collapsed_sections": []
    },
    "kernelspec": {
      "name": "python3",
      "display_name": "Python 3"
    },
    "language_info": {
      "name": "python"
    },
    "accelerator": "GPU",
    "gpuClass": "standard",
    "widgets": {
      "application/vnd.jupyter.widget-state+json": {
        "2359c56f88024b5ab2934529efc59fc5": {
          "model_module": "@jupyter-widgets/controls",
          "model_name": "HBoxModel",
          "model_module_version": "1.5.0",
          "state": {
            "_dom_classes": [],
            "_model_module": "@jupyter-widgets/controls",
            "_model_module_version": "1.5.0",
            "_model_name": "HBoxModel",
            "_view_count": null,
            "_view_module": "@jupyter-widgets/controls",
            "_view_module_version": "1.5.0",
            "_view_name": "HBoxView",
            "box_style": "",
            "children": [
              "IPY_MODEL_c2daaeb7b3fd413792623a8e71294d9b",
              "IPY_MODEL_686789bb1b83469599340c1d8a7833b4",
              "IPY_MODEL_f6cffc8c9f8148b7bc87aa9357878a0e"
            ],
            "layout": "IPY_MODEL_7d4a182b83d74cf19a75a94850a1168c"
          }
        },
        "c2daaeb7b3fd413792623a8e71294d9b": {
          "model_module": "@jupyter-widgets/controls",
          "model_name": "HTMLModel",
          "model_module_version": "1.5.0",
          "state": {
            "_dom_classes": [],
            "_model_module": "@jupyter-widgets/controls",
            "_model_module_version": "1.5.0",
            "_model_name": "HTMLModel",
            "_view_count": null,
            "_view_module": "@jupyter-widgets/controls",
            "_view_module_version": "1.5.0",
            "_view_name": "HTMLView",
            "description": "",
            "description_tooltip": null,
            "layout": "IPY_MODEL_a5588718bf5648c2aca6655c9ce8d539",
            "placeholder": "​",
            "style": "IPY_MODEL_14c9a529565a4ab7b05b0c6303ad5eb4",
            "value": "100%"
          }
        },
        "686789bb1b83469599340c1d8a7833b4": {
          "model_module": "@jupyter-widgets/controls",
          "model_name": "FloatProgressModel",
          "model_module_version": "1.5.0",
          "state": {
            "_dom_classes": [],
            "_model_module": "@jupyter-widgets/controls",
            "_model_module_version": "1.5.0",
            "_model_name": "FloatProgressModel",
            "_view_count": null,
            "_view_module": "@jupyter-widgets/controls",
            "_view_module_version": "1.5.0",
            "_view_name": "ProgressView",
            "bar_style": "success",
            "description": "",
            "description_tooltip": null,
            "layout": "IPY_MODEL_133c06a9f3324c878d67e31e59585733",
            "max": 102530333,
            "min": 0,
            "orientation": "horizontal",
            "style": "IPY_MODEL_fde389ca85194cea984c3fbc002e104a",
            "value": 102530333
          }
        },
        "f6cffc8c9f8148b7bc87aa9357878a0e": {
          "model_module": "@jupyter-widgets/controls",
          "model_name": "HTMLModel",
          "model_module_version": "1.5.0",
          "state": {
            "_dom_classes": [],
            "_model_module": "@jupyter-widgets/controls",
            "_model_module_version": "1.5.0",
            "_model_name": "HTMLModel",
            "_view_count": null,
            "_view_module": "@jupyter-widgets/controls",
            "_view_module_version": "1.5.0",
            "_view_name": "HTMLView",
            "description": "",
            "description_tooltip": null,
            "layout": "IPY_MODEL_c2d0f5dc3e064dd2b5638824e8b5c1db",
            "placeholder": "​",
            "style": "IPY_MODEL_d262a450089441008d09e28790dfdd55",
            "value": " 97.8M/97.8M [00:02&lt;00:00, 125MB/s]"
          }
        },
        "7d4a182b83d74cf19a75a94850a1168c": {
          "model_module": "@jupyter-widgets/base",
          "model_name": "LayoutModel",
          "model_module_version": "1.2.0",
          "state": {
            "_model_module": "@jupyter-widgets/base",
            "_model_module_version": "1.2.0",
            "_model_name": "LayoutModel",
            "_view_count": null,
            "_view_module": "@jupyter-widgets/base",
            "_view_module_version": "1.2.0",
            "_view_name": "LayoutView",
            "align_content": null,
            "align_items": null,
            "align_self": null,
            "border": null,
            "bottom": null,
            "display": null,
            "flex": null,
            "flex_flow": null,
            "grid_area": null,
            "grid_auto_columns": null,
            "grid_auto_flow": null,
            "grid_auto_rows": null,
            "grid_column": null,
            "grid_gap": null,
            "grid_row": null,
            "grid_template_areas": null,
            "grid_template_columns": null,
            "grid_template_rows": null,
            "height": null,
            "justify_content": null,
            "justify_items": null,
            "left": null,
            "margin": null,
            "max_height": null,
            "max_width": null,
            "min_height": null,
            "min_width": null,
            "object_fit": null,
            "object_position": null,
            "order": null,
            "overflow": null,
            "overflow_x": null,
            "overflow_y": null,
            "padding": null,
            "right": null,
            "top": null,
            "visibility": null,
            "width": null
          }
        },
        "a5588718bf5648c2aca6655c9ce8d539": {
          "model_module": "@jupyter-widgets/base",
          "model_name": "LayoutModel",
          "model_module_version": "1.2.0",
          "state": {
            "_model_module": "@jupyter-widgets/base",
            "_model_module_version": "1.2.0",
            "_model_name": "LayoutModel",
            "_view_count": null,
            "_view_module": "@jupyter-widgets/base",
            "_view_module_version": "1.2.0",
            "_view_name": "LayoutView",
            "align_content": null,
            "align_items": null,
            "align_self": null,
            "border": null,
            "bottom": null,
            "display": null,
            "flex": null,
            "flex_flow": null,
            "grid_area": null,
            "grid_auto_columns": null,
            "grid_auto_flow": null,
            "grid_auto_rows": null,
            "grid_column": null,
            "grid_gap": null,
            "grid_row": null,
            "grid_template_areas": null,
            "grid_template_columns": null,
            "grid_template_rows": null,
            "height": null,
            "justify_content": null,
            "justify_items": null,
            "left": null,
            "margin": null,
            "max_height": null,
            "max_width": null,
            "min_height": null,
            "min_width": null,
            "object_fit": null,
            "object_position": null,
            "order": null,
            "overflow": null,
            "overflow_x": null,
            "overflow_y": null,
            "padding": null,
            "right": null,
            "top": null,
            "visibility": null,
            "width": null
          }
        },
        "14c9a529565a4ab7b05b0c6303ad5eb4": {
          "model_module": "@jupyter-widgets/controls",
          "model_name": "DescriptionStyleModel",
          "model_module_version": "1.5.0",
          "state": {
            "_model_module": "@jupyter-widgets/controls",
            "_model_module_version": "1.5.0",
            "_model_name": "DescriptionStyleModel",
            "_view_count": null,
            "_view_module": "@jupyter-widgets/base",
            "_view_module_version": "1.2.0",
            "_view_name": "StyleView",
            "description_width": ""
          }
        },
        "133c06a9f3324c878d67e31e59585733": {
          "model_module": "@jupyter-widgets/base",
          "model_name": "LayoutModel",
          "model_module_version": "1.2.0",
          "state": {
            "_model_module": "@jupyter-widgets/base",
            "_model_module_version": "1.2.0",
            "_model_name": "LayoutModel",
            "_view_count": null,
            "_view_module": "@jupyter-widgets/base",
            "_view_module_version": "1.2.0",
            "_view_name": "LayoutView",
            "align_content": null,
            "align_items": null,
            "align_self": null,
            "border": null,
            "bottom": null,
            "display": null,
            "flex": null,
            "flex_flow": null,
            "grid_area": null,
            "grid_auto_columns": null,
            "grid_auto_flow": null,
            "grid_auto_rows": null,
            "grid_column": null,
            "grid_gap": null,
            "grid_row": null,
            "grid_template_areas": null,
            "grid_template_columns": null,
            "grid_template_rows": null,
            "height": null,
            "justify_content": null,
            "justify_items": null,
            "left": null,
            "margin": null,
            "max_height": null,
            "max_width": null,
            "min_height": null,
            "min_width": null,
            "object_fit": null,
            "object_position": null,
            "order": null,
            "overflow": null,
            "overflow_x": null,
            "overflow_y": null,
            "padding": null,
            "right": null,
            "top": null,
            "visibility": null,
            "width": null
          }
        },
        "fde389ca85194cea984c3fbc002e104a": {
          "model_module": "@jupyter-widgets/controls",
          "model_name": "ProgressStyleModel",
          "model_module_version": "1.5.0",
          "state": {
            "_model_module": "@jupyter-widgets/controls",
            "_model_module_version": "1.5.0",
            "_model_name": "ProgressStyleModel",
            "_view_count": null,
            "_view_module": "@jupyter-widgets/base",
            "_view_module_version": "1.2.0",
            "_view_name": "StyleView",
            "bar_color": null,
            "description_width": ""
          }
        },
        "c2d0f5dc3e064dd2b5638824e8b5c1db": {
          "model_module": "@jupyter-widgets/base",
          "model_name": "LayoutModel",
          "model_module_version": "1.2.0",
          "state": {
            "_model_module": "@jupyter-widgets/base",
            "_model_module_version": "1.2.0",
            "_model_name": "LayoutModel",
            "_view_count": null,
            "_view_module": "@jupyter-widgets/base",
            "_view_module_version": "1.2.0",
            "_view_name": "LayoutView",
            "align_content": null,
            "align_items": null,
            "align_self": null,
            "border": null,
            "bottom": null,
            "display": null,
            "flex": null,
            "flex_flow": null,
            "grid_area": null,
            "grid_auto_columns": null,
            "grid_auto_flow": null,
            "grid_auto_rows": null,
            "grid_column": null,
            "grid_gap": null,
            "grid_row": null,
            "grid_template_areas": null,
            "grid_template_columns": null,
            "grid_template_rows": null,
            "height": null,
            "justify_content": null,
            "justify_items": null,
            "left": null,
            "margin": null,
            "max_height": null,
            "max_width": null,
            "min_height": null,
            "min_width": null,
            "object_fit": null,
            "object_position": null,
            "order": null,
            "overflow": null,
            "overflow_x": null,
            "overflow_y": null,
            "padding": null,
            "right": null,
            "top": null,
            "visibility": null,
            "width": null
          }
        },
        "d262a450089441008d09e28790dfdd55": {
          "model_module": "@jupyter-widgets/controls",
          "model_name": "DescriptionStyleModel",
          "model_module_version": "1.5.0",
          "state": {
            "_model_module": "@jupyter-widgets/controls",
            "_model_module_version": "1.5.0",
            "_model_name": "DescriptionStyleModel",
            "_view_count": null,
            "_view_module": "@jupyter-widgets/base",
            "_view_module_version": "1.2.0",
            "_view_name": "StyleView",
            "description_width": ""
          }
        },
        "583f2e410c0e459b91e8ee48411a92d6": {
          "model_module": "@jupyter-widgets/controls",
          "model_name": "HBoxModel",
          "model_module_version": "1.5.0",
          "state": {
            "_dom_classes": [],
            "_model_module": "@jupyter-widgets/controls",
            "_model_module_version": "1.5.0",
            "_model_name": "HBoxModel",
            "_view_count": null,
            "_view_module": "@jupyter-widgets/controls",
            "_view_module_version": "1.5.0",
            "_view_name": "HBoxView",
            "box_style": "",
            "children": [
              "IPY_MODEL_2e815a21dd7d4da5859f0d50ab27aa39",
              "IPY_MODEL_132de72019704650836c8d0f9edf9bc1",
              "IPY_MODEL_6e03717cfe694293a217107817b90456"
            ],
            "layout": "IPY_MODEL_2c2fdcc9f450478e92e899bfbabfde5f"
          }
        },
        "2e815a21dd7d4da5859f0d50ab27aa39": {
          "model_module": "@jupyter-widgets/controls",
          "model_name": "HTMLModel",
          "model_module_version": "1.5.0",
          "state": {
            "_dom_classes": [],
            "_model_module": "@jupyter-widgets/controls",
            "_model_module_version": "1.5.0",
            "_model_name": "HTMLModel",
            "_view_count": null,
            "_view_module": "@jupyter-widgets/controls",
            "_view_module_version": "1.5.0",
            "_view_name": "HTMLView",
            "description": "",
            "description_tooltip": null,
            "layout": "IPY_MODEL_f14d46a89d194381921933bad4aa5b9c",
            "placeholder": "​",
            "style": "IPY_MODEL_e8681693f8fa49cd9b379fa520474d44",
            "value": "100%"
          }
        },
        "132de72019704650836c8d0f9edf9bc1": {
          "model_module": "@jupyter-widgets/controls",
          "model_name": "FloatProgressModel",
          "model_module_version": "1.5.0",
          "state": {
            "_dom_classes": [],
            "_model_module": "@jupyter-widgets/controls",
            "_model_module_version": "1.5.0",
            "_model_name": "FloatProgressModel",
            "_view_count": null,
            "_view_module": "@jupyter-widgets/controls",
            "_view_module_version": "1.5.0",
            "_view_name": "ProgressView",
            "bar_style": "success",
            "description": "",
            "description_tooltip": null,
            "layout": "IPY_MODEL_daaebcf011174456b56d2cb4105e5a53",
            "max": 170498071,
            "min": 0,
            "orientation": "horizontal",
            "style": "IPY_MODEL_41f913c95fc8493c952735d552c308a7",
            "value": 170498071
          }
        },
        "6e03717cfe694293a217107817b90456": {
          "model_module": "@jupyter-widgets/controls",
          "model_name": "HTMLModel",
          "model_module_version": "1.5.0",
          "state": {
            "_dom_classes": [],
            "_model_module": "@jupyter-widgets/controls",
            "_model_module_version": "1.5.0",
            "_model_name": "HTMLModel",
            "_view_count": null,
            "_view_module": "@jupyter-widgets/controls",
            "_view_module_version": "1.5.0",
            "_view_name": "HTMLView",
            "description": "",
            "description_tooltip": null,
            "layout": "IPY_MODEL_651b6329b9ea46699c576b6a89393457",
            "placeholder": "​",
            "style": "IPY_MODEL_a077b31a308d467a8bc58ba869fd1c22",
            "value": " 170498071/170498071 [00:14&lt;00:00, 13424159.01it/s]"
          }
        },
        "2c2fdcc9f450478e92e899bfbabfde5f": {
          "model_module": "@jupyter-widgets/base",
          "model_name": "LayoutModel",
          "model_module_version": "1.2.0",
          "state": {
            "_model_module": "@jupyter-widgets/base",
            "_model_module_version": "1.2.0",
            "_model_name": "LayoutModel",
            "_view_count": null,
            "_view_module": "@jupyter-widgets/base",
            "_view_module_version": "1.2.0",
            "_view_name": "LayoutView",
            "align_content": null,
            "align_items": null,
            "align_self": null,
            "border": null,
            "bottom": null,
            "display": null,
            "flex": null,
            "flex_flow": null,
            "grid_area": null,
            "grid_auto_columns": null,
            "grid_auto_flow": null,
            "grid_auto_rows": null,
            "grid_column": null,
            "grid_gap": null,
            "grid_row": null,
            "grid_template_areas": null,
            "grid_template_columns": null,
            "grid_template_rows": null,
            "height": null,
            "justify_content": null,
            "justify_items": null,
            "left": null,
            "margin": null,
            "max_height": null,
            "max_width": null,
            "min_height": null,
            "min_width": null,
            "object_fit": null,
            "object_position": null,
            "order": null,
            "overflow": null,
            "overflow_x": null,
            "overflow_y": null,
            "padding": null,
            "right": null,
            "top": null,
            "visibility": null,
            "width": null
          }
        },
        "f14d46a89d194381921933bad4aa5b9c": {
          "model_module": "@jupyter-widgets/base",
          "model_name": "LayoutModel",
          "model_module_version": "1.2.0",
          "state": {
            "_model_module": "@jupyter-widgets/base",
            "_model_module_version": "1.2.0",
            "_model_name": "LayoutModel",
            "_view_count": null,
            "_view_module": "@jupyter-widgets/base",
            "_view_module_version": "1.2.0",
            "_view_name": "LayoutView",
            "align_content": null,
            "align_items": null,
            "align_self": null,
            "border": null,
            "bottom": null,
            "display": null,
            "flex": null,
            "flex_flow": null,
            "grid_area": null,
            "grid_auto_columns": null,
            "grid_auto_flow": null,
            "grid_auto_rows": null,
            "grid_column": null,
            "grid_gap": null,
            "grid_row": null,
            "grid_template_areas": null,
            "grid_template_columns": null,
            "grid_template_rows": null,
            "height": null,
            "justify_content": null,
            "justify_items": null,
            "left": null,
            "margin": null,
            "max_height": null,
            "max_width": null,
            "min_height": null,
            "min_width": null,
            "object_fit": null,
            "object_position": null,
            "order": null,
            "overflow": null,
            "overflow_x": null,
            "overflow_y": null,
            "padding": null,
            "right": null,
            "top": null,
            "visibility": null,
            "width": null
          }
        },
        "e8681693f8fa49cd9b379fa520474d44": {
          "model_module": "@jupyter-widgets/controls",
          "model_name": "DescriptionStyleModel",
          "model_module_version": "1.5.0",
          "state": {
            "_model_module": "@jupyter-widgets/controls",
            "_model_module_version": "1.5.0",
            "_model_name": "DescriptionStyleModel",
            "_view_count": null,
            "_view_module": "@jupyter-widgets/base",
            "_view_module_version": "1.2.0",
            "_view_name": "StyleView",
            "description_width": ""
          }
        },
        "daaebcf011174456b56d2cb4105e5a53": {
          "model_module": "@jupyter-widgets/base",
          "model_name": "LayoutModel",
          "model_module_version": "1.2.0",
          "state": {
            "_model_module": "@jupyter-widgets/base",
            "_model_module_version": "1.2.0",
            "_model_name": "LayoutModel",
            "_view_count": null,
            "_view_module": "@jupyter-widgets/base",
            "_view_module_version": "1.2.0",
            "_view_name": "LayoutView",
            "align_content": null,
            "align_items": null,
            "align_self": null,
            "border": null,
            "bottom": null,
            "display": null,
            "flex": null,
            "flex_flow": null,
            "grid_area": null,
            "grid_auto_columns": null,
            "grid_auto_flow": null,
            "grid_auto_rows": null,
            "grid_column": null,
            "grid_gap": null,
            "grid_row": null,
            "grid_template_areas": null,
            "grid_template_columns": null,
            "grid_template_rows": null,
            "height": null,
            "justify_content": null,
            "justify_items": null,
            "left": null,
            "margin": null,
            "max_height": null,
            "max_width": null,
            "min_height": null,
            "min_width": null,
            "object_fit": null,
            "object_position": null,
            "order": null,
            "overflow": null,
            "overflow_x": null,
            "overflow_y": null,
            "padding": null,
            "right": null,
            "top": null,
            "visibility": null,
            "width": null
          }
        },
        "41f913c95fc8493c952735d552c308a7": {
          "model_module": "@jupyter-widgets/controls",
          "model_name": "ProgressStyleModel",
          "model_module_version": "1.5.0",
          "state": {
            "_model_module": "@jupyter-widgets/controls",
            "_model_module_version": "1.5.0",
            "_model_name": "ProgressStyleModel",
            "_view_count": null,
            "_view_module": "@jupyter-widgets/base",
            "_view_module_version": "1.2.0",
            "_view_name": "StyleView",
            "bar_color": null,
            "description_width": ""
          }
        },
        "651b6329b9ea46699c576b6a89393457": {
          "model_module": "@jupyter-widgets/base",
          "model_name": "LayoutModel",
          "model_module_version": "1.2.0",
          "state": {
            "_model_module": "@jupyter-widgets/base",
            "_model_module_version": "1.2.0",
            "_model_name": "LayoutModel",
            "_view_count": null,
            "_view_module": "@jupyter-widgets/base",
            "_view_module_version": "1.2.0",
            "_view_name": "LayoutView",
            "align_content": null,
            "align_items": null,
            "align_self": null,
            "border": null,
            "bottom": null,
            "display": null,
            "flex": null,
            "flex_flow": null,
            "grid_area": null,
            "grid_auto_columns": null,
            "grid_auto_flow": null,
            "grid_auto_rows": null,
            "grid_column": null,
            "grid_gap": null,
            "grid_row": null,
            "grid_template_areas": null,
            "grid_template_columns": null,
            "grid_template_rows": null,
            "height": null,
            "justify_content": null,
            "justify_items": null,
            "left": null,
            "margin": null,
            "max_height": null,
            "max_width": null,
            "min_height": null,
            "min_width": null,
            "object_fit": null,
            "object_position": null,
            "order": null,
            "overflow": null,
            "overflow_x": null,
            "overflow_y": null,
            "padding": null,
            "right": null,
            "top": null,
            "visibility": null,
            "width": null
          }
        },
        "a077b31a308d467a8bc58ba869fd1c22": {
          "model_module": "@jupyter-widgets/controls",
          "model_name": "DescriptionStyleModel",
          "model_module_version": "1.5.0",
          "state": {
            "_model_module": "@jupyter-widgets/controls",
            "_model_module_version": "1.5.0",
            "_model_name": "DescriptionStyleModel",
            "_view_count": null,
            "_view_module": "@jupyter-widgets/base",
            "_view_module_version": "1.2.0",
            "_view_name": "StyleView",
            "description_width": ""
          }
        },
        "387ad6dafd0445faa8e2a59d32cf10d0": {
          "model_module": "@jupyter-widgets/controls",
          "model_name": "HBoxModel",
          "model_module_version": "1.5.0",
          "state": {
            "_dom_classes": [],
            "_model_module": "@jupyter-widgets/controls",
            "_model_module_version": "1.5.0",
            "_model_name": "HBoxModel",
            "_view_count": null,
            "_view_module": "@jupyter-widgets/controls",
            "_view_module_version": "1.5.0",
            "_view_name": "HBoxView",
            "box_style": "",
            "children": [
              "IPY_MODEL_975c36ad27354d2ab7111f76839cdff5",
              "IPY_MODEL_7c996e40f8c84e1abfae069a9afb3957",
              "IPY_MODEL_1283b08572d34888bbc3131c072ae3b5"
            ],
            "layout": "IPY_MODEL_3728bd29a40546dd887099c5c8748250"
          }
        },
        "975c36ad27354d2ab7111f76839cdff5": {
          "model_module": "@jupyter-widgets/controls",
          "model_name": "HTMLModel",
          "model_module_version": "1.5.0",
          "state": {
            "_dom_classes": [],
            "_model_module": "@jupyter-widgets/controls",
            "_model_module_version": "1.5.0",
            "_model_name": "HTMLModel",
            "_view_count": null,
            "_view_module": "@jupyter-widgets/controls",
            "_view_module_version": "1.5.0",
            "_view_name": "HTMLView",
            "description": "",
            "description_tooltip": null,
            "layout": "IPY_MODEL_741a6aeecf204ee4b5a339c7a3bff532",
            "placeholder": "​",
            "style": "IPY_MODEL_2f9fe201d9c64b469ee857c9501be67c",
            "value": "100%"
          }
        },
        "7c996e40f8c84e1abfae069a9afb3957": {
          "model_module": "@jupyter-widgets/controls",
          "model_name": "FloatProgressModel",
          "model_module_version": "1.5.0",
          "state": {
            "_dom_classes": [],
            "_model_module": "@jupyter-widgets/controls",
            "_model_module_version": "1.5.0",
            "_model_name": "FloatProgressModel",
            "_view_count": null,
            "_view_module": "@jupyter-widgets/controls",
            "_view_module_version": "1.5.0",
            "_view_name": "ProgressView",
            "bar_style": "success",
            "description": "",
            "description_tooltip": null,
            "layout": "IPY_MODEL_2fd4f65360b941489eb95fdc32145db9",
            "max": 94280567,
            "min": 0,
            "orientation": "horizontal",
            "style": "IPY_MODEL_5cf2b68b8a6849b08515b39797018fc2",
            "value": 94280567
          }
        },
        "1283b08572d34888bbc3131c072ae3b5": {
          "model_module": "@jupyter-widgets/controls",
          "model_name": "HTMLModel",
          "model_module_version": "1.5.0",
          "state": {
            "_dom_classes": [],
            "_model_module": "@jupyter-widgets/controls",
            "_model_module_version": "1.5.0",
            "_model_name": "HTMLModel",
            "_view_count": null,
            "_view_module": "@jupyter-widgets/controls",
            "_view_module_version": "1.5.0",
            "_view_name": "HTMLView",
            "description": "",
            "description_tooltip": null,
            "layout": "IPY_MODEL_94a7f3d278f34ac6b187ba5c44e83e6d",
            "placeholder": "​",
            "style": "IPY_MODEL_b750606d63374e6384d5713b2b6ed387",
            "value": " 94280567/94280567 [00:07&lt;00:00, 15469206.30it/s]"
          }
        },
        "3728bd29a40546dd887099c5c8748250": {
          "model_module": "@jupyter-widgets/base",
          "model_name": "LayoutModel",
          "model_module_version": "1.2.0",
          "state": {
            "_model_module": "@jupyter-widgets/base",
            "_model_module_version": "1.2.0",
            "_model_name": "LayoutModel",
            "_view_count": null,
            "_view_module": "@jupyter-widgets/base",
            "_view_module_version": "1.2.0",
            "_view_name": "LayoutView",
            "align_content": null,
            "align_items": null,
            "align_self": null,
            "border": null,
            "bottom": null,
            "display": null,
            "flex": null,
            "flex_flow": null,
            "grid_area": null,
            "grid_auto_columns": null,
            "grid_auto_flow": null,
            "grid_auto_rows": null,
            "grid_column": null,
            "grid_gap": null,
            "grid_row": null,
            "grid_template_areas": null,
            "grid_template_columns": null,
            "grid_template_rows": null,
            "height": null,
            "justify_content": null,
            "justify_items": null,
            "left": null,
            "margin": null,
            "max_height": null,
            "max_width": null,
            "min_height": null,
            "min_width": null,
            "object_fit": null,
            "object_position": null,
            "order": null,
            "overflow": null,
            "overflow_x": null,
            "overflow_y": null,
            "padding": null,
            "right": null,
            "top": null,
            "visibility": null,
            "width": null
          }
        },
        "741a6aeecf204ee4b5a339c7a3bff532": {
          "model_module": "@jupyter-widgets/base",
          "model_name": "LayoutModel",
          "model_module_version": "1.2.0",
          "state": {
            "_model_module": "@jupyter-widgets/base",
            "_model_module_version": "1.2.0",
            "_model_name": "LayoutModel",
            "_view_count": null,
            "_view_module": "@jupyter-widgets/base",
            "_view_module_version": "1.2.0",
            "_view_name": "LayoutView",
            "align_content": null,
            "align_items": null,
            "align_self": null,
            "border": null,
            "bottom": null,
            "display": null,
            "flex": null,
            "flex_flow": null,
            "grid_area": null,
            "grid_auto_columns": null,
            "grid_auto_flow": null,
            "grid_auto_rows": null,
            "grid_column": null,
            "grid_gap": null,
            "grid_row": null,
            "grid_template_areas": null,
            "grid_template_columns": null,
            "grid_template_rows": null,
            "height": null,
            "justify_content": null,
            "justify_items": null,
            "left": null,
            "margin": null,
            "max_height": null,
            "max_width": null,
            "min_height": null,
            "min_width": null,
            "object_fit": null,
            "object_position": null,
            "order": null,
            "overflow": null,
            "overflow_x": null,
            "overflow_y": null,
            "padding": null,
            "right": null,
            "top": null,
            "visibility": null,
            "width": null
          }
        },
        "2f9fe201d9c64b469ee857c9501be67c": {
          "model_module": "@jupyter-widgets/controls",
          "model_name": "DescriptionStyleModel",
          "model_module_version": "1.5.0",
          "state": {
            "_model_module": "@jupyter-widgets/controls",
            "_model_module_version": "1.5.0",
            "_model_name": "DescriptionStyleModel",
            "_view_count": null,
            "_view_module": "@jupyter-widgets/base",
            "_view_module_version": "1.2.0",
            "_view_name": "StyleView",
            "description_width": ""
          }
        },
        "2fd4f65360b941489eb95fdc32145db9": {
          "model_module": "@jupyter-widgets/base",
          "model_name": "LayoutModel",
          "model_module_version": "1.2.0",
          "state": {
            "_model_module": "@jupyter-widgets/base",
            "_model_module_version": "1.2.0",
            "_model_name": "LayoutModel",
            "_view_count": null,
            "_view_module": "@jupyter-widgets/base",
            "_view_module_version": "1.2.0",
            "_view_name": "LayoutView",
            "align_content": null,
            "align_items": null,
            "align_self": null,
            "border": null,
            "bottom": null,
            "display": null,
            "flex": null,
            "flex_flow": null,
            "grid_area": null,
            "grid_auto_columns": null,
            "grid_auto_flow": null,
            "grid_auto_rows": null,
            "grid_column": null,
            "grid_gap": null,
            "grid_row": null,
            "grid_template_areas": null,
            "grid_template_columns": null,
            "grid_template_rows": null,
            "height": null,
            "justify_content": null,
            "justify_items": null,
            "left": null,
            "margin": null,
            "max_height": null,
            "max_width": null,
            "min_height": null,
            "min_width": null,
            "object_fit": null,
            "object_position": null,
            "order": null,
            "overflow": null,
            "overflow_x": null,
            "overflow_y": null,
            "padding": null,
            "right": null,
            "top": null,
            "visibility": null,
            "width": null
          }
        },
        "5cf2b68b8a6849b08515b39797018fc2": {
          "model_module": "@jupyter-widgets/controls",
          "model_name": "ProgressStyleModel",
          "model_module_version": "1.5.0",
          "state": {
            "_model_module": "@jupyter-widgets/controls",
            "_model_module_version": "1.5.0",
            "_model_name": "ProgressStyleModel",
            "_view_count": null,
            "_view_module": "@jupyter-widgets/base",
            "_view_module_version": "1.2.0",
            "_view_name": "StyleView",
            "bar_color": null,
            "description_width": ""
          }
        },
        "94a7f3d278f34ac6b187ba5c44e83e6d": {
          "model_module": "@jupyter-widgets/base",
          "model_name": "LayoutModel",
          "model_module_version": "1.2.0",
          "state": {
            "_model_module": "@jupyter-widgets/base",
            "_model_module_version": "1.2.0",
            "_model_name": "LayoutModel",
            "_view_count": null,
            "_view_module": "@jupyter-widgets/base",
            "_view_module_version": "1.2.0",
            "_view_name": "LayoutView",
            "align_content": null,
            "align_items": null,
            "align_self": null,
            "border": null,
            "bottom": null,
            "display": null,
            "flex": null,
            "flex_flow": null,
            "grid_area": null,
            "grid_auto_columns": null,
            "grid_auto_flow": null,
            "grid_auto_rows": null,
            "grid_column": null,
            "grid_gap": null,
            "grid_row": null,
            "grid_template_areas": null,
            "grid_template_columns": null,
            "grid_template_rows": null,
            "height": null,
            "justify_content": null,
            "justify_items": null,
            "left": null,
            "margin": null,
            "max_height": null,
            "max_width": null,
            "min_height": null,
            "min_width": null,
            "object_fit": null,
            "object_position": null,
            "order": null,
            "overflow": null,
            "overflow_x": null,
            "overflow_y": null,
            "padding": null,
            "right": null,
            "top": null,
            "visibility": null,
            "width": null
          }
        },
        "b750606d63374e6384d5713b2b6ed387": {
          "model_module": "@jupyter-widgets/controls",
          "model_name": "DescriptionStyleModel",
          "model_module_version": "1.5.0",
          "state": {
            "_model_module": "@jupyter-widgets/controls",
            "_model_module_version": "1.5.0",
            "_model_name": "DescriptionStyleModel",
            "_view_count": null,
            "_view_module": "@jupyter-widgets/base",
            "_view_module_version": "1.2.0",
            "_view_name": "StyleView",
            "description_width": ""
          }
        },
        "e6050e6ad25e4e3cab64686a439040bc": {
          "model_module": "@jupyter-widgets/controls",
          "model_name": "HBoxModel",
          "model_module_version": "1.5.0",
          "state": {
            "_dom_classes": [],
            "_model_module": "@jupyter-widgets/controls",
            "_model_module_version": "1.5.0",
            "_model_name": "HBoxModel",
            "_view_count": null,
            "_view_module": "@jupyter-widgets/controls",
            "_view_module_version": "1.5.0",
            "_view_name": "HBoxView",
            "box_style": "",
            "children": [
              "IPY_MODEL_c704096f03d6438c8979296688a0aeba",
              "IPY_MODEL_2c77fb255c9c4d9e9f0c1c1a47a3920b",
              "IPY_MODEL_3e79615def624332be4c775319ea06f6"
            ],
            "layout": "IPY_MODEL_5d59987329cf40c58778b3c4157b8189"
          }
        },
        "c704096f03d6438c8979296688a0aeba": {
          "model_module": "@jupyter-widgets/controls",
          "model_name": "HTMLModel",
          "model_module_version": "1.5.0",
          "state": {
            "_dom_classes": [],
            "_model_module": "@jupyter-widgets/controls",
            "_model_module_version": "1.5.0",
            "_model_name": "HTMLModel",
            "_view_count": null,
            "_view_module": "@jupyter-widgets/controls",
            "_view_module_version": "1.5.0",
            "_view_name": "HTMLView",
            "description": "",
            "description_tooltip": null,
            "layout": "IPY_MODEL_b23c505781a64246bd407c358d41b58a",
            "placeholder": "​",
            "style": "IPY_MODEL_546ce93734f64892b46266c558195752",
            "value": "100%"
          }
        },
        "2c77fb255c9c4d9e9f0c1c1a47a3920b": {
          "model_module": "@jupyter-widgets/controls",
          "model_name": "FloatProgressModel",
          "model_module_version": "1.5.0",
          "state": {
            "_dom_classes": [],
            "_model_module": "@jupyter-widgets/controls",
            "_model_module_version": "1.5.0",
            "_model_name": "FloatProgressModel",
            "_view_count": null,
            "_view_module": "@jupyter-widgets/controls",
            "_view_module_version": "1.5.0",
            "_view_name": "ProgressView",
            "bar_style": "success",
            "description": "",
            "description_tooltip": null,
            "layout": "IPY_MODEL_c20f17fbb60b4651951bf38a9565c81d",
            "max": 9912422,
            "min": 0,
            "orientation": "horizontal",
            "style": "IPY_MODEL_186009bb4a4e463e8d1cfb38c547746e",
            "value": 9912422
          }
        },
        "3e79615def624332be4c775319ea06f6": {
          "model_module": "@jupyter-widgets/controls",
          "model_name": "HTMLModel",
          "model_module_version": "1.5.0",
          "state": {
            "_dom_classes": [],
            "_model_module": "@jupyter-widgets/controls",
            "_model_module_version": "1.5.0",
            "_model_name": "HTMLModel",
            "_view_count": null,
            "_view_module": "@jupyter-widgets/controls",
            "_view_module_version": "1.5.0",
            "_view_name": "HTMLView",
            "description": "",
            "description_tooltip": null,
            "layout": "IPY_MODEL_0b74777d2c1b4352a9b97307229a09c1",
            "placeholder": "​",
            "style": "IPY_MODEL_69bc629777834c309422bf1c8bea82b9",
            "value": " 9912422/9912422 [00:00&lt;00:00, 89282812.96it/s]"
          }
        },
        "5d59987329cf40c58778b3c4157b8189": {
          "model_module": "@jupyter-widgets/base",
          "model_name": "LayoutModel",
          "model_module_version": "1.2.0",
          "state": {
            "_model_module": "@jupyter-widgets/base",
            "_model_module_version": "1.2.0",
            "_model_name": "LayoutModel",
            "_view_count": null,
            "_view_module": "@jupyter-widgets/base",
            "_view_module_version": "1.2.0",
            "_view_name": "LayoutView",
            "align_content": null,
            "align_items": null,
            "align_self": null,
            "border": null,
            "bottom": null,
            "display": null,
            "flex": null,
            "flex_flow": null,
            "grid_area": null,
            "grid_auto_columns": null,
            "grid_auto_flow": null,
            "grid_auto_rows": null,
            "grid_column": null,
            "grid_gap": null,
            "grid_row": null,
            "grid_template_areas": null,
            "grid_template_columns": null,
            "grid_template_rows": null,
            "height": null,
            "justify_content": null,
            "justify_items": null,
            "left": null,
            "margin": null,
            "max_height": null,
            "max_width": null,
            "min_height": null,
            "min_width": null,
            "object_fit": null,
            "object_position": null,
            "order": null,
            "overflow": null,
            "overflow_x": null,
            "overflow_y": null,
            "padding": null,
            "right": null,
            "top": null,
            "visibility": null,
            "width": null
          }
        },
        "b23c505781a64246bd407c358d41b58a": {
          "model_module": "@jupyter-widgets/base",
          "model_name": "LayoutModel",
          "model_module_version": "1.2.0",
          "state": {
            "_model_module": "@jupyter-widgets/base",
            "_model_module_version": "1.2.0",
            "_model_name": "LayoutModel",
            "_view_count": null,
            "_view_module": "@jupyter-widgets/base",
            "_view_module_version": "1.2.0",
            "_view_name": "LayoutView",
            "align_content": null,
            "align_items": null,
            "align_self": null,
            "border": null,
            "bottom": null,
            "display": null,
            "flex": null,
            "flex_flow": null,
            "grid_area": null,
            "grid_auto_columns": null,
            "grid_auto_flow": null,
            "grid_auto_rows": null,
            "grid_column": null,
            "grid_gap": null,
            "grid_row": null,
            "grid_template_areas": null,
            "grid_template_columns": null,
            "grid_template_rows": null,
            "height": null,
            "justify_content": null,
            "justify_items": null,
            "left": null,
            "margin": null,
            "max_height": null,
            "max_width": null,
            "min_height": null,
            "min_width": null,
            "object_fit": null,
            "object_position": null,
            "order": null,
            "overflow": null,
            "overflow_x": null,
            "overflow_y": null,
            "padding": null,
            "right": null,
            "top": null,
            "visibility": null,
            "width": null
          }
        },
        "546ce93734f64892b46266c558195752": {
          "model_module": "@jupyter-widgets/controls",
          "model_name": "DescriptionStyleModel",
          "model_module_version": "1.5.0",
          "state": {
            "_model_module": "@jupyter-widgets/controls",
            "_model_module_version": "1.5.0",
            "_model_name": "DescriptionStyleModel",
            "_view_count": null,
            "_view_module": "@jupyter-widgets/base",
            "_view_module_version": "1.2.0",
            "_view_name": "StyleView",
            "description_width": ""
          }
        },
        "c20f17fbb60b4651951bf38a9565c81d": {
          "model_module": "@jupyter-widgets/base",
          "model_name": "LayoutModel",
          "model_module_version": "1.2.0",
          "state": {
            "_model_module": "@jupyter-widgets/base",
            "_model_module_version": "1.2.0",
            "_model_name": "LayoutModel",
            "_view_count": null,
            "_view_module": "@jupyter-widgets/base",
            "_view_module_version": "1.2.0",
            "_view_name": "LayoutView",
            "align_content": null,
            "align_items": null,
            "align_self": null,
            "border": null,
            "bottom": null,
            "display": null,
            "flex": null,
            "flex_flow": null,
            "grid_area": null,
            "grid_auto_columns": null,
            "grid_auto_flow": null,
            "grid_auto_rows": null,
            "grid_column": null,
            "grid_gap": null,
            "grid_row": null,
            "grid_template_areas": null,
            "grid_template_columns": null,
            "grid_template_rows": null,
            "height": null,
            "justify_content": null,
            "justify_items": null,
            "left": null,
            "margin": null,
            "max_height": null,
            "max_width": null,
            "min_height": null,
            "min_width": null,
            "object_fit": null,
            "object_position": null,
            "order": null,
            "overflow": null,
            "overflow_x": null,
            "overflow_y": null,
            "padding": null,
            "right": null,
            "top": null,
            "visibility": null,
            "width": null
          }
        },
        "186009bb4a4e463e8d1cfb38c547746e": {
          "model_module": "@jupyter-widgets/controls",
          "model_name": "ProgressStyleModel",
          "model_module_version": "1.5.0",
          "state": {
            "_model_module": "@jupyter-widgets/controls",
            "_model_module_version": "1.5.0",
            "_model_name": "ProgressStyleModel",
            "_view_count": null,
            "_view_module": "@jupyter-widgets/base",
            "_view_module_version": "1.2.0",
            "_view_name": "StyleView",
            "bar_color": null,
            "description_width": ""
          }
        },
        "0b74777d2c1b4352a9b97307229a09c1": {
          "model_module": "@jupyter-widgets/base",
          "model_name": "LayoutModel",
          "model_module_version": "1.2.0",
          "state": {
            "_model_module": "@jupyter-widgets/base",
            "_model_module_version": "1.2.0",
            "_model_name": "LayoutModel",
            "_view_count": null,
            "_view_module": "@jupyter-widgets/base",
            "_view_module_version": "1.2.0",
            "_view_name": "LayoutView",
            "align_content": null,
            "align_items": null,
            "align_self": null,
            "border": null,
            "bottom": null,
            "display": null,
            "flex": null,
            "flex_flow": null,
            "grid_area": null,
            "grid_auto_columns": null,
            "grid_auto_flow": null,
            "grid_auto_rows": null,
            "grid_column": null,
            "grid_gap": null,
            "grid_row": null,
            "grid_template_areas": null,
            "grid_template_columns": null,
            "grid_template_rows": null,
            "height": null,
            "justify_content": null,
            "justify_items": null,
            "left": null,
            "margin": null,
            "max_height": null,
            "max_width": null,
            "min_height": null,
            "min_width": null,
            "object_fit": null,
            "object_position": null,
            "order": null,
            "overflow": null,
            "overflow_x": null,
            "overflow_y": null,
            "padding": null,
            "right": null,
            "top": null,
            "visibility": null,
            "width": null
          }
        },
        "69bc629777834c309422bf1c8bea82b9": {
          "model_module": "@jupyter-widgets/controls",
          "model_name": "DescriptionStyleModel",
          "model_module_version": "1.5.0",
          "state": {
            "_model_module": "@jupyter-widgets/controls",
            "_model_module_version": "1.5.0",
            "_model_name": "DescriptionStyleModel",
            "_view_count": null,
            "_view_module": "@jupyter-widgets/base",
            "_view_module_version": "1.2.0",
            "_view_name": "StyleView",
            "description_width": ""
          }
        },
        "ddddedaa1c604119972d1b73cc04a157": {
          "model_module": "@jupyter-widgets/controls",
          "model_name": "HBoxModel",
          "model_module_version": "1.5.0",
          "state": {
            "_dom_classes": [],
            "_model_module": "@jupyter-widgets/controls",
            "_model_module_version": "1.5.0",
            "_model_name": "HBoxModel",
            "_view_count": null,
            "_view_module": "@jupyter-widgets/controls",
            "_view_module_version": "1.5.0",
            "_view_name": "HBoxView",
            "box_style": "",
            "children": [
              "IPY_MODEL_91914766557242e4aba1da5a9aa3d0f9",
              "IPY_MODEL_d509edf40e5f4a2eae4f95d809d79aac",
              "IPY_MODEL_444287574d2b4e3b94e8d65bd694163d"
            ],
            "layout": "IPY_MODEL_5f128148f9bf4e0d9fbac375a0019549"
          }
        },
        "91914766557242e4aba1da5a9aa3d0f9": {
          "model_module": "@jupyter-widgets/controls",
          "model_name": "HTMLModel",
          "model_module_version": "1.5.0",
          "state": {
            "_dom_classes": [],
            "_model_module": "@jupyter-widgets/controls",
            "_model_module_version": "1.5.0",
            "_model_name": "HTMLModel",
            "_view_count": null,
            "_view_module": "@jupyter-widgets/controls",
            "_view_module_version": "1.5.0",
            "_view_name": "HTMLView",
            "description": "",
            "description_tooltip": null,
            "layout": "IPY_MODEL_10a34350c8b54bc4a5da3580b410d808",
            "placeholder": "​",
            "style": "IPY_MODEL_cac5143bf3fe4d738023bfd05e67f690",
            "value": "100%"
          }
        },
        "d509edf40e5f4a2eae4f95d809d79aac": {
          "model_module": "@jupyter-widgets/controls",
          "model_name": "FloatProgressModel",
          "model_module_version": "1.5.0",
          "state": {
            "_dom_classes": [],
            "_model_module": "@jupyter-widgets/controls",
            "_model_module_version": "1.5.0",
            "_model_name": "FloatProgressModel",
            "_view_count": null,
            "_view_module": "@jupyter-widgets/controls",
            "_view_module_version": "1.5.0",
            "_view_name": "ProgressView",
            "bar_style": "success",
            "description": "",
            "description_tooltip": null,
            "layout": "IPY_MODEL_8462e2a3ec96489a933c4b705136e2ce",
            "max": 28881,
            "min": 0,
            "orientation": "horizontal",
            "style": "IPY_MODEL_bfa71e8e70dc4fde9fb01d8bdfd93fed",
            "value": 28881
          }
        },
        "444287574d2b4e3b94e8d65bd694163d": {
          "model_module": "@jupyter-widgets/controls",
          "model_name": "HTMLModel",
          "model_module_version": "1.5.0",
          "state": {
            "_dom_classes": [],
            "_model_module": "@jupyter-widgets/controls",
            "_model_module_version": "1.5.0",
            "_model_name": "HTMLModel",
            "_view_count": null,
            "_view_module": "@jupyter-widgets/controls",
            "_view_module_version": "1.5.0",
            "_view_name": "HTMLView",
            "description": "",
            "description_tooltip": null,
            "layout": "IPY_MODEL_a64847b707144f78b713b2c6d4ec98d3",
            "placeholder": "​",
            "style": "IPY_MODEL_6e42287b01994c8a891af3da90e32372",
            "value": " 28881/28881 [00:00&lt;00:00, 590943.30it/s]"
          }
        },
        "5f128148f9bf4e0d9fbac375a0019549": {
          "model_module": "@jupyter-widgets/base",
          "model_name": "LayoutModel",
          "model_module_version": "1.2.0",
          "state": {
            "_model_module": "@jupyter-widgets/base",
            "_model_module_version": "1.2.0",
            "_model_name": "LayoutModel",
            "_view_count": null,
            "_view_module": "@jupyter-widgets/base",
            "_view_module_version": "1.2.0",
            "_view_name": "LayoutView",
            "align_content": null,
            "align_items": null,
            "align_self": null,
            "border": null,
            "bottom": null,
            "display": null,
            "flex": null,
            "flex_flow": null,
            "grid_area": null,
            "grid_auto_columns": null,
            "grid_auto_flow": null,
            "grid_auto_rows": null,
            "grid_column": null,
            "grid_gap": null,
            "grid_row": null,
            "grid_template_areas": null,
            "grid_template_columns": null,
            "grid_template_rows": null,
            "height": null,
            "justify_content": null,
            "justify_items": null,
            "left": null,
            "margin": null,
            "max_height": null,
            "max_width": null,
            "min_height": null,
            "min_width": null,
            "object_fit": null,
            "object_position": null,
            "order": null,
            "overflow": null,
            "overflow_x": null,
            "overflow_y": null,
            "padding": null,
            "right": null,
            "top": null,
            "visibility": null,
            "width": null
          }
        },
        "10a34350c8b54bc4a5da3580b410d808": {
          "model_module": "@jupyter-widgets/base",
          "model_name": "LayoutModel",
          "model_module_version": "1.2.0",
          "state": {
            "_model_module": "@jupyter-widgets/base",
            "_model_module_version": "1.2.0",
            "_model_name": "LayoutModel",
            "_view_count": null,
            "_view_module": "@jupyter-widgets/base",
            "_view_module_version": "1.2.0",
            "_view_name": "LayoutView",
            "align_content": null,
            "align_items": null,
            "align_self": null,
            "border": null,
            "bottom": null,
            "display": null,
            "flex": null,
            "flex_flow": null,
            "grid_area": null,
            "grid_auto_columns": null,
            "grid_auto_flow": null,
            "grid_auto_rows": null,
            "grid_column": null,
            "grid_gap": null,
            "grid_row": null,
            "grid_template_areas": null,
            "grid_template_columns": null,
            "grid_template_rows": null,
            "height": null,
            "justify_content": null,
            "justify_items": null,
            "left": null,
            "margin": null,
            "max_height": null,
            "max_width": null,
            "min_height": null,
            "min_width": null,
            "object_fit": null,
            "object_position": null,
            "order": null,
            "overflow": null,
            "overflow_x": null,
            "overflow_y": null,
            "padding": null,
            "right": null,
            "top": null,
            "visibility": null,
            "width": null
          }
        },
        "cac5143bf3fe4d738023bfd05e67f690": {
          "model_module": "@jupyter-widgets/controls",
          "model_name": "DescriptionStyleModel",
          "model_module_version": "1.5.0",
          "state": {
            "_model_module": "@jupyter-widgets/controls",
            "_model_module_version": "1.5.0",
            "_model_name": "DescriptionStyleModel",
            "_view_count": null,
            "_view_module": "@jupyter-widgets/base",
            "_view_module_version": "1.2.0",
            "_view_name": "StyleView",
            "description_width": ""
          }
        },
        "8462e2a3ec96489a933c4b705136e2ce": {
          "model_module": "@jupyter-widgets/base",
          "model_name": "LayoutModel",
          "model_module_version": "1.2.0",
          "state": {
            "_model_module": "@jupyter-widgets/base",
            "_model_module_version": "1.2.0",
            "_model_name": "LayoutModel",
            "_view_count": null,
            "_view_module": "@jupyter-widgets/base",
            "_view_module_version": "1.2.0",
            "_view_name": "LayoutView",
            "align_content": null,
            "align_items": null,
            "align_self": null,
            "border": null,
            "bottom": null,
            "display": null,
            "flex": null,
            "flex_flow": null,
            "grid_area": null,
            "grid_auto_columns": null,
            "grid_auto_flow": null,
            "grid_auto_rows": null,
            "grid_column": null,
            "grid_gap": null,
            "grid_row": null,
            "grid_template_areas": null,
            "grid_template_columns": null,
            "grid_template_rows": null,
            "height": null,
            "justify_content": null,
            "justify_items": null,
            "left": null,
            "margin": null,
            "max_height": null,
            "max_width": null,
            "min_height": null,
            "min_width": null,
            "object_fit": null,
            "object_position": null,
            "order": null,
            "overflow": null,
            "overflow_x": null,
            "overflow_y": null,
            "padding": null,
            "right": null,
            "top": null,
            "visibility": null,
            "width": null
          }
        },
        "bfa71e8e70dc4fde9fb01d8bdfd93fed": {
          "model_module": "@jupyter-widgets/controls",
          "model_name": "ProgressStyleModel",
          "model_module_version": "1.5.0",
          "state": {
            "_model_module": "@jupyter-widgets/controls",
            "_model_module_version": "1.5.0",
            "_model_name": "ProgressStyleModel",
            "_view_count": null,
            "_view_module": "@jupyter-widgets/base",
            "_view_module_version": "1.2.0",
            "_view_name": "StyleView",
            "bar_color": null,
            "description_width": ""
          }
        },
        "a64847b707144f78b713b2c6d4ec98d3": {
          "model_module": "@jupyter-widgets/base",
          "model_name": "LayoutModel",
          "model_module_version": "1.2.0",
          "state": {
            "_model_module": "@jupyter-widgets/base",
            "_model_module_version": "1.2.0",
            "_model_name": "LayoutModel",
            "_view_count": null,
            "_view_module": "@jupyter-widgets/base",
            "_view_module_version": "1.2.0",
            "_view_name": "LayoutView",
            "align_content": null,
            "align_items": null,
            "align_self": null,
            "border": null,
            "bottom": null,
            "display": null,
            "flex": null,
            "flex_flow": null,
            "grid_area": null,
            "grid_auto_columns": null,
            "grid_auto_flow": null,
            "grid_auto_rows": null,
            "grid_column": null,
            "grid_gap": null,
            "grid_row": null,
            "grid_template_areas": null,
            "grid_template_columns": null,
            "grid_template_rows": null,
            "height": null,
            "justify_content": null,
            "justify_items": null,
            "left": null,
            "margin": null,
            "max_height": null,
            "max_width": null,
            "min_height": null,
            "min_width": null,
            "object_fit": null,
            "object_position": null,
            "order": null,
            "overflow": null,
            "overflow_x": null,
            "overflow_y": null,
            "padding": null,
            "right": null,
            "top": null,
            "visibility": null,
            "width": null
          }
        },
        "6e42287b01994c8a891af3da90e32372": {
          "model_module": "@jupyter-widgets/controls",
          "model_name": "DescriptionStyleModel",
          "model_module_version": "1.5.0",
          "state": {
            "_model_module": "@jupyter-widgets/controls",
            "_model_module_version": "1.5.0",
            "_model_name": "DescriptionStyleModel",
            "_view_count": null,
            "_view_module": "@jupyter-widgets/base",
            "_view_module_version": "1.2.0",
            "_view_name": "StyleView",
            "description_width": ""
          }
        },
        "1c8829798a36484692b69541649f5ab9": {
          "model_module": "@jupyter-widgets/controls",
          "model_name": "HBoxModel",
          "model_module_version": "1.5.0",
          "state": {
            "_dom_classes": [],
            "_model_module": "@jupyter-widgets/controls",
            "_model_module_version": "1.5.0",
            "_model_name": "HBoxModel",
            "_view_count": null,
            "_view_module": "@jupyter-widgets/controls",
            "_view_module_version": "1.5.0",
            "_view_name": "HBoxView",
            "box_style": "",
            "children": [
              "IPY_MODEL_bd7306eb2f8045b6a5c1178c2d21f98d",
              "IPY_MODEL_90e704327a294f5589b2c4f49d68cab9",
              "IPY_MODEL_55a0c4a24dd945c0a6e93eb1f5f5aa65"
            ],
            "layout": "IPY_MODEL_117c001ef33e4cf495f2fd83da83ca18"
          }
        },
        "bd7306eb2f8045b6a5c1178c2d21f98d": {
          "model_module": "@jupyter-widgets/controls",
          "model_name": "HTMLModel",
          "model_module_version": "1.5.0",
          "state": {
            "_dom_classes": [],
            "_model_module": "@jupyter-widgets/controls",
            "_model_module_version": "1.5.0",
            "_model_name": "HTMLModel",
            "_view_count": null,
            "_view_module": "@jupyter-widgets/controls",
            "_view_module_version": "1.5.0",
            "_view_name": "HTMLView",
            "description": "",
            "description_tooltip": null,
            "layout": "IPY_MODEL_338b9cde80494510a82130d7065b14e3",
            "placeholder": "​",
            "style": "IPY_MODEL_65ca1c86182145b8b7a272e390be2d3e",
            "value": "100%"
          }
        },
        "90e704327a294f5589b2c4f49d68cab9": {
          "model_module": "@jupyter-widgets/controls",
          "model_name": "FloatProgressModel",
          "model_module_version": "1.5.0",
          "state": {
            "_dom_classes": [],
            "_model_module": "@jupyter-widgets/controls",
            "_model_module_version": "1.5.0",
            "_model_name": "FloatProgressModel",
            "_view_count": null,
            "_view_module": "@jupyter-widgets/controls",
            "_view_module_version": "1.5.0",
            "_view_name": "ProgressView",
            "bar_style": "success",
            "description": "",
            "description_tooltip": null,
            "layout": "IPY_MODEL_d725089feb124b90ba298759a8bc1d81",
            "max": 1648877,
            "min": 0,
            "orientation": "horizontal",
            "style": "IPY_MODEL_e7fc1225d151478ba98a6355cea42661",
            "value": 1648877
          }
        },
        "55a0c4a24dd945c0a6e93eb1f5f5aa65": {
          "model_module": "@jupyter-widgets/controls",
          "model_name": "HTMLModel",
          "model_module_version": "1.5.0",
          "state": {
            "_dom_classes": [],
            "_model_module": "@jupyter-widgets/controls",
            "_model_module_version": "1.5.0",
            "_model_name": "HTMLModel",
            "_view_count": null,
            "_view_module": "@jupyter-widgets/controls",
            "_view_module_version": "1.5.0",
            "_view_name": "HTMLView",
            "description": "",
            "description_tooltip": null,
            "layout": "IPY_MODEL_22fac3a7ab3640aaa220cb53cc66714e",
            "placeholder": "​",
            "style": "IPY_MODEL_ca64557833ae4d95bffd10d31308e90e",
            "value": " 1648877/1648877 [00:00&lt;00:00, 16489925.86it/s]"
          }
        },
        "117c001ef33e4cf495f2fd83da83ca18": {
          "model_module": "@jupyter-widgets/base",
          "model_name": "LayoutModel",
          "model_module_version": "1.2.0",
          "state": {
            "_model_module": "@jupyter-widgets/base",
            "_model_module_version": "1.2.0",
            "_model_name": "LayoutModel",
            "_view_count": null,
            "_view_module": "@jupyter-widgets/base",
            "_view_module_version": "1.2.0",
            "_view_name": "LayoutView",
            "align_content": null,
            "align_items": null,
            "align_self": null,
            "border": null,
            "bottom": null,
            "display": null,
            "flex": null,
            "flex_flow": null,
            "grid_area": null,
            "grid_auto_columns": null,
            "grid_auto_flow": null,
            "grid_auto_rows": null,
            "grid_column": null,
            "grid_gap": null,
            "grid_row": null,
            "grid_template_areas": null,
            "grid_template_columns": null,
            "grid_template_rows": null,
            "height": null,
            "justify_content": null,
            "justify_items": null,
            "left": null,
            "margin": null,
            "max_height": null,
            "max_width": null,
            "min_height": null,
            "min_width": null,
            "object_fit": null,
            "object_position": null,
            "order": null,
            "overflow": null,
            "overflow_x": null,
            "overflow_y": null,
            "padding": null,
            "right": null,
            "top": null,
            "visibility": null,
            "width": null
          }
        },
        "338b9cde80494510a82130d7065b14e3": {
          "model_module": "@jupyter-widgets/base",
          "model_name": "LayoutModel",
          "model_module_version": "1.2.0",
          "state": {
            "_model_module": "@jupyter-widgets/base",
            "_model_module_version": "1.2.0",
            "_model_name": "LayoutModel",
            "_view_count": null,
            "_view_module": "@jupyter-widgets/base",
            "_view_module_version": "1.2.0",
            "_view_name": "LayoutView",
            "align_content": null,
            "align_items": null,
            "align_self": null,
            "border": null,
            "bottom": null,
            "display": null,
            "flex": null,
            "flex_flow": null,
            "grid_area": null,
            "grid_auto_columns": null,
            "grid_auto_flow": null,
            "grid_auto_rows": null,
            "grid_column": null,
            "grid_gap": null,
            "grid_row": null,
            "grid_template_areas": null,
            "grid_template_columns": null,
            "grid_template_rows": null,
            "height": null,
            "justify_content": null,
            "justify_items": null,
            "left": null,
            "margin": null,
            "max_height": null,
            "max_width": null,
            "min_height": null,
            "min_width": null,
            "object_fit": null,
            "object_position": null,
            "order": null,
            "overflow": null,
            "overflow_x": null,
            "overflow_y": null,
            "padding": null,
            "right": null,
            "top": null,
            "visibility": null,
            "width": null
          }
        },
        "65ca1c86182145b8b7a272e390be2d3e": {
          "model_module": "@jupyter-widgets/controls",
          "model_name": "DescriptionStyleModel",
          "model_module_version": "1.5.0",
          "state": {
            "_model_module": "@jupyter-widgets/controls",
            "_model_module_version": "1.5.0",
            "_model_name": "DescriptionStyleModel",
            "_view_count": null,
            "_view_module": "@jupyter-widgets/base",
            "_view_module_version": "1.2.0",
            "_view_name": "StyleView",
            "description_width": ""
          }
        },
        "d725089feb124b90ba298759a8bc1d81": {
          "model_module": "@jupyter-widgets/base",
          "model_name": "LayoutModel",
          "model_module_version": "1.2.0",
          "state": {
            "_model_module": "@jupyter-widgets/base",
            "_model_module_version": "1.2.0",
            "_model_name": "LayoutModel",
            "_view_count": null,
            "_view_module": "@jupyter-widgets/base",
            "_view_module_version": "1.2.0",
            "_view_name": "LayoutView",
            "align_content": null,
            "align_items": null,
            "align_self": null,
            "border": null,
            "bottom": null,
            "display": null,
            "flex": null,
            "flex_flow": null,
            "grid_area": null,
            "grid_auto_columns": null,
            "grid_auto_flow": null,
            "grid_auto_rows": null,
            "grid_column": null,
            "grid_gap": null,
            "grid_row": null,
            "grid_template_areas": null,
            "grid_template_columns": null,
            "grid_template_rows": null,
            "height": null,
            "justify_content": null,
            "justify_items": null,
            "left": null,
            "margin": null,
            "max_height": null,
            "max_width": null,
            "min_height": null,
            "min_width": null,
            "object_fit": null,
            "object_position": null,
            "order": null,
            "overflow": null,
            "overflow_x": null,
            "overflow_y": null,
            "padding": null,
            "right": null,
            "top": null,
            "visibility": null,
            "width": null
          }
        },
        "e7fc1225d151478ba98a6355cea42661": {
          "model_module": "@jupyter-widgets/controls",
          "model_name": "ProgressStyleModel",
          "model_module_version": "1.5.0",
          "state": {
            "_model_module": "@jupyter-widgets/controls",
            "_model_module_version": "1.5.0",
            "_model_name": "ProgressStyleModel",
            "_view_count": null,
            "_view_module": "@jupyter-widgets/base",
            "_view_module_version": "1.2.0",
            "_view_name": "StyleView",
            "bar_color": null,
            "description_width": ""
          }
        },
        "22fac3a7ab3640aaa220cb53cc66714e": {
          "model_module": "@jupyter-widgets/base",
          "model_name": "LayoutModel",
          "model_module_version": "1.2.0",
          "state": {
            "_model_module": "@jupyter-widgets/base",
            "_model_module_version": "1.2.0",
            "_model_name": "LayoutModel",
            "_view_count": null,
            "_view_module": "@jupyter-widgets/base",
            "_view_module_version": "1.2.0",
            "_view_name": "LayoutView",
            "align_content": null,
            "align_items": null,
            "align_self": null,
            "border": null,
            "bottom": null,
            "display": null,
            "flex": null,
            "flex_flow": null,
            "grid_area": null,
            "grid_auto_columns": null,
            "grid_auto_flow": null,
            "grid_auto_rows": null,
            "grid_column": null,
            "grid_gap": null,
            "grid_row": null,
            "grid_template_areas": null,
            "grid_template_columns": null,
            "grid_template_rows": null,
            "height": null,
            "justify_content": null,
            "justify_items": null,
            "left": null,
            "margin": null,
            "max_height": null,
            "max_width": null,
            "min_height": null,
            "min_width": null,
            "object_fit": null,
            "object_position": null,
            "order": null,
            "overflow": null,
            "overflow_x": null,
            "overflow_y": null,
            "padding": null,
            "right": null,
            "top": null,
            "visibility": null,
            "width": null
          }
        },
        "ca64557833ae4d95bffd10d31308e90e": {
          "model_module": "@jupyter-widgets/controls",
          "model_name": "DescriptionStyleModel",
          "model_module_version": "1.5.0",
          "state": {
            "_model_module": "@jupyter-widgets/controls",
            "_model_module_version": "1.5.0",
            "_model_name": "DescriptionStyleModel",
            "_view_count": null,
            "_view_module": "@jupyter-widgets/base",
            "_view_module_version": "1.2.0",
            "_view_name": "StyleView",
            "description_width": ""
          }
        },
        "0bd00c1331164ca49f730936c3664a6f": {
          "model_module": "@jupyter-widgets/controls",
          "model_name": "HBoxModel",
          "model_module_version": "1.5.0",
          "state": {
            "_dom_classes": [],
            "_model_module": "@jupyter-widgets/controls",
            "_model_module_version": "1.5.0",
            "_model_name": "HBoxModel",
            "_view_count": null,
            "_view_module": "@jupyter-widgets/controls",
            "_view_module_version": "1.5.0",
            "_view_name": "HBoxView",
            "box_style": "",
            "children": [
              "IPY_MODEL_581f68a1b20d4b2eb7ba61a52652bc9d",
              "IPY_MODEL_be9949741fe147198913d7e4e40144b6",
              "IPY_MODEL_6b2084b2d77545dbb5a52fd418f0a4b2"
            ],
            "layout": "IPY_MODEL_f3ecd95e391340118e33a19479d1feab"
          }
        },
        "581f68a1b20d4b2eb7ba61a52652bc9d": {
          "model_module": "@jupyter-widgets/controls",
          "model_name": "HTMLModel",
          "model_module_version": "1.5.0",
          "state": {
            "_dom_classes": [],
            "_model_module": "@jupyter-widgets/controls",
            "_model_module_version": "1.5.0",
            "_model_name": "HTMLModel",
            "_view_count": null,
            "_view_module": "@jupyter-widgets/controls",
            "_view_module_version": "1.5.0",
            "_view_name": "HTMLView",
            "description": "",
            "description_tooltip": null,
            "layout": "IPY_MODEL_2a08d2e69fe546f08c4a8b211ed4178f",
            "placeholder": "​",
            "style": "IPY_MODEL_dfc137601eb2459d9f262d2c177da9c0",
            "value": "100%"
          }
        },
        "be9949741fe147198913d7e4e40144b6": {
          "model_module": "@jupyter-widgets/controls",
          "model_name": "FloatProgressModel",
          "model_module_version": "1.5.0",
          "state": {
            "_dom_classes": [],
            "_model_module": "@jupyter-widgets/controls",
            "_model_module_version": "1.5.0",
            "_model_name": "FloatProgressModel",
            "_view_count": null,
            "_view_module": "@jupyter-widgets/controls",
            "_view_module_version": "1.5.0",
            "_view_name": "ProgressView",
            "bar_style": "success",
            "description": "",
            "description_tooltip": null,
            "layout": "IPY_MODEL_b827e1fb00f1404bb84a7b0594c56a4b",
            "max": 4542,
            "min": 0,
            "orientation": "horizontal",
            "style": "IPY_MODEL_219a11f6fb184e8c94d30b3a2bee8a38",
            "value": 4542
          }
        },
        "6b2084b2d77545dbb5a52fd418f0a4b2": {
          "model_module": "@jupyter-widgets/controls",
          "model_name": "HTMLModel",
          "model_module_version": "1.5.0",
          "state": {
            "_dom_classes": [],
            "_model_module": "@jupyter-widgets/controls",
            "_model_module_version": "1.5.0",
            "_model_name": "HTMLModel",
            "_view_count": null,
            "_view_module": "@jupyter-widgets/controls",
            "_view_module_version": "1.5.0",
            "_view_name": "HTMLView",
            "description": "",
            "description_tooltip": null,
            "layout": "IPY_MODEL_5497f074a1154a6ead4cb873898d249f",
            "placeholder": "​",
            "style": "IPY_MODEL_c8e07cf49110467fafd1a4f12666efe8",
            "value": " 4542/4542 [00:00&lt;00:00, 76136.03it/s]"
          }
        },
        "f3ecd95e391340118e33a19479d1feab": {
          "model_module": "@jupyter-widgets/base",
          "model_name": "LayoutModel",
          "model_module_version": "1.2.0",
          "state": {
            "_model_module": "@jupyter-widgets/base",
            "_model_module_version": "1.2.0",
            "_model_name": "LayoutModel",
            "_view_count": null,
            "_view_module": "@jupyter-widgets/base",
            "_view_module_version": "1.2.0",
            "_view_name": "LayoutView",
            "align_content": null,
            "align_items": null,
            "align_self": null,
            "border": null,
            "bottom": null,
            "display": null,
            "flex": null,
            "flex_flow": null,
            "grid_area": null,
            "grid_auto_columns": null,
            "grid_auto_flow": null,
            "grid_auto_rows": null,
            "grid_column": null,
            "grid_gap": null,
            "grid_row": null,
            "grid_template_areas": null,
            "grid_template_columns": null,
            "grid_template_rows": null,
            "height": null,
            "justify_content": null,
            "justify_items": null,
            "left": null,
            "margin": null,
            "max_height": null,
            "max_width": null,
            "min_height": null,
            "min_width": null,
            "object_fit": null,
            "object_position": null,
            "order": null,
            "overflow": null,
            "overflow_x": null,
            "overflow_y": null,
            "padding": null,
            "right": null,
            "top": null,
            "visibility": null,
            "width": null
          }
        },
        "2a08d2e69fe546f08c4a8b211ed4178f": {
          "model_module": "@jupyter-widgets/base",
          "model_name": "LayoutModel",
          "model_module_version": "1.2.0",
          "state": {
            "_model_module": "@jupyter-widgets/base",
            "_model_module_version": "1.2.0",
            "_model_name": "LayoutModel",
            "_view_count": null,
            "_view_module": "@jupyter-widgets/base",
            "_view_module_version": "1.2.0",
            "_view_name": "LayoutView",
            "align_content": null,
            "align_items": null,
            "align_self": null,
            "border": null,
            "bottom": null,
            "display": null,
            "flex": null,
            "flex_flow": null,
            "grid_area": null,
            "grid_auto_columns": null,
            "grid_auto_flow": null,
            "grid_auto_rows": null,
            "grid_column": null,
            "grid_gap": null,
            "grid_row": null,
            "grid_template_areas": null,
            "grid_template_columns": null,
            "grid_template_rows": null,
            "height": null,
            "justify_content": null,
            "justify_items": null,
            "left": null,
            "margin": null,
            "max_height": null,
            "max_width": null,
            "min_height": null,
            "min_width": null,
            "object_fit": null,
            "object_position": null,
            "order": null,
            "overflow": null,
            "overflow_x": null,
            "overflow_y": null,
            "padding": null,
            "right": null,
            "top": null,
            "visibility": null,
            "width": null
          }
        },
        "dfc137601eb2459d9f262d2c177da9c0": {
          "model_module": "@jupyter-widgets/controls",
          "model_name": "DescriptionStyleModel",
          "model_module_version": "1.5.0",
          "state": {
            "_model_module": "@jupyter-widgets/controls",
            "_model_module_version": "1.5.0",
            "_model_name": "DescriptionStyleModel",
            "_view_count": null,
            "_view_module": "@jupyter-widgets/base",
            "_view_module_version": "1.2.0",
            "_view_name": "StyleView",
            "description_width": ""
          }
        },
        "b827e1fb00f1404bb84a7b0594c56a4b": {
          "model_module": "@jupyter-widgets/base",
          "model_name": "LayoutModel",
          "model_module_version": "1.2.0",
          "state": {
            "_model_module": "@jupyter-widgets/base",
            "_model_module_version": "1.2.0",
            "_model_name": "LayoutModel",
            "_view_count": null,
            "_view_module": "@jupyter-widgets/base",
            "_view_module_version": "1.2.0",
            "_view_name": "LayoutView",
            "align_content": null,
            "align_items": null,
            "align_self": null,
            "border": null,
            "bottom": null,
            "display": null,
            "flex": null,
            "flex_flow": null,
            "grid_area": null,
            "grid_auto_columns": null,
            "grid_auto_flow": null,
            "grid_auto_rows": null,
            "grid_column": null,
            "grid_gap": null,
            "grid_row": null,
            "grid_template_areas": null,
            "grid_template_columns": null,
            "grid_template_rows": null,
            "height": null,
            "justify_content": null,
            "justify_items": null,
            "left": null,
            "margin": null,
            "max_height": null,
            "max_width": null,
            "min_height": null,
            "min_width": null,
            "object_fit": null,
            "object_position": null,
            "order": null,
            "overflow": null,
            "overflow_x": null,
            "overflow_y": null,
            "padding": null,
            "right": null,
            "top": null,
            "visibility": null,
            "width": null
          }
        },
        "219a11f6fb184e8c94d30b3a2bee8a38": {
          "model_module": "@jupyter-widgets/controls",
          "model_name": "ProgressStyleModel",
          "model_module_version": "1.5.0",
          "state": {
            "_model_module": "@jupyter-widgets/controls",
            "_model_module_version": "1.5.0",
            "_model_name": "ProgressStyleModel",
            "_view_count": null,
            "_view_module": "@jupyter-widgets/base",
            "_view_module_version": "1.2.0",
            "_view_name": "StyleView",
            "bar_color": null,
            "description_width": ""
          }
        },
        "5497f074a1154a6ead4cb873898d249f": {
          "model_module": "@jupyter-widgets/base",
          "model_name": "LayoutModel",
          "model_module_version": "1.2.0",
          "state": {
            "_model_module": "@jupyter-widgets/base",
            "_model_module_version": "1.2.0",
            "_model_name": "LayoutModel",
            "_view_count": null,
            "_view_module": "@jupyter-widgets/base",
            "_view_module_version": "1.2.0",
            "_view_name": "LayoutView",
            "align_content": null,
            "align_items": null,
            "align_self": null,
            "border": null,
            "bottom": null,
            "display": null,
            "flex": null,
            "flex_flow": null,
            "grid_area": null,
            "grid_auto_columns": null,
            "grid_auto_flow": null,
            "grid_auto_rows": null,
            "grid_column": null,
            "grid_gap": null,
            "grid_row": null,
            "grid_template_areas": null,
            "grid_template_columns": null,
            "grid_template_rows": null,
            "height": null,
            "justify_content": null,
            "justify_items": null,
            "left": null,
            "margin": null,
            "max_height": null,
            "max_width": null,
            "min_height": null,
            "min_width": null,
            "object_fit": null,
            "object_position": null,
            "order": null,
            "overflow": null,
            "overflow_x": null,
            "overflow_y": null,
            "padding": null,
            "right": null,
            "top": null,
            "visibility": null,
            "width": null
          }
        },
        "c8e07cf49110467fafd1a4f12666efe8": {
          "model_module": "@jupyter-widgets/controls",
          "model_name": "DescriptionStyleModel",
          "model_module_version": "1.5.0",
          "state": {
            "_model_module": "@jupyter-widgets/controls",
            "_model_module_version": "1.5.0",
            "_model_name": "DescriptionStyleModel",
            "_view_count": null,
            "_view_module": "@jupyter-widgets/base",
            "_view_module_version": "1.2.0",
            "_view_name": "StyleView",
            "description_width": ""
          }
        },
        "35661be6e2a74fd78ca2feab8d00c959": {
          "model_module": "@jupyter-widgets/controls",
          "model_name": "HBoxModel",
          "model_module_version": "1.5.0",
          "state": {
            "_dom_classes": [],
            "_model_module": "@jupyter-widgets/controls",
            "_model_module_version": "1.5.0",
            "_model_name": "HBoxModel",
            "_view_count": null,
            "_view_module": "@jupyter-widgets/controls",
            "_view_module_version": "1.5.0",
            "_view_name": "HBoxView",
            "box_style": "",
            "children": [
              "IPY_MODEL_40345c3cd10746c789c677274efd315f",
              "IPY_MODEL_efa210c84ff0401fbe0c119fe34efd05",
              "IPY_MODEL_728c65502c0344319c9aa53230c15846"
            ],
            "layout": "IPY_MODEL_ba383a03bf704e7faf027f591ec0d50d"
          }
        },
        "40345c3cd10746c789c677274efd315f": {
          "model_module": "@jupyter-widgets/controls",
          "model_name": "HTMLModel",
          "model_module_version": "1.5.0",
          "state": {
            "_dom_classes": [],
            "_model_module": "@jupyter-widgets/controls",
            "_model_module_version": "1.5.0",
            "_model_name": "HTMLModel",
            "_view_count": null,
            "_view_module": "@jupyter-widgets/controls",
            "_view_module_version": "1.5.0",
            "_view_name": "HTMLView",
            "description": "",
            "description_tooltip": null,
            "layout": "IPY_MODEL_b7eabcccec9b428d9ca667c6473ad30f",
            "placeholder": "​",
            "style": "IPY_MODEL_97b07a82bed94500b8167c073d521f05",
            "value": "100%"
          }
        },
        "efa210c84ff0401fbe0c119fe34efd05": {
          "model_module": "@jupyter-widgets/controls",
          "model_name": "FloatProgressModel",
          "model_module_version": "1.5.0",
          "state": {
            "_dom_classes": [],
            "_model_module": "@jupyter-widgets/controls",
            "_model_module_version": "1.5.0",
            "_model_name": "FloatProgressModel",
            "_view_count": null,
            "_view_module": "@jupyter-widgets/controls",
            "_view_module_version": "1.5.0",
            "_view_name": "ProgressView",
            "bar_style": "success",
            "description": "",
            "description_tooltip": null,
            "layout": "IPY_MODEL_407b9189a0824e66a54f10fb6ab2199e",
            "max": 182040794,
            "min": 0,
            "orientation": "horizontal",
            "style": "IPY_MODEL_c74b66b856d644fda643e86a7b8381f1",
            "value": 182040794
          }
        },
        "728c65502c0344319c9aa53230c15846": {
          "model_module": "@jupyter-widgets/controls",
          "model_name": "HTMLModel",
          "model_module_version": "1.5.0",
          "state": {
            "_dom_classes": [],
            "_model_module": "@jupyter-widgets/controls",
            "_model_module_version": "1.5.0",
            "_model_name": "HTMLModel",
            "_view_count": null,
            "_view_module": "@jupyter-widgets/controls",
            "_view_module_version": "1.5.0",
            "_view_name": "HTMLView",
            "description": "",
            "description_tooltip": null,
            "layout": "IPY_MODEL_9a9b0d5dadd0417f9e55be01a91653b8",
            "placeholder": "​",
            "style": "IPY_MODEL_3dc1fe2a2eb944afb5b92955366784b7",
            "value": " 182040794/182040794 [00:16&lt;00:00, 16020019.87it/s]"
          }
        },
        "ba383a03bf704e7faf027f591ec0d50d": {
          "model_module": "@jupyter-widgets/base",
          "model_name": "LayoutModel",
          "model_module_version": "1.2.0",
          "state": {
            "_model_module": "@jupyter-widgets/base",
            "_model_module_version": "1.2.0",
            "_model_name": "LayoutModel",
            "_view_count": null,
            "_view_module": "@jupyter-widgets/base",
            "_view_module_version": "1.2.0",
            "_view_name": "LayoutView",
            "align_content": null,
            "align_items": null,
            "align_self": null,
            "border": null,
            "bottom": null,
            "display": null,
            "flex": null,
            "flex_flow": null,
            "grid_area": null,
            "grid_auto_columns": null,
            "grid_auto_flow": null,
            "grid_auto_rows": null,
            "grid_column": null,
            "grid_gap": null,
            "grid_row": null,
            "grid_template_areas": null,
            "grid_template_columns": null,
            "grid_template_rows": null,
            "height": null,
            "justify_content": null,
            "justify_items": null,
            "left": null,
            "margin": null,
            "max_height": null,
            "max_width": null,
            "min_height": null,
            "min_width": null,
            "object_fit": null,
            "object_position": null,
            "order": null,
            "overflow": null,
            "overflow_x": null,
            "overflow_y": null,
            "padding": null,
            "right": null,
            "top": null,
            "visibility": null,
            "width": null
          }
        },
        "b7eabcccec9b428d9ca667c6473ad30f": {
          "model_module": "@jupyter-widgets/base",
          "model_name": "LayoutModel",
          "model_module_version": "1.2.0",
          "state": {
            "_model_module": "@jupyter-widgets/base",
            "_model_module_version": "1.2.0",
            "_model_name": "LayoutModel",
            "_view_count": null,
            "_view_module": "@jupyter-widgets/base",
            "_view_module_version": "1.2.0",
            "_view_name": "LayoutView",
            "align_content": null,
            "align_items": null,
            "align_self": null,
            "border": null,
            "bottom": null,
            "display": null,
            "flex": null,
            "flex_flow": null,
            "grid_area": null,
            "grid_auto_columns": null,
            "grid_auto_flow": null,
            "grid_auto_rows": null,
            "grid_column": null,
            "grid_gap": null,
            "grid_row": null,
            "grid_template_areas": null,
            "grid_template_columns": null,
            "grid_template_rows": null,
            "height": null,
            "justify_content": null,
            "justify_items": null,
            "left": null,
            "margin": null,
            "max_height": null,
            "max_width": null,
            "min_height": null,
            "min_width": null,
            "object_fit": null,
            "object_position": null,
            "order": null,
            "overflow": null,
            "overflow_x": null,
            "overflow_y": null,
            "padding": null,
            "right": null,
            "top": null,
            "visibility": null,
            "width": null
          }
        },
        "97b07a82bed94500b8167c073d521f05": {
          "model_module": "@jupyter-widgets/controls",
          "model_name": "DescriptionStyleModel",
          "model_module_version": "1.5.0",
          "state": {
            "_model_module": "@jupyter-widgets/controls",
            "_model_module_version": "1.5.0",
            "_model_name": "DescriptionStyleModel",
            "_view_count": null,
            "_view_module": "@jupyter-widgets/base",
            "_view_module_version": "1.2.0",
            "_view_name": "StyleView",
            "description_width": ""
          }
        },
        "407b9189a0824e66a54f10fb6ab2199e": {
          "model_module": "@jupyter-widgets/base",
          "model_name": "LayoutModel",
          "model_module_version": "1.2.0",
          "state": {
            "_model_module": "@jupyter-widgets/base",
            "_model_module_version": "1.2.0",
            "_model_name": "LayoutModel",
            "_view_count": null,
            "_view_module": "@jupyter-widgets/base",
            "_view_module_version": "1.2.0",
            "_view_name": "LayoutView",
            "align_content": null,
            "align_items": null,
            "align_self": null,
            "border": null,
            "bottom": null,
            "display": null,
            "flex": null,
            "flex_flow": null,
            "grid_area": null,
            "grid_auto_columns": null,
            "grid_auto_flow": null,
            "grid_auto_rows": null,
            "grid_column": null,
            "grid_gap": null,
            "grid_row": null,
            "grid_template_areas": null,
            "grid_template_columns": null,
            "grid_template_rows": null,
            "height": null,
            "justify_content": null,
            "justify_items": null,
            "left": null,
            "margin": null,
            "max_height": null,
            "max_width": null,
            "min_height": null,
            "min_width": null,
            "object_fit": null,
            "object_position": null,
            "order": null,
            "overflow": null,
            "overflow_x": null,
            "overflow_y": null,
            "padding": null,
            "right": null,
            "top": null,
            "visibility": null,
            "width": null
          }
        },
        "c74b66b856d644fda643e86a7b8381f1": {
          "model_module": "@jupyter-widgets/controls",
          "model_name": "ProgressStyleModel",
          "model_module_version": "1.5.0",
          "state": {
            "_model_module": "@jupyter-widgets/controls",
            "_model_module_version": "1.5.0",
            "_model_name": "ProgressStyleModel",
            "_view_count": null,
            "_view_module": "@jupyter-widgets/base",
            "_view_module_version": "1.2.0",
            "_view_name": "StyleView",
            "bar_color": null,
            "description_width": ""
          }
        },
        "9a9b0d5dadd0417f9e55be01a91653b8": {
          "model_module": "@jupyter-widgets/base",
          "model_name": "LayoutModel",
          "model_module_version": "1.2.0",
          "state": {
            "_model_module": "@jupyter-widgets/base",
            "_model_module_version": "1.2.0",
            "_model_name": "LayoutModel",
            "_view_count": null,
            "_view_module": "@jupyter-widgets/base",
            "_view_module_version": "1.2.0",
            "_view_name": "LayoutView",
            "align_content": null,
            "align_items": null,
            "align_self": null,
            "border": null,
            "bottom": null,
            "display": null,
            "flex": null,
            "flex_flow": null,
            "grid_area": null,
            "grid_auto_columns": null,
            "grid_auto_flow": null,
            "grid_auto_rows": null,
            "grid_column": null,
            "grid_gap": null,
            "grid_row": null,
            "grid_template_areas": null,
            "grid_template_columns": null,
            "grid_template_rows": null,
            "height": null,
            "justify_content": null,
            "justify_items": null,
            "left": null,
            "margin": null,
            "max_height": null,
            "max_width": null,
            "min_height": null,
            "min_width": null,
            "object_fit": null,
            "object_position": null,
            "order": null,
            "overflow": null,
            "overflow_x": null,
            "overflow_y": null,
            "padding": null,
            "right": null,
            "top": null,
            "visibility": null,
            "width": null
          }
        },
        "3dc1fe2a2eb944afb5b92955366784b7": {
          "model_module": "@jupyter-widgets/controls",
          "model_name": "DescriptionStyleModel",
          "model_module_version": "1.5.0",
          "state": {
            "_model_module": "@jupyter-widgets/controls",
            "_model_module_version": "1.5.0",
            "_model_name": "DescriptionStyleModel",
            "_view_count": null,
            "_view_module": "@jupyter-widgets/base",
            "_view_module_version": "1.2.0",
            "_view_name": "StyleView",
            "description_width": ""
          }
        },
        "67fd8028a76544b192dd9d7008dafaec": {
          "model_module": "@jupyter-widgets/controls",
          "model_name": "HBoxModel",
          "model_module_version": "1.5.0",
          "state": {
            "_dom_classes": [],
            "_model_module": "@jupyter-widgets/controls",
            "_model_module_version": "1.5.0",
            "_model_name": "HBoxModel",
            "_view_count": null,
            "_view_module": "@jupyter-widgets/controls",
            "_view_module_version": "1.5.0",
            "_view_name": "HBoxView",
            "box_style": "",
            "children": [
              "IPY_MODEL_95b866ca16e2418ab08b7e9685d78e91",
              "IPY_MODEL_59c67e08316c4bfdb8c901d0d5bb959c",
              "IPY_MODEL_7b60f142231a4a97a033866d03f61177"
            ],
            "layout": "IPY_MODEL_79d7e4366ee64946845cac970b7bd47b"
          }
        },
        "95b866ca16e2418ab08b7e9685d78e91": {
          "model_module": "@jupyter-widgets/controls",
          "model_name": "HTMLModel",
          "model_module_version": "1.5.0",
          "state": {
            "_dom_classes": [],
            "_model_module": "@jupyter-widgets/controls",
            "_model_module_version": "1.5.0",
            "_model_name": "HTMLModel",
            "_view_count": null,
            "_view_module": "@jupyter-widgets/controls",
            "_view_module_version": "1.5.0",
            "_view_name": "HTMLView",
            "description": "",
            "description_tooltip": null,
            "layout": "IPY_MODEL_a7b06c23540143c8bd0f18145951ee7c",
            "placeholder": "​",
            "style": "IPY_MODEL_58020c9de02849328373d2c6aab6056a",
            "value": "100%"
          }
        },
        "59c67e08316c4bfdb8c901d0d5bb959c": {
          "model_module": "@jupyter-widgets/controls",
          "model_name": "FloatProgressModel",
          "model_module_version": "1.5.0",
          "state": {
            "_dom_classes": [],
            "_model_module": "@jupyter-widgets/controls",
            "_model_module_version": "1.5.0",
            "_model_name": "FloatProgressModel",
            "_view_count": null,
            "_view_module": "@jupyter-widgets/controls",
            "_view_module_version": "1.5.0",
            "_view_name": "ProgressView",
            "bar_style": "success",
            "description": "",
            "description_tooltip": null,
            "layout": "IPY_MODEL_3d33ff7148224db2bb05bcaaba8e4f23",
            "max": 64275384,
            "min": 0,
            "orientation": "horizontal",
            "style": "IPY_MODEL_d84a01ee0a1f48a2af17ca2c7826ba63",
            "value": 64275384
          }
        },
        "7b60f142231a4a97a033866d03f61177": {
          "model_module": "@jupyter-widgets/controls",
          "model_name": "HTMLModel",
          "model_module_version": "1.5.0",
          "state": {
            "_dom_classes": [],
            "_model_module": "@jupyter-widgets/controls",
            "_model_module_version": "1.5.0",
            "_model_name": "HTMLModel",
            "_view_count": null,
            "_view_module": "@jupyter-widgets/controls",
            "_view_module_version": "1.5.0",
            "_view_name": "HTMLView",
            "description": "",
            "description_tooltip": null,
            "layout": "IPY_MODEL_0ed64896b3b64d17a3d432304742b66c",
            "placeholder": "​",
            "style": "IPY_MODEL_fcb9dff992694c889640750157b68b26",
            "value": " 64275384/64275384 [00:08&lt;00:00, 15516079.39it/s]"
          }
        },
        "79d7e4366ee64946845cac970b7bd47b": {
          "model_module": "@jupyter-widgets/base",
          "model_name": "LayoutModel",
          "model_module_version": "1.2.0",
          "state": {
            "_model_module": "@jupyter-widgets/base",
            "_model_module_version": "1.2.0",
            "_model_name": "LayoutModel",
            "_view_count": null,
            "_view_module": "@jupyter-widgets/base",
            "_view_module_version": "1.2.0",
            "_view_name": "LayoutView",
            "align_content": null,
            "align_items": null,
            "align_self": null,
            "border": null,
            "bottom": null,
            "display": null,
            "flex": null,
            "flex_flow": null,
            "grid_area": null,
            "grid_auto_columns": null,
            "grid_auto_flow": null,
            "grid_auto_rows": null,
            "grid_column": null,
            "grid_gap": null,
            "grid_row": null,
            "grid_template_areas": null,
            "grid_template_columns": null,
            "grid_template_rows": null,
            "height": null,
            "justify_content": null,
            "justify_items": null,
            "left": null,
            "margin": null,
            "max_height": null,
            "max_width": null,
            "min_height": null,
            "min_width": null,
            "object_fit": null,
            "object_position": null,
            "order": null,
            "overflow": null,
            "overflow_x": null,
            "overflow_y": null,
            "padding": null,
            "right": null,
            "top": null,
            "visibility": null,
            "width": null
          }
        },
        "a7b06c23540143c8bd0f18145951ee7c": {
          "model_module": "@jupyter-widgets/base",
          "model_name": "LayoutModel",
          "model_module_version": "1.2.0",
          "state": {
            "_model_module": "@jupyter-widgets/base",
            "_model_module_version": "1.2.0",
            "_model_name": "LayoutModel",
            "_view_count": null,
            "_view_module": "@jupyter-widgets/base",
            "_view_module_version": "1.2.0",
            "_view_name": "LayoutView",
            "align_content": null,
            "align_items": null,
            "align_self": null,
            "border": null,
            "bottom": null,
            "display": null,
            "flex": null,
            "flex_flow": null,
            "grid_area": null,
            "grid_auto_columns": null,
            "grid_auto_flow": null,
            "grid_auto_rows": null,
            "grid_column": null,
            "grid_gap": null,
            "grid_row": null,
            "grid_template_areas": null,
            "grid_template_columns": null,
            "grid_template_rows": null,
            "height": null,
            "justify_content": null,
            "justify_items": null,
            "left": null,
            "margin": null,
            "max_height": null,
            "max_width": null,
            "min_height": null,
            "min_width": null,
            "object_fit": null,
            "object_position": null,
            "order": null,
            "overflow": null,
            "overflow_x": null,
            "overflow_y": null,
            "padding": null,
            "right": null,
            "top": null,
            "visibility": null,
            "width": null
          }
        },
        "58020c9de02849328373d2c6aab6056a": {
          "model_module": "@jupyter-widgets/controls",
          "model_name": "DescriptionStyleModel",
          "model_module_version": "1.5.0",
          "state": {
            "_model_module": "@jupyter-widgets/controls",
            "_model_module_version": "1.5.0",
            "_model_name": "DescriptionStyleModel",
            "_view_count": null,
            "_view_module": "@jupyter-widgets/base",
            "_view_module_version": "1.2.0",
            "_view_name": "StyleView",
            "description_width": ""
          }
        },
        "3d33ff7148224db2bb05bcaaba8e4f23": {
          "model_module": "@jupyter-widgets/base",
          "model_name": "LayoutModel",
          "model_module_version": "1.2.0",
          "state": {
            "_model_module": "@jupyter-widgets/base",
            "_model_module_version": "1.2.0",
            "_model_name": "LayoutModel",
            "_view_count": null,
            "_view_module": "@jupyter-widgets/base",
            "_view_module_version": "1.2.0",
            "_view_name": "LayoutView",
            "align_content": null,
            "align_items": null,
            "align_self": null,
            "border": null,
            "bottom": null,
            "display": null,
            "flex": null,
            "flex_flow": null,
            "grid_area": null,
            "grid_auto_columns": null,
            "grid_auto_flow": null,
            "grid_auto_rows": null,
            "grid_column": null,
            "grid_gap": null,
            "grid_row": null,
            "grid_template_areas": null,
            "grid_template_columns": null,
            "grid_template_rows": null,
            "height": null,
            "justify_content": null,
            "justify_items": null,
            "left": null,
            "margin": null,
            "max_height": null,
            "max_width": null,
            "min_height": null,
            "min_width": null,
            "object_fit": null,
            "object_position": null,
            "order": null,
            "overflow": null,
            "overflow_x": null,
            "overflow_y": null,
            "padding": null,
            "right": null,
            "top": null,
            "visibility": null,
            "width": null
          }
        },
        "d84a01ee0a1f48a2af17ca2c7826ba63": {
          "model_module": "@jupyter-widgets/controls",
          "model_name": "ProgressStyleModel",
          "model_module_version": "1.5.0",
          "state": {
            "_model_module": "@jupyter-widgets/controls",
            "_model_module_version": "1.5.0",
            "_model_name": "ProgressStyleModel",
            "_view_count": null,
            "_view_module": "@jupyter-widgets/base",
            "_view_module_version": "1.2.0",
            "_view_name": "StyleView",
            "bar_color": null,
            "description_width": ""
          }
        },
        "0ed64896b3b64d17a3d432304742b66c": {
          "model_module": "@jupyter-widgets/base",
          "model_name": "LayoutModel",
          "model_module_version": "1.2.0",
          "state": {
            "_model_module": "@jupyter-widgets/base",
            "_model_module_version": "1.2.0",
            "_model_name": "LayoutModel",
            "_view_count": null,
            "_view_module": "@jupyter-widgets/base",
            "_view_module_version": "1.2.0",
            "_view_name": "LayoutView",
            "align_content": null,
            "align_items": null,
            "align_self": null,
            "border": null,
            "bottom": null,
            "display": null,
            "flex": null,
            "flex_flow": null,
            "grid_area": null,
            "grid_auto_columns": null,
            "grid_auto_flow": null,
            "grid_auto_rows": null,
            "grid_column": null,
            "grid_gap": null,
            "grid_row": null,
            "grid_template_areas": null,
            "grid_template_columns": null,
            "grid_template_rows": null,
            "height": null,
            "justify_content": null,
            "justify_items": null,
            "left": null,
            "margin": null,
            "max_height": null,
            "max_width": null,
            "min_height": null,
            "min_width": null,
            "object_fit": null,
            "object_position": null,
            "order": null,
            "overflow": null,
            "overflow_x": null,
            "overflow_y": null,
            "padding": null,
            "right": null,
            "top": null,
            "visibility": null,
            "width": null
          }
        },
        "fcb9dff992694c889640750157b68b26": {
          "model_module": "@jupyter-widgets/controls",
          "model_name": "DescriptionStyleModel",
          "model_module_version": "1.5.0",
          "state": {
            "_model_module": "@jupyter-widgets/controls",
            "_model_module_version": "1.5.0",
            "_model_name": "DescriptionStyleModel",
            "_view_count": null,
            "_view_module": "@jupyter-widgets/base",
            "_view_module_version": "1.2.0",
            "_view_name": "StyleView",
            "description_width": ""
          }
        }
      }
    }
  },
  "cells": [
    {
      "cell_type": "code",
      "source": [
        "import os\n",
        "import csv\n",
        "import cv2\n",
        "import torch\n",
        "import torch.nn as nn\n",
        "import torchvision\n",
        "import torchvision.transforms as transforms\n",
        "from torchvision.datasets import CIFAR10, MNIST, SVHN\n",
        "import numpy as np\n",
        "import matplotlib.pyplot as plt\n",
        "import torch.nn.functional as F\n",
        "from tqdm import tqdm\n",
        "from sklearn.metrics import auc, f1_score, precision_recall_curve, roc_auc_score, roc_curve\n",
        "!pip install git+https://github.com/aleju/imgaug.git\n",
        "import imgaug.augmenters as iaa\n",
        "import glob\n",
        "import os.path as path\n",
        "import PIL"
      ],
      "metadata": {
        "colab": {
          "base_uri": "https://localhost:8080/"
        },
        "id": "82ZmYbzBtk0W",
        "outputId": "0556b093-ce72-42a0-e07c-bee9c0954c8a"
      },
      "execution_count": null,
      "outputs": [
        {
          "output_type": "stream",
          "name": "stdout",
          "text": [
            "Looking in indexes: https://pypi.org/simple, https://us-python.pkg.dev/colab-wheels/public/simple/\n",
            "Collecting git+https://github.com/aleju/imgaug.git\n",
            "  Cloning https://github.com/aleju/imgaug.git to /tmp/pip-req-build-a07h3inm\n",
            "  Running command git clone -q https://github.com/aleju/imgaug.git /tmp/pip-req-build-a07h3inm\n",
            "Requirement already satisfied: six in /usr/local/lib/python3.7/dist-packages (from imgaug==0.4.0) (1.15.0)\n",
            "Requirement already satisfied: numpy>=1.15 in /usr/local/lib/python3.7/dist-packages (from imgaug==0.4.0) (1.21.6)\n",
            "Requirement already satisfied: scipy in /usr/local/lib/python3.7/dist-packages (from imgaug==0.4.0) (1.7.3)\n",
            "Requirement already satisfied: Pillow in /usr/local/lib/python3.7/dist-packages (from imgaug==0.4.0) (7.1.2)\n",
            "Requirement already satisfied: matplotlib in /usr/local/lib/python3.7/dist-packages (from imgaug==0.4.0) (3.2.2)\n",
            "Requirement already satisfied: scikit-image>=0.14.2 in /usr/local/lib/python3.7/dist-packages (from imgaug==0.4.0) (0.18.3)\n",
            "Requirement already satisfied: opencv-python in /usr/local/lib/python3.7/dist-packages (from imgaug==0.4.0) (4.6.0.66)\n",
            "Requirement already satisfied: Shapely in /usr/local/lib/python3.7/dist-packages (from imgaug==0.4.0) (1.8.4)\n",
            "Requirement already satisfied: imageio in /usr/local/lib/python3.7/dist-packages (from imgaug==0.4.0) (2.9.0)\n",
            "Requirement already satisfied: tifffile>=2019.7.26 in /usr/local/lib/python3.7/dist-packages (from scikit-image>=0.14.2->imgaug==0.4.0) (2021.11.2)\n",
            "Requirement already satisfied: PyWavelets>=1.1.1 in /usr/local/lib/python3.7/dist-packages (from scikit-image>=0.14.2->imgaug==0.4.0) (1.3.0)\n",
            "Requirement already satisfied: networkx>=2.0 in /usr/local/lib/python3.7/dist-packages (from scikit-image>=0.14.2->imgaug==0.4.0) (2.6.3)\n",
            "Requirement already satisfied: cycler>=0.10 in /usr/local/lib/python3.7/dist-packages (from matplotlib->imgaug==0.4.0) (0.11.0)\n",
            "Requirement already satisfied: python-dateutil>=2.1 in /usr/local/lib/python3.7/dist-packages (from matplotlib->imgaug==0.4.0) (2.8.2)\n",
            "Requirement already satisfied: pyparsing!=2.0.4,!=2.1.2,!=2.1.6,>=2.0.1 in /usr/local/lib/python3.7/dist-packages (from matplotlib->imgaug==0.4.0) (3.0.9)\n",
            "Requirement already satisfied: kiwisolver>=1.0.1 in /usr/local/lib/python3.7/dist-packages (from matplotlib->imgaug==0.4.0) (1.4.4)\n",
            "Requirement already satisfied: typing-extensions in /usr/local/lib/python3.7/dist-packages (from kiwisolver>=1.0.1->matplotlib->imgaug==0.4.0) (4.1.1)\n"
          ]
        }
      ]
    },
    {
      "cell_type": "code",
      "source": [
        "from google.colab import drive\n",
        "drive.mount(\"/content/drive\", force_remount = True)"
      ],
      "metadata": {
        "colab": {
          "base_uri": "https://localhost:8080/"
        },
        "id": "I-ewhJjivCy3",
        "outputId": "d817af86-f10d-41c7-b513-77cfc3e9074b"
      },
      "execution_count": null,
      "outputs": [
        {
          "output_type": "stream",
          "name": "stdout",
          "text": [
            "Mounted at /content/drive\n"
          ]
        }
      ]
    },
    {
      "cell_type": "code",
      "source": [
        "import zipfile\n",
        "with zipfile.ZipFile(\"/content/drive/MyDrive/Unknown_Detection/tiny-imagenet-200.zip\",\"r\") as zip_ref:\n",
        "    zip_ref.extractall()"
      ],
      "metadata": {
        "id": "LP36w-_FvHU7"
      },
      "execution_count": null,
      "outputs": []
    },
    {
      "cell_type": "code",
      "source": [],
      "metadata": {
        "id": "BU5IUrO5yjyH"
      },
      "execution_count": null,
      "outputs": []
    },
    {
      "cell_type": "code",
      "source": [
        "class Closed_TINYIMAGENET():\n",
        "    def __init__(self, size=(32,32), set_name='train',\n",
        "                 path_to_data='/content/tiny-imagenet-200', \n",
        "                 isAugment=True):\n",
        "        \n",
        "        self.path_to_data = path_to_data        \n",
        "        self.mapping_name2id = {}\n",
        "        self.mapping_id2name = {}\n",
        "        self.mapping_name2english_name = {}\n",
        "        with open(path.join(self.path_to_data, 'wnids.txt')) as csv_file:\n",
        "            csv_reader = csv.reader(csv_file, delimiter=' ')\n",
        "            idx = 0\n",
        "            for row in csv_reader:\n",
        "                if idx >= 180: \n",
        "                  break\n",
        "                self.mapping_id2name[idx] = row[0]\n",
        "                self.mapping_name2id[row[0]] = idx\n",
        "                idx += 1\n",
        "        with open(path.join(self.path_to_data, 'words.txt')) as csv_file: \n",
        "          csv_reader = csv.reader(csv_file, delimiter=' ')\n",
        "          idx = 0\n",
        "          for row in csv_reader:\n",
        "            row = row[0].split('\\t')\n",
        "            self.mapping_name2english_name[row[0]] = row[1]\n",
        "            idx += 1\n",
        "\n",
        "\n",
        "        assert len(self.mapping_id2name) == len(self.mapping_name2id) == 180\n",
        "        \n",
        "        \n",
        "        if set_name=='test':  set_name = 'val'\n",
        "        \n",
        "        self.size = size\n",
        "        self.set_name = set_name\n",
        "        self.path_to_data = path_to_data\n",
        "        self.isAugment = isAugment\n",
        "        \n",
        "        self.imageNameList  = []\n",
        "        self.className = []\n",
        "        self.labelList = []\n",
        "        self.mappingLabel2Name = dict()\n",
        "        curLabel = 0\n",
        "\n",
        "        if self.set_name == 'val':\n",
        "            with open(path.join(self.path_to_data, 'val', 'val_annotations.txt')) as csv_file:\n",
        "                csv_reader = csv.reader(csv_file, delimiter='\\t')\n",
        "                line_count = 0\n",
        "                for row in csv_reader:\n",
        "                    if row[1] not in self.mapping_name2id: continue\n",
        "                    self.imageNameList += [path.join(self.path_to_data, 'val', 'images', row[0])]\n",
        "                    self.labelList += [self.mapping_name2id[row[1]]]\n",
        "        else: # 'train'\n",
        "            self.current_class_dir = path.join(self.path_to_data, self.set_name)\n",
        "            for curClass in os.listdir(self.current_class_dir):                 \n",
        "                if curClass[0]=='.':   continue\n",
        "                if curClass not in self.mapping_name2id: continue\n",
        "                \n",
        "                curLabel = self.mapping_name2id[curClass]\n",
        "                for curImg in os.listdir(path.join(self.current_class_dir, curClass, 'images')):\n",
        "                    if curImg[0]=='.':    continue\n",
        "                    self.labelList += [curLabel]\n",
        "                    self.imageNameList += [path.join(self.path_to_data, self.set_name, curClass, 'images', curImg)]\n",
        "\n",
        "        \n",
        "        self.current_set_len = len(self.labelList)\n",
        "        \n",
        "        if self.set_name=='test' or self.set_name=='val' or  not self.isAugment:\n",
        "            self.transform = transforms.Compose([\n",
        "                transforms.RandomCrop(self.size[0], padding=4), \n",
        "                transforms.ToTensor(),\n",
        "                transforms.Normalize((0.4802, 0.4481, 0.3975), (0.2302, 0.2265, 0.2262)),\n",
        "            ])            # ((0.4914, 0.4822, 0.4465), (0.2023, 0.1994, 0.2010))\n",
        "        else:\n",
        "            self.transform = transforms.Compose([\n",
        "                transforms.RandomCrop(self.size[0], padding=4),\n",
        "                transforms.RandomHorizontalFlip(),\n",
        "                transforms.ToTensor(),\n",
        "                transforms.Normalize((0.4802, 0.4481, 0.3975), (0.2302, 0.2265, 0.2262)),\n",
        "            ])\n",
        "        \n",
        "    def __len__(self):        \n",
        "        return self.current_set_len\n",
        "    \n",
        "    def __getitem__(self, idx):\n",
        "        curLabel = np.asarray(self.labelList[idx])\n",
        "        curImage = self.imageNameList[idx]\n",
        "        curImage = PIL.Image.open(curImage).convert('RGB')\n",
        "        curImage = self.transform(curImage)\n",
        "        \n",
        "        #print(idx, curLabel)\n",
        "        \n",
        "        #curLabel = torch.tensor([curLabel]).unsqueeze(0).unsqueeze(0)\n",
        "\n",
        "        return curImage, torch.ones(curLabel.shape)"
      ],
      "metadata": {
        "id": "dxLb9m__vR1n"
      },
      "execution_count": null,
      "outputs": []
    },
    {
      "cell_type": "code",
      "source": [
        "class Aug_Closed_TINYIMAGENET():\n",
        "    def __init__(self, transforms, size=(32,32), set_name='train',\n",
        "                 path_to_data='/content/tiny-imagenet-200', \n",
        "                 isAugment=True):\n",
        "        \n",
        "        self.path_to_data = path_to_data        \n",
        "        self.mapping_name2id = {}\n",
        "        self.mapping_id2name = {}\n",
        "        self.mapping_name2english_name = {}\n",
        "        with open(path.join(self.path_to_data, 'wnids.txt')) as csv_file:\n",
        "            csv_reader = csv.reader(csv_file, delimiter=' ')\n",
        "            idx = 0\n",
        "            for row in csv_reader:\n",
        "                if idx >= 180: \n",
        "                  break\n",
        "                self.mapping_id2name[idx] = row[0]\n",
        "                self.mapping_name2id[row[0]] = idx\n",
        "                idx += 1\n",
        "        with open(path.join(self.path_to_data, 'words.txt')) as csv_file: \n",
        "          csv_reader = csv.reader(csv_file, delimiter=' ')\n",
        "          idx = 0\n",
        "          for row in csv_reader:\n",
        "            row = row[0].split('\\t')\n",
        "            self.mapping_name2english_name[row[0]] = row[1]\n",
        "            idx += 1\n",
        "\n",
        "\n",
        "        assert len(self.mapping_id2name) == len(self.mapping_name2id) == 180\n",
        "        \n",
        "        \n",
        "        if set_name=='test':  set_name = 'val'\n",
        "        \n",
        "        self.size = size\n",
        "        self.set_name = set_name\n",
        "        self.path_to_data = path_to_data\n",
        "        self.isAugment = isAugment\n",
        "        \n",
        "        self.imageNameList  = []\n",
        "        self.className = []\n",
        "        self.labelList = []\n",
        "        self.mappingLabel2Name = dict()\n",
        "        curLabel = 0\n",
        "\n",
        "        if self.set_name == 'val':\n",
        "            with open(path.join(self.path_to_data, 'val', 'val_annotations.txt')) as csv_file:\n",
        "                csv_reader = csv.reader(csv_file, delimiter='\\t')\n",
        "                line_count = 0\n",
        "                for row in csv_reader:\n",
        "                    if row[1] not in self.mapping_name2id: continue\n",
        "                    self.imageNameList += [path.join(self.path_to_data, 'val', 'images', row[0])]\n",
        "                    self.labelList += [self.mapping_name2id[row[1]]]\n",
        "\n",
        "        self.transforms = transforms \n",
        "        self.current_set_len = len(self.labelList)    \n",
        "        \n",
        "    def __len__(self):        \n",
        "        return self.current_set_len\n",
        "    \n",
        "    def __getitem__(self, idx):\n",
        "        curLabel = np.asarray(self.labelList[idx])\n",
        "        curImage = self.imageNameList[idx]\n",
        "        curImage = cv2.imread(curImage)\n",
        "        curImage = cv2.cvtColor(curImage, cv2.COLOR_RGB2BGR)\n",
        "        curImage = self.transforms(image = curImage)\n",
        "\n",
        "        trans = transforms.Compose([\n",
        "                transforms.ToPILImage(), \n",
        "                transforms.RandomCrop(self.size[0], padding=4),\n",
        "                transforms.ToTensor(),\n",
        "                transforms.Normalize((0.4802, 0.4481, 0.3975), (0.2302, 0.2265, 0.2262)),\n",
        "            ])\n",
        "        curImage = trans(curImage)\n",
        "      \n",
        "        \n",
        "        #print(idx, curLabel)\n",
        "        \n",
        "        #curLabel = torch.tensor([curLabel]).unsqueeze(0).unsqueeze(0)\n",
        "\n",
        "        return curImage, torch.zeros(curLabel.shape)"
      ],
      "metadata": {
        "id": "fyD9yYV0zFQf"
      },
      "execution_count": null,
      "outputs": []
    },
    {
      "cell_type": "code",
      "source": [
        "# transforms_noisyOE = iaa.Sequential([\n",
        "#     iaa.Fliplr(0.5),\n",
        "#     iaa.pillike.EnhanceContrast(), \n",
        "#     iaa.GaussianBlur(sigma=(0.1, 2)), \n",
        "#     iaa.Rain(speed=(0.5, 0.9))\n",
        "# ])\n",
        "\n",
        "transforms_noisyOE = iaa.Sequential([\n",
        "    iaa.pillike.EnhanceContrast(), \n",
        "    iaa.GaussianBlur(sigma=(0.1, 1))\n",
        "])\n",
        "\n",
        "batch_size = 32\n",
        "classes = [\"Unseen\", \"Seen\"]\n",
        "\n",
        "augmented_testTinyImageNet = Aug_Closed_TINYIMAGENET(set_name = 'val', transforms = transforms_noisyOE)\n",
        "augmented_testTinyImageNetLoader = torch.utils.data.DataLoader(augmented_testTinyImageNet, batch_size = 32, shuffle = True)\n",
        "print(\"Length of testTinyImageNet is {}\".format(len(augmented_testTinyImageNet)))\n",
        "\n",
        "# Plot train images\n",
        "test_dataiter = iter(augmented_testTinyImageNetLoader)\n",
        "images, targets = next(test_dataiter)\n",
        "assert max(targets) < 180\n",
        "images = images.numpy()\n",
        "images -= images.min() \n",
        "images /= images.max()\n",
        "\n",
        "fig = plt.figure(figsize=(25, 4))\n",
        "for idx in np.arange(15):\n",
        "  ax = fig.add_subplot(2, 16/2, idx+1, xticks=[], yticks=[])\n",
        "  plt.imshow(np.transpose(images[idx], (1, 2, 0)))\n",
        "  ax.set_title(classes[int(targets[idx].item())])\n",
        "  ax = fig.add_subplot(2, 16/2, idx+1, xticks=[], yticks=[])"
      ],
      "metadata": {
        "colab": {
          "base_uri": "https://localhost:8080/",
          "height": 324
        },
        "id": "1yu5D1Eayk_c",
        "outputId": "56566d47-afd2-469f-e13c-cef3d1f81bed"
      },
      "execution_count": null,
      "outputs": [
        {
          "output_type": "stream",
          "name": "stdout",
          "text": [
            "Length of testTinyImageNet is 9000\n"
          ]
        },
        {
          "output_type": "stream",
          "name": "stderr",
          "text": [
            "/usr/local/lib/python3.7/dist-packages/ipykernel_launcher.py:33: MatplotlibDeprecationWarning: Adding an axes using the same arguments as a previous axes currently reuses the earlier instance.  In a future version, a new instance will always be created and returned.  Meanwhile, this warning can be suppressed, and the future behavior ensured, by passing a unique label to each axes instance.\n"
          ]
        },
        {
          "output_type": "display_data",
          "data": {
            "text/plain": [
              "<Figure size 1800x288 with 15 Axes>"
            ],
            "image/png": "[encoded data removed]"
          },
          "metadata": {}
        }
      ]
    },
    {
      "cell_type": "code",
      "source": [
        "batch_size = 32\n",
        "classes = [\"Unseen\", \"Seen\"]\n",
        "\n",
        "testTinyImageNet = Closed_TINYIMAGENET(set_name = 'test')\n",
        "testTinyImageNetLoader = torch.utils.data.DataLoader(testTinyImageNet, batch_size = 32, shuffle = True)\n",
        "print(\"Length of testTinyImageNet is {}\".format(len(testTinyImageNet)))\n",
        "\n",
        "# Plot train images\n",
        "test_dataiter = iter(testTinyImageNetLoader)\n",
        "images, targets = next(test_dataiter)\n",
        "assert max(targets) < 180\n",
        "images = images.numpy()\n",
        "images -= images.min() \n",
        "images /= images.max()\n",
        "print(images.shape)\n",
        "\n",
        "fig = plt.figure(figsize=(25, 4))\n",
        "for idx in np.arange(15):\n",
        "  ax = fig.add_subplot(2, 16/2, idx+1, xticks=[], yticks=[])\n",
        "  plt.imshow(np.transpose(images[idx], (1, 2, 0)))\n",
        "  ax.set_title(classes[int(targets[idx].item())])\n",
        "  ax = fig.add_subplot(2, 16/2, idx+1, xticks=[], yticks=[])"
      ],
      "metadata": {
        "colab": {
          "base_uri": "https://localhost:8080/",
          "height": 342
        },
        "id": "Brj1sLeE0mtt",
        "outputId": "ecf0450f-659f-464d-84e7-0a69229c1abf"
      },
      "execution_count": null,
      "outputs": [
        {
          "output_type": "stream",
          "name": "stdout",
          "text": [
            "Length of testTinyImageNet is 9000\n",
            "(32, 3, 32, 32)\n"
          ]
        },
        {
          "output_type": "stream",
          "name": "stderr",
          "text": [
            "/usr/local/lib/python3.7/dist-packages/ipykernel_launcher.py:22: MatplotlibDeprecationWarning: Adding an axes using the same arguments as a previous axes currently reuses the earlier instance.  In a future version, a new instance will always be created and returned.  Meanwhile, this warning can be suppressed, and the future behavior ensured, by passing a unique label to each axes instance.\n"
          ]
        },
        {
          "output_type": "display_data",
          "data": {
            "text/plain": [
              "<Figure size 1800x288 with 15 Axes>"
            ],
            "image/png": "[encoded data removed]"
          },
          "metadata": {}
        }
      ]
    },
    {
      "cell_type": "code",
      "source": [
        "mean = [x / 255 for x in [125.3, 123.0, 113.9]]\n",
        "std = [x / 255 for x in [63.0, 62.1, 66.7]]\n",
        "\n",
        "class SplitCIFAR(torch.utils.data.Dataset):\n",
        "    def __init__(self, data, targets, split, mode, transformFunc, iaa_compat = False, rain = False):\n",
        "        \"\"\"\n",
        "        datasets: a list of get_class_i outputs, i.e. a list of list of images for selected classes\n",
        "        \"\"\"\n",
        "        img2targets = list(zip(data, targets))\n",
        "        self.data = list()\n",
        "        self.iaa_compat = iaa_compat\n",
        "        self.rain = rain\n",
        "\n",
        "        if mode == \"train\": \n",
        "          for v in img2targets:\n",
        "            _, target = v\n",
        "            if target < split: \n",
        "              self.data.append(v)\n",
        "        elif mode == \"test\": \n",
        "          for v in img2targets: \n",
        "            _, target = v \n",
        "            if target >= split: \n",
        "              self.data.append(v)\n",
        "        else: \n",
        "          raise ValueError(\"Not a mode\")\n",
        "        \n",
        "        self.transformFunc = transformFunc\n",
        "\n",
        "        if self.iaa_compat: \n",
        "          self.contents = [\"UNSEEN\"] * (len(self.data) // 2)\n",
        "          left = len(self.data) - len(self.contents)\n",
        "          self.contents.extend(([\"SEEN\"] * left))\n",
        "\n",
        "          assert len(self.contents) == len(self.data)\n",
        "\n",
        "          self.normal_transform = transforms.Compose([\n",
        "                                                      transforms.ToPILImage(), \n",
        "                                                      transforms.ToTensor(), \n",
        "                                                      transforms.Normalize(mean, std)])                             \n",
        "    def __getitem__(self, i):\n",
        "       img, target = self.data[i]\n",
        "       if self.iaa_compat: \n",
        "         if self.contents[i] == \"UNSEEN\":\n",
        "           img = self.transformFunc(image = img)\n",
        "           target = torch.tensor(0, dtype = int)\n",
        "         else: \n",
        "           '''SEEN data'''\n",
        "           if self.rain: \n",
        "             img = self.transformFunc(image = img)\n",
        "           target = torch.tensor(1, dtype = int)\n",
        "\n",
        "         img = self.normal_transform(img)\n",
        "         return img, target \n",
        "       else: \n",
        "         img = self.transformFunc(img)\n",
        "         return img, target\n",
        "\n",
        "    def __len__(self):\n",
        "        return len(self.data)\n",
        "\n",
        "batch_size = 32\n",
        "\n",
        "split = 60\n",
        "testset = CIFAR10(root='./data', train=False, download=True)\n",
        "test_transform = transforms.Compose([\n",
        "    transforms.ToPILImage(), \n",
        "    transforms.ToTensor(), \n",
        "    transforms.Normalize(mean, std)\n",
        "])\n",
        "test_closedset_CIFAR = SplitCIFAR(testset.data, testset.targets, split, \"train\", test_transform)\n",
        "len(test_closedset_CIFAR)"
      ],
      "metadata": {
        "colab": {
          "base_uri": "https://localhost:8080/",
          "height": 103,
          "referenced_widgets": [
            "583f2e410c0e459b91e8ee48411a92d6",
            "2e815a21dd7d4da5859f0d50ab27aa39",
            "132de72019704650836c8d0f9edf9bc1",
            "6e03717cfe694293a217107817b90456",
            "2c2fdcc9f450478e92e899bfbabfde5f",
            "f14d46a89d194381921933bad4aa5b9c",
            "e8681693f8fa49cd9b379fa520474d44",
            "daaebcf011174456b56d2cb4105e5a53",
            "41f913c95fc8493c952735d552c308a7",
            "651b6329b9ea46699c576b6a89393457",
            "a077b31a308d467a8bc58ba869fd1c22"
          ]
        },
        "id": "I7z0d8w1mETH",
        "outputId": "5f89ff81-7000-4e91-8faf-3f6f88fb805b"
      },
      "execution_count": null,
      "outputs": [
        {
          "output_type": "stream",
          "name": "stdout",
          "text": [
            "Downloading https://www.cs.toronto.edu/~kriz/cifar-10-python.tar.gz to ./data/cifar-10-python.tar.gz\n"
          ]
        },
        {
          "output_type": "display_data",
          "data": {
            "text/plain": [
              "  0%|          | 0/170498071 [00:00<?, ?it/s]"
            ],
            "application/vnd.jupyter.widget-view+json": {
              "version_major": 2,
              "version_minor": 0,
              "model_id": "583f2e410c0e459b91e8ee48411a92d6"
            }
          },
          "metadata": {}
        },
        {
          "output_type": "stream",
          "name": "stdout",
          "text": [
            "Extracting ./data/cifar-10-python.tar.gz to ./data\n"
          ]
        },
        {
          "output_type": "execute_result",
          "data": {
            "text/plain": [
              "10000"
            ]
          },
          "metadata": {},
          "execution_count": 8
        }
      ]
    },
    {
      "cell_type": "code",
      "source": [
        "eurosat_data = torchvision.datasets.EuroSAT(\"/content\", download = True)\n",
        "# places_365 = torchvision.datasets.SUN397(\"/content\", download = True)"
      ],
      "metadata": {
        "id": "muF0O72jHduu",
        "colab": {
          "base_uri": "https://localhost:8080/",
          "height": 85,
          "referenced_widgets": [
            "387ad6dafd0445faa8e2a59d32cf10d0",
            "975c36ad27354d2ab7111f76839cdff5",
            "7c996e40f8c84e1abfae069a9afb3957",
            "1283b08572d34888bbc3131c072ae3b5",
            "3728bd29a40546dd887099c5c8748250",
            "741a6aeecf204ee4b5a339c7a3bff532",
            "2f9fe201d9c64b469ee857c9501be67c",
            "2fd4f65360b941489eb95fdc32145db9",
            "5cf2b68b8a6849b08515b39797018fc2",
            "94a7f3d278f34ac6b187ba5c44e83e6d",
            "b750606d63374e6384d5713b2b6ed387"
          ]
        },
        "outputId": "8525d0c5-eecb-4969-9978-25fdad064d56"
      },
      "execution_count": null,
      "outputs": [
        {
          "output_type": "stream",
          "name": "stdout",
          "text": [
            "Downloading https://madm.dfki.de/files/sentinel/EuroSAT.zip to /content/eurosat/EuroSAT.zip\n"
          ]
        },
        {
          "output_type": "display_data",
          "data": {
            "text/plain": [
              "  0%|          | 0/94280567 [00:00<?, ?it/s]"
            ],
            "application/vnd.jupyter.widget-view+json": {
              "version_major": 2,
              "version_minor": 0,
              "model_id": "387ad6dafd0445faa8e2a59d32cf10d0"
            }
          },
          "metadata": {}
        },
        {
          "output_type": "stream",
          "name": "stdout",
          "text": [
            "Extracting /content/eurosat/EuroSAT.zip to /content/eurosat\n"
          ]
        }
      ]
    },
    {
      "cell_type": "code",
      "source": [
        "eurosat_data"
      ],
      "metadata": {
        "colab": {
          "base_uri": "https://localhost:8080/"
        },
        "id": "lthh6PCzHzJj",
        "outputId": "3486631b-2de1-46e9-c234-5a5a8f37c5db"
      },
      "execution_count": null,
      "outputs": [
        {
          "output_type": "execute_result",
          "data": {
            "text/plain": [
              "Dataset EuroSAT\n",
              "    Number of datapoints: 27000\n",
              "    Root location: /content"
            ]
          },
          "metadata": {},
          "execution_count": 97
        }
      ]
    },
    {
      "cell_type": "code",
      "source": [
        "class EuroSAT_Dataset(torch.utils.data.Dataset):\n",
        "    def __init__(self, root):\n",
        "      self.images = glob.glob(os.path.join(root, \"2750\", \"*\", \"*.jpg\"))   \n",
        "      self.transform = transforms.Compose([transforms.ToPILImage(), \n",
        "                                           transforms.Resize(32), \n",
        "                                          transforms.ToTensor(), \n",
        "                                          transforms.Normalize(mean, std)])                          \n",
        "    def __getitem__(self, i):\n",
        "       image = cv2.cvtColor(cv2.imread(self.images[i]), cv2.COLOR_RGB2BGR)\n",
        "       image = self.transform(image)\n",
        "\n",
        "       return image, torch.tensor(0)\n",
        "\n",
        "    def __len__(self):\n",
        "      return len(self.images)\n",
        "euro_dataset = EuroSAT_Dataset(\"/content/eurosat\")\n",
        "euro_dl = torch.utils.data.DataLoader(euro_dataset, batch_size = 32, shuffle = True)"
      ],
      "metadata": {
        "id": "vCyuEnS6HCsn"
      },
      "execution_count": null,
      "outputs": []
    },
    {
      "cell_type": "code",
      "execution_count": null,
      "metadata": {
        "id": "tNZMiakStbi3"
      },
      "outputs": [],
      "source": [
        "# Metrics: \n",
        "\n",
        "def F_measure(preds, labels, openset=False, theta=None):\n",
        "  if openset:\n",
        "      # f1 score for openset evaluation\n",
        "      true_pos = 0.\n",
        "      false_pos = 0.\n",
        "      false_neg = 0.        \n",
        "      for i in range(len(labels)):\n",
        "          true_pos += 1 if preds[i] == labels[i] and labels[i] != -1 else 0\n",
        "          false_pos += 1 if preds[i] != labels[i] and labels[i] != -1 else 0\n",
        "          false_neg += 1 if preds[i] != labels[i] and labels[i] == -1 else 0\n",
        "\n",
        "      precision = true_pos / (true_pos + false_pos)\n",
        "      recall = true_pos / (true_pos + false_neg)\n",
        "      return 2 * ((precision * recall) / (precision + recall + 1e-12))\n",
        "  else: # Regular f1 score        \n",
        "      return f1_score(labels, preds, average='macro')\n",
        "\n",
        "def roc(scores, labels, **kwargs):\n",
        "    \"\"\"Returns the ROC curve and the area under it. The implementation assumes binary classification\n",
        "\n",
        "    Args:\n",
        "        labels (np.array): denotes label for each data point\n",
        "        scores (np.array): denotes predicted probability of data point being 1\n",
        "    \"\"\"\n",
        "    if 'gt_shift' in kwargs:\n",
        "        labels = labels - kwargs['gt_shift']\n",
        "    fpr, tpr, thresholds = roc_curve(labels, scores)\n",
        "    auc_score = roc_auc_score(labels, scores)\n",
        "    roc_data = {\n",
        "        'tp': list(tpr),\n",
        "        'fp': list(fpr),\n",
        "        'thresh': list(thresholds),\n",
        "        'auc': auc_score,\n",
        "    }\n",
        "    return roc_data\n",
        "\n",
        "\n",
        "def pr(scores, labels, **kwargs):\n",
        "    \"\"\"Returns the PR curve and the area under it. The implementation assumes binary classification\n",
        "\n",
        "    Args:\n",
        "        labels (np.array): denotes label for each data point\n",
        "        scores (np.array): denotes predicted probability of data point being 1\n",
        "    \"\"\"\n",
        "    precision, recall, thresholds = precision_recall_curve(labels, scores)\n",
        "    auc_score = auc(recall, precision)\n",
        "\n",
        "    pr_data = {\n",
        "        'precision': list(precision),\n",
        "        'recall': list(recall),\n",
        "        'thresh': list(thresholds),\n",
        "        'auc': auc_score,\n",
        "    }\n",
        "    return pr_data\n",
        "\n",
        "def ccr(scores, labels, **kwargs):\n",
        "    \"\"\"Returns the CCR VS FPR curve and returns the area under it.\n",
        "\n",
        "    Args:\n",
        "        labels (np.array): denotes label for each data point\n",
        "        scores (np.array): denotes predicted probability of data point being 1\n",
        "    \"\"\"\n",
        "    if 'gt_shift' in kwargs:\n",
        "        labels = labels - kwargs['gt_shift']\n",
        "    max_indices = np.argmax(scores, axis=1) # Nx(K+1)\n",
        "    max_values = np.take_along_axis(scores, max_indices[:, None], axis=1)\n",
        "    data = list(zip([elem[0] for elem in max_values], max_indices, labels))\n",
        "    data.sort(key=lambda x: x[0], reverse=True)\n",
        "    cls_count = len(scores[0])\n",
        "    unknown_count = len(np.where(labels == 0)[0])  # Unknown class is 0\n",
        "    known_count = len(labels) - unknown_count\n",
        "    fp = [0]\n",
        "    tp = [0]\n",
        "    thresholds = list()\n",
        "    n = 0\n",
        "    n_above_unknown = 0\n",
        "    curr_unknown_prob = 1\n",
        "    for score, pred_cls, gt_cls in data:\n",
        "        if gt_cls == 0:\n",
        "            curr_unknown_prob = score\n",
        "            thresholds.append(score)\n",
        "            fp.append(fp[-1] + 1)\n",
        "            tp.append(n)\n",
        "        elif pred_cls == gt_cls:\n",
        "            n_above_unknown += 1\n",
        "            if score < curr_unknown_prob:\n",
        "                n = n_above_unknown\n",
        "    fpr = np.asarray(fp[1:]) / unknown_count\n",
        "    ccr = np.asarray(tp[1:]) / known_count\n",
        "    auc_score = auc(fpr, ccr)\n",
        "    ccr_data = {\n",
        "        'ccr': list(ccr),\n",
        "        'fpr': list(fpr),\n",
        "        'thresh': thresholds,\n",
        "        'auc': auc_score,\n",
        "    }\n",
        "    return ccr_data\n",
        "    "
      ]
    },
    {
      "cell_type": "markdown",
      "source": [
        "# Initialize The Model"
      ],
      "metadata": {
        "id": "a_WgRNOoI6rS"
      }
    },
    {
      "cell_type": "code",
      "source": [
        "!git clone https://github.com/aimerykong/OpenGAN.git\n",
        "%cd \"/content/OpenGAN\""
      ],
      "metadata": {
        "id": "r9faCjJ0vCEc",
        "colab": {
          "base_uri": "https://localhost:8080/"
        },
        "outputId": "179a935d-f155-4eea-907d-0728047cc62b"
      },
      "execution_count": null,
      "outputs": [
        {
          "output_type": "stream",
          "name": "stdout",
          "text": [
            "Cloning into 'OpenGAN'...\n",
            "remote: Enumerating objects: 66, done.\u001b[K\n",
            "remote: Counting objects: 100% (66/66), done.\u001b[K\n",
            "remote: Compressing objects: 100% (53/53), done.\u001b[K\n",
            "remote: Total 66 (delta 28), reused 24 (delta 8), pack-reused 0\u001b[K\n",
            "Unpacking objects: 100% (66/66), done.\n",
            "/content/OpenGAN\n"
          ]
        }
      ]
    },
    {
      "cell_type": "code",
      "source": [
        "from __future__ import print_function, division\n",
        "import os, random, time, copy, scipy, pickle, sys, math, json, pickle\n",
        "\n",
        "import argparse, pprint, shutil, logging, time, timeit\n",
        "from pathlib import Path\n",
        "\n",
        "from skimage import io, transform\n",
        "import numpy as np\n",
        "import os.path as path\n",
        "import scipy.io as sio\n",
        "from scipy import misc\n",
        "from scipy import ndimage, signal\n",
        "import matplotlib.pyplot as plt\n",
        "# import PIL.Image\n",
        "from PIL import Image\n",
        "from io import BytesIO\n",
        "from skimage import data, img_as_float\n",
        "from tqdm import tqdm \n",
        "from sklearn.metrics import auc, f1_score, precision_recall_curve, roc_auc_score, roc_curve\n",
        "\n",
        "import torch, torchvision\n",
        "from torch.utils.data import Dataset, DataLoader\n",
        "import torch.nn as nn\n",
        "import torch.optim as optim\n",
        "from torch.optim import lr_scheduler \n",
        "import torch.nn.functional as F\n",
        "from torch.autograd import Variable\n",
        "from torchvision import datasets, models, transforms\n",
        "import torchvision.utils as vutils\n",
        "from torchvision.datasets import CIFAR10, MNIST, SVHN\n",
        "from collections import namedtuple\n",
        "\n",
        "# from config_HRNet import models\n",
        "# from config_HRNet import seg_hrnet\n",
        "# from config_HRNet import config\n",
        "# from config_HRNet import update_config\n",
        "# from config_HRNet.modelsummary  import *\n",
        "# from config_HRNet.utils import *\n",
        "\n",
        "\n",
        "from utils.dataset_tinyimagenet import *\n",
        "from utils.dataset_cityscapes import *\n",
        "from utils.eval_funcs import *\n",
        "\n",
        "!pip install git+https://github.com/aleju/imgaug.git\n",
        "import imgaug.augmenters as iaa\n",
        "\n",
        "\n",
        "import warnings # ignore warnings\n",
        "warnings.filterwarnings(\"ignore\")\n",
        "print(sys.version)\n",
        "print(torch.__version__)\n",
        "\n",
        "# %load_ext autoreload\n",
        "# %autoreload 2"
      ],
      "metadata": {
        "colab": {
          "base_uri": "https://localhost:8080/"
        },
        "id": "nTGiSBF8I5gZ",
        "outputId": "d0c31721-ef59-4d91-855e-92244f26465a"
      },
      "execution_count": null,
      "outputs": [
        {
          "output_type": "stream",
          "name": "stdout",
          "text": [
            "Looking in indexes: https://pypi.org/simple, https://us-python.pkg.dev/colab-wheels/public/simple/\n",
            "Collecting git+https://github.com/aleju/imgaug.git\n",
            "  Cloning https://github.com/aleju/imgaug.git to /tmp/pip-req-build-ei4nvrcg\n",
            "  Running command git clone -q https://github.com/aleju/imgaug.git /tmp/pip-req-build-ei4nvrcg\n",
            "Requirement already satisfied: six in /usr/local/lib/python3.7/dist-packages (from imgaug==0.4.0) (1.15.0)\n",
            "Requirement already satisfied: numpy>=1.15 in /usr/local/lib/python3.7/dist-packages (from imgaug==0.4.0) (1.21.6)\n",
            "Requirement already satisfied: scipy in /usr/local/lib/python3.7/dist-packages (from imgaug==0.4.0) (1.7.3)\n",
            "Requirement already satisfied: Pillow in /usr/local/lib/python3.7/dist-packages (from imgaug==0.4.0) (7.1.2)\n",
            "Requirement already satisfied: matplotlib in /usr/local/lib/python3.7/dist-packages (from imgaug==0.4.0) (3.2.2)\n",
            "Requirement already satisfied: scikit-image>=0.14.2 in /usr/local/lib/python3.7/dist-packages (from imgaug==0.4.0) (0.18.3)\n",
            "Requirement already satisfied: opencv-python in /usr/local/lib/python3.7/dist-packages (from imgaug==0.4.0) (4.6.0.66)\n",
            "Requirement already satisfied: Shapely in /usr/local/lib/python3.7/dist-packages (from imgaug==0.4.0) (1.8.4)\n",
            "Requirement already satisfied: imageio in /usr/local/lib/python3.7/dist-packages (from imgaug==0.4.0) (2.9.0)\n",
            "Requirement already satisfied: networkx>=2.0 in /usr/local/lib/python3.7/dist-packages (from scikit-image>=0.14.2->imgaug==0.4.0) (2.6.3)\n",
            "Requirement already satisfied: PyWavelets>=1.1.1 in /usr/local/lib/python3.7/dist-packages (from scikit-image>=0.14.2->imgaug==0.4.0) (1.3.0)\n",
            "Requirement already satisfied: tifffile>=2019.7.26 in /usr/local/lib/python3.7/dist-packages (from scikit-image>=0.14.2->imgaug==0.4.0) (2021.11.2)\n",
            "Requirement already satisfied: cycler>=0.10 in /usr/local/lib/python3.7/dist-packages (from matplotlib->imgaug==0.4.0) (0.11.0)\n",
            "Requirement already satisfied: python-dateutil>=2.1 in /usr/local/lib/python3.7/dist-packages (from matplotlib->imgaug==0.4.0) (2.8.2)\n",
            "Requirement already satisfied: kiwisolver>=1.0.1 in /usr/local/lib/python3.7/dist-packages (from matplotlib->imgaug==0.4.0) (1.4.4)\n",
            "Requirement already satisfied: pyparsing!=2.0.4,!=2.1.2,!=2.1.6,>=2.0.1 in /usr/local/lib/python3.7/dist-packages (from matplotlib->imgaug==0.4.0) (3.0.9)\n",
            "Requirement already satisfied: typing-extensions in /usr/local/lib/python3.7/dist-packages (from kiwisolver>=1.0.1->matplotlib->imgaug==0.4.0) (4.1.1)\n",
            "3.7.14 (default, Sep  8 2022, 00:06:44) \n",
            "[GCC 7.5.0]\n",
            "1.12.1+cu113\n"
          ]
        }
      ]
    },
    {
      "cell_type": "code",
      "source": [
        "# set the random seed\n",
        "torch.manual_seed(0)\n",
        "\n",
        "\n",
        "################## set attributes for this project/experiment ##################\n",
        "# config result folder\n",
        "exp_dir = './exp' # experiment directory, used for reading the init model\n",
        "\n",
        "num_open_training_images = 1000\n",
        "weight_adversarialLoss = 0.2\n",
        "project_name = 'demo_step030_OpenGAN_num{}_w{:.2f}'.format(num_open_training_images, weight_adversarialLoss)\n",
        "\n",
        "\n",
        "device ='cpu'\n",
        "if torch.cuda.is_available(): \n",
        "    device='cuda'\n",
        "        \n",
        "\n",
        "\n",
        "ganBatchSize = 64 # 32 fake images\n",
        "batch_size = 64\n",
        "newsize = (-1,-1)\n",
        "\n",
        "total_epoch_num = 20 # total number of epoch in training\n",
        "insertConv = False    \n",
        "embDimension = 64\n",
        "#isPretrained = False\n",
        "#encoder_num_layers = 18\n",
        "\n",
        "\n",
        "# Number of channels in the training images. For color images this is 3\n",
        "nc = 2048\n",
        "# Size of z latent vector (i.e. size of generator input)\n",
        "nz = 64\n",
        "# Size of feature maps in generator\n",
        "ngf = 64\n",
        "# Size of feature maps in discriminator\n",
        "ndf = 64\n",
        "# Beta1 hyperparam for Adam optimizers\n",
        "beta1 = 0.5\n",
        "# Number of GPUs available. Use 0 for CPU mode.\n",
        "ngpu = 1\n",
        "\n",
        "\n",
        "save_dir = os.path.join(exp_dir, project_name)\n",
        "if not os.path.exists(exp_dir): os.makedirs(exp_dir)\n",
        "\n",
        "lr = 0.0001 # base learning rate\n",
        "\n",
        "num_epochs = total_epoch_num\n",
        "torch.cuda.device_count()\n",
        "torch.cuda.empty_cache()\n",
        "\n",
        "save_dir = os.path.join(exp_dir, project_name)\n",
        "print(save_dir)    \n",
        "if not os.path.exists(save_dir): os.makedirs(save_dir)\n",
        "\n",
        "log_filename = os.path.join(save_dir, 'train.log')\n",
        "\n",
        "def weights_init(m):\n",
        "    classname = m.__class__.__name__\n",
        "    if classname.find('Conv') != -1:\n",
        "        nn.init.normal_(m.weight.data, 0.0, 0.02)\n",
        "    elif classname.find('BatchNorm') != -1:\n",
        "        nn.init.normal_(m.weight.data, 1.0, 0.02)\n",
        "        nn.init.constant_(m.bias.data, 0)     \n",
        "\n",
        "class Discriminator(nn.Module):\n",
        "    def __init__(self, ngpu=1, nc=2048, ndf=64):\n",
        "        super(Discriminator, self).__init__()\n",
        "        self.ngpu = ngpu\n",
        "        self.nc = nc\n",
        "        self.ndf = ndf\n",
        "        self.main = nn.Sequential(\n",
        "            nn.Conv2d(self.nc, self.ndf*8, 1, 1, 0, bias=False),\n",
        "            nn.LeakyReLU(0.2, inplace=True),\n",
        "            nn.Conv2d(self.ndf*8, self.ndf*4, 1, 1, 0, bias=False),\n",
        "            nn.BatchNorm2d(self.ndf*4),\n",
        "            nn.LeakyReLU(0.2, inplace=True),\n",
        "            nn.Conv2d(self.ndf*4, self.ndf*2, 1, 1, 0, bias=False),\n",
        "            nn.BatchNorm2d(self.ndf*2),\n",
        "            nn.LeakyReLU(0.2, inplace=True),\n",
        "            nn.Conv2d(self.ndf*2, self.ndf, 1, 1, 0, bias=False),\n",
        "            nn.BatchNorm2d(self.ndf),\n",
        "            nn.LeakyReLU(0.2, inplace=True),\n",
        "            nn.Conv2d(self.ndf, 1, 1, 1, 0, bias=False),\n",
        "            nn.Sigmoid()\n",
        "        )\n",
        "\n",
        "    def forward(self, input):\n",
        "        return self.main(input)\n",
        "\n",
        "class ResnetEncoder(nn.Module):\n",
        "    \"\"\"Pytorch module for a resnet encoder\n",
        "    \"\"\"\n",
        "    def __init__(self, num_layers=18, isPretrained=False, isGrayscale=False, embDimension=128, poolSize=4):\n",
        "        super(ResnetEncoder, self).__init__()\n",
        "        self.path_to_model = '../models'\n",
        "        self.num_ch_enc = np.array([64, 64, 128, 256, 512])\n",
        "        self.isGrayscale = isGrayscale\n",
        "        self.isPretrained = isPretrained\n",
        "        self.embDimension = embDimension\n",
        "        self.poolSize = poolSize\n",
        "        self.featListName = ['layer0', 'layer1', 'layer2', 'layer3', 'layer4']\n",
        "        \n",
        "        resnets = {\n",
        "            18: models.resnet18, \n",
        "            34: models.resnet34,\n",
        "            50: models.resnet50, \n",
        "            101: models.resnet101,\n",
        "            152: models.resnet152}\n",
        "        \n",
        "        resnets_pretrained_path = {\n",
        "            18: 'resnet18-5c106cde.pth', \n",
        "            34: 'resnet34.pth',\n",
        "            50: 'resnet50.pth',\n",
        "            101: 'resnet101.pth',\n",
        "            152: 'resnet152.pth'}\n",
        "\n",
        "        if num_layers not in resnets:\n",
        "            raise ValueError(\"{} is not a valid number of resnet layers\".format(\n",
        "                num_layers))\n",
        "\n",
        "        self.encoder = resnets[num_layers]()\n",
        "        \n",
        "        if self.embDimension>0:\n",
        "            self.encoder.linear =  nn.Linear(self.num_ch_enc[-1], self.embDimension)\n",
        "        \n",
        "        if self.isPretrained:\n",
        "            print(\"using pretrained model\")\n",
        "            self.encoder.load_state_dict(\n",
        "                torch.load(os.path.join(self.path_to_model, resnets_pretrained_path[num_layers])))\n",
        "        \n",
        "        #if self.isGrayscale:\n",
        "        #    self.encoder.conv1 = nn.Conv2d(\n",
        "        #        1, 64, kernel_size=3, stride=1, padding=1, bias=False)\n",
        "        #else:\n",
        "        #    self.encoder.conv1 = nn.Conv2d(3, 64, kernel_size=3, stride=1, padding=1, bias=False)\n",
        "        \n",
        "        if num_layers > 34:\n",
        "            self.num_ch_enc[1:] *= 4\n",
        "\n",
        "    def forward(self, input_image):\n",
        "        self.features = []\n",
        "        \n",
        "        x = self.encoder.conv1(input_image)\n",
        "        x = self.encoder.bn1(x)\n",
        "        x = self.encoder.relu(x)\n",
        "        self.features.append(x)\n",
        "        \n",
        "        #x = self.encoder.layer1(self.encoder.maxpool(x)) # \n",
        "        x = self.encoder.layer1(x) # self.encoder.maxpool(x)\n",
        "        self.features.append(x)\n",
        "        #print('layer1: ', x.shape)\n",
        "        \n",
        "        x = self.encoder.layer2(x)\n",
        "        self.features.append(x)\n",
        "        #print('layer2: ', x.shape)\n",
        "        \n",
        "        x = self.encoder.layer3(x) \n",
        "        self.features.append(x)\n",
        "        #print('layer3: ', x.shape)       \n",
        "        \n",
        "        x = self.encoder.layer4(x)\n",
        "        self.features.append(x)\n",
        "        #print('layer4: ', x.shape)\n",
        "        \n",
        "        x = F.avg_pool2d(x, self.poolSize)\n",
        "        #print('global pool: ', x.shape)\n",
        "        \n",
        "        x = x.view(x.size(0), -1)\n",
        "        #print('reshape: ', x.shape)\n",
        "        \n",
        "        if self.embDimension>0:\n",
        "            x = self.encoder.linear(x)\n",
        "        #print('final: ', x.shape)\n",
        "        return x\n",
        "\n",
        "def build_max_model(kway_model_path): \n",
        "\n",
        "  resnet50 = ResnetEncoder(num_layers = 50, embDimension = -1, poolSize=2)\n",
        "  del resnet50.encoder.fc\n",
        "\n",
        "  state_dict = torch.load(kway_model_path)\n",
        "  new_keys = dict()\n",
        "  for k in list(state_dict.keys()): \n",
        "    new_keys[k] = \"encoder.\" + k\n",
        "  \n",
        "  modified_state_dict = dict((new_keys[key], value) for (key, value) in state_dict.items())\n",
        "\n",
        "  del modified_state_dict['encoder.fc.weight']\n",
        "  del modified_state_dict['encoder.fc.bias']\n",
        "\n",
        "  resnet50.load_state_dict(modified_state_dict)\n",
        "  resnet50.eval()\n",
        "\n",
        "  return resnet50\n",
        "\n",
        "resnet50 = build_max_model(\"/content/drive/MyDrive/Unknown_Detection/50KWayModelAugust21.pth\")\n",
        "\n",
        "def load_discriminator(model_path): \n",
        "  discriminator = Discriminator()\n",
        "  state_dict = torch.load(model_path)\n",
        "  discriminator.load_state_dict(state_dict)\n",
        "  discriminator.eval()\n",
        "  discriminator.to(device) \n",
        "\n",
        "  return discriminator "
      ],
      "metadata": {
        "colab": {
          "base_uri": "https://localhost:8080/"
        },
        "id": "Pq9mlv7cJBF9",
        "outputId": "741aefd8-34a5-4da2-9fa4-77c398f4d1b6"
      },
      "execution_count": null,
      "outputs": [
        {
          "output_type": "stream",
          "name": "stdout",
          "text": [
            "./exp/demo_step030_OpenGAN_num1000_w0.20\n"
          ]
        }
      ]
    },
    {
      "cell_type": "code",
      "source": [
        "def evaluate_bn_roc_pr(dis_model_path, kway_model_path, openDataset, closedDataset):\n",
        "\n",
        "  disc = load_discriminator(dis_model_path)\n",
        "  kway = build_max_model(kway_model_path)\n",
        "\n",
        "  openDataLoader = torch.utils.data.DataLoader(openDataset, batch_size = 32, shuffle = True)\n",
        "  closedDataLoader = torch.utils.data.DataLoader(closedDataset, batch_size = 32, shuffle = True)\n",
        "\n",
        "  if len(openDataset) > len(closedDataset): \n",
        "    for_loop_loader = \"closedDataLoader\"\n",
        "    iter_loader = \"openDataLoader\"\n",
        "  else: \n",
        "    for_loop_loader = \"openDataLoader\"\n",
        "    iter_loader = \"closedDataLoader\"\n",
        "  \n",
        "  print(\"For Loop Loader is {}\".format(for_loop_loader))\n",
        "  print(\"Iter Loop Loader is {}\".format(iter_loader))\n",
        "\n",
        "  '''Only will find ROC and PR Metrics'''\n",
        "\n",
        "  disc = disc.cuda()\n",
        "  kway = kway.cuda()\n",
        "\n",
        "  stacked_outs = list()\n",
        "  stacked_targets = list()\n",
        "\n",
        "  dateiter = iter(eval(iter_loader))\n",
        "  for for_data, for_targets in tqdm(eval(for_loop_loader)): \n",
        "      iter_data, iter_targets = next(dateiter)\n",
        "      if for_loop_loader==\"closedDataLoader\": \n",
        "        for_targets = torch.ones(*for_targets.size())\n",
        "        iter_targets = torch.zeros(*iter_targets.size())\n",
        "      else: \n",
        "        for_targets = torch.zeros(*for_targets.size())\n",
        "        iter_targets = torch.ones(*iter_targets.size())\n",
        "      iter_data, iter_targets = iter_data.cuda(), iter_targets.cuda()\n",
        "      for_data, for_targets = for_data.cuda(), for_targets.cuda()\n",
        "      \n",
        "      # print(for_targets)\n",
        "      # for_data -= for_data.mean()\n",
        "      # for_data /= for_data.std()\n",
        "      # iter_data -= iter_data.mean()\n",
        "      # iter_data /= iter_data.std()\n",
        "      # plt.imshow(for_data[0].permute(1, 2, 0).cpu().numpy())\n",
        "      # assert 1 == 2\n",
        "\n",
        "      data = torch.cat((iter_data, for_data), 0)\n",
        "      target = torch.cat((iter_targets, for_targets), 0)\n",
        "\n",
        "      disc.eval()\n",
        "\n",
        "      #forward\n",
        "      x_feat = kway(data.float())[:, :, None, None]\n",
        "      out = disc(x_feat)\n",
        "      out = out.view(-1)\n",
        "\n",
        "      assert out.size(0) == target.size(0)\n",
        "\n",
        "      stacked_outs.extend(out.tolist()) \n",
        "      stacked_targets.extend(target.tolist()) # Only 0's and 1's\n",
        "  \n",
        "  roc_measure = roc(stacked_outs, stacked_targets)['auc'] * 100\n",
        "  pr_measure = pr(stacked_outs, stacked_targets)['auc'] * 100\n",
        "\n",
        "  print(\"\\n\")\n",
        "  print(\"ROC AU value: {}%\".format(roc_measure))\n",
        "  print(\"PR AU value: {}%\".format(pr_measure))\n",
        "\n",
        "  return roc_measure, pr_measure"
      ],
      "metadata": {
        "id": "DAMbhbW2MyRh"
      },
      "execution_count": null,
      "outputs": []
    },
    {
      "cell_type": "code",
      "source": [
        "# Load Outlier Exposure datasets\n",
        "# Train Datasets\n",
        "mean = [x / 255 for x in [125.3, 123.0, 113.9]]\n",
        "std = [x / 255 for x in [63.0, 62.1, 66.7]]\n",
        "\n",
        "mnist_OEtrainset = torchvision.datasets.MNIST(root='./data', train=True, download=True, transform=transforms.ToTensor())\n",
        "svhn_OEtrainset = torchvision.datasets.SVHN(root = './data', split = \"train\", download = True)\n",
        "\n",
        "# Test Datasets\n",
        "mnist_OEtestset = torchvision.datasets.MNIST(root='./data', train=False, download=True, transform=transforms.ToTensor())\n",
        "svhn_OEtestset = torchvision.datasets.SVHN(root = './data', split = \"test\", download = True)\n",
        "\n",
        "# testset = CIFAR10(root='./data', train=False, download=True)\n",
        "# trainset = CIFAR10(root='./data', train=True, download=True)\n",
        "\n",
        "train_transform = transforms.Compose([\n",
        "    transforms.ToPILImage(),      \n",
        "    transforms.RandomHorizontalFlip(), \n",
        "    transforms.Resize(32),                  \n",
        "    transforms.ToTensor(),\n",
        "    transforms.Normalize((mean), (std))\n",
        "])\n",
        "\n",
        "\n",
        "test_transform = transforms.Compose([\n",
        "    transforms.ToPILImage(), \n",
        "    transforms.ToTensor(), \n",
        "    transforms.Normalize(mean, std)\n",
        "])\n",
        "\n",
        "class OpenSetSVHN(torch.utils.data.Dataset):\n",
        "  '''Seen: CIFAR Closed set; Unseen: New Dataset'''\n",
        "\n",
        "  def __init__(self, New_dataset_images, New_dataset_targets, transformFunc, OpenSetRec = False, MNIST = False):\n",
        "\n",
        "    self.data = list()\n",
        "    img2targets = list(zip(New_dataset_images, New_dataset_targets))\n",
        "\n",
        "    for v in img2targets: \n",
        "      if not OpenSetRec: \n",
        "        self.data.append((v[0], 0)) # 0 is unseen\n",
        "      else: \n",
        "        self.data.append((v[0], torch.tensor([0, 0])))\n",
        "      \n",
        "    \n",
        "    self.transformFunc = transformFunc\n",
        "    self.MNIST = MNIST\n",
        "    print(\"Len of Entire Dataset {}\".format(len(self.data)))\n",
        "    \n",
        "  def __getitem__(self, i):\n",
        "    img, target = self.data[i]\n",
        "    if type(img) != np.ndarray and self.MNIST: \n",
        "      # MNIST\n",
        "      img = img.to(float)\n",
        "\n",
        "      channel_1 = img.unsqueeze(0)\n",
        "      channel_2 = channel_1.clone()\n",
        "      channel_3 = channel_1.clone()\n",
        "      \n",
        "      img = torch.cat((channel_1, channel_2, channel_3), dim = 0)\n",
        "      \n",
        "      img = transforms.Resize(32)(img) \n",
        "      \n",
        "    img = self.transformFunc(img)\n",
        "    return img, target\n",
        "\n",
        "  def __len__(self):\n",
        "    return len(self.data)\n",
        "\n",
        "\n",
        "train_OpenSetSVHN = OpenSetSVHN(torch.from_numpy(svhn_OEtrainset.data), torch.from_numpy(svhn_OEtrainset.labels), train_transform)\n",
        "train_OpenSetSVHNLoader = torch.utils.data.DataLoader(train_OpenSetSVHN, batch_size = 16, shuffle = True)\n",
        "\n",
        "mixed_classes = [\"unseen\", \"seen\"]\n",
        "train_newDatasetAndCIFARiter = iter(train_OpenSetSVHNLoader)\n",
        "imgs, targets = next(train_newDatasetAndCIFARiter)\n",
        "\n",
        "imgs = imgs.numpy()\n",
        "imgs -= imgs.min() \n",
        "imgs /= imgs.max()\n",
        "\n",
        "fig = plt.figure(figsize=(25, 4))\n",
        "for idx in np.arange(5):\n",
        "  ax = fig.add_subplot(2, 16/2, idx+1, xticks=[], yticks=[])\n",
        "  plt.imshow(np.transpose(imgs[idx], (1, 2, 0)))\n",
        "  ''' Choose one way to set titles'''\n",
        "\n",
        "  '''Option 2:'''\n",
        "  ax.set_title(mixed_classes[targets[idx]])\n",
        "  ax = fig.add_subplot(2, 16/2, idx+1, xticks=[], yticks=[])\n",
        "\n",
        "\n",
        "# For reference\n",
        "# classDict = {'plane': 0, 'car': 1, 'bird': 2, 'cat': 3, 'deer': 4,\n",
        "              #'dog': 5, 'frog': 6, 'horse': 7, 'ship': 8, 'truck': 9}"
      ],
      "metadata": {
        "colab": {
          "base_uri": "https://localhost:8080/",
          "height": 680,
          "referenced_widgets": [
            "e6050e6ad25e4e3cab64686a439040bc",
            "c704096f03d6438c8979296688a0aeba",
            "2c77fb255c9c4d9e9f0c1c1a47a3920b",
            "3e79615def624332be4c775319ea06f6",
            "5d59987329cf40c58778b3c4157b8189",
            "b23c505781a64246bd407c358d41b58a",
            "546ce93734f64892b46266c558195752",
            "c20f17fbb60b4651951bf38a9565c81d",
            "186009bb4a4e463e8d1cfb38c547746e",
            "0b74777d2c1b4352a9b97307229a09c1",
            "69bc629777834c309422bf1c8bea82b9",
            "ddddedaa1c604119972d1b73cc04a157",
            "91914766557242e4aba1da5a9aa3d0f9",
            "d509edf40e5f4a2eae4f95d809d79aac",
            "444287574d2b4e3b94e8d65bd694163d",
            "5f128148f9bf4e0d9fbac375a0019549",
            "10a34350c8b54bc4a5da3580b410d808",
            "cac5143bf3fe4d738023bfd05e67f690",
            "8462e2a3ec96489a933c4b705136e2ce",
            "bfa71e8e70dc4fde9fb01d8bdfd93fed",
            "a64847b707144f78b713b2c6d4ec98d3",
            "6e42287b01994c8a891af3da90e32372",
            "1c8829798a36484692b69541649f5ab9",
            "bd7306eb2f8045b6a5c1178c2d21f98d",
            "90e704327a294f5589b2c4f49d68cab9",
            "55a0c4a24dd945c0a6e93eb1f5f5aa65",
            "117c001ef33e4cf495f2fd83da83ca18",
            "338b9cde80494510a82130d7065b14e3",
            "65ca1c86182145b8b7a272e390be2d3e",
            "d725089feb124b90ba298759a8bc1d81",
            "e7fc1225d151478ba98a6355cea42661",
            "22fac3a7ab3640aaa220cb53cc66714e",
            "ca64557833ae4d95bffd10d31308e90e",
            "0bd00c1331164ca49f730936c3664a6f",
            "581f68a1b20d4b2eb7ba61a52652bc9d",
            "be9949741fe147198913d7e4e40144b6",
            "6b2084b2d77545dbb5a52fd418f0a4b2",
            "f3ecd95e391340118e33a19479d1feab",
            "2a08d2e69fe546f08c4a8b211ed4178f",
            "dfc137601eb2459d9f262d2c177da9c0",
            "b827e1fb00f1404bb84a7b0594c56a4b",
            "219a11f6fb184e8c94d30b3a2bee8a38",
            "5497f074a1154a6ead4cb873898d249f",
            "c8e07cf49110467fafd1a4f12666efe8",
            "35661be6e2a74fd78ca2feab8d00c959",
            "40345c3cd10746c789c677274efd315f",
            "efa210c84ff0401fbe0c119fe34efd05",
            "728c65502c0344319c9aa53230c15846",
            "ba383a03bf704e7faf027f591ec0d50d",
            "b7eabcccec9b428d9ca667c6473ad30f",
            "97b07a82bed94500b8167c073d521f05",
            "407b9189a0824e66a54f10fb6ab2199e",
            "c74b66b856d644fda643e86a7b8381f1",
            "9a9b0d5dadd0417f9e55be01a91653b8",
            "3dc1fe2a2eb944afb5b92955366784b7",
            "67fd8028a76544b192dd9d7008dafaec",
            "95b866ca16e2418ab08b7e9685d78e91",
            "59c67e08316c4bfdb8c901d0d5bb959c",
            "7b60f142231a4a97a033866d03f61177",
            "79d7e4366ee64946845cac970b7bd47b",
            "a7b06c23540143c8bd0f18145951ee7c",
            "58020c9de02849328373d2c6aab6056a",
            "3d33ff7148224db2bb05bcaaba8e4f23",
            "d84a01ee0a1f48a2af17ca2c7826ba63",
            "0ed64896b3b64d17a3d432304742b66c",
            "fcb9dff992694c889640750157b68b26"
          ]
        },
        "id": "7EWQueLB3AHq",
        "outputId": "8da484e1-b071-4ec5-cf6c-a03e05c88034"
      },
      "execution_count": null,
      "outputs": [
        {
          "output_type": "stream",
          "name": "stdout",
          "text": [
            "Downloading http://yann.lecun.com/exdb/mnist/train-images-idx3-ubyte.gz\n",
            "Downloading http://yann.lecun.com/exdb/mnist/train-images-idx3-ubyte.gz to ./data/MNIST/raw/train-images-idx3-ubyte.gz\n"
          ]
        },
        {
          "output_type": "display_data",
          "data": {
            "text/plain": [
              "  0%|          | 0/9912422 [00:00<?, ?it/s]"
            ],
            "application/vnd.jupyter.widget-view+json": {
              "version_major": 2,
              "version_minor": 0,
              "model_id": "e6050e6ad25e4e3cab64686a439040bc"
            }
          },
          "metadata": {}
        },
        {
          "output_type": "stream",
          "name": "stdout",
          "text": [
            "Extracting ./data/MNIST/raw/train-images-idx3-ubyte.gz to ./data/MNIST/raw\n",
            "\n",
            "Downloading http://yann.lecun.com/exdb/mnist/train-labels-idx1-ubyte.gz\n",
            "Downloading http://yann.lecun.com/exdb/mnist/train-labels-idx1-ubyte.gz to ./data/MNIST/raw/train-labels-idx1-ubyte.gz\n"
          ]
        },
        {
          "output_type": "display_data",
          "data": {
            "text/plain": [
              "  0%|          | 0/28881 [00:00<?, ?it/s]"
            ],
            "application/vnd.jupyter.widget-view+json": {
              "version_major": 2,
              "version_minor": 0,
              "model_id": "ddddedaa1c604119972d1b73cc04a157"
            }
          },
          "metadata": {}
        },
        {
          "output_type": "stream",
          "name": "stdout",
          "text": [
            "Extracting ./data/MNIST/raw/train-labels-idx1-ubyte.gz to ./data/MNIST/raw\n",
            "\n",
            "Downloading http://yann.lecun.com/exdb/mnist/t10k-images-idx3-ubyte.gz\n",
            "Downloading http://yann.lecun.com/exdb/mnist/t10k-images-idx3-ubyte.gz to ./data/MNIST/raw/t10k-images-idx3-ubyte.gz\n"
          ]
        },
        {
          "output_type": "display_data",
          "data": {
            "text/plain": [
              "  0%|          | 0/1648877 [00:00<?, ?it/s]"
            ],
            "application/vnd.jupyter.widget-view+json": {
              "version_major": 2,
              "version_minor": 0,
              "model_id": "1c8829798a36484692b69541649f5ab9"
            }
          },
          "metadata": {}
        },
        {
          "output_type": "stream",
          "name": "stdout",
          "text": [
            "Extracting ./data/MNIST/raw/t10k-images-idx3-ubyte.gz to ./data/MNIST/raw\n",
            "\n",
            "Downloading http://yann.lecun.com/exdb/mnist/t10k-labels-idx1-ubyte.gz\n",
            "Downloading http://yann.lecun.com/exdb/mnist/t10k-labels-idx1-ubyte.gz to ./data/MNIST/raw/t10k-labels-idx1-ubyte.gz\n"
          ]
        },
        {
          "output_type": "display_data",
          "data": {
            "text/plain": [
              "  0%|          | 0/4542 [00:00<?, ?it/s]"
            ],
            "application/vnd.jupyter.widget-view+json": {
              "version_major": 2,
              "version_minor": 0,
              "model_id": "0bd00c1331164ca49f730936c3664a6f"
            }
          },
          "metadata": {}
        },
        {
          "output_type": "stream",
          "name": "stdout",
          "text": [
            "Extracting ./data/MNIST/raw/t10k-labels-idx1-ubyte.gz to ./data/MNIST/raw\n",
            "\n",
            "Downloading http://ufldl.stanford.edu/housenumbers/train_32x32.mat to ./data/train_32x32.mat\n"
          ]
        },
        {
          "output_type": "display_data",
          "data": {
            "text/plain": [
              "  0%|          | 0/182040794 [00:00<?, ?it/s]"
            ],
            "application/vnd.jupyter.widget-view+json": {
              "version_major": 2,
              "version_minor": 0,
              "model_id": "35661be6e2a74fd78ca2feab8d00c959"
            }
          },
          "metadata": {}
        },
        {
          "output_type": "stream",
          "name": "stdout",
          "text": [
            "Downloading http://ufldl.stanford.edu/housenumbers/test_32x32.mat to ./data/test_32x32.mat\n"
          ]
        },
        {
          "output_type": "display_data",
          "data": {
            "text/plain": [
              "  0%|          | 0/64275384 [00:00<?, ?it/s]"
            ],
            "application/vnd.jupyter.widget-view+json": {
              "version_major": 2,
              "version_minor": 0,
              "model_id": "67fd8028a76544b192dd9d7008dafaec"
            }
          },
          "metadata": {}
        },
        {
          "output_type": "stream",
          "name": "stdout",
          "text": [
            "Len of Entire Dataset 73257\n"
          ]
        },
        {
          "output_type": "display_data",
          "data": {
            "text/plain": [
              "<Figure size 1800x288 with 5 Axes>"
            ],
            "image/png": "[encoded data removed]"
          },
          "metadata": {}
        }
      ]
    },
    {
      "cell_type": "code",
      "source": [
        "test_OpenSetMNIST = OpenSetSVHN(mnist_OEtestset.data, mnist_OEtestset.targets, test_transform, MNIST = True)\n",
        "test_OpenSetSVHN = OpenSetSVHN(torch.from_numpy(svhn_OEtestset.data), torch.from_numpy(svhn_OEtestset.labels), test_transform)"
      ],
      "metadata": {
        "id": "KF4J-maBKRzi",
        "colab": {
          "base_uri": "https://localhost:8080/"
        },
        "outputId": "bb0aae7d-03d9-45bd-e409-7ce9672221b7"
      },
      "execution_count": null,
      "outputs": [
        {
          "output_type": "stream",
          "name": "stdout",
          "text": [
            "Len of Entire Dataset 10000\n",
            "Len of Entire Dataset 26032\n"
          ]
        }
      ]
    },
    {
      "cell_type": "code",
      "source": [
        "img, _ = testTinyImageNet[0]\n",
        "img.size()"
      ],
      "metadata": {
        "colab": {
          "base_uri": "https://localhost:8080/"
        },
        "id": "NREFHsnRDZi1",
        "outputId": "7f97401e-fb26-4cef-d175-17b8ebacd232"
      },
      "execution_count": null,
      "outputs": [
        {
          "output_type": "execute_result",
          "data": {
            "text/plain": [
              "torch.Size([3, 32, 32])"
            ]
          },
          "metadata": {},
          "execution_count": 18
        }
      ]
    },
    {
      "cell_type": "markdown",
      "source": [
        "# Old tests"
      ],
      "metadata": {
        "id": "UzLvHQ7nF-Qh"
      }
    },
    {
      "cell_type": "code",
      "source": [
        "evaluate_bn_roc_pr(\"/content/drive/MyDrive/Unknown_Detection/Sep10thOpenGANon27thAugPretrainedKwayEpoch20.classifier\", \n",
        "                   \"/content/drive/MyDrive/Unknown_Detection/50EpochsFullTrainTinyImageNetAug27th.pth\", \n",
        "                   euro_dataset, testTinyImageNet)"
      ],
      "metadata": {
        "colab": {
          "base_uri": "https://localhost:8080/"
        },
        "id": "mqE-pMmF_eiW",
        "outputId": "8110a019-0a68-4ba1-ffda-84be7a53e320"
      },
      "execution_count": null,
      "outputs": [
        {
          "output_type": "stream",
          "name": "stdout",
          "text": [
            "For Loop Loader is closedDataLoader\n",
            "Iter Loop Loader is openDataLoader\n"
          ]
        },
        {
          "output_type": "stream",
          "name": "stderr",
          "text": [
            "100%|██████████| 282/282 [00:19<00:00, 14.44it/s]"
          ]
        },
        {
          "output_type": "stream",
          "name": "stdout",
          "text": [
            "\n",
            "\n",
            "ROC AU value: 94.85277593085107%\n",
            "PR AU value: 94.86016807862586%\n"
          ]
        },
        {
          "output_type": "stream",
          "name": "stderr",
          "text": [
            "\n"
          ]
        },
        {
          "output_type": "execute_result",
          "data": {
            "text/plain": [
              "(94.85277593085107, 94.86016807862586)"
            ]
          },
          "metadata": {},
          "execution_count": 121
        }
      ]
    },
    {
      "cell_type": "code",
      "source": [
        "evaluate_bn_roc_pr(\"/content/drive/MyDrive/Unknown_Detection/Sep10thOpenGANon27thAugPretrainedKwayEpoch20.classifier\", \n",
        "                   \"/content/drive/MyDrive/Unknown_Detection/50EpochsFullTrainTinyImageNetAug27th.pth\", \n",
        "                   test_OpenSetSVHN, testTinyImageNet)"
      ],
      "metadata": {
        "colab": {
          "base_uri": "https://localhost:8080/"
        },
        "id": "4HGYIrdDF87E",
        "outputId": "e47788c3-e905-4ddc-9f83-71e14080424b"
      },
      "execution_count": null,
      "outputs": [
        {
          "output_type": "stream",
          "name": "stdout",
          "text": [
            "For Loop Loader is closedDataLoader\n",
            "Iter Loop Loader is openDataLoader\n"
          ]
        },
        {
          "output_type": "stream",
          "name": "stderr",
          "text": [
            "100%|██████████| 282/282 [00:21<00:00, 12.86it/s]"
          ]
        },
        {
          "output_type": "stream",
          "name": "stdout",
          "text": [
            "\n",
            "\n",
            "ROC AU value: 99.58021572104019%\n",
            "PR AU value: 99.5269474649005%\n"
          ]
        },
        {
          "output_type": "stream",
          "name": "stderr",
          "text": [
            "\n"
          ]
        },
        {
          "output_type": "execute_result",
          "data": {
            "text/plain": [
              "(99.58021572104019, 99.5269474649005)"
            ]
          },
          "metadata": {},
          "execution_count": 85
        }
      ]
    },
    {
      "cell_type": "code",
      "source": [
        "def evaluate_bn_roc_pr_aug(dis_model_path, kway_model_path, openDataset, closedDataset):\n",
        "\n",
        "  disc = load_discriminator(dis_model_path)\n",
        "  kway = build_max_model(kway_model_path)\n",
        "\n",
        "  aug_openDataLoader = torch.utils.data.DataLoader(openDataset, batch_size = 32, shuffle = True)\n",
        "  norm_closedDataLoader = torch.utils.data.DataLoader(closedDataset, batch_size = 32, shuffle = True)\n",
        "\n",
        "  disc = disc.cuda()\n",
        "  kway = kway.cuda()\n",
        "\n",
        "  stacked_outs = list()\n",
        "  stacked_targets = list()\n",
        "\n",
        "  dateiter = iter(aug_openDataLoader)\n",
        "  for norm_data, norm_targets in tqdm(norm_closedDataLoader): \n",
        "      aug_data, aug_targets = next(dateiter)\n",
        "      aug_data, aug_targets = aug_data.cuda(), aug_targets.cuda()\n",
        "      norm_data, norm_targets = norm_data.cuda(), norm_targets.cuda()\n",
        "      \n",
        "      data = torch.cat((norm_data, aug_data), 0)\n",
        "      target = torch.cat((norm_targets, aug_targets), 0)\n",
        "\n",
        "      disc.eval()\n",
        "\n",
        "      #forward\n",
        "      x_feat = kway(data.float())[:, :, None, None]\n",
        "      out = disc(x_feat)\n",
        "      out = out.view(-1)\n",
        "\n",
        "      assert out.size(0) == target.size(0)\n",
        "\n",
        "      stacked_outs.extend(out.tolist()) \n",
        "      stacked_targets.extend(target.tolist()) # Only 0's and 1's\n",
        "  \n",
        "  roc_measure = roc(stacked_outs, stacked_targets)['auc'] * 100\n",
        "  pr_measure = pr(stacked_outs, stacked_targets)['auc'] * 100\n",
        "\n",
        "  print(\"\\n\")\n",
        "  print(\"ROC AU value: {}%\".format(roc_measure))\n",
        "  print(\"PR AU value: {}%\".format(pr_measure))\n",
        "\n",
        "  return roc_measure, pr_measure"
      ],
      "metadata": {
        "id": "4mKG9yBzJ2uW"
      },
      "execution_count": null,
      "outputs": []
    },
    {
      "cell_type": "code",
      "source": [
        "print(\"Augmented Dataset {}\".format(len(augmented_testTinyImageNet)))\n",
        "print(\"testTinyImageNet {}\".format(len(testTinyImageNet)))\n",
        "evaluate_bn_roc_pr_aug(\"/content/drive/MyDrive/Unknown_Detection/Sep10thOpenGANon27thAugPretrainedKwayEpoch20.classifier\", \n",
        "                   \"/content/drive/MyDrive/Unknown_Detection/50EpochsFullTrainTinyImageNetAug27th.pth\", \n",
        "                   augmented_testTinyImageNet, testTinyImageNet)"
      ],
      "metadata": {
        "colab": {
          "base_uri": "https://localhost:8080/"
        },
        "id": "JDjo0VQQIeiI",
        "outputId": "8d5614ca-41e7-4790-df3b-bc3a3441ca68"
      },
      "execution_count": null,
      "outputs": [
        {
          "output_type": "stream",
          "name": "stdout",
          "text": [
            "Augmented Dataset 9000\n",
            "testTinyImageNet 9000\n"
          ]
        },
        {
          "output_type": "stream",
          "name": "stderr",
          "text": [
            "100%|██████████| 282/282 [01:30<00:00,  3.10it/s]"
          ]
        },
        {
          "output_type": "stream",
          "name": "stdout",
          "text": [
            "\n",
            "\n",
            "ROC AU value: 87.37495925925924%\n",
            "PR AU value: 83.19870638856305%\n"
          ]
        },
        {
          "output_type": "stream",
          "name": "stderr",
          "text": [
            "\n"
          ]
        },
        {
          "output_type": "execute_result",
          "data": {
            "text/plain": [
              "(87.37495925925924, 83.19870638856305)"
            ]
          },
          "metadata": {},
          "execution_count": 23
        }
      ]
    },
    {
      "cell_type": "markdown",
      "source": [
        "# Use Max Logits Instead Now"
      ],
      "metadata": {
        "id": "nmUrtrvdOJ9-"
      }
    },
    {
      "cell_type": "code",
      "source": [
        "def build_max_model(kway_model_path): \n",
        "\n",
        "  resnet50 = torchvision.models.resnet50(pretrained=False)\n",
        "  resnet50.fc = nn.Linear(resnet50.fc.in_features, split)\n",
        "\n",
        "  resnet50.load_state_dict(torch.load(kway_model_path))\n",
        "  resnet50.eval()\n",
        "\n",
        "  return resnet50\n",
        "\n",
        "def evaluate_max_models(form, kway_model_path, data_loader): \n",
        "\n",
        "  net = build_max_model(kway_model_path).cuda()\n",
        "  num_of_data = 0\n",
        "  stacked_maxes = list()\n",
        "  stacked_target = list()\n",
        "\n",
        "  for data, target in tqdm(data_loader): \n",
        "\n",
        "    data, target = data.cuda(), target.cuda()\n",
        "    num_of_data += data.size(0)\n",
        "\n",
        "    #forward\n",
        "    x = net(data.float())\n",
        "\n",
        "    if form == \"softmax\":\n",
        "      # Softmax Probability\n",
        "      x = F.softmax(x, dim=1)\n",
        "      assert sum(x[0]).item() > 0.99 and sum(x[0]).item() < 1.001\n",
        "    \n",
        "    max = torch.max(x, dim = 1).values\n",
        "\n",
        "    stacked_maxes.extend(max.tolist())\n",
        "    stacked_target.extend(target.tolist())\n",
        "\n",
        "  \n",
        "  roc_measure = roc(stacked_maxes, stacked_target)['auc'] * 100\n",
        "  pr_measure = pr(stacked_maxes, stacked_target)['auc'] * 100\n",
        "\n",
        "  print(\"\\n\")\n",
        "  print(\"ROC AU value: {}%\".format(roc_measure))\n",
        "  print(\"PR AU value: {}%\".format(pr_measure))\n",
        "\n",
        "  return roc_measure, pr_measure"
      ],
      "metadata": {
        "id": "J71P0hj5OLjx"
      },
      "execution_count": null,
      "outputs": []
    },
    {
      "cell_type": "code",
      "source": [
        "def build_max_model(kway_model_path): \n",
        "\n",
        "  resnet50 = torchvision.models.resnet50(pretrained=False)\n",
        "  resnet50.fc = nn.Linear(resnet50.fc.in_features, 180)\n",
        "\n",
        "  resnet50.load_state_dict(torch.load(kway_model_path))\n",
        "  resnet50.eval()\n",
        "\n",
        "  return resnet50\n",
        "\n",
        "# def build_max_model(kway_model_path): \n",
        "\n",
        "#   resnet50 = torchvision.models.resnet50(pretrained=True)\n",
        "#   resnet50.fc = nn.Linear(resnet50.fc.in_features, 180)\n",
        "\n",
        "  \n",
        "#   resnet50.eval()\n",
        "\n",
        "#   return resnet50\n",
        "\n",
        "def evaluate_max_logits_aug(kway_model_path, openDataset, closedDataset, form = 'logits'): \n",
        "\n",
        "  openDataLoader = torch.utils.data.DataLoader(openDataset, batch_size = 16, shuffle = True)\n",
        "  closedDataLoader = torch.utils.data.DataLoader(closedDataset, batch_size = 16, shuffle = True)\n",
        "\n",
        "  net = build_max_model(kway_model_path).cuda()\n",
        "  num_of_data = 0\n",
        "  stacked_maxes = list()\n",
        "  stacked_target = list()\n",
        "\n",
        "  dateiter = iter(openDataLoader)\n",
        "  for closed_data, closed_targets in tqdm(closedDataLoader): \n",
        "    closed_targets = torch.ones(closed_targets.size())\n",
        "    open_data, open_targets = next(dateiter)\n",
        "    open_targets = torch.zeros(open_targets.size())\n",
        "    closed_data, closed_targets = closed_data.cuda(), closed_targets.cuda()\n",
        "\n",
        "    open_data, open_targets = open_data.cuda(), open_targets.cuda()\n",
        "    closed_data, closed_targets = closed_data.cuda(), closed_targets.cuda()\n",
        "    data = torch.cat((open_data, closed_data), 0)\n",
        "    target = torch.cat((open_targets, closed_targets), 0)\n",
        "\n",
        "    num_of_data += data.size(0)\n",
        "\n",
        "    #forward\n",
        "    x = net(data.float())\n",
        "\n",
        "    if form == \"softmax\":\n",
        "      # Softmax Probability\n",
        "      x = F.softmax(x, dim=1)\n",
        "      assert sum(x[0]).item() > 0.99 and sum(x[0]).item() < 1.001\n",
        "    \n",
        "    max = torch.max(x, dim = 1).values\n",
        "\n",
        "    stacked_maxes.extend(max.tolist())\n",
        "    stacked_target.extend(target.tolist())\n",
        "  \n",
        "  roc_measure = roc(stacked_maxes, stacked_target)['auc'] * 100\n",
        "  pr_measure = pr(stacked_maxes, stacked_target)['auc'] * 100\n",
        "\n",
        "  print(\"\\n\")\n",
        "  print(\"ROC AU value: {}%\".format(roc_measure))\n",
        "  print(\"PR AU value: {}%\".format(pr_measure))\n",
        "\n",
        "  return roc_measure, pr_measure"
      ],
      "metadata": {
        "id": "EPz2baMbSs4O"
      },
      "execution_count": null,
      "outputs": []
    },
    {
      "cell_type": "code",
      "source": [
        "evaluate_max_logits_aug(\"/content/drive/MyDrive/Unknown_Detection/50EpochsFullTrainTinyImageNetAug27th.pth\", augmented_testTinyImageNet, testTinyImageNet, form = 'logits')"
      ],
      "metadata": {
        "id": "cKZz1bM9Uyi2",
        "colab": {
          "base_uri": "https://localhost:8080/"
        },
        "outputId": "e0dfa34c-b22b-4b9c-f0a6-a0b846c0cfb3"
      },
      "execution_count": null,
      "outputs": [
        {
          "output_type": "stream",
          "name": "stderr",
          "text": [
            "100%|██████████| 563/563 [00:30<00:00, 18.56it/s]\n"
          ]
        },
        {
          "output_type": "stream",
          "name": "stdout",
          "text": [
            "\n",
            "\n",
            "ROC AU value: 57.73357962962964%\n",
            "PR AU value: 57.72494883221142%\n"
          ]
        },
        {
          "output_type": "execute_result",
          "data": {
            "text/plain": [
              "(57.73357962962964, 57.72494883221142)"
            ]
          },
          "metadata": {},
          "execution_count": 29
        }
      ]
    },
    {
      "cell_type": "code",
      "source": [
        "evaluate_max_logits_aug(\"/content/drive/MyDrive/Unknown_Detection/50KWayModelAugust21.pth\", test_OpenSetMNIST, testTinyImageNet, form = 'logits')\n"
      ],
      "metadata": {
        "colab": {
          "base_uri": "https://localhost:8080/",
          "height": 265,
          "referenced_widgets": [
            "2359c56f88024b5ab2934529efc59fc5",
            "c2daaeb7b3fd413792623a8e71294d9b",
            "686789bb1b83469599340c1d8a7833b4",
            "f6cffc8c9f8148b7bc87aa9357878a0e",
            "7d4a182b83d74cf19a75a94850a1168c",
            "a5588718bf5648c2aca6655c9ce8d539",
            "14c9a529565a4ab7b05b0c6303ad5eb4",
            "133c06a9f3324c878d67e31e59585733",
            "fde389ca85194cea984c3fbc002e104a",
            "c2d0f5dc3e064dd2b5638824e8b5c1db",
            "d262a450089441008d09e28790dfdd55"
          ]
        },
        "id": "TgeFdKgvjfDm",
        "outputId": "7259b680-2922-46d0-fe2b-cca3bb57e9b5"
      },
      "execution_count": null,
      "outputs": [
        {
          "output_type": "stream",
          "name": "stderr",
          "text": [
            "/usr/local/lib/python3.7/dist-packages/torchvision/models/_utils.py:209: UserWarning: The parameter 'pretrained' is deprecated since 0.13 and will be removed in 0.15, please use 'weights' instead.\n",
            "  f\"The parameter '{pretrained_param}' is deprecated since 0.13 and will be removed in 0.15, \"\n",
            "/usr/local/lib/python3.7/dist-packages/torchvision/models/_utils.py:223: UserWarning: Arguments other than a weight enum or `None` for 'weights' are deprecated since 0.13 and will be removed in 0.15. The current behavior is equivalent to passing `weights=ResNet50_Weights.IMAGENET1K_V1`. You can also use `weights=ResNet50_Weights.DEFAULT` to get the most up-to-date weights.\n",
            "  warnings.warn(msg)\n",
            "Downloading: \"https://download.pytorch.org/models/resnet50-0676ba61.pth\" to /root/.cache/torch/hub/checkpoints/resnet50-0676ba61.pth\n"
          ]
        },
        {
          "output_type": "display_data",
          "data": {
            "text/plain": [
              "  0%|          | 0.00/97.8M [00:00<?, ?B/s]"
            ],
            "application/vnd.jupyter.widget-view+json": {
              "version_major": 2,
              "version_minor": 0,
              "model_id": "2359c56f88024b5ab2934529efc59fc5"
            }
          },
          "metadata": {}
        },
        {
          "output_type": "stream",
          "name": "stderr",
          "text": [
            "100%|██████████| 563/563 [00:16<00:00, 34.68it/s]\n"
          ]
        },
        {
          "output_type": "stream",
          "name": "stdout",
          "text": [
            "\n",
            "\n",
            "ROC AU value: 81.57578263765541%\n",
            "PR AU value: 85.85904685216002%\n"
          ]
        },
        {
          "output_type": "execute_result",
          "data": {
            "text/plain": [
              "(81.57578263765541, 85.85904685216002)"
            ]
          },
          "metadata": {},
          "execution_count": 20
        }
      ]
    },
    {
      "cell_type": "code",
      "source": [
        "evaluate_max_logits_aug(\"/content/model_epoch25 (2).pth\", test_closedset_CIFAR, testTinyImageNet, form = 'logits')"
      ],
      "metadata": {
        "colab": {
          "base_uri": "https://localhost:8080/"
        },
        "id": "Hz_qali2m9pE",
        "outputId": "f164392f-6c9b-43fd-f66d-3b5299d8e3b5"
      },
      "execution_count": null,
      "outputs": [
        {
          "output_type": "stream",
          "name": "stderr",
          "text": [
            "100%|██████████| 563/563 [00:13<00:00, 40.85it/s]\n"
          ]
        },
        {
          "output_type": "stream",
          "name": "stdout",
          "text": [
            "\n",
            "\n",
            "ROC AU value: 50.09053557331755%\n",
            "PR AU value: 55.71648042438051%\n"
          ]
        },
        {
          "output_type": "execute_result",
          "data": {
            "text/plain": [
              "(50.09053557331755, 55.71648042438051)"
            ]
          },
          "metadata": {},
          "execution_count": 63
        }
      ]
    },
    {
      "cell_type": "code",
      "source": [
        "evaluate_max_logits_aug(\"/content/model_epoch25 (2).pth\", test_OpenSetMNIST, testTinyImageNet, form = 'logits')"
      ],
      "metadata": {
        "id": "1keI4DbRlr-S"
      },
      "execution_count": null,
      "outputs": []
    },
    {
      "cell_type": "code",
      "source": [
        "evaluate_max_logits_aug(\"/content/model_epoch25 (2).pth\", test_OpenSetSVHN, testTinyImageNet, form = 'logits')"
      ],
      "metadata": {
        "colab": {
          "base_uri": "https://localhost:8080/"
        },
        "id": "e9kTAlnNSQ2C",
        "outputId": "b35bd91d-d1f6-4860-e702-0122fece2c95"
      },
      "execution_count": null,
      "outputs": [
        {
          "output_type": "stream",
          "name": "stderr",
          "text": [
            "100%|██████████| 563/563 [00:14<00:00, 39.83it/s]"
          ]
        },
        {
          "output_type": "stream",
          "name": "stdout",
          "text": [
            "\n",
            "\n",
            "ROC AU value: 49.879751948884945%\n",
            "PR AU value: 58.05278336919875%\n"
          ]
        },
        {
          "output_type": "stream",
          "name": "stderr",
          "text": [
            "\n"
          ]
        },
        {
          "output_type": "execute_result",
          "data": {
            "text/plain": [
              "(49.879751948884945, 58.05278336919875)"
            ]
          },
          "metadata": {},
          "execution_count": 62
        }
      ]
    },
    {
      "cell_type": "markdown",
      "source": [
        "# Valid Logits on Noise"
      ],
      "metadata": {
        "id": "F24sLfhMogY0"
      }
    },
    {
      "cell_type": "code",
      "source": [
        "def validate_logits_on_noise(kway_model_path, datasets, noise_type, form): \n",
        "\n",
        "  kway = build_max_model(kway_model_path)\n",
        "\n",
        "  DataLoader = torch.utils.data.DataLoader(datasets, batch_size = 32, shuffle = True)\n",
        "\n",
        "  '''Only will find ROC and PR Metrics'''\n",
        "\n",
        "  kway = kway.cuda()\n",
        "\n",
        "  stacked_outs = list()\n",
        "  stacked_targets = list()\n",
        "\n",
        "  dateiter = iter(DataLoader)\n",
        "  for i in tqdm(range(563)):\n",
        "    if (i % 2) == 0: \n",
        "      images, targets = next(dateiter)\n",
        "      images = images[0]\n",
        "      images = images.unsqueeze(0)\n",
        "      targets = torch.ones(1)\n",
        "    else: \n",
        "      if noise_type == \"normal\": \n",
        "        mu, sigma = 0, 1\n",
        "        images = torch.from_numpy(np.random.normal(mu, sigma, size = (1, 3, 32, 32)))\n",
        "      elif noise_type == \"uniform\": \n",
        "        mu, sigma = 0, 1\n",
        "        images = torch.from_numpy(np.random.uniform(mu, sigma, size = (1, 3, 32, 32)))\n",
        "      targets = torch.zeros(1)\n",
        "\n",
        "    images = images.cuda()\n",
        "    targets = targets.cuda()\n",
        "\n",
        "    #forward\n",
        "    x = kway(images.float())\n",
        "    if form == \"softmax\":\n",
        "      # Softmax Probability\n",
        "      x = F.softmax(x, dim=1)\n",
        "      assert sum(x[0]).item() > 0.99 and sum(x[0]).item() < 1.001\n",
        "    \n",
        "    max = torch.max(x, dim = 1).values\n",
        "\n",
        "    stacked_outs.extend(max.tolist()) \n",
        "    stacked_targets.extend(targets.tolist()) # Only 0's and 1's\n",
        "  \n",
        "  roc_measure = roc(stacked_outs, stacked_targets)['auc'] * 100\n",
        "  pr_measure = pr(stacked_outs, stacked_targets)['auc'] * 100\n",
        "\n",
        "  print(\"\\n\")\n",
        "  print(\"ROC AU value: {}%\".format(roc_measure))\n",
        "  print(\"PR AU value: {}%\".format(pr_measure))\n",
        "\n",
        "  return roc_measure, pr_measure"
      ],
      "metadata": {
        "id": "REq4uqeFoh6N"
      },
      "execution_count": null,
      "outputs": []
    },
    {
      "cell_type": "code",
      "source": [
        "validate_logits_on_noise(\"/content/drive/MyDrive/Unknown_Detection/50EpochsFullTrainTinyImageNetAug27th.pth\", testTinyImageNet, \"uniform\", \"logits\")"
      ],
      "metadata": {
        "colab": {
          "base_uri": "https://localhost:8080/"
        },
        "id": "TcOlZkTgomcx",
        "outputId": "9201641b-b2d3-47d3-c934-978051447b74"
      },
      "execution_count": null,
      "outputs": [
        {
          "output_type": "stream",
          "name": "stderr",
          "text": [
            "100%|██████████| 563/563 [00:11<00:00, 47.52it/s]"
          ]
        },
        {
          "output_type": "stream",
          "name": "stdout",
          "text": [
            "\n",
            "\n",
            "ROC AU value: 26.897352414123826%\n",
            "PR AU value: 46.19532016745767%\n"
          ]
        },
        {
          "output_type": "stream",
          "name": "stderr",
          "text": [
            "\n"
          ]
        },
        {
          "output_type": "execute_result",
          "data": {
            "text/plain": [
              "(26.897352414123826, 46.19532016745767)"
            ]
          },
          "metadata": {},
          "execution_count": 20
        }
      ]
    },
    {
      "cell_type": "markdown",
      "source": [
        "# Evaluate Logits Seperately for The BatchNorm test"
      ],
      "metadata": {
        "id": "T-pEx2Uk1qSq"
      }
    },
    {
      "cell_type": "code",
      "source": [
        "def build_max_model(kway_model_path): \n",
        "\n",
        "  resnet50 = torchvision.models.resnet50(pretrained=False)\n",
        "  resnet50.fc = nn.Linear(resnet50.fc.in_features, 180)\n",
        "\n",
        "  resnet50.load_state_dict(torch.load(kway_model_path))\n",
        "  resnet50.eval()\n",
        "\n",
        "  return resnet50\n",
        "\n",
        "def evaluate_max_logits_aug_ind(kway_model_path, openDataset, closedDataset, form = 'logits'): \n",
        "\n",
        "  openDataLoader = torch.utils.data.DataLoader(openDataset, batch_size = 16, shuffle = True)\n",
        "  closedDataLoader = torch.utils.data.DataLoader(closedDataset, batch_size = 16, shuffle = True)\n",
        "\n",
        "  net = build_max_model(kway_model_path).cuda()\n",
        "  num_of_data = 0\n",
        "  stacked_maxes = list()\n",
        "  stacked_target = list()\n",
        "\n",
        "  dateiter = iter(openDataLoader)\n",
        "  for closed_data, closed_targets in tqdm(closedDataLoader): \n",
        "    closed_targets = torch.ones(closed_targets.size())\n",
        "    open_data, open_targets = next(dateiter)\n",
        "    open_targets = torch.zeros(open_targets.size())\n",
        "    closed_data, closed_targets = closed_data.cuda(), closed_targets.cuda()\n",
        "\n",
        "    open_data, open_targets = open_data.cuda(), open_targets.cuda()\n",
        "    closed_data, closed_targets = closed_data.cuda(), closed_targets.cuda()\n",
        "\n",
        "    target = torch.cat((open_targets, closed_targets), 0)\n",
        "    \n",
        "    \n",
        "\n",
        "    #forward\n",
        "    open_x = net(open_data.float())\n",
        "    closed_x = net(closed_data.float())\n",
        "\n",
        "    # if form == \"softmax\":\n",
        "    #   # Softmax Probability\n",
        "    #   x = F.softmax(x, dim=1)\n",
        "    #   assert sum(x[0]).item() > 0.99 and sum(x[0]).item() < 1.001\n",
        "    \n",
        "    open_max = torch.max(open_x, dim = 1).values\n",
        "    closed_max = torch.max(closed_x, dim = 1).values\n",
        "    max = torch.cat((open_max, closed_max), 0)\n",
        "    num_of_data += max.size(0)\n",
        "\n",
        "    stacked_maxes.extend(max.tolist())\n",
        "    stacked_target.extend(target.tolist())\n",
        "  \n",
        "  roc_measure = roc(stacked_maxes, stacked_target)['auc'] * 100\n",
        "  pr_measure = pr(stacked_maxes, stacked_target)['auc'] * 100\n",
        "\n",
        "  print(\"\\n\")\n",
        "  print(\"ROC AU value: {}%\".format(roc_measure))\n",
        "  print(\"PR AU value: {}%\".format(pr_measure))\n",
        "\n",
        "  return roc_measure, pr_measure"
      ],
      "metadata": {
        "id": "wAiN644c1jXq"
      },
      "execution_count": null,
      "outputs": []
    },
    {
      "cell_type": "code",
      "source": [
        "def evaluate_bn_roc_pr_ind(dis_model_path, kway_model_path, openDataset, closedDataset):\n",
        "\n",
        "  disc = load_discriminator(dis_model_path)\n",
        "  kway = build_max_model(kway_model_path)\n",
        "\n",
        "  openDataLoader = torch.utils.data.DataLoader(openDataset, batch_size = 32, shuffle = True)\n",
        "  closedDataLoader = torch.utils.data.DataLoader(closedDataset, batch_size = 32, shuffle = True)\n",
        "\n",
        "  if len(openDataset) > len(closedDataset): \n",
        "    for_loop_loader = \"closedDataLoader\"\n",
        "    iter_loader = \"openDataLoader\"\n",
        "  else: \n",
        "    for_loop_loader = \"openDataLoader\"\n",
        "    iter_loader = \"closedDataLoader\"\n",
        "  \n",
        "  print(\"For Loop Loader is {}\".format(for_loop_loader))\n",
        "  print(\"Iter Loop Loader is {}\".format(iter_loader))\n",
        "\n",
        "  '''Only will find ROC and PR Metrics'''\n",
        "\n",
        "  disc = disc.cuda()\n",
        "  kway = kway.cuda()\n",
        "\n",
        "  stacked_outs = list()\n",
        "  stacked_targets = list()\n",
        "\n",
        "  dateiter = iter(eval(iter_loader))\n",
        "  for for_data, for_targets in tqdm(eval(for_loop_loader)): \n",
        "      iter_data, iter_targets = next(dateiter)\n",
        "      if for_loop_loader==\"closedDataLoader\": \n",
        "        for_targets = torch.ones(*for_targets.size())\n",
        "        iter_targets = torch.zeros(*iter_targets.size())\n",
        "      else: \n",
        "        for_targets = torch.zeros(*for_targets.size())\n",
        "        iter_targets = torch.ones(*iter_targets.size())\n",
        "      iter_data, iter_targets = iter_data.cuda(), iter_targets.cuda()\n",
        "      for_data, for_targets = for_data.cuda(), for_targets.cuda()\n",
        "      \n",
        "      # data = torch.cat((iter_data, for_data), 0)\n",
        "      target = torch.cat((iter_targets, for_targets), 0)\n",
        "\n",
        "      disc.eval()\n",
        "\n",
        "      #forward\n",
        "      iter_x_feat = kway(iter_data.float())[:, :, None, None]\n",
        "      for_x_feat = kway(for_data.float())[:, :, None, None]\n",
        "\n",
        "      iter_out = disc(iter_x_feat)\n",
        "      iter_out = iter_out.view(-1)\n",
        "\n",
        "      for_out = disc(for_x_feat)\n",
        "      for_out = for_out.view(-1)\n",
        "\n",
        "      out = torch.cat((iter_out, for_out), 0)\n",
        "      assert out.size(0) == target.size(0)\n",
        "\n",
        "      stacked_outs.extend(out.tolist()) \n",
        "      stacked_targets.extend(target.tolist()) # Only 0's and 1's\n",
        "  \n",
        "  roc_measure = roc(stacked_outs, stacked_targets)['auc'] * 100\n",
        "  pr_measure = pr(stacked_outs, stacked_targets)['auc'] * 100\n",
        "\n",
        "  print(\"\\n\")\n",
        "  print(\"ROC AU value: {}%\".format(roc_measure))\n",
        "  print(\"PR AU value: {}%\".format(pr_measure))\n",
        "\n",
        "  return roc_measure, pr_measure"
      ],
      "metadata": {
        "id": "78Zxy1Ioe7ba"
      },
      "execution_count": null,
      "outputs": []
    },
    {
      "cell_type": "code",
      "source": [
        "evaluate_max_logits_aug_ind(\"/content/drive/MyDrive/Unknown_Detection/Sep10thOpenGANon27thAugPretrainedKwayEpoch20.classifier\", test_OpenSetSVHN, testTinyImageNet, form = 'logits')"
      ],
      "metadata": {
        "id": "nXNRwjYY3wD-"
      },
      "execution_count": null,
      "outputs": []
    },
    {
      "cell_type": "code",
      "source": [
        "evaluate_max_logits_aug_ind(\"/content/model_epoch25 (2).pth\", test_OpenSetSVHN, testTinyImageNet, form = 'logits')"
      ],
      "metadata": {
        "colab": {
          "base_uri": "https://localhost:8080/"
        },
        "id": "QC1pgTMWXcGE",
        "outputId": "8fa6924b-795c-403a-e7c3-2a9682b7334b"
      },
      "execution_count": null,
      "outputs": [
        {
          "output_type": "stream",
          "name": "stderr",
          "text": [
            "100%|██████████| 563/563 [00:19<00:00, 28.93it/s]"
          ]
        },
        {
          "output_type": "stream",
          "name": "stdout",
          "text": [
            "\n",
            "\n",
            "ROC AU value: 49.12244116341029%\n",
            "PR AU value: 57.99171813878996%\n"
          ]
        },
        {
          "output_type": "stream",
          "name": "stderr",
          "text": [
            "\n"
          ]
        },
        {
          "output_type": "execute_result",
          "data": {
            "text/plain": [
              "(49.12244116341029, 57.99171813878996)"
            ]
          },
          "metadata": {},
          "execution_count": 39
        }
      ]
    },
    {
      "cell_type": "code",
      "source": [
        "evaluate_max_logits_aug_ind(\"/content/model_epoch25 (2).pth\", test_closedset_CIFAR, testTinyImageNet, form = 'logits')"
      ],
      "metadata": {
        "colab": {
          "base_uri": "https://localhost:8080/"
        },
        "id": "GewS-EGqcypv",
        "outputId": "7cd927ab-b38e-4345-f637-6f44193f8547"
      },
      "execution_count": null,
      "outputs": [
        {
          "output_type": "stream",
          "name": "stderr",
          "text": [
            "100%|██████████| 563/563 [00:17<00:00, 31.94it/s]\n"
          ]
        },
        {
          "output_type": "stream",
          "name": "stdout",
          "text": [
            "\n",
            "\n",
            "ROC AU value: 50.20761668640221%\n",
            "PR AU value: 55.887375907471096%\n"
          ]
        },
        {
          "output_type": "execute_result",
          "data": {
            "text/plain": [
              "(50.20761668640221, 55.887375907471096)"
            ]
          },
          "metadata": {},
          "execution_count": 43
        }
      ]
    },
    {
      "cell_type": "markdown",
      "source": [
        "# Evaluate OpenGAN without BatchNorm"
      ],
      "metadata": {
        "id": "HhPrNBfZhGR8"
      }
    },
    {
      "cell_type": "code",
      "source": [
        "evaluate_bn_roc_pr_ind(\"/content/drive/MyDrive/Unknown_Detection/OPenGANTestTinyImageNetNotPretrainedSep5th.classifier\", \n",
        "                   \"/content/drive/MyDrive/Unknown_Detection/50EpochsFullTrainTinyImageNetAug27th.pth\", \n",
        "                   euro_dataset, testTinyImageNet)"
      ],
      "metadata": {
        "colab": {
          "base_uri": "https://localhost:8080/"
        },
        "id": "GzA0objohJSV",
        "outputId": "9f83e0ed-1db1-4251-9f49-b9ae6ce550fb"
      },
      "execution_count": null,
      "outputs": [
        {
          "output_type": "stream",
          "name": "stdout",
          "text": [
            "For Loop Loader is closedDataLoader\n",
            "Iter Loop Loader is openDataLoader\n"
          ]
        },
        {
          "output_type": "stream",
          "name": "stderr",
          "text": [
            "100%|██████████| 282/282 [00:17<00:00, 16.40it/s]"
          ]
        },
        {
          "output_type": "stream",
          "name": "stdout",
          "text": [
            "\n",
            "\n",
            "ROC AU value: 93.09754851260837%\n",
            "PR AU value: 93.06123483536456%\n"
          ]
        },
        {
          "output_type": "stream",
          "name": "stderr",
          "text": [
            "\n"
          ]
        },
        {
          "output_type": "execute_result",
          "data": {
            "text/plain": [
              "(93.09754851260837, 93.06123483536456)"
            ]
          },
          "metadata": {},
          "execution_count": 23
        }
      ]
    },
    {
      "cell_type": "code",
      "source": [
        "evaluate_bn_roc_pr_ind(\"/content/epoch-16.classifier\", \n",
        "                   \"/content/drive/MyDrive/Unknown_Detection/Final_kWay10.pth\", \n",
        "                   test_OpenSetMNIST, testTinyImageNet)"
      ],
      "metadata": {
        "colab": {
          "base_uri": "https://localhost:8080/"
        },
        "id": "453Yk6j7jaqZ",
        "outputId": "c5b58968-d4c3-478c-a22d-a4ac195989dc"
      },
      "execution_count": null,
      "outputs": [
        {
          "output_type": "stream",
          "name": "stdout",
          "text": [
            "For Loop Loader is closedDataLoader\n",
            "Iter Loop Loader is openDataLoader\n"
          ]
        },
        {
          "output_type": "stream",
          "name": "stderr",
          "text": [
            "100%|██████████| 282/282 [00:24<00:00, 11.72it/s]"
          ]
        },
        {
          "output_type": "stream",
          "name": "stdout",
          "text": [
            "\n",
            "\n",
            "ROC AU value: 76.7195977393617%\n",
            "PR AU value: 80.00753742920666%\n"
          ]
        },
        {
          "output_type": "stream",
          "name": "stderr",
          "text": [
            "\n"
          ]
        },
        {
          "output_type": "execute_result",
          "data": {
            "text/plain": [
              "(76.7195977393617, 80.00753742920666)"
            ]
          },
          "metadata": {},
          "execution_count": 52
        }
      ]
    },
    {
      "cell_type": "code",
      "source": [
        "evaluate_bn_roc_pr_ind(\"/content/epoch-16.classifier\", \n",
        "                   \"/content/drive/MyDrive/Unknown_Detection/Final_kWay10.pth\", \n",
        "                   test_closedset_CIFAR, testTinyImageNet)"
      ],
      "metadata": {
        "colab": {
          "base_uri": "https://localhost:8080/"
        },
        "id": "BPQammrRje8D",
        "outputId": "73f49d02-fd03-4061-e13c-3d6be1506950"
      },
      "execution_count": null,
      "outputs": [
        {
          "output_type": "stream",
          "name": "stdout",
          "text": [
            "For Loop Loader is closedDataLoader\n",
            "Iter Loop Loader is openDataLoader\n"
          ]
        },
        {
          "output_type": "stream",
          "name": "stderr",
          "text": [
            "100%|██████████| 282/282 [00:15<00:00, 18.67it/s]"
          ]
        },
        {
          "output_type": "stream",
          "name": "stdout",
          "text": [
            "\n",
            "\n",
            "ROC AU value: 86.00419313928289%\n",
            "PR AU value: 87.14188303680386%\n"
          ]
        },
        {
          "output_type": "stream",
          "name": "stderr",
          "text": [
            "\n"
          ]
        },
        {
          "output_type": "execute_result",
          "data": {
            "text/plain": [
              "(86.00419313928289, 87.14188303680386)"
            ]
          },
          "metadata": {},
          "execution_count": 53
        }
      ]
    }
  ]
}