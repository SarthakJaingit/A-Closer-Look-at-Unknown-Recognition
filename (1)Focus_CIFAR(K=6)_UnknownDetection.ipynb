{
  "nbformat": 4,
  "nbformat_minor": 0,
  "metadata": {
    "colab": {
      "provenance": [],
      "collapsed_sections": [
        "QV9kJARJwW9N"
      ]
    },
    "kernelspec": {
      "name": "python3",
      "display_name": "Python 3"
    },
    "language_info": {
      "name": "python"
    },
    "widgets": {
      "application/vnd.jupyter.widget-state+json": {
        "8d5ab36c36da4bf1b4373e80c720b78a": {
          "model_module": "@jupyter-widgets/controls",
          "model_name": "HBoxModel",
          "model_module_version": "1.5.0",
          "state": {
            "_dom_classes": [],
            "_model_module": "@jupyter-widgets/controls",
            "_model_module_version": "1.5.0",
            "_model_name": "HBoxModel",
            "_view_count": null,
            "_view_module": "@jupyter-widgets/controls",
            "_view_module_version": "1.5.0",
            "_view_name": "HBoxView",
            "box_style": "",
            "children": [
              "IPY_MODEL_0cd353347a764f8eb44cfae5d6c8d2f6",
              "IPY_MODEL_efd53b509e914eb185cab01caa6aa5e0",
              "IPY_MODEL_76497fd26f91462eb8e7e92ffc173c9b"
            ],
            "layout": "IPY_MODEL_50ae06bb4d12424c8683ec07588b8e20"
          }
        },
        "0cd353347a764f8eb44cfae5d6c8d2f6": {
          "model_module": "@jupyter-widgets/controls",
          "model_name": "HTMLModel",
          "model_module_version": "1.5.0",
          "state": {
            "_dom_classes": [],
            "_model_module": "@jupyter-widgets/controls",
            "_model_module_version": "1.5.0",
            "_model_name": "HTMLModel",
            "_view_count": null,
            "_view_module": "@jupyter-widgets/controls",
            "_view_module_version": "1.5.0",
            "_view_name": "HTMLView",
            "description": "",
            "description_tooltip": null,
            "layout": "IPY_MODEL_e5f8f7d111ee4c48b1d6e5da63ab20bd",
            "placeholder": "​",
            "style": "IPY_MODEL_d9dbf3ba9a6849cd8606a59879bbf72d",
            "value": "100%"
          }
        },
        "efd53b509e914eb185cab01caa6aa5e0": {
          "model_module": "@jupyter-widgets/controls",
          "model_name": "FloatProgressModel",
          "model_module_version": "1.5.0",
          "state": {
            "_dom_classes": [],
            "_model_module": "@jupyter-widgets/controls",
            "_model_module_version": "1.5.0",
            "_model_name": "FloatProgressModel",
            "_view_count": null,
            "_view_module": "@jupyter-widgets/controls",
            "_view_module_version": "1.5.0",
            "_view_name": "ProgressView",
            "bar_style": "success",
            "description": "",
            "description_tooltip": null,
            "layout": "IPY_MODEL_fddf8d6d66ef4a7aaf7294f4ec46f944",
            "max": 170498071,
            "min": 0,
            "orientation": "horizontal",
            "style": "IPY_MODEL_d2b6d9c824b94a418fb2ca1d244f64cc",
            "value": 170498071
          }
        },
        "76497fd26f91462eb8e7e92ffc173c9b": {
          "model_module": "@jupyter-widgets/controls",
          "model_name": "HTMLModel",
          "model_module_version": "1.5.0",
          "state": {
            "_dom_classes": [],
            "_model_module": "@jupyter-widgets/controls",
            "_model_module_version": "1.5.0",
            "_model_name": "HTMLModel",
            "_view_count": null,
            "_view_module": "@jupyter-widgets/controls",
            "_view_module_version": "1.5.0",
            "_view_name": "HTMLView",
            "description": "",
            "description_tooltip": null,
            "layout": "IPY_MODEL_7cd8650564ac4e28acd8d2b4e0075570",
            "placeholder": "​",
            "style": "IPY_MODEL_b7376ade8e66441aac624c59cc34d1b5",
            "value": " 170498071/170498071 [00:01&lt;00:00, 103247819.18it/s]"
          }
        },
        "50ae06bb4d12424c8683ec07588b8e20": {
          "model_module": "@jupyter-widgets/base",
          "model_name": "LayoutModel",
          "model_module_version": "1.2.0",
          "state": {
            "_model_module": "@jupyter-widgets/base",
            "_model_module_version": "1.2.0",
            "_model_name": "LayoutModel",
            "_view_count": null,
            "_view_module": "@jupyter-widgets/base",
            "_view_module_version": "1.2.0",
            "_view_name": "LayoutView",
            "align_content": null,
            "align_items": null,
            "align_self": null,
            "border": null,
            "bottom": null,
            "display": null,
            "flex": null,
            "flex_flow": null,
            "grid_area": null,
            "grid_auto_columns": null,
            "grid_auto_flow": null,
            "grid_auto_rows": null,
            "grid_column": null,
            "grid_gap": null,
            "grid_row": null,
            "grid_template_areas": null,
            "grid_template_columns": null,
            "grid_template_rows": null,
            "height": null,
            "justify_content": null,
            "justify_items": null,
            "left": null,
            "margin": null,
            "max_height": null,
            "max_width": null,
            "min_height": null,
            "min_width": null,
            "object_fit": null,
            "object_position": null,
            "order": null,
            "overflow": null,
            "overflow_x": null,
            "overflow_y": null,
            "padding": null,
            "right": null,
            "top": null,
            "visibility": null,
            "width": null
          }
        },
        "e5f8f7d111ee4c48b1d6e5da63ab20bd": {
          "model_module": "@jupyter-widgets/base",
          "model_name": "LayoutModel",
          "model_module_version": "1.2.0",
          "state": {
            "_model_module": "@jupyter-widgets/base",
            "_model_module_version": "1.2.0",
            "_model_name": "LayoutModel",
            "_view_count": null,
            "_view_module": "@jupyter-widgets/base",
            "_view_module_version": "1.2.0",
            "_view_name": "LayoutView",
            "align_content": null,
            "align_items": null,
            "align_self": null,
            "border": null,
            "bottom": null,
            "display": null,
            "flex": null,
            "flex_flow": null,
            "grid_area": null,
            "grid_auto_columns": null,
            "grid_auto_flow": null,
            "grid_auto_rows": null,
            "grid_column": null,
            "grid_gap": null,
            "grid_row": null,
            "grid_template_areas": null,
            "grid_template_columns": null,
            "grid_template_rows": null,
            "height": null,
            "justify_content": null,
            "justify_items": null,
            "left": null,
            "margin": null,
            "max_height": null,
            "max_width": null,
            "min_height": null,
            "min_width": null,
            "object_fit": null,
            "object_position": null,
            "order": null,
            "overflow": null,
            "overflow_x": null,
            "overflow_y": null,
            "padding": null,
            "right": null,
            "top": null,
            "visibility": null,
            "width": null
          }
        },
        "d9dbf3ba9a6849cd8606a59879bbf72d": {
          "model_module": "@jupyter-widgets/controls",
          "model_name": "DescriptionStyleModel",
          "model_module_version": "1.5.0",
          "state": {
            "_model_module": "@jupyter-widgets/controls",
            "_model_module_version": "1.5.0",
            "_model_name": "DescriptionStyleModel",
            "_view_count": null,
            "_view_module": "@jupyter-widgets/base",
            "_view_module_version": "1.2.0",
            "_view_name": "StyleView",
            "description_width": ""
          }
        },
        "fddf8d6d66ef4a7aaf7294f4ec46f944": {
          "model_module": "@jupyter-widgets/base",
          "model_name": "LayoutModel",
          "model_module_version": "1.2.0",
          "state": {
            "_model_module": "@jupyter-widgets/base",
            "_model_module_version": "1.2.0",
            "_model_name": "LayoutModel",
            "_view_count": null,
            "_view_module": "@jupyter-widgets/base",
            "_view_module_version": "1.2.0",
            "_view_name": "LayoutView",
            "align_content": null,
            "align_items": null,
            "align_self": null,
            "border": null,
            "bottom": null,
            "display": null,
            "flex": null,
            "flex_flow": null,
            "grid_area": null,
            "grid_auto_columns": null,
            "grid_auto_flow": null,
            "grid_auto_rows": null,
            "grid_column": null,
            "grid_gap": null,
            "grid_row": null,
            "grid_template_areas": null,
            "grid_template_columns": null,
            "grid_template_rows": null,
            "height": null,
            "justify_content": null,
            "justify_items": null,
            "left": null,
            "margin": null,
            "max_height": null,
            "max_width": null,
            "min_height": null,
            "min_width": null,
            "object_fit": null,
            "object_position": null,
            "order": null,
            "overflow": null,
            "overflow_x": null,
            "overflow_y": null,
            "padding": null,
            "right": null,
            "top": null,
            "visibility": null,
            "width": null
          }
        },
        "d2b6d9c824b94a418fb2ca1d244f64cc": {
          "model_module": "@jupyter-widgets/controls",
          "model_name": "ProgressStyleModel",
          "model_module_version": "1.5.0",
          "state": {
            "_model_module": "@jupyter-widgets/controls",
            "_model_module_version": "1.5.0",
            "_model_name": "ProgressStyleModel",
            "_view_count": null,
            "_view_module": "@jupyter-widgets/base",
            "_view_module_version": "1.2.0",
            "_view_name": "StyleView",
            "bar_color": null,
            "description_width": ""
          }
        },
        "7cd8650564ac4e28acd8d2b4e0075570": {
          "model_module": "@jupyter-widgets/base",
          "model_name": "LayoutModel",
          "model_module_version": "1.2.0",
          "state": {
            "_model_module": "@jupyter-widgets/base",
            "_model_module_version": "1.2.0",
            "_model_name": "LayoutModel",
            "_view_count": null,
            "_view_module": "@jupyter-widgets/base",
            "_view_module_version": "1.2.0",
            "_view_name": "LayoutView",
            "align_content": null,
            "align_items": null,
            "align_self": null,
            "border": null,
            "bottom": null,
            "display": null,
            "flex": null,
            "flex_flow": null,
            "grid_area": null,
            "grid_auto_columns": null,
            "grid_auto_flow": null,
            "grid_auto_rows": null,
            "grid_column": null,
            "grid_gap": null,
            "grid_row": null,
            "grid_template_areas": null,
            "grid_template_columns": null,
            "grid_template_rows": null,
            "height": null,
            "justify_content": null,
            "justify_items": null,
            "left": null,
            "margin": null,
            "max_height": null,
            "max_width": null,
            "min_height": null,
            "min_width": null,
            "object_fit": null,
            "object_position": null,
            "order": null,
            "overflow": null,
            "overflow_x": null,
            "overflow_y": null,
            "padding": null,
            "right": null,
            "top": null,
            "visibility": null,
            "width": null
          }
        },
        "b7376ade8e66441aac624c59cc34d1b5": {
          "model_module": "@jupyter-widgets/controls",
          "model_name": "DescriptionStyleModel",
          "model_module_version": "1.5.0",
          "state": {
            "_model_module": "@jupyter-widgets/controls",
            "_model_module_version": "1.5.0",
            "_model_name": "DescriptionStyleModel",
            "_view_count": null,
            "_view_module": "@jupyter-widgets/base",
            "_view_module_version": "1.2.0",
            "_view_name": "StyleView",
            "description_width": ""
          }
        },
        "a025d1bb55a9421991424eac1401f1c5": {
          "model_module": "@jupyter-widgets/controls",
          "model_name": "HBoxModel",
          "model_module_version": "1.5.0",
          "state": {
            "_dom_classes": [],
            "_model_module": "@jupyter-widgets/controls",
            "_model_module_version": "1.5.0",
            "_model_name": "HBoxModel",
            "_view_count": null,
            "_view_module": "@jupyter-widgets/controls",
            "_view_module_version": "1.5.0",
            "_view_name": "HBoxView",
            "box_style": "",
            "children": [
              "IPY_MODEL_230a0abcc2f6411a93181d6d00814d61",
              "IPY_MODEL_f24339751fd3490a93878f97a9de1cd6",
              "IPY_MODEL_32e7a26ccb704c50b7f7cac327d97ad1"
            ],
            "layout": "IPY_MODEL_da1e974f3e1442ef823fa17bc972671e"
          }
        },
        "230a0abcc2f6411a93181d6d00814d61": {
          "model_module": "@jupyter-widgets/controls",
          "model_name": "HTMLModel",
          "model_module_version": "1.5.0",
          "state": {
            "_dom_classes": [],
            "_model_module": "@jupyter-widgets/controls",
            "_model_module_version": "1.5.0",
            "_model_name": "HTMLModel",
            "_view_count": null,
            "_view_module": "@jupyter-widgets/controls",
            "_view_module_version": "1.5.0",
            "_view_name": "HTMLView",
            "description": "",
            "description_tooltip": null,
            "layout": "IPY_MODEL_492e3768b59a48c890c0d47a31d3b8da",
            "placeholder": "​",
            "style": "IPY_MODEL_227fcb0fcc6d4c029b59da67d747ba59",
            "value": "100%"
          }
        },
        "f24339751fd3490a93878f97a9de1cd6": {
          "model_module": "@jupyter-widgets/controls",
          "model_name": "FloatProgressModel",
          "model_module_version": "1.5.0",
          "state": {
            "_dom_classes": [],
            "_model_module": "@jupyter-widgets/controls",
            "_model_module_version": "1.5.0",
            "_model_name": "FloatProgressModel",
            "_view_count": null,
            "_view_module": "@jupyter-widgets/controls",
            "_view_module_version": "1.5.0",
            "_view_name": "ProgressView",
            "bar_style": "success",
            "description": "",
            "description_tooltip": null,
            "layout": "IPY_MODEL_6cbebdc1123645748f967eb7c39cecda",
            "max": 102530333,
            "min": 0,
            "orientation": "horizontal",
            "style": "IPY_MODEL_ff60c87d4a8048d894d51a2328a71e70",
            "value": 102530333
          }
        },
        "32e7a26ccb704c50b7f7cac327d97ad1": {
          "model_module": "@jupyter-widgets/controls",
          "model_name": "HTMLModel",
          "model_module_version": "1.5.0",
          "state": {
            "_dom_classes": [],
            "_model_module": "@jupyter-widgets/controls",
            "_model_module_version": "1.5.0",
            "_model_name": "HTMLModel",
            "_view_count": null,
            "_view_module": "@jupyter-widgets/controls",
            "_view_module_version": "1.5.0",
            "_view_name": "HTMLView",
            "description": "",
            "description_tooltip": null,
            "layout": "IPY_MODEL_e53d64a7d2c24cdd92ee87278de37de0",
            "placeholder": "​",
            "style": "IPY_MODEL_e148075f90cc4c979dff415f7c792146",
            "value": " 97.8M/97.8M [00:00&lt;00:00, 266MB/s]"
          }
        },
        "da1e974f3e1442ef823fa17bc972671e": {
          "model_module": "@jupyter-widgets/base",
          "model_name": "LayoutModel",
          "model_module_version": "1.2.0",
          "state": {
            "_model_module": "@jupyter-widgets/base",
            "_model_module_version": "1.2.0",
            "_model_name": "LayoutModel",
            "_view_count": null,
            "_view_module": "@jupyter-widgets/base",
            "_view_module_version": "1.2.0",
            "_view_name": "LayoutView",
            "align_content": null,
            "align_items": null,
            "align_self": null,
            "border": null,
            "bottom": null,
            "display": null,
            "flex": null,
            "flex_flow": null,
            "grid_area": null,
            "grid_auto_columns": null,
            "grid_auto_flow": null,
            "grid_auto_rows": null,
            "grid_column": null,
            "grid_gap": null,
            "grid_row": null,
            "grid_template_areas": null,
            "grid_template_columns": null,
            "grid_template_rows": null,
            "height": null,
            "justify_content": null,
            "justify_items": null,
            "left": null,
            "margin": null,
            "max_height": null,
            "max_width": null,
            "min_height": null,
            "min_width": null,
            "object_fit": null,
            "object_position": null,
            "order": null,
            "overflow": null,
            "overflow_x": null,
            "overflow_y": null,
            "padding": null,
            "right": null,
            "top": null,
            "visibility": null,
            "width": null
          }
        },
        "492e3768b59a48c890c0d47a31d3b8da": {
          "model_module": "@jupyter-widgets/base",
          "model_name": "LayoutModel",
          "model_module_version": "1.2.0",
          "state": {
            "_model_module": "@jupyter-widgets/base",
            "_model_module_version": "1.2.0",
            "_model_name": "LayoutModel",
            "_view_count": null,
            "_view_module": "@jupyter-widgets/base",
            "_view_module_version": "1.2.0",
            "_view_name": "LayoutView",
            "align_content": null,
            "align_items": null,
            "align_self": null,
            "border": null,
            "bottom": null,
            "display": null,
            "flex": null,
            "flex_flow": null,
            "grid_area": null,
            "grid_auto_columns": null,
            "grid_auto_flow": null,
            "grid_auto_rows": null,
            "grid_column": null,
            "grid_gap": null,
            "grid_row": null,
            "grid_template_areas": null,
            "grid_template_columns": null,
            "grid_template_rows": null,
            "height": null,
            "justify_content": null,
            "justify_items": null,
            "left": null,
            "margin": null,
            "max_height": null,
            "max_width": null,
            "min_height": null,
            "min_width": null,
            "object_fit": null,
            "object_position": null,
            "order": null,
            "overflow": null,
            "overflow_x": null,
            "overflow_y": null,
            "padding": null,
            "right": null,
            "top": null,
            "visibility": null,
            "width": null
          }
        },
        "227fcb0fcc6d4c029b59da67d747ba59": {
          "model_module": "@jupyter-widgets/controls",
          "model_name": "DescriptionStyleModel",
          "model_module_version": "1.5.0",
          "state": {
            "_model_module": "@jupyter-widgets/controls",
            "_model_module_version": "1.5.0",
            "_model_name": "DescriptionStyleModel",
            "_view_count": null,
            "_view_module": "@jupyter-widgets/base",
            "_view_module_version": "1.2.0",
            "_view_name": "StyleView",
            "description_width": ""
          }
        },
        "6cbebdc1123645748f967eb7c39cecda": {
          "model_module": "@jupyter-widgets/base",
          "model_name": "LayoutModel",
          "model_module_version": "1.2.0",
          "state": {
            "_model_module": "@jupyter-widgets/base",
            "_model_module_version": "1.2.0",
            "_model_name": "LayoutModel",
            "_view_count": null,
            "_view_module": "@jupyter-widgets/base",
            "_view_module_version": "1.2.0",
            "_view_name": "LayoutView",
            "align_content": null,
            "align_items": null,
            "align_self": null,
            "border": null,
            "bottom": null,
            "display": null,
            "flex": null,
            "flex_flow": null,
            "grid_area": null,
            "grid_auto_columns": null,
            "grid_auto_flow": null,
            "grid_auto_rows": null,
            "grid_column": null,
            "grid_gap": null,
            "grid_row": null,
            "grid_template_areas": null,
            "grid_template_columns": null,
            "grid_template_rows": null,
            "height": null,
            "justify_content": null,
            "justify_items": null,
            "left": null,
            "margin": null,
            "max_height": null,
            "max_width": null,
            "min_height": null,
            "min_width": null,
            "object_fit": null,
            "object_position": null,
            "order": null,
            "overflow": null,
            "overflow_x": null,
            "overflow_y": null,
            "padding": null,
            "right": null,
            "top": null,
            "visibility": null,
            "width": null
          }
        },
        "ff60c87d4a8048d894d51a2328a71e70": {
          "model_module": "@jupyter-widgets/controls",
          "model_name": "ProgressStyleModel",
          "model_module_version": "1.5.0",
          "state": {
            "_model_module": "@jupyter-widgets/controls",
            "_model_module_version": "1.5.0",
            "_model_name": "ProgressStyleModel",
            "_view_count": null,
            "_view_module": "@jupyter-widgets/base",
            "_view_module_version": "1.2.0",
            "_view_name": "StyleView",
            "bar_color": null,
            "description_width": ""
          }
        },
        "e53d64a7d2c24cdd92ee87278de37de0": {
          "model_module": "@jupyter-widgets/base",
          "model_name": "LayoutModel",
          "model_module_version": "1.2.0",
          "state": {
            "_model_module": "@jupyter-widgets/base",
            "_model_module_version": "1.2.0",
            "_model_name": "LayoutModel",
            "_view_count": null,
            "_view_module": "@jupyter-widgets/base",
            "_view_module_version": "1.2.0",
            "_view_name": "LayoutView",
            "align_content": null,
            "align_items": null,
            "align_self": null,
            "border": null,
            "bottom": null,
            "display": null,
            "flex": null,
            "flex_flow": null,
            "grid_area": null,
            "grid_auto_columns": null,
            "grid_auto_flow": null,
            "grid_auto_rows": null,
            "grid_column": null,
            "grid_gap": null,
            "grid_row": null,
            "grid_template_areas": null,
            "grid_template_columns": null,
            "grid_template_rows": null,
            "height": null,
            "justify_content": null,
            "justify_items": null,
            "left": null,
            "margin": null,
            "max_height": null,
            "max_width": null,
            "min_height": null,
            "min_width": null,
            "object_fit": null,
            "object_position": null,
            "order": null,
            "overflow": null,
            "overflow_x": null,
            "overflow_y": null,
            "padding": null,
            "right": null,
            "top": null,
            "visibility": null,
            "width": null
          }
        },
        "e148075f90cc4c979dff415f7c792146": {
          "model_module": "@jupyter-widgets/controls",
          "model_name": "DescriptionStyleModel",
          "model_module_version": "1.5.0",
          "state": {
            "_model_module": "@jupyter-widgets/controls",
            "_model_module_version": "1.5.0",
            "_model_name": "DescriptionStyleModel",
            "_view_count": null,
            "_view_module": "@jupyter-widgets/base",
            "_view_module_version": "1.2.0",
            "_view_name": "StyleView",
            "description_width": ""
          }
        }
      }
    },
    "accelerator": "GPU",
    "gpuClass": "standard"
  },
  "cells": [
    {
      "cell_type": "code",
      "execution_count": null,
      "metadata": {
        "id": "DiNRA3dsdjej",
        "colab": {
          "base_uri": "https://localhost:8080/"
        },
        "outputId": "68d8dc45-3464-4a8e-b80e-0b1ec16ab314"
      },
      "outputs": [
        {
          "output_type": "stream",
          "name": "stdout",
          "text": [
            "Looking in indexes: https://pypi.org/simple, https://us-python.pkg.dev/colab-wheels/public/simple/\n",
            "Collecting git+https://github.com/aleju/imgaug.git\n",
            "  Cloning https://github.com/aleju/imgaug.git to /tmp/pip-req-build-v5edi3hr\n",
            "  Running command git clone -q https://github.com/aleju/imgaug.git /tmp/pip-req-build-v5edi3hr\n",
            "Requirement already satisfied: six in /usr/local/lib/python3.7/dist-packages (from imgaug==0.4.0) (1.15.0)\n",
            "Requirement already satisfied: numpy>=1.15 in /usr/local/lib/python3.7/dist-packages (from imgaug==0.4.0) (1.21.6)\n",
            "Requirement already satisfied: scipy in /usr/local/lib/python3.7/dist-packages (from imgaug==0.4.0) (1.7.3)\n",
            "Requirement already satisfied: Pillow in /usr/local/lib/python3.7/dist-packages (from imgaug==0.4.0) (7.1.2)\n",
            "Requirement already satisfied: matplotlib in /usr/local/lib/python3.7/dist-packages (from imgaug==0.4.0) (3.2.2)\n",
            "Requirement already satisfied: scikit-image>=0.14.2 in /usr/local/lib/python3.7/dist-packages (from imgaug==0.4.0) (0.18.3)\n",
            "Requirement already satisfied: opencv-python in /usr/local/lib/python3.7/dist-packages (from imgaug==0.4.0) (4.6.0.66)\n",
            "Requirement already satisfied: Shapely in /usr/local/lib/python3.7/dist-packages (from imgaug==0.4.0) (1.8.4)\n",
            "Requirement already satisfied: imageio in /usr/local/lib/python3.7/dist-packages (from imgaug==0.4.0) (2.9.0)\n",
            "Requirement already satisfied: networkx>=2.0 in /usr/local/lib/python3.7/dist-packages (from scikit-image>=0.14.2->imgaug==0.4.0) (2.6.3)\n",
            "Requirement already satisfied: PyWavelets>=1.1.1 in /usr/local/lib/python3.7/dist-packages (from scikit-image>=0.14.2->imgaug==0.4.0) (1.3.0)\n",
            "Requirement already satisfied: tifffile>=2019.7.26 in /usr/local/lib/python3.7/dist-packages (from scikit-image>=0.14.2->imgaug==0.4.0) (2021.11.2)\n",
            "Requirement already satisfied: cycler>=0.10 in /usr/local/lib/python3.7/dist-packages (from matplotlib->imgaug==0.4.0) (0.11.0)\n",
            "Requirement already satisfied: python-dateutil>=2.1 in /usr/local/lib/python3.7/dist-packages (from matplotlib->imgaug==0.4.0) (2.8.2)\n",
            "Requirement already satisfied: kiwisolver>=1.0.1 in /usr/local/lib/python3.7/dist-packages (from matplotlib->imgaug==0.4.0) (1.4.4)\n",
            "Requirement already satisfied: pyparsing!=2.0.4,!=2.1.2,!=2.1.6,>=2.0.1 in /usr/local/lib/python3.7/dist-packages (from matplotlib->imgaug==0.4.0) (3.0.9)\n",
            "Requirement already satisfied: typing-extensions in /usr/local/lib/python3.7/dist-packages (from kiwisolver>=1.0.1->matplotlib->imgaug==0.4.0) (4.1.1)\n"
          ]
        }
      ],
      "source": [
        "import os\n",
        "import csv\n",
        "import torch\n",
        "import torch.nn as nn\n",
        "import torchvision\n",
        "import torchvision.transforms as transforms\n",
        "from torchvision.datasets import CIFAR10, MNIST, SVHN\n",
        "import numpy as np\n",
        "import matplotlib.pyplot as plt\n",
        "import torch.nn.functional as F\n",
        "from tqdm import tqdm\n",
        "from sklearn.metrics import auc, f1_score, precision_recall_curve, roc_auc_score, roc_curve\n",
        "!pip install git+https://github.com/aleju/imgaug.git\n",
        "import imgaug.augmenters as iaa\n",
        "import glob\n",
        "import os.path as path\n",
        "import PIL"
      ]
    },
    {
      "cell_type": "markdown",
      "source": [
        "\n",
        "# Make sure to report info info in google doc \n",
        "\n",
        "# OpenGAN: https://github.com/aimerykong/OpenGAN/blob/main/demo_CrossDatasetOpenSet_training.ipynb\n",
        "\n",
        "# Redo MNIST evaluation and training by combining data loaders and doing normalization independently\n",
        "\n",
        "# Make a total Test Function Script that can be run. \n",
        "\n",
        "# Fix CCR Problem\n",
        "\n",
        "\n",
        "\n",
        "\n",
        "\n",
        "\n"
      ],
      "metadata": {
        "id": "QV9kJARJwW9N"
      }
    },
    {
      "cell_type": "markdown",
      "source": [
        "# Load Needed Files from Google Drive (like Model weights etc.)"
      ],
      "metadata": {
        "id": "q6RY9N-k7KAe"
      }
    },
    {
      "cell_type": "code",
      "source": [
        "from google.colab import drive\n",
        "drive.mount(\"/content/drive\", force_remount = True)"
      ],
      "metadata": {
        "colab": {
          "base_uri": "https://localhost:8080/"
        },
        "id": "VmqhUfaj7Oj6",
        "outputId": "faa06de3-6864-430f-e4b2-d3e08ac0bdfe"
      },
      "execution_count": null,
      "outputs": [
        {
          "output_type": "stream",
          "name": "stdout",
          "text": [
            "Mounted at /content/drive\n"
          ]
        }
      ]
    },
    {
      "cell_type": "code",
      "source": [
        "import zipfile\n",
        "with zipfile.ZipFile(\"/content/drive/MyDrive/Unknown_Detection/tiny-imagenet-200.zip\",\"r\") as zip_ref:\n",
        "    zip_ref.extractall()"
      ],
      "metadata": {
        "id": "yA3BsuxZJJ_k"
      },
      "execution_count": null,
      "outputs": []
    },
    {
      "cell_type": "markdown",
      "source": [
        "# Datasets and DataLoaders\n",
        "\n",
        "K Way Classification Dataset"
      ],
      "metadata": {
        "id": "wol_gM3D4s6Z"
      }
    },
    {
      "cell_type": "code",
      "source": [
        "class Closed_TINYIMAGENET():\n",
        "    def __init__(self, size=(64,64), set_name='train',\n",
        "                 path_to_data='/content/tiny-imagenet-200', \n",
        "                 isAugment=True):\n",
        "        \n",
        "        self.path_to_data = path_to_data        \n",
        "        self.mapping_name2id = {}\n",
        "        self.mapping_id2name = {}\n",
        "        self.mapping_name2english_name = {}\n",
        "        with open(path.join(self.path_to_data, 'wnids.txt')) as csv_file:\n",
        "            csv_reader = csv.reader(csv_file, delimiter=' ')\n",
        "            idx = 0\n",
        "            for row in csv_reader:\n",
        "                if idx >= 180: \n",
        "                  break\n",
        "                self.mapping_id2name[idx] = row[0]\n",
        "                self.mapping_name2id[row[0]] = idx\n",
        "                idx += 1\n",
        "        with open(path.join(self.path_to_data, 'words.txt')) as csv_file: \n",
        "          csv_reader = csv.reader(csv_file, delimiter=' ')\n",
        "          idx = 0\n",
        "          for row in csv_reader:\n",
        "            row = row[0].split('\\t')\n",
        "            self.mapping_name2english_name[row[0]] = row[1]\n",
        "            idx += 1\n",
        "\n",
        "\n",
        "        assert len(self.mapping_id2name) == len(self.mapping_name2id) == 180\n",
        "        \n",
        "        \n",
        "        if set_name=='test':  set_name = 'val'\n",
        "        \n",
        "        self.size = size\n",
        "        self.set_name = set_name\n",
        "        self.path_to_data = path_to_data\n",
        "        self.isAugment = isAugment\n",
        "        \n",
        "        self.imageNameList  = []\n",
        "        self.className = []\n",
        "        self.labelList = []\n",
        "        self.mappingLabel2Name = dict()\n",
        "        curLabel = 0\n",
        "\n",
        "        \n",
        "        if self.set_name == 'val':\n",
        "            with open(path.join(self.path_to_data, 'val', 'val_annotations.txt')) as csv_file:\n",
        "                csv_reader = csv.reader(csv_file, delimiter='\\t')\n",
        "                line_count = 0\n",
        "                for row in csv_reader:\n",
        "                    if row[1] not in self.mapping_name2id: continue\n",
        "                    self.imageNameList += [path.join(self.path_to_data, 'val', 'images', row[0])]\n",
        "                    self.labelList += [self.mapping_name2id[row[1]]]\n",
        "        else: # 'train'\n",
        "            self.current_class_dir = path.join(self.path_to_data, self.set_name)\n",
        "            for curClass in os.listdir(self.current_class_dir):                 \n",
        "                if curClass[0]=='.':   continue\n",
        "                if curClass not in self.mapping_name2id: continue\n",
        "                \n",
        "                curLabel = self.mapping_name2id[curClass]\n",
        "                for curImg in os.listdir(path.join(self.current_class_dir, curClass, 'images')):\n",
        "                    if curImg[0]=='.':    continue\n",
        "                    self.labelList += [curLabel]\n",
        "                    self.imageNameList += [path.join(self.path_to_data, self.set_name, curClass, 'images', curImg)]\n",
        "\n",
        "        \n",
        "        self.current_set_len = len(self.labelList)\n",
        "        \n",
        "        if self.set_name=='test' or self.set_name=='val' or  not self.isAugment:\n",
        "            self.transform = transforms.Compose([\n",
        "                transforms.ToTensor(),\n",
        "                transforms.Normalize((0.4802, 0.4481, 0.3975), (0.2302, 0.2265, 0.2262)),\n",
        "            ])            # ((0.4914, 0.4822, 0.4465), (0.2023, 0.1994, 0.2010))\n",
        "        else:\n",
        "            self.transform = transforms.Compose([\n",
        "                transforms.RandomCrop(self.size[0], padding=4),\n",
        "                transforms.RandomHorizontalFlip(),\n",
        "                transforms.ToTensor(),\n",
        "                transforms.Normalize((0.4802, 0.4481, 0.3975), (0.2302, 0.2265, 0.2262)),\n",
        "            ])\n",
        "        \n",
        "    def __len__(self):        \n",
        "        return self.current_set_len\n",
        "    \n",
        "    def __getitem__(self, idx):\n",
        "        curLabel = np.asarray(self.labelList[idx])\n",
        "        curImage = self.imageNameList[idx]\n",
        "        curImage = PIL.Image.open(curImage).convert('RGB')\n",
        "        curImage = self.transform(curImage)\n",
        "        \n",
        "        #print(idx, curLabel)\n",
        "        \n",
        "        #curLabel = torch.tensor([curLabel]).unsqueeze(0).unsqueeze(0)\n",
        "\n",
        "        return curImage, curLabel"
      ],
      "metadata": {
        "id": "i0Ma1mN5H3Jb"
      },
      "execution_count": null,
      "outputs": []
    },
    {
      "cell_type": "code",
      "source": [
        "batch_size = 32\n",
        "\n",
        "trainTinyImageNet = Closed_TINYIMAGENET(set_name = 'train')\n",
        "trainTinyImageNetLoader = torch.utils.data.DataLoader(trainTinyImageNet, batch_size = 32, shuffle = True)\n",
        "print(\"Length of trainTinyImageNet is {}\".format(len(trainTinyImageNet)))\n",
        "\n",
        "testTinyImageNet = Closed_TINYIMAGENET(set_name = 'test')\n",
        "testTinyImageNetLoader = torch.utils.data.DataLoader(testTinyImageNet, batch_size = 32, shuffle = True)\n",
        "print(\"Length of testTinyImageNet is {}\".format(len(testTinyImageNet)))\n",
        "\n",
        "# Plot train images\n",
        "train_dataiter = iter(trainTinyImageNetLoader)\n",
        "images, targets = next(train_dataiter)\n",
        "assert max(targets) < 180\n",
        "images = images.numpy()\n",
        "images -= images.min() \n",
        "images /= images.max()\n",
        "\n",
        "fig = plt.figure(figsize=(25, 4))\n",
        "for idx in np.arange(15):\n",
        "  ax = fig.add_subplot(2, 16/2, idx+1, xticks=[], yticks=[])\n",
        "  plt.imshow(np.transpose(images[idx], (1, 2, 0)))\n",
        "  ax.set_title(trainTinyImageNet.mapping_name2english_name[trainTinyImageNet.mapping_id2name[targets[idx].item()]])\n",
        "  ax = fig.add_subplot(2, 16/2, idx+1, xticks=[], yticks=[])"
      ],
      "metadata": {
        "colab": {
          "base_uri": "https://localhost:8080/",
          "height": 293
        },
        "id": "w-JMGjH-MqGh",
        "outputId": "717ec8fe-47ce-4a30-cb11-2cded2edad38"
      },
      "execution_count": null,
      "outputs": [
        {
          "output_type": "stream",
          "name": "stdout",
          "text": [
            "Length of trainTinyImageNet is 90000\n",
            "Length of testTinyImageNet is 9000\n"
          ]
        },
        {
          "output_type": "stream",
          "name": "stderr",
          "text": [
            "/usr/local/lib/python3.7/dist-packages/ipykernel_launcher.py:24: MatplotlibDeprecationWarning: Adding an axes using the same arguments as a previous axes currently reuses the earlier instance.  In a future version, a new instance will always be created and returned.  Meanwhile, this warning can be suppressed, and the future behavior ensured, by passing a unique label to each axes instance.\n"
          ]
        },
        {
          "output_type": "display_data",
          "data": {
            "text/plain": [
              "<Figure size 1800x288 with 15 Axes>"
            ],
            "image/png": "[encoded data removed]"
          },
          "metadata": {}
        }
      ]
    },
    {
      "cell_type": "code",
      "source": [
        "trainset = CIFAR10(root='./data', train=True, download=True)\n",
        "testset = CIFAR10(root='./data', train=False, download=True)\n",
        "classDict = {'plane': 0, 'car': 1, 'bird': 2, 'cat': 3, 'deer': 4,\n",
        "              'dog': 5, 'frog': 6, 'horse': 7, 'ship': 8, 'truck': 9}\n",
        "\n",
        "print(len(trainset.targets))\n",
        "print(len(trainset.data))\n",
        "\n",
        "mean = [x / 255 for x in [125.3, 123.0, 113.9]]\n",
        "std = [x / 255 for x in [63.0, 62.1, 66.7]]\n",
        "\n",
        "# im -= im.min() then im /= im.max()\n",
        "\n",
        "train_transform = transforms.Compose([\n",
        "    transforms.ToPILImage(),      \n",
        "    transforms.RandomHorizontalFlip(), \n",
        "    transforms.RandomCrop(32, padding = 4),                  \n",
        "    transforms.ToTensor(),\n",
        "    transforms.Normalize((mean), (std))\n",
        "])\n",
        "\n",
        "test_transform = transforms.Compose([\n",
        "    transforms.ToPILImage(), \n",
        "    transforms.ToTensor(), \n",
        "    transforms.Normalize(mean, std)\n",
        "])\n",
        "\n",
        "\n",
        "trainset = CIFAR10(root='./data', train=True, download=True)\n",
        "testset = CIFAR10(root='./data', train=False, download=True)\n",
        "classDict = {'plane': 0, 'car': 1, 'bird': 2, 'cat': 3, 'deer': 4,\n",
        "              'dog': 5, 'frog': 6, 'horse': 7, 'ship': 8, 'truck': 9}\n",
        "\n",
        "print(len(trainset.targets))\n",
        "print(len(trainset.data))\n",
        "\n",
        "mean = [x / 255 for x in [125.3, 123.0, 113.9]]\n",
        "std = [x / 255 for x in [63.0, 62.1, 66.7]]\n",
        "\n",
        "# im -= im.min() then im /= im.max()\n",
        "\n",
        "train_transform = transforms.Compose([\n",
        "    transforms.ToPILImage(),      \n",
        "    transforms.RandomHorizontalFlip(), \n",
        "    transforms.RandomCrop(32, padding = 4),                  \n",
        "    transforms.ToTensor(),\n",
        "    transforms.Normalize((mean), (std))\n",
        "])\n",
        "\n",
        "test_transform = transforms.Compose([\n",
        "    transforms.ToPILImage(), \n",
        "    transforms.ToTensor(), \n",
        "    transforms.Normalize(mean, std)\n",
        "])\n",
        "\n",
        "class SplitCIFAR(torch.utils.data.Dataset):\n",
        "    def __init__(self, data, targets, split, mode, transformFunc, iaa_compat = False):\n",
        "        \"\"\"\n",
        "        datasets: a list of get_class_i outputs, i.e. a list of list of images for selected classes\n",
        "        \"\"\"\n",
        "        img2targets = list(zip(data, targets))\n",
        "        self.data = list()\n",
        "        self.iaa_compat = iaa_compat\n",
        "\n",
        "        if mode == \"train\": \n",
        "          for v in img2targets:\n",
        "            _, target = v\n",
        "            if target < split: \n",
        "              self.data.append(v)\n",
        "        elif mode == \"test\": \n",
        "          for v in img2targets: \n",
        "            _, target = v \n",
        "            if target >= split: \n",
        "              self.data.append(v)\n",
        "        else: \n",
        "          raise ValueError(\"Not a mode\")\n",
        "        \n",
        "        self.transformFunc = transformFunc\n",
        "\n",
        "        if self.iaa_compat: \n",
        "          self.contents = [\"UNSEEN\"] * (len(self.data) // 2)\n",
        "          left = len(self.data) - len(self.contents)\n",
        "          self.contents.extend(([\"SEEN\"] * left))\n",
        "\n",
        "          assert len(self.contents) == len(self.data)\n",
        "\n",
        "          self.normal_transform = transforms.Compose([\n",
        "                                                      transforms.ToPILImage(), \n",
        "                                                      transforms.ToTensor(), \n",
        "                                                      transforms.Normalize(mean, std)])                             \n",
        "    def __getitem__(self, i):\n",
        "       img, target = self.data[i]\n",
        "       if self.iaa_compat: \n",
        "         if self.contents[i] == \"UNSEEN\":\n",
        "           img = self.transformFunc(image = img)\n",
        "           target = torch.tensor(0, dtype = int)\n",
        "         else: \n",
        "           '''SEEN data'''\n",
        "           target = torch.tensor(1, dtype = int)\n",
        "\n",
        "         img = self.normal_transform(img)\n",
        "         return img, target \n",
        "       else: \n",
        "         img = self.transformFunc(img)\n",
        "         return img, target\n",
        "\n",
        "    def __len__(self):\n",
        "        return len(self.data)\n",
        "\n",
        "batch_size = 32\n",
        "\n",
        "split = 6\n",
        "train_closedset = SplitCIFAR(trainset.data, trainset.targets, split, \"train\", train_transform)\n",
        "test_closedset = SplitCIFAR(testset.data, testset.targets, split, \"train\", test_transform)\n",
        "\n",
        "test_openset = SplitCIFAR(testset.data, testset.targets, split, \"test\", test_transform)\n",
        "\n",
        "train_closedloader = torch.utils.data.DataLoader(train_closedset, batch_size, shuffle = True)\n",
        "test_closedloader = torch.utils.data.DataLoader(test_closedset, batch_size, shuffle = True)\n",
        "\n",
        "test_openloader = torch.utils.data.DataLoader(test_openset, batch_size, shuffle = False)\n",
        "\n",
        "# Plot train images\n",
        "train_dataiter = iter(train_closedloader)\n",
        "images, targets = next(train_dataiter)\n",
        "images = images.numpy()\n",
        "images -= images.min() \n",
        "images /= images.max()\n",
        "\n",
        "fig = plt.figure(figsize=(25, 4))\n",
        "for idx in np.arange(15):\n",
        "  ax = fig.add_subplot(2, 16/2, idx+1, xticks=[], yticks=[])\n",
        "  plt.imshow(np.transpose(images[idx], (1, 2, 0)))\n",
        "  ax.set_title(list(classDict.keys())[targets[idx]])\n",
        "  ax = fig.add_subplot(2, 16/2, idx+1, xticks=[], yticks=[])\n",
        "\n",
        "# For reference\n",
        "# classDict = {'plane': 0, 'car': 1, 'bird': 2, 'cat': 3, 'deer': 4,\n",
        "              #'dog': 5, 'frog': 6, 'horse': 7, 'ship': 8, 'truck': 9}"
      ],
      "metadata": {
        "colab": {
          "base_uri": "https://localhost:8080/",
          "height": 450,
          "referenced_widgets": [
            "8d5ab36c36da4bf1b4373e80c720b78a",
            "0cd353347a764f8eb44cfae5d6c8d2f6",
            "efd53b509e914eb185cab01caa6aa5e0",
            "76497fd26f91462eb8e7e92ffc173c9b",
            "50ae06bb4d12424c8683ec07588b8e20",
            "e5f8f7d111ee4c48b1d6e5da63ab20bd",
            "d9dbf3ba9a6849cd8606a59879bbf72d",
            "fddf8d6d66ef4a7aaf7294f4ec46f944",
            "d2b6d9c824b94a418fb2ca1d244f64cc",
            "7cd8650564ac4e28acd8d2b4e0075570",
            "b7376ade8e66441aac624c59cc34d1b5"
          ]
        },
        "id": "WcKoLuYQ6pGB",
        "outputId": "ec20087d-cdbc-4e67-b4ce-257631f77be4"
      },
      "execution_count": null,
      "outputs": [
        {
          "output_type": "stream",
          "name": "stdout",
          "text": [
            "Downloading https://www.cs.toronto.edu/~kriz/cifar-10-python.tar.gz to ./data/cifar-10-python.tar.gz\n"
          ]
        },
        {
          "output_type": "display_data",
          "data": {
            "text/plain": [
              "  0%|          | 0/170498071 [00:00<?, ?it/s]"
            ],
            "application/vnd.jupyter.widget-view+json": {
              "version_major": 2,
              "version_minor": 0,
              "model_id": "8d5ab36c36da4bf1b4373e80c720b78a"
            }
          },
          "metadata": {}
        },
        {
          "output_type": "stream",
          "name": "stdout",
          "text": [
            "Extracting ./data/cifar-10-python.tar.gz to ./data\n",
            "Files already downloaded and verified\n",
            "50000\n",
            "50000\n",
            "Files already downloaded and verified\n",
            "Files already downloaded and verified\n",
            "50000\n",
            "50000\n"
          ]
        },
        {
          "output_type": "stream",
          "name": "stderr",
          "text": [
            "/usr/local/lib/python3.7/dist-packages/ipykernel_launcher.py:135: MatplotlibDeprecationWarning: Adding an axes using the same arguments as a previous axes currently reuses the earlier instance.  In a future version, a new instance will always be created and returned.  Meanwhile, this warning can be suppressed, and the future behavior ensured, by passing a unique label to each axes instance.\n"
          ]
        },
        {
          "output_type": "display_data",
          "data": {
            "text/plain": [
              "<Figure size 1800x288 with 15 Axes>"
            ],
            "image/png": "[encoded data removed]"
          },
          "metadata": {}
        }
      ]
    },
    {
      "cell_type": "markdown",
      "source": [
        "Low Level Noise Dataset"
      ],
      "metadata": {
        "id": "gkOVdM-k43O6"
      }
    },
    {
      "cell_type": "code",
      "source": [
        "mixed_classes = [\"unseen\", \"seen\"]\n",
        "class PureNoiseData(torch.utils.data.Dataset): \n",
        "  \n",
        "  def __init__(self, img_dim, noise_type, current_len, imgs, targets, split, transformFunc): \n",
        "    self.img_dim = img_dim\n",
        "    assert type(self.img_dim) == tuple\n",
        "    self.current_len = current_len\n",
        "    indices = []\n",
        "    for i, target in enumerate(targets): \n",
        "      if target < split: \n",
        "        indices.append(i)\n",
        "    \n",
        "    indices = indices[:current_len]\n",
        "    self.imgs= list()\n",
        "    self.datatypes = list()\n",
        "    for ii in indices: \n",
        "      self.imgs.append(imgs[ii])\n",
        "      self.datatypes.append(\"CIFAR\")\n",
        "    \n",
        "    self.datatypes.extend([\"NOISE\"] * 100)\n",
        "\n",
        "    self.noise_type = noise_type\n",
        "    self.transformFunc = transformFunc\n",
        "\n",
        "  def __getitem__(self, idx): \n",
        "\n",
        "    # adjust mu and sigma accordingly (that's why I created 2 variables)\n",
        "    datatype = self.datatypes[idx]\n",
        "    if datatype == \"NOISE\": \n",
        "      if self.noise_type == \"normal\": \n",
        "        mu, sigma = 0, 1\n",
        "        return torch.from_numpy(np.random.normal(mu, sigma, size = self.img_dim)), 0\n",
        "      elif self.noise_type == \"uniform\": \n",
        "        mu, sigma = 0, 1\n",
        "        return torch.from_numpy(np.random.uniform(mu, sigma, size = self.img_dim)), 0\n",
        "    elif datatype == \"CIFAR\": \n",
        "      img = self.imgs[idx]\n",
        "      img = self.transformFunc(img)\n",
        "      return img, 1\n",
        "    else: \n",
        "      raise ValueError(\"Internal Error- Refactor Code\")\n",
        "  \n",
        "  def __len__(self): \n",
        "\n",
        "    return self.current_len * 2\n",
        "\n",
        "\n",
        "batch_size = 32\n",
        "\n",
        "normalDisData = PureNoiseData((3, 32, 32), \"normal\", 100, testset.data, testset.targets, split, test_transform)\n",
        "normalDisLoader = torch.utils.data.DataLoader(normalDisData, batch_size = batch_size, shuffle = True)\n",
        "print(\"Len of NoiseLoader: {}\".format(len(normalDisData)))\n",
        "\n",
        "uniformDisData = PureNoiseData((3, 32, 32), \"uniform\", 100, testset.data, testset.targets, split, test_transform)\n",
        "print(\"Len of UniformLoader: {}\".format(len(uniformDisData)))\n",
        "uniformDisLoader = torch.utils.data.DataLoader(uniformDisData, batch_size = batch_size, shuffle = True)\n",
        "\n",
        "noiseIter = iter(uniformDisLoader)\n",
        "imgs, targets = next(noiseIter)\n",
        "imgs = imgs.numpy()\n",
        "imgs -= imgs.min() \n",
        "imgs /= imgs.max()\n",
        "\n",
        "print(\"Max {}\".format(imgs.max()))\n",
        "print(\"Min {}\".format(imgs.min()))\n",
        "\n",
        "fig = plt.figure(figsize=(25, 4))\n",
        "for idx in np.arange(5):\n",
        "  ax = fig.add_subplot(2, 16/2, idx+1, xticks=[], yticks=[])\n",
        "  plt.imshow(np.transpose(imgs[idx], (1, 2, 0)))\n",
        "  ax.set_title(mixed_classes[targets[idx]])\n",
        "  ax = fig.add_subplot(2, 16/2, idx+1, xticks=[], yticks=[])\n",
        "\n",
        "# For reference\n",
        "# classDict = {'plane': 0, 'car': 1, 'bird': 2, 'cat': 3, 'deer': 4,\n",
        "              #'dog': 5, 'frog': 6, 'horse': 7, 'ship': 8, 'truck': 9}"
      ],
      "metadata": {
        "id": "lsFkUdWqoQ7w",
        "colab": {
          "base_uri": "https://localhost:8080/",
          "height": 258
        },
        "outputId": "f1cfbf5a-d86d-4575-9068-6fe436c08108"
      },
      "execution_count": null,
      "outputs": [
        {
          "output_type": "stream",
          "name": "stdout",
          "text": [
            "Len of NoiseLoader: 200\n",
            "Len of UniformLoader: 200\n",
            "Max 1.0\n",
            "Min 0.0\n"
          ]
        },
        {
          "output_type": "stream",
          "name": "stderr",
          "text": [
            "/usr/local/lib/python3.7/dist-packages/ipykernel_launcher.py:72: MatplotlibDeprecationWarning: Adding an axes using the same arguments as a previous axes currently reuses the earlier instance.  In a future version, a new instance will always be created and returned.  Meanwhile, this warning can be suppressed, and the future behavior ensured, by passing a unique label to each axes instance.\n"
          ]
        },
        {
          "output_type": "display_data",
          "data": {
            "text/plain": [
              "<Figure size 1800x288 with 5 Axes>"
            ],
            "image/png": "[encoded data removed]"
          },
          "metadata": {}
        }
      ]
    },
    {
      "cell_type": "markdown",
      "source": [
        "Closed set (6 known classes) under heavy augmentations:"
      ],
      "metadata": {
        "id": "ilxjDtuM67jj"
      }
    },
    {
      "cell_type": "code",
      "source": [
        "transforms_noisyOE = iaa.Sequential([\n",
        "   iaa.Fliplr(0.5),\n",
        "   iaa.pillike.EnhanceContrast(),\n",
        "   iaa.GaussianBlur(sigma=(0.1, 2)),\n",
        "   iaa.Rain(speed=(0.5, 0.9))\n",
        "])\n",
        "\n",
        "# transforms_noisyOE = iaa.Sequential([\n",
        "#    iaa.pillike.EnhanceContrast(),\n",
        "#    iaa.GaussianBlur(sigma=(0.1, 1))\n",
        "# ])\n",
        "\n",
        "\n",
        "\n",
        "# transforms_noisyOE = transforms.Compose([\n",
        "#    transforms.ToPILImage(), \n",
        "#    transforms.ColorJitter(contrast = 0.3),\n",
        "#    transforms.GaussianBlur(kernel_size=(3, 5), sigma=(0.1, 5)), \n",
        "#    transforms.ToTensor(),\n",
        "#   transforms.Normalize((mean), (std))\n",
        "# ])\n",
        "\n",
        "split = 10\n",
        "\n",
        "closed_set_heavy_Transforms = SplitCIFAR(testset.data, testset.targets, split, \"train\", transforms_noisyOE, iaa_compat = True)\n",
        "closed_set_heavy_TransformsLoader = torch.utils.data.DataLoader(closed_set_heavy_Transforms, batch_size = batch_size, shuffle = True)\n",
        "\n",
        "noiseRegIter = iter(closed_set_heavy_TransformsLoader)\n",
        "imgs, targets = next(noiseRegIter)\n",
        "imgs = imgs.float()\n",
        "imgs -= imgs.min()\n",
        "imgs /= imgs.max()\n",
        "\n",
        "fig = plt.figure(figsize=(25, 4))\n",
        "for idx in np.arange(5):\n",
        "  ax = fig.add_subplot(2, 16/2, idx+1, xticks=[], yticks=[])\n",
        "  plt.imshow(np.transpose(imgs[idx], (1, 2, 0)))\n",
        "  ax.set_title(mixed_classes[targets[idx]])\n",
        "  ax = fig.add_subplot(2, 16/2, idx+1, xticks=[], yticks=[])\n",
        "\n",
        "# For reference\n",
        "# classDict = {'plane': 0, 'car': 1, 'bird': 2, 'cat': 3, 'deer': 4,\n",
        "              #'dog': 5, 'frog': 6, 'horse': 7, 'ship': 8, 'truck': 9}"
      ],
      "metadata": {
        "id": "1vH5e-Kz2e6o",
        "colab": {
          "base_uri": "https://localhost:8080/",
          "height": 187
        },
        "outputId": "da10d49c-24e6-4fdc-d159-a5d13843a4cb"
      },
      "execution_count": null,
      "outputs": [
        {
          "output_type": "stream",
          "name": "stderr",
          "text": [
            "/usr/local/lib/python3.7/dist-packages/ipykernel_launcher.py:39: MatplotlibDeprecationWarning: Adding an axes using the same arguments as a previous axes currently reuses the earlier instance.  In a future version, a new instance will always be created and returned.  Meanwhile, this warning can be suppressed, and the future behavior ensured, by passing a unique label to each axes instance.\n"
          ]
        },
        {
          "output_type": "display_data",
          "data": {
            "text/plain": [
              "<Figure size 1800x288 with 5 Axes>"
            ],
            "image/png": "[encoded data removed]"
          },
          "metadata": {}
        }
      ]
    },
    {
      "cell_type": "markdown",
      "source": [
        "Mixed Dataset of open and closed datasets with labels of whether they are open or closed"
      ],
      "metadata": {
        "id": "X_QF3-mG5Fiu"
      }
    },
    {
      "cell_type": "code",
      "source": [
        "from torch.utils.data.dataset import TensorDataset\n",
        "class MixedCIFAR(torch.utils.data.Dataset):\n",
        "    def __init__(self, data, targets, split, transformFunc):\n",
        "        \"\"\"\n",
        "        datasets: a list of get_class_i outputs, i.e. a list of list of images for selected classes\n",
        "        \"\"\"\n",
        "        img2targets = list(zip(data, targets))\n",
        "        self.data = list()\n",
        "\n",
        "        \n",
        "        for v in img2targets:\n",
        "          image, target = v\n",
        "          if target < split: \n",
        "            self.data.append((image, 1))\n",
        "          else: \n",
        "            self.data.append((image, 0))\n",
        "        \n",
        "        self.transformFunc = transformFunc\n",
        "\n",
        "    def __getitem__(self, i):\n",
        "\n",
        "       img, target = self.data[i]\n",
        "       img = self.transformFunc(img)\n",
        "       return img, target\n",
        "\n",
        "    def __len__(self):\n",
        "        return len(self.data)\n",
        "\n",
        "train_mixedCIFAR = MixedCIFAR(trainset.data, trainset.targets, split, transformFunc = train_transform)\n",
        "train_mixedCIFARLoader = torch.utils.data.DataLoader(train_mixedCIFAR, batch_size = batch_size, shuffle = True)\n",
        "\n",
        "test_mixedCIFAR = MixedCIFAR(testset.data, testset.targets, split, transformFunc = test_transform)\n",
        "test_mixedCIFARLoader = torch.utils.data.DataLoader(test_mixedCIFAR, batch_size = batch_size, shuffle = True)\n",
        "\n",
        "mixed_classes = [\"unseen\", \"seen\"]\n",
        "mixedCIFARiter = iter(test_mixedCIFARLoader)\n",
        "imgs, targets = next(mixedCIFARiter)\n",
        "\n",
        "images = imgs.numpy()\n",
        "images -= images.min() \n",
        "images /= images.max()\n",
        "\n",
        "fig = plt.figure(figsize=(25, 4))\n",
        "for idx in np.arange(5):\n",
        "  ax = fig.add_subplot(2, 16/2, idx+1, xticks=[], yticks=[])\n",
        "  plt.imshow(np.transpose(imgs[idx], (1, 2, 0)))\n",
        "  ax.set_title(mixed_classes[targets[idx]])\n",
        "  ax = fig.add_subplot(2, 16/2, idx+1, xticks=[], yticks=[])\n",
        "\n",
        "# For reference\n",
        "# classDict = {'plane': 0, 'car': 1, 'bird': 2, 'cat': 3, 'deer': 4,\n",
        "              #'dog': 5, 'frog': 6, 'horse': 7, 'ship': 8, 'truck': 9}"
      ],
      "metadata": {
        "id": "j4-AG7vCEst9",
        "colab": {
          "base_uri": "https://localhost:8080/",
          "height": 187
        },
        "outputId": "3a3bab13-f409-43cc-f20c-b2d4126a245f"
      },
      "execution_count": null,
      "outputs": [
        {
          "output_type": "stream",
          "name": "stderr",
          "text": [
            "/usr/local/lib/python3.7/dist-packages/ipykernel_launcher.py:48: MatplotlibDeprecationWarning: Adding an axes using the same arguments as a previous axes currently reuses the earlier instance.  In a future version, a new instance will always be created and returned.  Meanwhile, this warning can be suppressed, and the future behavior ensured, by passing a unique label to each axes instance.\n"
          ]
        },
        {
          "output_type": "display_data",
          "data": {
            "text/plain": [
              "<Figure size 1800x288 with 5 Axes>"
            ],
            "image/png": "[encoded data removed]"
          },
          "metadata": {}
        }
      ]
    },
    {
      "cell_type": "markdown",
      "source": [
        "Outlier Exposure Datasets"
      ],
      "metadata": {
        "id": "365x-aMr5DGu"
      }
    },
    {
      "cell_type": "code",
      "source": [
        "# Load Outlier Exposure datasets\n",
        "# Train Datasets\n",
        "mnist_OEtrainset = torchvision.datasets.MNIST(root='./data', train=True, download=True, transform=transforms.ToTensor())\n",
        "svhn_OEtrainset = torchvision.datasets.SVHN(root = './data', split = \"train\", download = True)\n",
        "\n",
        "# Test Datasets\n",
        "mnist_OEtestset = torchvision.datasets.MNIST(root='./data', train=False, download=True, transform=transforms.ToTensor())\n",
        "svhn_OEtestset = torchvision.datasets.SVHN(root = './data', split = \"test\", download = True)"
      ],
      "metadata": {
        "id": "vOn3jAx1o2mK"
      },
      "execution_count": null,
      "outputs": []
    },
    {
      "cell_type": "code",
      "source": [
        "class NewDataset_and_CIFAR(torch.utils.data.Dataset):\n",
        "  '''Seen: CIFAR Closed set; Unseen: New Dataset'''\n",
        "\n",
        "  def __init__(self, CIFAR_dataset, New_dataset_images, New_dataset_targets, split, transformFunc, OpenSetRec = False, MNIST = False):\n",
        "    '''For CIFAR Only'''\n",
        "    images, targets = CIFAR_dataset.data, CIFAR_dataset.targets\n",
        "    img2targets = list(zip(images, targets))\n",
        "    self.data = list()\n",
        "\n",
        "    # if OpenSetRec: \n",
        "    #   self.data = img2targets\n",
        "  \n",
        "    for v in img2targets:\n",
        "      img, target = v\n",
        "      if target < split: \n",
        "        if OpenSetRec: \n",
        "          self.data.append((img, torch.tensor([1, int(target)])))\n",
        "        else: \n",
        "          self.data.append((img, 1)) # 1 is seen\n",
        "    \n",
        "    print(\"Len of CIFAR: {}\".format(len(self.data)))\n",
        "    \n",
        "\n",
        "    '''For New Dataset Only'''\n",
        "    img2targets = list(zip(New_dataset_images, New_dataset_targets))[:(len(self.data))]\n",
        "\n",
        "    for v in img2targets: \n",
        "      if not OpenSetRec: \n",
        "        self.data.append((v[0], 0)) # 0 is unseen\n",
        "      else: \n",
        "        self.data.append((v[0], torch.tensor([0, 0])))\n",
        "      \n",
        "    \n",
        "    self.transformFunc = transformFunc\n",
        "    self.MNIST = MNIST\n",
        "    print(\"Len of Entire Dataset {}\".format(len(self.data)))\n",
        "    \n",
        "  def __getitem__(self, i):\n",
        "    img, target = self.data[i]\n",
        "    if type(img) != np.ndarray and self.MNIST: \n",
        "      # MNIST\n",
        "      img = img.to(float)\n",
        "\n",
        "      channel_1 = img.unsqueeze(0)\n",
        "      channel_2 = channel_1.clone()\n",
        "      channel_3 = channel_1.clone()\n",
        "      \n",
        "      img = torch.cat((channel_1, channel_2, channel_3), dim = 0)\n",
        "      \n",
        "      img = transforms.Resize(32)(img) \n",
        "      \n",
        "    img = self.transformFunc(img)\n",
        "    return img, target\n",
        "    # img, target = self.data[i]\n",
        "    # img = self.transformFunc(img)\n",
        "    # return img, target\n",
        "\n",
        "\n",
        "  def __len__(self):\n",
        "    return len(self.data)\n",
        "\n",
        "newDatasetAndCIFAR = NewDataset_and_CIFAR(testset, torch.from_numpy(svhn_OEtestset.data), torch.from_numpy(svhn_OEtestset.labels), split, test_transform)\n",
        "newDatasetAndCIFARLoader = torch.utils.data.DataLoader(newDatasetAndCIFAR, batch_size = batch_size, shuffle = True)\n",
        "\n",
        "mixed_classes = [\"unseen\", \"seen\"]\n",
        "newDatasetAndCIFARiter = iter(newDatasetAndCIFARLoader)\n",
        "imgs, targets = next(newDatasetAndCIFARiter)\n",
        "\n",
        "imgs = imgs.numpy()\n",
        "imgs -= imgs.min() \n",
        "imgs /= imgs.max()\n",
        "\n",
        "fig = plt.figure(figsize=(25, 4))\n",
        "for idx in np.arange(5):\n",
        "  ax = fig.add_subplot(2, 16/2, idx+1, xticks=[], yticks=[])\n",
        "  plt.imshow(np.transpose(imgs[idx], (1, 2, 0)))\n",
        "  ''' Choose one way to set titles'''\n",
        "\n",
        "  '''Option 2:'''\n",
        "  ax.set_title(mixed_classes[targets[idx]])\n",
        "  ax = fig.add_subplot(2, 16/2, idx+1, xticks=[], yticks=[])\n",
        "\n",
        "\n",
        "# For reference\n",
        "# classDict = {'plane': 0, 'car': 1, 'bird': 2, 'cat': 3, 'deer': 4,\n",
        "              #'dog': 5, 'frog': 6, 'horse': 7, 'ship': 8, 'truck': 9}"
      ],
      "metadata": {
        "colab": {
          "base_uri": "https://localhost:8080/",
          "height": 223
        },
        "id": "CJsiJlGMbIpU",
        "outputId": "ed7c5ba4-fcb5-4cac-860c-f4f5c399576e"
      },
      "execution_count": null,
      "outputs": [
        {
          "output_type": "stream",
          "name": "stdout",
          "text": [
            "Len of CIFAR: 10000\n",
            "Len of Entire Dataset 20000\n"
          ]
        },
        {
          "output_type": "stream",
          "name": "stderr",
          "text": [
            "/usr/local/lib/python3.7/dist-packages/ipykernel_launcher.py:81: MatplotlibDeprecationWarning: Adding an axes using the same arguments as a previous axes currently reuses the earlier instance.  In a future version, a new instance will always be created and returned.  Meanwhile, this warning can be suppressed, and the future behavior ensured, by passing a unique label to each axes instance.\n"
          ]
        },
        {
          "output_type": "display_data",
          "data": {
            "text/plain": [
              "<Figure size 1800x288 with 5 Axes>"
            ],
            "image/png": "[encoded data removed]"
          },
          "metadata": {}
        }
      ]
    },
    {
      "cell_type": "code",
      "source": [
        "'''Open Set Recognition Visualization and Loaders Defined'''\n",
        "\n",
        "OSR_newDatasetAndCIFAR = NewDataset_and_CIFAR(testset, torch.from_numpy(svhn_OEtestset.data), torch.from_numpy(svhn_OEtestset.labels), split, test_transform, OpenSetRec = True)\n",
        "OSR_newDatasetAndCIFARLoader = torch.utils.data.DataLoader(OSR_newDatasetAndCIFAR, batch_size = batch_size, shuffle = True)\n",
        "\n",
        "OSR_newDatasetAndCIFARiter = iter(OSR_newDatasetAndCIFARLoader)\n",
        "imgs, targets = next(OSR_newDatasetAndCIFARiter)\n",
        "\n",
        "imgs = imgs.numpy()\n",
        "imgs -= imgs.min() \n",
        "imgs /= imgs.max()\n",
        "\n",
        "fig = plt.figure(figsize=(25, 4))\n",
        "for idx in np.arange(5):\n",
        "  ax = fig.add_subplot(2, 16/2, idx+1, xticks=[], yticks=[])\n",
        "  plt.imshow(np.transpose(imgs[idx], (1, 2, 0)))\n",
        "  ''' Choose one way to set titles'''\n",
        "\n",
        "  '''Option 1:'''\n",
        "  if targets[idx][0] == 0: \n",
        "    ax.set_title(mixed_classes[targets[idx][-1]]) # Unseen\n",
        "  else:\n",
        "    ax.set_title(list(classDict.keys())[targets[idx][-1]])\n",
        "\n",
        "# For reference\n",
        "# classDict = {'plane': 0, 'car': 1, 'bird': 2, 'cat': 3, 'deer': 4,\n",
        "#               'dog': 5, 'frog': 6, 'horse': 7, 'ship': 8, 'truck': 9}"
      ],
      "metadata": {
        "colab": {
          "base_uri": "https://localhost:8080/",
          "height": 185
        },
        "id": "OjuRJUgJdeat",
        "outputId": "1fa75f53-e801-4182-ab91-7dd08d297cd1"
      },
      "execution_count": null,
      "outputs": [
        {
          "output_type": "stream",
          "name": "stdout",
          "text": [
            "Len of CIFAR: 10000\n",
            "Len of Entire Dataset 20000\n"
          ]
        },
        {
          "output_type": "display_data",
          "data": {
            "text/plain": [
              "<Figure size 1800x288 with 5 Axes>"
            ],
            "image/png": "[encoded data removed]"
          },
          "metadata": {}
        }
      ]
    },
    {
      "cell_type": "code",
      "source": [
        "MNISTAndCIFAR = NewDataset_and_CIFAR(testset, mnist_OEtestset.data, mnist_OEtestset.targets, 6, test_transform, MNIST = True)\n",
        "MNISTAndCIFARLoader = torch.utils.data.DataLoader(MNISTAndCIFAR, batch_size = 32, shuffle = True)\n",
        "\n",
        "mixed_classes = [\"unseen\", \"seen\"]\n",
        "MNISTAndCIFARiter = iter(MNISTAndCIFARLoader)\n",
        "imgs, targets = next(MNISTAndCIFARiter)\n",
        "\n",
        "imgs = imgs.numpy()\n",
        "imgs -= imgs.min() \n",
        "imgs /= imgs.max()\n",
        "\n",
        "fig = plt.figure(figsize=(25, 4))\n",
        "for idx in np.arange(5):\n",
        "  ax = fig.add_subplot(2, 16/2, idx+1, xticks=[], yticks=[])\n",
        "  plt.imshow(np.transpose(imgs[idx], (1, 2, 0)))\n",
        "  ''' Choose one way to set titles'''\n",
        "\n",
        "  '''Option 2:'''\n",
        "  ax.set_title(mixed_classes[targets[idx]])\n",
        "  ax = fig.add_subplot(2, 16/2, idx+1, xticks=[], yticks=[])"
      ],
      "metadata": {
        "colab": {
          "base_uri": "https://localhost:8080/",
          "height": 223
        },
        "id": "eBxIgqRcOvLI",
        "outputId": "c1b1ad39-26bf-4da5-ad5e-0a8f1a0bc5e1"
      },
      "execution_count": null,
      "outputs": [
        {
          "output_type": "stream",
          "name": "stdout",
          "text": [
            "Len of CIFAR: 6000\n",
            "Len of Entire Dataset 12000\n"
          ]
        },
        {
          "output_type": "stream",
          "name": "stderr",
          "text": [
            "/usr/local/lib/python3.7/dist-packages/ipykernel_launcher.py:20: MatplotlibDeprecationWarning: Adding an axes using the same arguments as a previous axes currently reuses the earlier instance.  In a future version, a new instance will always be created and returned.  Meanwhile, this warning can be suppressed, and the future behavior ensured, by passing a unique label to each axes instance.\n"
          ]
        },
        {
          "output_type": "display_data",
          "data": {
            "text/plain": [
              "<Figure size 1800x288 with 5 Axes>"
            ],
            "image/png": "[encoded data removed]"
          },
          "metadata": {}
        }
      ]
    },
    {
      "cell_type": "markdown",
      "source": [
        "#  Metrics: F_measure, ROC, PR (ROC and PR only work for binary validation)"
      ],
      "metadata": {
        "id": "cr9nuj_Bz8jn"
      }
    },
    {
      "cell_type": "code",
      "source": [
        "# Metrics: \n",
        "\n",
        "def F_measure(preds, labels, openset=False, theta=None):\n",
        "  if openset:\n",
        "      # f1 score for openset evaluation\n",
        "      true_pos = 0.\n",
        "      false_pos = 0.\n",
        "      false_neg = 0.        \n",
        "      for i in range(len(labels)):\n",
        "          true_pos += 1 if preds[i] == labels[i] and labels[i] != -1 else 0\n",
        "          false_pos += 1 if preds[i] != labels[i] and labels[i] != -1 else 0\n",
        "          false_neg += 1 if preds[i] != labels[i] and labels[i] == -1 else 0\n",
        "\n",
        "      precision = true_pos / (true_pos + false_pos)\n",
        "      recall = true_pos / (true_pos + false_neg)\n",
        "      return 2 * ((precision * recall) / (precision + recall + 1e-12))\n",
        "  else: # Regular f1 score        \n",
        "      return f1_score(labels, preds, average='macro')\n",
        "\n",
        "def roc(scores, labels, **kwargs):\n",
        "    \"\"\"Returns the ROC curve and the area under it. The implementation assumes binary classification\n",
        "\n",
        "    Args:\n",
        "        labels (np.array): denotes label for each data point\n",
        "        scores (np.array): denotes predicted probability of data point being 1\n",
        "    \"\"\"\n",
        "    if 'gt_shift' in kwargs:\n",
        "        labels = labels - kwargs['gt_shift']\n",
        "    fpr, tpr, thresholds = roc_curve(labels, scores)\n",
        "    auc_score = roc_auc_score(labels, scores)\n",
        "    roc_data = {\n",
        "        'tp': list(tpr),\n",
        "        'fp': list(fpr),\n",
        "        'thresh': list(thresholds),\n",
        "        'auc': auc_score,\n",
        "    }\n",
        "    return roc_data\n",
        "\n",
        "\n",
        "def pr(scores, labels, **kwargs):\n",
        "    \"\"\"Returns the PR curve and the area under it. The implementation assumes binary classification\n",
        "\n",
        "    Args:\n",
        "        labels (np.array): denotes label for each data point\n",
        "        scores (np.array): denotes predicted probability of data point being 1\n",
        "    \"\"\"\n",
        "    precision, recall, thresholds = precision_recall_curve(labels, scores)\n",
        "    auc_score = auc(recall, precision)\n",
        "\n",
        "    pr_data = {\n",
        "        'precision': list(precision),\n",
        "        'recall': list(recall),\n",
        "        'thresh': list(thresholds),\n",
        "        'auc': auc_score,\n",
        "    }\n",
        "    return pr_data\n",
        "\n",
        "def ccr(scores, labels, **kwargs):\n",
        "    \"\"\"Returns the CCR VS FPR curve and returns the area under it.\n",
        "\n",
        "    Args:\n",
        "        labels (np.array): denotes label for each data point\n",
        "        scores (np.array): denotes predicted probability of data point being 1\n",
        "    \"\"\"\n",
        "    if 'gt_shift' in kwargs:\n",
        "        labels = labels - kwargs['gt_shift']\n",
        "    max_indices = np.argmax(scores, axis=1) # Nx(K+1)\n",
        "    max_values = np.take_along_axis(scores, max_indices[:, None], axis=1)\n",
        "    data = list(zip([elem[0] for elem in max_values], max_indices, labels))\n",
        "    data.sort(key=lambda x: x[0], reverse=True)\n",
        "    cls_count = len(scores[0])\n",
        "    unknown_count = len(np.where(labels == 0)[0])  # Unknown class is 0\n",
        "    known_count = len(labels) - unknown_count\n",
        "    fp = [0]\n",
        "    tp = [0]\n",
        "    thresholds = list()\n",
        "    n = 0\n",
        "    n_above_unknown = 0\n",
        "    curr_unknown_prob = 1\n",
        "    for score, pred_cls, gt_cls in data:\n",
        "        if gt_cls == 0:\n",
        "            curr_unknown_prob = score\n",
        "            thresholds.append(score)\n",
        "            fp.append(fp[-1] + 1)\n",
        "            tp.append(n)\n",
        "        elif pred_cls == gt_cls:\n",
        "            n_above_unknown += 1\n",
        "            if score < curr_unknown_prob:\n",
        "                n = n_above_unknown\n",
        "    fpr = np.asarray(fp[1:]) / unknown_count\n",
        "    ccr = np.asarray(tp[1:]) / known_count\n",
        "    auc_score = auc(fpr, ccr)\n",
        "    ccr_data = {\n",
        "        'ccr': list(ccr),\n",
        "        'fpr': list(fpr),\n",
        "        'thresh': thresholds,\n",
        "        'auc': auc_score,\n",
        "    }\n",
        "    return ccr_data\n",
        "    "
      ],
      "metadata": {
        "id": "JhACuTU46L4x"
      },
      "execution_count": null,
      "outputs": []
    },
    {
      "cell_type": "markdown",
      "source": [
        "# Build and Train K Way Classification Model "
      ],
      "metadata": {
        "id": "2ySrU7-FYv4g"
      }
    },
    {
      "cell_type": "code",
      "source": [
        "# Define resnet Model\n",
        "resnet50 = torchvision.models.resnet50(pretrained=True)\n",
        "resnet50.fc = nn.Linear(resnet50.fc.in_features, split)"
      ],
      "metadata": {
        "id": "YdccpGJKz77R",
        "colab": {
          "base_uri": "https://localhost:8080/",
          "height": 158,
          "referenced_widgets": [
            "a025d1bb55a9421991424eac1401f1c5",
            "230a0abcc2f6411a93181d6d00814d61",
            "f24339751fd3490a93878f97a9de1cd6",
            "32e7a26ccb704c50b7f7cac327d97ad1",
            "da1e974f3e1442ef823fa17bc972671e",
            "492e3768b59a48c890c0d47a31d3b8da",
            "227fcb0fcc6d4c029b59da67d747ba59",
            "6cbebdc1123645748f967eb7c39cecda",
            "ff60c87d4a8048d894d51a2328a71e70",
            "e53d64a7d2c24cdd92ee87278de37de0",
            "e148075f90cc4c979dff415f7c792146"
          ]
        },
        "outputId": "12a6016c-5e37-4174-b861-f0e5c2a46125"
      },
      "execution_count": null,
      "outputs": [
        {
          "output_type": "stream",
          "name": "stderr",
          "text": [
            "/usr/local/lib/python3.7/dist-packages/torchvision/models/_utils.py:209: UserWarning: The parameter 'pretrained' is deprecated since 0.13 and will be removed in 0.15, please use 'weights' instead.\n",
            "  f\"The parameter '{pretrained_param}' is deprecated since 0.13 and will be removed in 0.15, \"\n",
            "/usr/local/lib/python3.7/dist-packages/torchvision/models/_utils.py:223: UserWarning: Arguments other than a weight enum or `None` for 'weights' are deprecated since 0.13 and will be removed in 0.15. The current behavior is equivalent to passing `weights=ResNet50_Weights.IMAGENET1K_V1`. You can also use `weights=ResNet50_Weights.DEFAULT` to get the most up-to-date weights.\n",
            "  warnings.warn(msg)\n",
            "Downloading: \"https://download.pytorch.org/models/resnet50-0676ba61.pth\" to /root/.cache/torch/hub/checkpoints/resnet50-0676ba61.pth\n"
          ]
        },
        {
          "output_type": "display_data",
          "data": {
            "text/plain": [
              "  0%|          | 0.00/97.8M [00:00<?, ?B/s]"
            ],
            "application/vnd.jupyter.widget-view+json": {
              "version_major": 2,
              "version_minor": 0,
              "model_id": "a025d1bb55a9421991424eac1401f1c5"
            }
          },
          "metadata": {}
        }
      ]
    },
    {
      "cell_type": "code",
      "source": [
        "epochs = 50\n",
        "def cosine_annealing(step, total_steps, lr_max, lr_min):\n",
        "    return lr_min + (lr_max - lr_min) * 0.5 * (\n",
        "            1 + np.cos(step / total_steps * np.pi))\n",
        "    \n",
        "# Add validation on 4 other classes. \n",
        "\n",
        "\n",
        "def train(net, epochs, folder_weights):\n",
        "\n",
        "  if os.path.exists(folder_weights): \n",
        "    raise RuntimeError(\"Folder already exists\")\n",
        "\n",
        "  os.mkdir(folder_weights)\n",
        "\n",
        "  top_paths = dict()\n",
        "\n",
        "  lr = 0.1 # lower learning rate: 0.003\n",
        "  net = net.cuda()\n",
        "  optimizer = torch.optim.SGD(\n",
        "  net.parameters(), lr, momentum=0.9, \n",
        "  weight_decay=0.0005, nesterov=True)\n",
        "\n",
        "  scheduler = torch.optim.lr_scheduler.LambdaLR(\n",
        "    optimizer,\n",
        "    lr_lambda=lambda step: cosine_annealing(\n",
        "        step,\n",
        "        epochs * len(train_closedloader),\n",
        "        1,  # since lr_lambda computes multiplicative factor\n",
        "        1e-6 / lr))\n",
        "  \n",
        "  model_path = \"\"\n",
        "  for e in range(epochs): \n",
        "    correct = 0\n",
        "    num_of_data = 0\n",
        "    total_f_measure = 0\n",
        "    model_path = os.path.join(folder_weights, \"model_epoch{}.pth\".format(e))\n",
        "    net.train()  # enter train mode\n",
        "    loss_avg = 0.0\n",
        "    for data, target in tqdm(train_closedloader):\n",
        "        data, target = data.cuda(), target.cuda()\n",
        "\n",
        "        # forward\n",
        "        x = net(data)\n",
        "\n",
        "        # backward\n",
        "        scheduler.step()\n",
        "        optimizer.zero_grad()\n",
        "        loss = F.cross_entropy(x, target)\n",
        "        loss.backward()\n",
        "        optimizer.step()\n",
        "\n",
        "        # exponential moving average\n",
        "        loss_avg = loss_avg * 0.8 + float(loss) * 0.2\n",
        "\n",
        "    stacked_pred = list()\n",
        "    stacked_target = list()\n",
        "    for data, target in tqdm(test_closedloader): \n",
        "      \n",
        "      net.eval()\n",
        "      num_of_data += data.size(0)\n",
        "      data, target = data.cuda(), target.cuda()\n",
        "\n",
        "      #forward\n",
        "      x = net(data)\n",
        "      prob = F.softmax(x, dim=1)\n",
        "      assert sum(prob[0]).item() > 0.99 and sum(prob[0]).item() < 1.001\n",
        "\n",
        "      pred = torch.argmax(prob, dim = 1)\n",
        "\n",
        "      stacked_pred.extend(pred.tolist())\n",
        "      stacked_target.extend(target.tolist())\n",
        "      correct += torch.sum(pred == target)\n",
        "\n",
        "    f_measure = F_measure(stacked_pred, stacked_target) * 100\n",
        "    accuracy = (correct / num_of_data) * 100\n",
        "\n",
        "    top_paths[model_path] = \"{} f_measure, {} accuracy\".format(f_measure, accuracy)\n",
        "    \n",
        "    print(\"Epoch: {}\".format(e))\n",
        "    print(\"Loss Avg: {}\".format(loss_avg))\n",
        "    print(\"Last Learning Rate: {}\".format(scheduler.get_last_lr()))\n",
        "    print(\"Accuracy: {}%\".format(accuracy))\n",
        "    print(\"F measure: {}%\".format(f_measure))\n",
        "\n",
        "    if (e % 5 == 0) and (e != 0): \n",
        "      torch.save(net.state_dict(), model_path)\n",
        "      print(\"Model saved...\")\n",
        "    \n",
        "  with open(\"model_weightsLOGS.txt\", 'a+') as f:\n",
        "    for k in top_paths.keys():\n",
        "      final_string = '{} : {}'.format(k, top_paths[k]) \n",
        "      print(final_string, file=f)\n",
        "\n",
        "  return net"
      ],
      "metadata": {
        "id": "sXysXqqXU16z"
      },
      "execution_count": null,
      "outputs": []
    },
    {
      "cell_type": "code",
      "source": [
        "final_model = train(resnet50, epochs, \"50th_epoch_train\")"
      ],
      "metadata": {
        "colab": {
          "base_uri": "https://localhost:8080/"
        },
        "id": "UbIXe9ydz9rS",
        "outputId": "60621ec5-606d-45a5-9829-ddea2d6043cf"
      },
      "execution_count": null,
      "outputs": [
        {
          "output_type": "stream",
          "name": "stderr",
          "text": [
            "\r  0%|          | 0/938 [00:00<?, ?it/s]/usr/local/lib/python3.7/dist-packages/torch/optim/lr_scheduler.py:136: UserWarning: Detected call of `lr_scheduler.step()` before `optimizer.step()`. In PyTorch 1.1.0 and later, you should call them in the opposite order: `optimizer.step()` before `lr_scheduler.step()`.  Failure to do this will result in PyTorch skipping the first value of the learning rate schedule. See more details at https://pytorch.org/docs/stable/optim.html#how-to-adjust-learning-rate\n",
            "  \"https://pytorch.org/docs/stable/optim.html#how-to-adjust-learning-rate\", UserWarning)\n",
            "100%|██████████| 938/938 [00:49<00:00, 18.93it/s]\n",
            "100%|██████████| 188/188 [00:03<00:00, 59.47it/s]\n"
          ]
        },
        {
          "output_type": "stream",
          "name": "stdout",
          "text": [
            "Epoch: 0\n",
            "Loss Avg: 1.6545715218566723\n",
            "Last Learning Rate: [0.09990133740804936]\n",
            "Accuracy: 33.79999923706055%\n",
            "F measure: 29.25832004816297%\n"
          ]
        },
        {
          "output_type": "stream",
          "name": "stderr",
          "text": [
            "100%|██████████| 938/938 [00:43<00:00, 21.61it/s]\n",
            "100%|██████████| 188/188 [00:03<00:00, 60.51it/s]\n"
          ]
        },
        {
          "output_type": "stream",
          "name": "stdout",
          "text": [
            "Epoch: 1\n",
            "Loss Avg: 1.4027557529403878\n",
            "Last Learning Rate: [0.09960573900837325]\n",
            "Accuracy: 42.03333282470703%\n",
            "F measure: 34.03186869543354%\n"
          ]
        },
        {
          "output_type": "stream",
          "name": "stderr",
          "text": [
            "100%|██████████| 938/938 [00:41<00:00, 22.46it/s]\n",
            "100%|██████████| 188/188 [00:03<00:00, 60.59it/s]\n"
          ]
        },
        {
          "output_type": "stream",
          "name": "stdout",
          "text": [
            "Epoch: 2\n",
            "Loss Avg: 1.3214758172721568\n",
            "Last Learning Rate: [0.09911437139280908]\n",
            "Accuracy: 48.36666488647461%\n",
            "F measure: 46.95301026782534%\n"
          ]
        },
        {
          "output_type": "stream",
          "name": "stderr",
          "text": [
            "100%|██████████| 938/938 [00:41<00:00, 22.41it/s]\n",
            "100%|██████████| 188/188 [00:03<00:00, 59.94it/s]\n"
          ]
        },
        {
          "output_type": "stream",
          "name": "stdout",
          "text": [
            "Epoch: 3\n",
            "Loss Avg: 1.2883121432184166\n",
            "Last Learning Rate: [0.098429173764851]\n",
            "Accuracy: 52.64999771118164%\n",
            "F measure: 52.343113106105186%\n"
          ]
        },
        {
          "output_type": "stream",
          "name": "stderr",
          "text": [
            "100%|██████████| 938/938 [00:41<00:00, 22.49it/s]\n",
            "100%|██████████| 188/188 [00:03<00:00, 61.15it/s]\n"
          ]
        },
        {
          "output_type": "stream",
          "name": "stdout",
          "text": [
            "Epoch: 4\n",
            "Loss Avg: 1.3650398539724429\n",
            "Last Learning Rate: [0.09755285028649954]\n",
            "Accuracy: 52.499996185302734%\n",
            "F measure: 52.208675484507395%\n"
          ]
        },
        {
          "output_type": "stream",
          "name": "stderr",
          "text": [
            "100%|██████████| 938/938 [00:41<00:00, 22.77it/s]\n",
            "100%|██████████| 188/188 [00:03<00:00, 61.96it/s]\n"
          ]
        },
        {
          "output_type": "stream",
          "name": "stdout",
          "text": [
            "Epoch: 5\n",
            "Loss Avg: 1.1219489584880882\n",
            "Last Learning Rate: [0.09648885940616964]\n",
            "Accuracy: 54.39999771118164%\n",
            "F measure: 53.13614214537695%\n",
            "Model saved...\n"
          ]
        },
        {
          "output_type": "stream",
          "name": "stderr",
          "text": [
            "100%|██████████| 938/938 [00:41<00:00, 22.71it/s]\n",
            "100%|██████████| 188/188 [00:03<00:00, 60.52it/s]\n"
          ]
        },
        {
          "output_type": "stream",
          "name": "stdout",
          "text": [
            "Epoch: 6\n",
            "Loss Avg: 1.0711876074338587\n",
            "Last Learning Rate: [0.09524140020977474]\n",
            "Accuracy: 53.48332977294922%\n",
            "F measure: 48.45493431597376%\n"
          ]
        },
        {
          "output_type": "stream",
          "name": "stderr",
          "text": [
            "100%|██████████| 938/938 [00:41<00:00, 22.50it/s]\n",
            "100%|██████████| 188/188 [00:03<00:00, 60.79it/s]\n"
          ]
        },
        {
          "output_type": "stream",
          "name": "stdout",
          "text": [
            "Epoch: 7\n",
            "Loss Avg: 1.1857342469519332\n",
            "Last Learning Rate: [0.09381539584885316]\n",
            "Accuracy: 48.916664123535156%\n",
            "F measure: 48.68494910790464%\n"
          ]
        },
        {
          "output_type": "stream",
          "name": "stderr",
          "text": [
            "100%|██████████| 938/938 [00:41<00:00, 22.39it/s]\n",
            "100%|██████████| 188/188 [00:03<00:00, 61.19it/s]\n"
          ]
        },
        {
          "output_type": "stream",
          "name": "stdout",
          "text": [
            "Epoch: 8\n",
            "Loss Avg: 1.1526642974923698\n",
            "Last Learning Rate: [0.09221647411113801]\n",
            "Accuracy: 56.75%\n",
            "F measure: 56.06953226017916%\n"
          ]
        },
        {
          "output_type": "stream",
          "name": "stderr",
          "text": [
            "100%|██████████| 938/938 [00:41<00:00, 22.55it/s]\n",
            "100%|██████████| 188/188 [00:03<00:00, 60.39it/s]\n"
          ]
        },
        {
          "output_type": "stream",
          "name": "stdout",
          "text": [
            "Epoch: 9\n",
            "Loss Avg: 1.0571161777325002\n",
            "Last Learning Rate: [0.0904509452102502]\n",
            "Accuracy: 62.900001525878906%\n",
            "F measure: 62.703949205837404%\n"
          ]
        },
        {
          "output_type": "stream",
          "name": "stderr",
          "text": [
            "100%|██████████| 938/938 [00:41<00:00, 22.52it/s]\n",
            "100%|██████████| 188/188 [00:03<00:00, 61.17it/s]\n"
          ]
        },
        {
          "output_type": "stream",
          "name": "stdout",
          "text": [
            "Epoch: 10\n",
            "Loss Avg: 1.0039649113821232\n",
            "Last Learning Rate: [0.08852577688216808]\n",
            "Accuracy: 60.04999923706055%\n",
            "F measure: 60.80037787352438%\n",
            "Model saved...\n"
          ]
        },
        {
          "output_type": "stream",
          "name": "stderr",
          "text": [
            "100%|██████████| 938/938 [00:41<00:00, 22.56it/s]\n",
            "100%|██████████| 188/188 [00:03<00:00, 60.87it/s]\n"
          ]
        },
        {
          "output_type": "stream",
          "name": "stdout",
          "text": [
            "Epoch: 11\n",
            "Loss Avg: 1.0529138934224473\n",
            "Last Learning Rate: [0.08644856688675687]\n",
            "Accuracy: 61.099998474121094%\n",
            "F measure: 61.231627671310854%\n"
          ]
        },
        {
          "output_type": "stream",
          "name": "stderr",
          "text": [
            "100%|██████████| 938/938 [00:41<00:00, 22.47it/s]\n",
            "100%|██████████| 188/188 [00:03<00:00, 61.03it/s]\n"
          ]
        },
        {
          "output_type": "stream",
          "name": "stdout",
          "text": [
            "Epoch: 12\n",
            "Loss Avg: 1.1047535348471462\n",
            "Last Learning Rate: [0.08422751302288148]\n",
            "Accuracy: 65.93333435058594%\n",
            "F measure: 64.44536108055608%\n"
          ]
        },
        {
          "output_type": "stream",
          "name": "stderr",
          "text": [
            "100%|██████████| 938/938 [00:41<00:00, 22.60it/s]\n",
            "100%|██████████| 188/188 [00:03<00:00, 60.69it/s]\n"
          ]
        },
        {
          "output_type": "stream",
          "name": "stdout",
          "text": [
            "Epoch: 13\n",
            "Loss Avg: 0.9723956674678765\n",
            "Last Learning Rate: [0.08187138077543962]\n",
            "Accuracy: 61.983333587646484%\n",
            "F measure: 61.60168960511806%\n"
          ]
        },
        {
          "output_type": "stream",
          "name": "stderr",
          "text": [
            "100%|██████████| 938/938 [00:41<00:00, 22.43it/s]\n",
            "100%|██████████| 188/188 [00:03<00:00, 60.85it/s]\n"
          ]
        },
        {
          "output_type": "stream",
          "name": "stdout",
          "text": [
            "Epoch: 14\n",
            "Loss Avg: 1.0204833063893637\n",
            "Last Learning Rate: [0.07938946872199752]\n",
            "Accuracy: 61.14999771118164%\n",
            "F measure: 59.74548069166005%\n"
          ]
        },
        {
          "output_type": "stream",
          "name": "stderr",
          "text": [
            "100%|██████████| 938/938 [00:41<00:00, 22.49it/s]\n",
            "100%|██████████| 188/188 [00:03<00:00, 60.71it/s]\n"
          ]
        },
        {
          "output_type": "stream",
          "name": "stdout",
          "text": [
            "Epoch: 15\n",
            "Loss Avg: 0.9515330707066165\n",
            "Last Learning Rate: [0.07679157183555235]\n",
            "Accuracy: 62.133331298828125%\n",
            "F measure: 60.90696905274656%\n",
            "Model saved...\n"
          ]
        },
        {
          "output_type": "stream",
          "name": "stderr",
          "text": [
            "100%|██████████| 938/938 [00:41<00:00, 22.45it/s]\n",
            "100%|██████████| 188/188 [00:03<00:00, 60.56it/s]\n"
          ]
        },
        {
          "output_type": "stream",
          "name": "stdout",
          "text": [
            "Epoch: 16\n",
            "Loss Avg: 1.0611327181359336\n",
            "Last Learning Rate: [0.07408794282824871]\n",
            "Accuracy: 61.599998474121094%\n",
            "F measure: 61.49288828879009%\n"
          ]
        },
        {
          "output_type": "stream",
          "name": "stderr",
          "text": [
            "100%|██████████| 938/938 [00:41<00:00, 22.44it/s]\n",
            "100%|██████████| 188/188 [00:03<00:00, 60.95it/s]\n"
          ]
        },
        {
          "output_type": "stream",
          "name": "stdout",
          "text": [
            "Epoch: 17\n",
            "Loss Avg: 0.957608411677541\n",
            "Last Learning Rate: [0.07128925168860785]\n",
            "Accuracy: 65.36666870117188%\n",
            "F measure: 65.34938565359444%\n"
          ]
        },
        {
          "output_type": "stream",
          "name": "stderr",
          "text": [
            "100%|██████████| 938/938 [00:41<00:00, 22.50it/s]\n",
            "100%|██████████| 188/188 [00:03<00:00, 60.76it/s]\n"
          ]
        },
        {
          "output_type": "stream",
          "name": "stdout",
          "text": [
            "Epoch: 18\n",
            "Loss Avg: 0.8586375921837439\n",
            "Last Learning Rate: [0.06840654357195756]\n",
            "Accuracy: 67.88333129882812%\n",
            "F measure: 68.01075028619734%\n"
          ]
        },
        {
          "output_type": "stream",
          "name": "stderr",
          "text": [
            "100%|██████████| 938/938 [00:41<00:00, 22.51it/s]\n",
            "100%|██████████| 188/188 [00:03<00:00, 60.59it/s]\n"
          ]
        },
        {
          "output_type": "stream",
          "name": "stdout",
          "text": [
            "Epoch: 19\n",
            "Loss Avg: 1.0595744858817429\n",
            "Last Learning Rate: [0.06545119521025018]\n",
            "Accuracy: 63.55000305175781%\n",
            "F measure: 63.905892409153964%\n"
          ]
        },
        {
          "output_type": "stream",
          "name": "stderr",
          "text": [
            "100%|██████████| 938/938 [00:42<00:00, 22.17it/s]\n",
            "100%|██████████| 188/188 [00:03<00:00, 58.92it/s]\n"
          ]
        },
        {
          "output_type": "stream",
          "name": "stdout",
          "text": [
            "Epoch: 20\n",
            "Loss Avg: 0.8340292379048921\n",
            "Last Learning Rate: [0.06243487001329917]\n",
            "Accuracy: 62.4666633605957%\n",
            "F measure: 61.605178191889905%\n",
            "Model saved...\n"
          ]
        },
        {
          "output_type": "stream",
          "name": "stderr",
          "text": [
            "100%|██████████| 938/938 [00:42<00:00, 22.11it/s]\n",
            "100%|██████████| 188/188 [00:03<00:00, 59.65it/s]\n"
          ]
        },
        {
          "output_type": "stream",
          "name": "stdout",
          "text": [
            "Epoch: 21\n",
            "Loss Avg: 0.8573392399871769\n",
            "Last Learning Rate: [0.05936947203862895]\n",
            "Accuracy: 67.03333282470703%\n",
            "F measure: 66.38167616335359%\n"
          ]
        },
        {
          "output_type": "stream",
          "name": "stderr",
          "text": [
            "100%|██████████| 938/938 [00:42<00:00, 21.97it/s]\n",
            "100%|██████████| 188/188 [00:03<00:00, 56.99it/s]\n"
          ]
        },
        {
          "output_type": "stream",
          "name": "stdout",
          "text": [
            "Epoch: 22\n",
            "Loss Avg: 0.8088726527691411\n",
            "Last Learning Rate: [0.05626709901159843]\n",
            "Accuracy: 68.81666564941406%\n",
            "F measure: 67.97017212633462%\n"
          ]
        },
        {
          "output_type": "stream",
          "name": "stderr",
          "text": [
            "100%|██████████| 938/938 [00:42<00:00, 22.02it/s]\n",
            "100%|██████████| 188/188 [00:03<00:00, 57.77it/s]\n"
          ]
        },
        {
          "output_type": "stream",
          "name": "stdout",
          "text": [
            "Epoch: 23\n",
            "Loss Avg: 0.9927590104591582\n",
            "Last Learning Rate: [0.05313999458120591]\n",
            "Accuracy: 67.79999542236328%\n",
            "F measure: 67.59688117894936%\n"
          ]
        },
        {
          "output_type": "stream",
          "name": "stderr",
          "text": [
            "100%|██████████| 938/938 [00:43<00:00, 21.76it/s]\n",
            "100%|██████████| 188/188 [00:03<00:00, 57.04it/s]\n"
          ]
        },
        {
          "output_type": "stream",
          "name": "stdout",
          "text": [
            "Epoch: 24\n",
            "Loss Avg: 0.915356166459883\n",
            "Last Learning Rate: [0.0500005]\n",
            "Accuracy: 71.13333129882812%\n",
            "F measure: 70.92668374296044%\n"
          ]
        },
        {
          "output_type": "stream",
          "name": "stderr",
          "text": [
            "100%|██████████| 938/938 [00:42<00:00, 21.99it/s]\n",
            "100%|██████████| 188/188 [00:03<00:00, 60.39it/s]\n"
          ]
        },
        {
          "output_type": "stream",
          "name": "stdout",
          "text": [
            "Epoch: 25\n",
            "Loss Avg: 0.8595999900706733\n",
            "Last Learning Rate: [0.0468610054187941]\n",
            "Accuracy: 72.21666717529297%\n",
            "F measure: 71.54248318189683%\n",
            "Model saved...\n"
          ]
        },
        {
          "output_type": "stream",
          "name": "stderr",
          "text": [
            "100%|██████████| 938/938 [00:42<00:00, 22.22it/s]\n",
            "100%|██████████| 188/188 [00:03<00:00, 60.17it/s]\n"
          ]
        },
        {
          "output_type": "stream",
          "name": "stdout",
          "text": [
            "Epoch: 26\n",
            "Loss Avg: 0.7753382834508362\n",
            "Last Learning Rate: [0.04373390098840157]\n",
            "Accuracy: 70.20000457763672%\n",
            "F measure: 70.6425371397268%\n"
          ]
        },
        {
          "output_type": "stream",
          "name": "stderr",
          "text": [
            "100%|██████████| 938/938 [00:41<00:00, 22.47it/s]\n",
            "100%|██████████| 188/188 [00:03<00:00, 58.00it/s]\n"
          ]
        },
        {
          "output_type": "stream",
          "name": "stdout",
          "text": [
            "Epoch: 27\n",
            "Loss Avg: 0.7007415618760459\n",
            "Last Learning Rate: [0.04063152796137106]\n",
            "Accuracy: 72.75%\n",
            "F measure: 72.05590601908192%\n"
          ]
        },
        {
          "output_type": "stream",
          "name": "stderr",
          "text": [
            "100%|██████████| 938/938 [00:42<00:00, 22.26it/s]\n",
            "100%|██████████| 188/188 [00:03<00:00, 58.20it/s]\n"
          ]
        },
        {
          "output_type": "stream",
          "name": "stdout",
          "text": [
            "Epoch: 28\n",
            "Loss Avg: 0.7188449410159475\n",
            "Last Learning Rate: [0.03756612998670086]\n",
            "Accuracy: 72.18333435058594%\n",
            "F measure: 71.83237870429116%\n"
          ]
        },
        {
          "output_type": "stream",
          "name": "stderr",
          "text": [
            "100%|██████████| 938/938 [00:42<00:00, 22.29it/s]\n",
            "100%|██████████| 188/188 [00:03<00:00, 60.89it/s]\n"
          ]
        },
        {
          "output_type": "stream",
          "name": "stdout",
          "text": [
            "Epoch: 29\n",
            "Loss Avg: 0.715145220427644\n",
            "Last Learning Rate: [0.034549804789749824]\n",
            "Accuracy: 72.98332977294922%\n",
            "F measure: 72.90791885016908%\n"
          ]
        },
        {
          "output_type": "stream",
          "name": "stderr",
          "text": [
            "100%|██████████| 938/938 [00:42<00:00, 22.24it/s]\n",
            "100%|██████████| 188/188 [00:03<00:00, 58.74it/s]\n"
          ]
        },
        {
          "output_type": "stream",
          "name": "stdout",
          "text": [
            "Epoch: 30\n",
            "Loss Avg: 0.6973931300378655\n",
            "Last Learning Rate: [0.03159445642804245]\n",
            "Accuracy: 72.98332977294922%\n",
            "F measure: 72.60587222145448%\n",
            "Model saved...\n"
          ]
        },
        {
          "output_type": "stream",
          "name": "stderr",
          "text": [
            "100%|██████████| 938/938 [00:42<00:00, 22.16it/s]\n",
            "100%|██████████| 188/188 [00:03<00:00, 58.38it/s]\n"
          ]
        },
        {
          "output_type": "stream",
          "name": "stdout",
          "text": [
            "Epoch: 31\n",
            "Loss Avg: 0.6607591873549912\n",
            "Last Learning Rate: [0.028711748311392157]\n",
            "Accuracy: 74.5999984741211%\n",
            "F measure: 74.14417744821505%\n"
          ]
        },
        {
          "output_type": "stream",
          "name": "stderr",
          "text": [
            "100%|██████████| 938/938 [00:41<00:00, 22.52it/s]\n",
            "100%|██████████| 188/188 [00:03<00:00, 58.38it/s]\n"
          ]
        },
        {
          "output_type": "stream",
          "name": "stdout",
          "text": [
            "Epoch: 32\n",
            "Loss Avg: 0.6686497710754128\n",
            "Last Learning Rate: [0.025913057171751283]\n",
            "Accuracy: 73.81666564941406%\n",
            "F measure: 73.21869827082597%\n"
          ]
        },
        {
          "output_type": "stream",
          "name": "stderr",
          "text": [
            "100%|██████████| 938/938 [00:41<00:00, 22.35it/s]\n",
            "100%|██████████| 188/188 [00:03<00:00, 59.85it/s]\n"
          ]
        },
        {
          "output_type": "stream",
          "name": "stdout",
          "text": [
            "Epoch: 33\n",
            "Loss Avg: 0.7239760575842764\n",
            "Last Learning Rate: [0.02320942816444765]\n",
            "Accuracy: 73.94999694824219%\n",
            "F measure: 73.82975067363734%\n"
          ]
        },
        {
          "output_type": "stream",
          "name": "stderr",
          "text": [
            "100%|██████████| 938/938 [00:42<00:00, 22.27it/s]\n",
            "100%|██████████| 188/188 [00:03<00:00, 60.12it/s]\n"
          ]
        },
        {
          "output_type": "stream",
          "name": "stdout",
          "text": [
            "Epoch: 34\n",
            "Loss Avg: 0.53172804146747\n",
            "Last Learning Rate: [0.0206115312780025]\n",
            "Accuracy: 78.0999984741211%\n",
            "F measure: 78.12049610020068%\n"
          ]
        },
        {
          "output_type": "stream",
          "name": "stderr",
          "text": [
            "100%|██████████| 938/938 [00:41<00:00, 22.37it/s]\n",
            "100%|██████████| 188/188 [00:03<00:00, 57.97it/s]\n"
          ]
        },
        {
          "output_type": "stream",
          "name": "stdout",
          "text": [
            "Epoch: 35\n",
            "Loss Avg: 0.624300035876924\n",
            "Last Learning Rate: [0.01812961922456039]\n",
            "Accuracy: 79.39999389648438%\n",
            "F measure: 79.33709401739118%\n",
            "Model saved...\n"
          ]
        },
        {
          "output_type": "stream",
          "name": "stderr",
          "text": [
            "100%|██████████| 938/938 [00:41<00:00, 22.49it/s]\n",
            "100%|██████████| 188/188 [00:03<00:00, 59.65it/s]\n"
          ]
        },
        {
          "output_type": "stream",
          "name": "stdout",
          "text": [
            "Epoch: 36\n",
            "Loss Avg: 0.5514120456818544\n",
            "Last Learning Rate: [0.01577348697711853]\n",
            "Accuracy: 77.9000015258789%\n",
            "F measure: 77.91125069506495%\n"
          ]
        },
        {
          "output_type": "stream",
          "name": "stderr",
          "text": [
            "100%|██████████| 938/938 [00:41<00:00, 22.49it/s]\n",
            "100%|██████████| 188/188 [00:03<00:00, 59.80it/s]\n"
          ]
        },
        {
          "output_type": "stream",
          "name": "stdout",
          "text": [
            "Epoch: 37\n",
            "Loss Avg: 0.5708361479144489\n",
            "Last Learning Rate: [0.013552433113243147]\n",
            "Accuracy: 78.91666412353516%\n",
            "F measure: 78.5004853691148%\n"
          ]
        },
        {
          "output_type": "stream",
          "name": "stderr",
          "text": [
            "100%|██████████| 938/938 [00:41<00:00, 22.42it/s]\n",
            "100%|██████████| 188/188 [00:03<00:00, 59.49it/s]\n"
          ]
        },
        {
          "output_type": "stream",
          "name": "stdout",
          "text": [
            "Epoch: 38\n",
            "Loss Avg: 0.6363781904360476\n",
            "Last Learning Rate: [0.011475223117831931]\n",
            "Accuracy: 79.8499984741211%\n",
            "F measure: 79.63773262463144%\n"
          ]
        },
        {
          "output_type": "stream",
          "name": "stderr",
          "text": [
            "100%|██████████| 938/938 [00:41<00:00, 22.48it/s]\n",
            "100%|██████████| 188/188 [00:03<00:00, 60.89it/s]\n"
          ]
        },
        {
          "output_type": "stream",
          "name": "stdout",
          "text": [
            "Epoch: 39\n",
            "Loss Avg: 0.47760797137781164\n",
            "Last Learning Rate: [0.009550054789749822]\n",
            "Accuracy: 80.51666259765625%\n",
            "F measure: 80.55962377263991%\n"
          ]
        },
        {
          "output_type": "stream",
          "name": "stderr",
          "text": [
            "100%|██████████| 938/938 [00:41<00:00, 22.58it/s]\n",
            "100%|██████████| 188/188 [00:03<00:00, 59.71it/s]\n"
          ]
        },
        {
          "output_type": "stream",
          "name": "stdout",
          "text": [
            "Epoch: 40\n",
            "Loss Avg: 0.46092768689168373\n",
            "Last Learning Rate: [0.007784525888862009]\n",
            "Accuracy: 82.13333129882812%\n",
            "F measure: 82.14114181716991%\n",
            "Model saved...\n"
          ]
        },
        {
          "output_type": "stream",
          "name": "stderr",
          "text": [
            "100%|██████████| 938/938 [00:41<00:00, 22.47it/s]\n",
            "100%|██████████| 188/188 [00:03<00:00, 60.44it/s]\n"
          ]
        },
        {
          "output_type": "stream",
          "name": "stdout",
          "text": [
            "Epoch: 41\n",
            "Loss Avg: 0.4951119767230955\n",
            "Last Learning Rate: [0.0061856041511468545]\n",
            "Accuracy: 82.25%\n",
            "F measure: 82.07263634996524%\n"
          ]
        },
        {
          "output_type": "stream",
          "name": "stderr",
          "text": [
            "100%|██████████| 938/938 [00:41<00:00, 22.37it/s]\n",
            "100%|██████████| 188/188 [00:03<00:00, 60.32it/s]\n"
          ]
        },
        {
          "output_type": "stream",
          "name": "stdout",
          "text": [
            "Epoch: 42\n",
            "Loss Avg: 0.30824971354067854\n",
            "Last Learning Rate: [0.004759599790225266]\n",
            "Accuracy: 82.51666259765625%\n",
            "F measure: 82.52474548858405%\n"
          ]
        },
        {
          "output_type": "stream",
          "name": "stderr",
          "text": [
            "100%|██████████| 938/938 [00:41<00:00, 22.51it/s]\n",
            "100%|██████████| 188/188 [00:03<00:00, 59.66it/s]\n"
          ]
        },
        {
          "output_type": "stream",
          "name": "stdout",
          "text": [
            "Epoch: 43\n",
            "Loss Avg: 0.39171502408251063\n",
            "Last Learning Rate: [0.003512140593830377]\n",
            "Accuracy: 83.5%\n",
            "F measure: 83.30761788475904%\n"
          ]
        },
        {
          "output_type": "stream",
          "name": "stderr",
          "text": [
            "100%|██████████| 938/938 [00:41<00:00, 22.57it/s]\n",
            "100%|██████████| 188/188 [00:03<00:00, 60.75it/s]\n"
          ]
        },
        {
          "output_type": "stream",
          "name": "stdout",
          "text": [
            "Epoch: 44\n",
            "Loss Avg: 0.415290198610064\n",
            "Last Learning Rate: [0.002448149713500471]\n",
            "Accuracy: 84.36666870117188%\n",
            "F measure: 84.30824966950556%\n"
          ]
        },
        {
          "output_type": "stream",
          "name": "stderr",
          "text": [
            "100%|██████████| 938/938 [00:41<00:00, 22.67it/s]\n",
            "100%|██████████| 188/188 [00:03<00:00, 59.90it/s]\n"
          ]
        },
        {
          "output_type": "stream",
          "name": "stdout",
          "text": [
            "Epoch: 45\n",
            "Loss Avg: 0.4119389411087145\n",
            "Last Learning Rate: [0.0015718262351490106]\n",
            "Accuracy: 84.6500015258789%\n",
            "F measure: 84.55077080337247%\n",
            "Model saved...\n"
          ]
        },
        {
          "output_type": "stream",
          "name": "stderr",
          "text": [
            "100%|██████████| 938/938 [00:41<00:00, 22.61it/s]\n",
            "100%|██████████| 188/188 [00:03<00:00, 60.99it/s]\n"
          ]
        },
        {
          "output_type": "stream",
          "name": "stdout",
          "text": [
            "Epoch: 46\n",
            "Loss Avg: 0.41248247523130455\n",
            "Last Learning Rate: [0.0008866286071909339]\n",
            "Accuracy: 84.79999542236328%\n",
            "F measure: 84.7487031638724%\n"
          ]
        },
        {
          "output_type": "stream",
          "name": "stderr",
          "text": [
            "100%|██████████| 938/938 [00:41<00:00, 22.75it/s]\n",
            "100%|██████████| 188/188 [00:03<00:00, 59.91it/s]\n"
          ]
        },
        {
          "output_type": "stream",
          "name": "stdout",
          "text": [
            "Epoch: 47\n",
            "Loss Avg: 0.3878476934874642\n",
            "Last Learning Rate: [0.00039526099162676896]\n",
            "Accuracy: 85.31666564941406%\n",
            "F measure: 85.20422266354709%\n"
          ]
        },
        {
          "output_type": "stream",
          "name": "stderr",
          "text": [
            "100%|██████████| 938/938 [00:41<00:00, 22.69it/s]\n",
            "100%|██████████| 188/188 [00:03<00:00, 60.51it/s]\n"
          ]
        },
        {
          "output_type": "stream",
          "name": "stdout",
          "text": [
            "Epoch: 48\n",
            "Loss Avg: 0.2975351841436925\n",
            "Last Learning Rate: [9.966259195063621e-05]\n",
            "Accuracy: 85.36666870117188%\n",
            "F measure: 85.28828738047851%\n"
          ]
        },
        {
          "output_type": "stream",
          "name": "stderr",
          "text": [
            "100%|██████████| 938/938 [00:41<00:00, 22.58it/s]\n",
            "100%|██████████| 188/188 [00:03<00:00, 59.01it/s]"
          ]
        },
        {
          "output_type": "stream",
          "name": "stdout",
          "text": [
            "Epoch: 49\n",
            "Loss Avg: 0.32777545037390915\n",
            "Last Learning Rate: [1e-06]\n",
            "Accuracy: 85.23332977294922%\n",
            "F measure: 85.17276141659548%\n"
          ]
        },
        {
          "output_type": "stream",
          "name": "stderr",
          "text": [
            "\n"
          ]
        }
      ]
    },
    {
      "cell_type": "code",
      "source": [
        "final_model = train(resnet50, epochs, \"30th_epoch_train\")"
      ],
      "metadata": {
        "id": "nSw--5kuZQ9Y",
        "colab": {
          "base_uri": "https://localhost:8080/"
        },
        "outputId": "fed092c3-4a6d-4bca-90f6-fef657763ca5"
      },
      "execution_count": null,
      "outputs": [
        {
          "output_type": "stream",
          "name": "stderr",
          "text": [
            "  0%|          | 0/938 [00:00<?, ?it/s]/usr/local/lib/python3.7/dist-packages/torch/optim/lr_scheduler.py:136: UserWarning: Detected call of `lr_scheduler.step()` before `optimizer.step()`. In PyTorch 1.1.0 and later, you should call them in the opposite order: `optimizer.step()` before `lr_scheduler.step()`.  Failure to do this will result in PyTorch skipping the first value of the learning rate schedule. See more details at https://pytorch.org/docs/stable/optim.html#how-to-adjust-learning-rate\n",
            "  \"https://pytorch.org/docs/stable/optim.html#how-to-adjust-learning-rate\", UserWarning)\n",
            "100%|██████████| 938/938 [00:45<00:00, 20.68it/s]\n",
            "100%|██████████| 188/188 [00:03<00:00, 55.86it/s]\n"
          ]
        },
        {
          "output_type": "stream",
          "name": "stdout",
          "text": [
            "Epoch: 0\n",
            "Loss Avg: 1.787086377991531\n",
            "Last Learning Rate: [0.09972609750746599]\n",
            "Accuracy: 20.850000381469727%\n",
            "F measure: 11.73445782798959%\n"
          ]
        },
        {
          "output_type": "stream",
          "name": "stderr",
          "text": [
            "100%|██████████| 938/938 [00:44<00:00, 20.98it/s]\n",
            "100%|██████████| 188/188 [00:03<00:00, 56.14it/s]\n"
          ]
        },
        {
          "output_type": "stream",
          "name": "stdout",
          "text": [
            "Epoch: 1\n",
            "Loss Avg: 1.637167743368493\n",
            "Last Learning Rate: [0.09890739096288992]\n",
            "Accuracy: 27.46666717529297%\n",
            "F measure: 19.248286386632962%\n"
          ]
        },
        {
          "output_type": "stream",
          "name": "stderr",
          "text": [
            "100%|██████████| 938/938 [00:44<00:00, 20.93it/s]\n",
            "100%|██████████| 188/188 [00:03<00:00, 55.21it/s]\n"
          ]
        },
        {
          "output_type": "stream",
          "name": "stdout",
          "text": [
            "Epoch: 2\n",
            "Loss Avg: 1.460073635287952\n",
            "Last Learning Rate: [0.09755285028649954]\n",
            "Accuracy: 40.06666564941406%\n",
            "F measure: 33.75485285074085%\n"
          ]
        },
        {
          "output_type": "stream",
          "name": "stderr",
          "text": [
            "100%|██████████| 938/938 [00:43<00:00, 21.32it/s]\n",
            "100%|██████████| 188/188 [00:03<00:00, 56.01it/s]\n"
          ]
        },
        {
          "output_type": "stream",
          "name": "stdout",
          "text": [
            "Epoch: 3\n",
            "Loss Avg: 1.4829671603160237\n",
            "Last Learning Rate: [0.09567731610940122]\n",
            "Accuracy: 45.5%\n",
            "F measure: 40.00065402679602%\n"
          ]
        },
        {
          "output_type": "stream",
          "name": "stderr",
          "text": [
            "100%|██████████| 938/938 [00:44<00:00, 20.89it/s]\n",
            "100%|██████████| 188/188 [00:03<00:00, 55.35it/s]\n"
          ]
        },
        {
          "output_type": "stream",
          "name": "stdout",
          "text": [
            "Epoch: 4\n",
            "Loss Avg: 1.2634127166661315\n",
            "Last Learning Rate: [0.09330133717652006]\n",
            "Accuracy: 47.599998474121094%\n",
            "F measure: 45.59182589210259%\n"
          ]
        },
        {
          "output_type": "stream",
          "name": "stderr",
          "text": [
            "100%|██████████| 938/938 [00:44<00:00, 21.26it/s]\n",
            "100%|██████████| 188/188 [00:03<00:00, 56.43it/s]\n"
          ]
        },
        {
          "output_type": "stream",
          "name": "stdout",
          "text": [
            "Epoch: 5\n",
            "Loss Avg: 1.305152191111484\n",
            "Last Learning Rate: [0.0904509452102502]\n",
            "Accuracy: 48.016666412353516%\n",
            "F measure: 46.04343519750323%\n",
            "Model saved...\n"
          ]
        },
        {
          "output_type": "stream",
          "name": "stderr",
          "text": [
            "100%|██████████| 938/938 [00:44<00:00, 21.00it/s]\n",
            "100%|██████████| 188/188 [00:03<00:00, 55.85it/s]\n"
          ]
        },
        {
          "output_type": "stream",
          "name": "stdout",
          "text": [
            "Epoch: 6\n",
            "Loss Avg: 1.2175306124877663\n",
            "Last Learning Rate: [0.08715736970145699]\n",
            "Accuracy: 51.666664123535156%\n",
            "F measure: 48.808158215892654%\n"
          ]
        },
        {
          "output_type": "stream",
          "name": "stderr",
          "text": [
            "100%|██████████| 938/938 [00:43<00:00, 21.48it/s]\n",
            "100%|██████████| 188/188 [00:03<00:00, 57.25it/s]\n"
          ]
        },
        {
          "output_type": "stream",
          "name": "stdout",
          "text": [
            "Epoch: 7\n",
            "Loss Avg: 1.1820861296980143\n",
            "Last Learning Rate: [0.08345669575263974]\n",
            "Accuracy: 48.71666717529297%\n",
            "F measure: 46.83098114311996%\n"
          ]
        },
        {
          "output_type": "stream",
          "name": "stderr",
          "text": [
            "100%|██████████| 938/938 [00:44<00:00, 21.01it/s]\n",
            "100%|██████████| 188/188 [00:03<00:00, 55.85it/s]\n"
          ]
        },
        {
          "output_type": "stream",
          "name": "stdout",
          "text": [
            "Epoch: 8\n",
            "Loss Avg: 1.1480413525114206\n",
            "Last Learning Rate: [0.07938946872199752]\n",
            "Accuracy: 58.04999923706055%\n",
            "F measure: 56.110626076030435%\n"
          ]
        },
        {
          "output_type": "stream",
          "name": "stderr",
          "text": [
            "100%|██████████| 938/938 [00:43<00:00, 21.62it/s]\n",
            "100%|██████████| 188/188 [00:04<00:00, 43.72it/s]\n"
          ]
        },
        {
          "output_type": "stream",
          "name": "stdout",
          "text": [
            "Epoch: 9\n",
            "Loss Avg: 1.1903286044652412\n",
            "Last Learning Rate: [0.07500025]\n",
            "Accuracy: 60.9666633605957%\n",
            "F measure: 58.61337250385647%\n"
          ]
        },
        {
          "output_type": "stream",
          "name": "stderr",
          "text": [
            "100%|██████████| 938/938 [00:43<00:00, 21.45it/s]\n",
            "100%|██████████| 188/188 [00:03<00:00, 56.48it/s]\n"
          ]
        },
        {
          "output_type": "stream",
          "name": "stdout",
          "text": [
            "Epoch: 10\n",
            "Loss Avg: 1.1795089037615596\n",
            "Last Learning Rate: [0.07033712878546848]\n",
            "Accuracy: 62.33333206176758%\n",
            "F measure: 60.9399224462687%\n",
            "Model saved...\n"
          ]
        },
        {
          "output_type": "stream",
          "name": "stderr",
          "text": [
            "100%|██████████| 938/938 [00:44<00:00, 21.00it/s]\n",
            "100%|██████████| 188/188 [00:03<00:00, 56.72it/s]\n"
          ]
        },
        {
          "output_type": "stream",
          "name": "stdout",
          "text": [
            "Epoch: 11\n",
            "Loss Avg: 1.0621712388751061\n",
            "Last Learning Rate: [0.06545119521025018]\n",
            "Accuracy: 63.19999694824219%\n",
            "F measure: 61.84365947443183%\n"
          ]
        },
        {
          "output_type": "stream",
          "name": "stderr",
          "text": [
            "100%|██████████| 938/938 [00:43<00:00, 21.49it/s]\n",
            "100%|██████████| 188/188 [00:03<00:00, 56.34it/s]\n"
          ]
        },
        {
          "output_type": "stream",
          "name": "stdout",
          "text": [
            "Epoch: 12\n",
            "Loss Avg: 1.0431587087979908\n",
            "Last Learning Rate: [0.06039598058504256]\n",
            "Accuracy: 67.0999984741211%\n",
            "F measure: 66.8315594998572%\n"
          ]
        },
        {
          "output_type": "stream",
          "name": "stderr",
          "text": [
            "100%|██████████| 938/938 [00:44<00:00, 21.05it/s]\n",
            "100%|██████████| 188/188 [00:03<00:00, 55.73it/s]\n"
          ]
        },
        {
          "output_type": "stream",
          "name": "stdout",
          "text": [
            "Epoch: 13\n",
            "Loss Avg: 0.8489678605509421\n",
            "Last Learning Rate: [0.05522687089915104]\n",
            "Accuracy: 67.33333587646484%\n",
            "F measure: 66.86099868199568%\n"
          ]
        },
        {
          "output_type": "stream",
          "name": "stderr",
          "text": [
            "100%|██████████| 938/938 [00:43<00:00, 21.58it/s]\n",
            "100%|██████████| 188/188 [00:03<00:00, 55.77it/s]\n"
          ]
        },
        {
          "output_type": "stream",
          "name": "stdout",
          "text": [
            "Epoch: 14\n",
            "Loss Avg: 0.8574027785719661\n",
            "Last Learning Rate: [0.0500005]\n",
            "Accuracy: 68.0999984741211%\n",
            "F measure: 67.67349125885609%\n"
          ]
        },
        {
          "output_type": "stream",
          "name": "stderr",
          "text": [
            "100%|██████████| 938/938 [00:44<00:00, 21.01it/s]\n",
            "100%|██████████| 188/188 [00:03<00:00, 55.70it/s]\n"
          ]
        },
        {
          "output_type": "stream",
          "name": "stdout",
          "text": [
            "Epoch: 15\n",
            "Loss Avg: 0.84320353053782\n",
            "Last Learning Rate: [0.04477412910084897]\n",
            "Accuracy: 65.63333129882812%\n",
            "F measure: 65.07792581132699%\n",
            "Model saved...\n"
          ]
        },
        {
          "output_type": "stream",
          "name": "stderr",
          "text": [
            "100%|██████████| 938/938 [00:43<00:00, 21.52it/s]\n",
            "100%|██████████| 188/188 [00:03<00:00, 55.95it/s]\n"
          ]
        },
        {
          "output_type": "stream",
          "name": "stdout",
          "text": [
            "Epoch: 16\n",
            "Loss Avg: 0.799236351463424\n",
            "Last Learning Rate: [0.039605019414957456]\n",
            "Accuracy: 69.73333740234375%\n",
            "F measure: 69.83009203550287%\n"
          ]
        },
        {
          "output_type": "stream",
          "name": "stderr",
          "text": [
            "100%|██████████| 938/938 [00:44<00:00, 20.99it/s]\n",
            "100%|██████████| 188/188 [00:03<00:00, 56.53it/s]\n"
          ]
        },
        {
          "output_type": "stream",
          "name": "stdout",
          "text": [
            "Epoch: 17\n",
            "Loss Avg: 0.7960139652124034\n",
            "Last Learning Rate: [0.034549804789749824]\n",
            "Accuracy: 72.73332977294922%\n",
            "F measure: 72.508311590471%\n"
          ]
        },
        {
          "output_type": "stream",
          "name": "stderr",
          "text": [
            "100%|██████████| 938/938 [00:44<00:00, 21.22it/s]\n",
            "100%|██████████| 188/188 [00:03<00:00, 51.95it/s]\n"
          ]
        },
        {
          "output_type": "stream",
          "name": "stdout",
          "text": [
            "Epoch: 18\n",
            "Loss Avg: 0.6994517467443925\n",
            "Last Learning Rate: [0.02966387121453154]\n",
            "Accuracy: 73.88333129882812%\n",
            "F measure: 73.42243570003049%\n"
          ]
        },
        {
          "output_type": "stream",
          "name": "stderr",
          "text": [
            "100%|██████████| 938/938 [00:43<00:00, 21.59it/s]\n",
            "100%|██████████| 188/188 [00:03<00:00, 55.98it/s]\n"
          ]
        },
        {
          "output_type": "stream",
          "name": "stdout",
          "text": [
            "Epoch: 19\n",
            "Loss Avg: 0.8573214993164147\n",
            "Last Learning Rate: [0.025000750000000013]\n",
            "Accuracy: 73.11666870117188%\n",
            "F measure: 72.52721963711858%\n"
          ]
        },
        {
          "output_type": "stream",
          "name": "stderr",
          "text": [
            "100%|██████████| 938/938 [00:44<00:00, 21.03it/s]\n",
            "100%|██████████| 188/188 [00:03<00:00, 56.03it/s]\n"
          ]
        },
        {
          "output_type": "stream",
          "name": "stdout",
          "text": [
            "Epoch: 20\n",
            "Loss Avg: 0.6756489604973493\n",
            "Last Learning Rate: [0.0206115312780025]\n",
            "Accuracy: 76.63333129882812%\n",
            "F measure: 76.44829318258061%\n",
            "Model saved...\n"
          ]
        },
        {
          "output_type": "stream",
          "name": "stderr",
          "text": [
            "100%|██████████| 938/938 [00:43<00:00, 21.44it/s]\n",
            "100%|██████████| 188/188 [00:03<00:00, 56.44it/s]\n"
          ]
        },
        {
          "output_type": "stream",
          "name": "stdout",
          "text": [
            "Epoch: 21\n",
            "Loss Avg: 0.6955026791127932\n",
            "Last Learning Rate: [0.016544304247360288]\n",
            "Accuracy: 75.33333587646484%\n",
            "F measure: 75.30339820853827%\n"
          ]
        },
        {
          "output_type": "stream",
          "name": "stderr",
          "text": [
            "100%|██████████| 938/938 [00:44<00:00, 20.97it/s]\n",
            "100%|██████████| 188/188 [00:03<00:00, 57.09it/s]\n"
          ]
        },
        {
          "output_type": "stream",
          "name": "stdout",
          "text": [
            "Epoch: 22\n",
            "Loss Avg: 0.6452471347834595\n",
            "Last Learning Rate: [0.012843630298543022]\n",
            "Accuracy: 77.91666412353516%\n",
            "F measure: 77.74841151375519%\n"
          ]
        },
        {
          "output_type": "stream",
          "name": "stderr",
          "text": [
            "100%|██████████| 938/938 [00:43<00:00, 21.57it/s]\n",
            "100%|██████████| 188/188 [00:03<00:00, 56.41it/s]\n"
          ]
        },
        {
          "output_type": "stream",
          "name": "stdout",
          "text": [
            "Epoch: 23\n",
            "Loss Avg: 0.631237770926385\n",
            "Last Learning Rate: [0.009550054789749822]\n",
            "Accuracy: 79.61666870117188%\n",
            "F measure: 79.35751451181646%\n"
          ]
        },
        {
          "output_type": "stream",
          "name": "stderr",
          "text": [
            "100%|██████████| 938/938 [00:44<00:00, 20.96it/s]\n",
            "100%|██████████| 188/188 [00:03<00:00, 55.83it/s]\n"
          ]
        },
        {
          "output_type": "stream",
          "name": "stdout",
          "text": [
            "Epoch: 24\n",
            "Loss Avg: 0.49308879019460083\n",
            "Last Learning Rate: [0.006699662823479957]\n",
            "Accuracy: 79.73332977294922%\n",
            "F measure: 79.56169284414896%\n"
          ]
        },
        {
          "output_type": "stream",
          "name": "stderr",
          "text": [
            "100%|██████████| 938/938 [00:43<00:00, 21.55it/s]\n",
            "100%|██████████| 188/188 [00:03<00:00, 56.58it/s]\n"
          ]
        },
        {
          "output_type": "stream",
          "name": "stdout",
          "text": [
            "Epoch: 25\n",
            "Loss Avg: 0.5614981354861331\n",
            "Last Learning Rate: [0.004323683890598773]\n",
            "Accuracy: 82.06666564941406%\n",
            "F measure: 81.9271994393875%\n",
            "Model saved...\n"
          ]
        },
        {
          "output_type": "stream",
          "name": "stderr",
          "text": [
            "100%|██████████| 938/938 [00:44<00:00, 21.02it/s]\n",
            "100%|██████████| 188/188 [00:03<00:00, 57.07it/s]\n"
          ]
        },
        {
          "output_type": "stream",
          "name": "stdout",
          "text": [
            "Epoch: 26\n",
            "Loss Avg: 0.505315468592301\n",
            "Last Learning Rate: [0.002448149713500471]\n",
            "Accuracy: 82.05000305175781%\n",
            "F measure: 82.09073679338795%\n"
          ]
        },
        {
          "output_type": "stream",
          "name": "stderr",
          "text": [
            "100%|██████████| 938/938 [00:43<00:00, 21.45it/s]\n",
            "100%|██████████| 188/188 [00:04<00:00, 46.54it/s]\n"
          ]
        },
        {
          "output_type": "stream",
          "name": "stdout",
          "text": [
            "Epoch: 27\n",
            "Loss Avg: 0.41317352116834066\n",
            "Last Learning Rate: [0.0010936090371100825]\n",
            "Accuracy: 82.78333282470703%\n",
            "F measure: 82.67641591512444%\n"
          ]
        },
        {
          "output_type": "stream",
          "name": "stderr",
          "text": [
            "100%|██████████| 938/938 [00:43<00:00, 21.71it/s]\n",
            "100%|██████████| 188/188 [00:03<00:00, 56.17it/s]\n"
          ]
        },
        {
          "output_type": "stream",
          "name": "stdout",
          "text": [
            "Epoch: 28\n",
            "Loss Avg: 0.3873661409716073\n",
            "Last Learning Rate: [0.00027490249253401964]\n",
            "Accuracy: 83.36666870117188%\n",
            "F measure: 83.27496166793799%\n"
          ]
        },
        {
          "output_type": "stream",
          "name": "stderr",
          "text": [
            "100%|██████████| 938/938 [00:44<00:00, 21.23it/s]\n",
            "100%|██████████| 188/188 [00:03<00:00, 56.55it/s]"
          ]
        },
        {
          "output_type": "stream",
          "name": "stdout",
          "text": [
            "Epoch: 29\n",
            "Loss Avg: 0.34527114666484715\n",
            "Last Learning Rate: [1e-06]\n",
            "Accuracy: 83.58332824707031%\n",
            "F measure: 83.46892992685171%\n"
          ]
        },
        {
          "output_type": "stream",
          "name": "stderr",
          "text": [
            "\n"
          ]
        }
      ]
    },
    {
      "cell_type": "code",
      "source": [
        "torch.save(final_model.state_dict(), \"epoch50thKway.pth\")"
      ],
      "metadata": {
        "id": "g-VvOtZLwYAG"
      },
      "execution_count": null,
      "outputs": []
    },
    {
      "cell_type": "markdown",
      "source": [
        "# Build and Validate Max Softmax probability and Max Logits scores."
      ],
      "metadata": {
        "id": "LY_o5tict0gp"
      }
    },
    {
      "cell_type": "code",
      "source": [
        "def build_max_model(kway_model_path): \n",
        "\n",
        "  resnet50 = torchvision.models.resnet50(pretrained=False)\n",
        "  resnet50.fc = nn.Linear(resnet50.fc.in_features, split)\n",
        "\n",
        "  resnet50.load_state_dict(torch.load(kway_model_path))\n",
        "  resnet50.eval()\n",
        "\n",
        "  return resnet50\n",
        "\n",
        "def evaluate_max_models(form, kway_model_path, data_loader): \n",
        "\n",
        "  net = build_max_model(kway_model_path).cuda()\n",
        "  num_of_data = 0\n",
        "  stacked_maxes = list()\n",
        "  stacked_target = list()\n",
        "\n",
        "  for data, target in tqdm(data_loader): \n",
        "\n",
        "    data, target = data.cuda(), target.cuda()\n",
        "    num_of_data += data.size(0)\n",
        "\n",
        "    #forward\n",
        "    x = net(data.float())\n",
        "\n",
        "    if form == \"softmax\":\n",
        "      # Softmax Probability\n",
        "      x = F.softmax(x, dim=1)\n",
        "      assert sum(x[0]).item() > 0.99 and sum(x[0]).item() < 1.001\n",
        "    \n",
        "    max = torch.max(x, dim = 1).values\n",
        "\n",
        "    stacked_maxes.extend(max.tolist())\n",
        "    stacked_target.extend(target.tolist())\n",
        "\n",
        "  \n",
        "  roc_measure = roc(stacked_maxes, stacked_target)['auc'] * 100\n",
        "  pr_measure = pr(stacked_maxes, stacked_target)['auc'] * 100\n",
        "\n",
        "  print(\"\\n\")\n",
        "  print(\"ROC AU value: {}%\".format(roc_measure))\n",
        "  print(\"PR AU value: {}%\".format(pr_measure))\n",
        "  print(roc_measure, pr_measure)\n",
        "\n",
        "  return roc_measure, pr_measure"
      ],
      "metadata": {
        "id": "wmxNeu5bt-uG"
      },
      "execution_count": null,
      "outputs": []
    },
    {
      "cell_type": "markdown",
      "source": [
        "Run Max Softmax Probabilities on test_mixedCIFARLoader"
      ],
      "metadata": {
        "id": "jsamL_VE7B4W"
      }
    },
    {
      "cell_type": "code",
      "source": [
        "max_softmaxprob_metrics = evaluate_max_models(\"softmax\", \"/content/drive/MyDrive/Unknown_Detection/model_epoch15.pth\", test_mixedCIFARLoader)"
      ],
      "metadata": {
        "id": "MOf2uQgZ7BSg",
        "colab": {
          "base_uri": "https://localhost:8080/"
        },
        "outputId": "2318e8e3-3d99-4e1e-9098-2037a3171765"
      },
      "execution_count": null,
      "outputs": [
        {
          "output_type": "stream",
          "name": "stderr",
          "text": [
            "100%|██████████| 313/313 [00:06<00:00, 46.60it/s]\n"
          ]
        },
        {
          "output_type": "stream",
          "name": "stdout",
          "text": [
            "\n",
            "\n",
            "ROC AU value: 62.03239791666666%\n",
            "PR AU value: 70.93395607848333%\n"
          ]
        }
      ]
    },
    {
      "cell_type": "markdown",
      "source": [
        "Run Max Logits on test_mixedCIFARLoader"
      ],
      "metadata": {
        "id": "eisw_QUH7eHW"
      }
    },
    {
      "cell_type": "code",
      "source": [
        "max_logits_metrics = evaluate_max_models(\"logits\", \"/content/epoch30thKway.pth\", test_mixedCIFARLoader)"
      ],
      "metadata": {
        "id": "ImJqNPLQ73_9",
        "colab": {
          "base_uri": "https://localhost:8080/"
        },
        "outputId": "263ee495-07af-46e5-80b1-b73414f25c56"
      },
      "execution_count": null,
      "outputs": [
        {
          "output_type": "stream",
          "name": "stderr",
          "text": [
            "/usr/local/lib/python3.7/dist-packages/torchvision/models/_utils.py:209: UserWarning: The parameter 'pretrained' is deprecated since 0.13 and will be removed in 0.15, please use 'weights' instead.\n",
            "  f\"The parameter '{pretrained_param}' is deprecated since 0.13 and will be removed in 0.15, \"\n",
            "/usr/local/lib/python3.7/dist-packages/torchvision/models/_utils.py:223: UserWarning: Arguments other than a weight enum or `None` for 'weights' are deprecated since 0.13 and will be removed in 0.15. The current behavior is equivalent to passing `weights=None`.\n",
            "  warnings.warn(msg)\n",
            "100%|██████████| 313/313 [00:09<00:00, 31.37it/s]"
          ]
        },
        {
          "output_type": "stream",
          "name": "stdout",
          "text": [
            "\n",
            "\n",
            "ROC AU value: 70.90532083333333%\n",
            "PR AU value: 77.61123706839246%\n",
            "70.90532083333333 77.61123706839246\n"
          ]
        },
        {
          "output_type": "stream",
          "name": "stderr",
          "text": [
            "\n"
          ]
        }
      ]
    },
    {
      "cell_type": "markdown",
      "source": [
        "Run Max Softmax Probabilities on Uniform Noise DataLoader and Normal Noise DataLoader"
      ],
      "metadata": {
        "id": "nRQdeNh_BT4W"
      }
    },
    {
      "cell_type": "code",
      "source": [
        "print(\"Uniform Distribution: \")\n",
        "max_softmaxprob_metrics = evaluate_max_models(\"softmax\", \"/content/drive/MyDrive/Unknown_Detection/CIFAR50thepochOct3.pth\", uniformDisLoader)\n",
        "\n",
        "print(\"\\n\")\n",
        "\n",
        "print(\"Normal Distribution: \")\n",
        "max_softmaxprob_metrics = evaluate_max_models(\"softmax\", \"/content/drive/MyDrive/Unknown_Detection/CIFAR50thepochOct3.pth\", normalDisLoader)"
      ],
      "metadata": {
        "id": "dHBE-FlpBUNx",
        "colab": {
          "base_uri": "https://localhost:8080/"
        },
        "outputId": "2caf3318-0a77-48e0-9471-6c3f325e8bbc"
      },
      "execution_count": null,
      "outputs": [
        {
          "output_type": "stream",
          "name": "stdout",
          "text": [
            "Uniform Distribution: \n"
          ]
        },
        {
          "output_type": "stream",
          "name": "stderr",
          "text": [
            "/usr/local/lib/python3.7/dist-packages/torchvision/models/_utils.py:209: UserWarning: The parameter 'pretrained' is deprecated since 0.13 and will be removed in 0.15, please use 'weights' instead.\n",
            "  f\"The parameter '{pretrained_param}' is deprecated since 0.13 and will be removed in 0.15, \"\n",
            "/usr/local/lib/python3.7/dist-packages/torchvision/models/_utils.py:223: UserWarning: Arguments other than a weight enum or `None` for 'weights' are deprecated since 0.13 and will be removed in 0.15. The current behavior is equivalent to passing `weights=None`.\n",
            "  warnings.warn(msg)\n",
            "100%|██████████| 7/7 [00:00<00:00, 51.32it/s]\n",
            "/usr/local/lib/python3.7/dist-packages/torchvision/models/_utils.py:209: UserWarning: The parameter 'pretrained' is deprecated since 0.13 and will be removed in 0.15, please use 'weights' instead.\n",
            "  f\"The parameter '{pretrained_param}' is deprecated since 0.13 and will be removed in 0.15, \"\n",
            "/usr/local/lib/python3.7/dist-packages/torchvision/models/_utils.py:223: UserWarning: Arguments other than a weight enum or `None` for 'weights' are deprecated since 0.13 and will be removed in 0.15. The current behavior is equivalent to passing `weights=None`.\n",
            "  warnings.warn(msg)\n"
          ]
        },
        {
          "output_type": "stream",
          "name": "stdout",
          "text": [
            "\n",
            "\n",
            "ROC AU value: 62.150000000000006%\n",
            "PR AU value: 74.32607174353114%\n",
            "62.150000000000006 74.32607174353114\n",
            "\n",
            "\n",
            "Normal Distribution: \n"
          ]
        },
        {
          "output_type": "stream",
          "name": "stderr",
          "text": [
            "100%|██████████| 7/7 [00:00<00:00, 52.06it/s]"
          ]
        },
        {
          "output_type": "stream",
          "name": "stdout",
          "text": [
            "\n",
            "\n",
            "ROC AU value: 90.54%\n",
            "PR AU value: 92.71089461930033%\n",
            "90.54 92.71089461930033\n"
          ]
        },
        {
          "output_type": "stream",
          "name": "stderr",
          "text": [
            "\n"
          ]
        }
      ]
    },
    {
      "cell_type": "markdown",
      "source": [
        "Run Max Logits on Uniform Noise DataLoader"
      ],
      "metadata": {
        "id": "moAzc5zZBUoF"
      }
    },
    {
      "cell_type": "code",
      "source": [
        "print(\"Uniform Distribution: \")\n",
        "max_logit_metrics = evaluate_max_models(\"logits\", \"/content/drive/MyDrive/Unknown_Detection/CIFAR50thepochOct3.pth\", uniformDisLoader)\n",
        "\n",
        "print(\"\\n\")\n",
        "\n",
        "print(\"Normal Distribution: \")\n",
        "max_logits_metrics = evaluate_max_models(\"logits\", \"/content/drive/MyDrive/Unknown_Detection/CIFAR50thepochOct3.pth\", normalDisLoader)"
      ],
      "metadata": {
        "id": "WnjfpdsqBU9y",
        "colab": {
          "base_uri": "https://localhost:8080/"
        },
        "outputId": "d79b7d60-8c7d-4b63-96d7-216d417c1d66"
      },
      "execution_count": null,
      "outputs": [
        {
          "output_type": "stream",
          "name": "stdout",
          "text": [
            "Uniform Distribution: \n"
          ]
        },
        {
          "output_type": "stream",
          "name": "stderr",
          "text": [
            "/usr/local/lib/python3.7/dist-packages/torchvision/models/_utils.py:209: UserWarning: The parameter 'pretrained' is deprecated since 0.13 and will be removed in 0.15, please use 'weights' instead.\n",
            "  f\"The parameter '{pretrained_param}' is deprecated since 0.13 and will be removed in 0.15, \"\n",
            "/usr/local/lib/python3.7/dist-packages/torchvision/models/_utils.py:223: UserWarning: Arguments other than a weight enum or `None` for 'weights' are deprecated since 0.13 and will be removed in 0.15. The current behavior is equivalent to passing `weights=None`.\n",
            "  warnings.warn(msg)\n",
            "100%|██████████| 7/7 [00:00<00:00, 49.69it/s]\n",
            "/usr/local/lib/python3.7/dist-packages/torchvision/models/_utils.py:209: UserWarning: The parameter 'pretrained' is deprecated since 0.13 and will be removed in 0.15, please use 'weights' instead.\n",
            "  f\"The parameter '{pretrained_param}' is deprecated since 0.13 and will be removed in 0.15, \"\n",
            "/usr/local/lib/python3.7/dist-packages/torchvision/models/_utils.py:223: UserWarning: Arguments other than a weight enum or `None` for 'weights' are deprecated since 0.13 and will be removed in 0.15. The current behavior is equivalent to passing `weights=None`.\n",
            "  warnings.warn(msg)\n"
          ]
        },
        {
          "output_type": "stream",
          "name": "stdout",
          "text": [
            "\n",
            "\n",
            "ROC AU value: 71.16%\n",
            "PR AU value: 81.79172781163166%\n",
            "71.16 81.79172781163166\n",
            "\n",
            "\n",
            "Normal Distribution: \n"
          ]
        },
        {
          "output_type": "stream",
          "name": "stderr",
          "text": [
            "100%|██████████| 7/7 [00:00<00:00, 48.71it/s]"
          ]
        },
        {
          "output_type": "stream",
          "name": "stdout",
          "text": [
            "\n",
            "\n",
            "ROC AU value: 80.89999999999999%\n",
            "PR AU value: 85.75189871794264%\n",
            "80.89999999999999 85.75189871794264\n"
          ]
        },
        {
          "output_type": "stream",
          "name": "stderr",
          "text": [
            "\n"
          ]
        }
      ]
    },
    {
      "cell_type": "markdown",
      "source": [
        "Run Max Softmax on Heavy Transforms (Flipping, Gaussian Blurring, Raining Affect) on closed_set images"
      ],
      "metadata": {
        "id": "hG2VnHsL3M3P"
      }
    },
    {
      "cell_type": "code",
      "source": [
        "max_softmaxprob_metrics = evaluate_max_models(\"softmax\", \"/content/drive/MyDrive/Unknown_Detection/model_epoch15.pth\", closed_set_heavy_TransformsLoader)"
      ],
      "metadata": {
        "colab": {
          "base_uri": "https://localhost:8080/"
        },
        "id": "JuhCwqLF3Wp1",
        "outputId": "3625e721-254a-4071-a40a-925ccb8ff0cb"
      },
      "execution_count": null,
      "outputs": [
        {
          "output_type": "stream",
          "name": "stderr",
          "text": [
            "100%|██████████| 188/188 [00:23<00:00,  8.15it/s]"
          ]
        },
        {
          "output_type": "stream",
          "name": "stdout",
          "text": [
            "\n",
            "\n",
            "ROC AU value: 68.26209444444444%\n",
            "PR AU value: 71.7399916181242%\n"
          ]
        },
        {
          "output_type": "stream",
          "name": "stderr",
          "text": [
            "\n"
          ]
        }
      ]
    },
    {
      "cell_type": "markdown",
      "source": [
        "Run Max Logits on Heavy Transforms (Flipping, Gaussian Blurring, Raining Affect) on closed_set images"
      ],
      "metadata": {
        "id": "SCWXLUQb_acY"
      }
    },
    {
      "cell_type": "code",
      "source": [
        "max_logit_metrics = evaluate_max_models(\"logits\", \"/content/drive/MyDrive/Unknown_Detection/CIFAR50thepochOct3.pth\", closed_set_heavy_TransformsLoader)"
      ],
      "metadata": {
        "colab": {
          "base_uri": "https://localhost:8080/"
        },
        "id": "sdr--ELG4kmF",
        "outputId": "db3c02bf-4bdb-4bcd-a9fc-ea0476008424"
      },
      "execution_count": null,
      "outputs": [
        {
          "output_type": "stream",
          "name": "stderr",
          "text": [
            "/usr/local/lib/python3.7/dist-packages/torchvision/models/_utils.py:209: UserWarning: The parameter 'pretrained' is deprecated since 0.13 and will be removed in 0.15, please use 'weights' instead.\n",
            "  f\"The parameter '{pretrained_param}' is deprecated since 0.13 and will be removed in 0.15, \"\n",
            "/usr/local/lib/python3.7/dist-packages/torchvision/models/_utils.py:223: UserWarning: Arguments other than a weight enum or `None` for 'weights' are deprecated since 0.13 and will be removed in 0.15. The current behavior is equivalent to passing `weights=None`.\n",
            "  warnings.warn(msg)\n",
            "100%|██████████| 313/313 [00:42<00:00,  7.34it/s]"
          ]
        },
        {
          "output_type": "stream",
          "name": "stdout",
          "text": [
            "\n",
            "\n",
            "ROC AU value: 65.478736%\n",
            "PR AU value: 69.45880602991421%\n",
            "65.478736 69.45880602991421\n"
          ]
        },
        {
          "output_type": "stream",
          "name": "stderr",
          "text": [
            "\n"
          ]
        }
      ]
    },
    {
      "cell_type": "markdown",
      "source": [
        "Run Max Softmax on SVHN + CIFAR Dataset"
      ],
      "metadata": {
        "id": "7tgfvIJjH8lv"
      }
    },
    {
      "cell_type": "code",
      "source": [
        "max_softmaxprob_metrics = evaluate_max_models(\"softmax\", \"/content/drive/MyDrive/Unknown_Detection/CIFAR50thepochOct3.pth\", newDatasetAndCIFARLoader)"
      ],
      "metadata": {
        "colab": {
          "base_uri": "https://localhost:8080/"
        },
        "id": "_I4g7x8gIBMh",
        "outputId": "760c717d-9390-4eaa-8c9e-592ce1d7a8a7"
      },
      "execution_count": null,
      "outputs": [
        {
          "output_type": "stream",
          "name": "stderr",
          "text": [
            "/usr/local/lib/python3.7/dist-packages/torchvision/models/_utils.py:209: UserWarning: The parameter 'pretrained' is deprecated since 0.13 and will be removed in 0.15, please use 'weights' instead.\n",
            "  f\"The parameter '{pretrained_param}' is deprecated since 0.13 and will be removed in 0.15, \"\n",
            "/usr/local/lib/python3.7/dist-packages/torchvision/models/_utils.py:223: UserWarning: Arguments other than a weight enum or `None` for 'weights' are deprecated since 0.13 and will be removed in 0.15. The current behavior is equivalent to passing `weights=None`.\n",
            "  warnings.warn(msg)\n",
            "100%|██████████| 625/625 [00:12<00:00, 49.85it/s]"
          ]
        },
        {
          "output_type": "stream",
          "name": "stdout",
          "text": [
            "\n",
            "\n",
            "ROC AU value: 76.389837%\n",
            "PR AU value: 81.73958968088347%\n",
            "76.389837 81.73958968088347\n"
          ]
        },
        {
          "output_type": "stream",
          "name": "stderr",
          "text": [
            "\n"
          ]
        }
      ]
    },
    {
      "cell_type": "markdown",
      "source": [
        "Run Max Logits on SVHN + CIFAR Dataset"
      ],
      "metadata": {
        "id": "WecHL7FkIBYQ"
      }
    },
    {
      "cell_type": "code",
      "source": [
        "max_logit_metrics = evaluate_max_models(\"logits\", \"/content/drive/MyDrive/Unknown_Detection/CIFAR50thepochOct3.pth\", newDatasetAndCIFARLoader)"
      ],
      "metadata": {
        "colab": {
          "base_uri": "https://localhost:8080/"
        },
        "id": "a5JX-yzxJdZ3",
        "outputId": "4cec03cc-3a4f-4c31-e9f1-25376ea3d8c4"
      },
      "execution_count": null,
      "outputs": [
        {
          "output_type": "stream",
          "name": "stderr",
          "text": [
            "/usr/local/lib/python3.7/dist-packages/torchvision/models/_utils.py:209: UserWarning: The parameter 'pretrained' is deprecated since 0.13 and will be removed in 0.15, please use 'weights' instead.\n",
            "  f\"The parameter '{pretrained_param}' is deprecated since 0.13 and will be removed in 0.15, \"\n",
            "/usr/local/lib/python3.7/dist-packages/torchvision/models/_utils.py:223: UserWarning: Arguments other than a weight enum or `None` for 'weights' are deprecated since 0.13 and will be removed in 0.15. The current behavior is equivalent to passing `weights=None`.\n",
            "  warnings.warn(msg)\n",
            "100%|██████████| 625/625 [00:10<00:00, 60.09it/s]"
          ]
        },
        {
          "output_type": "stream",
          "name": "stdout",
          "text": [
            "\n",
            "\n",
            "ROC AU value: 67.0716255%\n",
            "PR AU value: 74.907815703786%\n",
            "67.0716255 74.907815703786\n"
          ]
        },
        {
          "output_type": "stream",
          "name": "stderr",
          "text": [
            "\n"
          ]
        }
      ]
    },
    {
      "cell_type": "markdown",
      "source": [
        "Run Max Logits on MNIST + CIFAR Dataset"
      ],
      "metadata": {
        "id": "16oPGwx2QSwJ"
      }
    },
    {
      "cell_type": "code",
      "source": [
        "max_logit_metrics = evaluate_max_models(\"logits\", \"/content/drive/MyDrive/Unknown_Detection/CIFAR50thepochOct3.pth\", MNISTAndCIFARLoader)"
      ],
      "metadata": {
        "colab": {
          "base_uri": "https://localhost:8080/"
        },
        "id": "8xSQuoNzQWdw",
        "outputId": "f1efa3c3-8050-4be0-cc7c-6194d2a166d8"
      },
      "execution_count": null,
      "outputs": [
        {
          "output_type": "stream",
          "name": "stderr",
          "text": [
            "/usr/local/lib/python3.7/dist-packages/torchvision/models/_utils.py:209: UserWarning: The parameter 'pretrained' is deprecated since 0.13 and will be removed in 0.15, please use 'weights' instead.\n",
            "  f\"The parameter '{pretrained_param}' is deprecated since 0.13 and will be removed in 0.15, \"\n",
            "/usr/local/lib/python3.7/dist-packages/torchvision/models/_utils.py:223: UserWarning: Arguments other than a weight enum or `None` for 'weights' are deprecated since 0.13 and will be removed in 0.15. The current behavior is equivalent to passing `weights=None`.\n",
            "  warnings.warn(msg)\n",
            "100%|██████████| 375/375 [00:07<00:00, 47.14it/s]"
          ]
        },
        {
          "output_type": "stream",
          "name": "stdout",
          "text": [
            "\n",
            "\n",
            "ROC AU value: 93.4136625%\n",
            "PR AU value: 94.42958965144553%\n",
            "93.4136625 94.42958965144553\n"
          ]
        },
        {
          "output_type": "stream",
          "name": "stderr",
          "text": [
            "\n"
          ]
        }
      ]
    },
    {
      "cell_type": "markdown",
      "source": [
        "# Build and Train Binary Classifier\n",
        "# Requirements: Trained K Way classification backbone"
      ],
      "metadata": {
        "id": "VnbZwvyh0Jxo"
      }
    },
    {
      "cell_type": "code",
      "source": [
        "def build_binary_classifier(model_path): \n",
        "  bn_classifier = torchvision.models.resnet50(pretrained = False)\n",
        "  model_state_dict = torch.load(model_path)\n",
        "\n",
        "  del model_state_dict['fc.weight']\n",
        "  del model_state_dict['fc.bias']\n",
        "  bn_classifier.load_state_dict(model_state_dict, strict = False)\n",
        "\n",
        "  for param in bn_classifier.parameters(): \n",
        "    bn_classifier.requires_grad = False\n",
        "\n",
        "  bn_classifier.fc = nn.Sequential(\n",
        "      nn.Linear(bn_classifier.fc.in_features, 512), \n",
        "      nn.ReLU(inplace = True),\n",
        "      nn.Dropout(), \n",
        "      nn.Linear(512, 128), \n",
        "      nn.ReLU(inplace = True), \n",
        "      nn.Dropout(), \n",
        "      nn.Linear(128, 32), \n",
        "      nn.ReLU(inplace = True), \n",
        "      nn.Dropout(),\n",
        "      nn.Linear(32, 1)\n",
        "  )\n",
        "\n",
        "  # bn_classifier.fc = nn.Linear(bn_classifier.fc.in_features, 1, bias = True)\n",
        "\n",
        "  return bn_classifier\n",
        "\n",
        "bn_net = build_binary_classifier(\"/content/drive/MyDrive/Unknown_Detection/model_epoch15.pth\")"
      ],
      "metadata": {
        "id": "m_eM3l1y9KI_"
      },
      "execution_count": null,
      "outputs": []
    },
    {
      "cell_type": "code",
      "source": [
        "epochs = 20\n",
        "def cosine_annealing(step, total_steps, lr_max, lr_min):\n",
        "    return lr_min + (lr_max - lr_min) * 0.5 * (\n",
        "            1 + np.cos(step / total_steps * np.pi))\n",
        "    \n",
        "def train_bn_classifier(net, epochs, folder_weights):\n",
        "\n",
        "  if os.path.exists(folder_weights): \n",
        "    raise RuntimeError(\"Folder already exists\")\n",
        "\n",
        "  os.mkdir(folder_weights)\n",
        "\n",
        "  top_paths = {}\n",
        "  best_model = {}\n",
        "\n",
        "  lr = 0.01\n",
        "  net = net.cuda()\n",
        "  bn_optimizer = torch.optim.SGD(\n",
        "  net.fc.parameters(), lr, momentum=0.9, \n",
        "  weight_decay=0.0005, nesterov=True)\n",
        "\n",
        "  scheduler = torch.optim.lr_scheduler.LambdaLR(\n",
        "    bn_optimizer,\n",
        "    lr_lambda=lambda step: cosine_annealing(\n",
        "        step,\n",
        "        epochs * len(train_mixedCIFARLoader),\n",
        "        1,  # since lr_lambda computes multiplicative factor\n",
        "        1e-6 / lr))\n",
        "  \n",
        "  model_path = \"\"\n",
        "  for e in range(epochs): \n",
        "    correct = 0\n",
        "    num_of_data = 0\n",
        "    model_path = os.path.join(folder_weights, \"bn_model_epoch{}.pth\".format(e))\n",
        "    net.train()  # enter train mode\n",
        "    loss_avg = 0.0\n",
        "    for data, target in tqdm(train_mixedCIFARLoader):\n",
        "      target = target.unsqueeze(1)\n",
        "      data, target = data.cuda(), target.cuda()\n",
        "      \n",
        "      # forward\n",
        "      x = net(data)\n",
        "\n",
        "      # backward\n",
        "      scheduler.step()\n",
        "      bn_optimizer.zero_grad()\n",
        "      loss = nn.BCEWithLogitsLoss()(x, target.float())\n",
        "      loss.backward()\n",
        "      bn_optimizer.step()\n",
        "\n",
        "      # exponential moving average\n",
        "      loss_avg = loss_avg * 0.8 + float(loss) * 0.2\n",
        "    \n",
        "    stacked_pred = list()\n",
        "    stacked_target = list()\n",
        "    stacked_outs = list()\n",
        "    # stacked_confidence\n",
        "\n",
        "    for data, target in tqdm(test_mixedCIFARLoader): \n",
        "      data, target = data.cuda(), target.cuda()\n",
        "      net.eval()\n",
        "      num_of_data += data.size(0)\n",
        "\n",
        "      #forward\n",
        "      x = net(data)\n",
        "      x = torch.sigmoid(x)\n",
        "      x = x.squeeze(-1)\n",
        "\n",
        "      pred = torch.round(x)\n",
        "\n",
        "      stacked_outs.extend(x.tolist())\n",
        "      stacked_pred.extend(pred.tolist()) # Only 0's and 1's\n",
        "      stacked_target.extend(target.tolist())\n",
        "      correct += torch.sum(pred == target)\n",
        "\n",
        "    f_measure = F_measure(stacked_pred, stacked_target) * 100\n",
        "\n",
        "    roc_measure = roc(stacked_outs, stacked_target)['auc'] * 100\n",
        "    pr_measure = pr(stacked_outs, stacked_target)['auc'] * 100\n",
        "\n",
        "    accuracy = (correct / num_of_data) * 100\n",
        "\n",
        "    top_paths[model_path] = \"{} f_measure, {} roc_measure, {} pr_measure, {} accuracy\".format(f_measure, roc_measure, pr_measure, accuracy)\n",
        "    print(model_path)\n",
        "    best_model[model_path] = roc_measure\n",
        "    sorted_best_model = sorted(best_model, key = best_model.get, reverse = True)\n",
        "    '''Clean all the lower roc models'''\n",
        "    saved_paths = glob.glob(os.path.join(folder_weights, \"*.pth\"))\n",
        "    for pth in saved_paths: \n",
        "      if pth not in sorted_best_model[:3]: \n",
        "        os.remove(pth)\n",
        "\n",
        "    for m_pf in sorted_best_model[:3]: \n",
        "      if not os.path.isfile(m_pf): \n",
        "        torch.save(net.state_dict(), model_path)\n",
        "    \n",
        "    assert len(glob.glob(os.path.join(folder_weights, \"*.pth\"))) <= 3\n",
        "    print(\"Best Model saved or kept...\")\n",
        "\n",
        "    print(\"Epoch: {}\".format(e))\n",
        "    print(\"Loss Avg: {}\".format(loss_avg))\n",
        "    print(\"Last Learning Rate: {}\".format(scheduler.get_last_lr()))\n",
        "    print(\"Accuracy: {}%\".format(accuracy))\n",
        "    print(\"F measure: {}%\".format(f_measure))\n",
        "    print(\"ROC measure: {}%\".format(roc_measure))\n",
        "    print(\"PR measure: {}%\".format(pr_measure))\n",
        "\n",
        "    if (e % 5 == 0) and (e != 0): \n",
        "      torch.save(net.state_dict(), model_path)\n",
        "      print(\"Model saved...\")\n",
        "    \n",
        "  with open(\"bn_model_weightsLOGS.txt\", 'a+') as f:\n",
        "    for k in top_paths.keys():\n",
        "      final_string = '{} : {}'.format(k, top_paths[k]) \n",
        "      print(final_string, file=f)\n",
        "\n",
        "  return net"
      ],
      "metadata": {
        "id": "pZRMDDfoCsc9"
      },
      "execution_count": null,
      "outputs": []
    },
    {
      "cell_type": "code",
      "source": [
        "bn_net = train_bn_classifier(bn_net, 40, \"REALfinal_train\")"
      ],
      "metadata": {
        "colab": {
          "base_uri": "https://localhost:8080/",
          "height": 1000
        },
        "id": "cXHJaqIXCErD",
        "outputId": "8ebb88d9-a65a-4ab1-9b0a-705b84aab551",
        "collapsed": true
      },
      "execution_count": null,
      "outputs": [
        {
          "output_type": "stream",
          "name": "stderr",
          "text": [
            "  0%|          | 0/1563 [00:00<?, ?it/s]/usr/local/lib/python3.7/dist-packages/torch/optim/lr_scheduler.py:136: UserWarning: Detected call of `lr_scheduler.step()` before `optimizer.step()`. In PyTorch 1.1.0 and later, you should call them in the opposite order: `optimizer.step()` before `lr_scheduler.step()`.  Failure to do this will result in PyTorch skipping the first value of the learning rate schedule. See more details at https://pytorch.org/docs/stable/optim.html#how-to-adjust-learning-rate\n",
            "  \"https://pytorch.org/docs/stable/optim.html#how-to-adjust-learning-rate\", UserWarning)\n",
            "100%|██████████| 1563/1563 [01:10<00:00, 22.24it/s]\n",
            "100%|██████████| 313/313 [00:06<00:00, 48.31it/s]\n"
          ]
        },
        {
          "output_type": "stream",
          "name": "stdout",
          "text": [
            "REALfinal_train/bn_model_epoch0.pth\n",
            "Best Model saved or kept...\n",
            "Epoch: 0\n",
            "Loss Avg: 0.5589472174126431\n",
            "Last Learning Rate: [0.009984588209998774]\n",
            "Accuracy: 70.61000061035156%\n",
            "F measure: 66.88225876742618%\n",
            "ROC measure: 78.0862625%\n",
            "PR measure: 84.5500395837584%\n"
          ]
        },
        {
          "output_type": "stream",
          "name": "stderr",
          "text": [
            "100%|██████████| 1563/1563 [01:07<00:00, 23.20it/s]\n",
            "100%|██████████| 313/313 [00:06<00:00, 47.79it/s]\n"
          ]
        },
        {
          "output_type": "stream",
          "name": "stdout",
          "text": [
            "REALfinal_train/bn_model_epoch1.pth\n",
            "Best Model saved or kept...\n",
            "Epoch: 1\n",
            "Loss Avg: 0.5255356499596877\n",
            "Last Learning Rate: [0.009938447858805391]\n",
            "Accuracy: 70.44999694824219%\n",
            "F measure: 66.17521524667912%\n",
            "ROC measure: 78.49220416666667%\n",
            "PR measure: 84.92070127371741%\n"
          ]
        },
        {
          "output_type": "stream",
          "name": "stderr",
          "text": [
            "100%|██████████| 1563/1563 [01:08<00:00, 22.83it/s]\n",
            "100%|██████████| 313/313 [00:06<00:00, 47.68it/s]\n"
          ]
        },
        {
          "output_type": "stream",
          "name": "stdout",
          "text": [
            "REALfinal_train/bn_model_epoch2.pth\n",
            "Best Model saved or kept...\n",
            "Epoch: 2\n",
            "Loss Avg: 0.5813866549129371\n",
            "Last Learning Rate: [0.009861863417028185]\n",
            "Accuracy: 72.5199966430664%\n",
            "F measure: 70.36952821258686%\n",
            "ROC measure: 79.91728333333333%\n",
            "PR measure: 85.99227204377989%\n"
          ]
        },
        {
          "output_type": "stream",
          "name": "stderr",
          "text": [
            "100%|██████████| 1563/1563 [01:07<00:00, 23.22it/s]\n",
            "100%|██████████| 313/313 [00:06<00:00, 48.17it/s]\n"
          ]
        },
        {
          "output_type": "stream",
          "name": "stdout",
          "text": [
            "REALfinal_train/bn_model_epoch3.pth\n",
            "Best Model saved or kept...\n",
            "Epoch: 3\n",
            "Loss Avg: 0.5735542616449145\n",
            "Last Learning Rate: [0.00975530705321762]\n",
            "Accuracy: 72.20999908447266%\n",
            "F measure: 69.10761321251042%\n",
            "ROC measure: 80.00135208333334%\n",
            "PR measure: 86.11595263046937%\n"
          ]
        },
        {
          "output_type": "stream",
          "name": "stderr",
          "text": [
            "100%|██████████| 1563/1563 [01:07<00:00, 23.17it/s]\n",
            "100%|██████████| 313/313 [00:06<00:00, 48.46it/s]\n"
          ]
        },
        {
          "output_type": "stream",
          "name": "stdout",
          "text": [
            "REALfinal_train/bn_model_epoch4.pth\n",
            "Best Model saved or kept...\n",
            "Epoch: 4\n",
            "Loss Avg: 0.5836703043027476\n",
            "Last Learning Rate: [0.00961943572279018]\n",
            "Accuracy: 72.65999603271484%\n",
            "F measure: 70.75538477441897%\n",
            "ROC measure: 79.92735208333332%\n",
            "PR measure: 85.98262181303072%\n"
          ]
        },
        {
          "output_type": "stream",
          "name": "stderr",
          "text": [
            "100%|██████████| 1563/1563 [01:08<00:00, 22.85it/s]\n",
            "100%|██████████| 313/313 [00:06<00:00, 47.77it/s]\n"
          ]
        },
        {
          "output_type": "stream",
          "name": "stdout",
          "text": [
            "REALfinal_train/bn_model_epoch5.pth\n",
            "Best Model saved or kept...\n",
            "Epoch: 5\n",
            "Loss Avg: 0.5654865393349119\n",
            "Last Learning Rate: [0.009455087117679745]\n",
            "Accuracy: 72.47000122070312%\n",
            "F measure: 70.06028106294507%\n",
            "ROC measure: 80.38535833333333%\n",
            "PR measure: 86.40854958773215%\n",
            "Model saved...\n"
          ]
        },
        {
          "output_type": "stream",
          "name": "stderr",
          "text": [
            "100%|██████████| 1563/1563 [01:07<00:00, 23.14it/s]\n",
            "100%|██████████| 313/313 [00:06<00:00, 47.64it/s]\n"
          ]
        },
        {
          "output_type": "stream",
          "name": "stdout",
          "text": [
            "REALfinal_train/bn_model_epoch6.pth\n",
            "Best Model saved or kept...\n",
            "Epoch: 6\n",
            "Loss Avg: 0.5977926716815961\n",
            "Last Learning Rate: [0.009263274501688283]\n",
            "Accuracy: 71.86000061035156%\n",
            "F measure: 68.26918340980303%\n",
            "ROC measure: 80.35528749999999%\n",
            "PR measure: 86.33155883492203%\n"
          ]
        },
        {
          "output_type": "stream",
          "name": "stderr",
          "text": [
            "100%|██████████| 1563/1563 [01:07<00:00, 23.27it/s]\n",
            "100%|██████████| 313/313 [00:06<00:00, 47.94it/s]\n"
          ]
        },
        {
          "output_type": "stream",
          "name": "stdout",
          "text": [
            "REALfinal_train/bn_model_epoch7.pth\n",
            "Best Model saved or kept...\n",
            "Epoch: 7\n",
            "Loss Avg: 0.5457717904241002\n",
            "Last Learning Rate: [0.00904518046337755]\n",
            "Accuracy: 72.77999877929688%\n",
            "F measure: 70.93107572234783%\n",
            "ROC measure: 80.27519583333333%\n",
            "PR measure: 86.1802544210888%\n"
          ]
        },
        {
          "output_type": "stream",
          "name": "stderr",
          "text": [
            "100%|██████████| 1563/1563 [01:08<00:00, 22.95it/s]\n",
            "100%|██████████| 313/313 [00:06<00:00, 48.03it/s]\n"
          ]
        },
        {
          "output_type": "stream",
          "name": "stdout",
          "text": [
            "REALfinal_train/bn_model_epoch8.pth\n",
            "Best Model saved or kept...\n",
            "Epoch: 8\n",
            "Loss Avg: 0.5505952238537475\n",
            "Last Learning Rate: [0.008802149625017354]\n",
            "Accuracy: 72.29000091552734%\n",
            "F measure: 69.40867633749191%\n",
            "ROC measure: 80.30020833333333%\n",
            "PR measure: 86.30697358987806%\n"
          ]
        },
        {
          "output_type": "stream",
          "name": "stderr",
          "text": [
            "100%|██████████| 1563/1563 [01:06<00:00, 23.34it/s]\n",
            "100%|██████████| 313/313 [00:06<00:00, 49.26it/s]\n"
          ]
        },
        {
          "output_type": "stream",
          "name": "stdout",
          "text": [
            "REALfinal_train/bn_model_epoch9.pth\n",
            "Best Model saved or kept...\n",
            "Epoch: 9\n",
            "Loss Avg: 0.6154941993142427\n",
            "Last Learning Rate: [0.008535680352542145]\n",
            "Accuracy: 72.7699966430664%\n",
            "F measure: 70.70833264891088%\n",
            "ROC measure: 80.13250208333334%\n",
            "PR measure: 86.06992261512136%\n"
          ]
        },
        {
          "output_type": "stream",
          "name": "stderr",
          "text": [
            "100%|██████████| 1563/1563 [01:06<00:00, 23.37it/s]\n",
            "100%|██████████| 313/313 [00:06<00:00, 48.72it/s]\n"
          ]
        },
        {
          "output_type": "stream",
          "name": "stdout",
          "text": [
            "REALfinal_train/bn_model_epoch10.pth\n",
            "Best Model saved or kept...\n",
            "Epoch: 10\n",
            "Loss Avg: 0.564838684864834\n",
            "Last Learning Rate: [0.008247415517626751]\n",
            "Accuracy: 72.72999572753906%\n",
            "F measure: 70.11320781516272%\n",
            "ROC measure: 80.42938958333335%\n",
            "PR measure: 86.38071481816239%\n",
            "Model saved...\n"
          ]
        },
        {
          "output_type": "stream",
          "name": "stderr",
          "text": [
            "100%|██████████| 1563/1563 [01:07<00:00, 23.30it/s]\n",
            "100%|██████████| 313/313 [00:06<00:00, 48.46it/s]\n"
          ]
        },
        {
          "output_type": "stream",
          "name": "stdout",
          "text": [
            "REALfinal_train/bn_model_epoch11.pth\n",
            "Best Model saved or kept...\n",
            "Epoch: 11\n",
            "Loss Avg: 0.5396465893138331\n",
            "Last Learning Rate: [0.00793913236883622]\n",
            "Accuracy: 73.04999542236328%\n",
            "F measure: 71.15202694475613%\n",
            "ROC measure: 80.33548125%\n",
            "PR measure: 86.22843422429499%\n"
          ]
        },
        {
          "output_type": "stream",
          "name": "stderr",
          "text": [
            "100%|██████████| 1563/1563 [01:06<00:00, 23.37it/s]\n",
            "100%|██████████| 313/313 [00:06<00:00, 48.25it/s]\n"
          ]
        },
        {
          "output_type": "stream",
          "name": "stdout",
          "text": [
            "REALfinal_train/bn_model_epoch12.pth\n",
            "Best Model saved or kept...\n",
            "Epoch: 12\n",
            "Loss Avg: 0.5082427690435545\n",
            "Last Learning Rate: [0.007612731574297386]\n",
            "Accuracy: 73.18999481201172%\n",
            "F measure: 71.4824218914332%\n",
            "ROC measure: 80.66341249999999%\n",
            "PR measure: 86.62300842447749%\n"
          ]
        },
        {
          "output_type": "stream",
          "name": "stderr",
          "text": [
            "100%|██████████| 1563/1563 [01:07<00:00, 23.05it/s]\n",
            "100%|██████████| 313/313 [00:06<00:00, 48.42it/s]\n"
          ]
        },
        {
          "output_type": "stream",
          "name": "stdout",
          "text": [
            "REALfinal_train/bn_model_epoch13.pth\n",
            "Best Model saved or kept...\n",
            "Epoch: 13\n",
            "Loss Avg: 0.5458182303142267\n",
            "Last Learning Rate: [0.007270225503447864]\n",
            "Accuracy: 73.2699966430664%\n",
            "F measure: 71.2560218392294%\n",
            "ROC measure: 80.26667291666666%\n",
            "PR measure: 86.14258202048548%\n"
          ]
        },
        {
          "output_type": "stream",
          "name": "stderr",
          "text": [
            "100%|██████████| 1563/1563 [01:06<00:00, 23.52it/s]\n",
            "100%|██████████| 313/313 [00:06<00:00, 48.88it/s]\n"
          ]
        },
        {
          "output_type": "stream",
          "name": "stdout",
          "text": [
            "REALfinal_train/bn_model_epoch14.pth\n",
            "Best Model saved or kept...\n",
            "Epoch: 14\n",
            "Loss Avg: 0.6219260412609665\n",
            "Last Learning Rate: [0.006913725820109267]\n",
            "Accuracy: 72.95999145507812%\n",
            "F measure: 71.22125621856075%\n",
            "ROC measure: 80.52241458333334%\n",
            "PR measure: 86.46214476141613%\n"
          ]
        },
        {
          "output_type": "stream",
          "name": "stderr",
          "text": [
            "100%|██████████| 1563/1563 [01:06<00:00, 23.38it/s]\n",
            "100%|██████████| 313/313 [00:06<00:00, 49.25it/s]\n"
          ]
        },
        {
          "output_type": "stream",
          "name": "stdout",
          "text": [
            "REALfinal_train/bn_model_epoch15.pth\n",
            "Best Model saved or kept...\n",
            "Epoch: 15\n",
            "Loss Avg: 0.5930649907060609\n",
            "Last Learning Rate: [0.0065454304633775495]\n",
            "Accuracy: 72.70999908447266%\n",
            "F measure: 70.10291138812971%\n",
            "ROC measure: 80.6913%\n",
            "PR measure: 86.57968068665087%\n",
            "Model saved...\n"
          ]
        },
        {
          "output_type": "stream",
          "name": "stderr",
          "text": [
            "100%|██████████| 1563/1563 [01:07<00:00, 23.26it/s]\n",
            "100%|██████████| 313/313 [00:06<00:00, 48.59it/s]\n"
          ]
        },
        {
          "output_type": "stream",
          "name": "stdout",
          "text": [
            "REALfinal_train/bn_model_epoch16.pth\n",
            "Best Model saved or kept...\n",
            "Epoch: 16\n",
            "Loss Avg: 0.5368706602981183\n",
            "Last Learning Rate: [0.0061676100965976]\n",
            "Accuracy: 72.73999786376953%\n",
            "F measure: 69.91158155102684%\n",
            "ROC measure: 80.72894375000001%\n",
            "PR measure: 86.58755986584872%\n"
          ]
        },
        {
          "output_type": "stream",
          "name": "stderr",
          "text": [
            "100%|██████████| 1563/1563 [01:06<00:00, 23.47it/s]\n",
            "100%|██████████| 313/313 [00:06<00:00, 48.86it/s]\n"
          ]
        },
        {
          "output_type": "stream",
          "name": "stdout",
          "text": [
            "REALfinal_train/bn_model_epoch17.pth\n",
            "Best Model saved or kept...\n",
            "Epoch: 17\n",
            "Loss Avg: 0.6114796870539783\n",
            "Last Learning Rate: [0.005782594107968635]\n",
            "Accuracy: 73.05999755859375%\n",
            "F measure: 70.97868284069702%\n",
            "ROC measure: 80.40904791666668%\n",
            "PR measure: 86.30078928733425%\n"
          ]
        },
        {
          "output_type": "stream",
          "name": "stderr",
          "text": [
            "100%|██████████| 1563/1563 [01:07<00:00, 23.18it/s]\n",
            "100%|██████████| 313/313 [00:06<00:00, 48.06it/s]\n"
          ]
        },
        {
          "output_type": "stream",
          "name": "stdout",
          "text": [
            "REALfinal_train/bn_model_epoch18.pth\n",
            "Best Model saved or kept...\n",
            "Epoch: 18\n",
            "Loss Avg: 0.4932090024624594\n",
            "Last Learning Rate: [0.0053927562490913615]\n",
            "Accuracy: 72.85999298095703%\n",
            "F measure: 70.16400912343705%\n",
            "ROC measure: 80.97611875%\n",
            "PR measure: 86.80046190574345%\n"
          ]
        },
        {
          "output_type": "stream",
          "name": "stderr",
          "text": [
            "100%|██████████| 1563/1563 [01:06<00:00, 23.41it/s]\n",
            "100%|██████████| 313/313 [00:06<00:00, 48.54it/s]\n"
          ]
        },
        {
          "output_type": "stream",
          "name": "stdout",
          "text": [
            "REALfinal_train/bn_model_epoch19.pth\n",
            "Best Model saved or kept...\n",
            "Epoch: 19\n",
            "Loss Avg: 0.6227120012735703\n",
            "Last Learning Rate: [0.0050005]\n",
            "Accuracy: 72.80999755859375%\n",
            "F measure: 70.05536651499014%\n",
            "ROC measure: 80.60570833333334%\n",
            "PR measure: 86.50681241066444%\n"
          ]
        },
        {
          "output_type": "stream",
          "name": "stderr",
          "text": [
            "100%|██████████| 1563/1563 [01:06<00:00, 23.44it/s]\n",
            "100%|██████████| 313/313 [00:06<00:00, 49.12it/s]\n"
          ]
        },
        {
          "output_type": "stream",
          "name": "stdout",
          "text": [
            "REALfinal_train/bn_model_epoch20.pth\n",
            "Best Model saved or kept...\n",
            "Epoch: 20\n",
            "Loss Avg: 0.5766919663919657\n",
            "Last Learning Rate: [0.00460824375090864]\n",
            "Accuracy: 72.82999420166016%\n",
            "F measure: 70.74271476099172%\n",
            "ROC measure: 80.67642500000001%\n",
            "PR measure: 86.58970797727092%\n",
            "Model saved...\n"
          ]
        },
        {
          "output_type": "stream",
          "name": "stderr",
          "text": [
            "100%|██████████| 1563/1563 [01:06<00:00, 23.39it/s]\n",
            "100%|██████████| 313/313 [00:06<00:00, 48.73it/s]\n"
          ]
        },
        {
          "output_type": "stream",
          "name": "stdout",
          "text": [
            "REALfinal_train/bn_model_epoch21.pth\n",
            "Best Model saved or kept...\n",
            "Epoch: 21\n",
            "Loss Avg: 0.5604550865480533\n",
            "Last Learning Rate: [0.004218405892031365]\n",
            "Accuracy: 72.78999328613281%\n",
            "F measure: 70.1944096739942%\n",
            "ROC measure: 80.71350833333332%\n",
            "PR measure: 86.59557873079804%\n"
          ]
        },
        {
          "output_type": "stream",
          "name": "stderr",
          "text": [
            "100%|██████████| 1563/1563 [01:06<00:00, 23.48it/s]\n",
            "100%|██████████| 313/313 [00:06<00:00, 48.58it/s]\n"
          ]
        },
        {
          "output_type": "stream",
          "name": "stdout",
          "text": [
            "REALfinal_train/bn_model_epoch22.pth\n",
            "Best Model saved or kept...\n",
            "Epoch: 22\n",
            "Loss Avg: 0.5643428222319684\n",
            "Last Learning Rate: [0.0038333899034024028]\n",
            "Accuracy: 72.92999267578125%\n",
            "F measure: 70.53502783808555%\n",
            "ROC measure: 80.70067916666666%\n",
            "PR measure: 86.6062300860078%\n"
          ]
        },
        {
          "output_type": "stream",
          "name": "stderr",
          "text": [
            "100%|██████████| 1563/1563 [01:07<00:00, 23.20it/s]\n",
            "100%|██████████| 313/313 [00:06<00:00, 48.40it/s]\n"
          ]
        },
        {
          "output_type": "stream",
          "name": "stdout",
          "text": [
            "REALfinal_train/bn_model_epoch23.pth\n",
            "Best Model saved or kept...\n",
            "Epoch: 23\n",
            "Loss Avg: 0.6264300507989126\n",
            "Last Learning Rate: [0.003455569536622451]\n",
            "Accuracy: 72.47999572753906%\n",
            "F measure: 69.53322284698305%\n",
            "ROC measure: 80.72677083333333%\n",
            "PR measure: 86.54916183568973%\n"
          ]
        },
        {
          "output_type": "stream",
          "name": "stderr",
          "text": [
            "100%|██████████| 1563/1563 [01:06<00:00, 23.47it/s]\n",
            "100%|██████████| 313/313 [00:06<00:00, 48.89it/s]\n"
          ]
        },
        {
          "output_type": "stream",
          "name": "stdout",
          "text": [
            "REALfinal_train/bn_model_epoch24.pth\n",
            "Best Model saved or kept...\n",
            "Epoch: 24\n",
            "Loss Avg: 0.5125192618632141\n",
            "Last Learning Rate: [0.003087274179890734]\n",
            "Accuracy: 73.54999542236328%\n",
            "F measure: 71.93479079943711%\n",
            "ROC measure: 80.81853958333333%\n",
            "PR measure: 86.68018714173496%\n"
          ]
        },
        {
          "output_type": "stream",
          "name": "stderr",
          "text": [
            "100%|██████████| 1563/1563 [01:06<00:00, 23.44it/s]\n",
            "100%|██████████| 313/313 [00:06<00:00, 48.49it/s]\n"
          ]
        },
        {
          "output_type": "stream",
          "name": "stdout",
          "text": [
            "REALfinal_train/bn_model_epoch25.pth\n",
            "Best Model saved or kept...\n",
            "Epoch: 25\n",
            "Loss Avg: 0.569918224043988\n",
            "Last Learning Rate: [0.002730774496552136]\n",
            "Accuracy: 73.35999298095703%\n",
            "F measure: 71.17709623006807%\n",
            "ROC measure: 80.96936666666667%\n",
            "PR measure: 86.77954731435099%\n",
            "Model saved...\n"
          ]
        },
        {
          "output_type": "stream",
          "name": "stderr",
          "text": [
            "100%|██████████| 1563/1563 [01:07<00:00, 23.19it/s]\n",
            "100%|██████████| 313/313 [00:06<00:00, 48.35it/s]\n"
          ]
        },
        {
          "output_type": "stream",
          "name": "stdout",
          "text": [
            "REALfinal_train/bn_model_epoch26.pth\n",
            "Best Model saved or kept...\n",
            "Epoch: 26\n",
            "Loss Avg: 0.6029833199923762\n",
            "Last Learning Rate: [0.002388268425702614]\n",
            "Accuracy: 73.15999603271484%\n",
            "F measure: 71.37676807111325%\n",
            "ROC measure: 80.92913958333334%\n",
            "PR measure: 86.78709565262906%\n"
          ]
        },
        {
          "output_type": "stream",
          "name": "stderr",
          "text": [
            "100%|██████████| 1563/1563 [01:06<00:00, 23.51it/s]\n",
            "100%|██████████| 313/313 [00:06<00:00, 49.09it/s]\n"
          ]
        },
        {
          "output_type": "stream",
          "name": "stdout",
          "text": [
            "REALfinal_train/bn_model_epoch27.pth\n",
            "Best Model saved or kept...\n",
            "Epoch: 27\n",
            "Loss Avg: 0.49902195878379046\n",
            "Last Learning Rate: [0.002061867631163781]\n",
            "Accuracy: 72.79999542236328%\n",
            "F measure: 70.07824012177099%\n",
            "ROC measure: 80.85696458333334%\n",
            "PR measure: 86.67873524370542%\n"
          ]
        },
        {
          "output_type": "stream",
          "name": "stderr",
          "text": [
            "100%|██████████| 1563/1563 [01:06<00:00, 23.46it/s]\n",
            "100%|██████████| 313/313 [00:06<00:00, 48.47it/s]\n"
          ]
        },
        {
          "output_type": "stream",
          "name": "stdout",
          "text": [
            "REALfinal_train/bn_model_epoch28.pth\n",
            "Best Model saved or kept...\n",
            "Epoch: 28\n",
            "Loss Avg: 0.5586232296290499\n",
            "Last Learning Rate: [0.0017535844823732471]\n",
            "Accuracy: 73.27999877929688%\n",
            "F measure: 71.4216957672665%\n",
            "ROC measure: 80.64899375%\n",
            "PR measure: 86.49884227168994%\n"
          ]
        },
        {
          "output_type": "stream",
          "name": "stderr",
          "text": [
            "100%|██████████| 1563/1563 [01:07<00:00, 23.19it/s]\n",
            "100%|██████████| 313/313 [00:06<00:00, 48.82it/s]\n"
          ]
        },
        {
          "output_type": "stream",
          "name": "stdout",
          "text": [
            "REALfinal_train/bn_model_epoch29.pth\n",
            "Best Model saved or kept...\n",
            "Epoch: 29\n",
            "Loss Avg: 0.5130902575213849\n",
            "Last Learning Rate: [0.0014653196474578559]\n",
            "Accuracy: 72.95999145507812%\n",
            "F measure: 70.15844628979433%\n",
            "ROC measure: 81.04480000000001%\n",
            "PR measure: 86.80551388559756%\n"
          ]
        },
        {
          "output_type": "stream",
          "name": "stderr",
          "text": [
            "100%|██████████| 1563/1563 [01:06<00:00, 23.41it/s]\n",
            "100%|██████████| 313/313 [00:06<00:00, 48.83it/s]\n"
          ]
        },
        {
          "output_type": "stream",
          "name": "stdout",
          "text": [
            "REALfinal_train/bn_model_epoch30.pth\n",
            "Best Model saved or kept...\n",
            "Epoch: 30\n",
            "Loss Avg: 0.572844239505969\n",
            "Last Learning Rate: [0.0011988503749826454]\n",
            "Accuracy: 73.27999877929688%\n",
            "F measure: 71.52590339293158%\n",
            "ROC measure: 80.81115208333333%\n",
            "PR measure: 86.63053107309669%\n",
            "Model saved...\n"
          ]
        },
        {
          "output_type": "stream",
          "name": "stderr",
          "text": [
            "100%|██████████| 1563/1563 [01:06<00:00, 23.48it/s]\n",
            " 90%|█████████ | 283/313 [00:05<00:00, 47.86it/s]\n"
          ]
        },
        {
          "output_type": "error",
          "ename": "KeyboardInterrupt",
          "evalue": "ignored",
          "traceback": [
            "\u001b[0;31m---------------------------------------------------------------------------\u001b[0m",
            "\u001b[0;31mKeyboardInterrupt\u001b[0m                         Traceback (most recent call last)",
            "\u001b[0;32m<ipython-input-27-6c6684ee78ff>\u001b[0m in \u001b[0;36m<module>\u001b[0;34m()\u001b[0m\n\u001b[0;32m----> 1\u001b[0;31m \u001b[0mbn_net\u001b[0m \u001b[0;34m=\u001b[0m \u001b[0mtrain_bn_classifier\u001b[0m\u001b[0;34m(\u001b[0m\u001b[0mbn_net\u001b[0m\u001b[0;34m,\u001b[0m \u001b[0;36m40\u001b[0m\u001b[0;34m,\u001b[0m \u001b[0;34m\"REALfinal_train\"\u001b[0m\u001b[0;34m)\u001b[0m\u001b[0;34m\u001b[0m\u001b[0;34m\u001b[0m\u001b[0m\n\u001b[0m",
            "\u001b[0;32m<ipython-input-24-1b6416020777>\u001b[0m in \u001b[0;36mtrain_bn_classifier\u001b[0;34m(net, epochs, folder_weights)\u001b[0m\n\u001b[1;32m     63\u001b[0m \u001b[0;34m\u001b[0m\u001b[0m\n\u001b[1;32m     64\u001b[0m       \u001b[0;31m#forward\u001b[0m\u001b[0;34m\u001b[0m\u001b[0;34m\u001b[0m\u001b[0;34m\u001b[0m\u001b[0m\n\u001b[0;32m---> 65\u001b[0;31m       \u001b[0mx\u001b[0m \u001b[0;34m=\u001b[0m \u001b[0mnet\u001b[0m\u001b[0;34m(\u001b[0m\u001b[0mdata\u001b[0m\u001b[0;34m)\u001b[0m\u001b[0;34m\u001b[0m\u001b[0;34m\u001b[0m\u001b[0m\n\u001b[0m\u001b[1;32m     66\u001b[0m       \u001b[0mx\u001b[0m \u001b[0;34m=\u001b[0m \u001b[0mtorch\u001b[0m\u001b[0;34m.\u001b[0m\u001b[0msigmoid\u001b[0m\u001b[0;34m(\u001b[0m\u001b[0mx\u001b[0m\u001b[0;34m)\u001b[0m\u001b[0;34m\u001b[0m\u001b[0;34m\u001b[0m\u001b[0m\n\u001b[1;32m     67\u001b[0m       \u001b[0mx\u001b[0m \u001b[0;34m=\u001b[0m \u001b[0mx\u001b[0m\u001b[0;34m.\u001b[0m\u001b[0msqueeze\u001b[0m\u001b[0;34m(\u001b[0m\u001b[0;34m-\u001b[0m\u001b[0;36m1\u001b[0m\u001b[0;34m)\u001b[0m\u001b[0;34m\u001b[0m\u001b[0;34m\u001b[0m\u001b[0m\n",
            "\u001b[0;32m/usr/local/lib/python3.7/dist-packages/torch/nn/modules/module.py\u001b[0m in \u001b[0;36m_call_impl\u001b[0;34m(self, *input, **kwargs)\u001b[0m\n\u001b[1;32m   1108\u001b[0m         if not (self._backward_hooks or self._forward_hooks or self._forward_pre_hooks or _global_backward_hooks\n\u001b[1;32m   1109\u001b[0m                 or _global_forward_hooks or _global_forward_pre_hooks):\n\u001b[0;32m-> 1110\u001b[0;31m             \u001b[0;32mreturn\u001b[0m \u001b[0mforward_call\u001b[0m\u001b[0;34m(\u001b[0m\u001b[0;34m*\u001b[0m\u001b[0minput\u001b[0m\u001b[0;34m,\u001b[0m \u001b[0;34m**\u001b[0m\u001b[0mkwargs\u001b[0m\u001b[0;34m)\u001b[0m\u001b[0;34m\u001b[0m\u001b[0;34m\u001b[0m\u001b[0m\n\u001b[0m\u001b[1;32m   1111\u001b[0m         \u001b[0;31m# Do not call functions when jit is used\u001b[0m\u001b[0;34m\u001b[0m\u001b[0;34m\u001b[0m\u001b[0;34m\u001b[0m\u001b[0m\n\u001b[1;32m   1112\u001b[0m         \u001b[0mfull_backward_hooks\u001b[0m\u001b[0;34m,\u001b[0m \u001b[0mnon_full_backward_hooks\u001b[0m \u001b[0;34m=\u001b[0m \u001b[0;34m[\u001b[0m\u001b[0;34m]\u001b[0m\u001b[0;34m,\u001b[0m \u001b[0;34m[\u001b[0m\u001b[0;34m]\u001b[0m\u001b[0;34m\u001b[0m\u001b[0;34m\u001b[0m\u001b[0m\n",
            "\u001b[0;32m/usr/local/lib/python3.7/dist-packages/torchvision/models/resnet.py\u001b[0m in \u001b[0;36mforward\u001b[0;34m(self, x)\u001b[0m\n\u001b[1;32m    281\u001b[0m \u001b[0;34m\u001b[0m\u001b[0m\n\u001b[1;32m    282\u001b[0m     \u001b[0;32mdef\u001b[0m \u001b[0mforward\u001b[0m\u001b[0;34m(\u001b[0m\u001b[0mself\u001b[0m\u001b[0;34m,\u001b[0m \u001b[0mx\u001b[0m\u001b[0;34m:\u001b[0m \u001b[0mTensor\u001b[0m\u001b[0;34m)\u001b[0m \u001b[0;34m->\u001b[0m \u001b[0mTensor\u001b[0m\u001b[0;34m:\u001b[0m\u001b[0;34m\u001b[0m\u001b[0;34m\u001b[0m\u001b[0m\n\u001b[0;32m--> 283\u001b[0;31m         \u001b[0;32mreturn\u001b[0m \u001b[0mself\u001b[0m\u001b[0;34m.\u001b[0m\u001b[0m_forward_impl\u001b[0m\u001b[0;34m(\u001b[0m\u001b[0mx\u001b[0m\u001b[0;34m)\u001b[0m\u001b[0;34m\u001b[0m\u001b[0;34m\u001b[0m\u001b[0m\n\u001b[0m\u001b[1;32m    284\u001b[0m \u001b[0;34m\u001b[0m\u001b[0m\n\u001b[1;32m    285\u001b[0m \u001b[0;34m\u001b[0m\u001b[0m\n",
            "\u001b[0;32m/usr/local/lib/python3.7/dist-packages/torchvision/models/resnet.py\u001b[0m in \u001b[0;36m_forward_impl\u001b[0;34m(self, x)\u001b[0m\n\u001b[1;32m    271\u001b[0m         \u001b[0mx\u001b[0m \u001b[0;34m=\u001b[0m \u001b[0mself\u001b[0m\u001b[0;34m.\u001b[0m\u001b[0mlayer1\u001b[0m\u001b[0;34m(\u001b[0m\u001b[0mx\u001b[0m\u001b[0;34m)\u001b[0m\u001b[0;34m\u001b[0m\u001b[0;34m\u001b[0m\u001b[0m\n\u001b[1;32m    272\u001b[0m         \u001b[0mx\u001b[0m \u001b[0;34m=\u001b[0m \u001b[0mself\u001b[0m\u001b[0;34m.\u001b[0m\u001b[0mlayer2\u001b[0m\u001b[0;34m(\u001b[0m\u001b[0mx\u001b[0m\u001b[0;34m)\u001b[0m\u001b[0;34m\u001b[0m\u001b[0;34m\u001b[0m\u001b[0m\n\u001b[0;32m--> 273\u001b[0;31m         \u001b[0mx\u001b[0m \u001b[0;34m=\u001b[0m \u001b[0mself\u001b[0m\u001b[0;34m.\u001b[0m\u001b[0mlayer3\u001b[0m\u001b[0;34m(\u001b[0m\u001b[0mx\u001b[0m\u001b[0;34m)\u001b[0m\u001b[0;34m\u001b[0m\u001b[0;34m\u001b[0m\u001b[0m\n\u001b[0m\u001b[1;32m    274\u001b[0m         \u001b[0mx\u001b[0m \u001b[0;34m=\u001b[0m \u001b[0mself\u001b[0m\u001b[0;34m.\u001b[0m\u001b[0mlayer4\u001b[0m\u001b[0;34m(\u001b[0m\u001b[0mx\u001b[0m\u001b[0;34m)\u001b[0m\u001b[0;34m\u001b[0m\u001b[0;34m\u001b[0m\u001b[0m\n\u001b[1;32m    275\u001b[0m \u001b[0;34m\u001b[0m\u001b[0m\n",
            "\u001b[0;32m/usr/local/lib/python3.7/dist-packages/torch/nn/modules/module.py\u001b[0m in \u001b[0;36m_call_impl\u001b[0;34m(self, *input, **kwargs)\u001b[0m\n\u001b[1;32m   1108\u001b[0m         if not (self._backward_hooks or self._forward_hooks or self._forward_pre_hooks or _global_backward_hooks\n\u001b[1;32m   1109\u001b[0m                 or _global_forward_hooks or _global_forward_pre_hooks):\n\u001b[0;32m-> 1110\u001b[0;31m             \u001b[0;32mreturn\u001b[0m \u001b[0mforward_call\u001b[0m\u001b[0;34m(\u001b[0m\u001b[0;34m*\u001b[0m\u001b[0minput\u001b[0m\u001b[0;34m,\u001b[0m \u001b[0;34m**\u001b[0m\u001b[0mkwargs\u001b[0m\u001b[0;34m)\u001b[0m\u001b[0;34m\u001b[0m\u001b[0;34m\u001b[0m\u001b[0m\n\u001b[0m\u001b[1;32m   1111\u001b[0m         \u001b[0;31m# Do not call functions when jit is used\u001b[0m\u001b[0;34m\u001b[0m\u001b[0;34m\u001b[0m\u001b[0;34m\u001b[0m\u001b[0m\n\u001b[1;32m   1112\u001b[0m         \u001b[0mfull_backward_hooks\u001b[0m\u001b[0;34m,\u001b[0m \u001b[0mnon_full_backward_hooks\u001b[0m \u001b[0;34m=\u001b[0m \u001b[0;34m[\u001b[0m\u001b[0;34m]\u001b[0m\u001b[0;34m,\u001b[0m \u001b[0;34m[\u001b[0m\u001b[0;34m]\u001b[0m\u001b[0;34m\u001b[0m\u001b[0;34m\u001b[0m\u001b[0m\n",
            "\u001b[0;32m/usr/local/lib/python3.7/dist-packages/torch/nn/modules/container.py\u001b[0m in \u001b[0;36mforward\u001b[0;34m(self, input)\u001b[0m\n\u001b[1;32m    139\u001b[0m     \u001b[0;32mdef\u001b[0m \u001b[0mforward\u001b[0m\u001b[0;34m(\u001b[0m\u001b[0mself\u001b[0m\u001b[0;34m,\u001b[0m \u001b[0minput\u001b[0m\u001b[0;34m)\u001b[0m\u001b[0;34m:\u001b[0m\u001b[0;34m\u001b[0m\u001b[0;34m\u001b[0m\u001b[0m\n\u001b[1;32m    140\u001b[0m         \u001b[0;32mfor\u001b[0m \u001b[0mmodule\u001b[0m \u001b[0;32min\u001b[0m \u001b[0mself\u001b[0m\u001b[0;34m:\u001b[0m\u001b[0;34m\u001b[0m\u001b[0;34m\u001b[0m\u001b[0m\n\u001b[0;32m--> 141\u001b[0;31m             \u001b[0minput\u001b[0m \u001b[0;34m=\u001b[0m \u001b[0mmodule\u001b[0m\u001b[0;34m(\u001b[0m\u001b[0minput\u001b[0m\u001b[0;34m)\u001b[0m\u001b[0;34m\u001b[0m\u001b[0;34m\u001b[0m\u001b[0m\n\u001b[0m\u001b[1;32m    142\u001b[0m         \u001b[0;32mreturn\u001b[0m \u001b[0minput\u001b[0m\u001b[0;34m\u001b[0m\u001b[0;34m\u001b[0m\u001b[0m\n\u001b[1;32m    143\u001b[0m \u001b[0;34m\u001b[0m\u001b[0m\n",
            "\u001b[0;32m/usr/local/lib/python3.7/dist-packages/torch/nn/modules/module.py\u001b[0m in \u001b[0;36m_call_impl\u001b[0;34m(self, *input, **kwargs)\u001b[0m\n\u001b[1;32m   1108\u001b[0m         if not (self._backward_hooks or self._forward_hooks or self._forward_pre_hooks or _global_backward_hooks\n\u001b[1;32m   1109\u001b[0m                 or _global_forward_hooks or _global_forward_pre_hooks):\n\u001b[0;32m-> 1110\u001b[0;31m             \u001b[0;32mreturn\u001b[0m \u001b[0mforward_call\u001b[0m\u001b[0;34m(\u001b[0m\u001b[0;34m*\u001b[0m\u001b[0minput\u001b[0m\u001b[0;34m,\u001b[0m \u001b[0;34m**\u001b[0m\u001b[0mkwargs\u001b[0m\u001b[0;34m)\u001b[0m\u001b[0;34m\u001b[0m\u001b[0;34m\u001b[0m\u001b[0m\n\u001b[0m\u001b[1;32m   1111\u001b[0m         \u001b[0;31m# Do not call functions when jit is used\u001b[0m\u001b[0;34m\u001b[0m\u001b[0;34m\u001b[0m\u001b[0;34m\u001b[0m\u001b[0m\n\u001b[1;32m   1112\u001b[0m         \u001b[0mfull_backward_hooks\u001b[0m\u001b[0;34m,\u001b[0m \u001b[0mnon_full_backward_hooks\u001b[0m \u001b[0;34m=\u001b[0m \u001b[0;34m[\u001b[0m\u001b[0;34m]\u001b[0m\u001b[0;34m,\u001b[0m \u001b[0;34m[\u001b[0m\u001b[0;34m]\u001b[0m\u001b[0;34m\u001b[0m\u001b[0;34m\u001b[0m\u001b[0m\n",
            "\u001b[0;32m/usr/local/lib/python3.7/dist-packages/torchvision/models/resnet.py\u001b[0m in \u001b[0;36mforward\u001b[0;34m(self, x)\u001b[0m\n\u001b[1;32m    148\u001b[0m         \u001b[0mout\u001b[0m \u001b[0;34m=\u001b[0m \u001b[0mself\u001b[0m\u001b[0;34m.\u001b[0m\u001b[0mconv2\u001b[0m\u001b[0;34m(\u001b[0m\u001b[0mout\u001b[0m\u001b[0;34m)\u001b[0m\u001b[0;34m\u001b[0m\u001b[0;34m\u001b[0m\u001b[0m\n\u001b[1;32m    149\u001b[0m         \u001b[0mout\u001b[0m \u001b[0;34m=\u001b[0m \u001b[0mself\u001b[0m\u001b[0;34m.\u001b[0m\u001b[0mbn2\u001b[0m\u001b[0;34m(\u001b[0m\u001b[0mout\u001b[0m\u001b[0;34m)\u001b[0m\u001b[0;34m\u001b[0m\u001b[0;34m\u001b[0m\u001b[0m\n\u001b[0;32m--> 150\u001b[0;31m         \u001b[0mout\u001b[0m \u001b[0;34m=\u001b[0m \u001b[0mself\u001b[0m\u001b[0;34m.\u001b[0m\u001b[0mrelu\u001b[0m\u001b[0;34m(\u001b[0m\u001b[0mout\u001b[0m\u001b[0;34m)\u001b[0m\u001b[0;34m\u001b[0m\u001b[0;34m\u001b[0m\u001b[0m\n\u001b[0m\u001b[1;32m    151\u001b[0m \u001b[0;34m\u001b[0m\u001b[0m\n\u001b[1;32m    152\u001b[0m         \u001b[0mout\u001b[0m \u001b[0;34m=\u001b[0m \u001b[0mself\u001b[0m\u001b[0;34m.\u001b[0m\u001b[0mconv3\u001b[0m\u001b[0;34m(\u001b[0m\u001b[0mout\u001b[0m\u001b[0;34m)\u001b[0m\u001b[0;34m\u001b[0m\u001b[0;34m\u001b[0m\u001b[0m\n",
            "\u001b[0;32m/usr/local/lib/python3.7/dist-packages/torch/nn/modules/module.py\u001b[0m in \u001b[0;36m_call_impl\u001b[0;34m(self, *input, **kwargs)\u001b[0m\n\u001b[1;32m   1108\u001b[0m         if not (self._backward_hooks or self._forward_hooks or self._forward_pre_hooks or _global_backward_hooks\n\u001b[1;32m   1109\u001b[0m                 or _global_forward_hooks or _global_forward_pre_hooks):\n\u001b[0;32m-> 1110\u001b[0;31m             \u001b[0;32mreturn\u001b[0m \u001b[0mforward_call\u001b[0m\u001b[0;34m(\u001b[0m\u001b[0;34m*\u001b[0m\u001b[0minput\u001b[0m\u001b[0;34m,\u001b[0m \u001b[0;34m**\u001b[0m\u001b[0mkwargs\u001b[0m\u001b[0;34m)\u001b[0m\u001b[0;34m\u001b[0m\u001b[0;34m\u001b[0m\u001b[0m\n\u001b[0m\u001b[1;32m   1111\u001b[0m         \u001b[0;31m# Do not call functions when jit is used\u001b[0m\u001b[0;34m\u001b[0m\u001b[0;34m\u001b[0m\u001b[0;34m\u001b[0m\u001b[0m\n\u001b[1;32m   1112\u001b[0m         \u001b[0mfull_backward_hooks\u001b[0m\u001b[0;34m,\u001b[0m \u001b[0mnon_full_backward_hooks\u001b[0m \u001b[0;34m=\u001b[0m \u001b[0;34m[\u001b[0m\u001b[0;34m]\u001b[0m\u001b[0;34m,\u001b[0m \u001b[0;34m[\u001b[0m\u001b[0;34m]\u001b[0m\u001b[0;34m\u001b[0m\u001b[0;34m\u001b[0m\u001b[0m\n",
            "\u001b[0;32m/usr/local/lib/python3.7/dist-packages/torch/nn/modules/activation.py\u001b[0m in \u001b[0;36mforward\u001b[0;34m(self, input)\u001b[0m\n\u001b[1;32m     96\u001b[0m \u001b[0;34m\u001b[0m\u001b[0m\n\u001b[1;32m     97\u001b[0m     \u001b[0;32mdef\u001b[0m \u001b[0mforward\u001b[0m\u001b[0;34m(\u001b[0m\u001b[0mself\u001b[0m\u001b[0;34m,\u001b[0m \u001b[0minput\u001b[0m\u001b[0;34m:\u001b[0m \u001b[0mTensor\u001b[0m\u001b[0;34m)\u001b[0m \u001b[0;34m->\u001b[0m \u001b[0mTensor\u001b[0m\u001b[0;34m:\u001b[0m\u001b[0;34m\u001b[0m\u001b[0;34m\u001b[0m\u001b[0m\n\u001b[0;32m---> 98\u001b[0;31m         \u001b[0;32mreturn\u001b[0m \u001b[0mF\u001b[0m\u001b[0;34m.\u001b[0m\u001b[0mrelu\u001b[0m\u001b[0;34m(\u001b[0m\u001b[0minput\u001b[0m\u001b[0;34m,\u001b[0m \u001b[0minplace\u001b[0m\u001b[0;34m=\u001b[0m\u001b[0mself\u001b[0m\u001b[0;34m.\u001b[0m\u001b[0minplace\u001b[0m\u001b[0;34m)\u001b[0m\u001b[0;34m\u001b[0m\u001b[0;34m\u001b[0m\u001b[0m\n\u001b[0m\u001b[1;32m     99\u001b[0m \u001b[0;34m\u001b[0m\u001b[0m\n\u001b[1;32m    100\u001b[0m     \u001b[0;32mdef\u001b[0m \u001b[0mextra_repr\u001b[0m\u001b[0;34m(\u001b[0m\u001b[0mself\u001b[0m\u001b[0;34m)\u001b[0m \u001b[0;34m->\u001b[0m \u001b[0mstr\u001b[0m\u001b[0;34m:\u001b[0m\u001b[0;34m\u001b[0m\u001b[0;34m\u001b[0m\u001b[0m\n",
            "\u001b[0;32m/usr/local/lib/python3.7/dist-packages/torch/nn/functional.py\u001b[0m in \u001b[0;36mrelu\u001b[0;34m(input, inplace)\u001b[0m\n\u001b[1;32m   1438\u001b[0m         \u001b[0;32mreturn\u001b[0m \u001b[0mhandle_torch_function\u001b[0m\u001b[0;34m(\u001b[0m\u001b[0mrelu\u001b[0m\u001b[0;34m,\u001b[0m \u001b[0;34m(\u001b[0m\u001b[0minput\u001b[0m\u001b[0;34m,\u001b[0m\u001b[0;34m)\u001b[0m\u001b[0;34m,\u001b[0m \u001b[0minput\u001b[0m\u001b[0;34m,\u001b[0m \u001b[0minplace\u001b[0m\u001b[0;34m=\u001b[0m\u001b[0minplace\u001b[0m\u001b[0;34m)\u001b[0m\u001b[0;34m\u001b[0m\u001b[0;34m\u001b[0m\u001b[0m\n\u001b[1;32m   1439\u001b[0m     \u001b[0;32mif\u001b[0m \u001b[0minplace\u001b[0m\u001b[0;34m:\u001b[0m\u001b[0;34m\u001b[0m\u001b[0;34m\u001b[0m\u001b[0m\n\u001b[0;32m-> 1440\u001b[0;31m         \u001b[0mresult\u001b[0m \u001b[0;34m=\u001b[0m \u001b[0mtorch\u001b[0m\u001b[0;34m.\u001b[0m\u001b[0mrelu_\u001b[0m\u001b[0;34m(\u001b[0m\u001b[0minput\u001b[0m\u001b[0;34m)\u001b[0m\u001b[0;34m\u001b[0m\u001b[0;34m\u001b[0m\u001b[0m\n\u001b[0m\u001b[1;32m   1441\u001b[0m     \u001b[0;32melse\u001b[0m\u001b[0;34m:\u001b[0m\u001b[0;34m\u001b[0m\u001b[0;34m\u001b[0m\u001b[0m\n\u001b[1;32m   1442\u001b[0m         \u001b[0mresult\u001b[0m \u001b[0;34m=\u001b[0m \u001b[0mtorch\u001b[0m\u001b[0;34m.\u001b[0m\u001b[0mrelu\u001b[0m\u001b[0;34m(\u001b[0m\u001b[0minput\u001b[0m\u001b[0;34m)\u001b[0m\u001b[0;34m\u001b[0m\u001b[0;34m\u001b[0m\u001b[0m\n",
            "\u001b[0;31mKeyboardInterrupt\u001b[0m: "
          ]
        }
      ]
    },
    {
      "cell_type": "code",
      "source": [
        "bn_net = train_bn_classifier(bn_net, epochs, \"first_train\")"
      ],
      "metadata": {
        "colab": {
          "base_uri": "https://localhost:8080/"
        },
        "id": "jSu02Z-w7DOl",
        "outputId": "a428a0d8-f17d-4836-c0be-1997c725b339",
        "collapsed": true
      },
      "execution_count": null,
      "outputs": [
        {
          "output_type": "stream",
          "name": "stderr",
          "text": [
            "\r  0%|          | 0/1563 [00:00<?, ?it/s]/usr/local/lib/python3.7/dist-packages/torch/optim/lr_scheduler.py:136: UserWarning: Detected call of `lr_scheduler.step()` before `optimizer.step()`. In PyTorch 1.1.0 and later, you should call them in the opposite order: `optimizer.step()` before `lr_scheduler.step()`.  Failure to do this will result in PyTorch skipping the first value of the learning rate schedule. See more details at https://pytorch.org/docs/stable/optim.html#how-to-adjust-learning-rate\n",
            "  \"https://pytorch.org/docs/stable/optim.html#how-to-adjust-learning-rate\", UserWarning)\n",
            "100%|██████████| 1563/1563 [01:08<00:00, 22.86it/s]\n",
            "100%|██████████| 313/313 [00:06<00:00, 48.14it/s]\n"
          ]
        },
        {
          "output_type": "stream",
          "name": "stdout",
          "text": [
            "first_train/bn_model_epoch0.pth\n",
            "Best Model saved or kept...\n",
            "Epoch: 0\n",
            "Loss Avg: 0.6179356918979578\n",
            "Last Learning Rate: [0.009938447858805391]\n",
            "Accuracy: 70.11000061035156%\n",
            "F measure: 65.6793207780274%\n",
            "ROC measure: 78.20028125%\n",
            "PR measure: 84.62258437594721%\n"
          ]
        },
        {
          "output_type": "stream",
          "name": "stderr",
          "text": [
            "100%|██████████| 1563/1563 [01:08<00:00, 22.68it/s]\n",
            "100%|██████████| 313/313 [00:06<00:00, 48.67it/s]\n"
          ]
        },
        {
          "output_type": "stream",
          "name": "stdout",
          "text": [
            "first_train/bn_model_epoch1.pth\n",
            "Best Model saved or kept...\n",
            "Epoch: 1\n",
            "Loss Avg: 0.5445556507849456\n",
            "Last Learning Rate: [0.00975530705321762]\n",
            "Accuracy: 71.4000015258789%\n",
            "F measure: 68.76992691595079%\n",
            "ROC measure: 78.94006041666667%\n",
            "PR measure: 85.27216686311122%\n"
          ]
        },
        {
          "output_type": "stream",
          "name": "stderr",
          "text": [
            "100%|██████████| 1563/1563 [01:06<00:00, 23.39it/s]\n",
            "100%|██████████| 313/313 [00:06<00:00, 48.26it/s]\n"
          ]
        },
        {
          "output_type": "stream",
          "name": "stdout",
          "text": [
            "first_train/bn_model_epoch2.pth\n",
            "Best Model saved or kept...\n",
            "Epoch: 2\n",
            "Loss Avg: 0.6333650876292427\n",
            "Last Learning Rate: [0.009455087117679745]\n",
            "Accuracy: 72.05999755859375%\n",
            "F measure: 70.13958855302731%\n",
            "ROC measure: 79.09291666666667%\n",
            "PR measure: 85.24807585590214%\n"
          ]
        },
        {
          "output_type": "stream",
          "name": "stderr",
          "text": [
            "100%|██████████| 1563/1563 [01:07<00:00, 23.15it/s]\n",
            "100%|██████████| 313/313 [00:06<00:00, 48.55it/s]\n"
          ]
        },
        {
          "output_type": "stream",
          "name": "stdout",
          "text": [
            "first_train/bn_model_epoch3.pth\n",
            "Best Model saved or kept...\n",
            "Epoch: 3\n",
            "Loss Avg: 0.5752032683605707\n",
            "Last Learning Rate: [0.00904518046337755]\n",
            "Accuracy: 72.92999267578125%\n",
            "F measure: 71.24753178329382%\n",
            "ROC measure: 79.949775%\n",
            "PR measure: 85.95052748625689%\n"
          ]
        },
        {
          "output_type": "stream",
          "name": "stderr",
          "text": [
            "100%|██████████| 1563/1563 [01:07<00:00, 23.24it/s]\n",
            "100%|██████████| 313/313 [00:06<00:00, 49.00it/s]\n"
          ]
        },
        {
          "output_type": "stream",
          "name": "stdout",
          "text": [
            "first_train/bn_model_epoch4.pth\n",
            "Best Model saved or kept...\n",
            "Epoch: 4\n",
            "Loss Avg: 0.5964093121478664\n",
            "Last Learning Rate: [0.008535680352542145]\n",
            "Accuracy: 72.40999603271484%\n",
            "F measure: 70.0611144998081%\n",
            "ROC measure: 80.13314583333333%\n",
            "PR measure: 86.1383624837161%\n"
          ]
        },
        {
          "output_type": "stream",
          "name": "stderr",
          "text": [
            "100%|██████████| 1563/1563 [01:06<00:00, 23.39it/s]\n",
            "100%|██████████| 313/313 [00:06<00:00, 48.23it/s]\n"
          ]
        },
        {
          "output_type": "stream",
          "name": "stdout",
          "text": [
            "first_train/bn_model_epoch5.pth\n",
            "Best Model saved or kept...\n",
            "Epoch: 5\n",
            "Loss Avg: 0.5426952827221581\n",
            "Last Learning Rate: [0.00793913236883622]\n",
            "Accuracy: 71.86000061035156%\n",
            "F measure: 68.0681155435835%\n",
            "ROC measure: 80.04673541666666%\n",
            "PR measure: 86.05858306350682%\n",
            "Model saved...\n"
          ]
        },
        {
          "output_type": "stream",
          "name": "stderr",
          "text": [
            "100%|██████████| 1563/1563 [01:06<00:00, 23.38it/s]\n",
            "100%|██████████| 313/313 [00:07<00:00, 44.71it/s]\n"
          ]
        },
        {
          "output_type": "stream",
          "name": "stdout",
          "text": [
            "first_train/bn_model_epoch6.pth\n",
            "Best Model saved or kept...\n",
            "Epoch: 6\n",
            "Loss Avg: 0.5459526312937952\n",
            "Last Learning Rate: [0.007270225503447864]\n",
            "Accuracy: 72.9699935913086%\n",
            "F measure: 70.99895904180732%\n",
            "ROC measure: 80.15862916666667%\n",
            "PR measure: 86.13863986042716%\n"
          ]
        },
        {
          "output_type": "stream",
          "name": "stderr",
          "text": [
            "100%|██████████| 1563/1563 [01:06<00:00, 23.34it/s]\n",
            "100%|██████████| 313/313 [00:06<00:00, 49.13it/s]\n"
          ]
        },
        {
          "output_type": "stream",
          "name": "stdout",
          "text": [
            "first_train/bn_model_epoch7.pth\n",
            "Best Model saved or kept...\n",
            "Epoch: 7\n",
            "Loss Avg: 0.5662888933775153\n",
            "Last Learning Rate: [0.0065454304633775495]\n",
            "Accuracy: 72.99999237060547%\n",
            "F measure: 71.23360405992291%\n",
            "ROC measure: 80.27006458333334%\n",
            "PR measure: 86.35750392128294%\n"
          ]
        },
        {
          "output_type": "stream",
          "name": "stderr",
          "text": [
            "100%|██████████| 1563/1563 [01:06<00:00, 23.41it/s]\n",
            "100%|██████████| 313/313 [00:06<00:00, 48.20it/s]\n"
          ]
        },
        {
          "output_type": "stream",
          "name": "stdout",
          "text": [
            "first_train/bn_model_epoch8.pth\n",
            "Best Model saved or kept...\n",
            "Epoch: 8\n",
            "Loss Avg: 0.5275934517547824\n",
            "Last Learning Rate: [0.005782594107968635]\n",
            "Accuracy: 72.19999694824219%\n",
            "F measure: 68.87145590888069%\n",
            "ROC measure: 80.489025%\n",
            "PR measure: 86.4392871926247%\n"
          ]
        },
        {
          "output_type": "stream",
          "name": "stderr",
          "text": [
            "100%|██████████| 1563/1563 [01:07<00:00, 23.18it/s]\n",
            "100%|██████████| 313/313 [00:06<00:00, 47.88it/s]\n"
          ]
        },
        {
          "output_type": "stream",
          "name": "stdout",
          "text": [
            "first_train/bn_model_epoch9.pth\n",
            "Best Model saved or kept...\n",
            "Epoch: 9\n",
            "Loss Avg: 0.5463102977906874\n",
            "Last Learning Rate: [0.0050005]\n",
            "Accuracy: 72.87999725341797%\n",
            "F measure: 70.65426828257482%\n",
            "ROC measure: 80.65052083333335%\n",
            "PR measure: 86.52309710858097%\n"
          ]
        },
        {
          "output_type": "stream",
          "name": "stderr",
          "text": [
            "100%|██████████| 1563/1563 [01:06<00:00, 23.40it/s]\n",
            "100%|██████████| 313/313 [00:06<00:00, 48.53it/s]\n"
          ]
        },
        {
          "output_type": "stream",
          "name": "stdout",
          "text": [
            "first_train/bn_model_epoch10.pth\n",
            "Best Model saved or kept...\n",
            "Epoch: 10\n",
            "Loss Avg: 0.5439989756825585\n",
            "Last Learning Rate: [0.004218405892031365]\n",
            "Accuracy: 72.77999877929688%\n",
            "F measure: 70.20843892263734%\n",
            "ROC measure: 80.75228958333334%\n",
            "PR measure: 86.57493204564224%\n",
            "Model saved...\n"
          ]
        },
        {
          "output_type": "stream",
          "name": "stderr",
          "text": [
            "100%|██████████| 1563/1563 [01:06<00:00, 23.45it/s]\n",
            "100%|██████████| 313/313 [00:07<00:00, 42.90it/s]\n"
          ]
        },
        {
          "output_type": "stream",
          "name": "stdout",
          "text": [
            "first_train/bn_model_epoch11.pth\n",
            "Best Model saved or kept...\n",
            "Epoch: 11\n",
            "Loss Avg: 0.5982039331988924\n",
            "Last Learning Rate: [0.003455569536622451]\n",
            "Accuracy: 73.16999816894531%\n",
            "F measure: 71.23601029375602%\n",
            "ROC measure: 80.61616875%\n",
            "PR measure: 86.52891714225197%\n"
          ]
        },
        {
          "output_type": "stream",
          "name": "stderr",
          "text": [
            "100%|██████████| 1563/1563 [01:07<00:00, 23.32it/s]\n",
            "100%|██████████| 313/313 [00:06<00:00, 48.69it/s]\n"
          ]
        },
        {
          "output_type": "stream",
          "name": "stdout",
          "text": [
            "first_train/bn_model_epoch12.pth\n",
            "Best Model saved or kept...\n",
            "Epoch: 12\n",
            "Loss Avg: 0.5347134359239436\n",
            "Last Learning Rate: [0.002730774496552136]\n",
            "Accuracy: 73.04999542236328%\n",
            "F measure: 70.75915494239884%\n",
            "ROC measure: 80.65772499999999%\n",
            "PR measure: 86.5054685900898%\n"
          ]
        },
        {
          "output_type": "stream",
          "name": "stderr",
          "text": [
            "100%|██████████| 1563/1563 [01:06<00:00, 23.48it/s]\n",
            "100%|██████████| 313/313 [00:06<00:00, 49.09it/s]\n"
          ]
        },
        {
          "output_type": "stream",
          "name": "stdout",
          "text": [
            "first_train/bn_model_epoch13.pth\n",
            "Best Model saved or kept...\n",
            "Epoch: 13\n",
            "Loss Avg: 0.5266544942871996\n",
            "Last Learning Rate: [0.002061867631163781]\n",
            "Accuracy: 73.56999206542969%\n",
            "F measure: 71.904132819146%\n",
            "ROC measure: 80.87150833333334%\n",
            "PR measure: 86.66913114099049%\n"
          ]
        },
        {
          "output_type": "stream",
          "name": "stderr",
          "text": [
            "100%|██████████| 1563/1563 [01:06<00:00, 23.51it/s]\n",
            "100%|██████████| 313/313 [00:07<00:00, 41.99it/s]\n"
          ]
        },
        {
          "output_type": "stream",
          "name": "stdout",
          "text": [
            "first_train/bn_model_epoch14.pth\n",
            "Best Model saved or kept...\n",
            "Epoch: 14\n",
            "Loss Avg: 0.5939845307907226\n",
            "Last Learning Rate: [0.0014653196474578559]\n",
            "Accuracy: 73.06999206542969%\n",
            "F measure: 70.8961492795619%\n",
            "ROC measure: 80.711075%\n",
            "PR measure: 86.50142745919058%\n"
          ]
        },
        {
          "output_type": "stream",
          "name": "stderr",
          "text": [
            "100%|██████████| 1563/1563 [01:06<00:00, 23.35it/s]\n",
            "100%|██████████| 313/313 [00:06<00:00, 47.97it/s]\n"
          ]
        },
        {
          "output_type": "stream",
          "name": "stdout",
          "text": [
            "first_train/bn_model_epoch15.pth\n",
            "Best Model saved or kept...\n",
            "Epoch: 15\n",
            "Loss Avg: 0.5997469261875681\n",
            "Last Learning Rate: [0.0009558195366224508]\n",
            "Accuracy: 73.0199966430664%\n",
            "F measure: 70.53516698806415%\n",
            "ROC measure: 80.831625%\n",
            "PR measure: 86.64284733501361%\n",
            "Model saved...\n"
          ]
        },
        {
          "output_type": "stream",
          "name": "stderr",
          "text": [
            "100%|██████████| 1563/1563 [01:06<00:00, 23.45it/s]\n",
            "100%|██████████| 313/313 [00:06<00:00, 48.67it/s]\n"
          ]
        },
        {
          "output_type": "stream",
          "name": "stdout",
          "text": [
            "first_train/bn_model_epoch16.pth\n",
            "Best Model saved or kept...\n",
            "Epoch: 16\n",
            "Loss Avg: 0.6140772085861466\n",
            "Last Learning Rate: [0.0005459128823202552]\n",
            "Accuracy: 72.72999572753906%\n",
            "F measure: 70.25418924258624%\n",
            "ROC measure: 80.69403541666667%\n",
            "PR measure: 86.4964211475667%\n"
          ]
        },
        {
          "output_type": "stream",
          "name": "stderr",
          "text": [
            "100%|██████████| 1563/1563 [01:07<00:00, 23.18it/s]\n",
            "100%|██████████| 313/313 [00:06<00:00, 49.02it/s]\n"
          ]
        },
        {
          "output_type": "stream",
          "name": "stdout",
          "text": [
            "first_train/bn_model_epoch17.pth\n",
            "Best Model saved or kept...\n",
            "Epoch: 17\n",
            "Loss Avg: 0.48672344744253704\n",
            "Last Learning Rate: [0.0002456929467823799]\n",
            "Accuracy: 73.18999481201172%\n",
            "F measure: 70.8648314553321%\n",
            "ROC measure: 80.95245208333333%\n",
            "PR measure: 86.74644204514405%\n"
          ]
        },
        {
          "output_type": "stream",
          "name": "stderr",
          "text": [
            "100%|██████████| 1563/1563 [01:06<00:00, 23.55it/s]\n",
            "100%|██████████| 313/313 [00:06<00:00, 48.48it/s]\n"
          ]
        },
        {
          "output_type": "stream",
          "name": "stdout",
          "text": [
            "first_train/bn_model_epoch18.pth\n",
            "Best Model saved or kept...\n",
            "Epoch: 18\n",
            "Loss Avg: 0.5968828909972373\n",
            "Last Learning Rate: [6.255214119460927e-05]\n",
            "Accuracy: 73.17999267578125%\n",
            "F measure: 71.2451320967754%\n",
            "ROC measure: 80.68867708333333%\n",
            "PR measure: 86.53089113090053%\n"
          ]
        },
        {
          "output_type": "stream",
          "name": "stderr",
          "text": [
            "100%|██████████| 1563/1563 [01:06<00:00, 23.56it/s]\n",
            "100%|██████████| 313/313 [00:06<00:00, 48.67it/s]\n"
          ]
        },
        {
          "output_type": "stream",
          "name": "stdout",
          "text": [
            "first_train/bn_model_epoch19.pth\n",
            "Best Model saved or kept...\n",
            "Epoch: 19\n",
            "Loss Avg: 0.5351654534357209\n",
            "Last Learning Rate: [1e-06]\n",
            "Accuracy: 73.28999328613281%\n",
            "F measure: 71.31007098893821%\n",
            "ROC measure: 80.84575208333334%\n",
            "PR measure: 86.66185424160537%\n"
          ]
        }
      ]
    },
    {
      "cell_type": "code",
      "source": [
        "bn_net = train_bn_classifier(bn_net, epochs, \"third_train\")"
      ],
      "metadata": {
        "colab": {
          "base_uri": "https://localhost:8080/"
        },
        "id": "PrsAvR0Gk6s5",
        "outputId": "bf6a5e9a-3215-45c5-bd21-906437063213",
        "collapsed": true
      },
      "execution_count": null,
      "outputs": [
        {
          "output_type": "stream",
          "name": "stderr",
          "text": [
            "  0%|          | 0/1563 [00:00<?, ?it/s]/usr/local/lib/python3.7/dist-packages/torch/optim/lr_scheduler.py:136: UserWarning: Detected call of `lr_scheduler.step()` before `optimizer.step()`. In PyTorch 1.1.0 and later, you should call them in the opposite order: `optimizer.step()` before `lr_scheduler.step()`.  Failure to do this will result in PyTorch skipping the first value of the learning rate schedule. See more details at https://pytorch.org/docs/stable/optim.html#how-to-adjust-learning-rate\n",
            "  \"https://pytorch.org/docs/stable/optim.html#how-to-adjust-learning-rate\", UserWarning)\n",
            "100%|██████████| 1563/1563 [01:04<00:00, 24.22it/s]\n",
            "100%|██████████| 313/313 [00:06<00:00, 50.57it/s]\n"
          ]
        },
        {
          "output_type": "stream",
          "name": "stdout",
          "text": [
            "third_train/bn_model_epoch0.pth\n",
            "Best Model saved or kept...\n",
            "Epoch: 0\n",
            "Loss Avg: 0.5953807267183425\n",
            "Last Learning Rate: [0.009938447858805391]\n",
            "Accuracy: 71.3499984741211%\n",
            "F measure: 68.4305587827458%\n",
            "ROC measure: 78.6224125%\n",
            "PR measure: 84.76911471720317%\n"
          ]
        },
        {
          "output_type": "stream",
          "name": "stderr",
          "text": [
            "100%|██████████| 1563/1563 [01:04<00:00, 24.31it/s]\n",
            "100%|██████████| 313/313 [00:06<00:00, 50.76it/s]\n"
          ]
        },
        {
          "output_type": "stream",
          "name": "stdout",
          "text": [
            "third_train/bn_model_epoch1.pth\n",
            "Best Model saved or kept...\n",
            "Epoch: 1\n",
            "Loss Avg: 0.563549903549335\n",
            "Last Learning Rate: [0.00975530705321762]\n",
            "Accuracy: 71.51000213623047%\n",
            "F measure: 69.07696812100251%\n",
            "ROC measure: 78.93087916666667%\n",
            "PR measure: 85.0744467948303%\n"
          ]
        },
        {
          "output_type": "stream",
          "name": "stderr",
          "text": [
            "100%|██████████| 1563/1563 [01:04<00:00, 24.09it/s]\n",
            "100%|██████████| 313/313 [00:06<00:00, 51.18it/s]\n"
          ]
        },
        {
          "output_type": "stream",
          "name": "stdout",
          "text": [
            "third_train/bn_model_epoch2.pth\n",
            "Best Model saved or kept...\n",
            "Epoch: 2\n",
            "Loss Avg: 0.6106310188836663\n",
            "Last Learning Rate: [0.009455087117679745]\n",
            "Accuracy: 71.66000366210938%\n",
            "F measure: 69.61547515371419%\n",
            "ROC measure: 78.73280208333333%\n",
            "PR measure: 84.9464908901902%\n"
          ]
        },
        {
          "output_type": "stream",
          "name": "stderr",
          "text": [
            "100%|██████████| 1563/1563 [01:04<00:00, 24.39it/s]\n",
            "100%|██████████| 313/313 [00:06<00:00, 51.13it/s]\n"
          ]
        },
        {
          "output_type": "stream",
          "name": "stdout",
          "text": [
            "third_train/bn_model_epoch3.pth\n",
            "Best Model saved or kept...\n",
            "Epoch: 3\n",
            "Loss Avg: 0.5701608250013518\n",
            "Last Learning Rate: [0.00904518046337755]\n",
            "Accuracy: 71.70999908447266%\n",
            "F measure: 68.88536043670305%\n",
            "ROC measure: 79.28789166666668%\n",
            "PR measure: 85.47112841384002%\n"
          ]
        },
        {
          "output_type": "stream",
          "name": "stderr",
          "text": [
            "100%|██████████| 1563/1563 [01:03<00:00, 24.44it/s]\n",
            "100%|██████████| 313/313 [00:06<00:00, 51.23it/s]\n"
          ]
        },
        {
          "output_type": "stream",
          "name": "stdout",
          "text": [
            "third_train/bn_model_epoch4.pth\n",
            "Best Model saved or kept...\n",
            "Epoch: 4\n",
            "Loss Avg: 0.5633364363130926\n",
            "Last Learning Rate: [0.008535680352542145]\n",
            "Accuracy: 71.04000091552734%\n",
            "F measure: 67.59626014295242%\n",
            "ROC measure: 78.97723958333333%\n",
            "PR measure: 85.17939568377938%\n"
          ]
        },
        {
          "output_type": "stream",
          "name": "stderr",
          "text": [
            "100%|██████████| 1563/1563 [01:03<00:00, 24.49it/s]\n",
            "100%|██████████| 313/313 [00:06<00:00, 51.32it/s]\n"
          ]
        },
        {
          "output_type": "stream",
          "name": "stdout",
          "text": [
            "third_train/bn_model_epoch5.pth\n",
            "Best Model saved or kept...\n",
            "Epoch: 5\n",
            "Loss Avg: 0.5081204427399341\n",
            "Last Learning Rate: [0.00793913236883622]\n",
            "Accuracy: 71.54000091552734%\n",
            "F measure: 68.54864390947031%\n",
            "ROC measure: 79.26372083333332%\n",
            "PR measure: 85.44319933538198%\n",
            "Model saved...\n"
          ]
        },
        {
          "output_type": "stream",
          "name": "stderr",
          "text": [
            "100%|██████████| 1563/1563 [01:04<00:00, 24.37it/s]\n",
            "100%|██████████| 313/313 [00:06<00:00, 49.12it/s]\n"
          ]
        },
        {
          "output_type": "stream",
          "name": "stdout",
          "text": [
            "third_train/bn_model_epoch6.pth\n",
            "Best Model saved or kept...\n",
            "Epoch: 6\n",
            "Loss Avg: 0.5558531873238268\n",
            "Last Learning Rate: [0.007270225503447864]\n",
            "Accuracy: 71.19999694824219%\n",
            "F measure: 68.01857907346358%\n",
            "ROC measure: 79.02273958333333%\n",
            "PR measure: 85.25253940621103%\n"
          ]
        },
        {
          "output_type": "stream",
          "name": "stderr",
          "text": [
            "100%|██████████| 1563/1563 [01:06<00:00, 23.40it/s]\n",
            "100%|██████████| 313/313 [00:06<00:00, 46.35it/s]\n"
          ]
        },
        {
          "output_type": "stream",
          "name": "stdout",
          "text": [
            "third_train/bn_model_epoch7.pth\n",
            "Best Model saved or kept...\n",
            "Epoch: 7\n",
            "Loss Avg: 0.5823721537415821\n",
            "Last Learning Rate: [0.0065454304633775495]\n",
            "Accuracy: 71.7300033569336%\n",
            "F measure: 69.24030238512783%\n",
            "ROC measure: 79.31277083333333%\n",
            "PR measure: 85.48959804570802%\n"
          ]
        },
        {
          "output_type": "stream",
          "name": "stderr",
          "text": [
            "100%|██████████| 1563/1563 [01:06<00:00, 23.36it/s]\n",
            "100%|██████████| 313/313 [00:06<00:00, 46.91it/s]\n"
          ]
        },
        {
          "output_type": "stream",
          "name": "stdout",
          "text": [
            "third_train/bn_model_epoch8.pth\n",
            "Best Model saved or kept...\n",
            "Epoch: 8\n",
            "Loss Avg: 0.5156127871973081\n",
            "Last Learning Rate: [0.005782594107968635]\n",
            "Accuracy: 71.45999908447266%\n",
            "F measure: 68.46023531891365%\n",
            "ROC measure: 79.33325208333332%\n",
            "PR measure: 85.57979534463355%\n"
          ]
        },
        {
          "output_type": "stream",
          "name": "stderr",
          "text": [
            "100%|██████████| 1563/1563 [01:06<00:00, 23.65it/s]\n",
            "100%|██████████| 313/313 [00:06<00:00, 48.88it/s]\n"
          ]
        },
        {
          "output_type": "stream",
          "name": "stdout",
          "text": [
            "third_train/bn_model_epoch9.pth\n",
            "Best Model saved or kept...\n",
            "Epoch: 9\n",
            "Loss Avg: 0.5722348490903024\n",
            "Last Learning Rate: [0.0050005]\n",
            "Accuracy: 71.08000183105469%\n",
            "F measure: 67.46337300596717%\n",
            "ROC measure: 79.27052291666668%\n",
            "PR measure: 85.49530968461286%\n"
          ]
        },
        {
          "output_type": "stream",
          "name": "stderr",
          "text": [
            "100%|██████████| 1563/1563 [01:06<00:00, 23.37it/s]\n",
            "100%|██████████| 313/313 [00:06<00:00, 48.19it/s]\n"
          ]
        },
        {
          "output_type": "stream",
          "name": "stdout",
          "text": [
            "third_train/bn_model_epoch10.pth\n",
            "Best Model saved or kept...\n",
            "Epoch: 10\n",
            "Loss Avg: 0.5507951933596305\n",
            "Last Learning Rate: [0.004218405892031365]\n",
            "Accuracy: 71.69000244140625%\n",
            "F measure: 69.03732583728195%\n",
            "ROC measure: 79.24490208333333%\n",
            "PR measure: 85.57590387224708%\n",
            "Model saved...\n"
          ]
        },
        {
          "output_type": "stream",
          "name": "stderr",
          "text": [
            "100%|██████████| 1563/1563 [01:05<00:00, 23.94it/s]\n",
            "100%|██████████| 313/313 [00:06<00:00, 49.25it/s]\n"
          ]
        },
        {
          "output_type": "stream",
          "name": "stdout",
          "text": [
            "third_train/bn_model_epoch11.pth\n",
            "Best Model saved or kept...\n",
            "Epoch: 11\n",
            "Loss Avg: 0.57952615519487\n",
            "Last Learning Rate: [0.003455569536622451]\n",
            "Accuracy: 71.41000366210938%\n",
            "F measure: 68.18685468150241%\n",
            "ROC measure: 79.18585625%\n",
            "PR measure: 85.38253737964105%\n"
          ]
        },
        {
          "output_type": "stream",
          "name": "stderr",
          "text": [
            "100%|██████████| 1563/1563 [01:05<00:00, 23.89it/s]\n",
            "100%|██████████| 313/313 [00:06<00:00, 47.35it/s]\n"
          ]
        },
        {
          "output_type": "stream",
          "name": "stdout",
          "text": [
            "third_train/bn_model_epoch12.pth\n",
            "Best Model saved or kept...\n",
            "Epoch: 12\n",
            "Loss Avg: 0.5593776369564475\n",
            "Last Learning Rate: [0.002730774496552136]\n",
            "Accuracy: 71.54000091552734%\n",
            "F measure: 68.45772832426395%\n",
            "ROC measure: 79.24120416666666%\n",
            "PR measure: 85.42617301959115%\n"
          ]
        },
        {
          "output_type": "stream",
          "name": "stderr",
          "text": [
            "100%|██████████| 1563/1563 [01:05<00:00, 23.77it/s]\n",
            "100%|██████████| 313/313 [00:06<00:00, 48.13it/s]\n"
          ]
        },
        {
          "output_type": "stream",
          "name": "stdout",
          "text": [
            "third_train/bn_model_epoch13.pth\n",
            "Best Model saved or kept...\n",
            "Epoch: 13\n",
            "Loss Avg: 0.5606705471376754\n",
            "Last Learning Rate: [0.002061867631163781]\n",
            "Accuracy: 71.86000061035156%\n",
            "F measure: 69.49203390820576%\n",
            "ROC measure: 79.4076125%\n",
            "PR measure: 85.60291697834322%\n"
          ]
        },
        {
          "output_type": "stream",
          "name": "stderr",
          "text": [
            "100%|██████████| 1563/1563 [01:04<00:00, 24.12it/s]\n",
            "100%|██████████| 313/313 [00:06<00:00, 50.86it/s]\n"
          ]
        },
        {
          "output_type": "stream",
          "name": "stdout",
          "text": [
            "third_train/bn_model_epoch14.pth\n",
            "Best Model saved or kept...\n",
            "Epoch: 14\n",
            "Loss Avg: 0.5518628823866768\n",
            "Last Learning Rate: [0.0014653196474578559]\n",
            "Accuracy: 71.73999786376953%\n",
            "F measure: 69.3619359717802%\n",
            "ROC measure: 79.41239375%\n",
            "PR measure: 85.5184308119483%\n"
          ]
        },
        {
          "output_type": "stream",
          "name": "stderr",
          "text": [
            "100%|██████████| 1563/1563 [01:03<00:00, 24.50it/s]\n",
            "100%|██████████| 313/313 [00:06<00:00, 50.68it/s]\n"
          ]
        },
        {
          "output_type": "stream",
          "name": "stdout",
          "text": [
            "third_train/bn_model_epoch15.pth\n",
            "Best Model saved or kept...\n",
            "Epoch: 15\n",
            "Loss Avg: 0.5673094091401918\n",
            "Last Learning Rate: [0.0009558195366224508]\n",
            "Accuracy: 71.7300033569336%\n",
            "F measure: 69.12831700918018%\n",
            "ROC measure: 79.45271041666668%\n",
            "PR measure: 85.6359312341159%\n",
            "Model saved...\n"
          ]
        },
        {
          "output_type": "stream",
          "name": "stderr",
          "text": [
            "100%|██████████| 1563/1563 [01:04<00:00, 24.36it/s]\n",
            "100%|██████████| 313/313 [00:06<00:00, 51.02it/s]\n"
          ]
        },
        {
          "output_type": "stream",
          "name": "stdout",
          "text": [
            "third_train/bn_model_epoch16.pth\n",
            "Best Model saved or kept...\n",
            "Epoch: 16\n",
            "Loss Avg: 0.5326054525088196\n",
            "Last Learning Rate: [0.0005459128823202552]\n",
            "Accuracy: 71.22000122070312%\n",
            "F measure: 67.7693967757033%\n",
            "ROC measure: 79.300175%\n",
            "PR measure: 85.4306584083494%\n"
          ]
        },
        {
          "output_type": "stream",
          "name": "stderr",
          "text": [
            "100%|██████████| 1563/1563 [01:04<00:00, 24.35it/s]\n",
            "100%|██████████| 313/313 [00:06<00:00, 50.72it/s]\n"
          ]
        },
        {
          "output_type": "stream",
          "name": "stdout",
          "text": [
            "third_train/bn_model_epoch17.pth\n",
            "Best Model saved or kept...\n",
            "Epoch: 17\n",
            "Loss Avg: 0.568663076662952\n",
            "Last Learning Rate: [0.0002456929467823799]\n",
            "Accuracy: 71.87999725341797%\n",
            "F measure: 69.43182547007265%\n",
            "ROC measure: 79.33653125%\n",
            "PR measure: 85.58301448866885%\n"
          ]
        },
        {
          "output_type": "stream",
          "name": "stderr",
          "text": [
            "100%|██████████| 1563/1563 [01:04<00:00, 24.32it/s]\n",
            "100%|██████████| 313/313 [00:06<00:00, 50.44it/s]\n"
          ]
        },
        {
          "output_type": "stream",
          "name": "stdout",
          "text": [
            "third_train/bn_model_epoch18.pth\n",
            "Best Model saved or kept...\n",
            "Epoch: 18\n",
            "Loss Avg: 0.5297629081493563\n",
            "Last Learning Rate: [6.255214119460927e-05]\n",
            "Accuracy: 71.66000366210938%\n",
            "F measure: 68.79511027966585%\n",
            "ROC measure: 79.42214583333332%\n",
            "PR measure: 85.56303276932637%\n"
          ]
        },
        {
          "output_type": "stream",
          "name": "stderr",
          "text": [
            "100%|██████████| 1563/1563 [01:04<00:00, 24.11it/s]\n",
            "100%|██████████| 313/313 [00:06<00:00, 50.26it/s]"
          ]
        },
        {
          "output_type": "stream",
          "name": "stdout",
          "text": [
            "third_train/bn_model_epoch19.pth\n",
            "Best Model saved or kept...\n",
            "Epoch: 19\n",
            "Loss Avg: 0.5426249430382393\n",
            "Last Learning Rate: [1e-06]\n",
            "Accuracy: 71.2300033569336%\n",
            "F measure: 67.90885928643827%\n",
            "ROC measure: 79.37006458333333%\n",
            "PR measure: 85.51335850331097%\n"
          ]
        },
        {
          "output_type": "stream",
          "name": "stderr",
          "text": [
            "\n"
          ]
        }
      ]
    },
    {
      "cell_type": "code",
      "source": [
        "bn_net = train_bn_classifier(bn_net, epochs, \"second_train\")"
      ],
      "metadata": {
        "id": "JcV2Nbxi_K_R"
      },
      "execution_count": null,
      "outputs": []
    },
    {
      "cell_type": "code",
      "source": [
        "def build_binary_classifier_from_bnpath(model_path): \n",
        "  bn_classifier = torchvision.models.resnet50(pretrained = False)\n",
        "\n",
        "  # bn_classifier.fc = nn.Linear(bn_classifier.fc.in_features, 1, bias = True)\n",
        "\n",
        "  bn_classifier.fc = nn.Sequential(\n",
        "      nn.Linear(bn_classifier.fc.in_features, 512), \n",
        "      nn.ReLU(inplace = True),\n",
        "      nn.Dropout(), \n",
        "      nn.Linear(512, 128), \n",
        "      nn.ReLU(inplace = True), \n",
        "      nn.Dropout(), \n",
        "      nn.Linear(128, 32), \n",
        "      nn.ReLU(inplace = True), \n",
        "      nn.Dropout(),\n",
        "      nn.Linear(32, 1)\n",
        "  )\n",
        "\n",
        "  model_state_dict = torch.load(model_path)\n",
        "  bn_classifier.load_state_dict(model_state_dict, strict = True)\n",
        "\n",
        "  return bn_classifier\n",
        "\n",
        "\n",
        "def evaluate_bn_roc_pr(model_path, data_loader):\n",
        "\n",
        "  net = build_binary_classifier_from_bnpath(model_path)\n",
        "\n",
        "  '''Only will find ROC and PR Metrics'''\n",
        "\n",
        "  net = net.cuda()\n",
        "\n",
        "  stacked_outs = list()\n",
        "  stacked_targets = list()\n",
        "  stacked_preds = list()\n",
        "\n",
        "  for data, target in tqdm(data_loader): \n",
        "      data, target = data.cuda(), target.cuda()\n",
        "      net.eval()\n",
        "\n",
        "      #forward\n",
        "      x = net(data.float())\n",
        "      x = x.squeeze(-1)\n",
        "      assert x.size(0) == target.size(0)\n",
        "      pred = torch.round(torch.sigmoid(x))\n",
        "\n",
        "      stacked_outs.extend(x.tolist()) \n",
        "      stacked_targets.extend(target.tolist()) # Only 0's and 1's\n",
        "      stacked_preds.extend(pred.tolist())\n",
        "  \n",
        "  roc_measure = roc(stacked_outs, stacked_targets)['auc'] * 100\n",
        "  pr_measure = pr(stacked_outs, stacked_targets)['auc'] * 100\n",
        "  f_measure = F_measure(stacked_preds, stacked_targets) * 100\n",
        "\n",
        "  print(\"\\n\")\n",
        "  print(\"ROC AU value: {}%\".format(roc_measure))\n",
        "  print(\"PR AU value: {}%\".format(pr_measure))\n",
        "  print(\"F Measure: {}% - Predictions through rounding\".format(f_measure))\n",
        "\n",
        "  return roc_measure, pr_measure\n"
      ],
      "metadata": {
        "id": "Ch3sIjZ-_XiS"
      },
      "execution_count": null,
      "outputs": []
    },
    {
      "cell_type": "markdown",
      "source": [
        "ReRun binary classifier on closed vs open set dataset "
      ],
      "metadata": {
        "id": "rjkoENOJUw4q"
      }
    },
    {
      "cell_type": "code",
      "source": [
        "# Run validation with bn_model_weights not just normal model weights\n",
        "\n",
        "roc_pr_bn_metrics = evaluate_bn_roc_pr(\"/content/drive/MyDrive/Unknown_Detection/Final_bn_model.pth\", test_mixedCIFARLoader)"
      ],
      "metadata": {
        "colab": {
          "base_uri": "https://localhost:8080/"
        },
        "id": "sXcvwyY3BvVT",
        "outputId": "b45e96f7-d182-482b-db52-677ddbd86f3e"
      },
      "execution_count": null,
      "outputs": [
        {
          "output_type": "stream",
          "name": "stderr",
          "text": [
            "100%|██████████| 313/313 [00:05<00:00, 53.01it/s]"
          ]
        },
        {
          "output_type": "stream",
          "name": "stdout",
          "text": [
            "\n",
            "\n",
            "ROC AU value: 80.97612083333334%\n",
            "PR AU value: 86.80046317453748%\n",
            "F Measure: 70.16400912343705% - Predictions through rounding\n"
          ]
        },
        {
          "output_type": "stream",
          "name": "stderr",
          "text": [
            "\n"
          ]
        }
      ]
    },
    {
      "cell_type": "markdown",
      "source": [
        "Run binary classifier on Uniform Noise Loader"
      ],
      "metadata": {
        "id": "P5hLHU9qUnVp"
      }
    },
    {
      "cell_type": "code",
      "source": [
        "roc_pr_bn_metrics = evaluate_bn_roc_pr(\"/content/drive/MyDrive/Unknown_Detection/Final_bn_model.pth\", uniformDisLoader)"
      ],
      "metadata": {
        "id": "AVyUnSmzGte4",
        "colab": {
          "base_uri": "https://localhost:8080/"
        },
        "outputId": "55ac52e8-1bd2-4463-a3d7-b89678de7af0"
      },
      "execution_count": null,
      "outputs": [
        {
          "output_type": "stream",
          "name": "stderr",
          "text": [
            "100%|██████████| 7/7 [00:00<00:00, 45.43it/s]"
          ]
        },
        {
          "output_type": "stream",
          "name": "stdout",
          "text": [
            "\n",
            "\n",
            "ROC AU value: 55.779999999999994%\n",
            "PR AU value: 71.14286610845757%\n",
            "F Measure: 31.03448275862069% - Predictions through rounding\n"
          ]
        },
        {
          "output_type": "stream",
          "name": "stderr",
          "text": [
            "\n"
          ]
        }
      ]
    },
    {
      "cell_type": "markdown",
      "source": [
        "Run binary classifier on Normal (Gaussian) Noise Loader"
      ],
      "metadata": {
        "id": "UlV32fiUU4Sl"
      }
    },
    {
      "cell_type": "code",
      "source": [
        "roc_pr_bn_metrics = evaluate_bn_roc_pr(\"/content/drive/MyDrive/Unknown_Detection/Final_bn_model.pth\", normalDisLoader)"
      ],
      "metadata": {
        "id": "1MJc9u4xAVk_",
        "colab": {
          "base_uri": "https://localhost:8080/"
        },
        "outputId": "341c7fe8-d366-4c0a-a49a-03dec4860995"
      },
      "execution_count": null,
      "outputs": [
        {
          "output_type": "stream",
          "name": "stderr",
          "text": [
            "100%|██████████| 7/7 [00:00<00:00, 31.53it/s]"
          ]
        },
        {
          "output_type": "stream",
          "name": "stdout",
          "text": [
            "\n",
            "\n",
            "ROC AU value: 94.43%\n",
            "PR AU value: 95.85060393868599%\n",
            "F Measure: 90.999099909991% - Predictions through rounding\n"
          ]
        },
        {
          "output_type": "stream",
          "name": "stderr",
          "text": [
            "\n"
          ]
        }
      ]
    },
    {
      "cell_type": "markdown",
      "source": [
        "Run binary classifier on Heavy Transform (Flipping, Gaussian Blur, and Raining affect) closedset."
      ],
      "metadata": {
        "id": "nuMP0c7lV5cQ"
      }
    },
    {
      "cell_type": "code",
      "source": [
        "roc_pr_bn_metrics = evaluate_bn_roc_pr(\"/content/drive/MyDrive/Unknown_Detection/Final_bn_model.pth\", closed_set_heavy_TransformsLoader)"
      ],
      "metadata": {
        "colab": {
          "base_uri": "https://localhost:8080/"
        },
        "id": "YboxEY4xVnfV",
        "outputId": "124dad23-9dfd-4473-84de-543a1c24a861"
      },
      "execution_count": null,
      "outputs": [
        {
          "output_type": "stream",
          "name": "stderr",
          "text": [
            "100%|██████████| 188/188 [00:25<00:00,  7.46it/s]"
          ]
        },
        {
          "output_type": "stream",
          "name": "stdout",
          "text": [
            "\n",
            "\n",
            "ROC AU value: 54.799200000000006%\n",
            "PR AU value: 57.55038407843524%\n",
            "F Measure: 46.262499999999996% - Predictions through rounding\n"
          ]
        },
        {
          "output_type": "stream",
          "name": "stderr",
          "text": [
            "\n"
          ]
        }
      ]
    },
    {
      "cell_type": "markdown",
      "source": [
        "Run binary classifier on SVHN + CIFAR (test closedset) Dataset"
      ],
      "metadata": {
        "id": "AT4v0C5UN_4-"
      }
    },
    {
      "cell_type": "code",
      "source": [
        "roc_pr_bn_metrics = evaluate_bn_roc_pr(\"/content/drive/MyDrive/Unknown_Detection/Final_bn_model.pth\", newDatasetAndCIFARLoader)"
      ],
      "metadata": {
        "colab": {
          "base_uri": "https://localhost:8080/"
        },
        "id": "w-diSva-OAgr",
        "outputId": "a94db8a6-5c26-4987-9091-a5d61c4ec763"
      },
      "execution_count": null,
      "outputs": [
        {
          "output_type": "stream",
          "name": "stderr",
          "text": [
            "100%|██████████| 375/375 [00:07<00:00, 46.96it/s]"
          ]
        },
        {
          "output_type": "stream",
          "name": "stdout",
          "text": [
            "\n",
            "\n",
            "ROC AU value: 52.76732916666666%\n",
            "PR AU value: 59.652033227903544%\n",
            "F Measure: 32.49806476062848% - Predictions through rounding\n"
          ]
        },
        {
          "output_type": "stream",
          "name": "stderr",
          "text": [
            "\n"
          ]
        }
      ]
    },
    {
      "cell_type": "code",
      "source": [],
      "metadata": {
        "id": "7AhF3tuKWouG"
      },
      "execution_count": null,
      "outputs": []
    },
    {
      "cell_type": "code",
      "source": [
        "roc([0, 1, 0], [0, 1, 0])"
      ],
      "metadata": {
        "colab": {
          "base_uri": "https://localhost:8080/"
        },
        "id": "6-_M67yzWoYl",
        "outputId": "e6ff0053-5cea-4ff8-a32e-12e9040258f5"
      },
      "execution_count": null,
      "outputs": [
        {
          "output_type": "execute_result",
          "data": {
            "text/plain": [
              "{'auc': 1.0, 'fp': [0.0, 0.0, 1.0], 'thresh': [2, 1, 0], 'tp': [0.0, 1.0, 1.0]}"
            ]
          },
          "metadata": {},
          "execution_count": 20
        }
      ]
    },
    {
      "cell_type": "code",
      "source": [
        "a"
      ],
      "metadata": {
        "colab": {
          "base_uri": "https://localhost:8080/"
        },
        "id": "YnOpYGg8W7Wn",
        "outputId": "d9c5abc0-b1f5-42cf-c957-cc6f3a18bece"
      },
      "execution_count": null,
      "outputs": [
        {
          "output_type": "execute_result",
          "data": {
            "text/plain": [
              "[]"
            ]
          },
          "metadata": {},
          "execution_count": 32
        }
      ]
    },
    {
      "cell_type": "code",
      "source": [
        "[\"IAA\"]"
      ],
      "metadata": {
        "id": "x9f13Lag7N7H"
      },
      "execution_count": null,
      "outputs": []
    },
    {
      "cell_type": "code",
      "source": [
        "ccr(scores, target)"
      ],
      "metadata": {
        "colab": {
          "base_uri": "https://localhost:8080/"
        },
        "id": "znTFc7IB7AuT",
        "outputId": "d5672201-c497-4d4e-f1ab-19058e33aa4d"
      },
      "execution_count": null,
      "outputs": [
        {
          "output_type": "stream",
          "name": "stderr",
          "text": [
            "/usr/local/lib/python3.7/dist-packages/ipykernel_launcher.py:91: RuntimeWarning: invalid value encountered in true_divide\n"
          ]
        },
        {
          "output_type": "execute_result",
          "data": {
            "text/plain": [
              "{'auc': nan, 'ccr': [nan, nan], 'fpr': [0.5, 1.0], 'thresh': [0.7, 0.5]}"
            ]
          },
          "metadata": {},
          "execution_count": 60
        }
      ]
    },
    {
      "cell_type": "code",
      "source": [
        "# You need atleast 2 zero's predictions\n",
        "\n",
        "scores = np.array([[0.7, 0.1], [0.5, 0.1]])\n",
        "target = np.array([0, 0])\n",
        "\n",
        "ccr(scores, target)\n",
        "\n",
        "def calculate_ccr(bn_model_path, kway_model_path, form, data_loader): \n",
        "\n",
        "  '''Only will plot CCR Metrics'''\n",
        "  pred_list = list()\n",
        "  labels_list = list()\n",
        "\n",
        "  ''''Build binary classifier turn on eval'''\n",
        "  bn_net = build_binary_classifier_from_bnpath(bn_model_path)\n",
        "  bn_net = bn_net.cuda()\n",
        "  bn_net.eval()\n",
        "\n",
        "  '''Build kway model path function already turns Eval Mode'''\n",
        "  k_net = build_max_model(kway_model_path).cuda()\n",
        "\n",
        "  for data, target in tqdm(data_loader): \n",
        "\n",
        "\n",
        "    curr_pred_list = list()\n",
        "\n",
        "    data, target = data.cuda(), target.cuda()\n",
        "    bn_x = torch.sigmoid(bn_net(data.float())) # [0.5, 0.9]\n",
        "    bn_x = bn_x.squeeze(-1)\n",
        "\n",
        "    assert len(bn_x) == len(target)\n",
        "\n",
        "    k_x = k_net(data.float())\n",
        "    if form == \"softmax\":\n",
        "      # Softmax Probability\n",
        "      k_x = F.softmax(k_x, dim=1)\n",
        "      assert sum(k_x[0]).item() > 0.99 and sum(k_x[0]).item() < 1.001\n",
        "    \n",
        "    k_x = k_x.tolist()\n",
        "    \n",
        "    labels = list()\n",
        "\n",
        "    for t in target:\n",
        "      if t[0] == 0: \n",
        "        labels.append(0)\n",
        "      else: \n",
        "        labels.append(int(t[1] + 1))\n",
        "    \n",
        "    assert len(bn_x) == len(k_x) == len(labels)\n",
        "\n",
        "    for ind in range(len(bn_x)): \n",
        "      single_pred = list()\n",
        "      single_pred.append(float(bn_x[ind]))\n",
        "      single_pred.extend(k_x[ind])\n",
        "      curr_pred_list.append(single_pred)\n",
        "    \n",
        "    pred_list.extend(curr_pred_list)\n",
        "    labels_list.extend(labels)\n",
        "\n",
        "\n",
        "  metrics_dict = ccr(np.array(pred_list), np.array(labels_list))\n",
        "  assert len(metrics_dict[\"ccr\"]) == len(metrics_dict[\"fpr\"])\n",
        "\n",
        "  plt.scatter(metrics_dict[\"fpr\"], metrics_dict[\"ccr\"], c = \"red\", marker = 'x', s = 4)\n"
      ],
      "metadata": {
        "colab": {
          "base_uri": "https://localhost:8080/"
        },
        "id": "euyvGdgqSG5r",
        "outputId": "510111c1-2e6d-419b-cb34-cc7fd90de62e"
      },
      "execution_count": null,
      "outputs": [
        {
          "output_type": "stream",
          "name": "stderr",
          "text": [
            "/usr/local/lib/python3.7/dist-packages/ipykernel_launcher.py:91: RuntimeWarning: invalid value encountered in true_divide\n"
          ]
        }
      ]
    },
    {
      "cell_type": "code",
      "source": [
        "calculate_ccr(\"/content/drive/MyDrive/Unknown_Detection/Final_bn_model.pth\", \"/content/drive/MyDrive/Unknown_Detection/model_epoch15.pth\", \"logits\", OSR_newDatasetAndCIFARLoader)\n",
        "\n"
      ],
      "metadata": {
        "colab": {
          "base_uri": "https://localhost:8080/",
          "height": 285
        },
        "id": "8hiQ_iDxN3FD",
        "outputId": "0066a161-df85-440e-b9ec-341f94b47a2a"
      },
      "execution_count": null,
      "outputs": [
        {
          "output_type": "stream",
          "name": "stderr",
          "text": [
            "100%|██████████| 375/375 [00:12<00:00, 30.73it/s]\n"
          ]
        },
        {
          "output_type": "display_data",
          "data": {
            "text/plain": [
              "<Figure size 432x288 with 1 Axes>"
            ],
            "image/png": "[encoded data removed]"
          },
          "metadata": {
            "needs_background": "light"
          }
        }
      ]
    },
    {
      "cell_type": "code",
      "source": [
        "calculate_ccr(\"/content/drive/MyDrive/Unknown_Detection/Final_bn_model.pth\", \"/content/drive/MyDrive/Unknown_Detection/model_epoch15.pth\", \"softmax\", OSR_newDatasetAndCIFARLoader)\n"
      ],
      "metadata": {
        "colab": {
          "base_uri": "https://localhost:8080/",
          "height": 283
        },
        "id": "Sb3G85SyzgpC",
        "outputId": "856d83c0-8ba5-4210-c4b8-bfd81d4ec3e8"
      },
      "execution_count": null,
      "outputs": [
        {
          "output_type": "stream",
          "name": "stderr",
          "text": [
            "100%|██████████| 375/375 [00:11<00:00, 31.40it/s]\n"
          ]
        },
        {
          "output_type": "display_data",
          "data": {
            "text/plain": [
              "<Figure size 432x288 with 1 Axes>"
            ],
            "image/png": "[encoded data removed]"
          },
          "metadata": {
            "needs_background": "light"
          }
        }
      ]
    },
    {
      "cell_type": "markdown",
      "source": [
        "# Train and Validate with Outlier Exposure: "
      ],
      "metadata": {
        "id": "cwKmsUcXzBQJ"
      }
    },
    {
      "cell_type": "code",
      "source": [
        "epochs = 20\n",
        "def cosine_annealing(step, total_steps, lr_max, lr_min):\n",
        "    return lr_min + (lr_max - lr_min) * 0.5 * (\n",
        "            1 + np.cos(step / total_steps * np.pi))\n",
        "    \n",
        "def train_bn_classifier_OE(net, epochs, folder_weights, train_data_loader, valid_data_loader):\n",
        "\n",
        "  if os.path.exists(folder_weights): \n",
        "    raise RuntimeError(\"Folder already exists\")\n",
        "\n",
        "  os.mkdir(folder_weights)\n",
        "\n",
        "  top_paths = {}\n",
        "  best_model = {}\n",
        "\n",
        "  lr = 0.001\n",
        "  net = net.cuda()\n",
        "  bn_optimizer = torch.optim.SGD(\n",
        "  net.fc.parameters(), lr, momentum=0.9, \n",
        "  weight_decay=0.0005, nesterov=True)\n",
        "\n",
        "  scheduler = torch.optim.lr_scheduler.LambdaLR(\n",
        "    bn_optimizer,\n",
        "    lr_lambda=lambda step: cosine_annealing(\n",
        "        step,\n",
        "        epochs * len(train_data_loader),\n",
        "        1,  # since lr_lambda computes multiplicative factor\n",
        "        1e-6 / lr))\n",
        "  \n",
        "  model_path = \"\"\n",
        "  for e in range(epochs): \n",
        "    correct = 0\n",
        "    num_of_data = 0\n",
        "    model_path = os.path.join(folder_weights, \"bn_model_epoch{}.pth\".format(e))\n",
        "    net.train()  # enter train mode\n",
        "    loss_avg = 0.0\n",
        "    for data, target in tqdm(train_data_loader):\n",
        "      target = target.unsqueeze(1)\n",
        "      data, target = data.cuda(), target.cuda()\n",
        "      \n",
        "      # forward\n",
        "      x = net(data)\n",
        "\n",
        "      # backward\n",
        "      scheduler.step()\n",
        "      bn_optimizer.zero_grad()\n",
        "      loss = nn.BCEWithLogitsLoss()(x, target.float())\n",
        "      loss.backward()\n",
        "      bn_optimizer.step()\n",
        "\n",
        "      # exponential moving average\n",
        "      loss_avg = loss_avg * 0.8 + float(loss) * 0.2\n",
        "    \n",
        "    stacked_pred = list()\n",
        "    stacked_target = list()\n",
        "    stacked_outs = list()\n",
        "    # stacked_confidence\n",
        "\n",
        "    for data, target in tqdm(valid_data_loader): \n",
        "      data, target = data.cuda(), target.cuda()\n",
        "      net.eval()\n",
        "      num_of_data += data.size(0)\n",
        "\n",
        "      #forward\n",
        "      x = net(data)\n",
        "      x = torch.sigmoid(x)\n",
        "      x = x.squeeze(-1)\n",
        "\n",
        "      pred = torch.round(x)\n",
        "\n",
        "      stacked_outs.extend(x.tolist())\n",
        "      stacked_pred.extend(pred.tolist()) # Only 0's and 1's\n",
        "      stacked_target.extend(target.tolist())\n",
        "      correct += torch.sum(pred == target)\n",
        "\n",
        "    f_measure = F_measure(stacked_pred, stacked_target) * 100\n",
        "\n",
        "    roc_measure = roc(stacked_outs, stacked_target)['auc'] * 100\n",
        "    pr_measure = pr(stacked_outs, stacked_target)['auc'] * 100\n",
        "\n",
        "    accuracy = (correct / num_of_data) * 100\n",
        "\n",
        "    top_paths[model_path] = \"{} f_measure, {} roc_measure, {} pr_measure, {} accuracy\".format(f_measure, roc_measure, pr_measure, accuracy)\n",
        "    print(model_path)\n",
        "    best_model[model_path] = roc_measure\n",
        "    sorted_best_model = sorted(best_model, key = best_model.get, reverse = True)\n",
        "    '''Clean all the lower roc models'''\n",
        "    saved_paths = glob.glob(os.path.join(folder_weights, \"*.pth\"))\n",
        "    for pth in saved_paths: \n",
        "      if pth not in sorted_best_model[:3]: \n",
        "        os.remove(pth)\n",
        "\n",
        "    for m_pf in sorted_best_model[:3]: \n",
        "      if not os.path.isfile(m_pf): \n",
        "        torch.save(net.state_dict(), model_path)\n",
        "    \n",
        "    assert len(glob.glob(os.path.join(folder_weights, \"*.pth\"))) <= 3\n",
        "    print(\"Best Model saved or kept...\")\n",
        "\n",
        "    print(\"Epoch: {}\".format(e))\n",
        "    print(\"Loss Avg: {}\".format(loss_avg))\n",
        "    print(\"Last Learning Rate: {}\".format(scheduler.get_last_lr()))\n",
        "    print(\"Accuracy: {}%\".format(accuracy))\n",
        "    print(\"F measure: {}%\".format(f_measure))\n",
        "    print(\"ROC measure: {}%\".format(roc_measure))\n",
        "    print(\"PR measure: {}%\".format(pr_measure))\n",
        "\n",
        "    if (e % 5 == 0) and (e != 0): \n",
        "      torch.save(net.state_dict(), model_path)\n",
        "      print(\"Model saved...\")\n",
        "    \n",
        "  with open(\"bn_model_weightsLOGS.txt\", 'a+') as f:\n",
        "    for k in top_paths.keys():\n",
        "      final_string = '{} : {}'.format(k, top_paths[k]) \n",
        "      print(final_string, file=f)\n",
        "\n",
        "  return net"
      ],
      "metadata": {
        "id": "Q5II-RsCzETh"
      },
      "execution_count": null,
      "outputs": []
    },
    {
      "cell_type": "code",
      "source": [
        "newDatasetAndCIFAR = NewDataset_and_CIFAR(trainset, torch.from_numpy(svhn_OEtrainset.data), torch.from_numpy(svhn_OEtrainset.labels), split, train_transform)\n",
        "train_newDatasetAndCIFARLoader = torch.utils.data.DataLoader(newDatasetAndCIFAR, batch_size = batch_size, shuffle = True)\n",
        "\n",
        "trained_bn_net = train_bn_classifier_OE(bn_net, epochs, \"first_SVHN\", train_data_loader = train_newDatasetAndCIFARLoader, valid_data_loader = test_mixedCIFARLoader)"
      ],
      "metadata": {
        "colab": {
          "base_uri": "https://localhost:8080/"
        },
        "id": "fmKSbk79lVuU",
        "outputId": "fe1368ed-14fe-48b0-e88b-6e4f555a6dc5",
        "collapsed": true
      },
      "execution_count": null,
      "outputs": [
        {
          "output_type": "stream",
          "name": "stdout",
          "text": [
            "Len of CIFAR: 30000\n",
            "Len of Entire Dataset 60000\n"
          ]
        },
        {
          "output_type": "stream",
          "name": "stderr",
          "text": [
            "\r  0%|          | 0/1875 [00:00<?, ?it/s]/usr/local/lib/python3.7/dist-packages/torch/optim/lr_scheduler.py:136: UserWarning: Detected call of `lr_scheduler.step()` before `optimizer.step()`. In PyTorch 1.1.0 and later, you should call them in the opposite order: `optimizer.step()` before `lr_scheduler.step()`.  Failure to do this will result in PyTorch skipping the first value of the learning rate schedule. See more details at https://pytorch.org/docs/stable/optim.html#how-to-adjust-learning-rate\n",
            "  \"https://pytorch.org/docs/stable/optim.html#how-to-adjust-learning-rate\", UserWarning)\n",
            "100%|██████████| 1875/1875 [01:17<00:00, 24.29it/s]\n",
            "100%|██████████| 313/313 [00:05<00:00, 52.74it/s]\n"
          ]
        },
        {
          "output_type": "stream",
          "name": "stdout",
          "text": [
            "first_SVHN/bn_model_epoch0.pth\n",
            "Best Model saved or kept...\n",
            "Epoch: 0\n",
            "Loss Avg: 0.5869971581818731\n",
            "Last Learning Rate: [0.0009938503261272714]\n",
            "Accuracy: 52.209999084472656%\n",
            "F measure: 44.00970048634235%\n",
            "ROC measure: 43.793010416666675%\n",
            "PR measure: 59.621931345606036%\n"
          ]
        },
        {
          "output_type": "stream",
          "name": "stderr",
          "text": [
            "100%|██████████| 1875/1875 [01:16<00:00, 24.57it/s]\n",
            "100%|██████████| 313/313 [00:05<00:00, 53.14it/s]\n"
          ]
        },
        {
          "output_type": "stream",
          "name": "stdout",
          "text": [
            "first_SVHN/bn_model_epoch1.pth\n",
            "Best Model saved or kept...\n",
            "Epoch: 1\n",
            "Loss Avg: 0.4683455873236497\n",
            "Last Learning Rate: [0.0009755527298894293]\n",
            "Accuracy: 53.13999557495117%\n",
            "F measure: 45.89189463814771%\n",
            "ROC measure: 45.56193541666667%\n",
            "PR measure: 60.6261909108443%\n"
          ]
        },
        {
          "output_type": "stream",
          "name": "stderr",
          "text": [
            "100%|██████████| 1875/1875 [01:20<00:00, 23.34it/s]\n",
            "100%|██████████| 313/313 [00:05<00:00, 52.75it/s]\n"
          ]
        },
        {
          "output_type": "stream",
          "name": "stdout",
          "text": [
            "first_SVHN/bn_model_epoch2.pth\n",
            "Best Model saved or kept...\n",
            "Epoch: 2\n",
            "Loss Avg: 0.4867886134996742\n",
            "Last Learning Rate: [0.0009455577588320897]\n",
            "Accuracy: 54.27000045776367%\n",
            "F measure: 45.90183062029969%\n",
            "ROC measure: 46.67087291666667%\n",
            "PR measure: 61.356802952324266%\n"
          ]
        },
        {
          "output_type": "stream",
          "name": "stderr",
          "text": [
            "100%|██████████| 1875/1875 [01:18<00:00, 23.89it/s]\n",
            "100%|██████████| 313/313 [00:05<00:00, 53.66it/s]\n"
          ]
        },
        {
          "output_type": "stream",
          "name": "stdout",
          "text": [
            "first_SVHN/bn_model_epoch3.pth\n",
            "Best Model saved or kept...\n",
            "Epoch: 3\n",
            "Loss Avg: 0.43048991132718584\n",
            "Last Learning Rate: [0.0009046039886902862]\n",
            "Accuracy: 53.95000076293945%\n",
            "F measure: 45.823447190878674%\n",
            "ROC measure: 48.215014583333335%\n",
            "PR measure: 62.25753182125631%\n"
          ]
        },
        {
          "output_type": "stream",
          "name": "stderr",
          "text": [
            "100%|██████████| 1875/1875 [01:16<00:00, 24.44it/s]\n",
            "100%|██████████| 313/313 [00:05<00:00, 52.89it/s]\n"
          ]
        },
        {
          "output_type": "stream",
          "name": "stdout",
          "text": [
            "first_SVHN/bn_model_epoch4.pth\n",
            "Best Model saved or kept...\n",
            "Epoch: 4\n",
            "Loss Avg: 0.4522657282196503\n",
            "Last Learning Rate: [0.0008536998372026805]\n",
            "Accuracy: 53.64999771118164%\n",
            "F measure: 45.8994307184433%\n",
            "ROC measure: 47.87713333333333%\n",
            "PR measure: 62.046986922576345%\n"
          ]
        },
        {
          "output_type": "stream",
          "name": "stderr",
          "text": [
            "100%|██████████| 1875/1875 [01:17<00:00, 24.26it/s]\n",
            "100%|██████████| 313/313 [00:05<00:00, 53.02it/s]\n"
          ]
        },
        {
          "output_type": "stream",
          "name": "stdout",
          "text": [
            "first_SVHN/bn_model_epoch5.pth\n",
            "Best Model saved or kept...\n",
            "Epoch: 5\n",
            "Loss Avg: 0.3996168313274956\n",
            "Last Learning Rate: [0.0007940987335200903]\n",
            "Accuracy: 54.189998626708984%\n",
            "F measure: 44.94955818505435%\n",
            "ROC measure: 47.981064583333335%\n",
            "PR measure: 62.303791086087436%\n",
            "Model saved...\n"
          ]
        },
        {
          "output_type": "stream",
          "name": "stderr",
          "text": [
            "100%|██████████| 1875/1875 [01:16<00:00, 24.63it/s]\n",
            "100%|██████████| 313/313 [00:05<00:00, 53.92it/s]\n"
          ]
        },
        {
          "output_type": "stream",
          "name": "stdout",
          "text": [
            "first_SVHN/bn_model_epoch6.pth\n",
            "Best Model saved or kept...\n",
            "Epoch: 6\n",
            "Loss Avg: 0.40810125086869814\n",
            "Last Learning Rate: [0.0007272682546199036]\n",
            "Accuracy: 53.96000289916992%\n",
            "F measure: 45.07507893131088%\n",
            "ROC measure: 47.40307916666667%\n",
            "PR measure: 62.03491740999032%\n"
          ]
        },
        {
          "output_type": "stream",
          "name": "stderr",
          "text": [
            "100%|██████████| 1875/1875 [01:16<00:00, 24.57it/s]\n",
            "100%|██████████| 313/313 [00:05<00:00, 53.74it/s]\n"
          ]
        },
        {
          "output_type": "stream",
          "name": "stdout",
          "text": [
            "first_SVHN/bn_model_epoch7.pth\n",
            "Best Model saved or kept...\n",
            "Epoch: 7\n",
            "Loss Avg: 0.4287593699982892\n",
            "Last Learning Rate: [0.0006548539886902863]\n",
            "Accuracy: 54.22999954223633%\n",
            "F measure: 45.62037851186822%\n",
            "ROC measure: 48.16992916666666%\n",
            "PR measure: 62.37273424404912%\n"
          ]
        },
        {
          "output_type": "stream",
          "name": "stderr",
          "text": [
            "100%|██████████| 1875/1875 [01:17<00:00, 24.32it/s]\n",
            "100%|██████████| 313/313 [00:06<00:00, 51.89it/s]\n"
          ]
        },
        {
          "output_type": "stream",
          "name": "stdout",
          "text": [
            "first_SVHN/bn_model_epoch8.pth\n",
            "Best Model saved or kept...\n",
            "Epoch: 8\n",
            "Loss Avg: 0.4292762802211331\n",
            "Last Learning Rate: [0.0005786390152875953]\n",
            "Accuracy: 54.10000228881836%\n",
            "F measure: 44.911809928605706%\n",
            "ROC measure: 47.73502083333334%\n",
            "PR measure: 62.22791031293138%\n"
          ]
        },
        {
          "output_type": "stream",
          "name": "stderr",
          "text": [
            "100%|██████████| 1875/1875 [01:17<00:00, 24.10it/s]\n",
            "100%|██████████| 313/313 [00:05<00:00, 52.73it/s]\n"
          ]
        },
        {
          "output_type": "stream",
          "name": "stdout",
          "text": [
            "first_SVHN/bn_model_epoch9.pth\n",
            "Best Model saved or kept...\n",
            "Epoch: 9\n",
            "Loss Avg: 0.404620993787299\n",
            "Last Learning Rate: [0.0005005]\n",
            "Accuracy: 54.35000228881836%\n",
            "F measure: 45.43008391777235%\n",
            "ROC measure: 48.180954166666666%\n",
            "PR measure: 62.48672879556233%\n"
          ]
        },
        {
          "output_type": "stream",
          "name": "stderr",
          "text": [
            "100%|██████████| 1875/1875 [01:18<00:00, 23.90it/s]\n",
            "100%|██████████| 313/313 [00:06<00:00, 51.01it/s]\n"
          ]
        },
        {
          "output_type": "stream",
          "name": "stdout",
          "text": [
            "first_SVHN/bn_model_epoch10.pth\n",
            "Best Model saved or kept...\n",
            "Epoch: 10\n",
            "Loss Avg: 0.4360558444969821\n",
            "Last Learning Rate: [0.0004223609847124046]\n",
            "Accuracy: 54.439998626708984%\n",
            "F measure: 45.12535892543986%\n",
            "ROC measure: 47.90732291666666%\n",
            "PR measure: 62.221059843545156%\n",
            "Model saved...\n"
          ]
        },
        {
          "output_type": "stream",
          "name": "stderr",
          "text": [
            "100%|██████████| 1875/1875 [01:18<00:00, 24.00it/s]\n",
            "100%|██████████| 313/313 [00:06<00:00, 49.82it/s]\n"
          ]
        },
        {
          "output_type": "stream",
          "name": "stdout",
          "text": [
            "first_SVHN/bn_model_epoch11.pth\n",
            "Best Model saved or kept...\n",
            "Epoch: 11\n",
            "Loss Avg: 0.3848683786716368\n",
            "Last Learning Rate: [0.0003461460113097138]\n",
            "Accuracy: 55.349998474121094%\n",
            "F measure: 44.696759201601544%\n",
            "ROC measure: 48.32898958333333%\n",
            "PR measure: 62.47561951309714%\n"
          ]
        },
        {
          "output_type": "stream",
          "name": "stderr",
          "text": [
            "100%|██████████| 1875/1875 [01:19<00:00, 23.57it/s]\n",
            "100%|██████████| 313/313 [00:06<00:00, 49.68it/s]\n"
          ]
        },
        {
          "output_type": "stream",
          "name": "stdout",
          "text": [
            "first_SVHN/bn_model_epoch12.pth\n",
            "Best Model saved or kept...\n",
            "Epoch: 12\n",
            "Loss Avg: 0.3944335923437069\n",
            "Last Learning Rate: [0.00027373174538009644]\n",
            "Accuracy: 55.18000030517578%\n",
            "F measure: 45.613636653758746%\n",
            "ROC measure: 49.68810416666666%\n",
            "PR measure: 63.33684308533671%\n"
          ]
        },
        {
          "output_type": "stream",
          "name": "stderr",
          "text": [
            "100%|██████████| 1875/1875 [01:20<00:00, 23.44it/s]\n",
            "100%|██████████| 313/313 [00:06<00:00, 50.76it/s]\n"
          ]
        },
        {
          "output_type": "stream",
          "name": "stdout",
          "text": [
            "first_SVHN/bn_model_epoch13.pth\n",
            "Best Model saved or kept...\n",
            "Epoch: 13\n",
            "Loss Avg: 0.4017040643429514\n",
            "Last Learning Rate: [0.00020690126647990973]\n",
            "Accuracy: 54.529998779296875%\n",
            "F measure: 45.976810376549004%\n",
            "ROC measure: 49.56703541666666%\n",
            "PR measure: 63.29364311210499%\n"
          ]
        },
        {
          "output_type": "stream",
          "name": "stderr",
          "text": [
            "100%|██████████| 1875/1875 [01:20<00:00, 23.28it/s]\n",
            "100%|██████████| 313/313 [00:05<00:00, 52.18it/s]\n"
          ]
        },
        {
          "output_type": "stream",
          "name": "stdout",
          "text": [
            "first_SVHN/bn_model_epoch14.pth\n",
            "Best Model saved or kept...\n",
            "Epoch: 14\n",
            "Loss Avg: 0.41073150341057285\n",
            "Last Learning Rate: [0.00014730016279731955]\n",
            "Accuracy: 55.029998779296875%\n",
            "F measure: 45.4260653339923%\n",
            "ROC measure: 49.35063958333333%\n",
            "PR measure: 63.27228218055664%\n"
          ]
        },
        {
          "output_type": "stream",
          "name": "stderr",
          "text": [
            "100%|██████████| 1875/1875 [01:19<00:00, 23.44it/s]\n",
            "100%|██████████| 313/313 [00:05<00:00, 52.84it/s]\n"
          ]
        },
        {
          "output_type": "stream",
          "name": "stdout",
          "text": [
            "first_SVHN/bn_model_epoch15.pth\n",
            "Best Model saved or kept...\n",
            "Epoch: 15\n",
            "Loss Avg: 0.37444895084034946\n",
            "Last Learning Rate: [9.63960113097138e-05]\n",
            "Accuracy: 54.94999694824219%\n",
            "F measure: 45.92666010704841%\n",
            "ROC measure: 49.512079166666666%\n",
            "PR measure: 63.21919163213212%\n",
            "Model saved...\n"
          ]
        },
        {
          "output_type": "stream",
          "name": "stderr",
          "text": [
            "100%|██████████| 1875/1875 [01:16<00:00, 24.43it/s]\n",
            "100%|██████████| 313/313 [00:05<00:00, 52.44it/s]\n"
          ]
        },
        {
          "output_type": "stream",
          "name": "stdout",
          "text": [
            "first_SVHN/bn_model_epoch16.pth\n",
            "Best Model saved or kept...\n",
            "Epoch: 16\n",
            "Loss Avg: 0.3829249227838478\n",
            "Last Learning Rate: [5.54422411679103e-05]\n",
            "Accuracy: 55.18000030517578%\n",
            "F measure: 45.52475269185752%\n",
            "ROC measure: 49.805729166666666%\n",
            "PR measure: 63.462211016039745%\n"
          ]
        },
        {
          "output_type": "stream",
          "name": "stderr",
          "text": [
            "100%|██████████| 1875/1875 [01:17<00:00, 24.12it/s]\n",
            "100%|██████████| 313/313 [00:05<00:00, 52.99it/s]\n"
          ]
        },
        {
          "output_type": "stream",
          "name": "stdout",
          "text": [
            "first_SVHN/bn_model_epoch17.pth\n",
            "Best Model saved or kept...\n",
            "Epoch: 17\n",
            "Loss Avg: 0.29242573619565054\n",
            "Last Learning Rate: [2.544727011057081e-05]\n",
            "Accuracy: 54.959999084472656%\n",
            "F measure: 45.88020511306134%\n",
            "ROC measure: 50.348677083333335%\n",
            "PR measure: 63.674999590316695%\n"
          ]
        },
        {
          "output_type": "stream",
          "name": "stderr",
          "text": [
            "100%|██████████| 1875/1875 [01:16<00:00, 24.46it/s]\n",
            "100%|██████████| 313/313 [00:05<00:00, 53.23it/s]\n"
          ]
        },
        {
          "output_type": "stream",
          "name": "stdout",
          "text": [
            "first_SVHN/bn_model_epoch18.pth\n",
            "Best Model saved or kept...\n",
            "Epoch: 18\n",
            "Loss Avg: 0.401879516108563\n",
            "Last Learning Rate: [7.14967387272874e-06]\n",
            "Accuracy: 54.77000045776367%\n",
            "F measure: 45.07696201503021%\n",
            "ROC measure: 48.75319166666666%\n",
            "PR measure: 62.853198793083095%\n"
          ]
        },
        {
          "output_type": "stream",
          "name": "stderr",
          "text": [
            "100%|██████████| 1875/1875 [01:16<00:00, 24.35it/s]\n",
            "100%|██████████| 313/313 [00:05<00:00, 53.65it/s]"
          ]
        },
        {
          "output_type": "stream",
          "name": "stdout",
          "text": [
            "first_SVHN/bn_model_epoch19.pth\n",
            "Best Model saved or kept...\n",
            "Epoch: 19\n",
            "Loss Avg: 0.3870376119062494\n",
            "Last Learning Rate: [1e-06]\n",
            "Accuracy: 55.409996032714844%\n",
            "F measure: 44.902533520889605%\n",
            "ROC measure: 49.08619375%\n",
            "PR measure: 63.075209427530865%\n"
          ]
        },
        {
          "output_type": "stream",
          "name": "stderr",
          "text": [
            "\n"
          ]
        }
      ]
    },
    {
      "cell_type": "code",
      "source": [
        "train_MNISTAndCIFAR = NewDataset_and_CIFAR(trainset, mnist_OEtrainset.data, mnist_OEtrainset.targets, split, train_transform)\n",
        "train_MNISTAndCIFARLoader = torch.utils.data.DataLoader(MNISTAndCIFAR, batch_size = batch_size, shuffle = True)\n",
        "\n",
        "trained_bn_net = train_bn_classifier_OE(bn_net, epochs, \"first_MNIST\", train_data_loader = train_MNISTAndCIFARLoader, valid_data_loader = test_mixedCIFARLoader)"
      ],
      "metadata": {
        "colab": {
          "base_uri": "https://localhost:8080/"
        },
        "id": "sLRKbBv1S9fb",
        "outputId": "0d9619a0-b207-4ccc-d6ab-206a1c6c687c",
        "collapsed": true
      },
      "execution_count": null,
      "outputs": [
        {
          "output_type": "stream",
          "name": "stdout",
          "text": [
            "Len of CIFAR: 30000\n",
            "Len of Entire Dataset 60000\n"
          ]
        },
        {
          "output_type": "stream",
          "name": "stderr",
          "text": [
            "\r  0%|          | 0/375 [00:00<?, ?it/s]/usr/local/lib/python3.7/dist-packages/torch/optim/lr_scheduler.py:136: UserWarning: Detected call of `lr_scheduler.step()` before `optimizer.step()`. In PyTorch 1.1.0 and later, you should call them in the opposite order: `optimizer.step()` before `lr_scheduler.step()`.  Failure to do this will result in PyTorch skipping the first value of the learning rate schedule. See more details at https://pytorch.org/docs/stable/optim.html#how-to-adjust-learning-rate\n",
            "  \"https://pytorch.org/docs/stable/optim.html#how-to-adjust-learning-rate\", UserWarning)\n",
            "100%|██████████| 375/375 [00:17<00:00, 21.59it/s]\n",
            "100%|██████████| 313/313 [00:06<00:00, 51.96it/s]\n"
          ]
        },
        {
          "output_type": "stream",
          "name": "stdout",
          "text": [
            "first_MNIST/bn_model_epoch0.pth\n",
            "Best Model saved or kept...\n",
            "Epoch: 0\n",
            "Loss Avg: 0.6900862940705421\n",
            "Last Learning Rate: [0.0009938503261272714]\n",
            "Accuracy: 59.999996185302734%\n",
            "F measure: 37.49999999999999%\n",
            "ROC measure: 56.1010375%\n",
            "PR measure: 66.46410471720876%\n"
          ]
        },
        {
          "output_type": "stream",
          "name": "stderr",
          "text": [
            "100%|██████████| 375/375 [00:15<00:00, 24.64it/s]\n",
            "100%|██████████| 313/313 [00:06<00:00, 52.01it/s]\n"
          ]
        },
        {
          "output_type": "stream",
          "name": "stdout",
          "text": [
            "first_MNIST/bn_model_epoch1.pth\n",
            "Best Model saved or kept...\n",
            "Epoch: 1\n",
            "Loss Avg: 0.6826887744602441\n",
            "Last Learning Rate: [0.0009755527298894293]\n",
            "Accuracy: 58.48999786376953%\n",
            "F measure: 44.16629593275476%\n",
            "ROC measure: 57.03785208333334%\n",
            "PR measure: 67.25250633928438%\n"
          ]
        },
        {
          "output_type": "stream",
          "name": "stderr",
          "text": [
            "100%|██████████| 375/375 [00:15<00:00, 24.77it/s]\n",
            "100%|██████████| 313/313 [00:07<00:00, 44.35it/s]\n"
          ]
        },
        {
          "output_type": "stream",
          "name": "stdout",
          "text": [
            "first_MNIST/bn_model_epoch2.pth\n",
            "Best Model saved or kept...\n",
            "Epoch: 2\n",
            "Loss Avg: 0.6345701510019444\n",
            "Last Learning Rate: [0.0009455577588320897]\n",
            "Accuracy: 58.32999801635742%\n",
            "F measure: 47.76689434175325%\n",
            "ROC measure: 57.75363541666667%\n",
            "PR measure: 68.10993448806772%\n"
          ]
        },
        {
          "output_type": "stream",
          "name": "stderr",
          "text": [
            "100%|██████████| 375/375 [00:15<00:00, 24.66it/s]\n",
            "100%|██████████| 313/313 [00:06<00:00, 52.15it/s]\n"
          ]
        },
        {
          "output_type": "stream",
          "name": "stdout",
          "text": [
            "first_MNIST/bn_model_epoch3.pth\n",
            "Best Model saved or kept...\n",
            "Epoch: 3\n",
            "Loss Avg: 0.49753312841935743\n",
            "Last Learning Rate: [0.0009046039886902862]\n",
            "Accuracy: 59.52999496459961%\n",
            "F measure: 47.564319902426874%\n",
            "ROC measure: 57.69566875000001%\n",
            "PR measure: 67.46139131389572%\n"
          ]
        },
        {
          "output_type": "stream",
          "name": "stderr",
          "text": [
            "100%|██████████| 375/375 [00:15<00:00, 24.46it/s]\n",
            "100%|██████████| 313/313 [00:05<00:00, 52.29it/s]\n"
          ]
        },
        {
          "output_type": "stream",
          "name": "stdout",
          "text": [
            "first_MNIST/bn_model_epoch4.pth\n",
            "Best Model saved or kept...\n",
            "Epoch: 4\n",
            "Loss Avg: 0.3789077058404059\n",
            "Last Learning Rate: [0.0008536998372026805]\n",
            "Accuracy: 60.84000015258789%\n",
            "F measure: 48.07621859519493%\n",
            "ROC measure: 58.087772916666665%\n",
            "PR measure: 67.37158043455197%\n"
          ]
        },
        {
          "output_type": "stream",
          "name": "stderr",
          "text": [
            "100%|██████████| 375/375 [00:15<00:00, 24.58it/s]\n",
            "100%|██████████| 313/313 [00:06<00:00, 51.72it/s]\n"
          ]
        },
        {
          "output_type": "stream",
          "name": "stdout",
          "text": [
            "first_MNIST/bn_model_epoch5.pth\n",
            "Best Model saved or kept...\n",
            "Epoch: 5\n",
            "Loss Avg: 0.33029587899922414\n",
            "Last Learning Rate: [0.0007940987335200903]\n",
            "Accuracy: 61.29999923706055%\n",
            "F measure: 49.384039068929994%\n",
            "ROC measure: 58.32293958333333%\n",
            "PR measure: 66.9950026528527%\n",
            "Model saved...\n"
          ]
        },
        {
          "output_type": "stream",
          "name": "stderr",
          "text": [
            "100%|██████████| 375/375 [00:16<00:00, 23.40it/s]\n",
            "100%|██████████| 313/313 [00:06<00:00, 51.59it/s]\n"
          ]
        },
        {
          "output_type": "stream",
          "name": "stdout",
          "text": [
            "first_MNIST/bn_model_epoch6.pth\n",
            "Best Model saved or kept...\n",
            "Epoch: 6\n",
            "Loss Avg: 0.31066187201419315\n",
            "Last Learning Rate: [0.0007272682546199036]\n",
            "Accuracy: 62.1199951171875%\n",
            "F measure: 51.55458869359813%\n",
            "ROC measure: 60.72355416666666%\n",
            "PR measure: 68.44801889799443%\n"
          ]
        },
        {
          "output_type": "stream",
          "name": "stderr",
          "text": [
            "100%|██████████| 375/375 [00:15<00:00, 24.05it/s]\n",
            "100%|██████████| 313/313 [00:05<00:00, 52.72it/s]\n"
          ]
        },
        {
          "output_type": "stream",
          "name": "stdout",
          "text": [
            "first_MNIST/bn_model_epoch7.pth\n",
            "Best Model saved or kept...\n",
            "Epoch: 7\n",
            "Loss Avg: 0.24131094779795967\n",
            "Last Learning Rate: [0.0006548539886902863]\n",
            "Accuracy: 62.44999694824219%\n",
            "F measure: 51.820796045933385%\n",
            "ROC measure: 62.13020625%\n",
            "PR measure: 69.2271116489788%\n"
          ]
        },
        {
          "output_type": "stream",
          "name": "stderr",
          "text": [
            "100%|██████████| 375/375 [00:15<00:00, 24.65it/s]\n",
            "100%|██████████| 313/313 [00:06<00:00, 51.70it/s]\n"
          ]
        },
        {
          "output_type": "stream",
          "name": "stdout",
          "text": [
            "first_MNIST/bn_model_epoch8.pth\n",
            "Best Model saved or kept...\n",
            "Epoch: 8\n",
            "Loss Avg: 0.24992044880086675\n",
            "Last Learning Rate: [0.0005786390152875953]\n",
            "Accuracy: 61.969993591308594%\n",
            "F measure: 49.23235733307895%\n",
            "ROC measure: 61.631499999999996%\n",
            "PR measure: 68.74865385446924%\n"
          ]
        },
        {
          "output_type": "stream",
          "name": "stderr",
          "text": [
            "100%|██████████| 375/375 [00:15<00:00, 24.76it/s]\n",
            "100%|██████████| 313/313 [00:05<00:00, 52.50it/s]\n"
          ]
        },
        {
          "output_type": "stream",
          "name": "stdout",
          "text": [
            "first_MNIST/bn_model_epoch9.pth\n",
            "Best Model saved or kept...\n",
            "Epoch: 9\n",
            "Loss Avg: 0.22383538070687892\n",
            "Last Learning Rate: [0.0005005]\n",
            "Accuracy: 62.44999694824219%\n",
            "F measure: 52.54298749084968%\n",
            "ROC measure: 62.24036041666666%\n",
            "PR measure: 69.2005090696411%\n"
          ]
        },
        {
          "output_type": "stream",
          "name": "stderr",
          "text": [
            "100%|██████████| 375/375 [00:15<00:00, 24.36it/s]\n",
            "100%|██████████| 313/313 [00:06<00:00, 51.63it/s]\n"
          ]
        },
        {
          "output_type": "stream",
          "name": "stdout",
          "text": [
            "first_MNIST/bn_model_epoch10.pth\n",
            "Best Model saved or kept...\n",
            "Epoch: 10\n",
            "Loss Avg: 0.3460740553220203\n",
            "Last Learning Rate: [0.0004223609847124046]\n",
            "Accuracy: 62.50999450683594%\n",
            "F measure: 51.616426281353256%\n",
            "ROC measure: 62.36202500000001%\n",
            "PR measure: 69.17096561199362%\n",
            "Model saved...\n"
          ]
        },
        {
          "output_type": "stream",
          "name": "stderr",
          "text": [
            "100%|██████████| 375/375 [00:15<00:00, 24.54it/s]\n",
            "100%|██████████| 313/313 [00:06<00:00, 51.16it/s]\n"
          ]
        },
        {
          "output_type": "stream",
          "name": "stdout",
          "text": [
            "first_MNIST/bn_model_epoch11.pth\n",
            "Best Model saved or kept...\n",
            "Epoch: 11\n",
            "Loss Avg: 0.1937125299016545\n",
            "Last Learning Rate: [0.0003461460113097138]\n",
            "Accuracy: 62.91999816894531%\n",
            "F measure: 52.463915265775164%\n",
            "ROC measure: 63.0800625%\n",
            "PR measure: 69.41904305356641%\n"
          ]
        },
        {
          "output_type": "stream",
          "name": "stderr",
          "text": [
            "100%|██████████| 375/375 [00:15<00:00, 24.67it/s]\n",
            "100%|██████████| 313/313 [00:06<00:00, 52.06it/s]\n"
          ]
        },
        {
          "output_type": "stream",
          "name": "stdout",
          "text": [
            "first_MNIST/bn_model_epoch12.pth\n",
            "Best Model saved or kept...\n",
            "Epoch: 12\n",
            "Loss Avg: 0.22237378453894752\n",
            "Last Learning Rate: [0.00027373174538009644]\n",
            "Accuracy: 62.29999542236328%\n",
            "F measure: 50.81653424442507%\n",
            "ROC measure: 62.24475833333334%\n",
            "PR measure: 68.896512090867%\n"
          ]
        },
        {
          "output_type": "stream",
          "name": "stderr",
          "text": [
            "100%|██████████| 375/375 [00:15<00:00, 23.46it/s]\n",
            "100%|██████████| 313/313 [00:05<00:00, 52.46it/s]\n"
          ]
        },
        {
          "output_type": "stream",
          "name": "stdout",
          "text": [
            "first_MNIST/bn_model_epoch13.pth\n",
            "Best Model saved or kept...\n",
            "Epoch: 13\n",
            "Loss Avg: 0.27254469604738313\n",
            "Last Learning Rate: [0.00020690126647990973]\n",
            "Accuracy: 62.93999481201172%\n",
            "F measure: 52.60330139875254%\n",
            "ROC measure: 63.48281874999999%\n",
            "PR measure: 69.99520807749609%\n"
          ]
        },
        {
          "output_type": "stream",
          "name": "stderr",
          "text": [
            "100%|██████████| 375/375 [00:15<00:00, 24.69it/s]\n",
            "100%|██████████| 313/313 [00:05<00:00, 52.25it/s]\n"
          ]
        },
        {
          "output_type": "stream",
          "name": "stdout",
          "text": [
            "first_MNIST/bn_model_epoch14.pth\n",
            "Best Model saved or kept...\n",
            "Epoch: 14\n",
            "Loss Avg: 0.2579931389357083\n",
            "Last Learning Rate: [0.00014730016279731955]\n",
            "Accuracy: 62.209999084472656%\n",
            "F measure: 50.5176587470173%\n",
            "ROC measure: 62.140366666666665%\n",
            "PR measure: 68.82881803092961%\n"
          ]
        },
        {
          "output_type": "stream",
          "name": "stderr",
          "text": [
            "100%|██████████| 375/375 [00:15<00:00, 24.65it/s]\n",
            "100%|██████████| 313/313 [00:05<00:00, 52.35it/s]\n"
          ]
        },
        {
          "output_type": "stream",
          "name": "stdout",
          "text": [
            "first_MNIST/bn_model_epoch15.pth\n",
            "Best Model saved or kept...\n",
            "Epoch: 15\n",
            "Loss Avg: 0.265302052384042\n",
            "Last Learning Rate: [9.63960113097138e-05]\n",
            "Accuracy: 62.68999481201172%\n",
            "F measure: 51.50211570232936%\n",
            "ROC measure: 62.62562291666667%\n",
            "PR measure: 69.02727233582698%\n",
            "Model saved...\n"
          ]
        },
        {
          "output_type": "stream",
          "name": "stderr",
          "text": [
            "100%|██████████| 375/375 [00:15<00:00, 24.73it/s]\n",
            "100%|██████████| 313/313 [00:06<00:00, 51.73it/s]\n"
          ]
        },
        {
          "output_type": "stream",
          "name": "stdout",
          "text": [
            "first_MNIST/bn_model_epoch16.pth\n",
            "Best Model saved or kept...\n",
            "Epoch: 16\n",
            "Loss Avg: 0.28297247932055525\n",
            "Last Learning Rate: [5.54422411679103e-05]\n",
            "Accuracy: 62.83000183105469%\n",
            "F measure: 52.75999506426464%\n",
            "ROC measure: 63.3228375%\n",
            "PR measure: 69.9709807625361%\n"
          ]
        },
        {
          "output_type": "stream",
          "name": "stderr",
          "text": [
            "100%|██████████| 375/375 [00:15<00:00, 24.66it/s]\n",
            "100%|██████████| 313/313 [00:05<00:00, 52.37it/s]\n"
          ]
        },
        {
          "output_type": "stream",
          "name": "stdout",
          "text": [
            "first_MNIST/bn_model_epoch17.pth\n",
            "Best Model saved or kept...\n",
            "Epoch: 17\n",
            "Loss Avg: 0.23571962698333393\n",
            "Last Learning Rate: [2.544727011057081e-05]\n",
            "Accuracy: 62.709999084472656%\n",
            "F measure: 52.015230975631496%\n",
            "ROC measure: 63.0104125%\n",
            "PR measure: 69.40773472848318%\n"
          ]
        },
        {
          "output_type": "stream",
          "name": "stderr",
          "text": [
            "100%|██████████| 375/375 [00:15<00:00, 24.59it/s]\n",
            "100%|██████████| 313/313 [00:05<00:00, 52.88it/s]\n"
          ]
        },
        {
          "output_type": "stream",
          "name": "stdout",
          "text": [
            "first_MNIST/bn_model_epoch18.pth\n",
            "Best Model saved or kept...\n",
            "Epoch: 18\n",
            "Loss Avg: 0.18060951389322633\n",
            "Last Learning Rate: [7.14967387272874e-06]\n",
            "Accuracy: 62.68999481201172%\n",
            "F measure: 52.012806805656666%\n",
            "ROC measure: 63.46702291666666%\n",
            "PR measure: 70.08392986323022%\n"
          ]
        },
        {
          "output_type": "stream",
          "name": "stderr",
          "text": [
            "100%|██████████| 375/375 [00:15<00:00, 24.78it/s]\n",
            "100%|██████████| 313/313 [00:05<00:00, 52.56it/s]"
          ]
        },
        {
          "output_type": "stream",
          "name": "stdout",
          "text": [
            "first_MNIST/bn_model_epoch19.pth\n",
            "Best Model saved or kept...\n",
            "Epoch: 19\n",
            "Loss Avg: 0.23308558808445362\n",
            "Last Learning Rate: [1e-06]\n",
            "Accuracy: 62.18000030517578%\n",
            "F measure: 50.294330636014394%\n",
            "ROC measure: 62.025962500000006%\n",
            "PR measure: 68.87436081100905%\n"
          ]
        },
        {
          "output_type": "stream",
          "name": "stderr",
          "text": [
            "\n"
          ]
        }
      ]
    },
    {
      "cell_type": "markdown",
      "source": [
        "SVHN vs CIFAR closed Set trained model validated on CIFAR open vs closed set"
      ],
      "metadata": {
        "id": "BIpNCMHMuHAt"
      }
    },
    {
      "cell_type": "code",
      "source": [
        "roc_pr_bn_metrics = evaluate_bn_roc_pr(\"/content/drive/MyDrive/Unknown_Detection/REAL_SVHN_CIFAR_bn_model_epoch12.pth\", test_mixedCIFARLoader)"
      ],
      "metadata": {
        "colab": {
          "base_uri": "https://localhost:8080/"
        },
        "id": "WvsIiv2WsNDD",
        "outputId": "d35cdade-9266-4ff5-e79f-3dea7d798f35"
      },
      "execution_count": null,
      "outputs": [
        {
          "output_type": "stream",
          "name": "stderr",
          "text": [
            "100%|██████████| 313/313 [00:07<00:00, 40.78it/s]"
          ]
        },
        {
          "output_type": "stream",
          "name": "stdout",
          "text": [
            "\n",
            "\n",
            "ROC AU value: 49.6880875%\n",
            "PR AU value: 63.33667461012355%\n",
            "F Measure: 45.613636653758746% - Predictions through rounding\n"
          ]
        },
        {
          "output_type": "stream",
          "name": "stderr",
          "text": [
            "\n"
          ]
        }
      ]
    },
    {
      "cell_type": "markdown",
      "source": [
        "SVHN vs CIFAR closed Set trained model validated on Uniform Noise Loader"
      ],
      "metadata": {
        "id": "u8ACaTQfuRFq"
      }
    },
    {
      "cell_type": "code",
      "source": [
        "roc_pr_bn_metrics = evaluate_bn_roc_pr(\"/content/drive/MyDrive/Unknown_Detection/REAL_SVHN_CIFAR_bn_model_epoch12.pth\", uniformDisLoader)\n"
      ],
      "metadata": {
        "colab": {
          "base_uri": "https://localhost:8080/"
        },
        "id": "gjkKxTwGuQh8",
        "outputId": "16c5dfac-bb62-4740-85b0-75e7cade4e90"
      },
      "execution_count": null,
      "outputs": [
        {
          "output_type": "stream",
          "name": "stderr",
          "text": [
            "100%|██████████| 7/7 [00:00<00:00, 44.90it/s]"
          ]
        },
        {
          "output_type": "stream",
          "name": "stdout",
          "text": [
            "\n",
            "\n",
            "ROC AU value: 95.83%\n",
            "PR AU value: 97.59959860111134%\n",
            "F Measure: 86.24939522803086% - Predictions through rounding\n"
          ]
        },
        {
          "output_type": "stream",
          "name": "stderr",
          "text": [
            "\n"
          ]
        }
      ]
    },
    {
      "cell_type": "markdown",
      "source": [
        "SVHN vs CIFAR closed Set trained model validated on Normal Noise Loader"
      ],
      "metadata": {
        "id": "llEarPi6wsSw"
      }
    },
    {
      "cell_type": "code",
      "source": [
        "roc_pr_bn_metrics = evaluate_bn_roc_pr(\"/content/drive/MyDrive/Unknown_Detection/REAL_SVHN_CIFAR_bn_model_epoch12.pth\", normalDisLoader)\n"
      ],
      "metadata": {
        "colab": {
          "base_uri": "https://localhost:8080/"
        },
        "id": "KVqImS71wp03",
        "outputId": "39f4c60b-f186-48a0-f39d-e728476dd199"
      },
      "execution_count": null,
      "outputs": [
        {
          "output_type": "stream",
          "name": "stderr",
          "text": [
            "100%|██████████| 7/7 [00:00<00:00, 44.42it/s]"
          ]
        },
        {
          "output_type": "stream",
          "name": "stdout",
          "text": [
            "\n",
            "\n",
            "ROC AU value: 50.970000000000006%\n",
            "PR AU value: 66.2853694756702%\n",
            "F Measure: 30.1909815829053% - Predictions through rounding\n"
          ]
        },
        {
          "output_type": "stream",
          "name": "stderr",
          "text": [
            "\n"
          ]
        }
      ]
    },
    {
      "cell_type": "markdown",
      "source": [
        "SVHN vs CIFAR closed Set trained model validated on Test SVHN + CIFAR Closed Test set"
      ],
      "metadata": {
        "id": "BmpUy6FMxmz9"
      }
    },
    {
      "cell_type": "code",
      "source": [
        "roc_pr_bn_metrics = evaluate_bn_roc_pr(\"/content/drive/MyDrive/Unknown_Detection/REAL_SVHN_CIFAR_bn_model_epoch12.pth\", newDatasetAndCIFARLoader)\n"
      ],
      "metadata": {
        "colab": {
          "base_uri": "https://localhost:8080/"
        },
        "id": "fIOz2XFmxNh-",
        "outputId": "6db79b03-5bdd-4d8a-cc08-15a0d02935e9"
      },
      "execution_count": null,
      "outputs": [
        {
          "output_type": "stream",
          "name": "stderr",
          "text": [
            "100%|██████████| 375/375 [00:08<00:00, 45.69it/s]"
          ]
        },
        {
          "output_type": "stream",
          "name": "stdout",
          "text": [
            "\n",
            "\n",
            "ROC AU value: 91.70215694444444%\n",
            "PR AU value: 92.82544768090413%\n",
            "F Measure: 83.90233930148774% - Predictions through rounding\n"
          ]
        },
        {
          "output_type": "stream",
          "name": "stderr",
          "text": [
            "\n"
          ]
        }
      ]
    },
    {
      "cell_type": "markdown",
      "source": [
        "SVHN vs CIFAR closed Set trained model validated on Heavy Transfomed CIFAR Closed Set"
      ],
      "metadata": {
        "id": "wCNEewyux7qF"
      }
    },
    {
      "cell_type": "code",
      "source": [
        "roc_pr_bn_metrics = evaluate_bn_roc_pr(\"/content/drive/MyDrive/Unknown_Detection/REAL_SVHN_CIFAR_bn_model_epoch12.pth\", closed_set_heavy_TransformsLoader)\n"
      ],
      "metadata": {
        "colab": {
          "base_uri": "https://localhost:8080/"
        },
        "id": "trTUCttcyKPb",
        "outputId": "c96f16a1-4d03-43ea-c8b6-53cf7c043ed3"
      },
      "execution_count": null,
      "outputs": [
        {
          "output_type": "stream",
          "name": "stderr",
          "text": [
            "100%|██████████| 188/188 [00:23<00:00,  8.03it/s]\n"
          ]
        },
        {
          "output_type": "stream",
          "name": "stdout",
          "text": [
            "\n",
            "\n",
            "ROC AU value: 64.69968333333334%\n",
            "PR AU value: 64.980907179648%\n",
            "F Measure: 56.68280137961368% - Predictions through rounding\n"
          ]
        }
      ]
    },
    {
      "cell_type": "markdown",
      "source": [
        "MNIST vs CIFAR closed Set trained model validated on CIFAR open vs closed set"
      ],
      "metadata": {
        "id": "SbT4Q6UH7wpQ"
      }
    },
    {
      "cell_type": "code",
      "source": [
        "roc_pr_bn_metrics = evaluate_bn_roc_pr(\"/content/drive/MyDrive/Unknown_Detection/MNIST_CIFAR_bn_model_epoch18.pth\", test_mixedCIFARLoader)\n"
      ],
      "metadata": {
        "colab": {
          "base_uri": "https://localhost:8080/"
        },
        "id": "sd20pzW47wMi",
        "outputId": "af452066-3647-4bf6-c503-deb63dea5d07"
      },
      "execution_count": null,
      "outputs": [
        {
          "output_type": "stream",
          "name": "stderr",
          "text": [
            "100%|██████████| 313/313 [00:06<00:00, 46.66it/s]\n"
          ]
        },
        {
          "output_type": "stream",
          "name": "stdout",
          "text": [
            "\n",
            "\n",
            "ROC AU value: 63.46702083333333%\n",
            "PR AU value: 70.08215364442061%\n",
            "F Measure: 52.012806805656666% - Predictions through rounding\n"
          ]
        }
      ]
    },
    {
      "cell_type": "markdown",
      "source": [
        "MNIST vs CIFAR closed Set trained model validated on Uniform Noise Loader"
      ],
      "metadata": {
        "id": "vuNG7_fN-V90"
      }
    },
    {
      "cell_type": "code",
      "source": [
        "roc_pr_bn_metrics = evaluate_bn_roc_pr(\"/content/drive/MyDrive/Unknown_Detection/MNIST_CIFAR_bn_model_epoch18.pth\", uniformDisLoader)\n"
      ],
      "metadata": {
        "colab": {
          "base_uri": "https://localhost:8080/"
        },
        "id": "ySAOL6Rd-Vcz",
        "outputId": "a02b17ff-bd46-4146-fbf7-0bcdf711b90a"
      },
      "execution_count": null,
      "outputs": [
        {
          "output_type": "stream",
          "name": "stderr",
          "text": [
            "100%|██████████| 7/7 [00:00<00:00, 47.63it/s]"
          ]
        },
        {
          "output_type": "stream",
          "name": "stdout",
          "text": [
            "\n",
            "\n",
            "ROC AU value: 56.7%\n",
            "PR AU value: 72.50942057323935%\n",
            "F Measure: 31.27147766323024% - Predictions through rounding\n"
          ]
        },
        {
          "output_type": "stream",
          "name": "stderr",
          "text": [
            "\n"
          ]
        }
      ]
    },
    {
      "cell_type": "markdown",
      "source": [
        "MNIST vs CIFAR closed Set trained model validated on Normal Noise Loader"
      ],
      "metadata": {
        "id": "WcTx-3I_-_pd"
      }
    },
    {
      "cell_type": "code",
      "source": [
        "roc_pr_bn_metrics = evaluate_bn_roc_pr(\"/content/drive/MyDrive/Unknown_Detection/MNIST_CIFAR_bn_model_epoch18.pth\", normalDisLoader)\n"
      ],
      "metadata": {
        "colab": {
          "base_uri": "https://localhost:8080/"
        },
        "id": "_AS3jTL3-_1N",
        "outputId": "d27915d2-b8ea-407f-dd69-cee6e878d02e"
      },
      "execution_count": null,
      "outputs": [
        {
          "output_type": "stream",
          "name": "stderr",
          "text": [
            "100%|██████████| 7/7 [00:00<00:00, 46.34it/s]"
          ]
        },
        {
          "output_type": "stream",
          "name": "stdout",
          "text": [
            "\n",
            "\n",
            "ROC AU value: 80.78%\n",
            "PR AU value: 83.78216383272495%\n",
            "F Measure: 61.81871958269474% - Predictions through rounding\n"
          ]
        },
        {
          "output_type": "stream",
          "name": "stderr",
          "text": [
            "\n"
          ]
        }
      ]
    },
    {
      "cell_type": "markdown",
      "source": [
        "MNIST vs CIFAR closed Set trained model validated on Test SVHN + CIFAR Closed Test set"
      ],
      "metadata": {
        "id": "DhOL7Qa9Aac9"
      }
    },
    {
      "cell_type": "code",
      "source": [
        "roc_pr_bn_metrics = evaluate_bn_roc_pr(\"/content/drive/MyDrive/Unknown_Detection/MNIST_CIFAR_bn_model_epoch18.pth\", newDatasetAndCIFARLoader)\n"
      ],
      "metadata": {
        "colab": {
          "base_uri": "https://localhost:8080/"
        },
        "id": "arSR6fSnAakz",
        "outputId": "504cda6f-08e3-43cc-cc53-3cd313590504"
      },
      "execution_count": null,
      "outputs": [
        {
          "output_type": "stream",
          "name": "stderr",
          "text": [
            "100%|██████████| 375/375 [00:07<00:00, 51.55it/s]"
          ]
        },
        {
          "output_type": "stream",
          "name": "stdout",
          "text": [
            "\n",
            "\n",
            "ROC AU value: 53.88314861111111%\n",
            "PR AU value: 61.1419029606878%\n",
            "F Measure: 34.89280918058944% - Predictions through rounding\n"
          ]
        },
        {
          "output_type": "stream",
          "name": "stderr",
          "text": [
            "\n"
          ]
        }
      ]
    },
    {
      "cell_type": "markdown",
      "source": [
        "MNIST vs CIFAR closed Set trained model validated on Heavy Transfomed CIFAR Closed Set"
      ],
      "metadata": {
        "id": "8a4MOKxRBqMB"
      }
    },
    {
      "cell_type": "code",
      "source": [
        "roc_pr_bn_metrics = evaluate_bn_roc_pr(\"/content/drive/MyDrive/Unknown_Detection/MNIST_CIFAR_bn_model_epoch18.pth\", closed_set_heavy_TransformsLoader)\n"
      ],
      "metadata": {
        "colab": {
          "base_uri": "https://localhost:8080/"
        },
        "id": "KWzPqVlzBqSJ",
        "outputId": "a1d5c7f6-1824-43a2-9f2a-d7678bee010c"
      },
      "execution_count": null,
      "outputs": [
        {
          "output_type": "stream",
          "name": "stderr",
          "text": [
            "100%|██████████| 188/188 [00:24<00:00,  7.58it/s]"
          ]
        },
        {
          "output_type": "stream",
          "name": "stdout",
          "text": [
            "\n",
            "\n",
            "ROC AU value: 38.20793888888889%\n",
            "PR AU value: 41.96198468219004%\n",
            "F Measure: 36.577724605636% - Predictions through rounding\n"
          ]
        },
        {
          "output_type": "stream",
          "name": "stderr",
          "text": [
            "\n"
          ]
        }
      ]
    }
  ]
}
