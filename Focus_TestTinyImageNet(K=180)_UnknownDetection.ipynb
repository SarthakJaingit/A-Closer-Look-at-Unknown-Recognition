{
  "nbformat": 4,
  "nbformat_minor": 0,
  "metadata": {
    "colab": {
      "provenance": [],
      "collapsed_sections": []
    },
    "kernelspec": {
      "name": "python3",
      "display_name": "Python 3"
    },
    "language_info": {
      "name": "python"
    },
    "accelerator": "GPU",
    "gpuClass": "standard",
    "widgets": {
      "application/vnd.jupyter.widget-state+json": {
        "0997a376d1784d48bb5f8f551e0d2e05": {
          "model_module": "@jupyter-widgets/controls",
          "model_name": "HBoxModel",
          "model_module_version": "1.5.0",
          "state": {
            "_dom_classes": [],
            "_model_module": "@jupyter-widgets/controls",
            "_model_module_version": "1.5.0",
            "_model_name": "HBoxModel",
            "_view_count": null,
            "_view_module": "@jupyter-widgets/controls",
            "_view_module_version": "1.5.0",
            "_view_name": "HBoxView",
            "box_style": "",
            "children": [
              "IPY_MODEL_69768dc8abe34e37a89d1cce73ec64e4",
              "IPY_MODEL_2858fb38609c4196b22619e4141177be",
              "IPY_MODEL_406586e92c854e50bee9d1a2a2606649"
            ],
            "layout": "IPY_MODEL_bb4e7fb6a6df47e58aba95e417b278e5"
          }
        },
        "69768dc8abe34e37a89d1cce73ec64e4": {
          "model_module": "@jupyter-widgets/controls",
          "model_name": "HTMLModel",
          "model_module_version": "1.5.0",
          "state": {
            "_dom_classes": [],
            "_model_module": "@jupyter-widgets/controls",
            "_model_module_version": "1.5.0",
            "_model_name": "HTMLModel",
            "_view_count": null,
            "_view_module": "@jupyter-widgets/controls",
            "_view_module_version": "1.5.0",
            "_view_name": "HTMLView",
            "description": "",
            "description_tooltip": null,
            "layout": "IPY_MODEL_7d7d1cf0cc6b4d43b108664781e2d88b",
            "placeholder": "​",
            "style": "IPY_MODEL_700eb767f6974cfe9e049fbf2a07647f",
            "value": "100%"
          }
        },
        "2858fb38609c4196b22619e4141177be": {
          "model_module": "@jupyter-widgets/controls",
          "model_name": "FloatProgressModel",
          "model_module_version": "1.5.0",
          "state": {
            "_dom_classes": [],
            "_model_module": "@jupyter-widgets/controls",
            "_model_module_version": "1.5.0",
            "_model_name": "FloatProgressModel",
            "_view_count": null,
            "_view_module": "@jupyter-widgets/controls",
            "_view_module_version": "1.5.0",
            "_view_name": "ProgressView",
            "bar_style": "success",
            "description": "",
            "description_tooltip": null,
            "layout": "IPY_MODEL_a9b7c7d391af48e189c2dc870b23516a",
            "max": 94280567,
            "min": 0,
            "orientation": "horizontal",
            "style": "IPY_MODEL_d4d8f7a47c434e76badd312b6d7c90d8",
            "value": 94280567
          }
        },
        "406586e92c854e50bee9d1a2a2606649": {
          "model_module": "@jupyter-widgets/controls",
          "model_name": "HTMLModel",
          "model_module_version": "1.5.0",
          "state": {
            "_dom_classes": [],
            "_model_module": "@jupyter-widgets/controls",
            "_model_module_version": "1.5.0",
            "_model_name": "HTMLModel",
            "_view_count": null,
            "_view_module": "@jupyter-widgets/controls",
            "_view_module_version": "1.5.0",
            "_view_name": "HTMLView",
            "description": "",
            "description_tooltip": null,
            "layout": "IPY_MODEL_df1cb59c080d4aa4b45531a1bc2e25ae",
            "placeholder": "​",
            "style": "IPY_MODEL_2309a99e01b84ba99443250d84277131",
            "value": " 94280567/94280567 [00:04&lt;00:00, 24104816.72it/s]"
          }
        },
        "bb4e7fb6a6df47e58aba95e417b278e5": {
          "model_module": "@jupyter-widgets/base",
          "model_name": "LayoutModel",
          "model_module_version": "1.2.0",
          "state": {
            "_model_module": "@jupyter-widgets/base",
            "_model_module_version": "1.2.0",
            "_model_name": "LayoutModel",
            "_view_count": null,
            "_view_module": "@jupyter-widgets/base",
            "_view_module_version": "1.2.0",
            "_view_name": "LayoutView",
            "align_content": null,
            "align_items": null,
            "align_self": null,
            "border": null,
            "bottom": null,
            "display": null,
            "flex": null,
            "flex_flow": null,
            "grid_area": null,
            "grid_auto_columns": null,
            "grid_auto_flow": null,
            "grid_auto_rows": null,
            "grid_column": null,
            "grid_gap": null,
            "grid_row": null,
            "grid_template_areas": null,
            "grid_template_columns": null,
            "grid_template_rows": null,
            "height": null,
            "justify_content": null,
            "justify_items": null,
            "left": null,
            "margin": null,
            "max_height": null,
            "max_width": null,
            "min_height": null,
            "min_width": null,
            "object_fit": null,
            "object_position": null,
            "order": null,
            "overflow": null,
            "overflow_x": null,
            "overflow_y": null,
            "padding": null,
            "right": null,
            "top": null,
            "visibility": null,
            "width": null
          }
        },
        "7d7d1cf0cc6b4d43b108664781e2d88b": {
          "model_module": "@jupyter-widgets/base",
          "model_name": "LayoutModel",
          "model_module_version": "1.2.0",
          "state": {
            "_model_module": "@jupyter-widgets/base",
            "_model_module_version": "1.2.0",
            "_model_name": "LayoutModel",
            "_view_count": null,
            "_view_module": "@jupyter-widgets/base",
            "_view_module_version": "1.2.0",
            "_view_name": "LayoutView",
            "align_content": null,
            "align_items": null,
            "align_self": null,
            "border": null,
            "bottom": null,
            "display": null,
            "flex": null,
            "flex_flow": null,
            "grid_area": null,
            "grid_auto_columns": null,
            "grid_auto_flow": null,
            "grid_auto_rows": null,
            "grid_column": null,
            "grid_gap": null,
            "grid_row": null,
            "grid_template_areas": null,
            "grid_template_columns": null,
            "grid_template_rows": null,
            "height": null,
            "justify_content": null,
            "justify_items": null,
            "left": null,
            "margin": null,
            "max_height": null,
            "max_width": null,
            "min_height": null,
            "min_width": null,
            "object_fit": null,
            "object_position": null,
            "order": null,
            "overflow": null,
            "overflow_x": null,
            "overflow_y": null,
            "padding": null,
            "right": null,
            "top": null,
            "visibility": null,
            "width": null
          }
        },
        "700eb767f6974cfe9e049fbf2a07647f": {
          "model_module": "@jupyter-widgets/controls",
          "model_name": "DescriptionStyleModel",
          "model_module_version": "1.5.0",
          "state": {
            "_model_module": "@jupyter-widgets/controls",
            "_model_module_version": "1.5.0",
            "_model_name": "DescriptionStyleModel",
            "_view_count": null,
            "_view_module": "@jupyter-widgets/base",
            "_view_module_version": "1.2.0",
            "_view_name": "StyleView",
            "description_width": ""
          }
        },
        "a9b7c7d391af48e189c2dc870b23516a": {
          "model_module": "@jupyter-widgets/base",
          "model_name": "LayoutModel",
          "model_module_version": "1.2.0",
          "state": {
            "_model_module": "@jupyter-widgets/base",
            "_model_module_version": "1.2.0",
            "_model_name": "LayoutModel",
            "_view_count": null,
            "_view_module": "@jupyter-widgets/base",
            "_view_module_version": "1.2.0",
            "_view_name": "LayoutView",
            "align_content": null,
            "align_items": null,
            "align_self": null,
            "border": null,
            "bottom": null,
            "display": null,
            "flex": null,
            "flex_flow": null,
            "grid_area": null,
            "grid_auto_columns": null,
            "grid_auto_flow": null,
            "grid_auto_rows": null,
            "grid_column": null,
            "grid_gap": null,
            "grid_row": null,
            "grid_template_areas": null,
            "grid_template_columns": null,
            "grid_template_rows": null,
            "height": null,
            "justify_content": null,
            "justify_items": null,
            "left": null,
            "margin": null,
            "max_height": null,
            "max_width": null,
            "min_height": null,
            "min_width": null,
            "object_fit": null,
            "object_position": null,
            "order": null,
            "overflow": null,
            "overflow_x": null,
            "overflow_y": null,
            "padding": null,
            "right": null,
            "top": null,
            "visibility": null,
            "width": null
          }
        },
        "d4d8f7a47c434e76badd312b6d7c90d8": {
          "model_module": "@jupyter-widgets/controls",
          "model_name": "ProgressStyleModel",
          "model_module_version": "1.5.0",
          "state": {
            "_model_module": "@jupyter-widgets/controls",
            "_model_module_version": "1.5.0",
            "_model_name": "ProgressStyleModel",
            "_view_count": null,
            "_view_module": "@jupyter-widgets/base",
            "_view_module_version": "1.2.0",
            "_view_name": "StyleView",
            "bar_color": null,
            "description_width": ""
          }
        },
        "df1cb59c080d4aa4b45531a1bc2e25ae": {
          "model_module": "@jupyter-widgets/base",
          "model_name": "LayoutModel",
          "model_module_version": "1.2.0",
          "state": {
            "_model_module": "@jupyter-widgets/base",
            "_model_module_version": "1.2.0",
            "_model_name": "LayoutModel",
            "_view_count": null,
            "_view_module": "@jupyter-widgets/base",
            "_view_module_version": "1.2.0",
            "_view_name": "LayoutView",
            "align_content": null,
            "align_items": null,
            "align_self": null,
            "border": null,
            "bottom": null,
            "display": null,
            "flex": null,
            "flex_flow": null,
            "grid_area": null,
            "grid_auto_columns": null,
            "grid_auto_flow": null,
            "grid_auto_rows": null,
            "grid_column": null,
            "grid_gap": null,
            "grid_row": null,
            "grid_template_areas": null,
            "grid_template_columns": null,
            "grid_template_rows": null,
            "height": null,
            "justify_content": null,
            "justify_items": null,
            "left": null,
            "margin": null,
            "max_height": null,
            "max_width": null,
            "min_height": null,
            "min_width": null,
            "object_fit": null,
            "object_position": null,
            "order": null,
            "overflow": null,
            "overflow_x": null,
            "overflow_y": null,
            "padding": null,
            "right": null,
            "top": null,
            "visibility": null,
            "width": null
          }
        },
        "2309a99e01b84ba99443250d84277131": {
          "model_module": "@jupyter-widgets/controls",
          "model_name": "DescriptionStyleModel",
          "model_module_version": "1.5.0",
          "state": {
            "_model_module": "@jupyter-widgets/controls",
            "_model_module_version": "1.5.0",
            "_model_name": "DescriptionStyleModel",
            "_view_count": null,
            "_view_module": "@jupyter-widgets/base",
            "_view_module_version": "1.2.0",
            "_view_name": "StyleView",
            "description_width": ""
          }
        },
        "76d7312e27354adc83bb1e6dd466a652": {
          "model_module": "@jupyter-widgets/controls",
          "model_name": "HBoxModel",
          "model_module_version": "1.5.0",
          "state": {
            "_dom_classes": [],
            "_model_module": "@jupyter-widgets/controls",
            "_model_module_version": "1.5.0",
            "_model_name": "HBoxModel",
            "_view_count": null,
            "_view_module": "@jupyter-widgets/controls",
            "_view_module_version": "1.5.0",
            "_view_name": "HBoxView",
            "box_style": "",
            "children": [
              "IPY_MODEL_d58904ac8e0a4c989835ec8239b26ad3",
              "IPY_MODEL_2a4fe21964bd442fad853cdd7698ea17",
              "IPY_MODEL_5f3803b8db9b420a827371bcb04f93fc"
            ],
            "layout": "IPY_MODEL_5ef6484bda8840569b2ad298ed2e2e14"
          }
        },
        "d58904ac8e0a4c989835ec8239b26ad3": {
          "model_module": "@jupyter-widgets/controls",
          "model_name": "HTMLModel",
          "model_module_version": "1.5.0",
          "state": {
            "_dom_classes": [],
            "_model_module": "@jupyter-widgets/controls",
            "_model_module_version": "1.5.0",
            "_model_name": "HTMLModel",
            "_view_count": null,
            "_view_module": "@jupyter-widgets/controls",
            "_view_module_version": "1.5.0",
            "_view_name": "HTMLView",
            "description": "",
            "description_tooltip": null,
            "layout": "IPY_MODEL_2bfea89143074be9b7c477a11c60205b",
            "placeholder": "​",
            "style": "IPY_MODEL_760f226c01f24d1e8d29b3c594d16ef3",
            "value": "100%"
          }
        },
        "2a4fe21964bd442fad853cdd7698ea17": {
          "model_module": "@jupyter-widgets/controls",
          "model_name": "FloatProgressModel",
          "model_module_version": "1.5.0",
          "state": {
            "_dom_classes": [],
            "_model_module": "@jupyter-widgets/controls",
            "_model_module_version": "1.5.0",
            "_model_name": "FloatProgressModel",
            "_view_count": null,
            "_view_module": "@jupyter-widgets/controls",
            "_view_module_version": "1.5.0",
            "_view_name": "ProgressView",
            "bar_style": "success",
            "description": "",
            "description_tooltip": null,
            "layout": "IPY_MODEL_2f54ebf3af5743c69379abfe61f868e9",
            "max": 9912422,
            "min": 0,
            "orientation": "horizontal",
            "style": "IPY_MODEL_e2f6f4d8cdd94084a0f5b0b8287bd934",
            "value": 9912422
          }
        },
        "5f3803b8db9b420a827371bcb04f93fc": {
          "model_module": "@jupyter-widgets/controls",
          "model_name": "HTMLModel",
          "model_module_version": "1.5.0",
          "state": {
            "_dom_classes": [],
            "_model_module": "@jupyter-widgets/controls",
            "_model_module_version": "1.5.0",
            "_model_name": "HTMLModel",
            "_view_count": null,
            "_view_module": "@jupyter-widgets/controls",
            "_view_module_version": "1.5.0",
            "_view_name": "HTMLView",
            "description": "",
            "description_tooltip": null,
            "layout": "IPY_MODEL_4be751f7247644179577a3653355a6c6",
            "placeholder": "​",
            "style": "IPY_MODEL_7cec94b510bb48c2abb068a9d482e3f4",
            "value": " 9912422/9912422 [00:00&lt;00:00, 37681169.64it/s]"
          }
        },
        "5ef6484bda8840569b2ad298ed2e2e14": {
          "model_module": "@jupyter-widgets/base",
          "model_name": "LayoutModel",
          "model_module_version": "1.2.0",
          "state": {
            "_model_module": "@jupyter-widgets/base",
            "_model_module_version": "1.2.0",
            "_model_name": "LayoutModel",
            "_view_count": null,
            "_view_module": "@jupyter-widgets/base",
            "_view_module_version": "1.2.0",
            "_view_name": "LayoutView",
            "align_content": null,
            "align_items": null,
            "align_self": null,
            "border": null,
            "bottom": null,
            "display": null,
            "flex": null,
            "flex_flow": null,
            "grid_area": null,
            "grid_auto_columns": null,
            "grid_auto_flow": null,
            "grid_auto_rows": null,
            "grid_column": null,
            "grid_gap": null,
            "grid_row": null,
            "grid_template_areas": null,
            "grid_template_columns": null,
            "grid_template_rows": null,
            "height": null,
            "justify_content": null,
            "justify_items": null,
            "left": null,
            "margin": null,
            "max_height": null,
            "max_width": null,
            "min_height": null,
            "min_width": null,
            "object_fit": null,
            "object_position": null,
            "order": null,
            "overflow": null,
            "overflow_x": null,
            "overflow_y": null,
            "padding": null,
            "right": null,
            "top": null,
            "visibility": null,
            "width": null
          }
        },
        "2bfea89143074be9b7c477a11c60205b": {
          "model_module": "@jupyter-widgets/base",
          "model_name": "LayoutModel",
          "model_module_version": "1.2.0",
          "state": {
            "_model_module": "@jupyter-widgets/base",
            "_model_module_version": "1.2.0",
            "_model_name": "LayoutModel",
            "_view_count": null,
            "_view_module": "@jupyter-widgets/base",
            "_view_module_version": "1.2.0",
            "_view_name": "LayoutView",
            "align_content": null,
            "align_items": null,
            "align_self": null,
            "border": null,
            "bottom": null,
            "display": null,
            "flex": null,
            "flex_flow": null,
            "grid_area": null,
            "grid_auto_columns": null,
            "grid_auto_flow": null,
            "grid_auto_rows": null,
            "grid_column": null,
            "grid_gap": null,
            "grid_row": null,
            "grid_template_areas": null,
            "grid_template_columns": null,
            "grid_template_rows": null,
            "height": null,
            "justify_content": null,
            "justify_items": null,
            "left": null,
            "margin": null,
            "max_height": null,
            "max_width": null,
            "min_height": null,
            "min_width": null,
            "object_fit": null,
            "object_position": null,
            "order": null,
            "overflow": null,
            "overflow_x": null,
            "overflow_y": null,
            "padding": null,
            "right": null,
            "top": null,
            "visibility": null,
            "width": null
          }
        },
        "760f226c01f24d1e8d29b3c594d16ef3": {
          "model_module": "@jupyter-widgets/controls",
          "model_name": "DescriptionStyleModel",
          "model_module_version": "1.5.0",
          "state": {
            "_model_module": "@jupyter-widgets/controls",
            "_model_module_version": "1.5.0",
            "_model_name": "DescriptionStyleModel",
            "_view_count": null,
            "_view_module": "@jupyter-widgets/base",
            "_view_module_version": "1.2.0",
            "_view_name": "StyleView",
            "description_width": ""
          }
        },
        "2f54ebf3af5743c69379abfe61f868e9": {
          "model_module": "@jupyter-widgets/base",
          "model_name": "LayoutModel",
          "model_module_version": "1.2.0",
          "state": {
            "_model_module": "@jupyter-widgets/base",
            "_model_module_version": "1.2.0",
            "_model_name": "LayoutModel",
            "_view_count": null,
            "_view_module": "@jupyter-widgets/base",
            "_view_module_version": "1.2.0",
            "_view_name": "LayoutView",
            "align_content": null,
            "align_items": null,
            "align_self": null,
            "border": null,
            "bottom": null,
            "display": null,
            "flex": null,
            "flex_flow": null,
            "grid_area": null,
            "grid_auto_columns": null,
            "grid_auto_flow": null,
            "grid_auto_rows": null,
            "grid_column": null,
            "grid_gap": null,
            "grid_row": null,
            "grid_template_areas": null,
            "grid_template_columns": null,
            "grid_template_rows": null,
            "height": null,
            "justify_content": null,
            "justify_items": null,
            "left": null,
            "margin": null,
            "max_height": null,
            "max_width": null,
            "min_height": null,
            "min_width": null,
            "object_fit": null,
            "object_position": null,
            "order": null,
            "overflow": null,
            "overflow_x": null,
            "overflow_y": null,
            "padding": null,
            "right": null,
            "top": null,
            "visibility": null,
            "width": null
          }
        },
        "e2f6f4d8cdd94084a0f5b0b8287bd934": {
          "model_module": "@jupyter-widgets/controls",
          "model_name": "ProgressStyleModel",
          "model_module_version": "1.5.0",
          "state": {
            "_model_module": "@jupyter-widgets/controls",
            "_model_module_version": "1.5.0",
            "_model_name": "ProgressStyleModel",
            "_view_count": null,
            "_view_module": "@jupyter-widgets/base",
            "_view_module_version": "1.2.0",
            "_view_name": "StyleView",
            "bar_color": null,
            "description_width": ""
          }
        },
        "4be751f7247644179577a3653355a6c6": {
          "model_module": "@jupyter-widgets/base",
          "model_name": "LayoutModel",
          "model_module_version": "1.2.0",
          "state": {
            "_model_module": "@jupyter-widgets/base",
            "_model_module_version": "1.2.0",
            "_model_name": "LayoutModel",
            "_view_count": null,
            "_view_module": "@jupyter-widgets/base",
            "_view_module_version": "1.2.0",
            "_view_name": "LayoutView",
            "align_content": null,
            "align_items": null,
            "align_self": null,
            "border": null,
            "bottom": null,
            "display": null,
            "flex": null,
            "flex_flow": null,
            "grid_area": null,
            "grid_auto_columns": null,
            "grid_auto_flow": null,
            "grid_auto_rows": null,
            "grid_column": null,
            "grid_gap": null,
            "grid_row": null,
            "grid_template_areas": null,
            "grid_template_columns": null,
            "grid_template_rows": null,
            "height": null,
            "justify_content": null,
            "justify_items": null,
            "left": null,
            "margin": null,
            "max_height": null,
            "max_width": null,
            "min_height": null,
            "min_width": null,
            "object_fit": null,
            "object_position": null,
            "order": null,
            "overflow": null,
            "overflow_x": null,
            "overflow_y": null,
            "padding": null,
            "right": null,
            "top": null,
            "visibility": null,
            "width": null
          }
        },
        "7cec94b510bb48c2abb068a9d482e3f4": {
          "model_module": "@jupyter-widgets/controls",
          "model_name": "DescriptionStyleModel",
          "model_module_version": "1.5.0",
          "state": {
            "_model_module": "@jupyter-widgets/controls",
            "_model_module_version": "1.5.0",
            "_model_name": "DescriptionStyleModel",
            "_view_count": null,
            "_view_module": "@jupyter-widgets/base",
            "_view_module_version": "1.2.0",
            "_view_name": "StyleView",
            "description_width": ""
          }
        },
        "ee3a44f0d7ee49f2b1b8a84fceedc52b": {
          "model_module": "@jupyter-widgets/controls",
          "model_name": "HBoxModel",
          "model_module_version": "1.5.0",
          "state": {
            "_dom_classes": [],
            "_model_module": "@jupyter-widgets/controls",
            "_model_module_version": "1.5.0",
            "_model_name": "HBoxModel",
            "_view_count": null,
            "_view_module": "@jupyter-widgets/controls",
            "_view_module_version": "1.5.0",
            "_view_name": "HBoxView",
            "box_style": "",
            "children": [
              "IPY_MODEL_880b41b5727942e0ab9e6cebe447eb77",
              "IPY_MODEL_233e9fa32519415b8a235b056c48c7ed",
              "IPY_MODEL_16bbff57636d40778040fcb886335b44"
            ],
            "layout": "IPY_MODEL_3010262a532c4e158f3627b6e133df8e"
          }
        },
        "880b41b5727942e0ab9e6cebe447eb77": {
          "model_module": "@jupyter-widgets/controls",
          "model_name": "HTMLModel",
          "model_module_version": "1.5.0",
          "state": {
            "_dom_classes": [],
            "_model_module": "@jupyter-widgets/controls",
            "_model_module_version": "1.5.0",
            "_model_name": "HTMLModel",
            "_view_count": null,
            "_view_module": "@jupyter-widgets/controls",
            "_view_module_version": "1.5.0",
            "_view_name": "HTMLView",
            "description": "",
            "description_tooltip": null,
            "layout": "IPY_MODEL_290ed783e8d147af981f139b2e73dd31",
            "placeholder": "​",
            "style": "IPY_MODEL_d341e7e6faf64988b196fbc3ced7e4ff",
            "value": "100%"
          }
        },
        "233e9fa32519415b8a235b056c48c7ed": {
          "model_module": "@jupyter-widgets/controls",
          "model_name": "FloatProgressModel",
          "model_module_version": "1.5.0",
          "state": {
            "_dom_classes": [],
            "_model_module": "@jupyter-widgets/controls",
            "_model_module_version": "1.5.0",
            "_model_name": "FloatProgressModel",
            "_view_count": null,
            "_view_module": "@jupyter-widgets/controls",
            "_view_module_version": "1.5.0",
            "_view_name": "ProgressView",
            "bar_style": "success",
            "description": "",
            "description_tooltip": null,
            "layout": "IPY_MODEL_fff4946030794fa98041bb90c4d82593",
            "max": 28881,
            "min": 0,
            "orientation": "horizontal",
            "style": "IPY_MODEL_810d9894444843ec88d8d7dd04d2cf67",
            "value": 28881
          }
        },
        "16bbff57636d40778040fcb886335b44": {
          "model_module": "@jupyter-widgets/controls",
          "model_name": "HTMLModel",
          "model_module_version": "1.5.0",
          "state": {
            "_dom_classes": [],
            "_model_module": "@jupyter-widgets/controls",
            "_model_module_version": "1.5.0",
            "_model_name": "HTMLModel",
            "_view_count": null,
            "_view_module": "@jupyter-widgets/controls",
            "_view_module_version": "1.5.0",
            "_view_name": "HTMLView",
            "description": "",
            "description_tooltip": null,
            "layout": "IPY_MODEL_abc2866d65c04289bc80eefa7d73cf28",
            "placeholder": "​",
            "style": "IPY_MODEL_fc0b466c829c449296edd3166db95a30",
            "value": " 28881/28881 [00:00&lt;00:00, 285930.05it/s]"
          }
        },
        "3010262a532c4e158f3627b6e133df8e": {
          "model_module": "@jupyter-widgets/base",
          "model_name": "LayoutModel",
          "model_module_version": "1.2.0",
          "state": {
            "_model_module": "@jupyter-widgets/base",
            "_model_module_version": "1.2.0",
            "_model_name": "LayoutModel",
            "_view_count": null,
            "_view_module": "@jupyter-widgets/base",
            "_view_module_version": "1.2.0",
            "_view_name": "LayoutView",
            "align_content": null,
            "align_items": null,
            "align_self": null,
            "border": null,
            "bottom": null,
            "display": null,
            "flex": null,
            "flex_flow": null,
            "grid_area": null,
            "grid_auto_columns": null,
            "grid_auto_flow": null,
            "grid_auto_rows": null,
            "grid_column": null,
            "grid_gap": null,
            "grid_row": null,
            "grid_template_areas": null,
            "grid_template_columns": null,
            "grid_template_rows": null,
            "height": null,
            "justify_content": null,
            "justify_items": null,
            "left": null,
            "margin": null,
            "max_height": null,
            "max_width": null,
            "min_height": null,
            "min_width": null,
            "object_fit": null,
            "object_position": null,
            "order": null,
            "overflow": null,
            "overflow_x": null,
            "overflow_y": null,
            "padding": null,
            "right": null,
            "top": null,
            "visibility": null,
            "width": null
          }
        },
        "290ed783e8d147af981f139b2e73dd31": {
          "model_module": "@jupyter-widgets/base",
          "model_name": "LayoutModel",
          "model_module_version": "1.2.0",
          "state": {
            "_model_module": "@jupyter-widgets/base",
            "_model_module_version": "1.2.0",
            "_model_name": "LayoutModel",
            "_view_count": null,
            "_view_module": "@jupyter-widgets/base",
            "_view_module_version": "1.2.0",
            "_view_name": "LayoutView",
            "align_content": null,
            "align_items": null,
            "align_self": null,
            "border": null,
            "bottom": null,
            "display": null,
            "flex": null,
            "flex_flow": null,
            "grid_area": null,
            "grid_auto_columns": null,
            "grid_auto_flow": null,
            "grid_auto_rows": null,
            "grid_column": null,
            "grid_gap": null,
            "grid_row": null,
            "grid_template_areas": null,
            "grid_template_columns": null,
            "grid_template_rows": null,
            "height": null,
            "justify_content": null,
            "justify_items": null,
            "left": null,
            "margin": null,
            "max_height": null,
            "max_width": null,
            "min_height": null,
            "min_width": null,
            "object_fit": null,
            "object_position": null,
            "order": null,
            "overflow": null,
            "overflow_x": null,
            "overflow_y": null,
            "padding": null,
            "right": null,
            "top": null,
            "visibility": null,
            "width": null
          }
        },
        "d341e7e6faf64988b196fbc3ced7e4ff": {
          "model_module": "@jupyter-widgets/controls",
          "model_name": "DescriptionStyleModel",
          "model_module_version": "1.5.0",
          "state": {
            "_model_module": "@jupyter-widgets/controls",
            "_model_module_version": "1.5.0",
            "_model_name": "DescriptionStyleModel",
            "_view_count": null,
            "_view_module": "@jupyter-widgets/base",
            "_view_module_version": "1.2.0",
            "_view_name": "StyleView",
            "description_width": ""
          }
        },
        "fff4946030794fa98041bb90c4d82593": {
          "model_module": "@jupyter-widgets/base",
          "model_name": "LayoutModel",
          "model_module_version": "1.2.0",
          "state": {
            "_model_module": "@jupyter-widgets/base",
            "_model_module_version": "1.2.0",
            "_model_name": "LayoutModel",
            "_view_count": null,
            "_view_module": "@jupyter-widgets/base",
            "_view_module_version": "1.2.0",
            "_view_name": "LayoutView",
            "align_content": null,
            "align_items": null,
            "align_self": null,
            "border": null,
            "bottom": null,
            "display": null,
            "flex": null,
            "flex_flow": null,
            "grid_area": null,
            "grid_auto_columns": null,
            "grid_auto_flow": null,
            "grid_auto_rows": null,
            "grid_column": null,
            "grid_gap": null,
            "grid_row": null,
            "grid_template_areas": null,
            "grid_template_columns": null,
            "grid_template_rows": null,
            "height": null,
            "justify_content": null,
            "justify_items": null,
            "left": null,
            "margin": null,
            "max_height": null,
            "max_width": null,
            "min_height": null,
            "min_width": null,
            "object_fit": null,
            "object_position": null,
            "order": null,
            "overflow": null,
            "overflow_x": null,
            "overflow_y": null,
            "padding": null,
            "right": null,
            "top": null,
            "visibility": null,
            "width": null
          }
        },
        "810d9894444843ec88d8d7dd04d2cf67": {
          "model_module": "@jupyter-widgets/controls",
          "model_name": "ProgressStyleModel",
          "model_module_version": "1.5.0",
          "state": {
            "_model_module": "@jupyter-widgets/controls",
            "_model_module_version": "1.5.0",
            "_model_name": "ProgressStyleModel",
            "_view_count": null,
            "_view_module": "@jupyter-widgets/base",
            "_view_module_version": "1.2.0",
            "_view_name": "StyleView",
            "bar_color": null,
            "description_width": ""
          }
        },
        "abc2866d65c04289bc80eefa7d73cf28": {
          "model_module": "@jupyter-widgets/base",
          "model_name": "LayoutModel",
          "model_module_version": "1.2.0",
          "state": {
            "_model_module": "@jupyter-widgets/base",
            "_model_module_version": "1.2.0",
            "_model_name": "LayoutModel",
            "_view_count": null,
            "_view_module": "@jupyter-widgets/base",
            "_view_module_version": "1.2.0",
            "_view_name": "LayoutView",
            "align_content": null,
            "align_items": null,
            "align_self": null,
            "border": null,
            "bottom": null,
            "display": null,
            "flex": null,
            "flex_flow": null,
            "grid_area": null,
            "grid_auto_columns": null,
            "grid_auto_flow": null,
            "grid_auto_rows": null,
            "grid_column": null,
            "grid_gap": null,
            "grid_row": null,
            "grid_template_areas": null,
            "grid_template_columns": null,
            "grid_template_rows": null,
            "height": null,
            "justify_content": null,
            "justify_items": null,
            "left": null,
            "margin": null,
            "max_height": null,
            "max_width": null,
            "min_height": null,
            "min_width": null,
            "object_fit": null,
            "object_position": null,
            "order": null,
            "overflow": null,
            "overflow_x": null,
            "overflow_y": null,
            "padding": null,
            "right": null,
            "top": null,
            "visibility": null,
            "width": null
          }
        },
        "fc0b466c829c449296edd3166db95a30": {
          "model_module": "@jupyter-widgets/controls",
          "model_name": "DescriptionStyleModel",
          "model_module_version": "1.5.0",
          "state": {
            "_model_module": "@jupyter-widgets/controls",
            "_model_module_version": "1.5.0",
            "_model_name": "DescriptionStyleModel",
            "_view_count": null,
            "_view_module": "@jupyter-widgets/base",
            "_view_module_version": "1.2.0",
            "_view_name": "StyleView",
            "description_width": ""
          }
        },
        "89e0d3fb07b44d7f8d24294b3b7834c3": {
          "model_module": "@jupyter-widgets/controls",
          "model_name": "HBoxModel",
          "model_module_version": "1.5.0",
          "state": {
            "_dom_classes": [],
            "_model_module": "@jupyter-widgets/controls",
            "_model_module_version": "1.5.0",
            "_model_name": "HBoxModel",
            "_view_count": null,
            "_view_module": "@jupyter-widgets/controls",
            "_view_module_version": "1.5.0",
            "_view_name": "HBoxView",
            "box_style": "",
            "children": [
              "IPY_MODEL_5ce92906ce274386b6c878d77188494b",
              "IPY_MODEL_0581993229e04798ad8ed790eeceb09d",
              "IPY_MODEL_cfd9d1d2aca345afa81263cf597a1c98"
            ],
            "layout": "IPY_MODEL_61b814810c68461091fbd87edfee67c2"
          }
        },
        "5ce92906ce274386b6c878d77188494b": {
          "model_module": "@jupyter-widgets/controls",
          "model_name": "HTMLModel",
          "model_module_version": "1.5.0",
          "state": {
            "_dom_classes": [],
            "_model_module": "@jupyter-widgets/controls",
            "_model_module_version": "1.5.0",
            "_model_name": "HTMLModel",
            "_view_count": null,
            "_view_module": "@jupyter-widgets/controls",
            "_view_module_version": "1.5.0",
            "_view_name": "HTMLView",
            "description": "",
            "description_tooltip": null,
            "layout": "IPY_MODEL_8828424291ab4f5eb0d18d3b0b05e4a4",
            "placeholder": "​",
            "style": "IPY_MODEL_09d83e9af3e245c585a73621339b80ea",
            "value": "100%"
          }
        },
        "0581993229e04798ad8ed790eeceb09d": {
          "model_module": "@jupyter-widgets/controls",
          "model_name": "FloatProgressModel",
          "model_module_version": "1.5.0",
          "state": {
            "_dom_classes": [],
            "_model_module": "@jupyter-widgets/controls",
            "_model_module_version": "1.5.0",
            "_model_name": "FloatProgressModel",
            "_view_count": null,
            "_view_module": "@jupyter-widgets/controls",
            "_view_module_version": "1.5.0",
            "_view_name": "ProgressView",
            "bar_style": "success",
            "description": "",
            "description_tooltip": null,
            "layout": "IPY_MODEL_3579af20232842d3968ca9672caf73cf",
            "max": 1648877,
            "min": 0,
            "orientation": "horizontal",
            "style": "IPY_MODEL_e19d224a84cc4f04a5d9595df29bf868",
            "value": 1648877
          }
        },
        "cfd9d1d2aca345afa81263cf597a1c98": {
          "model_module": "@jupyter-widgets/controls",
          "model_name": "HTMLModel",
          "model_module_version": "1.5.0",
          "state": {
            "_dom_classes": [],
            "_model_module": "@jupyter-widgets/controls",
            "_model_module_version": "1.5.0",
            "_model_name": "HTMLModel",
            "_view_count": null,
            "_view_module": "@jupyter-widgets/controls",
            "_view_module_version": "1.5.0",
            "_view_name": "HTMLView",
            "description": "",
            "description_tooltip": null,
            "layout": "IPY_MODEL_483f5f99c0284e8fb9d501e0ae90cf42",
            "placeholder": "​",
            "style": "IPY_MODEL_4cf75b8ceccb4a58b732c70011d326d3",
            "value": " 1648877/1648877 [00:00&lt;00:00, 270679.13it/s]"
          }
        },
        "61b814810c68461091fbd87edfee67c2": {
          "model_module": "@jupyter-widgets/base",
          "model_name": "LayoutModel",
          "model_module_version": "1.2.0",
          "state": {
            "_model_module": "@jupyter-widgets/base",
            "_model_module_version": "1.2.0",
            "_model_name": "LayoutModel",
            "_view_count": null,
            "_view_module": "@jupyter-widgets/base",
            "_view_module_version": "1.2.0",
            "_view_name": "LayoutView",
            "align_content": null,
            "align_items": null,
            "align_self": null,
            "border": null,
            "bottom": null,
            "display": null,
            "flex": null,
            "flex_flow": null,
            "grid_area": null,
            "grid_auto_columns": null,
            "grid_auto_flow": null,
            "grid_auto_rows": null,
            "grid_column": null,
            "grid_gap": null,
            "grid_row": null,
            "grid_template_areas": null,
            "grid_template_columns": null,
            "grid_template_rows": null,
            "height": null,
            "justify_content": null,
            "justify_items": null,
            "left": null,
            "margin": null,
            "max_height": null,
            "max_width": null,
            "min_height": null,
            "min_width": null,
            "object_fit": null,
            "object_position": null,
            "order": null,
            "overflow": null,
            "overflow_x": null,
            "overflow_y": null,
            "padding": null,
            "right": null,
            "top": null,
            "visibility": null,
            "width": null
          }
        },
        "8828424291ab4f5eb0d18d3b0b05e4a4": {
          "model_module": "@jupyter-widgets/base",
          "model_name": "LayoutModel",
          "model_module_version": "1.2.0",
          "state": {
            "_model_module": "@jupyter-widgets/base",
            "_model_module_version": "1.2.0",
            "_model_name": "LayoutModel",
            "_view_count": null,
            "_view_module": "@jupyter-widgets/base",
            "_view_module_version": "1.2.0",
            "_view_name": "LayoutView",
            "align_content": null,
            "align_items": null,
            "align_self": null,
            "border": null,
            "bottom": null,
            "display": null,
            "flex": null,
            "flex_flow": null,
            "grid_area": null,
            "grid_auto_columns": null,
            "grid_auto_flow": null,
            "grid_auto_rows": null,
            "grid_column": null,
            "grid_gap": null,
            "grid_row": null,
            "grid_template_areas": null,
            "grid_template_columns": null,
            "grid_template_rows": null,
            "height": null,
            "justify_content": null,
            "justify_items": null,
            "left": null,
            "margin": null,
            "max_height": null,
            "max_width": null,
            "min_height": null,
            "min_width": null,
            "object_fit": null,
            "object_position": null,
            "order": null,
            "overflow": null,
            "overflow_x": null,
            "overflow_y": null,
            "padding": null,
            "right": null,
            "top": null,
            "visibility": null,
            "width": null
          }
        },
        "09d83e9af3e245c585a73621339b80ea": {
          "model_module": "@jupyter-widgets/controls",
          "model_name": "DescriptionStyleModel",
          "model_module_version": "1.5.0",
          "state": {
            "_model_module": "@jupyter-widgets/controls",
            "_model_module_version": "1.5.0",
            "_model_name": "DescriptionStyleModel",
            "_view_count": null,
            "_view_module": "@jupyter-widgets/base",
            "_view_module_version": "1.2.0",
            "_view_name": "StyleView",
            "description_width": ""
          }
        },
        "3579af20232842d3968ca9672caf73cf": {
          "model_module": "@jupyter-widgets/base",
          "model_name": "LayoutModel",
          "model_module_version": "1.2.0",
          "state": {
            "_model_module": "@jupyter-widgets/base",
            "_model_module_version": "1.2.0",
            "_model_name": "LayoutModel",
            "_view_count": null,
            "_view_module": "@jupyter-widgets/base",
            "_view_module_version": "1.2.0",
            "_view_name": "LayoutView",
            "align_content": null,
            "align_items": null,
            "align_self": null,
            "border": null,
            "bottom": null,
            "display": null,
            "flex": null,
            "flex_flow": null,
            "grid_area": null,
            "grid_auto_columns": null,
            "grid_auto_flow": null,
            "grid_auto_rows": null,
            "grid_column": null,
            "grid_gap": null,
            "grid_row": null,
            "grid_template_areas": null,
            "grid_template_columns": null,
            "grid_template_rows": null,
            "height": null,
            "justify_content": null,
            "justify_items": null,
            "left": null,
            "margin": null,
            "max_height": null,
            "max_width": null,
            "min_height": null,
            "min_width": null,
            "object_fit": null,
            "object_position": null,
            "order": null,
            "overflow": null,
            "overflow_x": null,
            "overflow_y": null,
            "padding": null,
            "right": null,
            "top": null,
            "visibility": null,
            "width": null
          }
        },
        "e19d224a84cc4f04a5d9595df29bf868": {
          "model_module": "@jupyter-widgets/controls",
          "model_name": "ProgressStyleModel",
          "model_module_version": "1.5.0",
          "state": {
            "_model_module": "@jupyter-widgets/controls",
            "_model_module_version": "1.5.0",
            "_model_name": "ProgressStyleModel",
            "_view_count": null,
            "_view_module": "@jupyter-widgets/base",
            "_view_module_version": "1.2.0",
            "_view_name": "StyleView",
            "bar_color": null,
            "description_width": ""
          }
        },
        "483f5f99c0284e8fb9d501e0ae90cf42": {
          "model_module": "@jupyter-widgets/base",
          "model_name": "LayoutModel",
          "model_module_version": "1.2.0",
          "state": {
            "_model_module": "@jupyter-widgets/base",
            "_model_module_version": "1.2.0",
            "_model_name": "LayoutModel",
            "_view_count": null,
            "_view_module": "@jupyter-widgets/base",
            "_view_module_version": "1.2.0",
            "_view_name": "LayoutView",
            "align_content": null,
            "align_items": null,
            "align_self": null,
            "border": null,
            "bottom": null,
            "display": null,
            "flex": null,
            "flex_flow": null,
            "grid_area": null,
            "grid_auto_columns": null,
            "grid_auto_flow": null,
            "grid_auto_rows": null,
            "grid_column": null,
            "grid_gap": null,
            "grid_row": null,
            "grid_template_areas": null,
            "grid_template_columns": null,
            "grid_template_rows": null,
            "height": null,
            "justify_content": null,
            "justify_items": null,
            "left": null,
            "margin": null,
            "max_height": null,
            "max_width": null,
            "min_height": null,
            "min_width": null,
            "object_fit": null,
            "object_position": null,
            "order": null,
            "overflow": null,
            "overflow_x": null,
            "overflow_y": null,
            "padding": null,
            "right": null,
            "top": null,
            "visibility": null,
            "width": null
          }
        },
        "4cf75b8ceccb4a58b732c70011d326d3": {
          "model_module": "@jupyter-widgets/controls",
          "model_name": "DescriptionStyleModel",
          "model_module_version": "1.5.0",
          "state": {
            "_model_module": "@jupyter-widgets/controls",
            "_model_module_version": "1.5.0",
            "_model_name": "DescriptionStyleModel",
            "_view_count": null,
            "_view_module": "@jupyter-widgets/base",
            "_view_module_version": "1.2.0",
            "_view_name": "StyleView",
            "description_width": ""
          }
        },
        "56ec9cdf76d04700853ee6310b978716": {
          "model_module": "@jupyter-widgets/controls",
          "model_name": "HBoxModel",
          "model_module_version": "1.5.0",
          "state": {
            "_dom_classes": [],
            "_model_module": "@jupyter-widgets/controls",
            "_model_module_version": "1.5.0",
            "_model_name": "HBoxModel",
            "_view_count": null,
            "_view_module": "@jupyter-widgets/controls",
            "_view_module_version": "1.5.0",
            "_view_name": "HBoxView",
            "box_style": "",
            "children": [
              "IPY_MODEL_62fec177b0414ab1abbfadc40268abe2",
              "IPY_MODEL_a8d1c8c92cba40e49591c463bc3c913e",
              "IPY_MODEL_75de558f93ed49a5b982f3145d55cead"
            ],
            "layout": "IPY_MODEL_b7fcb21df2ec4f9cbc3fb609adff36e3"
          }
        },
        "62fec177b0414ab1abbfadc40268abe2": {
          "model_module": "@jupyter-widgets/controls",
          "model_name": "HTMLModel",
          "model_module_version": "1.5.0",
          "state": {
            "_dom_classes": [],
            "_model_module": "@jupyter-widgets/controls",
            "_model_module_version": "1.5.0",
            "_model_name": "HTMLModel",
            "_view_count": null,
            "_view_module": "@jupyter-widgets/controls",
            "_view_module_version": "1.5.0",
            "_view_name": "HTMLView",
            "description": "",
            "description_tooltip": null,
            "layout": "IPY_MODEL_dbd09b05fcd94a91af79c6cf6cd7727a",
            "placeholder": "​",
            "style": "IPY_MODEL_a4b2340f54b24e16b6f14860d36be265",
            "value": "100%"
          }
        },
        "a8d1c8c92cba40e49591c463bc3c913e": {
          "model_module": "@jupyter-widgets/controls",
          "model_name": "FloatProgressModel",
          "model_module_version": "1.5.0",
          "state": {
            "_dom_classes": [],
            "_model_module": "@jupyter-widgets/controls",
            "_model_module_version": "1.5.0",
            "_model_name": "FloatProgressModel",
            "_view_count": null,
            "_view_module": "@jupyter-widgets/controls",
            "_view_module_version": "1.5.0",
            "_view_name": "ProgressView",
            "bar_style": "success",
            "description": "",
            "description_tooltip": null,
            "layout": "IPY_MODEL_fbb731d627da4f679d53df5fac287c7b",
            "max": 4542,
            "min": 0,
            "orientation": "horizontal",
            "style": "IPY_MODEL_21414bca457e455ca74c47157a989600",
            "value": 4542
          }
        },
        "75de558f93ed49a5b982f3145d55cead": {
          "model_module": "@jupyter-widgets/controls",
          "model_name": "HTMLModel",
          "model_module_version": "1.5.0",
          "state": {
            "_dom_classes": [],
            "_model_module": "@jupyter-widgets/controls",
            "_model_module_version": "1.5.0",
            "_model_name": "HTMLModel",
            "_view_count": null,
            "_view_module": "@jupyter-widgets/controls",
            "_view_module_version": "1.5.0",
            "_view_name": "HTMLView",
            "description": "",
            "description_tooltip": null,
            "layout": "IPY_MODEL_f1c8fbbdd27d475eaf0624900663f196",
            "placeholder": "​",
            "style": "IPY_MODEL_1e6f9483fdd749e8a23505b44afd24a9",
            "value": " 4542/4542 [00:00&lt;00:00, 34282.47it/s]"
          }
        },
        "b7fcb21df2ec4f9cbc3fb609adff36e3": {
          "model_module": "@jupyter-widgets/base",
          "model_name": "LayoutModel",
          "model_module_version": "1.2.0",
          "state": {
            "_model_module": "@jupyter-widgets/base",
            "_model_module_version": "1.2.0",
            "_model_name": "LayoutModel",
            "_view_count": null,
            "_view_module": "@jupyter-widgets/base",
            "_view_module_version": "1.2.0",
            "_view_name": "LayoutView",
            "align_content": null,
            "align_items": null,
            "align_self": null,
            "border": null,
            "bottom": null,
            "display": null,
            "flex": null,
            "flex_flow": null,
            "grid_area": null,
            "grid_auto_columns": null,
            "grid_auto_flow": null,
            "grid_auto_rows": null,
            "grid_column": null,
            "grid_gap": null,
            "grid_row": null,
            "grid_template_areas": null,
            "grid_template_columns": null,
            "grid_template_rows": null,
            "height": null,
            "justify_content": null,
            "justify_items": null,
            "left": null,
            "margin": null,
            "max_height": null,
            "max_width": null,
            "min_height": null,
            "min_width": null,
            "object_fit": null,
            "object_position": null,
            "order": null,
            "overflow": null,
            "overflow_x": null,
            "overflow_y": null,
            "padding": null,
            "right": null,
            "top": null,
            "visibility": null,
            "width": null
          }
        },
        "dbd09b05fcd94a91af79c6cf6cd7727a": {
          "model_module": "@jupyter-widgets/base",
          "model_name": "LayoutModel",
          "model_module_version": "1.2.0",
          "state": {
            "_model_module": "@jupyter-widgets/base",
            "_model_module_version": "1.2.0",
            "_model_name": "LayoutModel",
            "_view_count": null,
            "_view_module": "@jupyter-widgets/base",
            "_view_module_version": "1.2.0",
            "_view_name": "LayoutView",
            "align_content": null,
            "align_items": null,
            "align_self": null,
            "border": null,
            "bottom": null,
            "display": null,
            "flex": null,
            "flex_flow": null,
            "grid_area": null,
            "grid_auto_columns": null,
            "grid_auto_flow": null,
            "grid_auto_rows": null,
            "grid_column": null,
            "grid_gap": null,
            "grid_row": null,
            "grid_template_areas": null,
            "grid_template_columns": null,
            "grid_template_rows": null,
            "height": null,
            "justify_content": null,
            "justify_items": null,
            "left": null,
            "margin": null,
            "max_height": null,
            "max_width": null,
            "min_height": null,
            "min_width": null,
            "object_fit": null,
            "object_position": null,
            "order": null,
            "overflow": null,
            "overflow_x": null,
            "overflow_y": null,
            "padding": null,
            "right": null,
            "top": null,
            "visibility": null,
            "width": null
          }
        },
        "a4b2340f54b24e16b6f14860d36be265": {
          "model_module": "@jupyter-widgets/controls",
          "model_name": "DescriptionStyleModel",
          "model_module_version": "1.5.0",
          "state": {
            "_model_module": "@jupyter-widgets/controls",
            "_model_module_version": "1.5.0",
            "_model_name": "DescriptionStyleModel",
            "_view_count": null,
            "_view_module": "@jupyter-widgets/base",
            "_view_module_version": "1.2.0",
            "_view_name": "StyleView",
            "description_width": ""
          }
        },
        "fbb731d627da4f679d53df5fac287c7b": {
          "model_module": "@jupyter-widgets/base",
          "model_name": "LayoutModel",
          "model_module_version": "1.2.0",
          "state": {
            "_model_module": "@jupyter-widgets/base",
            "_model_module_version": "1.2.0",
            "_model_name": "LayoutModel",
            "_view_count": null,
            "_view_module": "@jupyter-widgets/base",
            "_view_module_version": "1.2.0",
            "_view_name": "LayoutView",
            "align_content": null,
            "align_items": null,
            "align_self": null,
            "border": null,
            "bottom": null,
            "display": null,
            "flex": null,
            "flex_flow": null,
            "grid_area": null,
            "grid_auto_columns": null,
            "grid_auto_flow": null,
            "grid_auto_rows": null,
            "grid_column": null,
            "grid_gap": null,
            "grid_row": null,
            "grid_template_areas": null,
            "grid_template_columns": null,
            "grid_template_rows": null,
            "height": null,
            "justify_content": null,
            "justify_items": null,
            "left": null,
            "margin": null,
            "max_height": null,
            "max_width": null,
            "min_height": null,
            "min_width": null,
            "object_fit": null,
            "object_position": null,
            "order": null,
            "overflow": null,
            "overflow_x": null,
            "overflow_y": null,
            "padding": null,
            "right": null,
            "top": null,
            "visibility": null,
            "width": null
          }
        },
        "21414bca457e455ca74c47157a989600": {
          "model_module": "@jupyter-widgets/controls",
          "model_name": "ProgressStyleModel",
          "model_module_version": "1.5.0",
          "state": {
            "_model_module": "@jupyter-widgets/controls",
            "_model_module_version": "1.5.0",
            "_model_name": "ProgressStyleModel",
            "_view_count": null,
            "_view_module": "@jupyter-widgets/base",
            "_view_module_version": "1.2.0",
            "_view_name": "StyleView",
            "bar_color": null,
            "description_width": ""
          }
        },
        "f1c8fbbdd27d475eaf0624900663f196": {
          "model_module": "@jupyter-widgets/base",
          "model_name": "LayoutModel",
          "model_module_version": "1.2.0",
          "state": {
            "_model_module": "@jupyter-widgets/base",
            "_model_module_version": "1.2.0",
            "_model_name": "LayoutModel",
            "_view_count": null,
            "_view_module": "@jupyter-widgets/base",
            "_view_module_version": "1.2.0",
            "_view_name": "LayoutView",
            "align_content": null,
            "align_items": null,
            "align_self": null,
            "border": null,
            "bottom": null,
            "display": null,
            "flex": null,
            "flex_flow": null,
            "grid_area": null,
            "grid_auto_columns": null,
            "grid_auto_flow": null,
            "grid_auto_rows": null,
            "grid_column": null,
            "grid_gap": null,
            "grid_row": null,
            "grid_template_areas": null,
            "grid_template_columns": null,
            "grid_template_rows": null,
            "height": null,
            "justify_content": null,
            "justify_items": null,
            "left": null,
            "margin": null,
            "max_height": null,
            "max_width": null,
            "min_height": null,
            "min_width": null,
            "object_fit": null,
            "object_position": null,
            "order": null,
            "overflow": null,
            "overflow_x": null,
            "overflow_y": null,
            "padding": null,
            "right": null,
            "top": null,
            "visibility": null,
            "width": null
          }
        },
        "1e6f9483fdd749e8a23505b44afd24a9": {
          "model_module": "@jupyter-widgets/controls",
          "model_name": "DescriptionStyleModel",
          "model_module_version": "1.5.0",
          "state": {
            "_model_module": "@jupyter-widgets/controls",
            "_model_module_version": "1.5.0",
            "_model_name": "DescriptionStyleModel",
            "_view_count": null,
            "_view_module": "@jupyter-widgets/base",
            "_view_module_version": "1.2.0",
            "_view_name": "StyleView",
            "description_width": ""
          }
        },
        "c0416f2183c84515aaeec347e43a6a0e": {
          "model_module": "@jupyter-widgets/controls",
          "model_name": "HBoxModel",
          "model_module_version": "1.5.0",
          "state": {
            "_dom_classes": [],
            "_model_module": "@jupyter-widgets/controls",
            "_model_module_version": "1.5.0",
            "_model_name": "HBoxModel",
            "_view_count": null,
            "_view_module": "@jupyter-widgets/controls",
            "_view_module_version": "1.5.0",
            "_view_name": "HBoxView",
            "box_style": "",
            "children": [
              "IPY_MODEL_64f2e7dc294041c49d951218bdfeb335",
              "IPY_MODEL_fc9398c14c5844019c288a09116aa593",
              "IPY_MODEL_c26593d1a6b541fbadad4d057d077808"
            ],
            "layout": "IPY_MODEL_a6ef014d56ed4cc7ad724fe9094241e1"
          }
        },
        "64f2e7dc294041c49d951218bdfeb335": {
          "model_module": "@jupyter-widgets/controls",
          "model_name": "HTMLModel",
          "model_module_version": "1.5.0",
          "state": {
            "_dom_classes": [],
            "_model_module": "@jupyter-widgets/controls",
            "_model_module_version": "1.5.0",
            "_model_name": "HTMLModel",
            "_view_count": null,
            "_view_module": "@jupyter-widgets/controls",
            "_view_module_version": "1.5.0",
            "_view_name": "HTMLView",
            "description": "",
            "description_tooltip": null,
            "layout": "IPY_MODEL_83d5e0b9bbe84d399ddfd0a989612d25",
            "placeholder": "​",
            "style": "IPY_MODEL_c8a6396457c649f6a2b886b7f121c007",
            "value": "100%"
          }
        },
        "fc9398c14c5844019c288a09116aa593": {
          "model_module": "@jupyter-widgets/controls",
          "model_name": "FloatProgressModel",
          "model_module_version": "1.5.0",
          "state": {
            "_dom_classes": [],
            "_model_module": "@jupyter-widgets/controls",
            "_model_module_version": "1.5.0",
            "_model_name": "FloatProgressModel",
            "_view_count": null,
            "_view_module": "@jupyter-widgets/controls",
            "_view_module_version": "1.5.0",
            "_view_name": "ProgressView",
            "bar_style": "success",
            "description": "",
            "description_tooltip": null,
            "layout": "IPY_MODEL_409e3c9001a44ae0a41f6d447c887261",
            "max": 182040794,
            "min": 0,
            "orientation": "horizontal",
            "style": "IPY_MODEL_5638f2e410ba456a86cfabfc98810f84",
            "value": 182040794
          }
        },
        "c26593d1a6b541fbadad4d057d077808": {
          "model_module": "@jupyter-widgets/controls",
          "model_name": "HTMLModel",
          "model_module_version": "1.5.0",
          "state": {
            "_dom_classes": [],
            "_model_module": "@jupyter-widgets/controls",
            "_model_module_version": "1.5.0",
            "_model_name": "HTMLModel",
            "_view_count": null,
            "_view_module": "@jupyter-widgets/controls",
            "_view_module_version": "1.5.0",
            "_view_name": "HTMLView",
            "description": "",
            "description_tooltip": null,
            "layout": "IPY_MODEL_ae207802ad434792b3524399f359d95a",
            "placeholder": "​",
            "style": "IPY_MODEL_36d559de2eaa4f4cb320758937627aec",
            "value": " 182040794/182040794 [00:15&lt;00:00, 15430006.91it/s]"
          }
        },
        "a6ef014d56ed4cc7ad724fe9094241e1": {
          "model_module": "@jupyter-widgets/base",
          "model_name": "LayoutModel",
          "model_module_version": "1.2.0",
          "state": {
            "_model_module": "@jupyter-widgets/base",
            "_model_module_version": "1.2.0",
            "_model_name": "LayoutModel",
            "_view_count": null,
            "_view_module": "@jupyter-widgets/base",
            "_view_module_version": "1.2.0",
            "_view_name": "LayoutView",
            "align_content": null,
            "align_items": null,
            "align_self": null,
            "border": null,
            "bottom": null,
            "display": null,
            "flex": null,
            "flex_flow": null,
            "grid_area": null,
            "grid_auto_columns": null,
            "grid_auto_flow": null,
            "grid_auto_rows": null,
            "grid_column": null,
            "grid_gap": null,
            "grid_row": null,
            "grid_template_areas": null,
            "grid_template_columns": null,
            "grid_template_rows": null,
            "height": null,
            "justify_content": null,
            "justify_items": null,
            "left": null,
            "margin": null,
            "max_height": null,
            "max_width": null,
            "min_height": null,
            "min_width": null,
            "object_fit": null,
            "object_position": null,
            "order": null,
            "overflow": null,
            "overflow_x": null,
            "overflow_y": null,
            "padding": null,
            "right": null,
            "top": null,
            "visibility": null,
            "width": null
          }
        },
        "83d5e0b9bbe84d399ddfd0a989612d25": {
          "model_module": "@jupyter-widgets/base",
          "model_name": "LayoutModel",
          "model_module_version": "1.2.0",
          "state": {
            "_model_module": "@jupyter-widgets/base",
            "_model_module_version": "1.2.0",
            "_model_name": "LayoutModel",
            "_view_count": null,
            "_view_module": "@jupyter-widgets/base",
            "_view_module_version": "1.2.0",
            "_view_name": "LayoutView",
            "align_content": null,
            "align_items": null,
            "align_self": null,
            "border": null,
            "bottom": null,
            "display": null,
            "flex": null,
            "flex_flow": null,
            "grid_area": null,
            "grid_auto_columns": null,
            "grid_auto_flow": null,
            "grid_auto_rows": null,
            "grid_column": null,
            "grid_gap": null,
            "grid_row": null,
            "grid_template_areas": null,
            "grid_template_columns": null,
            "grid_template_rows": null,
            "height": null,
            "justify_content": null,
            "justify_items": null,
            "left": null,
            "margin": null,
            "max_height": null,
            "max_width": null,
            "min_height": null,
            "min_width": null,
            "object_fit": null,
            "object_position": null,
            "order": null,
            "overflow": null,
            "overflow_x": null,
            "overflow_y": null,
            "padding": null,
            "right": null,
            "top": null,
            "visibility": null,
            "width": null
          }
        },
        "c8a6396457c649f6a2b886b7f121c007": {
          "model_module": "@jupyter-widgets/controls",
          "model_name": "DescriptionStyleModel",
          "model_module_version": "1.5.0",
          "state": {
            "_model_module": "@jupyter-widgets/controls",
            "_model_module_version": "1.5.0",
            "_model_name": "DescriptionStyleModel",
            "_view_count": null,
            "_view_module": "@jupyter-widgets/base",
            "_view_module_version": "1.2.0",
            "_view_name": "StyleView",
            "description_width": ""
          }
        },
        "409e3c9001a44ae0a41f6d447c887261": {
          "model_module": "@jupyter-widgets/base",
          "model_name": "LayoutModel",
          "model_module_version": "1.2.0",
          "state": {
            "_model_module": "@jupyter-widgets/base",
            "_model_module_version": "1.2.0",
            "_model_name": "LayoutModel",
            "_view_count": null,
            "_view_module": "@jupyter-widgets/base",
            "_view_module_version": "1.2.0",
            "_view_name": "LayoutView",
            "align_content": null,
            "align_items": null,
            "align_self": null,
            "border": null,
            "bottom": null,
            "display": null,
            "flex": null,
            "flex_flow": null,
            "grid_area": null,
            "grid_auto_columns": null,
            "grid_auto_flow": null,
            "grid_auto_rows": null,
            "grid_column": null,
            "grid_gap": null,
            "grid_row": null,
            "grid_template_areas": null,
            "grid_template_columns": null,
            "grid_template_rows": null,
            "height": null,
            "justify_content": null,
            "justify_items": null,
            "left": null,
            "margin": null,
            "max_height": null,
            "max_width": null,
            "min_height": null,
            "min_width": null,
            "object_fit": null,
            "object_position": null,
            "order": null,
            "overflow": null,
            "overflow_x": null,
            "overflow_y": null,
            "padding": null,
            "right": null,
            "top": null,
            "visibility": null,
            "width": null
          }
        },
        "5638f2e410ba456a86cfabfc98810f84": {
          "model_module": "@jupyter-widgets/controls",
          "model_name": "ProgressStyleModel",
          "model_module_version": "1.5.0",
          "state": {
            "_model_module": "@jupyter-widgets/controls",
            "_model_module_version": "1.5.0",
            "_model_name": "ProgressStyleModel",
            "_view_count": null,
            "_view_module": "@jupyter-widgets/base",
            "_view_module_version": "1.2.0",
            "_view_name": "StyleView",
            "bar_color": null,
            "description_width": ""
          }
        },
        "ae207802ad434792b3524399f359d95a": {
          "model_module": "@jupyter-widgets/base",
          "model_name": "LayoutModel",
          "model_module_version": "1.2.0",
          "state": {
            "_model_module": "@jupyter-widgets/base",
            "_model_module_version": "1.2.0",
            "_model_name": "LayoutModel",
            "_view_count": null,
            "_view_module": "@jupyter-widgets/base",
            "_view_module_version": "1.2.0",
            "_view_name": "LayoutView",
            "align_content": null,
            "align_items": null,
            "align_self": null,
            "border": null,
            "bottom": null,
            "display": null,
            "flex": null,
            "flex_flow": null,
            "grid_area": null,
            "grid_auto_columns": null,
            "grid_auto_flow": null,
            "grid_auto_rows": null,
            "grid_column": null,
            "grid_gap": null,
            "grid_row": null,
            "grid_template_areas": null,
            "grid_template_columns": null,
            "grid_template_rows": null,
            "height": null,
            "justify_content": null,
            "justify_items": null,
            "left": null,
            "margin": null,
            "max_height": null,
            "max_width": null,
            "min_height": null,
            "min_width": null,
            "object_fit": null,
            "object_position": null,
            "order": null,
            "overflow": null,
            "overflow_x": null,
            "overflow_y": null,
            "padding": null,
            "right": null,
            "top": null,
            "visibility": null,
            "width": null
          }
        },
        "36d559de2eaa4f4cb320758937627aec": {
          "model_module": "@jupyter-widgets/controls",
          "model_name": "DescriptionStyleModel",
          "model_module_version": "1.5.0",
          "state": {
            "_model_module": "@jupyter-widgets/controls",
            "_model_module_version": "1.5.0",
            "_model_name": "DescriptionStyleModel",
            "_view_count": null,
            "_view_module": "@jupyter-widgets/base",
            "_view_module_version": "1.2.0",
            "_view_name": "StyleView",
            "description_width": ""
          }
        },
        "7160a22ced1b4055a707c3f8d757591c": {
          "model_module": "@jupyter-widgets/controls",
          "model_name": "HBoxModel",
          "model_module_version": "1.5.0",
          "state": {
            "_dom_classes": [],
            "_model_module": "@jupyter-widgets/controls",
            "_model_module_version": "1.5.0",
            "_model_name": "HBoxModel",
            "_view_count": null,
            "_view_module": "@jupyter-widgets/controls",
            "_view_module_version": "1.5.0",
            "_view_name": "HBoxView",
            "box_style": "",
            "children": [
              "IPY_MODEL_a22d250fa38b4b1c8693fd622c081b2b",
              "IPY_MODEL_a1adf250127f47abbc7cf71cf3666ebc",
              "IPY_MODEL_9edb4a037c324630a7dcb190485a7269"
            ],
            "layout": "IPY_MODEL_dd407aa6da304b0fa1d7ea266333eea8"
          }
        },
        "a22d250fa38b4b1c8693fd622c081b2b": {
          "model_module": "@jupyter-widgets/controls",
          "model_name": "HTMLModel",
          "model_module_version": "1.5.0",
          "state": {
            "_dom_classes": [],
            "_model_module": "@jupyter-widgets/controls",
            "_model_module_version": "1.5.0",
            "_model_name": "HTMLModel",
            "_view_count": null,
            "_view_module": "@jupyter-widgets/controls",
            "_view_module_version": "1.5.0",
            "_view_name": "HTMLView",
            "description": "",
            "description_tooltip": null,
            "layout": "IPY_MODEL_712966cb8b6442cd9a6f3cbc38c53964",
            "placeholder": "​",
            "style": "IPY_MODEL_0978ff03d4044f44a5319e9199f7ad67",
            "value": "100%"
          }
        },
        "a1adf250127f47abbc7cf71cf3666ebc": {
          "model_module": "@jupyter-widgets/controls",
          "model_name": "FloatProgressModel",
          "model_module_version": "1.5.0",
          "state": {
            "_dom_classes": [],
            "_model_module": "@jupyter-widgets/controls",
            "_model_module_version": "1.5.0",
            "_model_name": "FloatProgressModel",
            "_view_count": null,
            "_view_module": "@jupyter-widgets/controls",
            "_view_module_version": "1.5.0",
            "_view_name": "ProgressView",
            "bar_style": "success",
            "description": "",
            "description_tooltip": null,
            "layout": "IPY_MODEL_2aed373153c94215ba5d05eac72cb040",
            "max": 64275384,
            "min": 0,
            "orientation": "horizontal",
            "style": "IPY_MODEL_42ffa1ec61b84921b42bdbc8c47b6744",
            "value": 64275384
          }
        },
        "9edb4a037c324630a7dcb190485a7269": {
          "model_module": "@jupyter-widgets/controls",
          "model_name": "HTMLModel",
          "model_module_version": "1.5.0",
          "state": {
            "_dom_classes": [],
            "_model_module": "@jupyter-widgets/controls",
            "_model_module_version": "1.5.0",
            "_model_name": "HTMLModel",
            "_view_count": null,
            "_view_module": "@jupyter-widgets/controls",
            "_view_module_version": "1.5.0",
            "_view_name": "HTMLView",
            "description": "",
            "description_tooltip": null,
            "layout": "IPY_MODEL_bde4a1be97be453ead80cce2e72718ec",
            "placeholder": "​",
            "style": "IPY_MODEL_f15bbac4523a48b4ba6333ba48d1c9fa",
            "value": " 64275384/64275384 [00:11&lt;00:00, 9918237.45it/s]"
          }
        },
        "dd407aa6da304b0fa1d7ea266333eea8": {
          "model_module": "@jupyter-widgets/base",
          "model_name": "LayoutModel",
          "model_module_version": "1.2.0",
          "state": {
            "_model_module": "@jupyter-widgets/base",
            "_model_module_version": "1.2.0",
            "_model_name": "LayoutModel",
            "_view_count": null,
            "_view_module": "@jupyter-widgets/base",
            "_view_module_version": "1.2.0",
            "_view_name": "LayoutView",
            "align_content": null,
            "align_items": null,
            "align_self": null,
            "border": null,
            "bottom": null,
            "display": null,
            "flex": null,
            "flex_flow": null,
            "grid_area": null,
            "grid_auto_columns": null,
            "grid_auto_flow": null,
            "grid_auto_rows": null,
            "grid_column": null,
            "grid_gap": null,
            "grid_row": null,
            "grid_template_areas": null,
            "grid_template_columns": null,
            "grid_template_rows": null,
            "height": null,
            "justify_content": null,
            "justify_items": null,
            "left": null,
            "margin": null,
            "max_height": null,
            "max_width": null,
            "min_height": null,
            "min_width": null,
            "object_fit": null,
            "object_position": null,
            "order": null,
            "overflow": null,
            "overflow_x": null,
            "overflow_y": null,
            "padding": null,
            "right": null,
            "top": null,
            "visibility": null,
            "width": null
          }
        },
        "712966cb8b6442cd9a6f3cbc38c53964": {
          "model_module": "@jupyter-widgets/base",
          "model_name": "LayoutModel",
          "model_module_version": "1.2.0",
          "state": {
            "_model_module": "@jupyter-widgets/base",
            "_model_module_version": "1.2.0",
            "_model_name": "LayoutModel",
            "_view_count": null,
            "_view_module": "@jupyter-widgets/base",
            "_view_module_version": "1.2.0",
            "_view_name": "LayoutView",
            "align_content": null,
            "align_items": null,
            "align_self": null,
            "border": null,
            "bottom": null,
            "display": null,
            "flex": null,
            "flex_flow": null,
            "grid_area": null,
            "grid_auto_columns": null,
            "grid_auto_flow": null,
            "grid_auto_rows": null,
            "grid_column": null,
            "grid_gap": null,
            "grid_row": null,
            "grid_template_areas": null,
            "grid_template_columns": null,
            "grid_template_rows": null,
            "height": null,
            "justify_content": null,
            "justify_items": null,
            "left": null,
            "margin": null,
            "max_height": null,
            "max_width": null,
            "min_height": null,
            "min_width": null,
            "object_fit": null,
            "object_position": null,
            "order": null,
            "overflow": null,
            "overflow_x": null,
            "overflow_y": null,
            "padding": null,
            "right": null,
            "top": null,
            "visibility": null,
            "width": null
          }
        },
        "0978ff03d4044f44a5319e9199f7ad67": {
          "model_module": "@jupyter-widgets/controls",
          "model_name": "DescriptionStyleModel",
          "model_module_version": "1.5.0",
          "state": {
            "_model_module": "@jupyter-widgets/controls",
            "_model_module_version": "1.5.0",
            "_model_name": "DescriptionStyleModel",
            "_view_count": null,
            "_view_module": "@jupyter-widgets/base",
            "_view_module_version": "1.2.0",
            "_view_name": "StyleView",
            "description_width": ""
          }
        },
        "2aed373153c94215ba5d05eac72cb040": {
          "model_module": "@jupyter-widgets/base",
          "model_name": "LayoutModel",
          "model_module_version": "1.2.0",
          "state": {
            "_model_module": "@jupyter-widgets/base",
            "_model_module_version": "1.2.0",
            "_model_name": "LayoutModel",
            "_view_count": null,
            "_view_module": "@jupyter-widgets/base",
            "_view_module_version": "1.2.0",
            "_view_name": "LayoutView",
            "align_content": null,
            "align_items": null,
            "align_self": null,
            "border": null,
            "bottom": null,
            "display": null,
            "flex": null,
            "flex_flow": null,
            "grid_area": null,
            "grid_auto_columns": null,
            "grid_auto_flow": null,
            "grid_auto_rows": null,
            "grid_column": null,
            "grid_gap": null,
            "grid_row": null,
            "grid_template_areas": null,
            "grid_template_columns": null,
            "grid_template_rows": null,
            "height": null,
            "justify_content": null,
            "justify_items": null,
            "left": null,
            "margin": null,
            "max_height": null,
            "max_width": null,
            "min_height": null,
            "min_width": null,
            "object_fit": null,
            "object_position": null,
            "order": null,
            "overflow": null,
            "overflow_x": null,
            "overflow_y": null,
            "padding": null,
            "right": null,
            "top": null,
            "visibility": null,
            "width": null
          }
        },
        "42ffa1ec61b84921b42bdbc8c47b6744": {
          "model_module": "@jupyter-widgets/controls",
          "model_name": "ProgressStyleModel",
          "model_module_version": "1.5.0",
          "state": {
            "_model_module": "@jupyter-widgets/controls",
            "_model_module_version": "1.5.0",
            "_model_name": "ProgressStyleModel",
            "_view_count": null,
            "_view_module": "@jupyter-widgets/base",
            "_view_module_version": "1.2.0",
            "_view_name": "StyleView",
            "bar_color": null,
            "description_width": ""
          }
        },
        "bde4a1be97be453ead80cce2e72718ec": {
          "model_module": "@jupyter-widgets/base",
          "model_name": "LayoutModel",
          "model_module_version": "1.2.0",
          "state": {
            "_model_module": "@jupyter-widgets/base",
            "_model_module_version": "1.2.0",
            "_model_name": "LayoutModel",
            "_view_count": null,
            "_view_module": "@jupyter-widgets/base",
            "_view_module_version": "1.2.0",
            "_view_name": "LayoutView",
            "align_content": null,
            "align_items": null,
            "align_self": null,
            "border": null,
            "bottom": null,
            "display": null,
            "flex": null,
            "flex_flow": null,
            "grid_area": null,
            "grid_auto_columns": null,
            "grid_auto_flow": null,
            "grid_auto_rows": null,
            "grid_column": null,
            "grid_gap": null,
            "grid_row": null,
            "grid_template_areas": null,
            "grid_template_columns": null,
            "grid_template_rows": null,
            "height": null,
            "justify_content": null,
            "justify_items": null,
            "left": null,
            "margin": null,
            "max_height": null,
            "max_width": null,
            "min_height": null,
            "min_width": null,
            "object_fit": null,
            "object_position": null,
            "order": null,
            "overflow": null,
            "overflow_x": null,
            "overflow_y": null,
            "padding": null,
            "right": null,
            "top": null,
            "visibility": null,
            "width": null
          }
        },
        "f15bbac4523a48b4ba6333ba48d1c9fa": {
          "model_module": "@jupyter-widgets/controls",
          "model_name": "DescriptionStyleModel",
          "model_module_version": "1.5.0",
          "state": {
            "_model_module": "@jupyter-widgets/controls",
            "_model_module_version": "1.5.0",
            "_model_name": "DescriptionStyleModel",
            "_view_count": null,
            "_view_module": "@jupyter-widgets/base",
            "_view_module_version": "1.2.0",
            "_view_name": "StyleView",
            "description_width": ""
          }
        },
        "73ee0706a2b0463986c11f2a4b05eabe": {
          "model_module": "@jupyter-widgets/controls",
          "model_name": "HBoxModel",
          "model_module_version": "1.5.0",
          "state": {
            "_dom_classes": [],
            "_model_module": "@jupyter-widgets/controls",
            "_model_module_version": "1.5.0",
            "_model_name": "HBoxModel",
            "_view_count": null,
            "_view_module": "@jupyter-widgets/controls",
            "_view_module_version": "1.5.0",
            "_view_name": "HBoxView",
            "box_style": "",
            "children": [
              "IPY_MODEL_09140436690447b49e886ba7061d20ef",
              "IPY_MODEL_561d21eca7ef41138660666c42be8565",
              "IPY_MODEL_e4a021bc77f74117a3242db00fb309b4"
            ],
            "layout": "IPY_MODEL_b27c20393e0f4012b7030630f01abb06"
          }
        },
        "09140436690447b49e886ba7061d20ef": {
          "model_module": "@jupyter-widgets/controls",
          "model_name": "HTMLModel",
          "model_module_version": "1.5.0",
          "state": {
            "_dom_classes": [],
            "_model_module": "@jupyter-widgets/controls",
            "_model_module_version": "1.5.0",
            "_model_name": "HTMLModel",
            "_view_count": null,
            "_view_module": "@jupyter-widgets/controls",
            "_view_module_version": "1.5.0",
            "_view_name": "HTMLView",
            "description": "",
            "description_tooltip": null,
            "layout": "IPY_MODEL_d6212531780f4164a74a8830ef865e6f",
            "placeholder": "​",
            "style": "IPY_MODEL_fba223671ced4e149a1f946ab9eb02b4",
            "value": "100%"
          }
        },
        "561d21eca7ef41138660666c42be8565": {
          "model_module": "@jupyter-widgets/controls",
          "model_name": "FloatProgressModel",
          "model_module_version": "1.5.0",
          "state": {
            "_dom_classes": [],
            "_model_module": "@jupyter-widgets/controls",
            "_model_module_version": "1.5.0",
            "_model_name": "FloatProgressModel",
            "_view_count": null,
            "_view_module": "@jupyter-widgets/controls",
            "_view_module_version": "1.5.0",
            "_view_name": "ProgressView",
            "bar_style": "success",
            "description": "",
            "description_tooltip": null,
            "layout": "IPY_MODEL_4225e634bc7945caa9ffb494023ce4b9",
            "max": 170498071,
            "min": 0,
            "orientation": "horizontal",
            "style": "IPY_MODEL_5aae8317dbf84973b96f7267b0db1e4c",
            "value": 170498071
          }
        },
        "e4a021bc77f74117a3242db00fb309b4": {
          "model_module": "@jupyter-widgets/controls",
          "model_name": "HTMLModel",
          "model_module_version": "1.5.0",
          "state": {
            "_dom_classes": [],
            "_model_module": "@jupyter-widgets/controls",
            "_model_module_version": "1.5.0",
            "_model_name": "HTMLModel",
            "_view_count": null,
            "_view_module": "@jupyter-widgets/controls",
            "_view_module_version": "1.5.0",
            "_view_name": "HTMLView",
            "description": "",
            "description_tooltip": null,
            "layout": "IPY_MODEL_32fd8758ed1a47c7ac7836a0491ccf2d",
            "placeholder": "​",
            "style": "IPY_MODEL_cf0b620534584938a8bbe2a86ac5c6cc",
            "value": " 170498071/170498071 [00:13&lt;00:00, 13148383.21it/s]"
          }
        },
        "b27c20393e0f4012b7030630f01abb06": {
          "model_module": "@jupyter-widgets/base",
          "model_name": "LayoutModel",
          "model_module_version": "1.2.0",
          "state": {
            "_model_module": "@jupyter-widgets/base",
            "_model_module_version": "1.2.0",
            "_model_name": "LayoutModel",
            "_view_count": null,
            "_view_module": "@jupyter-widgets/base",
            "_view_module_version": "1.2.0",
            "_view_name": "LayoutView",
            "align_content": null,
            "align_items": null,
            "align_self": null,
            "border": null,
            "bottom": null,
            "display": null,
            "flex": null,
            "flex_flow": null,
            "grid_area": null,
            "grid_auto_columns": null,
            "grid_auto_flow": null,
            "grid_auto_rows": null,
            "grid_column": null,
            "grid_gap": null,
            "grid_row": null,
            "grid_template_areas": null,
            "grid_template_columns": null,
            "grid_template_rows": null,
            "height": null,
            "justify_content": null,
            "justify_items": null,
            "left": null,
            "margin": null,
            "max_height": null,
            "max_width": null,
            "min_height": null,
            "min_width": null,
            "object_fit": null,
            "object_position": null,
            "order": null,
            "overflow": null,
            "overflow_x": null,
            "overflow_y": null,
            "padding": null,
            "right": null,
            "top": null,
            "visibility": null,
            "width": null
          }
        },
        "d6212531780f4164a74a8830ef865e6f": {
          "model_module": "@jupyter-widgets/base",
          "model_name": "LayoutModel",
          "model_module_version": "1.2.0",
          "state": {
            "_model_module": "@jupyter-widgets/base",
            "_model_module_version": "1.2.0",
            "_model_name": "LayoutModel",
            "_view_count": null,
            "_view_module": "@jupyter-widgets/base",
            "_view_module_version": "1.2.0",
            "_view_name": "LayoutView",
            "align_content": null,
            "align_items": null,
            "align_self": null,
            "border": null,
            "bottom": null,
            "display": null,
            "flex": null,
            "flex_flow": null,
            "grid_area": null,
            "grid_auto_columns": null,
            "grid_auto_flow": null,
            "grid_auto_rows": null,
            "grid_column": null,
            "grid_gap": null,
            "grid_row": null,
            "grid_template_areas": null,
            "grid_template_columns": null,
            "grid_template_rows": null,
            "height": null,
            "justify_content": null,
            "justify_items": null,
            "left": null,
            "margin": null,
            "max_height": null,
            "max_width": null,
            "min_height": null,
            "min_width": null,
            "object_fit": null,
            "object_position": null,
            "order": null,
            "overflow": null,
            "overflow_x": null,
            "overflow_y": null,
            "padding": null,
            "right": null,
            "top": null,
            "visibility": null,
            "width": null
          }
        },
        "fba223671ced4e149a1f946ab9eb02b4": {
          "model_module": "@jupyter-widgets/controls",
          "model_name": "DescriptionStyleModel",
          "model_module_version": "1.5.0",
          "state": {
            "_model_module": "@jupyter-widgets/controls",
            "_model_module_version": "1.5.0",
            "_model_name": "DescriptionStyleModel",
            "_view_count": null,
            "_view_module": "@jupyter-widgets/base",
            "_view_module_version": "1.2.0",
            "_view_name": "StyleView",
            "description_width": ""
          }
        },
        "4225e634bc7945caa9ffb494023ce4b9": {
          "model_module": "@jupyter-widgets/base",
          "model_name": "LayoutModel",
          "model_module_version": "1.2.0",
          "state": {
            "_model_module": "@jupyter-widgets/base",
            "_model_module_version": "1.2.0",
            "_model_name": "LayoutModel",
            "_view_count": null,
            "_view_module": "@jupyter-widgets/base",
            "_view_module_version": "1.2.0",
            "_view_name": "LayoutView",
            "align_content": null,
            "align_items": null,
            "align_self": null,
            "border": null,
            "bottom": null,
            "display": null,
            "flex": null,
            "flex_flow": null,
            "grid_area": null,
            "grid_auto_columns": null,
            "grid_auto_flow": null,
            "grid_auto_rows": null,
            "grid_column": null,
            "grid_gap": null,
            "grid_row": null,
            "grid_template_areas": null,
            "grid_template_columns": null,
            "grid_template_rows": null,
            "height": null,
            "justify_content": null,
            "justify_items": null,
            "left": null,
            "margin": null,
            "max_height": null,
            "max_width": null,
            "min_height": null,
            "min_width": null,
            "object_fit": null,
            "object_position": null,
            "order": null,
            "overflow": null,
            "overflow_x": null,
            "overflow_y": null,
            "padding": null,
            "right": null,
            "top": null,
            "visibility": null,
            "width": null
          }
        },
        "5aae8317dbf84973b96f7267b0db1e4c": {
          "model_module": "@jupyter-widgets/controls",
          "model_name": "ProgressStyleModel",
          "model_module_version": "1.5.0",
          "state": {
            "_model_module": "@jupyter-widgets/controls",
            "_model_module_version": "1.5.0",
            "_model_name": "ProgressStyleModel",
            "_view_count": null,
            "_view_module": "@jupyter-widgets/base",
            "_view_module_version": "1.2.0",
            "_view_name": "StyleView",
            "bar_color": null,
            "description_width": ""
          }
        },
        "32fd8758ed1a47c7ac7836a0491ccf2d": {
          "model_module": "@jupyter-widgets/base",
          "model_name": "LayoutModel",
          "model_module_version": "1.2.0",
          "state": {
            "_model_module": "@jupyter-widgets/base",
            "_model_module_version": "1.2.0",
            "_model_name": "LayoutModel",
            "_view_count": null,
            "_view_module": "@jupyter-widgets/base",
            "_view_module_version": "1.2.0",
            "_view_name": "LayoutView",
            "align_content": null,
            "align_items": null,
            "align_self": null,
            "border": null,
            "bottom": null,
            "display": null,
            "flex": null,
            "flex_flow": null,
            "grid_area": null,
            "grid_auto_columns": null,
            "grid_auto_flow": null,
            "grid_auto_rows": null,
            "grid_column": null,
            "grid_gap": null,
            "grid_row": null,
            "grid_template_areas": null,
            "grid_template_columns": null,
            "grid_template_rows": null,
            "height": null,
            "justify_content": null,
            "justify_items": null,
            "left": null,
            "margin": null,
            "max_height": null,
            "max_width": null,
            "min_height": null,
            "min_width": null,
            "object_fit": null,
            "object_position": null,
            "order": null,
            "overflow": null,
            "overflow_x": null,
            "overflow_y": null,
            "padding": null,
            "right": null,
            "top": null,
            "visibility": null,
            "width": null
          }
        },
        "cf0b620534584938a8bbe2a86ac5c6cc": {
          "model_module": "@jupyter-widgets/controls",
          "model_name": "DescriptionStyleModel",
          "model_module_version": "1.5.0",
          "state": {
            "_model_module": "@jupyter-widgets/controls",
            "_model_module_version": "1.5.0",
            "_model_name": "DescriptionStyleModel",
            "_view_count": null,
            "_view_module": "@jupyter-widgets/base",
            "_view_module_version": "1.2.0",
            "_view_name": "StyleView",
            "description_width": ""
          }
        },
        "8a695b43e2bf4043b860c5149a17b78c": {
          "model_module": "@jupyter-widgets/controls",
          "model_name": "HBoxModel",
          "model_module_version": "1.5.0",
          "state": {
            "_dom_classes": [],
            "_model_module": "@jupyter-widgets/controls",
            "_model_module_version": "1.5.0",
            "_model_name": "HBoxModel",
            "_view_count": null,
            "_view_module": "@jupyter-widgets/controls",
            "_view_module_version": "1.5.0",
            "_view_name": "HBoxView",
            "box_style": "",
            "children": [
              "IPY_MODEL_7666d77b42fc48ca9e65b4f087f2ab9d",
              "IPY_MODEL_4a030c422751431c9c1258ed2133e068",
              "IPY_MODEL_59bd6f1081d845058c2f169e00cc5e37"
            ],
            "layout": "IPY_MODEL_f5dd1aa5fc8b48a19eeadb7798c0bec9"
          }
        },
        "7666d77b42fc48ca9e65b4f087f2ab9d": {
          "model_module": "@jupyter-widgets/controls",
          "model_name": "HTMLModel",
          "model_module_version": "1.5.0",
          "state": {
            "_dom_classes": [],
            "_model_module": "@jupyter-widgets/controls",
            "_model_module_version": "1.5.0",
            "_model_name": "HTMLModel",
            "_view_count": null,
            "_view_module": "@jupyter-widgets/controls",
            "_view_module_version": "1.5.0",
            "_view_name": "HTMLView",
            "description": "",
            "description_tooltip": null,
            "layout": "IPY_MODEL_5f765a4941254f518380f8791f740d35",
            "placeholder": "​",
            "style": "IPY_MODEL_41a76b628dde4a44b5c7462794b95f39",
            "value": "100%"
          }
        },
        "4a030c422751431c9c1258ed2133e068": {
          "model_module": "@jupyter-widgets/controls",
          "model_name": "FloatProgressModel",
          "model_module_version": "1.5.0",
          "state": {
            "_dom_classes": [],
            "_model_module": "@jupyter-widgets/controls",
            "_model_module_version": "1.5.0",
            "_model_name": "FloatProgressModel",
            "_view_count": null,
            "_view_module": "@jupyter-widgets/controls",
            "_view_module_version": "1.5.0",
            "_view_name": "ProgressView",
            "bar_style": "success",
            "description": "",
            "description_tooltip": null,
            "layout": "IPY_MODEL_a57aa60af4fb4155a3d8b049f8491771",
            "max": 94280567,
            "min": 0,
            "orientation": "horizontal",
            "style": "IPY_MODEL_290e2fc9778c4a2a90bbabe0998bd73a",
            "value": 94280567
          }
        },
        "59bd6f1081d845058c2f169e00cc5e37": {
          "model_module": "@jupyter-widgets/controls",
          "model_name": "HTMLModel",
          "model_module_version": "1.5.0",
          "state": {
            "_dom_classes": [],
            "_model_module": "@jupyter-widgets/controls",
            "_model_module_version": "1.5.0",
            "_model_name": "HTMLModel",
            "_view_count": null,
            "_view_module": "@jupyter-widgets/controls",
            "_view_module_version": "1.5.0",
            "_view_name": "HTMLView",
            "description": "",
            "description_tooltip": null,
            "layout": "IPY_MODEL_7f9fe815ad9c4eef80de079876a38a89",
            "placeholder": "​",
            "style": "IPY_MODEL_52aee7e06f5042c394d17ce77658ecb2",
            "value": " 94280567/94280567 [00:07&lt;00:00, 13937310.08it/s]"
          }
        },
        "f5dd1aa5fc8b48a19eeadb7798c0bec9": {
          "model_module": "@jupyter-widgets/base",
          "model_name": "LayoutModel",
          "model_module_version": "1.2.0",
          "state": {
            "_model_module": "@jupyter-widgets/base",
            "_model_module_version": "1.2.0",
            "_model_name": "LayoutModel",
            "_view_count": null,
            "_view_module": "@jupyter-widgets/base",
            "_view_module_version": "1.2.0",
            "_view_name": "LayoutView",
            "align_content": null,
            "align_items": null,
            "align_self": null,
            "border": null,
            "bottom": null,
            "display": null,
            "flex": null,
            "flex_flow": null,
            "grid_area": null,
            "grid_auto_columns": null,
            "grid_auto_flow": null,
            "grid_auto_rows": null,
            "grid_column": null,
            "grid_gap": null,
            "grid_row": null,
            "grid_template_areas": null,
            "grid_template_columns": null,
            "grid_template_rows": null,
            "height": null,
            "justify_content": null,
            "justify_items": null,
            "left": null,
            "margin": null,
            "max_height": null,
            "max_width": null,
            "min_height": null,
            "min_width": null,
            "object_fit": null,
            "object_position": null,
            "order": null,
            "overflow": null,
            "overflow_x": null,
            "overflow_y": null,
            "padding": null,
            "right": null,
            "top": null,
            "visibility": null,
            "width": null
          }
        },
        "5f765a4941254f518380f8791f740d35": {
          "model_module": "@jupyter-widgets/base",
          "model_name": "LayoutModel",
          "model_module_version": "1.2.0",
          "state": {
            "_model_module": "@jupyter-widgets/base",
            "_model_module_version": "1.2.0",
            "_model_name": "LayoutModel",
            "_view_count": null,
            "_view_module": "@jupyter-widgets/base",
            "_view_module_version": "1.2.0",
            "_view_name": "LayoutView",
            "align_content": null,
            "align_items": null,
            "align_self": null,
            "border": null,
            "bottom": null,
            "display": null,
            "flex": null,
            "flex_flow": null,
            "grid_area": null,
            "grid_auto_columns": null,
            "grid_auto_flow": null,
            "grid_auto_rows": null,
            "grid_column": null,
            "grid_gap": null,
            "grid_row": null,
            "grid_template_areas": null,
            "grid_template_columns": null,
            "grid_template_rows": null,
            "height": null,
            "justify_content": null,
            "justify_items": null,
            "left": null,
            "margin": null,
            "max_height": null,
            "max_width": null,
            "min_height": null,
            "min_width": null,
            "object_fit": null,
            "object_position": null,
            "order": null,
            "overflow": null,
            "overflow_x": null,
            "overflow_y": null,
            "padding": null,
            "right": null,
            "top": null,
            "visibility": null,
            "width": null
          }
        },
        "41a76b628dde4a44b5c7462794b95f39": {
          "model_module": "@jupyter-widgets/controls",
          "model_name": "DescriptionStyleModel",
          "model_module_version": "1.5.0",
          "state": {
            "_model_module": "@jupyter-widgets/controls",
            "_model_module_version": "1.5.0",
            "_model_name": "DescriptionStyleModel",
            "_view_count": null,
            "_view_module": "@jupyter-widgets/base",
            "_view_module_version": "1.2.0",
            "_view_name": "StyleView",
            "description_width": ""
          }
        },
        "a57aa60af4fb4155a3d8b049f8491771": {
          "model_module": "@jupyter-widgets/base",
          "model_name": "LayoutModel",
          "model_module_version": "1.2.0",
          "state": {
            "_model_module": "@jupyter-widgets/base",
            "_model_module_version": "1.2.0",
            "_model_name": "LayoutModel",
            "_view_count": null,
            "_view_module": "@jupyter-widgets/base",
            "_view_module_version": "1.2.0",
            "_view_name": "LayoutView",
            "align_content": null,
            "align_items": null,
            "align_self": null,
            "border": null,
            "bottom": null,
            "display": null,
            "flex": null,
            "flex_flow": null,
            "grid_area": null,
            "grid_auto_columns": null,
            "grid_auto_flow": null,
            "grid_auto_rows": null,
            "grid_column": null,
            "grid_gap": null,
            "grid_row": null,
            "grid_template_areas": null,
            "grid_template_columns": null,
            "grid_template_rows": null,
            "height": null,
            "justify_content": null,
            "justify_items": null,
            "left": null,
            "margin": null,
            "max_height": null,
            "max_width": null,
            "min_height": null,
            "min_width": null,
            "object_fit": null,
            "object_position": null,
            "order": null,
            "overflow": null,
            "overflow_x": null,
            "overflow_y": null,
            "padding": null,
            "right": null,
            "top": null,
            "visibility": null,
            "width": null
          }
        },
        "290e2fc9778c4a2a90bbabe0998bd73a": {
          "model_module": "@jupyter-widgets/controls",
          "model_name": "ProgressStyleModel",
          "model_module_version": "1.5.0",
          "state": {
            "_model_module": "@jupyter-widgets/controls",
            "_model_module_version": "1.5.0",
            "_model_name": "ProgressStyleModel",
            "_view_count": null,
            "_view_module": "@jupyter-widgets/base",
            "_view_module_version": "1.2.0",
            "_view_name": "StyleView",
            "bar_color": null,
            "description_width": ""
          }
        },
        "7f9fe815ad9c4eef80de079876a38a89": {
          "model_module": "@jupyter-widgets/base",
          "model_name": "LayoutModel",
          "model_module_version": "1.2.0",
          "state": {
            "_model_module": "@jupyter-widgets/base",
            "_model_module_version": "1.2.0",
            "_model_name": "LayoutModel",
            "_view_count": null,
            "_view_module": "@jupyter-widgets/base",
            "_view_module_version": "1.2.0",
            "_view_name": "LayoutView",
            "align_content": null,
            "align_items": null,
            "align_self": null,
            "border": null,
            "bottom": null,
            "display": null,
            "flex": null,
            "flex_flow": null,
            "grid_area": null,
            "grid_auto_columns": null,
            "grid_auto_flow": null,
            "grid_auto_rows": null,
            "grid_column": null,
            "grid_gap": null,
            "grid_row": null,
            "grid_template_areas": null,
            "grid_template_columns": null,
            "grid_template_rows": null,
            "height": null,
            "justify_content": null,
            "justify_items": null,
            "left": null,
            "margin": null,
            "max_height": null,
            "max_width": null,
            "min_height": null,
            "min_width": null,
            "object_fit": null,
            "object_position": null,
            "order": null,
            "overflow": null,
            "overflow_x": null,
            "overflow_y": null,
            "padding": null,
            "right": null,
            "top": null,
            "visibility": null,
            "width": null
          }
        },
        "52aee7e06f5042c394d17ce77658ecb2": {
          "model_module": "@jupyter-widgets/controls",
          "model_name": "DescriptionStyleModel",
          "model_module_version": "1.5.0",
          "state": {
            "_model_module": "@jupyter-widgets/controls",
            "_model_module_version": "1.5.0",
            "_model_name": "DescriptionStyleModel",
            "_view_count": null,
            "_view_module": "@jupyter-widgets/base",
            "_view_module_version": "1.2.0",
            "_view_name": "StyleView",
            "description_width": ""
          }
        }
      }
    }
  },
  "cells": [
    {
      "cell_type": "code",
      "execution_count": null,
      "metadata": {
        "id": "0GWjMM2qWkA3",
        "colab": {
          "base_uri": "https://localhost:8080/"
        },
        "outputId": "f8891124-b312-4879-b834-d1db6c6076f7"
      },
      "outputs": [
        {
          "output_type": "stream",
          "name": "stdout",
          "text": [
            "Looking in indexes: https://pypi.org/simple, https://us-python.pkg.dev/colab-wheels/public/simple/\n",
            "Collecting git+https://github.com/aleju/imgaug.git\n",
            "  Cloning https://github.com/aleju/imgaug.git to /tmp/pip-req-build-qus88ilt\n",
            "  Running command git clone -q https://github.com/aleju/imgaug.git /tmp/pip-req-build-qus88ilt\n",
            "Requirement already satisfied: six in /usr/local/lib/python3.7/dist-packages (from imgaug==0.4.0) (1.15.0)\n",
            "Requirement already satisfied: numpy>=1.15 in /usr/local/lib/python3.7/dist-packages (from imgaug==0.4.0) (1.21.6)\n",
            "Requirement already satisfied: scipy in /usr/local/lib/python3.7/dist-packages (from imgaug==0.4.0) (1.7.3)\n",
            "Requirement already satisfied: Pillow in /usr/local/lib/python3.7/dist-packages (from imgaug==0.4.0) (7.1.2)\n",
            "Requirement already satisfied: matplotlib in /usr/local/lib/python3.7/dist-packages (from imgaug==0.4.0) (3.2.2)\n",
            "Requirement already satisfied: scikit-image>=0.14.2 in /usr/local/lib/python3.7/dist-packages (from imgaug==0.4.0) (0.18.3)\n",
            "Requirement already satisfied: opencv-python in /usr/local/lib/python3.7/dist-packages (from imgaug==0.4.0) (4.6.0.66)\n",
            "Requirement already satisfied: Shapely in /usr/local/lib/python3.7/dist-packages (from imgaug==0.4.0) (1.8.4)\n",
            "Requirement already satisfied: imageio in /usr/local/lib/python3.7/dist-packages (from imgaug==0.4.0) (2.9.0)\n",
            "Requirement already satisfied: PyWavelets>=1.1.1 in /usr/local/lib/python3.7/dist-packages (from scikit-image>=0.14.2->imgaug==0.4.0) (1.3.0)\n",
            "Requirement already satisfied: tifffile>=2019.7.26 in /usr/local/lib/python3.7/dist-packages (from scikit-image>=0.14.2->imgaug==0.4.0) (2021.11.2)\n",
            "Requirement already satisfied: networkx>=2.0 in /usr/local/lib/python3.7/dist-packages (from scikit-image>=0.14.2->imgaug==0.4.0) (2.6.3)\n",
            "Requirement already satisfied: python-dateutil>=2.1 in /usr/local/lib/python3.7/dist-packages (from matplotlib->imgaug==0.4.0) (2.8.2)\n",
            "Requirement already satisfied: cycler>=0.10 in /usr/local/lib/python3.7/dist-packages (from matplotlib->imgaug==0.4.0) (0.11.0)\n",
            "Requirement already satisfied: kiwisolver>=1.0.1 in /usr/local/lib/python3.7/dist-packages (from matplotlib->imgaug==0.4.0) (1.4.4)\n",
            "Requirement already satisfied: pyparsing!=2.0.4,!=2.1.2,!=2.1.6,>=2.0.1 in /usr/local/lib/python3.7/dist-packages (from matplotlib->imgaug==0.4.0) (3.0.9)\n",
            "Requirement already satisfied: typing-extensions in /usr/local/lib/python3.7/dist-packages (from kiwisolver>=1.0.1->matplotlib->imgaug==0.4.0) (4.1.1)\n"
          ]
        }
      ],
      "source": [
        "import os\n",
        "import csv\n",
        "import torch\n",
        "import torch.nn as nn\n",
        "import torchvision\n",
        "from torchvision import models\n",
        "import torchvision.transforms as transforms\n",
        "from torchvision.datasets import CIFAR10, MNIST, SVHN\n",
        "import numpy as np\n",
        "import matplotlib.pyplot as plt\n",
        "import torch.nn.functional as F\n",
        "from tqdm import tqdm\n",
        "from sklearn.metrics import auc, f1_score, precision_recall_curve, roc_auc_score, roc_curve\n",
        "!pip install git+https://github.com/aleju/imgaug.git\n",
        "import imgaug.augmenters as iaa\n",
        "import glob\n",
        "import os.path as path\n",
        "import PIL"
      ]
    },
    {
      "cell_type": "markdown",
      "source": [
        "# Retrain with Resnet50 Backbone with OpenGAN with BatchNorm like original implementation\n",
        "\n",
        "# Then I can validate using more than just MNIST\n",
        "# Validate on SVHN vs TinyImageNet"
      ],
      "metadata": {
        "id": "QXfsK27UlcaC"
      }
    },
    {
      "cell_type": "code",
      "source": [
        "from google.colab import drive\n",
        "drive.mount(\"/content/drive\", force_remount = True)"
      ],
      "metadata": {
        "colab": {
          "base_uri": "https://localhost:8080/"
        },
        "id": "ns5_v5woW-Db",
        "outputId": "0970f92a-19b3-400e-f47a-2ed48e91d488"
      },
      "execution_count": null,
      "outputs": [
        {
          "output_type": "stream",
          "name": "stdout",
          "text": [
            "Mounted at /content/drive\n"
          ]
        }
      ]
    },
    {
      "cell_type": "code",
      "source": [
        "import zipfile\n",
        "with zipfile.ZipFile(\"/content/drive/MyDrive/Unknown_Detection/tiny-imagenet-200.zip\",\"r\") as zip_ref:\n",
        "    zip_ref.extractall()"
      ],
      "metadata": {
        "id": "_SYC8bMIXAUi"
      },
      "execution_count": null,
      "outputs": []
    },
    {
      "cell_type": "code",
      "source": [
        "class Closed_TINYIMAGENET():\n",
        "    def __init__(self, size=(32,32), set_name='train',\n",
        "                 path_to_data='/content/tiny-imagenet-200', \n",
        "                 isAugment=True):\n",
        "        \n",
        "        self.path_to_data = path_to_data        \n",
        "        self.mapping_name2id = {}\n",
        "        self.mapping_id2name = {}\n",
        "        self.mapping_name2english_name = {}\n",
        "        with open(path.join(self.path_to_data, 'wnids.txt')) as csv_file:\n",
        "            csv_reader = csv.reader(csv_file, delimiter=' ')\n",
        "            idx = 0\n",
        "            for row in csv_reader:\n",
        "                if idx >= 180: \n",
        "                  break\n",
        "                self.mapping_id2name[idx] = row[0]\n",
        "                self.mapping_name2id[row[0]] = idx\n",
        "                idx += 1\n",
        "        with open(path.join(self.path_to_data, 'words.txt')) as csv_file: \n",
        "          csv_reader = csv.reader(csv_file, delimiter=' ')\n",
        "          idx = 0\n",
        "          for row in csv_reader:\n",
        "            row = row[0].split('\\t')\n",
        "            self.mapping_name2english_name[row[0]] = row[1]\n",
        "            idx += 1\n",
        "\n",
        "\n",
        "        assert len(self.mapping_id2name) == len(self.mapping_name2id) == 180\n",
        "        \n",
        "        \n",
        "        if set_name=='test':  set_name = 'val'\n",
        "        \n",
        "        self.size = size\n",
        "        self.set_name = set_name\n",
        "        self.path_to_data = path_to_data\n",
        "        self.isAugment = isAugment\n",
        "        \n",
        "        self.imageNameList  = []\n",
        "        self.className = []\n",
        "        self.labelList = []\n",
        "        self.mappingLabel2Name = dict()\n",
        "        curLabel = 0\n",
        "\n",
        "        \n",
        "        if self.set_name == 'val':\n",
        "            with open(path.join(self.path_to_data, 'val', 'val_annotations.txt')) as csv_file:\n",
        "                csv_reader = csv.reader(csv_file, delimiter='\\t')\n",
        "                line_count = 0\n",
        "                for row in csv_reader:\n",
        "                    if row[1] not in self.mapping_name2id: continue\n",
        "                    self.imageNameList += [path.join(self.path_to_data, 'val', 'images', row[0])]\n",
        "                    self.labelList += [self.mapping_name2id[row[1]]]\n",
        "        else: # 'train'\n",
        "            self.current_class_dir = path.join(self.path_to_data, self.set_name)\n",
        "            for curClass in os.listdir(self.current_class_dir):                 \n",
        "                if curClass[0]=='.':   continue\n",
        "                if curClass not in self.mapping_name2id: continue\n",
        "                \n",
        "                curLabel = self.mapping_name2id[curClass]\n",
        "                for curImg in os.listdir(path.join(self.current_class_dir, curClass, 'images')):\n",
        "                    if curImg[0]=='.':    continue\n",
        "                    self.labelList += [curLabel]\n",
        "                    self.imageNameList += [path.join(self.path_to_data, self.set_name, curClass, 'images', curImg)]\n",
        "\n",
        "        \n",
        "        self.current_set_len = len(self.labelList)\n",
        "        \n",
        "        if self.set_name=='test' or self.set_name=='val' or  not self.isAugment:\n",
        "            self.transform = transforms.Compose([\n",
        "                transforms.RandomCrop(self.size[0], padding=4), \n",
        "                transforms.ToTensor(),\n",
        "                transforms.Normalize((0.4802, 0.4481, 0.3975), (0.2302, 0.2265, 0.2262)),\n",
        "            ])            # ((0.4914, 0.4822, 0.4465), (0.2023, 0.1994, 0.2010))\n",
        "        else:\n",
        "            self.transform = transforms.Compose([\n",
        "                transforms.RandomCrop(self.size[0], padding=4),\n",
        "                transforms.RandomHorizontalFlip(),\n",
        "                transforms.ToTensor(),\n",
        "                transforms.Normalize((0.4802, 0.4481, 0.3975), (0.2302, 0.2265, 0.2262)),\n",
        "            ])\n",
        "        \n",
        "    def __len__(self):        \n",
        "        return self.current_set_len\n",
        "    \n",
        "    def __getitem__(self, idx):\n",
        "        curLabel = np.asarray(self.labelList[idx])\n",
        "        curImage = self.imageNameList[idx]\n",
        "        curImage = PIL.Image.open(curImage).convert('RGB')\n",
        "        curImage = self.transform(curImage)\n",
        "        \n",
        "        #print(idx, curLabel)\n",
        "        \n",
        "        #curLabel = torch.tensor([curLabel]).unsqueeze(0).unsqueeze(0)\n",
        "\n",
        "        return curImage, curLabel"
      ],
      "metadata": {
        "id": "lvjSyC9LXAbm"
      },
      "execution_count": null,
      "outputs": []
    },
    {
      "cell_type": "code",
      "source": [
        "batch_size = 32\n",
        "\n",
        "trainTinyImageNet = Closed_TINYIMAGENET(set_name = 'train')\n",
        "trainTinyImageNetLoader = torch.utils.data.DataLoader(trainTinyImageNet, batch_size = 32, shuffle = True)\n",
        "print(\"Length of trainTinyImageNet is {}\".format(len(trainTinyImageNet)))\n",
        "\n",
        "testTinyImageNet = Closed_TINYIMAGENET(set_name = 'test')\n",
        "testTinyImageNetLoader = torch.utils.data.DataLoader(testTinyImageNet, batch_size = 32, shuffle = True)\n",
        "print(\"Length of testTinyImageNet is {}\".format(len(testTinyImageNet)))\n",
        "\n",
        "# Plot train images\n",
        "train_dataiter = iter(trainTinyImageNetLoader)\n",
        "images, targets = next(train_dataiter)\n",
        "assert max(targets) < 180\n",
        "images = images.numpy()\n",
        "print(images.shape)\n",
        "images -= images.min() \n",
        "images /= images.max()\n",
        "\n",
        "fig = plt.figure(figsize=(25, 4))\n",
        "for idx in np.arange(15):\n",
        "  ax = fig.add_subplot(2, 16/2, idx+1, xticks=[], yticks=[])\n",
        "  plt.imshow(np.transpose(images[idx], (1, 2, 0)))\n",
        "  ax.set_title(trainTinyImageNet.mapping_name2english_name[trainTinyImageNet.mapping_id2name[targets[idx].item()]])\n",
        "  ax = fig.add_subplot(2, 16/2, idx+1, xticks=[], yticks=[])"
      ],
      "metadata": {
        "colab": {
          "base_uri": "https://localhost:8080/",
          "height": 305
        },
        "id": "22mxyGUdYvt6",
        "outputId": "beb0e471-13db-41fb-a723-3273e3b933cc"
      },
      "execution_count": null,
      "outputs": [
        {
          "output_type": "stream",
          "name": "stdout",
          "text": [
            "Length of trainTinyImageNet is 90000\n",
            "Length of testTinyImageNet is 9000\n",
            "(32, 3, 32, 32)\n"
          ]
        },
        {
          "output_type": "stream",
          "name": "stderr",
          "text": [
            "/usr/local/lib/python3.7/dist-packages/ipykernel_launcher.py:25: MatplotlibDeprecationWarning: Adding an axes using the same arguments as a previous axes currently reuses the earlier instance.  In a future version, a new instance will always be created and returned.  Meanwhile, this warning can be suppressed, and the future behavior ensured, by passing a unique label to each axes instance.\n"
          ]
        },
        {
          "output_type": "display_data",
          "data": {
            "text/plain": [
              "<Figure size 1800x288 with 15 Axes>"
            ],
            "image/png": "[encoded data removed]"
          },
          "metadata": {}
        }
      ]
    },
    {
      "cell_type": "code",
      "source": [
        "# Metrics: \n",
        "\n",
        "def F_measure(preds, labels, openset=False, theta=None):\n",
        "  if openset:\n",
        "      # f1 score for openset evaluation\n",
        "      true_pos = 0.\n",
        "      false_pos = 0.\n",
        "      false_neg = 0.        \n",
        "      for i in range(len(labels)):\n",
        "          true_pos += 1 if preds[i] == labels[i] and labels[i] != -1 else 0\n",
        "          false_pos += 1 if preds[i] != labels[i] and labels[i] != -1 else 0\n",
        "          false_neg += 1 if preds[i] != labels[i] and labels[i] == -1 else 0\n",
        "\n",
        "      precision = true_pos / (true_pos + false_pos)\n",
        "      recall = true_pos / (true_pos + false_neg)\n",
        "      return 2 * ((precision * recall) / (precision + recall + 1e-12))\n",
        "  else: # Regular f1 score        \n",
        "      return f1_score(labels, preds, average='macro')\n",
        "\n",
        "def roc(scores, labels, **kwargs):\n",
        "    \"\"\"Returns the ROC curve and the area under it. The implementation assumes binary classification\n",
        "\n",
        "    Args:\n",
        "        labels (np.array): denotes label for each data point\n",
        "        scores (np.array): denotes predicted probability of data point being 1\n",
        "    \"\"\"\n",
        "    if 'gt_shift' in kwargs:\n",
        "        labels = labels - kwargs['gt_shift']\n",
        "    fpr, tpr, thresholds = roc_curve(labels, scores)\n",
        "    auc_score = roc_auc_score(labels, scores)\n",
        "    roc_data = {\n",
        "        'tp': list(tpr),\n",
        "        'fp': list(fpr),\n",
        "        'thresh': list(thresholds),\n",
        "        'auc': auc_score,\n",
        "    }\n",
        "    return roc_data\n",
        "\n",
        "\n",
        "def pr(scores, labels, **kwargs):\n",
        "    \"\"\"Returns the PR curve and the area under it. The implementation assumes binary classification\n",
        "\n",
        "    Args:\n",
        "        labels (np.array): denotes label for each data point\n",
        "        scores (np.array): denotes predicted probability of data point being 1\n",
        "    \"\"\"\n",
        "    precision, recall, thresholds = precision_recall_curve(labels, scores)\n",
        "    auc_score = auc(recall, precision)\n",
        "\n",
        "    pr_data = {\n",
        "        'precision': list(precision),\n",
        "        'recall': list(recall),\n",
        "        'thresh': list(thresholds),\n",
        "        'auc': auc_score,\n",
        "    }\n",
        "    return pr_data\n",
        "\n",
        "def ccr(scores, labels, **kwargs):\n",
        "    \"\"\"Returns the CCR VS FPR curve and returns the area under it.\n",
        "\n",
        "    Args:\n",
        "        labels (np.array): denotes label for each data point\n",
        "        scores (np.array): denotes predicted probability of data point being 1\n",
        "    \"\"\"\n",
        "    if 'gt_shift' in kwargs:\n",
        "        labels = labels - kwargs['gt_shift']\n",
        "    max_indices = np.argmax(scores, axis=1) # Nx(K+1)\n",
        "    max_values = np.take_along_axis(scores, max_indices[:, None], axis=1)\n",
        "    data = list(zip([elem[0] for elem in max_values], max_indices, labels))\n",
        "    data.sort(key=lambda x: x[0], reverse=True)\n",
        "    cls_count = len(scores[0])\n",
        "    unknown_count = len(np.where(labels == 0)[0])  # Unknown class is 0\n",
        "    known_count = len(labels) - unknown_count\n",
        "    fp = [0]\n",
        "    tp = [0]\n",
        "    thresholds = list()\n",
        "    n = 0\n",
        "    n_above_unknown = 0\n",
        "    curr_unknown_prob = 1\n",
        "    for score, pred_cls, gt_cls in data:\n",
        "        if gt_cls == 0:\n",
        "            curr_unknown_prob = score\n",
        "            thresholds.append(score)\n",
        "            fp.append(fp[-1] + 1)\n",
        "            tp.append(n)\n",
        "        elif pred_cls == gt_cls:\n",
        "            n_above_unknown += 1\n",
        "            if score < curr_unknown_prob:\n",
        "                n = n_above_unknown\n",
        "    fpr = np.asarray(fp[1:]) / unknown_count\n",
        "    ccr = np.asarray(tp[1:]) / known_count\n",
        "    auc_score = auc(fpr, ccr)\n",
        "    ccr_data = {\n",
        "        'ccr': list(ccr),\n",
        "        'fpr': list(fpr),\n",
        "        'thresh': thresholds,\n",
        "        'auc': auc_score,\n",
        "    }\n",
        "    return ccr_data\n",
        "    "
      ],
      "metadata": {
        "id": "-DwOc7_8Y5QE"
      },
      "execution_count": null,
      "outputs": []
    },
    {
      "cell_type": "code",
      "source": [
        "# Define resnet Model\n",
        "#resnet50 = torchvision.models.resnet50(pretrained = True)\n",
        "# for param in resnet50.parameters(): \n",
        "#   param.requires_grad = False\n",
        "#resnet50.fc = nn.Linear(resnet50.fc.in_features, 180)\n",
        "\n",
        "resnet50 = models.resnet50(pretrained=False)\n",
        "\n",
        "num_ftrs = resnet50.fc.in_features\n",
        "resnet50.fc = nn.Linear(num_ftrs, 180)\n",
        "\n",
        "# resnet18 = torchvision.models.resnet18()\n",
        "# resnet18.fc = nn.Linear(resnet18.fc.in_features, 180)"
      ],
      "metadata": {
        "id": "PrjszIJ4Y9dZ",
        "colab": {
          "base_uri": "https://localhost:8080/"
        },
        "outputId": "fe4100fa-2c28-423c-e91d-876b14459fa6"
      },
      "execution_count": null,
      "outputs": [
        {
          "output_type": "stream",
          "name": "stderr",
          "text": [
            "/usr/local/lib/python3.7/dist-packages/torchvision/models/_utils.py:209: UserWarning: The parameter 'pretrained' is deprecated since 0.13 and will be removed in 0.15, please use 'weights' instead.\n",
            "  f\"The parameter '{pretrained_param}' is deprecated since 0.13 and will be removed in 0.15, \"\n",
            "/usr/local/lib/python3.7/dist-packages/torchvision/models/_utils.py:223: UserWarning: Arguments other than a weight enum or `None` for 'weights' are deprecated since 0.13 and will be removed in 0.15. The current behavior is equivalent to passing `weights=None`.\n",
            "  warnings.warn(msg)\n"
          ]
        }
      ]
    },
    {
      "cell_type": "code",
      "source": [
        "epochs = 50\n",
        "def cosine_annealing(step, total_steps, lr_max, lr_min):\n",
        "    return lr_min + (lr_max - lr_min) * 0.5 * (\n",
        "            1 + np.cos(step / total_steps * np.pi))\n",
        "    \n",
        "# Add validation on 4 other classes. \n",
        "\n",
        "\n",
        "def train(net, epochs, folder_weights):\n",
        "\n",
        "  if os.path.exists(folder_weights): \n",
        "    raise RuntimeError(\"Folder already exists\")\n",
        "\n",
        "  os.mkdir(folder_weights)\n",
        "\n",
        "  top_paths = dict()\n",
        "\n",
        "  lr = 0.003 # lower learning rate: 0.003\n",
        "  net = net.cuda()\n",
        "  optimizer = torch.optim.SGD(\n",
        "  net.parameters(), lr, momentum=0.9, \n",
        "  weight_decay=0.0005, nesterov=True)\n",
        "\n",
        "  scheduler = torch.optim.lr_scheduler.LambdaLR(\n",
        "    optimizer,\n",
        "    lr_lambda=lambda step: cosine_annealing(\n",
        "        step,\n",
        "        epochs * len(trainTinyImageNetLoader),\n",
        "        1,  # since lr_lambda computes multiplicative factor\n",
        "        1e-6 / lr))\n",
        "  \n",
        "  model_path = \"\"\n",
        "  for e in range(epochs): \n",
        "    correct = 0\n",
        "    num_of_data = 0\n",
        "    total_f_measure = 0\n",
        "    model_path = os.path.join(folder_weights, \"model_epoch{}.pth\".format(e))\n",
        "    net.train()  # enter train mode\n",
        "    loss_avg = 0.0\n",
        "    for data, target in tqdm(trainTinyImageNetLoader):\n",
        "        data, target = data.cuda(), target.cuda()\n",
        "\n",
        "        # forward\n",
        "        x = net(data)\n",
        "\n",
        "        # backward\n",
        "        scheduler.step()\n",
        "        optimizer.zero_grad()\n",
        "        loss = F.cross_entropy(x, target)\n",
        "        loss.backward()\n",
        "        optimizer.step()\n",
        "\n",
        "        # exponential moving average\n",
        "        loss_avg = loss_avg * 0.8 + float(loss) * 0.2\n",
        "\n",
        "    stacked_pred = list()\n",
        "    stacked_target = list()\n",
        "    for data, target in tqdm(testTinyImageNetLoader): \n",
        "      \n",
        "      net.eval()\n",
        "      num_of_data += data.size(0)\n",
        "      data, target = data.cuda(), target.cuda()\n",
        "\n",
        "      #forward\n",
        "      x = net(data)\n",
        "      prob = F.softmax(x, dim=1)\n",
        "      assert sum(prob[0]).item() > 0.99 and sum(prob[0]).item() < 1.001\n",
        "\n",
        "      pred = torch.argmax(prob, dim = 1)\n",
        "\n",
        "      stacked_pred.extend(pred.tolist())\n",
        "      stacked_target.extend(target.tolist())\n",
        "      correct += torch.sum(pred == target)\n",
        "\n",
        "    f_measure = F_measure(stacked_pred, stacked_target) * 100\n",
        "    accuracy = (correct / num_of_data) * 100\n",
        "\n",
        "    top_paths[model_path] = \"{} f_measure, {} accuracy\".format(f_measure, accuracy)\n",
        "    \n",
        "    print(\"Epoch: {}\".format(e))\n",
        "    print(\"Loss Avg: {}\".format(loss_avg))\n",
        "    print(\"Last Learning Rate: {}\".format(scheduler.get_last_lr()))\n",
        "    print(\"Accuracy: {}%\".format(accuracy))\n",
        "    print(\"F measure: {}%\".format(f_measure))\n",
        "\n",
        "    if (e % 5 == 0) and (e != 0): \n",
        "      torch.save(net.state_dict(), model_path)\n",
        "      print(\"Model saved...\")\n",
        "    \n",
        "  with open(\"model_weightsLOGS.txt\", 'a+') as f:\n",
        "    for k in top_paths.keys():\n",
        "      final_string = '{} : {}'.format(k, top_paths[k]) \n",
        "      print(final_string, file=f)\n",
        "\n",
        "  return net"
      ],
      "metadata": {
        "id": "rrHKL-8lZDrX"
      },
      "execution_count": null,
      "outputs": []
    },
    {
      "cell_type": "code",
      "source": [
        "final_model = train(resnet50, epochs, \"SeptModelNoPretrained\")"
      ],
      "metadata": {
        "colab": {
          "base_uri": "https://localhost:8080/"
        },
        "id": "D7XEDvfxul_5",
        "outputId": "8367c8dd-152a-4227-ebb2-644a7d665492"
      },
      "execution_count": null,
      "outputs": [
        {
          "output_type": "stream",
          "name": "stderr",
          "text": [
            "\r  0%|          | 0/2813 [00:00<?, ?it/s]/usr/local/lib/python3.7/dist-packages/torch/optim/lr_scheduler.py:136: UserWarning: Detected call of `lr_scheduler.step()` before `optimizer.step()`. In PyTorch 1.1.0 and later, you should call them in the opposite order: `optimizer.step()` before `lr_scheduler.step()`.  Failure to do this will result in PyTorch skipping the first value of the learning rate schedule. See more details at https://pytorch.org/docs/stable/optim.html#how-to-adjust-learning-rate\n",
            "  \"https://pytorch.org/docs/stable/optim.html#how-to-adjust-learning-rate\", UserWarning)\n",
            "100%|██████████| 2813/2813 [02:39<00:00, 17.58it/s]\n",
            "100%|██████████| 282/282 [00:09<00:00, 29.88it/s]\n"
          ]
        },
        {
          "output_type": "stream",
          "name": "stdout",
          "text": [
            "Epoch: 0\n",
            "Loss Avg: 4.768987653928306\n",
            "Last Learning Rate: [0.002997041079278193]\n",
            "Accuracy: 3.655555486679077%\n",
            "F measure: 1.7895220635163116%\n"
          ]
        },
        {
          "output_type": "stream",
          "name": "stderr",
          "text": [
            "100%|██████████| 2813/2813 [02:33<00:00, 18.28it/s]\n",
            "100%|██████████| 282/282 [00:09<00:00, 30.52it/s]\n"
          ]
        },
        {
          "output_type": "stream",
          "name": "stdout",
          "text": [
            "Epoch: 1\n",
            "Loss Avg: 4.709363175753504\n",
            "Last Learning Rate: [0.0029881759946210596]\n",
            "Accuracy: 4.97777795791626%\n",
            "F measure: 3.338181213815098%\n"
          ]
        },
        {
          "output_type": "stream",
          "name": "stderr",
          "text": [
            "100%|██████████| 2813/2813 [02:32<00:00, 18.39it/s]\n",
            "100%|██████████| 282/282 [00:09<00:00, 30.61it/s]\n"
          ]
        },
        {
          "output_type": "stream",
          "name": "stdout",
          "text": [
            "Epoch: 2\n",
            "Loss Avg: 4.748988191723219\n",
            "Last Learning Rate: [0.002973439732467669]\n",
            "Accuracy: 5.933333396911621%\n",
            "F measure: 4.087767783200833%\n"
          ]
        },
        {
          "output_type": "stream",
          "name": "stderr",
          "text": [
            "100%|██████████| 2813/2813 [02:33<00:00, 18.32it/s]\n",
            "100%|██████████| 282/282 [00:09<00:00, 30.53it/s]\n"
          ]
        },
        {
          "output_type": "stream",
          "name": "stdout",
          "text": [
            "Epoch: 3\n",
            "Loss Avg: 4.565729891886522\n",
            "Last Learning Rate: [0.0029528904501123824]\n",
            "Accuracy: 6.833333492279053%\n",
            "F measure: 4.628673008661385%\n"
          ]
        },
        {
          "output_type": "stream",
          "name": "stderr",
          "text": [
            "100%|██████████| 2813/2813 [02:33<00:00, 18.31it/s]\n",
            "100%|██████████| 282/282 [00:09<00:00, 30.55it/s]\n"
          ]
        },
        {
          "output_type": "stream",
          "name": "stdout",
          "text": [
            "Epoch: 4\n",
            "Loss Avg: 4.70545027580544\n",
            "Last Learning Rate: [0.002926609246184583]\n",
            "Accuracy: 6.933333873748779%\n",
            "F measure: 4.949368318684942%\n"
          ]
        },
        {
          "output_type": "stream",
          "name": "stderr",
          "text": [
            "100%|██████████| 2813/2813 [02:33<00:00, 18.33it/s]\n",
            "100%|██████████| 282/282 [00:09<00:00, 30.11it/s]\n"
          ]
        },
        {
          "output_type": "stream",
          "name": "stdout",
          "text": [
            "Epoch: 5\n",
            "Loss Avg: 4.525701677941157\n",
            "Last Learning Rate: [0.002894699840589433]\n",
            "Accuracy: 8.122221946716309%\n",
            "F measure: 6.004002530325037%\n",
            "Model saved...\n"
          ]
        },
        {
          "output_type": "stream",
          "name": "stderr",
          "text": [
            "100%|██████████| 2813/2813 [02:36<00:00, 18.00it/s]\n",
            "100%|██████████| 282/282 [00:09<00:00, 30.09it/s]\n"
          ]
        },
        {
          "output_type": "stream",
          "name": "stdout",
          "text": [
            "Epoch: 6\n",
            "Loss Avg: 4.52931755699411\n",
            "Last Learning Rate: [0.0028572881651727964]\n",
            "Accuracy: 8.84444522857666%\n",
            "F measure: 7.021933264421855%\n"
          ]
        },
        {
          "output_type": "stream",
          "name": "stderr",
          "text": [
            "100%|██████████| 2813/2813 [02:34<00:00, 18.17it/s]\n",
            "100%|██████████| 282/282 [00:09<00:00, 28.94it/s]\n"
          ]
        },
        {
          "output_type": "stream",
          "name": "stdout",
          "text": [
            "Epoch: 7\n",
            "Loss Avg: 4.258340533833148\n",
            "Last Learning Rate: [0.002814521866725773]\n",
            "Accuracy: 8.744444847106934%\n",
            "F measure: 6.64246681212515%\n"
          ]
        },
        {
          "output_type": "stream",
          "name": "stderr",
          "text": [
            "100%|██████████| 2813/2813 [02:35<00:00, 18.05it/s]\n",
            "100%|██████████| 282/282 [00:09<00:00, 30.49it/s]\n"
          ]
        },
        {
          "output_type": "stream",
          "name": "stdout",
          "text": [
            "Epoch: 8\n",
            "Loss Avg: 4.319870836948061\n",
            "Last Learning Rate: [0.0027665697242902714]\n",
            "Accuracy: 9.233333587646484%\n",
            "F measure: 7.190058800244113%\n"
          ]
        },
        {
          "output_type": "stream",
          "name": "stderr",
          "text": [
            "100%|██████████| 2813/2813 [02:35<00:00, 18.09it/s]\n",
            "100%|██████████| 282/282 [00:09<00:00, 30.41it/s]\n"
          ]
        },
        {
          "output_type": "stream",
          "name": "stdout",
          "text": [
            "Epoch: 9\n",
            "Loss Avg: 4.136846782991082\n",
            "Last Learning Rate: [0.0027136209830652337]\n",
            "Accuracy: 11.055556297302246%\n",
            "F measure: 8.542457965781596%\n"
          ]
        },
        {
          "output_type": "stream",
          "name": "stderr",
          "text": [
            "100%|██████████| 2813/2813 [02:32<00:00, 18.46it/s]\n",
            "100%|██████████| 282/282 [00:09<00:00, 30.50it/s]\n"
          ]
        },
        {
          "output_type": "stream",
          "name": "stdout",
          "text": [
            "Epoch: 10\n",
            "Loss Avg: 4.349954769961128\n",
            "Last Learning Rate: [0.002655884607542296]\n",
            "Accuracy: 8.722222328186035%\n",
            "F measure: 6.746242885734439%\n",
            "Model saved...\n"
          ]
        },
        {
          "output_type": "stream",
          "name": "stderr",
          "text": [
            "100%|██████████| 2813/2813 [02:33<00:00, 18.31it/s]\n",
            "100%|██████████| 282/282 [00:09<00:00, 30.53it/s]\n"
          ]
        },
        {
          "output_type": "stream",
          "name": "stdout",
          "text": [
            "Epoch: 11\n",
            "Loss Avg: 4.48545461522758\n",
            "Last Learning Rate: [0.0025935884568184064]\n",
            "Accuracy: 10.977777481079102%\n",
            "F measure: 9.292516867815285%\n"
          ]
        },
        {
          "output_type": "stream",
          "name": "stderr",
          "text": [
            "100%|██████████| 2813/2813 [02:32<00:00, 18.45it/s]\n",
            "100%|██████████| 282/282 [00:09<00:00, 30.72it/s]\n"
          ]
        },
        {
          "output_type": "stream",
          "name": "stdout",
          "text": [
            "Epoch: 12\n",
            "Loss Avg: 4.214213168372301\n",
            "Last Learning Rate: [0.0025269783853400685]\n",
            "Accuracy: 12.199999809265137%\n",
            "F measure: 10.308871108398295%\n"
          ]
        },
        {
          "output_type": "stream",
          "name": "stderr",
          "text": [
            "100%|██████████| 2813/2813 [02:31<00:00, 18.58it/s]\n",
            "100%|██████████| 282/282 [00:09<00:00, 28.63it/s]\n"
          ]
        },
        {
          "output_type": "stream",
          "name": "stdout",
          "text": [
            "Epoch: 13\n",
            "Loss Avg: 4.188296565419078\n",
            "Last Learning Rate: [0.0024563172726281605]\n",
            "Accuracy: 12.766666412353516%\n",
            "F measure: 10.537109410587338%\n"
          ]
        },
        {
          "output_type": "stream",
          "name": "stderr",
          "text": [
            "100%|██████████| 2813/2813 [02:32<00:00, 18.41it/s]\n",
            "100%|██████████| 282/282 [00:09<00:00, 30.40it/s]\n"
          ]
        },
        {
          "output_type": "stream",
          "name": "stdout",
          "text": [
            "Epoch: 14\n",
            "Loss Avg: 4.136933668694577\n",
            "Last Learning Rate: [0.0023818839858125635]\n",
            "Accuracy: 14.100000381469727%\n",
            "F measure: 11.872656352482549%\n"
          ]
        },
        {
          "output_type": "stream",
          "name": "stderr",
          "text": [
            "100%|██████████| 2813/2813 [02:34<00:00, 18.21it/s]\n",
            "100%|██████████| 282/282 [00:09<00:00, 30.02it/s]\n"
          ]
        },
        {
          "output_type": "stream",
          "name": "stdout",
          "text": [
            "Epoch: 15\n",
            "Loss Avg: 3.9424788267181734\n",
            "Last Learning Rate: [0.0023039722790710055]\n",
            "Accuracy: 14.64444351196289%\n",
            "F measure: 12.298088630991728%\n",
            "Model saved...\n"
          ]
        },
        {
          "output_type": "stream",
          "name": "stderr",
          "text": [
            "100%|██████████| 2813/2813 [02:35<00:00, 18.11it/s]\n",
            "100%|██████████| 282/282 [00:09<00:00, 29.97it/s]\n"
          ]
        },
        {
          "output_type": "stream",
          "name": "stdout",
          "text": [
            "Epoch: 16\n",
            "Loss Avg: 3.9290002036374476\n",
            "Last Learning Rate: [0.002222889634315522]\n",
            "Accuracy: 14.422223091125488%\n",
            "F measure: 12.498693170819159%\n"
          ]
        },
        {
          "output_type": "stream",
          "name": "stderr",
          "text": [
            "100%|██████████| 2813/2813 [02:35<00:00, 18.12it/s]\n",
            "100%|██████████| 282/282 [00:09<00:00, 30.21it/s]\n"
          ]
        },
        {
          "output_type": "stream",
          "name": "stdout",
          "text": [
            "Epoch: 17\n",
            "Loss Avg: 4.114245126628845\n",
            "Last Learning Rate: [0.0021389560477018264]\n",
            "Accuracy: 15.744444847106934%\n",
            "F measure: 13.430299341917163%\n"
          ]
        },
        {
          "output_type": "stream",
          "name": "stderr",
          "text": [
            "100%|██████████| 2813/2813 [02:33<00:00, 18.33it/s]\n",
            "100%|██████████| 282/282 [00:09<00:00, 30.63it/s]\n"
          ]
        },
        {
          "output_type": "stream",
          "name": "stdout",
          "text": [
            "Epoch: 18\n",
            "Loss Avg: 3.8565488954936784\n",
            "Last Learning Rate: [0.002052502766750675]\n",
            "Accuracy: 15.988889694213867%\n",
            "F measure: 14.102273998052258%\n"
          ]
        },
        {
          "output_type": "stream",
          "name": "stderr",
          "text": [
            "100%|██████████| 2813/2813 [02:34<00:00, 18.24it/s]\n",
            "100%|██████████| 282/282 [00:09<00:00, 29.66it/s]\n"
          ]
        },
        {
          "output_type": "stream",
          "name": "stdout",
          "text": [
            "Epoch: 19\n",
            "Loss Avg: 3.7191431319834702\n",
            "Last Learning Rate: [0.0019638709830652338]\n",
            "Accuracy: 16.38888931274414%\n",
            "F measure: 14.247906447533754%\n"
          ]
        },
        {
          "output_type": "stream",
          "name": "stderr",
          "text": [
            "100%|██████████| 2813/2813 [02:32<00:00, 18.47it/s]\n",
            "100%|██████████| 282/282 [00:09<00:00, 30.76it/s]\n"
          ]
        },
        {
          "output_type": "stream",
          "name": "stdout",
          "text": [
            "Epoch: 20\n",
            "Loss Avg: 3.8402361807222025\n",
            "Last Learning Rate: [0.0018734104858037003]\n",
            "Accuracy: 16.755556106567383%\n",
            "F measure: 15.10988686343208%\n",
            "Model saved...\n"
          ]
        },
        {
          "output_type": "stream",
          "name": "stderr",
          "text": [
            "100%|██████████| 2813/2813 [02:31<00:00, 18.54it/s]\n",
            "100%|██████████| 282/282 [00:09<00:00, 30.37it/s]\n"
          ]
        },
        {
          "output_type": "stream",
          "name": "stdout",
          "text": [
            "Epoch: 21\n",
            "Loss Avg: 3.96909798072527\n",
            "Last Learning Rate: [0.0017814782812212945]\n",
            "Accuracy: 16.38888931274414%\n",
            "F measure: 14.647665588317674%\n"
          ]
        },
        {
          "output_type": "stream",
          "name": "stderr",
          "text": [
            "100%|██████████| 2813/2813 [02:33<00:00, 18.33it/s]\n",
            "100%|██████████| 282/282 [00:09<00:00, 30.58it/s]\n"
          ]
        },
        {
          "output_type": "stream",
          "name": "stdout",
          "text": [
            "Epoch: 22\n",
            "Loss Avg: 3.5946897839067047\n",
            "Last Learning Rate: [0.0016884371837296742]\n",
            "Accuracy: 17.877779006958008%\n",
            "F measure: 15.93982933015753%\n"
          ]
        },
        {
          "output_type": "stream",
          "name": "stderr",
          "text": [
            "100%|██████████| 2813/2813 [02:33<00:00, 18.36it/s]\n",
            "100%|██████████| 282/282 [00:09<00:00, 30.29it/s]\n"
          ]
        },
        {
          "output_type": "stream",
          "name": "stdout",
          "text": [
            "Epoch: 23\n",
            "Loss Avg: 3.795413174495825\n",
            "Last Learning Rate: [0.0015946543840342055]\n",
            "Accuracy: 18.55555534362793%\n",
            "F measure: 16.13557959587816%\n"
          ]
        },
        {
          "output_type": "stream",
          "name": "stderr",
          "text": [
            "100%|██████████| 2813/2813 [02:33<00:00, 18.28it/s]\n",
            "100%|██████████| 282/282 [00:09<00:00, 30.35it/s]\n"
          ]
        },
        {
          "output_type": "stream",
          "name": "stdout",
          "text": [
            "Epoch: 24\n",
            "Loss Avg: 4.012164956235091\n",
            "Last Learning Rate: [0.0015004999999999999]\n",
            "Accuracy: 15.588888168334961%\n",
            "F measure: 13.930854802138226%\n"
          ]
        },
        {
          "output_type": "stream",
          "name": "stderr",
          "text": [
            "100%|██████████| 2813/2813 [02:35<00:00, 18.13it/s]\n",
            "100%|██████████| 282/282 [00:09<00:00, 30.36it/s]\n"
          ]
        },
        {
          "output_type": "stream",
          "name": "stdout",
          "text": [
            "Epoch: 25\n",
            "Loss Avg: 3.7174768569888283\n",
            "Last Learning Rate: [0.0014063456159657947]\n",
            "Accuracy: 19.03333282470703%\n",
            "F measure: 17.127753831486153%\n",
            "Model saved...\n"
          ]
        },
        {
          "output_type": "stream",
          "name": "stderr",
          "text": [
            "100%|██████████| 2813/2813 [02:33<00:00, 18.27it/s]\n",
            "100%|██████████| 282/282 [00:09<00:00, 29.85it/s]\n"
          ]
        },
        {
          "output_type": "stream",
          "name": "stdout",
          "text": [
            "Epoch: 26\n",
            "Loss Avg: 3.6563766590166944\n",
            "Last Learning Rate: [0.0013125628162703256]\n",
            "Accuracy: 19.688888549804688%\n",
            "F measure: 17.85582881423919%\n"
          ]
        },
        {
          "output_type": "stream",
          "name": "stderr",
          "text": [
            "100%|██████████| 2813/2813 [02:34<00:00, 18.24it/s]\n",
            "100%|██████████| 282/282 [00:09<00:00, 30.25it/s]\n"
          ]
        },
        {
          "output_type": "stream",
          "name": "stdout",
          "text": [
            "Epoch: 27\n",
            "Loss Avg: 3.4809647512940773\n",
            "Last Learning Rate: [0.0012195217187787057]\n",
            "Accuracy: 19.733333587646484%\n",
            "F measure: 18.049128462119057%\n"
          ]
        },
        {
          "output_type": "stream",
          "name": "stderr",
          "text": [
            "100%|██████████| 2813/2813 [02:32<00:00, 18.49it/s]\n",
            "100%|██████████| 282/282 [00:09<00:00, 30.71it/s]\n"
          ]
        },
        {
          "output_type": "stream",
          "name": "stdout",
          "text": [
            "Epoch: 28\n",
            "Loss Avg: 3.532663507342593\n",
            "Last Learning Rate: [0.0011275895141963006]\n",
            "Accuracy: 20.233333587646484%\n",
            "F measure: 18.154314753522684%\n"
          ]
        },
        {
          "output_type": "stream",
          "name": "stderr",
          "text": [
            "100%|██████████| 2813/2813 [02:30<00:00, 18.69it/s]\n",
            "100%|██████████| 282/282 [00:09<00:00, 30.84it/s]\n"
          ]
        },
        {
          "output_type": "stream",
          "name": "stdout",
          "text": [
            "Epoch: 29\n",
            "Loss Avg: 3.662745199279489\n",
            "Last Learning Rate: [0.0010371290169347664]\n",
            "Accuracy: 21.11111068725586%\n",
            "F measure: 19.160528470303905%\n"
          ]
        },
        {
          "output_type": "stream",
          "name": "stderr",
          "text": [
            "100%|██████████| 2813/2813 [02:30<00:00, 18.71it/s]\n",
            "100%|██████████| 282/282 [00:09<00:00, 30.90it/s]\n"
          ]
        },
        {
          "output_type": "stream",
          "name": "stdout",
          "text": [
            "Epoch: 30\n",
            "Loss Avg: 3.383888059217634\n",
            "Last Learning Rate: [0.0009484972332493255]\n",
            "Accuracy: 21.5%\n",
            "F measure: 19.918396004265425%\n",
            "Model saved...\n"
          ]
        },
        {
          "output_type": "stream",
          "name": "stderr",
          "text": [
            "100%|██████████| 2813/2813 [02:32<00:00, 18.46it/s]\n",
            "100%|██████████| 282/282 [00:09<00:00, 29.24it/s]\n"
          ]
        },
        {
          "output_type": "stream",
          "name": "stdout",
          "text": [
            "Epoch: 31\n",
            "Loss Avg: 3.6828702449566633\n",
            "Last Learning Rate: [0.0008620439522981736]\n",
            "Accuracy: 22.05555534362793%\n",
            "F measure: 20.276519769728456%\n"
          ]
        },
        {
          "output_type": "stream",
          "name": "stderr",
          "text": [
            "100%|██████████| 2813/2813 [02:32<00:00, 18.46it/s]\n",
            "100%|██████████| 282/282 [00:09<00:00, 30.32it/s]\n"
          ]
        },
        {
          "output_type": "stream",
          "name": "stdout",
          "text": [
            "Epoch: 32\n",
            "Loss Avg: 3.5112963019038976\n",
            "Last Learning Rate: [0.0007781103656844779]\n",
            "Accuracy: 22.344444274902344%\n",
            "F measure: 20.557033742822927%\n"
          ]
        },
        {
          "output_type": "stream",
          "name": "stderr",
          "text": [
            "100%|██████████| 2813/2813 [02:33<00:00, 18.33it/s]\n",
            "100%|██████████| 282/282 [00:09<00:00, 30.10it/s]\n"
          ]
        },
        {
          "output_type": "stream",
          "name": "stdout",
          "text": [
            "Epoch: 33\n",
            "Loss Avg: 3.525888911939318\n",
            "Last Learning Rate: [0.0006970277209289943]\n",
            "Accuracy: 22.85555648803711%\n",
            "F measure: 21.393356872856963%\n"
          ]
        },
        {
          "output_type": "stream",
          "name": "stderr",
          "text": [
            "100%|██████████| 2813/2813 [02:34<00:00, 18.16it/s]\n",
            "100%|██████████| 282/282 [00:09<00:00, 30.24it/s]\n"
          ]
        },
        {
          "output_type": "stream",
          "name": "stdout",
          "text": [
            "Epoch: 34\n",
            "Loss Avg: 3.537501597090054\n",
            "Last Learning Rate: [0.0006191160141874368]\n",
            "Accuracy: 22.94444465637207%\n",
            "F measure: 21.334826257315825%\n"
          ]
        },
        {
          "output_type": "stream",
          "name": "stderr",
          "text": [
            "100%|██████████| 2813/2813 [02:33<00:00, 18.31it/s]\n",
            "100%|██████████| 282/282 [00:09<00:00, 29.91it/s]\n"
          ]
        },
        {
          "output_type": "stream",
          "name": "stdout",
          "text": [
            "Epoch: 35\n",
            "Loss Avg: 3.253273376724088\n",
            "Last Learning Rate: [0.0005446827273718397]\n",
            "Accuracy: 23.833332061767578%\n",
            "F measure: 22.55879908720072%\n",
            "Model saved...\n"
          ]
        },
        {
          "output_type": "stream",
          "name": "stderr",
          "text": [
            "100%|██████████| 2813/2813 [02:32<00:00, 18.47it/s]\n",
            "100%|██████████| 282/282 [00:09<00:00, 30.27it/s]\n"
          ]
        },
        {
          "output_type": "stream",
          "name": "stdout",
          "text": [
            "Epoch: 36\n",
            "Loss Avg: 3.2348986809283873\n",
            "Last Learning Rate: [0.0004740216146599312]\n",
            "Accuracy: 23.822221755981445%\n",
            "F measure: 22.112883872328677%\n"
          ]
        },
        {
          "output_type": "stream",
          "name": "stderr",
          "text": [
            "100%|██████████| 2813/2813 [02:31<00:00, 18.55it/s]\n",
            "100%|██████████| 282/282 [00:09<00:00, 29.97it/s]\n"
          ]
        },
        {
          "output_type": "stream",
          "name": "stdout",
          "text": [
            "Epoch: 37\n",
            "Loss Avg: 3.24737699680142\n",
            "Last Learning Rate: [0.00040741154318159366]\n",
            "Accuracy: 24.255556106567383%\n",
            "F measure: 22.672486799830118%\n"
          ]
        },
        {
          "output_type": "stream",
          "name": "stderr",
          "text": [
            "100%|██████████| 2813/2813 [02:35<00:00, 18.11it/s]\n",
            "100%|██████████| 282/282 [00:09<00:00, 29.54it/s]\n"
          ]
        },
        {
          "output_type": "stream",
          "name": "stdout",
          "text": [
            "Epoch: 38\n",
            "Loss Avg: 3.2244896843118718\n",
            "Last Learning Rate: [0.00034511539245770425]\n",
            "Accuracy: 24.58888816833496%\n",
            "F measure: 23.01486766729008%\n"
          ]
        },
        {
          "output_type": "stream",
          "name": "stderr",
          "text": [
            "100%|██████████| 2813/2813 [02:35<00:00, 18.04it/s]\n",
            "100%|██████████| 282/282 [00:10<00:00, 27.29it/s]\n"
          ]
        },
        {
          "output_type": "stream",
          "name": "stdout",
          "text": [
            "Epoch: 39\n",
            "Loss Avg: 3.4573071697948006\n",
            "Last Learning Rate: [0.00028737901693476646]\n",
            "Accuracy: 24.4777774810791%\n",
            "F measure: 23.050667923903735%\n"
          ]
        },
        {
          "output_type": "stream",
          "name": "stderr",
          "text": [
            "100%|██████████| 2813/2813 [02:34<00:00, 18.25it/s]\n",
            "100%|██████████| 282/282 [00:09<00:00, 29.05it/s]\n"
          ]
        },
        {
          "output_type": "stream",
          "name": "stdout",
          "text": [
            "Epoch: 40\n",
            "Loss Avg: 3.206891131652296\n",
            "Last Learning Rate: [0.00023443027570972875]\n",
            "Accuracy: 25.422222137451172%\n",
            "F measure: 24.137219580771518%\n",
            "Model saved...\n"
          ]
        },
        {
          "output_type": "stream",
          "name": "stderr",
          "text": [
            "100%|██████████| 2813/2813 [02:36<00:00, 17.97it/s]\n",
            "100%|██████████| 282/282 [00:09<00:00, 29.94it/s]\n"
          ]
        },
        {
          "output_type": "stream",
          "name": "stdout",
          "text": [
            "Epoch: 41\n",
            "Loss Avg: 3.2986251639974764\n",
            "Last Learning Rate: [0.0001864781332742269]\n",
            "Accuracy: 24.655555725097656%\n",
            "F measure: 23.382482695597915%\n"
          ]
        },
        {
          "output_type": "stream",
          "name": "stderr",
          "text": [
            "100%|██████████| 2813/2813 [02:36<00:00, 17.99it/s]\n",
            "100%|██████████| 282/282 [00:09<00:00, 30.08it/s]\n"
          ]
        },
        {
          "output_type": "stream",
          "name": "stdout",
          "text": [
            "Epoch: 42\n",
            "Loss Avg: 3.2532439416325714\n",
            "Last Learning Rate: [0.00014371183482720398]\n",
            "Accuracy: 25.577777862548828%\n",
            "F measure: 23.98721121446699%\n"
          ]
        },
        {
          "output_type": "stream",
          "name": "stderr",
          "text": [
            "100%|██████████| 2813/2813 [02:35<00:00, 18.10it/s]\n",
            "100%|██████████| 282/282 [00:09<00:00, 30.29it/s]\n"
          ]
        },
        {
          "output_type": "stream",
          "name": "stdout",
          "text": [
            "Epoch: 43\n",
            "Loss Avg: 3.2315195745958807\n",
            "Last Learning Rate: [0.0001063001594105671]\n",
            "Accuracy: 25.58888816833496%\n",
            "F measure: 24.021155952861676%\n"
          ]
        },
        {
          "output_type": "stream",
          "name": "stderr",
          "text": [
            "100%|██████████| 2813/2813 [02:34<00:00, 18.21it/s]\n",
            "100%|██████████| 282/282 [00:09<00:00, 30.35it/s]\n"
          ]
        },
        {
          "output_type": "stream",
          "name": "stdout",
          "text": [
            "Epoch: 44\n",
            "Loss Avg: 3.361808757549827\n",
            "Last Learning Rate: [7.43907538154173e-05]\n",
            "Accuracy: 25.344444274902344%\n",
            "F measure: 23.877120871403964%\n"
          ]
        },
        {
          "output_type": "stream",
          "name": "stderr",
          "text": [
            "100%|██████████| 2813/2813 [02:35<00:00, 18.03it/s]\n",
            "100%|██████████| 282/282 [00:09<00:00, 29.44it/s]\n"
          ]
        },
        {
          "output_type": "stream",
          "name": "stdout",
          "text": [
            "Epoch: 45\n",
            "Loss Avg: 3.321883121308403\n",
            "Last Learning Rate: [4.810954988761771e-05]\n",
            "Accuracy: 26.244443893432617%\n",
            "F measure: 24.805084650199845%\n",
            "Model saved...\n"
          ]
        },
        {
          "output_type": "stream",
          "name": "stderr",
          "text": [
            "100%|██████████| 2813/2813 [02:35<00:00, 18.10it/s]\n",
            "100%|██████████| 282/282 [00:09<00:00, 29.64it/s]\n"
          ]
        },
        {
          "output_type": "stream",
          "name": "stdout",
          "text": [
            "Epoch: 46\n",
            "Loss Avg: 3.338402929082621\n",
            "Last Learning Rate: [2.7560267532331433e-05]\n",
            "Accuracy: 26.044443130493164%\n",
            "F measure: 24.644288577304646%\n"
          ]
        },
        {
          "output_type": "stream",
          "name": "stderr",
          "text": [
            "100%|██████████| 2813/2813 [02:35<00:00, 18.05it/s]\n",
            "100%|██████████| 282/282 [00:10<00:00, 27.20it/s]\n"
          ]
        },
        {
          "output_type": "stream",
          "name": "stdout",
          "text": [
            "Epoch: 47\n",
            "Loss Avg: 3.095947929706438\n",
            "Last Learning Rate: [1.282400537894059e-05]\n",
            "Accuracy: 26.233333587646484%\n",
            "F measure: 24.650644254751445%\n"
          ]
        },
        {
          "output_type": "stream",
          "name": "stderr",
          "text": [
            "100%|██████████| 2813/2813 [02:34<00:00, 18.17it/s]\n",
            "100%|██████████| 282/282 [00:09<00:00, 29.74it/s]\n"
          ]
        },
        {
          "output_type": "stream",
          "name": "stdout",
          "text": [
            "Epoch: 48\n",
            "Loss Avg: 3.248243156518944\n",
            "Last Learning Rate: [3.958920721806798e-06]\n",
            "Accuracy: 25.299999237060547%\n",
            "F measure: 23.827554822073928%\n"
          ]
        },
        {
          "output_type": "stream",
          "name": "stderr",
          "text": [
            "100%|██████████| 2813/2813 [02:35<00:00, 18.07it/s]\n",
            "100%|██████████| 282/282 [00:09<00:00, 30.34it/s]\n"
          ]
        },
        {
          "output_type": "stream",
          "name": "stdout",
          "text": [
            "Epoch: 49\n",
            "Loss Avg: 3.0365019899384706\n",
            "Last Learning Rate: [1e-06]\n",
            "Accuracy: 25.744443893432617%\n",
            "F measure: 24.487229644750734%\n"
          ]
        }
      ]
    },
    {
      "cell_type": "code",
      "source": [
        "final_model = train(resnet50, epochs, \"EndofAugustModelFinal\")"
      ],
      "metadata": {
        "colab": {
          "base_uri": "https://localhost:8080/"
        },
        "id": "xtK1spMxZxil",
        "outputId": "7e47e3b4-7a8b-4d3c-f9d0-77abd0dca744"
      },
      "execution_count": null,
      "outputs": [
        {
          "output_type": "stream",
          "name": "stderr",
          "text": [
            "  0%|          | 0/2813 [00:00<?, ?it/s]/usr/local/lib/python3.7/dist-packages/torch/optim/lr_scheduler.py:136: UserWarning: Detected call of `lr_scheduler.step()` before `optimizer.step()`. In PyTorch 1.1.0 and later, you should call them in the opposite order: `optimizer.step()` before `lr_scheduler.step()`.  Failure to do this will result in PyTorch skipping the first value of the learning rate schedule. See more details at https://pytorch.org/docs/stable/optim.html#how-to-adjust-learning-rate\n",
            "  \"https://pytorch.org/docs/stable/optim.html#how-to-adjust-learning-rate\", UserWarning)\n",
            "100%|██████████| 2813/2813 [01:40<00:00, 28.12it/s]\n",
            "100%|██████████| 282/282 [00:10<00:00, 27.37it/s]\n"
          ]
        },
        {
          "output_type": "stream",
          "name": "stdout",
          "text": [
            "Epoch: 0\n",
            "Loss Avg: 4.4360541840549175\n",
            "Last Learning Rate: [0.002997041079278193]\n",
            "Accuracy: 13.05555534362793%\n",
            "F measure: 11.804707762996678%\n"
          ]
        },
        {
          "output_type": "stream",
          "name": "stderr",
          "text": [
            "100%|██████████| 2813/2813 [01:40<00:00, 27.95it/s]\n",
            "100%|██████████| 282/282 [00:10<00:00, 26.82it/s]\n"
          ]
        },
        {
          "output_type": "stream",
          "name": "stdout",
          "text": [
            "Epoch: 1\n",
            "Loss Avg: 4.432996588169742\n",
            "Last Learning Rate: [0.0029881759946210596]\n",
            "Accuracy: 13.755555152893066%\n",
            "F measure: 12.222083759102292%\n"
          ]
        },
        {
          "output_type": "stream",
          "name": "stderr",
          "text": [
            "100%|██████████| 2813/2813 [01:40<00:00, 28.10it/s]\n",
            "100%|██████████| 282/282 [00:10<00:00, 27.53it/s]\n"
          ]
        },
        {
          "output_type": "stream",
          "name": "stdout",
          "text": [
            "Epoch: 2\n",
            "Loss Avg: 4.300994266163312\n",
            "Last Learning Rate: [0.002973439732467669]\n",
            "Accuracy: 15.177777290344238%\n",
            "F measure: 14.056983722755522%\n"
          ]
        },
        {
          "output_type": "stream",
          "name": "stderr",
          "text": [
            "100%|██████████| 2813/2813 [01:41<00:00, 27.81it/s]\n",
            "100%|██████████| 282/282 [00:10<00:00, 27.90it/s]\n"
          ]
        },
        {
          "output_type": "stream",
          "name": "stdout",
          "text": [
            "Epoch: 3\n",
            "Loss Avg: 4.2613147341447535\n",
            "Last Learning Rate: [0.0029528904501123824]\n",
            "Accuracy: 15.144445419311523%\n",
            "F measure: 13.879069770264682%\n"
          ]
        },
        {
          "output_type": "stream",
          "name": "stderr",
          "text": [
            "100%|██████████| 2813/2813 [01:40<00:00, 28.12it/s]\n",
            "100%|██████████| 282/282 [00:10<00:00, 26.39it/s]\n"
          ]
        },
        {
          "output_type": "stream",
          "name": "stdout",
          "text": [
            "Epoch: 4\n",
            "Loss Avg: 3.9749447032490353\n",
            "Last Learning Rate: [0.002926609246184583]\n",
            "Accuracy: 14.677778244018555%\n",
            "F measure: 13.573954299902793%\n"
          ]
        },
        {
          "output_type": "stream",
          "name": "stderr",
          "text": [
            "100%|██████████| 2813/2813 [01:40<00:00, 27.97it/s]\n",
            "100%|██████████| 282/282 [00:10<00:00, 27.58it/s]\n"
          ]
        },
        {
          "output_type": "stream",
          "name": "stdout",
          "text": [
            "Epoch: 5\n",
            "Loss Avg: 4.323001869800866\n",
            "Last Learning Rate: [0.002894699840589433]\n",
            "Accuracy: 15.84444522857666%\n",
            "F measure: 14.373746537912032%\n",
            "Model saved...\n"
          ]
        },
        {
          "output_type": "stream",
          "name": "stderr",
          "text": [
            "100%|██████████| 2813/2813 [01:39<00:00, 28.24it/s]\n",
            "100%|██████████| 282/282 [00:10<00:00, 27.83it/s]\n"
          ]
        },
        {
          "output_type": "stream",
          "name": "stdout",
          "text": [
            "Epoch: 6\n",
            "Loss Avg: 4.151559967104138\n",
            "Last Learning Rate: [0.0028572881651727964]\n",
            "Accuracy: 14.633333206176758%\n",
            "F measure: 13.345636826192445%\n"
          ]
        },
        {
          "output_type": "stream",
          "name": "stderr",
          "text": [
            "100%|██████████| 2813/2813 [01:40<00:00, 27.93it/s]\n",
            "100%|██████████| 282/282 [00:10<00:00, 27.02it/s]\n"
          ]
        },
        {
          "output_type": "stream",
          "name": "stdout",
          "text": [
            "Epoch: 7\n",
            "Loss Avg: 4.2606794571883535\n",
            "Last Learning Rate: [0.002814521866725773]\n",
            "Accuracy: 15.477778434753418%\n",
            "F measure: 14.510342073600253%\n"
          ]
        },
        {
          "output_type": "stream",
          "name": "stderr",
          "text": [
            "100%|██████████| 2813/2813 [01:39<00:00, 28.31it/s]\n",
            "100%|██████████| 282/282 [00:10<00:00, 27.23it/s]\n"
          ]
        },
        {
          "output_type": "stream",
          "name": "stdout",
          "text": [
            "Epoch: 8\n",
            "Loss Avg: 4.0444128601541\n",
            "Last Learning Rate: [0.0027665697242902714]\n",
            "Accuracy: 15.577777862548828%\n",
            "F measure: 14.224682182095322%\n"
          ]
        },
        {
          "output_type": "stream",
          "name": "stderr",
          "text": [
            "100%|██████████| 2813/2813 [01:40<00:00, 27.93it/s]\n",
            "100%|██████████| 282/282 [00:10<00:00, 27.11it/s]\n"
          ]
        },
        {
          "output_type": "stream",
          "name": "stdout",
          "text": [
            "Epoch: 9\n",
            "Loss Avg: 4.257315193331149\n",
            "Last Learning Rate: [0.0027136209830652337]\n",
            "Accuracy: 15.766666412353516%\n",
            "F measure: 14.363059347375891%\n"
          ]
        },
        {
          "output_type": "stream",
          "name": "stderr",
          "text": [
            "100%|██████████| 2813/2813 [01:39<00:00, 28.18it/s]\n",
            "100%|██████████| 282/282 [00:10<00:00, 27.82it/s]\n"
          ]
        },
        {
          "output_type": "stream",
          "name": "stdout",
          "text": [
            "Epoch: 10\n",
            "Loss Avg: 4.1423242291363405\n",
            "Last Learning Rate: [0.002655884607542296]\n",
            "Accuracy: 16.14444351196289%\n",
            "F measure: 15.017108378732354%\n",
            "Model saved...\n"
          ]
        },
        {
          "output_type": "stream",
          "name": "stderr",
          "text": [
            "100%|██████████| 2813/2813 [01:41<00:00, 27.82it/s]\n",
            "100%|██████████| 282/282 [00:10<00:00, 27.18it/s]\n"
          ]
        },
        {
          "output_type": "stream",
          "name": "stdout",
          "text": [
            "Epoch: 11\n",
            "Loss Avg: 4.083460747451589\n",
            "Last Learning Rate: [0.0025935884568184064]\n",
            "Accuracy: 15.94444465637207%\n",
            "F measure: 14.625174367839861%\n"
          ]
        },
        {
          "output_type": "stream",
          "name": "stderr",
          "text": [
            "100%|██████████| 2813/2813 [01:39<00:00, 28.29it/s]\n",
            "100%|██████████| 282/282 [00:10<00:00, 27.71it/s]\n"
          ]
        },
        {
          "output_type": "stream",
          "name": "stdout",
          "text": [
            "Epoch: 12\n",
            "Loss Avg: 4.139528795973582\n",
            "Last Learning Rate: [0.0025269783853400685]\n",
            "Accuracy: 16.200000762939453%\n",
            "F measure: 14.829885281870684%\n"
          ]
        },
        {
          "output_type": "stream",
          "name": "stderr",
          "text": [
            "100%|██████████| 2813/2813 [01:39<00:00, 28.27it/s]\n",
            "100%|██████████| 282/282 [00:11<00:00, 25.39it/s]\n"
          ]
        },
        {
          "output_type": "stream",
          "name": "stdout",
          "text": [
            "Epoch: 13\n",
            "Loss Avg: 4.038126677491221\n",
            "Last Learning Rate: [0.0024563172726281605]\n",
            "Accuracy: 15.922223091125488%\n",
            "F measure: 14.577158127132986%\n"
          ]
        },
        {
          "output_type": "stream",
          "name": "stderr",
          "text": [
            "100%|██████████| 2813/2813 [01:38<00:00, 28.66it/s]\n",
            "100%|██████████| 282/282 [00:10<00:00, 27.63it/s]\n"
          ]
        },
        {
          "output_type": "stream",
          "name": "stdout",
          "text": [
            "Epoch: 14\n",
            "Loss Avg: 4.2133701204673315\n",
            "Last Learning Rate: [0.0023818839858125635]\n",
            "Accuracy: 16.066667556762695%\n",
            "F measure: 15.213228368210144%\n"
          ]
        },
        {
          "output_type": "stream",
          "name": "stderr",
          "text": [
            "100%|██████████| 2813/2813 [01:39<00:00, 28.36it/s]\n",
            "100%|██████████| 282/282 [00:10<00:00, 26.79it/s]\n"
          ]
        },
        {
          "output_type": "stream",
          "name": "stdout",
          "text": [
            "Epoch: 15\n",
            "Loss Avg: 4.137350757388215\n",
            "Last Learning Rate: [0.0023039722790710055]\n",
            "Accuracy: 16.211111068725586%\n",
            "F measure: 15.35440007870761%\n",
            "Model saved...\n"
          ]
        },
        {
          "output_type": "stream",
          "name": "stderr",
          "text": [
            "100%|██████████| 2813/2813 [01:39<00:00, 28.19it/s]\n",
            "100%|██████████| 282/282 [00:10<00:00, 27.71it/s]\n"
          ]
        },
        {
          "output_type": "stream",
          "name": "stdout",
          "text": [
            "Epoch: 16\n",
            "Loss Avg: 4.094550806976711\n",
            "Last Learning Rate: [0.002222889634315522]\n",
            "Accuracy: 17.122222900390625%\n",
            "F measure: 15.78525811035093%\n"
          ]
        },
        {
          "output_type": "stream",
          "name": "stderr",
          "text": [
            "100%|██████████| 2813/2813 [01:39<00:00, 28.30it/s]\n",
            "100%|██████████| 282/282 [00:10<00:00, 27.31it/s]\n"
          ]
        },
        {
          "output_type": "stream",
          "name": "stdout",
          "text": [
            "Epoch: 17\n",
            "Loss Avg: 4.064166548567663\n",
            "Last Learning Rate: [0.0021389560477018264]\n",
            "Accuracy: 16.677778244018555%\n",
            "F measure: 15.485491795904881%\n"
          ]
        },
        {
          "output_type": "stream",
          "name": "stderr",
          "text": [
            "100%|██████████| 2813/2813 [01:39<00:00, 28.21it/s]\n",
            "100%|██████████| 282/282 [00:10<00:00, 27.61it/s]\n"
          ]
        },
        {
          "output_type": "stream",
          "name": "stdout",
          "text": [
            "Epoch: 18\n",
            "Loss Avg: 4.395256143390893\n",
            "Last Learning Rate: [0.002052502766750675]\n",
            "Accuracy: 16.433332443237305%\n",
            "F measure: 15.388325433006006%\n"
          ]
        },
        {
          "output_type": "stream",
          "name": "stderr",
          "text": [
            "100%|██████████| 2813/2813 [01:39<00:00, 28.24it/s]\n",
            "100%|██████████| 282/282 [00:10<00:00, 27.89it/s]\n"
          ]
        },
        {
          "output_type": "stream",
          "name": "stdout",
          "text": [
            "Epoch: 19\n",
            "Loss Avg: 4.410659798737378\n",
            "Last Learning Rate: [0.0019638709830652338]\n",
            "Accuracy: 17.155555725097656%\n",
            "F measure: 15.872145896454093%\n"
          ]
        },
        {
          "output_type": "stream",
          "name": "stderr",
          "text": [
            "100%|██████████| 2813/2813 [01:39<00:00, 28.29it/s]\n",
            "100%|██████████| 282/282 [00:10<00:00, 28.01it/s]\n"
          ]
        },
        {
          "output_type": "stream",
          "name": "stdout",
          "text": [
            "Epoch: 20\n",
            "Loss Avg: 4.098767067031411\n",
            "Last Learning Rate: [0.0018734104858037003]\n",
            "Accuracy: 17.122222900390625%\n",
            "F measure: 15.68401438691495%\n",
            "Model saved...\n"
          ]
        },
        {
          "output_type": "stream",
          "name": "stderr",
          "text": [
            "100%|██████████| 2813/2813 [01:38<00:00, 28.52it/s]\n",
            "100%|██████████| 282/282 [00:09<00:00, 28.23it/s]\n"
          ]
        },
        {
          "output_type": "stream",
          "name": "stdout",
          "text": [
            "Epoch: 21\n",
            "Loss Avg: 4.216442115807314\n",
            "Last Learning Rate: [0.0017814782812212945]\n",
            "Accuracy: 16.733333587646484%\n",
            "F measure: 15.695785836408039%\n"
          ]
        },
        {
          "output_type": "stream",
          "name": "stderr",
          "text": [
            "100%|██████████| 2813/2813 [01:38<00:00, 28.61it/s]\n",
            "100%|██████████| 282/282 [00:10<00:00, 25.80it/s]\n"
          ]
        },
        {
          "output_type": "stream",
          "name": "stdout",
          "text": [
            "Epoch: 22\n",
            "Loss Avg: 3.8963749918298194\n",
            "Last Learning Rate: [0.0016884371837296742]\n",
            "Accuracy: 17.211111068725586%\n",
            "F measure: 15.883553225749303%\n"
          ]
        },
        {
          "output_type": "stream",
          "name": "stderr",
          "text": [
            "100%|██████████| 2813/2813 [01:39<00:00, 28.27it/s]\n",
            "100%|██████████| 282/282 [00:10<00:00, 27.40it/s]\n"
          ]
        },
        {
          "output_type": "stream",
          "name": "stdout",
          "text": [
            "Epoch: 23\n",
            "Loss Avg: 3.90582694552144\n",
            "Last Learning Rate: [0.0015946543840342055]\n",
            "Accuracy: 17.55555534362793%\n",
            "F measure: 16.49052134251087%\n"
          ]
        },
        {
          "output_type": "stream",
          "name": "stderr",
          "text": [
            "100%|██████████| 2813/2813 [01:38<00:00, 28.52it/s]\n",
            "100%|██████████| 282/282 [00:11<00:00, 25.46it/s]\n"
          ]
        },
        {
          "output_type": "stream",
          "name": "stdout",
          "text": [
            "Epoch: 24\n",
            "Loss Avg: 3.964244502117633\n",
            "Last Learning Rate: [0.0015004999999999999]\n",
            "Accuracy: 17.244443893432617%\n",
            "F measure: 15.868632684450933%\n"
          ]
        },
        {
          "output_type": "stream",
          "name": "stderr",
          "text": [
            "100%|██████████| 2813/2813 [01:39<00:00, 28.19it/s]\n",
            "100%|██████████| 282/282 [00:10<00:00, 28.11it/s]\n"
          ]
        },
        {
          "output_type": "stream",
          "name": "stdout",
          "text": [
            "Epoch: 25\n",
            "Loss Avg: 3.8794458446050157\n",
            "Last Learning Rate: [0.0014063456159657947]\n",
            "Accuracy: 17.899999618530273%\n",
            "F measure: 16.397173252704963%\n",
            "Model saved...\n"
          ]
        },
        {
          "output_type": "stream",
          "name": "stderr",
          "text": [
            " 59%|█████▊    | 1646/2813 [00:58<00:39, 29.21it/s]"
          ]
        }
      ]
    },
    {
      "cell_type": "code",
      "source": [
        "final_model = train(resnet50, epochs, \"EndofAugustModel\")"
      ],
      "metadata": {
        "id": "PSOaalrtG59w",
        "colab": {
          "base_uri": "https://localhost:8080/",
          "height": 1000
        },
        "outputId": "4e9cbf87-6c2f-4e43-de10-413306305085"
      },
      "execution_count": null,
      "outputs": [
        {
          "output_type": "stream",
          "name": "stderr",
          "text": [
            "  0%|          | 0/2813 [00:00<?, ?it/s]/usr/local/lib/python3.7/dist-packages/torch/optim/lr_scheduler.py:136: UserWarning: Detected call of `lr_scheduler.step()` before `optimizer.step()`. In PyTorch 1.1.0 and later, you should call them in the opposite order: `optimizer.step()` before `lr_scheduler.step()`.  Failure to do this will result in PyTorch skipping the first value of the learning rate schedule. See more details at https://pytorch.org/docs/stable/optim.html#how-to-adjust-learning-rate\n",
            "  \"https://pytorch.org/docs/stable/optim.html#how-to-adjust-learning-rate\", UserWarning)\n",
            "100%|██████████| 2813/2813 [01:50<00:00, 25.48it/s]\n",
            "100%|██████████| 282/282 [00:10<00:00, 26.96it/s]\n"
          ]
        },
        {
          "output_type": "stream",
          "name": "stdout",
          "text": [
            "Epoch: 0\n",
            "Loss Avg: 4.534735864921662\n",
            "Last Learning Rate: [0.002991785582104726]\n",
            "Accuracy: 13.122221946716309%\n",
            "F measure: 11.737469811739484%\n"
          ]
        },
        {
          "output_type": "stream",
          "name": "stderr",
          "text": [
            "100%|██████████| 2813/2813 [01:42<00:00, 27.48it/s]\n",
            "100%|██████████| 282/282 [00:10<00:00, 27.36it/s]\n"
          ]
        },
        {
          "output_type": "stream",
          "name": "stdout",
          "text": [
            "Epoch: 1\n",
            "Loss Avg: 4.361955683458782\n",
            "Last Learning Rate: [0.0029672323273003415]\n",
            "Accuracy: 14.766666412353516%\n",
            "F measure: 13.15320466511842%\n"
          ]
        },
        {
          "output_type": "stream",
          "name": "stderr",
          "text": [
            "100%|██████████| 2813/2813 [01:41<00:00, 27.77it/s]\n",
            "100%|██████████| 282/282 [00:10<00:00, 27.69it/s]\n"
          ]
        },
        {
          "output_type": "stream",
          "name": "stdout",
          "text": [
            "Epoch: 2\n",
            "Loss Avg: 4.3953398472519645\n",
            "Last Learning Rate: [0.002926609246184583]\n",
            "Accuracy: 14.85555648803711%\n",
            "F measure: 13.626036610213927%\n"
          ]
        },
        {
          "output_type": "stream",
          "name": "stderr",
          "text": [
            "100%|██████████| 2813/2813 [01:42<00:00, 27.56it/s]\n",
            "100%|██████████| 282/282 [00:10<00:00, 27.01it/s]\n"
          ]
        },
        {
          "output_type": "stream",
          "name": "stdout",
          "text": [
            "Epoch: 3\n",
            "Loss Avg: 4.496478353516859\n",
            "Last Learning Rate: [0.0028703614137350797]\n",
            "Accuracy: 14.800000190734863%\n",
            "F measure: 13.359128809593738%\n"
          ]
        },
        {
          "output_type": "stream",
          "name": "stderr",
          "text": [
            "100%|██████████| 2813/2813 [01:40<00:00, 28.00it/s]\n",
            "100%|██████████| 282/282 [00:10<00:00, 27.07it/s]\n"
          ]
        },
        {
          "output_type": "stream",
          "name": "stdout",
          "text": [
            "Epoch: 4\n",
            "Loss Avg: 4.236055577353864\n",
            "Last Learning Rate: [0.002799105092974766]\n",
            "Accuracy: 14.677778244018555%\n",
            "F measure: 13.64508437133832%\n"
          ]
        },
        {
          "output_type": "stream",
          "name": "stderr",
          "text": [
            "100%|██████████| 2813/2813 [01:41<00:00, 27.71it/s]\n",
            "100%|██████████| 282/282 [00:10<00:00, 27.31it/s]\n"
          ]
        },
        {
          "output_type": "stream",
          "name": "stdout",
          "text": [
            "Epoch: 5\n",
            "Loss Avg: 4.114198362534223\n",
            "Last Learning Rate: [0.0027136209830652337]\n",
            "Accuracy: 15.688888549804688%\n",
            "F measure: 14.20150696718806%\n",
            "Model saved...\n"
          ]
        },
        {
          "output_type": "stream",
          "name": "stderr",
          "text": [
            "100%|██████████| 2813/2813 [01:41<00:00, 27.67it/s]\n",
            "100%|██████████| 282/282 [00:10<00:00, 25.72it/s]\n"
          ]
        },
        {
          "output_type": "stream",
          "name": "stdout",
          "text": [
            "Epoch: 6\n",
            "Loss Avg: 4.1837266148919765\n",
            "Last Learning Rate: [0.0026148456658033527]\n",
            "Accuracy: 16.255556106567383%\n",
            "F measure: 14.918549897013946%\n"
          ]
        },
        {
          "output_type": "stream",
          "name": "stderr",
          "text": [
            "100%|██████████| 2813/2813 [01:39<00:00, 28.15it/s]\n",
            "100%|██████████| 282/282 [00:10<00:00, 27.60it/s]\n"
          ]
        },
        {
          "output_type": "stream",
          "name": "stdout",
          "text": [
            "Epoch: 7\n",
            "Loss Avg: 4.3779677444360034\n",
            "Last Learning Rate: [0.002503861344235108]\n",
            "Accuracy: 16.133333206176758%\n",
            "F measure: 14.700515480915497%\n"
          ]
        },
        {
          "output_type": "stream",
          "name": "stderr",
          "text": [
            "100%|██████████| 2813/2813 [01:39<00:00, 28.30it/s]\n",
            "100%|██████████| 282/282 [00:11<00:00, 25.18it/s]\n"
          ]
        },
        {
          "output_type": "stream",
          "name": "stdout",
          "text": [
            "Epoch: 8\n",
            "Loss Avg: 4.06518190710448\n",
            "Last Learning Rate: [0.0023818839858125635]\n",
            "Accuracy: 16.200000762939453%\n",
            "F measure: 14.739771384754178%\n"
          ]
        },
        {
          "output_type": "stream",
          "name": "stderr",
          "text": [
            "100%|██████████| 2813/2813 [01:41<00:00, 27.84it/s]\n",
            "100%|██████████| 282/282 [00:10<00:00, 27.52it/s]\n"
          ]
        },
        {
          "output_type": "stream",
          "name": "stdout",
          "text": [
            "Epoch: 9\n",
            "Loss Avg: 4.144949736337043\n",
            "Last Learning Rate: [0.00225025]\n",
            "Accuracy: 16.477779388427734%\n",
            "F measure: 15.283749898056797%\n"
          ]
        },
        {
          "output_type": "stream",
          "name": "stderr",
          "text": [
            "100%|██████████| 2813/2813 [01:39<00:00, 28.14it/s]\n",
            "100%|██████████| 282/282 [00:10<00:00, 27.79it/s]\n"
          ]
        },
        {
          "output_type": "stream",
          "name": "stdout",
          "text": [
            "Epoch: 10\n",
            "Loss Avg: 4.017346219459153\n",
            "Last Learning Rate: [0.0021104015962921624]\n",
            "Accuracy: 16.633333206176758%\n",
            "F measure: 15.093593081822926%\n",
            "Model saved...\n"
          ]
        },
        {
          "output_type": "stream",
          "name": "stderr",
          "text": [
            "100%|██████████| 2813/2813 [01:40<00:00, 28.07it/s]\n",
            "100%|██████████| 282/282 [00:10<00:00, 27.17it/s]\n"
          ]
        },
        {
          "output_type": "stream",
          "name": "stdout",
          "text": [
            "Epoch: 11\n",
            "Loss Avg: 4.227751871950351\n",
            "Last Learning Rate: [0.0019638709830652338]\n",
            "Accuracy: 16.200000762939453%\n",
            "F measure: 14.921768148109942%\n"
          ]
        },
        {
          "output_type": "stream",
          "name": "stderr",
          "text": [
            "100%|██████████| 2813/2813 [01:39<00:00, 28.14it/s]\n",
            "100%|██████████| 282/282 [00:10<00:00, 27.69it/s]\n"
          ]
        },
        {
          "output_type": "stream",
          "name": "stdout",
          "text": [
            "Epoch: 12\n",
            "Loss Avg: 4.055194355696666\n",
            "Last Learning Rate: [0.0018122635803812298]\n",
            "Accuracy: 16.577777862548828%\n",
            "F measure: 15.283941212298632%\n"
          ]
        },
        {
          "output_type": "stream",
          "name": "stderr",
          "text": [
            "100%|██████████| 2813/2813 [01:40<00:00, 28.06it/s]\n",
            "100%|██████████| 282/282 [00:10<00:00, 27.49it/s]\n"
          ]
        },
        {
          "output_type": "stream",
          "name": "stdout",
          "text": [
            "Epoch: 13\n",
            "Loss Avg: 4.040826226846553\n",
            "Last Learning Rate: [0.0016572404306698465]\n",
            "Accuracy: 17.044445037841797%\n",
            "F measure: 15.391640338503409%\n"
          ]
        },
        {
          "output_type": "stream",
          "name": "stderr",
          "text": [
            "100%|██████████| 2813/2813 [01:39<00:00, 28.20it/s]\n",
            "100%|██████████| 282/282 [00:10<00:00, 26.93it/s]\n"
          ]
        },
        {
          "output_type": "stream",
          "name": "stdout",
          "text": [
            "Epoch: 14\n",
            "Loss Avg: 4.154062501167971\n",
            "Last Learning Rate: [0.0015004999999999999]\n",
            "Accuracy: 17.488889694213867%\n",
            "F measure: 16.37283172889487%\n"
          ]
        },
        {
          "output_type": "stream",
          "name": "stderr",
          "text": [
            "100%|██████████| 2813/2813 [01:41<00:00, 27.74it/s]\n",
            "100%|██████████| 282/282 [00:10<00:00, 27.42it/s]\n"
          ]
        },
        {
          "output_type": "stream",
          "name": "stdout",
          "text": [
            "Epoch: 15\n",
            "Loss Avg: 4.035506644971614\n",
            "Last Learning Rate: [0.0013437595693301541]\n",
            "Accuracy: 17.344444274902344%\n",
            "F measure: 16.25025909656594%\n",
            "Model saved...\n"
          ]
        },
        {
          "output_type": "stream",
          "name": "stderr",
          "text": [
            "100%|██████████| 2813/2813 [01:40<00:00, 27.94it/s]\n",
            "100%|██████████| 282/282 [00:10<00:00, 27.05it/s]\n"
          ]
        },
        {
          "output_type": "stream",
          "name": "stdout",
          "text": [
            "Epoch: 16\n",
            "Loss Avg: 3.9096314092658435\n",
            "Last Learning Rate: [0.0011887364196187702]\n",
            "Accuracy: 17.55555534362793%\n",
            "F measure: 16.262597428297155%\n"
          ]
        },
        {
          "output_type": "stream",
          "name": "stderr",
          "text": [
            "100%|██████████| 2813/2813 [01:40<00:00, 28.12it/s]\n",
            "100%|██████████| 282/282 [00:10<00:00, 27.25it/s]\n"
          ]
        },
        {
          "output_type": "stream",
          "name": "stdout",
          "text": [
            "Epoch: 17\n",
            "Loss Avg: 4.00260542161437\n",
            "Last Learning Rate: [0.0010371290169347664]\n",
            "Accuracy: 18.27777862548828%\n",
            "F measure: 16.867488140525307%\n"
          ]
        },
        {
          "output_type": "stream",
          "name": "stderr",
          "text": [
            "100%|██████████| 2813/2813 [01:40<00:00, 27.89it/s]\n",
            "100%|██████████| 282/282 [00:10<00:00, 27.85it/s]\n"
          ]
        },
        {
          "output_type": "stream",
          "name": "stdout",
          "text": [
            "Epoch: 18\n",
            "Loss Avg: 3.7828107932943587\n",
            "Last Learning Rate: [0.0008905984037078379]\n",
            "Accuracy: 17.700000762939453%\n",
            "F measure: 16.262155151710104%\n"
          ]
        },
        {
          "output_type": "stream",
          "name": "stderr",
          "text": [
            "100%|██████████| 2813/2813 [01:39<00:00, 28.23it/s]\n",
            "100%|██████████| 282/282 [00:10<00:00, 27.60it/s]\n"
          ]
        },
        {
          "output_type": "stream",
          "name": "stdout",
          "text": [
            "Epoch: 19\n",
            "Loss Avg: 3.9715668170752028\n",
            "Last Learning Rate: [0.0007507500000000004]\n",
            "Accuracy: 17.66666603088379%\n",
            "F measure: 16.279708209211936%\n"
          ]
        },
        {
          "output_type": "stream",
          "name": "stderr",
          "text": [
            "100%|██████████| 2813/2813 [01:40<00:00, 27.91it/s]\n",
            "100%|██████████| 282/282 [00:10<00:00, 26.89it/s]\n"
          ]
        },
        {
          "output_type": "stream",
          "name": "stdout",
          "text": [
            "Epoch: 20\n",
            "Loss Avg: 3.9406175370739183\n",
            "Last Learning Rate: [0.0006191160141874368]\n",
            "Accuracy: 18.58888816833496%\n",
            "F measure: 17.324379373159115%\n",
            "Model saved...\n"
          ]
        },
        {
          "output_type": "stream",
          "name": "stderr",
          "text": [
            "100%|██████████| 2813/2813 [01:42<00:00, 27.36it/s]\n",
            "100%|██████████| 282/282 [00:10<00:00, 26.01it/s]\n"
          ]
        },
        {
          "output_type": "stream",
          "name": "stdout",
          "text": [
            "Epoch: 21\n",
            "Loss Avg: 3.835639644557073\n",
            "Last Learning Rate: [0.0004971386557648926]\n",
            "Accuracy: 17.700000762939453%\n",
            "F measure: 16.39772519235901%\n"
          ]
        },
        {
          "output_type": "stream",
          "name": "stderr",
          "text": [
            "100%|██████████| 2813/2813 [01:41<00:00, 27.74it/s]\n",
            "100%|██████████| 282/282 [00:09<00:00, 28.26it/s]\n"
          ]
        },
        {
          "output_type": "stream",
          "name": "stdout",
          "text": [
            "Epoch: 22\n",
            "Loss Avg: 3.9534931473436945\n",
            "Last Learning Rate: [0.0003861543341966472]\n",
            "Accuracy: 18.5222225189209%\n",
            "F measure: 17.170773513184056%\n"
          ]
        },
        {
          "output_type": "stream",
          "name": "stderr",
          "text": [
            "100%|██████████| 2813/2813 [01:46<00:00, 26.46it/s]\n",
            "  4%|▍         | 12/282 [00:00<00:13, 20.42it/s]\n"
          ]
        },
        {
          "output_type": "error",
          "ename": "KeyboardInterrupt",
          "evalue": "ignored",
          "traceback": [
            "\u001b[0;31m---------------------------------------------------------------------------\u001b[0m",
            "\u001b[0;31mKeyboardInterrupt\u001b[0m                         Traceback (most recent call last)",
            "\u001b[0;32m<ipython-input-9-a3bc6d2dd8a2>\u001b[0m in \u001b[0;36m<module>\u001b[0;34m\u001b[0m\n\u001b[0;32m----> 1\u001b[0;31m \u001b[0mfinal_model\u001b[0m \u001b[0;34m=\u001b[0m \u001b[0mtrain\u001b[0m\u001b[0;34m(\u001b[0m\u001b[0mresnet50\u001b[0m\u001b[0;34m,\u001b[0m \u001b[0mepochs\u001b[0m\u001b[0;34m,\u001b[0m \u001b[0;34m\"EndofAugustModel\"\u001b[0m\u001b[0;34m)\u001b[0m\u001b[0;34m\u001b[0m\u001b[0;34m\u001b[0m\u001b[0m\n\u001b[0m",
            "\u001b[0;32m<ipython-input-8-20613eeffc13>\u001b[0m in \u001b[0;36mtrain\u001b[0;34m(net, epochs, folder_weights)\u001b[0m\n\u001b[1;32m     56\u001b[0m     \u001b[0mstacked_pred\u001b[0m \u001b[0;34m=\u001b[0m \u001b[0mlist\u001b[0m\u001b[0;34m(\u001b[0m\u001b[0;34m)\u001b[0m\u001b[0;34m\u001b[0m\u001b[0;34m\u001b[0m\u001b[0m\n\u001b[1;32m     57\u001b[0m     \u001b[0mstacked_target\u001b[0m \u001b[0;34m=\u001b[0m \u001b[0mlist\u001b[0m\u001b[0;34m(\u001b[0m\u001b[0;34m)\u001b[0m\u001b[0;34m\u001b[0m\u001b[0;34m\u001b[0m\u001b[0m\n\u001b[0;32m---> 58\u001b[0;31m     \u001b[0;32mfor\u001b[0m \u001b[0mdata\u001b[0m\u001b[0;34m,\u001b[0m \u001b[0mtarget\u001b[0m \u001b[0;32min\u001b[0m \u001b[0mtqdm\u001b[0m\u001b[0;34m(\u001b[0m\u001b[0mtestTinyImageNetLoader\u001b[0m\u001b[0;34m)\u001b[0m\u001b[0;34m:\u001b[0m\u001b[0;34m\u001b[0m\u001b[0;34m\u001b[0m\u001b[0m\n\u001b[0m\u001b[1;32m     59\u001b[0m \u001b[0;34m\u001b[0m\u001b[0m\n\u001b[1;32m     60\u001b[0m       \u001b[0mnet\u001b[0m\u001b[0;34m.\u001b[0m\u001b[0meval\u001b[0m\u001b[0;34m(\u001b[0m\u001b[0;34m)\u001b[0m\u001b[0;34m\u001b[0m\u001b[0;34m\u001b[0m\u001b[0m\n",
            "\u001b[0;32m/usr/local/lib/python3.7/dist-packages/tqdm/std.py\u001b[0m in \u001b[0;36m__iter__\u001b[0;34m(self)\u001b[0m\n\u001b[1;32m   1203\u001b[0m                     \u001b[0mdt\u001b[0m \u001b[0;34m=\u001b[0m \u001b[0mcur_t\u001b[0m \u001b[0;34m-\u001b[0m \u001b[0mlast_print_t\u001b[0m\u001b[0;34m\u001b[0m\u001b[0;34m\u001b[0m\u001b[0m\n\u001b[1;32m   1204\u001b[0m                     \u001b[0;32mif\u001b[0m \u001b[0mdt\u001b[0m \u001b[0;34m>=\u001b[0m \u001b[0mmininterval\u001b[0m \u001b[0;32mand\u001b[0m \u001b[0mcur_t\u001b[0m \u001b[0;34m>=\u001b[0m \u001b[0mmin_start_t\u001b[0m\u001b[0;34m:\u001b[0m\u001b[0;34m\u001b[0m\u001b[0;34m\u001b[0m\u001b[0m\n\u001b[0;32m-> 1205\u001b[0;31m                         \u001b[0mself\u001b[0m\u001b[0;34m.\u001b[0m\u001b[0mupdate\u001b[0m\u001b[0;34m(\u001b[0m\u001b[0mn\u001b[0m \u001b[0;34m-\u001b[0m \u001b[0mlast_print_n\u001b[0m\u001b[0;34m)\u001b[0m\u001b[0;34m\u001b[0m\u001b[0;34m\u001b[0m\u001b[0m\n\u001b[0m\u001b[1;32m   1206\u001b[0m                         \u001b[0mlast_print_n\u001b[0m \u001b[0;34m=\u001b[0m \u001b[0mself\u001b[0m\u001b[0;34m.\u001b[0m\u001b[0mlast_print_n\u001b[0m\u001b[0;34m\u001b[0m\u001b[0;34m\u001b[0m\u001b[0m\n\u001b[1;32m   1207\u001b[0m                         \u001b[0mlast_print_t\u001b[0m \u001b[0;34m=\u001b[0m \u001b[0mself\u001b[0m\u001b[0;34m.\u001b[0m\u001b[0mlast_print_t\u001b[0m\u001b[0;34m\u001b[0m\u001b[0;34m\u001b[0m\u001b[0m\n",
            "\u001b[0;32m/usr/local/lib/python3.7/dist-packages/tqdm/std.py\u001b[0m in \u001b[0;36mupdate\u001b[0;34m(self, n)\u001b[0m\n\u001b[1;32m   1254\u001b[0m                     \u001b[0mself\u001b[0m\u001b[0;34m.\u001b[0m\u001b[0m_ema_dn\u001b[0m\u001b[0;34m(\u001b[0m\u001b[0mdn\u001b[0m\u001b[0;34m)\u001b[0m\u001b[0;34m\u001b[0m\u001b[0;34m\u001b[0m\u001b[0m\n\u001b[1;32m   1255\u001b[0m                     \u001b[0mself\u001b[0m\u001b[0;34m.\u001b[0m\u001b[0m_ema_dt\u001b[0m\u001b[0;34m(\u001b[0m\u001b[0mdt\u001b[0m\u001b[0;34m)\u001b[0m\u001b[0;34m\u001b[0m\u001b[0;34m\u001b[0m\u001b[0m\n\u001b[0;32m-> 1256\u001b[0;31m                 \u001b[0mself\u001b[0m\u001b[0;34m.\u001b[0m\u001b[0mrefresh\u001b[0m\u001b[0;34m(\u001b[0m\u001b[0mlock_args\u001b[0m\u001b[0;34m=\u001b[0m\u001b[0mself\u001b[0m\u001b[0;34m.\u001b[0m\u001b[0mlock_args\u001b[0m\u001b[0;34m)\u001b[0m\u001b[0;34m\u001b[0m\u001b[0;34m\u001b[0m\u001b[0m\n\u001b[0m\u001b[1;32m   1257\u001b[0m                 \u001b[0;32mif\u001b[0m \u001b[0mself\u001b[0m\u001b[0;34m.\u001b[0m\u001b[0mdynamic_miniters\u001b[0m\u001b[0;34m:\u001b[0m\u001b[0;34m\u001b[0m\u001b[0;34m\u001b[0m\u001b[0m\n\u001b[1;32m   1258\u001b[0m                     \u001b[0;31m# If no `miniters` was specified, adjust automatically to the\u001b[0m\u001b[0;34m\u001b[0m\u001b[0;34m\u001b[0m\u001b[0;34m\u001b[0m\u001b[0m\n",
            "\u001b[0;32m/usr/local/lib/python3.7/dist-packages/tqdm/std.py\u001b[0m in \u001b[0;36mrefresh\u001b[0;34m(self, nolock, lock_args)\u001b[0m\n\u001b[1;32m   1359\u001b[0m             \u001b[0;32melse\u001b[0m\u001b[0;34m:\u001b[0m\u001b[0;34m\u001b[0m\u001b[0;34m\u001b[0m\u001b[0m\n\u001b[1;32m   1360\u001b[0m                 \u001b[0mself\u001b[0m\u001b[0;34m.\u001b[0m\u001b[0m_lock\u001b[0m\u001b[0;34m.\u001b[0m\u001b[0macquire\u001b[0m\u001b[0;34m(\u001b[0m\u001b[0;34m)\u001b[0m\u001b[0;34m\u001b[0m\u001b[0;34m\u001b[0m\u001b[0m\n\u001b[0;32m-> 1361\u001b[0;31m         \u001b[0mself\u001b[0m\u001b[0;34m.\u001b[0m\u001b[0mdisplay\u001b[0m\u001b[0;34m(\u001b[0m\u001b[0;34m)\u001b[0m\u001b[0;34m\u001b[0m\u001b[0;34m\u001b[0m\u001b[0m\n\u001b[0m\u001b[1;32m   1362\u001b[0m         \u001b[0;32mif\u001b[0m \u001b[0;32mnot\u001b[0m \u001b[0mnolock\u001b[0m\u001b[0;34m:\u001b[0m\u001b[0;34m\u001b[0m\u001b[0;34m\u001b[0m\u001b[0m\n\u001b[1;32m   1363\u001b[0m             \u001b[0mself\u001b[0m\u001b[0;34m.\u001b[0m\u001b[0m_lock\u001b[0m\u001b[0;34m.\u001b[0m\u001b[0mrelease\u001b[0m\u001b[0;34m(\u001b[0m\u001b[0;34m)\u001b[0m\u001b[0;34m\u001b[0m\u001b[0;34m\u001b[0m\u001b[0m\n",
            "\u001b[0;32m/usr/local/lib/python3.7/dist-packages/tqdm/std.py\u001b[0m in \u001b[0;36mdisplay\u001b[0;34m(self, msg, pos)\u001b[0m\n\u001b[1;32m   1507\u001b[0m         \u001b[0;32mif\u001b[0m \u001b[0mpos\u001b[0m\u001b[0;34m:\u001b[0m\u001b[0;34m\u001b[0m\u001b[0;34m\u001b[0m\u001b[0m\n\u001b[1;32m   1508\u001b[0m             \u001b[0mself\u001b[0m\u001b[0;34m.\u001b[0m\u001b[0mmoveto\u001b[0m\u001b[0;34m(\u001b[0m\u001b[0mpos\u001b[0m\u001b[0;34m)\u001b[0m\u001b[0;34m\u001b[0m\u001b[0;34m\u001b[0m\u001b[0m\n\u001b[0;32m-> 1509\u001b[0;31m         \u001b[0mself\u001b[0m\u001b[0;34m.\u001b[0m\u001b[0msp\u001b[0m\u001b[0;34m(\u001b[0m\u001b[0mself\u001b[0m\u001b[0;34m.\u001b[0m\u001b[0m__str__\u001b[0m\u001b[0;34m(\u001b[0m\u001b[0;34m)\u001b[0m \u001b[0;32mif\u001b[0m \u001b[0mmsg\u001b[0m \u001b[0;32mis\u001b[0m \u001b[0;32mNone\u001b[0m \u001b[0;32melse\u001b[0m \u001b[0mmsg\u001b[0m\u001b[0;34m)\u001b[0m\u001b[0;34m\u001b[0m\u001b[0;34m\u001b[0m\u001b[0m\n\u001b[0m\u001b[1;32m   1510\u001b[0m         \u001b[0;32mif\u001b[0m \u001b[0mpos\u001b[0m\u001b[0;34m:\u001b[0m\u001b[0;34m\u001b[0m\u001b[0;34m\u001b[0m\u001b[0m\n\u001b[1;32m   1511\u001b[0m             \u001b[0mself\u001b[0m\u001b[0;34m.\u001b[0m\u001b[0mmoveto\u001b[0m\u001b[0;34m(\u001b[0m\u001b[0;34m-\u001b[0m\u001b[0mpos\u001b[0m\u001b[0;34m)\u001b[0m\u001b[0;34m\u001b[0m\u001b[0;34m\u001b[0m\u001b[0m\n",
            "\u001b[0;32m/usr/local/lib/python3.7/dist-packages/tqdm/std.py\u001b[0m in \u001b[0;36mprint_status\u001b[0;34m(s)\u001b[0m\n\u001b[1;32m    348\u001b[0m         \u001b[0;32mdef\u001b[0m \u001b[0mprint_status\u001b[0m\u001b[0;34m(\u001b[0m\u001b[0ms\u001b[0m\u001b[0;34m)\u001b[0m\u001b[0;34m:\u001b[0m\u001b[0;34m\u001b[0m\u001b[0;34m\u001b[0m\u001b[0m\n\u001b[1;32m    349\u001b[0m             \u001b[0mlen_s\u001b[0m \u001b[0;34m=\u001b[0m \u001b[0mdisp_len\u001b[0m\u001b[0;34m(\u001b[0m\u001b[0ms\u001b[0m\u001b[0;34m)\u001b[0m\u001b[0;34m\u001b[0m\u001b[0;34m\u001b[0m\u001b[0m\n\u001b[0;32m--> 350\u001b[0;31m             \u001b[0mfp_write\u001b[0m\u001b[0;34m(\u001b[0m\u001b[0;34m'\\r'\u001b[0m \u001b[0;34m+\u001b[0m \u001b[0ms\u001b[0m \u001b[0;34m+\u001b[0m \u001b[0;34m(\u001b[0m\u001b[0;34m' '\u001b[0m \u001b[0;34m*\u001b[0m \u001b[0mmax\u001b[0m\u001b[0;34m(\u001b[0m\u001b[0mlast_len\u001b[0m\u001b[0;34m[\u001b[0m\u001b[0;36m0\u001b[0m\u001b[0;34m]\u001b[0m \u001b[0;34m-\u001b[0m \u001b[0mlen_s\u001b[0m\u001b[0;34m,\u001b[0m \u001b[0;36m0\u001b[0m\u001b[0;34m)\u001b[0m\u001b[0;34m)\u001b[0m\u001b[0;34m)\u001b[0m\u001b[0;34m\u001b[0m\u001b[0;34m\u001b[0m\u001b[0m\n\u001b[0m\u001b[1;32m    351\u001b[0m             \u001b[0mlast_len\u001b[0m\u001b[0;34m[\u001b[0m\u001b[0;36m0\u001b[0m\u001b[0;34m]\u001b[0m \u001b[0;34m=\u001b[0m \u001b[0mlen_s\u001b[0m\u001b[0;34m\u001b[0m\u001b[0;34m\u001b[0m\u001b[0m\n\u001b[1;32m    352\u001b[0m \u001b[0;34m\u001b[0m\u001b[0m\n",
            "\u001b[0;32m/usr/local/lib/python3.7/dist-packages/tqdm/std.py\u001b[0m in \u001b[0;36mfp_write\u001b[0;34m(s)\u001b[0m\n\u001b[1;32m    342\u001b[0m         \u001b[0;32mdef\u001b[0m \u001b[0mfp_write\u001b[0m\u001b[0;34m(\u001b[0m\u001b[0ms\u001b[0m\u001b[0;34m)\u001b[0m\u001b[0;34m:\u001b[0m\u001b[0;34m\u001b[0m\u001b[0;34m\u001b[0m\u001b[0m\n\u001b[1;32m    343\u001b[0m             \u001b[0mfp\u001b[0m\u001b[0;34m.\u001b[0m\u001b[0mwrite\u001b[0m\u001b[0;34m(\u001b[0m\u001b[0m_unicode\u001b[0m\u001b[0;34m(\u001b[0m\u001b[0ms\u001b[0m\u001b[0;34m)\u001b[0m\u001b[0;34m)\u001b[0m\u001b[0;34m\u001b[0m\u001b[0;34m\u001b[0m\u001b[0m\n\u001b[0;32m--> 344\u001b[0;31m             \u001b[0mfp_flush\u001b[0m\u001b[0;34m(\u001b[0m\u001b[0;34m)\u001b[0m\u001b[0;34m\u001b[0m\u001b[0;34m\u001b[0m\u001b[0m\n\u001b[0m\u001b[1;32m    345\u001b[0m \u001b[0;34m\u001b[0m\u001b[0m\n\u001b[1;32m    346\u001b[0m         \u001b[0mlast_len\u001b[0m \u001b[0;34m=\u001b[0m \u001b[0;34m[\u001b[0m\u001b[0;36m0\u001b[0m\u001b[0;34m]\u001b[0m\u001b[0;34m\u001b[0m\u001b[0;34m\u001b[0m\u001b[0m\n",
            "\u001b[0;32m/usr/local/lib/python3.7/dist-packages/tqdm/utils.py\u001b[0m in \u001b[0;36minner\u001b[0;34m(*args, **kwargs)\u001b[0m\n\u001b[1;32m    143\u001b[0m         \u001b[0;32mdef\u001b[0m \u001b[0minner\u001b[0m\u001b[0;34m(\u001b[0m\u001b[0;34m*\u001b[0m\u001b[0margs\u001b[0m\u001b[0;34m,\u001b[0m \u001b[0;34m**\u001b[0m\u001b[0mkwargs\u001b[0m\u001b[0;34m)\u001b[0m\u001b[0;34m:\u001b[0m\u001b[0;34m\u001b[0m\u001b[0;34m\u001b[0m\u001b[0m\n\u001b[1;32m    144\u001b[0m             \u001b[0;32mtry\u001b[0m\u001b[0;34m:\u001b[0m\u001b[0;34m\u001b[0m\u001b[0;34m\u001b[0m\u001b[0m\n\u001b[0;32m--> 145\u001b[0;31m                 \u001b[0;32mreturn\u001b[0m \u001b[0mfunc\u001b[0m\u001b[0;34m(\u001b[0m\u001b[0;34m*\u001b[0m\u001b[0margs\u001b[0m\u001b[0;34m,\u001b[0m \u001b[0;34m**\u001b[0m\u001b[0mkwargs\u001b[0m\u001b[0;34m)\u001b[0m\u001b[0;34m\u001b[0m\u001b[0;34m\u001b[0m\u001b[0m\n\u001b[0m\u001b[1;32m    146\u001b[0m             \u001b[0;32mexcept\u001b[0m \u001b[0mOSError\u001b[0m \u001b[0;32mas\u001b[0m \u001b[0me\u001b[0m\u001b[0;34m:\u001b[0m\u001b[0;34m\u001b[0m\u001b[0;34m\u001b[0m\u001b[0m\n\u001b[1;32m    147\u001b[0m                 \u001b[0;32mif\u001b[0m \u001b[0me\u001b[0m\u001b[0;34m.\u001b[0m\u001b[0merrno\u001b[0m \u001b[0;34m!=\u001b[0m \u001b[0;36m5\u001b[0m\u001b[0;34m:\u001b[0m\u001b[0;34m\u001b[0m\u001b[0;34m\u001b[0m\u001b[0m\n",
            "\u001b[0;32m/usr/local/lib/python3.7/dist-packages/ipykernel/iostream.py\u001b[0m in \u001b[0;36mflush\u001b[0;34m(self)\u001b[0m\n\u001b[1;32m    342\u001b[0m         \u001b[0;32mif\u001b[0m \u001b[0mself\u001b[0m\u001b[0;34m.\u001b[0m\u001b[0mpub_thread\u001b[0m \u001b[0;32mand\u001b[0m \u001b[0mself\u001b[0m\u001b[0;34m.\u001b[0m\u001b[0mpub_thread\u001b[0m\u001b[0;34m.\u001b[0m\u001b[0mthread\u001b[0m \u001b[0;32mis\u001b[0m \u001b[0;32mnot\u001b[0m \u001b[0;32mNone\u001b[0m \u001b[0;32mand\u001b[0m \u001b[0mself\u001b[0m\u001b[0;34m.\u001b[0m\u001b[0mpub_thread\u001b[0m\u001b[0;34m.\u001b[0m\u001b[0mthread\u001b[0m\u001b[0;34m.\u001b[0m\u001b[0mis_alive\u001b[0m\u001b[0;34m(\u001b[0m\u001b[0;34m)\u001b[0m\u001b[0;34m:\u001b[0m\u001b[0;34m\u001b[0m\u001b[0;34m\u001b[0m\u001b[0m\n\u001b[1;32m    343\u001b[0m             \u001b[0;31m# request flush on the background thread\u001b[0m\u001b[0;34m\u001b[0m\u001b[0;34m\u001b[0m\u001b[0;34m\u001b[0m\u001b[0m\n\u001b[0;32m--> 344\u001b[0;31m             \u001b[0mself\u001b[0m\u001b[0;34m.\u001b[0m\u001b[0mpub_thread\u001b[0m\u001b[0;34m.\u001b[0m\u001b[0mschedule\u001b[0m\u001b[0;34m(\u001b[0m\u001b[0mself\u001b[0m\u001b[0;34m.\u001b[0m\u001b[0m_flush\u001b[0m\u001b[0;34m)\u001b[0m\u001b[0;34m\u001b[0m\u001b[0;34m\u001b[0m\u001b[0m\n\u001b[0m\u001b[1;32m    345\u001b[0m             \u001b[0;31m# wait for flush to actually get through, if we can.\u001b[0m\u001b[0;34m\u001b[0m\u001b[0;34m\u001b[0m\u001b[0;34m\u001b[0m\u001b[0m\n\u001b[1;32m    346\u001b[0m             \u001b[0;31m# waiting across threads during import can cause deadlocks\u001b[0m\u001b[0;34m\u001b[0m\u001b[0;34m\u001b[0m\u001b[0;34m\u001b[0m\u001b[0m\n",
            "\u001b[0;32m/usr/local/lib/python3.7/dist-packages/ipykernel/iostream.py\u001b[0m in \u001b[0;36mschedule\u001b[0;34m(self, f)\u001b[0m\n\u001b[1;32m    203\u001b[0m             \u001b[0mself\u001b[0m\u001b[0;34m.\u001b[0m\u001b[0m_events\u001b[0m\u001b[0;34m.\u001b[0m\u001b[0mappend\u001b[0m\u001b[0;34m(\u001b[0m\u001b[0mf\u001b[0m\u001b[0;34m)\u001b[0m\u001b[0;34m\u001b[0m\u001b[0;34m\u001b[0m\u001b[0m\n\u001b[1;32m    204\u001b[0m             \u001b[0;31m# wake event thread (message content is ignored)\u001b[0m\u001b[0;34m\u001b[0m\u001b[0;34m\u001b[0m\u001b[0;34m\u001b[0m\u001b[0m\n\u001b[0;32m--> 205\u001b[0;31m             \u001b[0mself\u001b[0m\u001b[0;34m.\u001b[0m\u001b[0m_event_pipe\u001b[0m\u001b[0;34m.\u001b[0m\u001b[0msend\u001b[0m\u001b[0;34m(\u001b[0m\u001b[0;34mb''\u001b[0m\u001b[0;34m)\u001b[0m\u001b[0;34m\u001b[0m\u001b[0;34m\u001b[0m\u001b[0m\n\u001b[0m\u001b[1;32m    206\u001b[0m         \u001b[0;32melse\u001b[0m\u001b[0;34m:\u001b[0m\u001b[0;34m\u001b[0m\u001b[0;34m\u001b[0m\u001b[0m\n\u001b[1;32m    207\u001b[0m             \u001b[0mf\u001b[0m\u001b[0;34m(\u001b[0m\u001b[0;34m)\u001b[0m\u001b[0;34m\u001b[0m\u001b[0;34m\u001b[0m\u001b[0m\n",
            "\u001b[0;32m/usr/local/lib/python3.7/dist-packages/zmq/sugar/socket.py\u001b[0m in \u001b[0;36msend\u001b[0;34m(self, data, flags, copy, track, routing_id, group)\u001b[0m\n\u001b[1;32m    616\u001b[0m                 )\n\u001b[1;32m    617\u001b[0m             \u001b[0mdata\u001b[0m\u001b[0;34m.\u001b[0m\u001b[0mgroup\u001b[0m \u001b[0;34m=\u001b[0m \u001b[0mgroup\u001b[0m\u001b[0;34m\u001b[0m\u001b[0;34m\u001b[0m\u001b[0m\n\u001b[0;32m--> 618\u001b[0;31m         \u001b[0;32mreturn\u001b[0m \u001b[0msuper\u001b[0m\u001b[0;34m(\u001b[0m\u001b[0;34m)\u001b[0m\u001b[0;34m.\u001b[0m\u001b[0msend\u001b[0m\u001b[0;34m(\u001b[0m\u001b[0mdata\u001b[0m\u001b[0;34m,\u001b[0m \u001b[0mflags\u001b[0m\u001b[0;34m=\u001b[0m\u001b[0mflags\u001b[0m\u001b[0;34m,\u001b[0m \u001b[0mcopy\u001b[0m\u001b[0;34m=\u001b[0m\u001b[0mcopy\u001b[0m\u001b[0;34m,\u001b[0m \u001b[0mtrack\u001b[0m\u001b[0;34m=\u001b[0m\u001b[0mtrack\u001b[0m\u001b[0;34m)\u001b[0m\u001b[0;34m\u001b[0m\u001b[0;34m\u001b[0m\u001b[0m\n\u001b[0m\u001b[1;32m    619\u001b[0m \u001b[0;34m\u001b[0m\u001b[0m\n\u001b[1;32m    620\u001b[0m     def send_multipart(\n",
            "\u001b[0;32mzmq/backend/cython/socket.pyx\u001b[0m in \u001b[0;36mzmq.backend.cython.socket.Socket.send\u001b[0;34m()\u001b[0m\n",
            "\u001b[0;32mzmq/backend/cython/socket.pyx\u001b[0m in \u001b[0;36mzmq.backend.cython.socket.Socket.send\u001b[0;34m()\u001b[0m\n",
            "\u001b[0;32mzmq/backend/cython/socket.pyx\u001b[0m in \u001b[0;36mzmq.backend.cython.socket._send_copy\u001b[0;34m()\u001b[0m\n",
            "\u001b[0;32m/usr/local/lib/python3.7/dist-packages/zmq/backend/cython/checkrc.pxd\u001b[0m in \u001b[0;36mzmq.backend.cython.checkrc._check_rc\u001b[0;34m()\u001b[0m\n",
            "\u001b[0;31mKeyboardInterrupt\u001b[0m: "
          ]
        }
      ]
    },
    {
      "cell_type": "code",
      "source": [
        "final_model = train(resnet50, epochs, \"30thepochKWayLastffff\")"
      ],
      "metadata": {
        "colab": {
          "base_uri": "https://localhost:8080/"
        },
        "id": "6rndvZ49oQoc",
        "outputId": "b52e3011-6606-4357-dcc0-21bfb15e28fd"
      },
      "execution_count": null,
      "outputs": [
        {
          "output_type": "stream",
          "name": "stderr",
          "text": [
            "100%|██████████| 2813/2813 [02:46<00:00, 16.91it/s]\n",
            "100%|██████████| 282/282 [00:09<00:00, 28.28it/s]\n"
          ]
        },
        {
          "output_type": "stream",
          "name": "stdout",
          "text": [
            "Epoch: 0\n",
            "Loss Avg: 3.980272365426102\n",
            "Last Learning Rate: [0.002991785582104726]\n",
            "Accuracy: 13.966666221618652%\n",
            "F measure: 12.34820872271103%\n"
          ]
        },
        {
          "output_type": "stream",
          "name": "stderr",
          "text": [
            "100%|██████████| 2813/2813 [02:44<00:00, 17.07it/s]\n",
            "100%|██████████| 282/282 [00:10<00:00, 28.02it/s]\n"
          ]
        },
        {
          "output_type": "stream",
          "name": "stdout",
          "text": [
            "Epoch: 1\n",
            "Loss Avg: 3.9824813057414494\n",
            "Last Learning Rate: [0.0029672323273003415]\n",
            "Accuracy: 15.155555725097656%\n",
            "F measure: 13.44520501813123%\n"
          ]
        },
        {
          "output_type": "stream",
          "name": "stderr",
          "text": [
            "100%|██████████| 2813/2813 [02:37<00:00, 17.88it/s]\n",
            "100%|██████████| 282/282 [00:10<00:00, 28.16it/s]\n"
          ]
        },
        {
          "output_type": "stream",
          "name": "stdout",
          "text": [
            "Epoch: 2\n",
            "Loss Avg: 3.571698179872324\n",
            "Last Learning Rate: [0.002926609246184583]\n",
            "Accuracy: 20.11111068725586%\n",
            "F measure: 18.473257252335518%\n"
          ]
        },
        {
          "output_type": "stream",
          "name": "stderr",
          "text": [
            "100%|██████████| 2813/2813 [02:45<00:00, 17.01it/s]\n",
            "100%|██████████| 282/282 [00:09<00:00, 28.34it/s]\n"
          ]
        },
        {
          "output_type": "stream",
          "name": "stdout",
          "text": [
            "Epoch: 3\n",
            "Loss Avg: 3.6893094432614353\n",
            "Last Learning Rate: [0.0028703614137350797]\n",
            "Accuracy: 20.211111068725586%\n",
            "F measure: 18.657964411767118%\n"
          ]
        },
        {
          "output_type": "stream",
          "name": "stderr",
          "text": [
            "100%|██████████| 2813/2813 [02:45<00:00, 17.04it/s]\n",
            "100%|██████████| 282/282 [00:09<00:00, 28.25it/s]\n"
          ]
        },
        {
          "output_type": "stream",
          "name": "stdout",
          "text": [
            "Epoch: 4\n",
            "Loss Avg: 4.166287165978305\n",
            "Last Learning Rate: [0.002799105092974766]\n",
            "Accuracy: 12.066666603088379%\n",
            "F measure: 10.442597449457997%\n"
          ]
        },
        {
          "output_type": "stream",
          "name": "stderr",
          "text": [
            "100%|██████████| 2813/2813 [02:45<00:00, 16.98it/s]\n",
            "100%|██████████| 282/282 [00:10<00:00, 27.95it/s]\n"
          ]
        },
        {
          "output_type": "stream",
          "name": "stdout",
          "text": [
            "Epoch: 5\n",
            "Loss Avg: 3.7201173734784887\n",
            "Last Learning Rate: [0.0027136209830652337]\n",
            "Accuracy: 21.044445037841797%\n",
            "F measure: 19.18426673083659%\n",
            "Model saved...\n"
          ]
        },
        {
          "output_type": "stream",
          "name": "stderr",
          "text": [
            "100%|██████████| 2813/2813 [02:42<00:00, 17.31it/s]\n",
            "100%|██████████| 282/282 [00:09<00:00, 28.80it/s]\n"
          ]
        },
        {
          "output_type": "stream",
          "name": "stdout",
          "text": [
            "Epoch: 6\n",
            "Loss Avg: 3.771733183953205\n",
            "Last Learning Rate: [0.0026148456658033527]\n",
            "Accuracy: 20.077777862548828%\n",
            "F measure: 18.66457092240382%\n"
          ]
        },
        {
          "output_type": "stream",
          "name": "stderr",
          "text": [
            "100%|██████████| 2813/2813 [02:43<00:00, 17.24it/s]\n",
            "100%|██████████| 282/282 [00:09<00:00, 28.26it/s]\n"
          ]
        },
        {
          "output_type": "stream",
          "name": "stdout",
          "text": [
            "Epoch: 7\n",
            "Loss Avg: 3.3754634713729983\n",
            "Last Learning Rate: [0.002503861344235108]\n",
            "Accuracy: 24.22222137451172%\n",
            "F measure: 22.61974321702783%\n"
          ]
        },
        {
          "output_type": "stream",
          "name": "stderr",
          "text": [
            "100%|██████████| 2813/2813 [02:45<00:00, 17.04it/s]\n",
            "100%|██████████| 282/282 [00:09<00:00, 28.31it/s]\n"
          ]
        },
        {
          "output_type": "stream",
          "name": "stdout",
          "text": [
            "Epoch: 8\n",
            "Loss Avg: 3.6031015998924687\n",
            "Last Learning Rate: [0.0023818839858125635]\n",
            "Accuracy: 21.83333396911621%\n",
            "F measure: 20.393734245629002%\n"
          ]
        },
        {
          "output_type": "stream",
          "name": "stderr",
          "text": [
            "100%|██████████| 2813/2813 [02:44<00:00, 17.14it/s]\n",
            "100%|██████████| 282/282 [00:10<00:00, 28.05it/s]\n"
          ]
        },
        {
          "output_type": "stream",
          "name": "stdout",
          "text": [
            "Epoch: 9\n",
            "Loss Avg: 3.4313533042383257\n",
            "Last Learning Rate: [0.00225025]\n",
            "Accuracy: 24.18889045715332%\n",
            "F measure: 22.3790300571958%\n"
          ]
        },
        {
          "output_type": "stream",
          "name": "stderr",
          "text": [
            "100%|██████████| 2813/2813 [02:45<00:00, 16.99it/s]\n",
            "100%|██████████| 282/282 [00:10<00:00, 28.13it/s]\n"
          ]
        },
        {
          "output_type": "stream",
          "name": "stdout",
          "text": [
            "Epoch: 10\n",
            "Loss Avg: 3.3515656892294468\n",
            "Last Learning Rate: [0.0021104015962921624]\n",
            "Accuracy: 26.144445419311523%\n",
            "F measure: 24.94204532003091%\n",
            "Model saved...\n"
          ]
        },
        {
          "output_type": "stream",
          "name": "stderr",
          "text": [
            "100%|██████████| 2813/2813 [02:37<00:00, 17.90it/s]\n",
            "100%|██████████| 282/282 [00:09<00:00, 30.26it/s]\n"
          ]
        },
        {
          "output_type": "stream",
          "name": "stdout",
          "text": [
            "Epoch: 11\n",
            "Loss Avg: 3.2347487023248247\n",
            "Last Learning Rate: [0.0019638709830652338]\n",
            "Accuracy: 27.91111183166504%\n",
            "F measure: 26.7460481836072%\n"
          ]
        },
        {
          "output_type": "stream",
          "name": "stderr",
          "text": [
            "100%|██████████| 2813/2813 [02:35<00:00, 18.10it/s]\n",
            "100%|██████████| 282/282 [00:09<00:00, 29.93it/s]\n"
          ]
        },
        {
          "output_type": "stream",
          "name": "stdout",
          "text": [
            "Epoch: 12\n",
            "Loss Avg: 3.369574435762954\n",
            "Last Learning Rate: [0.0018122635803812298]\n",
            "Accuracy: 26.455554962158203%\n",
            "F measure: 25.10340160651696%\n"
          ]
        },
        {
          "output_type": "stream",
          "name": "stderr",
          "text": [
            "100%|██████████| 2813/2813 [02:36<00:00, 18.00it/s]\n",
            "100%|██████████| 282/282 [00:09<00:00, 29.91it/s]\n"
          ]
        },
        {
          "output_type": "stream",
          "name": "stdout",
          "text": [
            "Epoch: 13\n",
            "Loss Avg: 3.2392804732681335\n",
            "Last Learning Rate: [0.0016572404306698465]\n",
            "Accuracy: 28.133333206176758%\n",
            "F measure: 26.78127765037024%\n"
          ]
        },
        {
          "output_type": "stream",
          "name": "stderr",
          "text": [
            "100%|██████████| 2813/2813 [02:37<00:00, 17.91it/s]\n",
            "100%|██████████| 282/282 [00:09<00:00, 29.39it/s]\n"
          ]
        },
        {
          "output_type": "stream",
          "name": "stdout",
          "text": [
            "Epoch: 14\n",
            "Loss Avg: 3.1274395131268773\n",
            "Last Learning Rate: [0.0015004999999999999]\n",
            "Accuracy: 28.22222137451172%\n",
            "F measure: 26.96384866081419%\n"
          ]
        },
        {
          "output_type": "stream",
          "name": "stderr",
          "text": [
            "100%|██████████| 2813/2813 [02:36<00:00, 17.94it/s]\n",
            "100%|██████████| 282/282 [00:09<00:00, 30.04it/s]\n"
          ]
        },
        {
          "output_type": "stream",
          "name": "stdout",
          "text": [
            "Epoch: 15\n",
            "Loss Avg: 3.233378712864858\n",
            "Last Learning Rate: [0.0013437595693301541]\n",
            "Accuracy: 28.744443893432617%\n",
            "F measure: 27.52931761165918%\n",
            "Model saved...\n"
          ]
        },
        {
          "output_type": "stream",
          "name": "stderr",
          "text": [
            "100%|██████████| 2813/2813 [02:36<00:00, 17.97it/s]\n",
            "100%|██████████| 282/282 [00:09<00:00, 29.60it/s]\n"
          ]
        },
        {
          "output_type": "stream",
          "name": "stdout",
          "text": [
            "Epoch: 16\n",
            "Loss Avg: 2.9953735058843436\n",
            "Last Learning Rate: [0.0011887364196187702]\n",
            "Accuracy: 29.877779006958008%\n",
            "F measure: 28.911689215555285%\n"
          ]
        },
        {
          "output_type": "stream",
          "name": "stderr",
          "text": [
            "100%|██████████| 2813/2813 [02:46<00:00, 16.91it/s]\n",
            "100%|██████████| 282/282 [00:10<00:00, 27.86it/s]\n"
          ]
        },
        {
          "output_type": "stream",
          "name": "stdout",
          "text": [
            "Epoch: 17\n",
            "Loss Avg: 3.1483122863964677\n",
            "Last Learning Rate: [0.0010371290169347664]\n",
            "Accuracy: 31.066667556762695%\n",
            "F measure: 29.820460700840197%\n"
          ]
        },
        {
          "output_type": "stream",
          "name": "stderr",
          "text": [
            "100%|██████████| 2813/2813 [02:45<00:00, 16.96it/s]\n",
            "100%|██████████| 282/282 [00:10<00:00, 28.02it/s]\n"
          ]
        },
        {
          "output_type": "stream",
          "name": "stdout",
          "text": [
            "Epoch: 18\n",
            "Loss Avg: 3.3407220250665723\n",
            "Last Learning Rate: [0.0008905984037078379]\n",
            "Accuracy: 30.599998474121094%\n",
            "F measure: 29.465982959218863%\n"
          ]
        },
        {
          "output_type": "stream",
          "name": "stderr",
          "text": [
            "100%|██████████| 2813/2813 [02:45<00:00, 17.02it/s]\n",
            "100%|██████████| 282/282 [00:10<00:00, 27.99it/s]\n"
          ]
        },
        {
          "output_type": "stream",
          "name": "stdout",
          "text": [
            "Epoch: 19\n",
            "Loss Avg: 2.7183710646840433\n",
            "Last Learning Rate: [0.0007507500000000004]\n",
            "Accuracy: 32.122222900390625%\n",
            "F measure: 30.942714591798442%\n"
          ]
        },
        {
          "output_type": "stream",
          "name": "stderr",
          "text": [
            "100%|██████████| 2813/2813 [02:43<00:00, 17.19it/s]\n",
            "100%|██████████| 282/282 [00:09<00:00, 29.83it/s]\n"
          ]
        },
        {
          "output_type": "stream",
          "name": "stdout",
          "text": [
            "Epoch: 20\n",
            "Loss Avg: 3.1782084422487467\n",
            "Last Learning Rate: [0.0006191160141874368]\n",
            "Accuracy: 31.799999237060547%\n",
            "F measure: 30.467882021671617%\n",
            "Model saved...\n"
          ]
        },
        {
          "output_type": "stream",
          "name": "stderr",
          "text": [
            "100%|██████████| 2813/2813 [02:40<00:00, 17.49it/s]\n",
            "100%|██████████| 282/282 [00:10<00:00, 27.80it/s]\n"
          ]
        },
        {
          "output_type": "stream",
          "name": "stdout",
          "text": [
            "Epoch: 21\n",
            "Loss Avg: 2.6390090815324645\n",
            "Last Learning Rate: [0.0004971386557648926]\n",
            "Accuracy: 33.522220611572266%\n",
            "F measure: 32.46335147642881%\n"
          ]
        },
        {
          "output_type": "stream",
          "name": "stderr",
          "text": [
            "100%|██████████| 2813/2813 [02:45<00:00, 16.96it/s]\n",
            "100%|██████████| 282/282 [00:10<00:00, 28.00it/s]\n"
          ]
        },
        {
          "output_type": "stream",
          "name": "stdout",
          "text": [
            "Epoch: 22\n",
            "Loss Avg: 2.8734345094464535\n",
            "Last Learning Rate: [0.0003861543341966472]\n",
            "Accuracy: 32.07777786254883%\n",
            "F measure: 30.93528477280097%\n"
          ]
        },
        {
          "output_type": "stream",
          "name": "stderr",
          "text": [
            "100%|██████████| 2813/2813 [02:45<00:00, 17.04it/s]\n",
            "100%|██████████| 282/282 [00:10<00:00, 27.68it/s]\n"
          ]
        },
        {
          "output_type": "stream",
          "name": "stdout",
          "text": [
            "Epoch: 23\n",
            "Loss Avg: 2.810912990718526\n",
            "Last Learning Rate: [0.00028737901693476646]\n",
            "Accuracy: 33.24444580078125%\n",
            "F measure: 32.19539808232809%\n"
          ]
        },
        {
          "output_type": "stream",
          "name": "stderr",
          "text": [
            "100%|██████████| 2813/2813 [02:46<00:00, 16.89it/s]\n",
            "100%|██████████| 282/282 [00:10<00:00, 27.34it/s]\n"
          ]
        },
        {
          "output_type": "stream",
          "name": "stdout",
          "text": [
            "Epoch: 24\n",
            "Loss Avg: 2.907542996247982\n",
            "Last Learning Rate: [0.00020189490702523415]\n",
            "Accuracy: 34.400001525878906%\n",
            "F measure: 33.498850881752176%\n"
          ]
        },
        {
          "output_type": "stream",
          "name": "stderr",
          "text": [
            "100%|██████████| 2813/2813 [02:48<00:00, 16.74it/s]\n",
            "100%|██████████| 282/282 [00:10<00:00, 27.94it/s]\n"
          ]
        },
        {
          "output_type": "stream",
          "name": "stdout",
          "text": [
            "Epoch: 25\n",
            "Loss Avg: 2.824039787554729\n",
            "Last Learning Rate: [0.00013063858626491984]\n",
            "Accuracy: 35.622222900390625%\n",
            "F measure: 34.73629657275827%\n",
            "Model saved...\n"
          ]
        },
        {
          "output_type": "stream",
          "name": "stderr",
          "text": [
            "100%|██████████| 2813/2813 [02:47<00:00, 16.76it/s]\n",
            "100%|██████████| 282/282 [00:10<00:00, 27.72it/s]\n"
          ]
        },
        {
          "output_type": "stream",
          "name": "stdout",
          "text": [
            "Epoch: 26\n",
            "Loss Avg: 2.6509595075472348\n",
            "Last Learning Rate: [7.43907538154173e-05]\n",
            "Accuracy: 34.9555549621582%\n",
            "F measure: 33.915798644254224%\n"
          ]
        },
        {
          "output_type": "stream",
          "name": "stderr",
          "text": [
            "100%|██████████| 2813/2813 [02:46<00:00, 16.89it/s]\n",
            "100%|██████████| 282/282 [00:10<00:00, 27.45it/s]\n"
          ]
        },
        {
          "output_type": "stream",
          "name": "stdout",
          "text": [
            "Epoch: 27\n",
            "Loss Avg: 2.804266660008747\n",
            "Last Learning Rate: [3.376767269965837e-05]\n",
            "Accuracy: 34.844444274902344%\n",
            "F measure: 33.881355215365886%\n"
          ]
        },
        {
          "output_type": "stream",
          "name": "stderr",
          "text": [
            "100%|██████████| 2813/2813 [02:47<00:00, 16.80it/s]\n",
            "100%|██████████| 282/282 [00:10<00:00, 27.71it/s]\n"
          ]
        },
        {
          "output_type": "stream",
          "name": "stdout",
          "text": [
            "Epoch: 28\n",
            "Loss Avg: 2.8831929814670993\n",
            "Last Learning Rate: [9.214417895274204e-06]\n",
            "Accuracy: 34.9555549621582%\n",
            "F measure: 33.91822542796789%\n"
          ]
        },
        {
          "output_type": "stream",
          "name": "stderr",
          "text": [
            "100%|██████████| 2813/2813 [02:38<00:00, 17.71it/s]\n",
            "100%|██████████| 282/282 [00:09<00:00, 29.31it/s]"
          ]
        },
        {
          "output_type": "stream",
          "name": "stdout",
          "text": [
            "Epoch: 29\n",
            "Loss Avg: 2.628066432777765\n",
            "Last Learning Rate: [1e-06]\n",
            "Accuracy: 35.155555725097656%\n",
            "F measure: 34.17432451620736%\n"
          ]
        },
        {
          "output_type": "stream",
          "name": "stderr",
          "text": [
            "\n"
          ]
        }
      ]
    },
    {
      "cell_type": "code",
      "source": [
        "final_model = train(resnet50, epochs, \"30thepochKWay2\")"
      ],
      "metadata": {
        "id": "xPA1exzYTAvB"
      },
      "execution_count": null,
      "outputs": []
    },
    {
      "cell_type": "code",
      "source": [
        "final_model = train(resnet50, epochs, \"30thepochKWay\")"
      ],
      "metadata": {
        "id": "m0usPUGn1Knu"
      },
      "execution_count": null,
      "outputs": []
    },
    {
      "cell_type": "code",
      "source": [
        "torch.save(final_model.state_dict(), 'Real30thEpochres50.pth')"
      ],
      "metadata": {
        "id": "Uw6DEY77Q6CN"
      },
      "execution_count": null,
      "outputs": []
    },
    {
      "cell_type": "code",
      "source": [
        "final_model = train(resnet18, 50, \"18_smaller_trainpt2\")"
      ],
      "metadata": {
        "id": "f11m2P1SJlcV"
      },
      "execution_count": null,
      "outputs": []
    },
    {
      "cell_type": "code",
      "source": [
        "final_model = train(resnet50, 10, \"smaller_train\")"
      ],
      "metadata": {
        "colab": {
          "base_uri": "https://localhost:8080/"
        },
        "id": "An-0JWJQPl19",
        "outputId": "fbffb267-fe87-41ac-81f5-411fc2259f33",
        "collapsed": true
      },
      "execution_count": null,
      "outputs": [
        {
          "output_type": "stream",
          "name": "stderr",
          "text": [
            "100%|██████████| 2813/2813 [02:41<00:00, 17.36it/s]\n",
            "100%|██████████| 282/282 [00:14<00:00, 18.87it/s]\n"
          ]
        },
        {
          "output_type": "stream",
          "name": "stdout",
          "text": [
            "Epoch: 0\n",
            "Loss Avg: 5.068195711431049\n",
            "Last Learning Rate: [0.09755285028649954]\n",
            "Accuracy: 1.2777777910232544%\n",
            "F measure: 0.19725668352155307%\n"
          ]
        },
        {
          "output_type": "stream",
          "name": "stderr",
          "text": [
            "100%|██████████| 2813/2813 [02:46<00:00, 16.90it/s]\n",
            "100%|██████████| 282/282 [00:09<00:00, 29.18it/s]\n"
          ]
        },
        {
          "output_type": "stream",
          "name": "stdout",
          "text": [
            "Epoch: 1\n",
            "Loss Avg: 5.023410153695084\n",
            "Last Learning Rate: [0.0904509452102502]\n",
            "Accuracy: 1.4000000953674316%\n",
            "F measure: 0.36951862793576373%\n"
          ]
        },
        {
          "output_type": "stream",
          "name": "stderr",
          "text": [
            "100%|██████████| 2813/2813 [02:53<00:00, 16.25it/s]\n",
            "100%|██████████| 282/282 [00:08<00:00, 31.92it/s]\n"
          ]
        },
        {
          "output_type": "stream",
          "name": "stdout",
          "text": [
            "Epoch: 2\n",
            "Loss Avg: 4.879568493826227\n",
            "Last Learning Rate: [0.07938946872199752]\n",
            "Accuracy: 3.011111259460449%\n",
            "F measure: 1.5285645395165268%\n"
          ]
        },
        {
          "output_type": "stream",
          "name": "stderr",
          "text": [
            "100%|██████████| 2813/2813 [02:42<00:00, 17.33it/s]\n",
            "100%|██████████| 282/282 [00:08<00:00, 32.15it/s]\n"
          ]
        },
        {
          "output_type": "stream",
          "name": "stdout",
          "text": [
            "Epoch: 3\n",
            "Loss Avg: 4.687275608524123\n",
            "Last Learning Rate: [0.06545119521025018]\n",
            "Accuracy: 4.522222518920898%\n",
            "F measure: 2.447298055704303%\n"
          ]
        },
        {
          "output_type": "stream",
          "name": "stderr",
          "text": [
            "100%|██████████| 2813/2813 [02:40<00:00, 17.54it/s]\n",
            "100%|██████████| 282/282 [00:08<00:00, 32.30it/s]\n"
          ]
        },
        {
          "output_type": "stream",
          "name": "stdout",
          "text": [
            "Epoch: 4\n",
            "Loss Avg: 4.538315764408888\n",
            "Last Learning Rate: [0.0500005]\n",
            "Accuracy: 6.477777481079102%\n",
            "F measure: 4.518319262506779%\n"
          ]
        },
        {
          "output_type": "stream",
          "name": "stderr",
          "text": [
            "100%|██████████| 2813/2813 [02:38<00:00, 17.77it/s]\n",
            "100%|██████████| 282/282 [00:08<00:00, 32.46it/s]\n"
          ]
        },
        {
          "output_type": "stream",
          "name": "stdout",
          "text": [
            "Epoch: 5\n",
            "Loss Avg: 4.624773756056764\n",
            "Last Learning Rate: [0.034549804789749824]\n",
            "Accuracy: 7.544444561004639%\n",
            "F measure: 5.527782444727462%\n",
            "Model saved...\n"
          ]
        },
        {
          "output_type": "stream",
          "name": "stderr",
          "text": [
            "100%|██████████| 2813/2813 [02:39<00:00, 17.60it/s]\n",
            "100%|██████████| 282/282 [00:08<00:00, 32.36it/s]\n"
          ]
        },
        {
          "output_type": "stream",
          "name": "stdout",
          "text": [
            "Epoch: 6\n",
            "Loss Avg: 4.360634295480139\n",
            "Last Learning Rate: [0.0206115312780025]\n",
            "Accuracy: 10.088889122009277%\n",
            "F measure: 8.083748983682842%\n"
          ]
        },
        {
          "output_type": "stream",
          "name": "stderr",
          "text": [
            "100%|██████████| 2813/2813 [02:38<00:00, 17.72it/s]\n",
            "100%|██████████| 282/282 [00:09<00:00, 28.47it/s]\n"
          ]
        },
        {
          "output_type": "stream",
          "name": "stdout",
          "text": [
            "Epoch: 7\n",
            "Loss Avg: 4.087392906167368\n",
            "Last Learning Rate: [0.009550054789749822]\n",
            "Accuracy: 13.122221946716309%\n",
            "F measure: 11.265513106542793%\n"
          ]
        },
        {
          "output_type": "stream",
          "name": "stderr",
          "text": [
            "100%|██████████| 2813/2813 [02:38<00:00, 17.75it/s]\n",
            "100%|██████████| 282/282 [00:08<00:00, 32.50it/s]\n"
          ]
        },
        {
          "output_type": "stream",
          "name": "stdout",
          "text": [
            "Epoch: 8\n",
            "Loss Avg: 4.111697823430131\n",
            "Last Learning Rate: [0.002448149713500471]\n",
            "Accuracy: 14.633333206176758%\n",
            "F measure: 13.191015938843902%\n"
          ]
        },
        {
          "output_type": "stream",
          "name": "stderr",
          "text": [
            "100%|██████████| 2813/2813 [02:40<00:00, 17.54it/s]\n",
            "100%|██████████| 282/282 [00:08<00:00, 32.38it/s]\n"
          ]
        },
        {
          "output_type": "stream",
          "name": "stdout",
          "text": [
            "Epoch: 9\n",
            "Loss Avg: 3.9793677723634087\n",
            "Last Learning Rate: [1e-06]\n",
            "Accuracy: 15.122222900390625%\n",
            "F measure: 13.80041361970682%\n"
          ]
        }
      ]
    },
    {
      "cell_type": "code",
      "source": [
        "final_model = train(resnet50, epochs, \"first_train\")"
      ],
      "metadata": {
        "colab": {
          "base_uri": "https://localhost:8080/"
        },
        "id": "JX0JPnNUZH8z",
        "outputId": "4e93817c-3a86-4efd-d31c-224b8fabe9ca",
        "collapsed": true
      },
      "execution_count": null,
      "outputs": [
        {
          "output_type": "stream",
          "name": "stderr",
          "text": [
            "100%|██████████| 2813/2813 [03:16<00:00, 14.29it/s]\n",
            "100%|██████████| 282/282 [00:08<00:00, 32.46it/s]\n"
          ]
        },
        {
          "output_type": "stream",
          "name": "stdout",
          "text": [
            "Epoch: 0\n",
            "Loss Avg: 4.916636208272126\n",
            "Last Learning Rate: [0.0993844231855866]\n",
            "Accuracy: 1.8888888359069824%\n",
            "F measure: 0.5939274914816755%\n"
          ]
        },
        {
          "output_type": "stream",
          "name": "stderr",
          "text": [
            "100%|██████████| 2813/2813 [03:10<00:00, 14.74it/s]\n",
            "100%|██████████| 282/282 [00:08<00:00, 32.69it/s]\n"
          ]
        },
        {
          "output_type": "stream",
          "name": "stdout",
          "text": [
            "Epoch: 1\n",
            "Loss Avg: 4.537076936087643\n",
            "Last Learning Rate: [0.09755285028649954]\n",
            "Accuracy: 5.900000095367432%\n",
            "F measure: 3.5267873051726752%\n"
          ]
        },
        {
          "output_type": "stream",
          "name": "stderr",
          "text": [
            "100%|██████████| 2813/2813 [03:11<00:00, 14.65it/s]\n",
            "100%|██████████| 282/282 [00:08<00:00, 32.21it/s]\n"
          ]
        },
        {
          "output_type": "stream",
          "name": "stdout",
          "text": [
            "Epoch: 2\n",
            "Loss Avg: 4.026859711860567\n",
            "Last Learning Rate: [0.09455038070615629]\n",
            "Accuracy: 10.98888874053955%\n",
            "F measure: 8.305485442802828%\n"
          ]
        },
        {
          "output_type": "stream",
          "name": "stderr",
          "text": [
            "100%|██████████| 2813/2813 [03:11<00:00, 14.68it/s]\n",
            "100%|██████████| 282/282 [00:09<00:00, 31.09it/s]\n"
          ]
        },
        {
          "output_type": "stream",
          "name": "stdout",
          "text": [
            "Epoch: 3\n",
            "Loss Avg: 4.090327591763103\n",
            "Last Learning Rate: [0.0904509452102502]\n",
            "Accuracy: 13.122221946716309%\n",
            "F measure: 10.118108068756335%\n"
          ]
        },
        {
          "output_type": "stream",
          "name": "stderr",
          "text": [
            "100%|██████████| 2813/2813 [03:17<00:00, 14.22it/s]\n",
            "100%|██████████| 282/282 [00:08<00:00, 32.22it/s]\n"
          ]
        },
        {
          "output_type": "stream",
          "name": "stdout",
          "text": [
            "Epoch: 4\n",
            "Loss Avg: 3.796121889393091\n",
            "Last Learning Rate: [0.08535548550593679]\n",
            "Accuracy: 16.877777099609375%\n",
            "F measure: 14.056229991278258%\n"
          ]
        },
        {
          "output_type": "stream",
          "name": "stderr",
          "text": [
            "100%|██████████| 2813/2813 [03:14<00:00, 14.49it/s]\n",
            "100%|██████████| 282/282 [00:09<00:00, 31.10it/s]\n"
          ]
        },
        {
          "output_type": "stream",
          "name": "stdout",
          "text": [
            "Epoch: 5\n",
            "Loss Avg: 3.5179145654955732\n",
            "Last Learning Rate: [0.07938946872199752]\n",
            "Accuracy: 14.533333778381348%\n",
            "F measure: 12.508241743609751%\n",
            "Model saved...\n"
          ]
        },
        {
          "output_type": "stream",
          "name": "stderr",
          "text": [
            "100%|██████████| 2813/2813 [03:12<00:00, 14.64it/s]\n",
            "100%|██████████| 282/282 [00:08<00:00, 32.07it/s]\n"
          ]
        },
        {
          "output_type": "stream",
          "name": "stdout",
          "text": [
            "Epoch: 6\n",
            "Loss Avg: 3.5075078475329184\n",
            "Last Learning Rate: [0.07269979799172747]\n",
            "Accuracy: 17.46666717529297%\n",
            "F measure: 15.280940875466278%\n"
          ]
        },
        {
          "output_type": "stream",
          "name": "stderr",
          "text": [
            "100%|██████████| 2813/2813 [03:12<00:00, 14.65it/s]\n",
            "100%|██████████| 282/282 [00:08<00:00, 31.92it/s]\n"
          ]
        },
        {
          "output_type": "stream",
          "name": "stdout",
          "text": [
            "Epoch: 7\n",
            "Loss Avg: 3.5982620613345295\n",
            "Last Learning Rate: [0.06545119521025018]\n",
            "Accuracy: 19.133333206176758%\n",
            "F measure: 16.784361970330938%\n"
          ]
        },
        {
          "output_type": "stream",
          "name": "stderr",
          "text": [
            "100%|██████████| 2813/2813 [03:11<00:00, 14.66it/s]\n",
            "100%|██████████| 282/282 [00:09<00:00, 28.84it/s]\n"
          ]
        },
        {
          "output_type": "stream",
          "name": "stdout",
          "text": [
            "Epoch: 8\n",
            "Loss Avg: 3.483215024956749\n",
            "Last Learning Rate: [0.05782214503477903]\n",
            "Accuracy: 21.27777862548828%\n",
            "F measure: 18.765681826562332%\n"
          ]
        },
        {
          "output_type": "stream",
          "name": "stderr",
          "text": [
            "100%|██████████| 2813/2813 [03:12<00:00, 14.58it/s]\n",
            "100%|██████████| 282/282 [00:09<00:00, 31.29it/s]\n"
          ]
        },
        {
          "output_type": "stream",
          "name": "stdout",
          "text": [
            "Epoch: 9\n",
            "Loss Avg: 3.356313335151649\n",
            "Last Learning Rate: [0.0500005]\n",
            "Accuracy: 21.811111450195312%\n",
            "F measure: 20.248396118263134%\n"
          ]
        },
        {
          "output_type": "stream",
          "name": "stderr",
          "text": [
            "100%|██████████| 2813/2813 [03:12<00:00, 14.61it/s]\n",
            "100%|██████████| 282/282 [00:08<00:00, 31.89it/s]\n"
          ]
        },
        {
          "output_type": "stream",
          "name": "stdout",
          "text": [
            "Epoch: 10\n",
            "Loss Avg: 3.237993836098359\n",
            "Last Learning Rate: [0.042178854965220974]\n",
            "Accuracy: 22.955556869506836%\n",
            "F measure: 20.833280961716625%\n",
            "Model saved...\n"
          ]
        },
        {
          "output_type": "stream",
          "name": "stderr",
          "text": [
            "100%|██████████| 2813/2813 [03:12<00:00, 14.59it/s]\n",
            "100%|██████████| 282/282 [00:08<00:00, 32.24it/s]\n"
          ]
        },
        {
          "output_type": "stream",
          "name": "stdout",
          "text": [
            "Epoch: 11\n",
            "Loss Avg: 3.1795113292787764\n",
            "Last Learning Rate: [0.034549804789749824]\n",
            "Accuracy: 27.133333206176758%\n",
            "F measure: 25.62571630741539%\n"
          ]
        },
        {
          "output_type": "stream",
          "name": "stderr",
          "text": [
            "100%|██████████| 2813/2813 [03:15<00:00, 14.39it/s]\n",
            "100%|██████████| 282/282 [00:09<00:00, 30.84it/s]\n"
          ]
        },
        {
          "output_type": "stream",
          "name": "stdout",
          "text": [
            "Epoch: 12\n",
            "Loss Avg: 3.1106671181496925\n",
            "Last Learning Rate: [0.027301202008272536]\n",
            "Accuracy: 28.866666793823242%\n",
            "F measure: 27.299251360200422%\n"
          ]
        },
        {
          "output_type": "stream",
          "name": "stderr",
          "text": [
            "100%|██████████| 2813/2813 [03:13<00:00, 14.52it/s]\n",
            "100%|██████████| 282/282 [00:09<00:00, 30.84it/s]\n"
          ]
        },
        {
          "output_type": "stream",
          "name": "stdout",
          "text": [
            "Epoch: 13\n",
            "Loss Avg: 2.9886845435713574\n",
            "Last Learning Rate: [0.0206115312780025]\n",
            "Accuracy: 31.511110305786133%\n",
            "F measure: 30.306232348663247%\n"
          ]
        },
        {
          "output_type": "stream",
          "name": "stderr",
          "text": [
            "100%|██████████| 2813/2813 [03:14<00:00, 14.43it/s]\n",
            "100%|██████████| 282/282 [00:09<00:00, 30.82it/s]\n"
          ]
        },
        {
          "output_type": "stream",
          "name": "stdout",
          "text": [
            "Epoch: 14\n",
            "Loss Avg: 2.5478020100953582\n",
            "Last Learning Rate: [0.014645514494063223]\n",
            "Accuracy: 35.900001525878906%\n",
            "F measure: 34.13556090869016%\n"
          ]
        },
        {
          "output_type": "stream",
          "name": "stderr",
          "text": [
            "100%|██████████| 2813/2813 [03:15<00:00, 14.41it/s]\n",
            "100%|██████████| 282/282 [00:09<00:00, 30.86it/s]\n"
          ]
        },
        {
          "output_type": "stream",
          "name": "stdout",
          "text": [
            "Epoch: 15\n",
            "Loss Avg: 2.801614390288247\n",
            "Last Learning Rate: [0.009550054789749822]\n",
            "Accuracy: 39.022220611572266%\n",
            "F measure: 37.465701048760565%\n",
            "Model saved...\n"
          ]
        },
        {
          "output_type": "stream",
          "name": "stderr",
          "text": [
            "100%|██████████| 2813/2813 [03:14<00:00, 14.43it/s]\n",
            "100%|██████████| 282/282 [00:09<00:00, 30.89it/s]\n"
          ]
        },
        {
          "output_type": "stream",
          "name": "stdout",
          "text": [
            "Epoch: 16\n",
            "Loss Avg: 2.0690241678557157\n",
            "Last Learning Rate: [0.005450619293843706]\n",
            "Accuracy: 41.511112213134766%\n",
            "F measure: 40.770139218800665%\n"
          ]
        },
        {
          "output_type": "stream",
          "name": "stderr",
          "text": [
            "100%|██████████| 2813/2813 [03:13<00:00, 14.54it/s]\n",
            "100%|██████████| 282/282 [00:10<00:00, 27.48it/s]\n"
          ]
        },
        {
          "output_type": "stream",
          "name": "stdout",
          "text": [
            "Epoch: 17\n",
            "Loss Avg: 2.0380046673723426\n",
            "Last Learning Rate: [0.002448149713500471]\n",
            "Accuracy: 45.31111145019531%\n",
            "F measure: 44.29581621585012%\n"
          ]
        },
        {
          "output_type": "stream",
          "name": "stderr",
          "text": [
            "100%|██████████| 2813/2813 [03:14<00:00, 14.47it/s]\n",
            "100%|██████████| 282/282 [00:09<00:00, 30.38it/s]\n"
          ]
        },
        {
          "output_type": "stream",
          "name": "stdout",
          "text": [
            "Epoch: 18\n",
            "Loss Avg: 1.9973663653300444\n",
            "Last Learning Rate: [0.0006165768144134146]\n",
            "Accuracy: 47.17778015136719%\n",
            "F measure: 46.30082736448341%\n"
          ]
        },
        {
          "output_type": "stream",
          "name": "stderr",
          "text": [
            "100%|██████████| 2813/2813 [03:14<00:00, 14.43it/s]\n",
            "100%|██████████| 282/282 [00:08<00:00, 32.09it/s]"
          ]
        },
        {
          "output_type": "stream",
          "name": "stdout",
          "text": [
            "Epoch: 19\n",
            "Loss Avg: 1.6472393963899283\n",
            "Last Learning Rate: [1e-06]\n",
            "Accuracy: 47.61111068725586%\n",
            "F measure: 46.69603584788178%\n"
          ]
        },
        {
          "output_type": "stream",
          "name": "stderr",
          "text": [
            "\n"
          ]
        }
      ]
    },
    {
      "cell_type": "code",
      "source": [
        "torch.save(final_model.state_dict(), \"Final_kWay50.pth\")\n",
        "print(\"Model saved...\")"
      ],
      "metadata": {
        "colab": {
          "base_uri": "https://localhost:8080/"
        },
        "id": "7AwZLz0GUHxY",
        "outputId": "61bc9a2d-83a1-4c28-d2cd-8230791bd1a0"
      },
      "execution_count": null,
      "outputs": [
        {
          "output_type": "stream",
          "name": "stdout",
          "text": [
            "Model saved...\n"
          ]
        }
      ]
    },
    {
      "cell_type": "code",
      "source": [
        "resnet50 = build_max_model(\"/content/OpenGAN/Final_kWay10.pth\").cuda()"
      ],
      "metadata": {
        "id": "2rZ6jf1mbz6-"
      },
      "execution_count": null,
      "outputs": []
    },
    {
      "cell_type": "code",
      "source": [
        "resnet50 = build_max_model(\"/content/drive/MyDrive/Unknown_Detection/50KWayModelAugust21.pth\").cuda()"
      ],
      "metadata": {
        "id": "PD9dLQWhgGg_"
      },
      "execution_count": null,
      "outputs": []
    },
    {
      "cell_type": "code",
      "source": [
        "a = torch.ones((16, 3, 32, 32)).cuda()\n",
        "resnet50(a).size()"
      ],
      "metadata": {
        "colab": {
          "base_uri": "https://localhost:8080/"
        },
        "id": "uZUkUpXqZ9ha",
        "outputId": "1fdd5547-bee9-465b-dd38-128a8b9b7eec"
      },
      "execution_count": null,
      "outputs": [
        {
          "output_type": "execute_result",
          "data": {
            "text/plain": [
              "torch.Size([16, 2048])"
            ]
          },
          "metadata": {},
          "execution_count": 84
        }
      ]
    },
    {
      "cell_type": "markdown",
      "source": [
        "# We are just going to build Max Logits score models"
      ],
      "metadata": {
        "id": "ul0DbS-lcff7"
      }
    },
    {
      "cell_type": "code",
      "source": [
        "def build_max_model(kway_model_path): \n",
        "\n",
        "  resnet50 = torchvision.models.resnet50(pretrained=False)\n",
        "  resnet50.fc = nn.Linear(resnet50.fc.in_features, 180)\n",
        "\n",
        "  resnet50.load_state_dict(torch.load(kway_model_path))\n",
        "  resnet50.eval()\n",
        "\n",
        "  return resnet50\n",
        "\n",
        "def evaluate_max_models(form, kway_model_path, closedSet, openSet): \n",
        "\n",
        "  openDataLoader = torch.utils.data.DataLoader(openSet, batch_size = 16, shuffle = True)\n",
        "  closedDataLoader = torch.utils.data.DataLoader(closedSet, batch_size = 16, shuffle = True)\n",
        "\n",
        "  if len(openSet) > len(closedSet): \n",
        "    for_loop_loader = \"closedDataLoader\"\n",
        "    iter_loader = \"openDataLoader\"\n",
        "  else: \n",
        "    for_loop_loader = \"openDataLoader\"\n",
        "    iter_loader = \"closedDataLoader\"\n",
        "  \n",
        "  print(\"For Loop Loader is {}\".format(for_loop_loader))\n",
        "  print(\"Iter Loop Loader is {}\".format(iter_loader))\n",
        "\n",
        "  net = build_max_model(kway_model_path).cuda()\n",
        "  num_of_data = 0\n",
        "  stacked_maxes = list()\n",
        "  stacked_target = list()\n",
        "\n",
        "  dateiter = iter(eval(iter_loader))\n",
        "  for for_data, for_targets in tqdm(eval(for_loop_loader)): \n",
        "    iter_data, iter_targets = next(dateiter)\n",
        "    if for_loop_loader==\"closedDataLoader\": \n",
        "        for_targets = torch.ones(*for_targets.size())\n",
        "        iter_targets = torch.zeros(*iter_targets.size())\n",
        "    else: \n",
        "        for_targets = torch.zeros(*for_targets.size())\n",
        "        iter_targets = torch.ones(*iter_targets.size())\n",
        "    \n",
        "    iter_data, iter_targets = iter_data.cuda(), iter_targets.cuda()\n",
        "    for_data, for_targets = for_data.cuda(), for_targets.cuda()\n",
        "    data = torch.cat((iter_data, for_data), 0)\n",
        "    target = torch.cat((iter_targets, for_targets), 0)\n",
        "\n",
        "    x = net(data.float())\n",
        "\n",
        "    if form == \"softmax\":\n",
        "      # Softmax Probability\n",
        "      x = F.softmax(x, dim=1)\n",
        "      assert sum(x[0]).item() > 0.99 and sum(x[0]).item() < 1.001\n",
        "    \n",
        "    max = torch.max(x, dim = 1).values\n",
        "\n",
        "    stacked_maxes.extend(max.tolist())\n",
        "    stacked_target.extend(target.tolist())\n",
        "\n",
        "  \n",
        "  roc_measure = roc(stacked_maxes, stacked_target)['auc'] * 100\n",
        "  pr_measure = pr(stacked_maxes, stacked_target)['auc'] * 100\n",
        "\n",
        "  print(\"\\n\")\n",
        "  print(\"ROC AU value: {}%\".format(roc_measure))\n",
        "  print(\"PR AU value: {}%\".format(pr_measure))\n",
        "\n",
        "  return roc_measure, pr_measure"
      ],
      "metadata": {
        "id": "djjiZ9m8ck1j"
      },
      "execution_count": null,
      "outputs": []
    },
    {
      "cell_type": "code",
      "source": [
        "evaluate_max_models(\"logits\", \"/content/drive/MyDrive/Unknown_Detection/50EpochsFullTrainTinyImageNetAug27th.pth\",\n",
        "                                         test_closedset_CIFAR, test_OpenSetMNIST)"
      ],
      "metadata": {
        "colab": {
          "base_uri": "https://localhost:8080/"
        },
        "id": "zGHGvN0lrsN4",
        "outputId": "4b9efe2b-5d8f-401b-884d-71c2197d42e3"
      },
      "execution_count": null,
      "outputs": [
        {
          "output_type": "stream",
          "name": "stdout",
          "text": [
            "For Loop Loader is closedDataLoader\n",
            "Iter Loop Loader is openDataLoader\n"
          ]
        },
        {
          "output_type": "stream",
          "name": "stderr",
          "text": [
            "/usr/local/lib/python3.7/dist-packages/torchvision/models/_utils.py:209: UserWarning: The parameter 'pretrained' is deprecated since 0.13 and will be removed in 0.15, please use 'weights' instead.\n",
            "  f\"The parameter '{pretrained_param}' is deprecated since 0.13 and will be removed in 0.15, \"\n",
            "/usr/local/lib/python3.7/dist-packages/torchvision/models/_utils.py:223: UserWarning: Arguments other than a weight enum or `None` for 'weights' are deprecated since 0.13 and will be removed in 0.15. The current behavior is equivalent to passing `weights=None`.\n",
            "  warnings.warn(msg)\n",
            "100%|██████████| 375/375 [00:08<00:00, 43.65it/s]\n"
          ]
        },
        {
          "output_type": "stream",
          "name": "stdout",
          "text": [
            "\n",
            "\n",
            "ROC AU value: 24.702784722222223%\n",
            "PR AU value: 37.05663728472926%\n"
          ]
        },
        {
          "output_type": "execute_result",
          "data": {
            "text/plain": [
              "(24.702784722222223, 37.05663728472926)"
            ]
          },
          "metadata": {},
          "execution_count": 31
        }
      ]
    },
    {
      "cell_type": "code",
      "source": [
        "import cv2\n",
        "max_logits_metrics = evaluate_max_models(\"logits\", \"/content/drive/MyDrive/Unknown_Detection/50EpochsFullTrainTinyImageNetAug27th.pth\",\n",
        "                                         testTinyImageNet, euro_dataset)"
      ],
      "metadata": {
        "id": "0bTZQexd9SsM",
        "colab": {
          "base_uri": "https://localhost:8080/"
        },
        "outputId": "019ceb2d-73e7-41af-9853-cf0caab32e00"
      },
      "execution_count": null,
      "outputs": [
        {
          "output_type": "stream",
          "name": "stdout",
          "text": [
            "For Loop Loader is closedDataLoader\n",
            "Iter Loop Loader is openDataLoader\n"
          ]
        },
        {
          "output_type": "stream",
          "name": "stderr",
          "text": [
            "/usr/local/lib/python3.7/dist-packages/torchvision/models/_utils.py:209: UserWarning: The parameter 'pretrained' is deprecated since 0.13 and will be removed in 0.15, please use 'weights' instead.\n",
            "  f\"The parameter '{pretrained_param}' is deprecated since 0.13 and will be removed in 0.15, \"\n",
            "/usr/local/lib/python3.7/dist-packages/torchvision/models/_utils.py:223: UserWarning: Arguments other than a weight enum or `None` for 'weights' are deprecated since 0.13 and will be removed in 0.15. The current behavior is equivalent to passing `weights=None`.\n",
            "  warnings.warn(msg)\n",
            "100%|██████████| 563/563 [00:23<00:00, 23.57it/s]"
          ]
        },
        {
          "output_type": "stream",
          "name": "stdout",
          "text": [
            "\n",
            "\n",
            "ROC AU value: 82.17770438622459%\n",
            "PR AU value: 84.3970968327387%\n"
          ]
        },
        {
          "output_type": "stream",
          "name": "stderr",
          "text": [
            "\n"
          ]
        }
      ]
    },
    {
      "cell_type": "code",
      "source": [
        "max_logits_metrics = evaluate_max_models(\"softmax\", \"/content/drive/MyDrive/Unknown_Detection/50EpochsFullTrainTinyImageNetAug27th.pth\",\n",
        "                                         testTinyImageNet, test_OpenSetSVHN)"
      ],
      "metadata": {
        "colab": {
          "base_uri": "https://localhost:8080/"
        },
        "id": "Jhpn5Ex_bEc0",
        "outputId": "56e6079e-4d45-4161-cc8e-1279b5a3545d"
      },
      "execution_count": null,
      "outputs": [
        {
          "output_type": "stream",
          "name": "stdout",
          "text": [
            "For Loop Loader is closedDataLoader\n",
            "Iter Loop Loader is openDataLoader\n"
          ]
        },
        {
          "output_type": "stream",
          "name": "stderr",
          "text": [
            "100%|██████████| 563/563 [00:38<00:00, 14.47it/s]\n"
          ]
        },
        {
          "output_type": "stream",
          "name": "stdout",
          "text": [
            "\n",
            "\n",
            "ROC AU value: 26.2233496151569%\n",
            "PR AU value: 40.339157879176%\n"
          ]
        }
      ]
    },
    {
      "cell_type": "code",
      "source": [
        "evaluate_max_models(\"logits\", \"/content/drive/MyDrive/Unknown_Detection/50EpochsFullTrainTinyImageNetAug27th.pth\",\n",
        "                                         test_closedset_CIFAR, test_OpenSetSVHN)"
      ],
      "metadata": {
        "colab": {
          "base_uri": "https://localhost:8080/"
        },
        "id": "bzgi68HJjCwU",
        "outputId": "683d0607-dec5-4b53-f56a-6fd232f9f6ea"
      },
      "execution_count": null,
      "outputs": [
        {
          "output_type": "stream",
          "name": "stdout",
          "text": [
            "For Loop Loader is closedDataLoader\n",
            "Iter Loop Loader is openDataLoader\n"
          ]
        },
        {
          "output_type": "stream",
          "name": "stderr",
          "text": [
            "100%|██████████| 375/375 [00:09<00:00, 41.36it/s]"
          ]
        },
        {
          "output_type": "stream",
          "name": "stdout",
          "text": [
            "\n",
            "\n",
            "ROC AU value: 47.86009166666667%\n",
            "PR AU value: 51.60438695410032%\n"
          ]
        },
        {
          "output_type": "stream",
          "name": "stderr",
          "text": [
            "\n"
          ]
        },
        {
          "output_type": "execute_result",
          "data": {
            "text/plain": [
              "(47.86009166666667, 51.60438695410032)"
            ]
          },
          "metadata": {},
          "execution_count": 29
        }
      ]
    },
    {
      "cell_type": "code",
      "source": [
        "max_logits_metrics = evaluate_max_models(\"logits\", \"/content/drive/MyDrive/Unknown_Detection/Final_kWay10.pth\",\n",
        "                                         testTinyImageNet, test_OpenSetMNIST)"
      ],
      "metadata": {
        "id": "wImcHhLeaCdW"
      },
      "execution_count": null,
      "outputs": []
    },
    {
      "cell_type": "code",
      "source": [
        "max_logits_metrics = evaluate_max_models(\"logits\", \"/content/drive/MyDrive/Unknown_Detection/Final_kWay10.pth\",\n",
        "                                         testTinyImageNet, test_OpenSetMNIST)"
      ],
      "metadata": {
        "id": "y5_1UDmrVf5R"
      },
      "execution_count": null,
      "outputs": []
    },
    {
      "cell_type": "markdown",
      "source": [
        "# OpenGAN + TinyImageNet"
      ],
      "metadata": {
        "id": "t9eSI098dCcS"
      }
    },
    {
      "cell_type": "code",
      "source": [
        "!git clone https://github.com/aimerykong/OpenGAN.git\n",
        "%cd \"/content/OpenGAN\""
      ],
      "metadata": {
        "id": "6JPNw47-dIet",
        "colab": {
          "base_uri": "https://localhost:8080/"
        },
        "outputId": "d7287752-13e0-49ea-e18a-3319325b2c9d"
      },
      "execution_count": null,
      "outputs": [
        {
          "output_type": "stream",
          "name": "stdout",
          "text": [
            "Cloning into 'OpenGAN'...\n",
            "remote: Enumerating objects: 66, done.\u001b[K\n",
            "remote: Counting objects: 100% (66/66), done.\u001b[K\n",
            "remote: Compressing objects: 100% (53/53), done.\u001b[K\n",
            "remote: Total 66 (delta 28), reused 24 (delta 8), pack-reused 0\u001b[K\n",
            "Unpacking objects: 100% (66/66), done.\n",
            "/content/OpenGAN\n"
          ]
        }
      ]
    },
    {
      "cell_type": "code",
      "source": [
        "from __future__ import print_function, division\n",
        "import os, random, time, copy, scipy, pickle, sys, math, json, pickle\n",
        "\n",
        "import argparse, pprint, shutil, logging, time, timeit\n",
        "from pathlib import Path\n",
        "\n",
        "from skimage import io, transform\n",
        "import numpy as np\n",
        "import os.path as path\n",
        "import scipy.io as sio\n",
        "from scipy import misc\n",
        "from scipy import ndimage, signal\n",
        "import matplotlib.pyplot as plt\n",
        "# import PIL.Image\n",
        "from PIL import Image\n",
        "from io import BytesIO\n",
        "from skimage import data, img_as_float\n",
        "from tqdm import tqdm \n",
        "from sklearn.metrics import auc, f1_score, precision_recall_curve, roc_auc_score, roc_curve\n",
        "\n",
        "import torch, torchvision\n",
        "from torch.utils.data import Dataset, DataLoader\n",
        "import torch.nn as nn\n",
        "import torch.optim as optim\n",
        "from torch.optim import lr_scheduler \n",
        "import torch.nn.functional as F\n",
        "from torch.autograd import Variable\n",
        "from torchvision import datasets, models, transforms\n",
        "import torchvision.utils as vutils\n",
        "from torchvision.datasets import CIFAR10, MNIST, SVHN\n",
        "from collections import namedtuple\n",
        "\n",
        "# from config_HRNet import models\n",
        "# from config_HRNet import seg_hrnet\n",
        "# from config_HRNet import config\n",
        "# from config_HRNet import update_config\n",
        "# from config_HRNet.modelsummary  import *\n",
        "# from config_HRNet.utils import *\n",
        "\n",
        "\n",
        "from utils.dataset_tinyimagenet import *\n",
        "from utils.dataset_cityscapes import *\n",
        "from utils.eval_funcs import *\n",
        "\n",
        "!pip install git+https://github.com/aleju/imgaug.git\n",
        "import imgaug.augmenters as iaa\n",
        "\n",
        "\n",
        "import warnings # ignore warnings\n",
        "warnings.filterwarnings(\"ignore\")\n",
        "print(sys.version)\n",
        "print(torch.__version__)\n",
        "\n",
        "# %load_ext autoreload\n",
        "# %autoreload 2"
      ],
      "metadata": {
        "id": "UyHG099feic-",
        "colab": {
          "base_uri": "https://localhost:8080/"
        },
        "outputId": "d928160a-0a7b-489a-b410-8883ff011564"
      },
      "execution_count": null,
      "outputs": [
        {
          "output_type": "stream",
          "name": "stdout",
          "text": [
            "Looking in indexes: https://pypi.org/simple, https://us-python.pkg.dev/colab-wheels/public/simple/\n",
            "Collecting git+https://github.com/aleju/imgaug.git\n",
            "  Cloning https://github.com/aleju/imgaug.git to /tmp/pip-req-build-aqt84afd\n",
            "  Running command git clone -q https://github.com/aleju/imgaug.git /tmp/pip-req-build-aqt84afd\n",
            "Requirement already satisfied: six in /usr/local/lib/python3.7/dist-packages (from imgaug==0.4.0) (1.15.0)\n",
            "Requirement already satisfied: numpy>=1.15 in /usr/local/lib/python3.7/dist-packages (from imgaug==0.4.0) (1.21.6)\n",
            "Requirement already satisfied: scipy in /usr/local/lib/python3.7/dist-packages (from imgaug==0.4.0) (1.7.3)\n",
            "Requirement already satisfied: Pillow in /usr/local/lib/python3.7/dist-packages (from imgaug==0.4.0) (7.1.2)\n",
            "Requirement already satisfied: matplotlib in /usr/local/lib/python3.7/dist-packages (from imgaug==0.4.0) (3.2.2)\n",
            "Requirement already satisfied: scikit-image>=0.14.2 in /usr/local/lib/python3.7/dist-packages (from imgaug==0.4.0) (0.18.3)\n",
            "Requirement already satisfied: opencv-python in /usr/local/lib/python3.7/dist-packages (from imgaug==0.4.0) (4.6.0.66)\n",
            "Requirement already satisfied: Shapely in /usr/local/lib/python3.7/dist-packages (from imgaug==0.4.0) (1.8.4)\n",
            "Requirement already satisfied: imageio in /usr/local/lib/python3.7/dist-packages (from imgaug==0.4.0) (2.9.0)\n",
            "Requirement already satisfied: tifffile>=2019.7.26 in /usr/local/lib/python3.7/dist-packages (from scikit-image>=0.14.2->imgaug==0.4.0) (2021.11.2)\n",
            "Requirement already satisfied: networkx>=2.0 in /usr/local/lib/python3.7/dist-packages (from scikit-image>=0.14.2->imgaug==0.4.0) (2.6.3)\n",
            "Requirement already satisfied: PyWavelets>=1.1.1 in /usr/local/lib/python3.7/dist-packages (from scikit-image>=0.14.2->imgaug==0.4.0) (1.3.0)\n",
            "Requirement already satisfied: kiwisolver>=1.0.1 in /usr/local/lib/python3.7/dist-packages (from matplotlib->imgaug==0.4.0) (1.4.4)\n",
            "Requirement already satisfied: pyparsing!=2.0.4,!=2.1.2,!=2.1.6,>=2.0.1 in /usr/local/lib/python3.7/dist-packages (from matplotlib->imgaug==0.4.0) (3.0.9)\n",
            "Requirement already satisfied: python-dateutil>=2.1 in /usr/local/lib/python3.7/dist-packages (from matplotlib->imgaug==0.4.0) (2.8.2)\n",
            "Requirement already satisfied: cycler>=0.10 in /usr/local/lib/python3.7/dist-packages (from matplotlib->imgaug==0.4.0) (0.11.0)\n",
            "Requirement already satisfied: typing-extensions in /usr/local/lib/python3.7/dist-packages (from kiwisolver>=1.0.1->matplotlib->imgaug==0.4.0) (4.1.1)\n",
            "3.7.14 (default, Sep  8 2022, 00:06:44) \n",
            "[GCC 7.5.0]\n",
            "1.12.1+cu113\n"
          ]
        }
      ]
    },
    {
      "cell_type": "code",
      "source": [
        "# set the random seed\n",
        "torch.manual_seed(0)\n",
        "\n",
        "\n",
        "################## set attributes for this project/experiment ##################\n",
        "# config result folder\n",
        "exp_dir = './exp' # experiment directory, used for reading the init model\n",
        "\n",
        "num_open_training_images = 1000\n",
        "weight_adversarialLoss = 0.2\n",
        "project_name = 'demo_step030_OpenGAN_num{}_w{:.2f}'.format(num_open_training_images, weight_adversarialLoss)\n",
        "\n",
        "\n",
        "device ='cpu'\n",
        "if torch.cuda.is_available(): \n",
        "    device='cuda'\n",
        "        \n",
        "\n",
        "\n",
        "ganBatchSize = 64 # 32 fake images\n",
        "batch_size = 64\n",
        "newsize = (-1,-1)\n",
        "\n",
        "total_epoch_num = 20 # total number of epoch in training\n",
        "insertConv = False    \n",
        "embDimension = 64\n",
        "#isPretrained = False\n",
        "#encoder_num_layers = 18\n",
        "\n",
        "\n",
        "# Number of channels in the training images. For color images this is 3\n",
        "nc = 2048\n",
        "# Size of z latent vector (i.e. size of generator input)\n",
        "nz = 64\n",
        "# Size of feature maps in generator\n",
        "ngf = 64\n",
        "# Size of feature maps in discriminator\n",
        "ndf = 64\n",
        "# Beta1 hyperparam for Adam optimizers\n",
        "beta1 = 0.5\n",
        "# Number of GPUs available. Use 0 for CPU mode.\n",
        "ngpu = 1\n",
        "\n",
        "\n",
        "\n",
        "save_dir = os.path.join(exp_dir, project_name)\n",
        "if not os.path.exists(exp_dir): os.makedirs(exp_dir)\n",
        "\n",
        "lr = 0.0001 # base learning rate\n",
        "\n",
        "num_epochs = total_epoch_num\n",
        "torch.cuda.device_count()\n",
        "torch.cuda.empty_cache()\n",
        "\n",
        "save_dir = os.path.join(exp_dir, project_name)\n",
        "print(save_dir)    \n",
        "if not os.path.exists(save_dir): os.makedirs(save_dir)\n",
        "\n",
        "log_filename = os.path.join(save_dir, 'train.log')"
      ],
      "metadata": {
        "colab": {
          "base_uri": "https://localhost:8080/"
        },
        "id": "8pBBhkNpenKh",
        "outputId": "fee34ef0-4b47-42b3-b969-22362e8c8d6a"
      },
      "execution_count": null,
      "outputs": [
        {
          "output_type": "stream",
          "name": "stdout",
          "text": [
            "./exp/demo_step030_OpenGAN_num1000_w0.20\n"
          ]
        }
      ]
    },
    {
      "cell_type": "code",
      "source": [
        "# Load Outlier Exposure datasets\n",
        "# Train Datasets\n",
        "mean = [x / 255 for x in [125.3, 123.0, 113.9]]\n",
        "std = [x / 255 for x in [63.0, 62.1, 66.7]]\n",
        "\n",
        "mnist_OEtrainset = torchvision.datasets.MNIST(root='./data', train=True, download=True, transform=transforms.ToTensor())\n",
        "svhn_OEtrainset = torchvision.datasets.SVHN(root = './data', split = \"train\", download = True)\n",
        "\n",
        "# Test Datasets\n",
        "mnist_OEtestset = torchvision.datasets.MNIST(root='./data', train=False, download=True, transform=transforms.ToTensor())\n",
        "svhn_OEtestset = torchvision.datasets.SVHN(root = './data', split = \"test\", download = True)\n",
        "\n",
        "testset = CIFAR10(root='./data', train=False, download=True)\n",
        "trainset = CIFAR10(root='./data', train=True, download=True)\n",
        "\n",
        "train_transform = transforms.Compose([\n",
        "    transforms.ToPILImage(),      \n",
        "    transforms.RandomHorizontalFlip(), \n",
        "    transforms.Resize(32),                  \n",
        "    transforms.ToTensor(),\n",
        "    transforms.Normalize((mean), (std))\n",
        "])\n",
        "\n",
        "\n",
        "test_transform = transforms.Compose([\n",
        "    transforms.ToPILImage(), \n",
        "    transforms.ToTensor(), \n",
        "    transforms.Normalize(mean, std)\n",
        "])"
      ],
      "metadata": {
        "colab": {
          "base_uri": "https://localhost:8080/",
          "height": 616,
          "referenced_widgets": [
            "76d7312e27354adc83bb1e6dd466a652",
            "d58904ac8e0a4c989835ec8239b26ad3",
            "2a4fe21964bd442fad853cdd7698ea17",
            "5f3803b8db9b420a827371bcb04f93fc",
            "5ef6484bda8840569b2ad298ed2e2e14",
            "2bfea89143074be9b7c477a11c60205b",
            "760f226c01f24d1e8d29b3c594d16ef3",
            "2f54ebf3af5743c69379abfe61f868e9",
            "e2f6f4d8cdd94084a0f5b0b8287bd934",
            "4be751f7247644179577a3653355a6c6",
            "7cec94b510bb48c2abb068a9d482e3f4",
            "ee3a44f0d7ee49f2b1b8a84fceedc52b",
            "880b41b5727942e0ab9e6cebe447eb77",
            "233e9fa32519415b8a235b056c48c7ed",
            "16bbff57636d40778040fcb886335b44",
            "3010262a532c4e158f3627b6e133df8e",
            "290ed783e8d147af981f139b2e73dd31",
            "d341e7e6faf64988b196fbc3ced7e4ff",
            "fff4946030794fa98041bb90c4d82593",
            "810d9894444843ec88d8d7dd04d2cf67",
            "abc2866d65c04289bc80eefa7d73cf28",
            "fc0b466c829c449296edd3166db95a30",
            "89e0d3fb07b44d7f8d24294b3b7834c3",
            "5ce92906ce274386b6c878d77188494b",
            "0581993229e04798ad8ed790eeceb09d",
            "cfd9d1d2aca345afa81263cf597a1c98",
            "61b814810c68461091fbd87edfee67c2",
            "8828424291ab4f5eb0d18d3b0b05e4a4",
            "09d83e9af3e245c585a73621339b80ea",
            "3579af20232842d3968ca9672caf73cf",
            "e19d224a84cc4f04a5d9595df29bf868",
            "483f5f99c0284e8fb9d501e0ae90cf42",
            "4cf75b8ceccb4a58b732c70011d326d3",
            "56ec9cdf76d04700853ee6310b978716",
            "62fec177b0414ab1abbfadc40268abe2",
            "a8d1c8c92cba40e49591c463bc3c913e",
            "75de558f93ed49a5b982f3145d55cead",
            "b7fcb21df2ec4f9cbc3fb609adff36e3",
            "dbd09b05fcd94a91af79c6cf6cd7727a",
            "a4b2340f54b24e16b6f14860d36be265",
            "fbb731d627da4f679d53df5fac287c7b",
            "21414bca457e455ca74c47157a989600",
            "f1c8fbbdd27d475eaf0624900663f196",
            "1e6f9483fdd749e8a23505b44afd24a9",
            "c0416f2183c84515aaeec347e43a6a0e",
            "64f2e7dc294041c49d951218bdfeb335",
            "fc9398c14c5844019c288a09116aa593",
            "c26593d1a6b541fbadad4d057d077808",
            "a6ef014d56ed4cc7ad724fe9094241e1",
            "83d5e0b9bbe84d399ddfd0a989612d25",
            "c8a6396457c649f6a2b886b7f121c007",
            "409e3c9001a44ae0a41f6d447c887261",
            "5638f2e410ba456a86cfabfc98810f84",
            "ae207802ad434792b3524399f359d95a",
            "36d559de2eaa4f4cb320758937627aec",
            "7160a22ced1b4055a707c3f8d757591c",
            "a22d250fa38b4b1c8693fd622c081b2b",
            "a1adf250127f47abbc7cf71cf3666ebc",
            "9edb4a037c324630a7dcb190485a7269",
            "dd407aa6da304b0fa1d7ea266333eea8",
            "712966cb8b6442cd9a6f3cbc38c53964",
            "0978ff03d4044f44a5319e9199f7ad67",
            "2aed373153c94215ba5d05eac72cb040",
            "42ffa1ec61b84921b42bdbc8c47b6744",
            "bde4a1be97be453ead80cce2e72718ec",
            "f15bbac4523a48b4ba6333ba48d1c9fa",
            "73ee0706a2b0463986c11f2a4b05eabe",
            "09140436690447b49e886ba7061d20ef",
            "561d21eca7ef41138660666c42be8565",
            "e4a021bc77f74117a3242db00fb309b4",
            "b27c20393e0f4012b7030630f01abb06",
            "d6212531780f4164a74a8830ef865e6f",
            "fba223671ced4e149a1f946ab9eb02b4",
            "4225e634bc7945caa9ffb494023ce4b9",
            "5aae8317dbf84973b96f7267b0db1e4c",
            "32fd8758ed1a47c7ac7836a0491ccf2d",
            "cf0b620534584938a8bbe2a86ac5c6cc"
          ]
        },
        "id": "BA4zEVSfhXw5",
        "outputId": "e7ebb6ae-61a8-4218-b034-7637a47695e3"
      },
      "execution_count": null,
      "outputs": [
        {
          "output_type": "stream",
          "name": "stdout",
          "text": [
            "Downloading http://yann.lecun.com/exdb/mnist/train-images-idx3-ubyte.gz\n",
            "Downloading http://yann.lecun.com/exdb/mnist/train-images-idx3-ubyte.gz to ./data/MNIST/raw/train-images-idx3-ubyte.gz\n"
          ]
        },
        {
          "output_type": "display_data",
          "data": {
            "text/plain": [
              "  0%|          | 0/9912422 [00:00<?, ?it/s]"
            ],
            "application/vnd.jupyter.widget-view+json": {
              "version_major": 2,
              "version_minor": 0,
              "model_id": "76d7312e27354adc83bb1e6dd466a652"
            }
          },
          "metadata": {}
        },
        {
          "output_type": "stream",
          "name": "stdout",
          "text": [
            "Extracting ./data/MNIST/raw/train-images-idx3-ubyte.gz to ./data/MNIST/raw\n",
            "\n",
            "Downloading http://yann.lecun.com/exdb/mnist/train-labels-idx1-ubyte.gz\n",
            "Downloading http://yann.lecun.com/exdb/mnist/train-labels-idx1-ubyte.gz to ./data/MNIST/raw/train-labels-idx1-ubyte.gz\n"
          ]
        },
        {
          "output_type": "display_data",
          "data": {
            "text/plain": [
              "  0%|          | 0/28881 [00:00<?, ?it/s]"
            ],
            "application/vnd.jupyter.widget-view+json": {
              "version_major": 2,
              "version_minor": 0,
              "model_id": "ee3a44f0d7ee49f2b1b8a84fceedc52b"
            }
          },
          "metadata": {}
        },
        {
          "output_type": "stream",
          "name": "stdout",
          "text": [
            "Extracting ./data/MNIST/raw/train-labels-idx1-ubyte.gz to ./data/MNIST/raw\n",
            "\n",
            "Downloading http://yann.lecun.com/exdb/mnist/t10k-images-idx3-ubyte.gz\n",
            "Downloading http://yann.lecun.com/exdb/mnist/t10k-images-idx3-ubyte.gz to ./data/MNIST/raw/t10k-images-idx3-ubyte.gz\n"
          ]
        },
        {
          "output_type": "display_data",
          "data": {
            "text/plain": [
              "  0%|          | 0/1648877 [00:00<?, ?it/s]"
            ],
            "application/vnd.jupyter.widget-view+json": {
              "version_major": 2,
              "version_minor": 0,
              "model_id": "89e0d3fb07b44d7f8d24294b3b7834c3"
            }
          },
          "metadata": {}
        },
        {
          "output_type": "stream",
          "name": "stdout",
          "text": [
            "Extracting ./data/MNIST/raw/t10k-images-idx3-ubyte.gz to ./data/MNIST/raw\n",
            "\n",
            "Downloading http://yann.lecun.com/exdb/mnist/t10k-labels-idx1-ubyte.gz\n",
            "Downloading http://yann.lecun.com/exdb/mnist/t10k-labels-idx1-ubyte.gz to ./data/MNIST/raw/t10k-labels-idx1-ubyte.gz\n"
          ]
        },
        {
          "output_type": "display_data",
          "data": {
            "text/plain": [
              "  0%|          | 0/4542 [00:00<?, ?it/s]"
            ],
            "application/vnd.jupyter.widget-view+json": {
              "version_major": 2,
              "version_minor": 0,
              "model_id": "56ec9cdf76d04700853ee6310b978716"
            }
          },
          "metadata": {}
        },
        {
          "output_type": "stream",
          "name": "stdout",
          "text": [
            "Extracting ./data/MNIST/raw/t10k-labels-idx1-ubyte.gz to ./data/MNIST/raw\n",
            "\n",
            "Downloading http://ufldl.stanford.edu/housenumbers/train_32x32.mat to ./data/train_32x32.mat\n"
          ]
        },
        {
          "output_type": "display_data",
          "data": {
            "text/plain": [
              "  0%|          | 0/182040794 [00:00<?, ?it/s]"
            ],
            "application/vnd.jupyter.widget-view+json": {
              "version_major": 2,
              "version_minor": 0,
              "model_id": "c0416f2183c84515aaeec347e43a6a0e"
            }
          },
          "metadata": {}
        },
        {
          "output_type": "stream",
          "name": "stdout",
          "text": [
            "Downloading http://ufldl.stanford.edu/housenumbers/test_32x32.mat to ./data/test_32x32.mat\n"
          ]
        },
        {
          "output_type": "display_data",
          "data": {
            "text/plain": [
              "  0%|          | 0/64275384 [00:00<?, ?it/s]"
            ],
            "application/vnd.jupyter.widget-view+json": {
              "version_major": 2,
              "version_minor": 0,
              "model_id": "7160a22ced1b4055a707c3f8d757591c"
            }
          },
          "metadata": {}
        },
        {
          "output_type": "stream",
          "name": "stdout",
          "text": [
            "Downloading https://www.cs.toronto.edu/~kriz/cifar-10-python.tar.gz to ./data/cifar-10-python.tar.gz\n"
          ]
        },
        {
          "output_type": "display_data",
          "data": {
            "text/plain": [
              "  0%|          | 0/170498071 [00:00<?, ?it/s]"
            ],
            "application/vnd.jupyter.widget-view+json": {
              "version_major": 2,
              "version_minor": 0,
              "model_id": "73ee0706a2b0463986c11f2a4b05eabe"
            }
          },
          "metadata": {}
        },
        {
          "output_type": "stream",
          "name": "stdout",
          "text": [
            "Extracting ./data/cifar-10-python.tar.gz to ./data\n",
            "Files already downloaded and verified\n"
          ]
        }
      ]
    },
    {
      "cell_type": "code",
      "source": [
        "class OpenSetSVHN(torch.utils.data.Dataset):\n",
        "  '''Seen: CIFAR Closed set; Unseen: New Dataset'''\n",
        "\n",
        "  def __init__(self, New_dataset_images, New_dataset_targets, transformFunc, OpenSetRec = False, MNIST = False):\n",
        "\n",
        "    self.data = list()\n",
        "    img2targets = list(zip(New_dataset_images, New_dataset_targets))\n",
        "\n",
        "    for v in img2targets: \n",
        "      if not OpenSetRec: \n",
        "        self.data.append((v[0], 0)) # 0 is unseen\n",
        "      else: \n",
        "        self.data.append((v[0], torch.tensor([0, 0])))\n",
        "      \n",
        "    \n",
        "    self.transformFunc = transformFunc\n",
        "    self.MNIST = MNIST\n",
        "    print(\"Len of Entire Dataset {}\".format(len(self.data)))\n",
        "    \n",
        "  def __getitem__(self, i):\n",
        "    img, target = self.data[i]\n",
        "    if type(img) != np.ndarray and self.MNIST: \n",
        "      # MNIST\n",
        "      img = img.to(float)\n",
        "\n",
        "      channel_1 = img.unsqueeze(0)\n",
        "      channel_2 = channel_1.clone()\n",
        "      channel_3 = channel_1.clone()\n",
        "      \n",
        "      img = torch.cat((channel_1, channel_2, channel_3), dim = 0)\n",
        "      \n",
        "      img = transforms.Resize(32)(img) \n",
        "      \n",
        "    img = self.transformFunc(img)\n",
        "    return img, target\n",
        "\n",
        "  def __len__(self):\n",
        "    return len(self.data)\n",
        "\n",
        "\n",
        "train_OpenSetSVHN = OpenSetSVHN(torch.from_numpy(svhn_OEtrainset.data), torch.from_numpy(svhn_OEtrainset.labels), train_transform)\n",
        "train_OpenSetSVHNLoader = torch.utils.data.DataLoader(train_OpenSetSVHN, batch_size = 16, shuffle = True)\n",
        "\n",
        "mixed_classes = [\"unseen\", \"seen\"]\n",
        "train_newDatasetAndCIFARiter = iter(train_OpenSetSVHNLoader)\n",
        "imgs, targets = next(train_newDatasetAndCIFARiter)\n",
        "\n",
        "imgs = imgs.numpy()\n",
        "imgs -= imgs.min() \n",
        "imgs /= imgs.max()\n",
        "\n",
        "fig = plt.figure(figsize=(25, 4))\n",
        "for idx in np.arange(5):\n",
        "  ax = fig.add_subplot(2, 16/2, idx+1, xticks=[], yticks=[])\n",
        "  plt.imshow(np.transpose(imgs[idx], (1, 2, 0)))\n",
        "  ''' Choose one way to set titles'''\n",
        "\n",
        "  '''Option 2:'''\n",
        "  ax.set_title(mixed_classes[targets[idx]])\n",
        "  ax = fig.add_subplot(2, 16/2, idx+1, xticks=[], yticks=[])\n",
        "\n",
        "\n",
        "# For reference\n",
        "# classDict = {'plane': 0, 'car': 1, 'bird': 2, 'cat': 3, 'deer': 4,\n",
        "              #'dog': 5, 'frog': 6, 'horse': 7, 'ship': 8, 'truck': 9}"
      ],
      "metadata": {
        "colab": {
          "base_uri": "https://localhost:8080/",
          "height": 167
        },
        "id": "pcCYgFyghY6D",
        "outputId": "b6b15da6-a271-4bb5-c238-c765bdae1504"
      },
      "execution_count": null,
      "outputs": [
        {
          "output_type": "stream",
          "name": "stdout",
          "text": [
            "Len of Entire Dataset 73257\n"
          ]
        },
        {
          "output_type": "display_data",
          "data": {
            "text/plain": [
              "<Figure size 1800x288 with 5 Axes>"
            ],
            "image/png": "[encoded data removed]"
          },
          "metadata": {}
        }
      ]
    },
    {
      "cell_type": "code",
      "source": [
        "eurosat_data = torchvision.datasets.EuroSAT(\"/content\", download = True)\n",
        "mean = [x / 255 for x in [125.3, 123.0, 113.9]]\n",
        "std = [x / 255 for x in [63.0, 62.1, 66.7]]\n",
        "\n",
        "class EuroSAT_Dataset(torch.utils.data.Dataset):\n",
        "    def __init__(self, root):\n",
        "      self.images = glob.glob(os.path.join(root, \"2750\", \"*\", \"*.jpg\"))   \n",
        "      self.transform = transforms.Compose([transforms.ToPILImage(), \n",
        "                                           transforms.Resize(32), \n",
        "                                          transforms.ToTensor(), \n",
        "                                          transforms.Normalize(mean, std)])                          \n",
        "    def __getitem__(self, i):\n",
        "       image = cv2.cvtColor(cv2.imread(self.images[i]), cv2.COLOR_RGB2BGR)\n",
        "       image = self.transform(image)\n",
        "\n",
        "       return image, torch.tensor(0)\n",
        "\n",
        "    def __len__(self):\n",
        "      return len(self.images)\n",
        "euro_dataset = EuroSAT_Dataset(\"/content/eurosat\")\n",
        "euro_dl = torch.utils.data.DataLoader(euro_dataset, batch_size = 32, shuffle = True)"
      ],
      "metadata": {
        "id": "6ywpmqA-y6MY",
        "colab": {
          "base_uri": "https://localhost:8080/",
          "height": 85,
          "referenced_widgets": [
            "8a695b43e2bf4043b860c5149a17b78c",
            "7666d77b42fc48ca9e65b4f087f2ab9d",
            "4a030c422751431c9c1258ed2133e068",
            "59bd6f1081d845058c2f169e00cc5e37",
            "f5dd1aa5fc8b48a19eeadb7798c0bec9",
            "5f765a4941254f518380f8791f740d35",
            "41a76b628dde4a44b5c7462794b95f39",
            "a57aa60af4fb4155a3d8b049f8491771",
            "290e2fc9778c4a2a90bbabe0998bd73a",
            "7f9fe815ad9c4eef80de079876a38a89",
            "52aee7e06f5042c394d17ce77658ecb2"
          ]
        },
        "outputId": "d6200abc-1c58-4ffa-f979-35134a000d98"
      },
      "execution_count": null,
      "outputs": [
        {
          "output_type": "stream",
          "name": "stdout",
          "text": [
            "Downloading https://madm.dfki.de/files/sentinel/EuroSAT.zip to /content/eurosat/EuroSAT.zip\n"
          ]
        },
        {
          "output_type": "display_data",
          "data": {
            "text/plain": [
              "  0%|          | 0/94280567 [00:00<?, ?it/s]"
            ],
            "application/vnd.jupyter.widget-view+json": {
              "version_major": 2,
              "version_minor": 0,
              "model_id": "8a695b43e2bf4043b860c5149a17b78c"
            }
          },
          "metadata": {}
        },
        {
          "output_type": "stream",
          "name": "stdout",
          "text": [
            "Extracting /content/eurosat/EuroSAT.zip to /content/eurosat\n"
          ]
        }
      ]
    },
    {
      "cell_type": "markdown",
      "source": [
        "# One his now \n",
        "# Remove all BatchNorm layers\n",
        "# Not only remove BatchNorm layers -> insert Dropout Layers\n",
        "# Replace Lines 37 with Fully Connected Layer and then use Dropout\n",
        "(Both have dropout and no dropout when removing Batch Norm)\n",
        "\n",
        " Use (x = torch.flatten(x, 1))"
      ],
      "metadata": {
        "id": "4CwRhd8QFmb4"
      }
    },
    {
      "cell_type": "code",
      "source": [
        "def weights_init(m):\n",
        "    classname = m.__class__.__name__\n",
        "    if classname.find('Conv') != -1:\n",
        "        nn.init.normal_(m.weight.data, 0.0, 0.02)\n",
        "    elif classname.find('BatchNorm') != -1:\n",
        "        nn.init.normal_(m.weight.data, 1.0, 0.02)\n",
        "        nn.init.constant_(m.bias.data, 0)     \n",
        "        \n",
        "\n",
        "class Generator(nn.Module):\n",
        "    def __init__(self, ngpu=1, nz=100, ngf=64, nc=512):\n",
        "        super(Generator, self).__init__()\n",
        "        self.ngpu = ngpu\n",
        "        self.nz = nz\n",
        "        self.ngf = ngf\n",
        "        self.nc = nc\n",
        "        \n",
        "        self.main = nn.Sequential(\n",
        "            # input is Z, going into a convolution\n",
        "            nn.Conv2d( self.nz, self.ngf * 8, 1, 1, 0, bias=True),\n",
        "            nn.BatchNorm2d(self.ngf * 8),\n",
        "            nn.ReLU(True),\n",
        "            # state size. (self.ngf*8) x 4 x 4\n",
        "            nn.Conv2d(self.ngf * 8, self.ngf * 4, 1, 1, 0, bias=True),\n",
        "            nn.BatchNorm2d(self.ngf * 4),\n",
        "            nn.ReLU(True),\n",
        "            # state size. (self.ngf*4) x 8 x 8\n",
        "            nn.Conv2d( self.ngf * 4, self.ngf * 2, 1, 1, 0, bias=True),\n",
        "            nn.BatchNorm2d(self.ngf * 2),\n",
        "            nn.ReLU(True),\n",
        "            # state size. (self.ngf*2) x 16 x 16\n",
        "            nn.Conv2d( self.ngf * 2, self.ngf*4, 1, 1, 0, bias=True),\n",
        "            nn.BatchNorm2d(self.ngf*4),\n",
        "            nn.ReLU(True),\n",
        "            # state size. (self.ngf) x 32 x 32\n",
        "            nn.Conv2d( self.ngf*4, self.nc, 1, 1, 0, bias=True),\n",
        "            #nn.Tanh()\n",
        "            # state size. (self.nc) x 64 x 64\n",
        "        )\n",
        "\n",
        "    def forward(self, input):\n",
        "        return self.main(input)\n",
        "\n",
        "class Discriminator(nn.Module):\n",
        "    def __init__(self, ngpu=1, nc=2048, ndf=64):\n",
        "        super(Discriminator, self).__init__()\n",
        "        self.ngpu = ngpu\n",
        "        self.nc = nc\n",
        "        self.ndf = ndf\n",
        "        self.main = nn.Sequential(\n",
        "            nn.Conv2d(self.nc, self.ndf*8, 1, 1, 0, bias=False),\n",
        "            nn.LeakyReLU(0.2, inplace=True),\n",
        "            nn.Conv2d(self.ndf*8, self.ndf*4, 1, 1, 0, bias=False),\n",
        "            nn.BatchNorm2d(self.ndf*4),\n",
        "            nn.LeakyReLU(0.2, inplace=True),\n",
        "            nn.Conv2d(self.ndf*4, self.ndf*2, 1, 1, 0, bias=False),\n",
        "            nn.BatchNorm2d(self.ndf*2),\n",
        "            nn.LeakyReLU(0.2, inplace=True),\n",
        "            nn.Conv2d(self.ndf*2, self.ndf, 1, 1, 0, bias=False),\n",
        "            nn.BatchNorm2d(self.ndf),\n",
        "            nn.LeakyReLU(0.2, inplace=True),\n",
        "            nn.Conv2d(self.ndf, 1, 1, 1, 0, bias=False),\n",
        "            nn.Sigmoid()\n",
        "        )\n",
        "\n",
        "    def forward(self, input):\n",
        "        return self.main(input)"
      ],
      "metadata": {
        "id": "TnIZXcfYki4w"
      },
      "execution_count": null,
      "outputs": []
    },
    {
      "cell_type": "code",
      "source": [
        "class ResnetEncoder(nn.Module):\n",
        "    \"\"\"Pytorch module for a resnet encoder\n",
        "    \"\"\"\n",
        "    def __init__(self, num_layers=18, isPretrained=False, isGrayscale=False, embDimension=128, poolSize=4):\n",
        "        super(ResnetEncoder, self).__init__()\n",
        "        self.path_to_model = '../models'\n",
        "        self.num_ch_enc = np.array([64, 64, 128, 256, 512])\n",
        "        self.isGrayscale = isGrayscale\n",
        "        self.isPretrained = isPretrained\n",
        "        self.embDimension = embDimension\n",
        "        self.poolSize = poolSize\n",
        "        self.featListName = ['layer0', 'layer1', 'layer2', 'layer3', 'layer4']\n",
        "        \n",
        "        resnets = {\n",
        "            18: models.resnet18, \n",
        "            34: models.resnet34,\n",
        "            50: models.resnet50, \n",
        "            101: models.resnet101,\n",
        "            152: models.resnet152}\n",
        "        \n",
        "        resnets_pretrained_path = {\n",
        "            18: 'resnet18-5c106cde.pth', \n",
        "            34: 'resnet34.pth',\n",
        "            50: 'resnet50.pth',\n",
        "            101: 'resnet101.pth',\n",
        "            152: 'resnet152.pth'}\n",
        "\n",
        "        if num_layers not in resnets:\n",
        "            raise ValueError(\"{} is not a valid number of resnet layers\".format(\n",
        "                num_layers))\n",
        "\n",
        "        self.encoder = resnets[num_layers]()\n",
        "        \n",
        "        if self.embDimension>0:\n",
        "            self.encoder.linear =  nn.Linear(self.num_ch_enc[-1], self.embDimension)\n",
        "        \n",
        "        if self.isPretrained:\n",
        "            print(\"using pretrained model\")\n",
        "            self.encoder.load_state_dict(\n",
        "                torch.load(os.path.join(self.path_to_model, resnets_pretrained_path[num_layers])))\n",
        "        \n",
        "        #if self.isGrayscale:\n",
        "        #    self.encoder.conv1 = nn.Conv2d(\n",
        "        #        1, 64, kernel_size=3, stride=1, padding=1, bias=False)\n",
        "        #else:\n",
        "        #    self.encoder.conv1 = nn.Conv2d(3, 64, kernel_size=3, stride=1, padding=1, bias=False)\n",
        "        \n",
        "        if num_layers > 34:\n",
        "            self.num_ch_enc[1:] *= 4\n",
        "\n",
        "    def forward(self, input_image):\n",
        "        self.features = []\n",
        "        \n",
        "        x = self.encoder.conv1(input_image)\n",
        "        x = self.encoder.bn1(x)\n",
        "        x = self.encoder.relu(x)\n",
        "        self.features.append(x)\n",
        "        \n",
        "        #x = self.encoder.layer1(self.encoder.maxpool(x)) # \n",
        "        x = self.encoder.layer1(x) # self.encoder.maxpool(x)\n",
        "        self.features.append(x)\n",
        "        #print('layer1: ', x.shape)\n",
        "        \n",
        "        x = self.encoder.layer2(x)\n",
        "        self.features.append(x)\n",
        "        #print('layer2: ', x.shape)\n",
        "        \n",
        "        x = self.encoder.layer3(x) \n",
        "        self.features.append(x)\n",
        "        #print('layer3: ', x.shape)       \n",
        "        \n",
        "        x = self.encoder.layer4(x)\n",
        "        self.features.append(x)\n",
        "        #print('layer4: ', x.shape)\n",
        "        \n",
        "        x = F.avg_pool2d(x, self.poolSize)\n",
        "        #print('global pool: ', x.shape)\n",
        "        \n",
        "        x = x.view(x.size(0), -1)\n",
        "        #print('reshape: ', x.shape)\n",
        "        \n",
        "        if self.embDimension>0:\n",
        "            x = self.encoder.linear(x)\n",
        "        #print('final: ', x.shape)\n",
        "        return x\n",
        "    "
      ],
      "metadata": {
        "id": "Q2PtsPg2kmIY"
      },
      "execution_count": null,
      "outputs": []
    },
    {
      "cell_type": "code",
      "source": [
        "def build_max_model(kway_model_path): \n",
        "\n",
        "  resnet50 = ResnetEncoder(num_layers = 50, embDimension = -1, poolSize=2)\n",
        "  del resnet50.encoder.fc\n",
        "\n",
        "  state_dict = torch.load(kway_model_path)\n",
        "  new_keys = dict()\n",
        "  for k in list(state_dict.keys()): \n",
        "    new_keys[k] = \"encoder.\" + k\n",
        "  \n",
        "  modified_state_dict = dict((new_keys[key], value) for (key, value) in state_dict.items())\n",
        "\n",
        "  del modified_state_dict['encoder.fc.weight']\n",
        "  del modified_state_dict['encoder.fc.bias']\n",
        "\n",
        "  resnet50.load_state_dict(modified_state_dict)\n",
        "  resnet50.eval()\n",
        "\n",
        "  return resnet50\n",
        "\n",
        "# resnet50 = build_max_model(\"/content/drive/MyDrive/Unknown_Detection/Final_kWay10.pth\")\n",
        "resnet50 = build_max_model(\"/content/drive/MyDrive/Unknown_Detection/CIFAR50thepochOct3.pth\")\n",
        "\n",
        "# def build_max_model_18(kway_model_path): \n",
        "\n",
        "#   resnet18 = ResnetEncoder(embDimension = -1, poolSize=2)\n",
        "#   del resnet18.encoder.fc\n",
        "\n",
        "#   state_dict = torch.load(kway_model_path)\n",
        "#   new_keys = dict()\n",
        "#   for k in list(state_dict.keys()): \n",
        "#     new_keys[k] = \"encoder.\" + k\n",
        "  \n",
        "#   modified_state_dict = dict((new_keys[key], value) for (key, value) in state_dict.items())\n",
        "\n",
        "#   del modified_state_dict['encoder.fc.weight']\n",
        "#   del modified_state_dict['encoder.fc.bias']\n",
        "\n",
        "#   resnet18.load_state_dict(modified_state_dict)\n",
        "#   resnet18.eval()\n",
        "\n",
        "#   return resnet18\n",
        "\n",
        "# resnet18 = build_max_model(\"/content/drive/MyDrive/Unknown_Detection/Final_kWay50.pth\")"
      ],
      "metadata": {
        "id": "ip_rZBo2lZA6"
      },
      "execution_count": null,
      "outputs": []
    },
    {
      "cell_type": "markdown",
      "source": [
        "# Init Discriminator and Generator"
      ],
      "metadata": {
        "id": "th-DPmqLBFuW"
      }
    },
    {
      "cell_type": "code",
      "source": [
        "netG = Generator(ngpu=ngpu, nz=nz, ngf=ngf, nc=nc).to(device)\n",
        "netD = Discriminator().to(device)\n",
        "# netD = Discriminator(ngpu=ngpu, nc=nc, ndf=ndf).to(device)\n",
        "\n",
        "\n",
        "# Handle multi-gpu if desired\n",
        "if ('cuda' in device) and (ngpu > 1): \n",
        "    netD = nn.DataParallel(netD, list(range(ngpu)))\n",
        "\n",
        "# Apply the weights_init function to randomly initialize all weights\n",
        "#  to mean=0, stdev=0.2.\n",
        "netD.apply(weights_init)\n",
        "\n",
        "\n",
        "if ('cuda' in device) and (ngpu > 1):\n",
        "    netG = nn.DataParallel(netG, list(range(ngpu)))\n",
        "netG.apply(weights_init)\n",
        "\n",
        "print(device)"
      ],
      "metadata": {
        "colab": {
          "base_uri": "https://localhost:8080/"
        },
        "id": "gSe7690-BM0O",
        "outputId": "984976d0-58a8-4330-cdac-d38a1c0b5243"
      },
      "execution_count": null,
      "outputs": [
        {
          "output_type": "stream",
          "name": "stdout",
          "text": [
            "cuda\n"
          ]
        }
      ]
    },
    {
      "cell_type": "code",
      "source": [
        "noise = torch.randn(batch_size, nz, 1, 1, device=device)\n",
        "# Generate fake image batch with G\n",
        "fake = netG(noise)\n",
        "print(fake.size()) \n",
        "predLabel = netD(fake)\n",
        "\n",
        "print(noise.shape, fake.shape, predLabel.shape)"
      ],
      "metadata": {
        "colab": {
          "base_uri": "https://localhost:8080/"
        },
        "id": "FCY-gylPersI",
        "outputId": "e8d58ecc-ba96-4a89-c1c7-df424214e27f"
      },
      "execution_count": null,
      "outputs": [
        {
          "output_type": "stream",
          "name": "stdout",
          "text": [
            "torch.Size([64, 2048, 1, 1])\n",
            "torch.Size([64, 64, 1, 1]) torch.Size([64, 2048, 1, 1]) torch.Size([64, 1, 1, 1])\n"
          ]
        }
      ]
    },
    {
      "cell_type": "code",
      "source": [
        "# Initialize BCELoss function\n",
        "criterion = nn.BCELoss()\n",
        "\n",
        "# Create batch of latent vectors that we will use to visualize\n",
        "#  the progression of the generator\n",
        "fixed_noise = torch.randn(64, nz, 1, 1, device=device)\n",
        "\n",
        "# Establish open and close labels\n",
        "close_label = 1\n",
        "open_label = 0\n",
        "\n",
        "# Establish convention for real and fake labels during training\n",
        "real_label = 1\n",
        "fake_label = 0\n",
        "\n",
        "\n",
        "# Setup Adam optimizers for both G and D\n",
        "optimizerD = optim.Adam(netD.parameters(), lr=lr/1.5, betas=(beta1, 0.999))\n",
        "optimizerG = optim.Adam(netG.parameters(), lr=lr, betas=(beta1, 0.999))"
      ],
      "metadata": {
        "id": "Rav8UZ0qevGW"
      },
      "execution_count": null,
      "outputs": []
    },
    {
      "cell_type": "code",
      "source": [
        "from tarfile import XHDTYPE\n",
        "# Training Loop\n",
        "\n",
        "# Lists to keep track of progress\n",
        "lossList = []\n",
        "G_losses = []\n",
        "D_losses = []\n",
        "\n",
        "fake_BatchSize = int(ganBatchSize/2)\n",
        "open_BatchSize = ganBatchSize\n",
        "\n",
        "tmp_weights = torch.full((1,), 1, device=device).to(float)\n",
        "tmp_weights[-fake_BatchSize:] *= weight_adversarialLoss\n",
        "criterionD = nn.BCELoss(weight=tmp_weights)\n",
        "\n",
        "netG.to(device)\n",
        "netD.to(device) \n",
        "resnet50.to(device) \n",
        "\n",
        "print(\"Starting Training Loop...\")\n",
        "# For each epoch\n",
        "openPixImgCount = 0\n",
        "# openPix_sampler = iter(openPix_dataloader)\n",
        "for epoch in range(num_epochs):\n",
        "    print(\"New Epoch starting\")\n",
        "    # 32 is batch size for trainTinyImageNetLoader\n",
        "    train_OpenSetSVHNLoader_iter = iter(train_OpenSetSVHNLoader)\n",
        "    # For each batch in the dataloader\n",
        "    for i, (images, labels) in enumerate(trainTinyImageNetLoader):\n",
        "      # Trained Closed CIFAR is smaller than open SVHN\n",
        "      open_images, open_labels = next(train_OpenSetSVHNLoader_iter)\n",
        "      labels = torch.ones(*labels.size())\n",
        "\n",
        "      ''' ADDED CODE'''\n",
        "      noise_images = torch.from_numpy(np.random.normal(0, 1, size = (16, 3, 32, 32,))).float()\n",
        "      noise_labels = open_labels.clone()\n",
        "      \n",
        "      images = torch.cat((images, noise_images), dim = 0)\n",
        "      labels = torch.cat((labels, noise_labels), dim = 0)\n",
        "      '''END'''\n",
        "      images = torch.cat((images, open_images), dim = 0)\n",
        "      labels = torch.cat((labels, open_labels), dim = 0)\n",
        "\n",
        "      images = images.to(device)\n",
        "      labels = labels.to(device)\n",
        "\n",
        "      # Features to K Way classification Model (6 way classification) backbone \n",
        "      image_features = resnet50(images)[:, :, None, None]\n",
        "\n",
        "      # generate fake images      \n",
        "      noise = torch.randn(fake_BatchSize, nz, 1, 1, device=device)\n",
        "      # Generate fake image batch with G\n",
        "      label_fake = torch.full((fake_BatchSize,), fake_label, device=device)\n",
        "      feat_fakeset = netG(noise)\n",
        "\n",
        "      X = torch.cat((image_features, feat_fakeset), 0)\n",
        "      label_total = F.pad(labels, pad = (0, int(ganBatchSize/2)), mode = 'constant', value = 0)[:, None, None]\n",
        "\n",
        "\n",
        "      # X2label = list(zip(X, label_total))\n",
        "      # random.shuffle(X2label)\n",
        "\n",
        "      # X, label_total = list(zip(*X2label))\n",
        "      # X, label_total = list(X), list(label_total)\n",
        "      # X = torch.stack(X)\n",
        "      # label_total = torch.stack(label_total)[:, None, None]\n",
        "\n",
        "      ############################\n",
        "      # (1) Update D network: maximize log(D(x)) + log(1 - D(G(z)))\n",
        "      ###########################\n",
        "      # using close&open&fake data to update D\n",
        "      netD.zero_grad()\n",
        "      output = netD(X).squeeze(-1)\n",
        "\n",
        "      # output = torch.sigmoid(output)\n",
        "      lossD = criterionD(output, label_total.float())\n",
        "      lossD.backward(retain_graph=True)\n",
        "      optimizerD.step()\n",
        "      errD = lossD.mean().item()      \n",
        "          \n",
        "          \n",
        "      ############################\n",
        "      # (2) Update G network: maximize log(D(G(z)))\n",
        "      ###########################\n",
        "      netG.zero_grad()\n",
        "      label_fakeclose = torch.full((fake_BatchSize,), close_label, device=device)  \n",
        "\n",
        "      # Since we just updated D, perform another forward pass of all-fake batch through D\n",
        "      output = netD(feat_fakeset).view(-1)\n",
        "      # output = torch.sigmoid(output)\n",
        "\n",
        "      # Calculate G's loss based on this output\n",
        "      lossG = criterion(output, label_fakeclose.float())\n",
        "      # Calculate gradients for G\n",
        "      lossG.backward()\n",
        "      errG = lossG.mean().item()\n",
        "      # Update G\n",
        "      optimizerG.step()\n",
        "          \n",
        "      # Save Losses for plotting later\n",
        "      G_losses.append(errG)\n",
        "      D_losses.append(errD)\n",
        "      \n",
        "      \n",
        "      # Output training stats\n",
        "      if i % 100 == 0:\n",
        "          print('[%d/%d][%d/%d]\\t\\tlossG: %.4f, lossD: %.4f'\n",
        "                % (epoch, num_epochs, i, len(train_OpenSetSVHNLoader), \n",
        "                    errG, errD))\n",
        "            \n",
        "            \n",
        "    cur_model_wts = copy.deepcopy(netD.state_dict())\n",
        "    path_to_save_paramOnly = os.path.join(save_dir, 'epoch-{}.classifier'.format(epoch+1))\n",
        "    torch.save(cur_model_wts, path_to_save_paramOnly)\n",
        "    cur_model_wts = copy.deepcopy(netG.state_dict())\n",
        "    path_to_save_paramOnly = os.path.join(save_dir, 'epoch-{}.GNet'.format(epoch+1))\n",
        "    torch.save(cur_model_wts, path_to_save_paramOnly)"
      ],
      "metadata": {
        "id": "RvWKgVZ_e2dg"
      },
      "execution_count": null,
      "outputs": []
    },
    {
      "cell_type": "markdown",
      "source": [
        "# Evaluate OpenGAN Discriminator"
      ],
      "metadata": {
        "id": "-wCPnV7qFegv"
      }
    },
    {
      "cell_type": "code",
      "source": [
        "# Load Trained Discriminator\n",
        "\n",
        "def load_discriminator(model_path): \n",
        "  discriminator = Discriminator()\n",
        "  state_dict = torch.load(model_path)\n",
        "  discriminator.load_state_dict(state_dict)\n",
        "  discriminator.eval()\n",
        "  discriminator.to(device) \n",
        "\n",
        "  return discriminator \n"
      ],
      "metadata": {
        "id": "UFCCzN-0Fg5X"
      },
      "execution_count": null,
      "outputs": []
    },
    {
      "cell_type": "code",
      "source": [
        "def evaluate_bn_roc_pr(dis_model_path, kway_model_path, openDataset, closedDataset):\n",
        "\n",
        "  disc = load_discriminator(dis_model_path)\n",
        "  kway = build_max_model(kway_model_path)\n",
        "\n",
        "  openDataLoader = torch.utils.data.DataLoader(openDataset, batch_size = 32, shuffle = True)\n",
        "  closedDataLoader = torch.utils.data.DataLoader(closedDataset, batch_size = 32, shuffle = True)\n",
        "\n",
        "  if len(openDataset) > len(closedDataset): \n",
        "    for_loop_loader = \"closedDataLoader\"\n",
        "    iter_loader = \"openDataLoader\"\n",
        "  else: \n",
        "    for_loop_loader = \"openDataLoader\"\n",
        "    iter_loader = \"closedDataLoader\"\n",
        "  \n",
        "  print(\"For Loop Loader is {}\".format(for_loop_loader))\n",
        "  print(\"Iter Loop Loader is {}\".format(iter_loader))\n",
        "\n",
        "  '''Only will find ROC and PR Metrics'''\n",
        "\n",
        "  disc = disc.cuda()\n",
        "  kway = kway.cuda()\n",
        "\n",
        "  stacked_outs = list()\n",
        "  stacked_targets = list()\n",
        "\n",
        "  dateiter = iter(eval(iter_loader))\n",
        "  for for_data, for_targets in tqdm(eval(for_loop_loader)): \n",
        "      iter_data, iter_targets = next(dateiter)\n",
        "      if for_loop_loader==\"closedDataLoader\": \n",
        "        for_targets = torch.ones(*for_targets.size())\n",
        "        iter_targets = torch.zeros(*iter_targets.size())\n",
        "      else: \n",
        "        for_targets = torch.zeros(*for_targets.size())\n",
        "        iter_targets = torch.ones(*iter_targets.size())\n",
        "      iter_data, iter_targets = iter_data.cuda(), iter_targets.cuda()\n",
        "      for_data, for_targets = for_data.cuda(), for_targets.cuda()\n",
        "      \n",
        "      data = torch.cat((iter_data, for_data), 0)\n",
        "      target = torch.cat((iter_targets, for_targets), 0)\n",
        "\n",
        "      disc.eval()\n",
        "\n",
        "      #forward\n",
        "      x_feat = kway(data.float())[:, :, None, None]\n",
        "      out = disc(x_feat)\n",
        "      out = out.view(-1)\n",
        "\n",
        "      assert out.size(0) == target.size(0)\n",
        "\n",
        "      stacked_outs.extend(out.tolist()) \n",
        "      stacked_targets.extend(target.tolist()) # Only 0's and 1's\n",
        "  \n",
        "  roc_measure = roc(stacked_outs, stacked_targets)['auc'] * 100\n",
        "  pr_measure = pr(stacked_outs, stacked_targets)['auc'] * 100\n",
        "\n",
        "  print(\"\\n\")\n",
        "  print(\"ROC AU value: {}%\".format(roc_measure))\n",
        "  print(\"PR AU value: {}%\".format(pr_measure))\n",
        "\n",
        "  return roc_measure, pr_measure"
      ],
      "metadata": {
        "id": "PeHUBq_2F_4m"
      },
      "execution_count": null,
      "outputs": []
    },
    {
      "cell_type": "code",
      "source": [
        "test_OpenSetSVHN = OpenSetSVHN(torch.from_numpy(svhn_OEtestset.data), torch.from_numpy(svhn_OEtestset.labels), test_transform)"
      ],
      "metadata": {
        "colab": {
          "base_uri": "https://localhost:8080/"
        },
        "id": "gdZs_Pb9b7SS",
        "outputId": "5e9d9042-5fd9-47aa-cbce-148264052b02"
      },
      "execution_count": null,
      "outputs": [
        {
          "output_type": "stream",
          "name": "stdout",
          "text": [
            "Len of Entire Dataset 26032\n"
          ]
        }
      ]
    },
    {
      "cell_type": "code",
      "source": [
        "testset_OpenSetCIFAR = CIFAR10(root='./data', train=False, download=True)"
      ],
      "metadata": {
        "colab": {
          "base_uri": "https://localhost:8080/"
        },
        "id": "jG_WShAoHm7E",
        "outputId": "613b1272-c3e5-4d64-aa8d-928e7548fcc7"
      },
      "execution_count": null,
      "outputs": [
        {
          "output_type": "stream",
          "name": "stdout",
          "text": [
            "Files already downloaded and verified\n"
          ]
        }
      ]
    },
    {
      "cell_type": "code",
      "source": [
        "from torchvision.datasets import EuroSAT\n",
        "test_OpenSetEuroSAT = EuroSAT(root = './data', download = True)"
      ],
      "metadata": {
        "colab": {
          "base_uri": "https://localhost:8080/",
          "height": 85,
          "referenced_widgets": [
            "0997a376d1784d48bb5f8f551e0d2e05",
            "69768dc8abe34e37a89d1cce73ec64e4",
            "2858fb38609c4196b22619e4141177be",
            "406586e92c854e50bee9d1a2a2606649",
            "bb4e7fb6a6df47e58aba95e417b278e5",
            "7d7d1cf0cc6b4d43b108664781e2d88b",
            "700eb767f6974cfe9e049fbf2a07647f",
            "a9b7c7d391af48e189c2dc870b23516a",
            "d4d8f7a47c434e76badd312b6d7c90d8",
            "df1cb59c080d4aa4b45531a1bc2e25ae",
            "2309a99e01b84ba99443250d84277131"
          ]
        },
        "id": "xXKBFoX6Hr--",
        "outputId": "e2d37347-38ce-4abe-e0c8-38b2b786aaf5"
      },
      "execution_count": null,
      "outputs": [
        {
          "output_type": "stream",
          "name": "stdout",
          "text": [
            "Downloading https://madm.dfki.de/files/sentinel/EuroSAT.zip to ./data/eurosat/EuroSAT.zip\n"
          ]
        },
        {
          "output_type": "display_data",
          "data": {
            "text/plain": [
              "  0%|          | 0/94280567 [00:00<?, ?it/s]"
            ],
            "application/vnd.jupyter.widget-view+json": {
              "version_major": 2,
              "version_minor": 0,
              "model_id": "0997a376d1784d48bb5f8f551e0d2e05"
            }
          },
          "metadata": {}
        },
        {
          "output_type": "stream",
          "name": "stdout",
          "text": [
            "Extracting ./data/eurosat/EuroSAT.zip to ./data/eurosat\n"
          ]
        }
      ]
    },
    {
      "cell_type": "markdown",
      "source": [
        "# Could be massively overfitting need to check on other validations"
      ],
      "metadata": {
        "id": "Jd8-ZauBj6KK"
      }
    },
    {
      "cell_type": "code",
      "source": [
        "evaluate_bn_roc_pr(\"/content/drive/MyDrive/Unknown_Detection/OPenGANTestTinyImageNetNotPretrainedSep5th.classifier\", \n",
        "                   \"/content/drive/MyDrive/Unknown_Detection/50EpochsFullTrainTinyImageNetAug27th.pth\", \n",
        "                   test_OpenSetMNIST, testTinyImageNet)"
      ],
      "metadata": {
        "colab": {
          "base_uri": "https://localhost:8080/"
        },
        "id": "dUgenpu0forh",
        "outputId": "d388a31a-2f53-4048-cde6-031af358d990"
      },
      "execution_count": null,
      "outputs": [
        {
          "output_type": "stream",
          "name": "stdout",
          "text": [
            "For Loop Loader is closedDataLoader\n",
            "Iter Loop Loader is openDataLoader\n"
          ]
        },
        {
          "output_type": "stream",
          "name": "stderr",
          "text": [
            "100%|██████████| 282/282 [00:14<00:00, 18.98it/s]\n"
          ]
        },
        {
          "output_type": "stream",
          "name": "stdout",
          "text": [
            "\n",
            "\n",
            "ROC AU value: 33.79420003447596%\n",
            "PR AU value: 46.475967846128235%\n"
          ]
        },
        {
          "output_type": "execute_result",
          "data": {
            "text/plain": [
              "(33.79420003447596, 46.475967846128235)"
            ]
          },
          "metadata": {},
          "execution_count": 29
        }
      ]
    },
    {
      "cell_type": "code",
      "source": [
        "# euro_dataset\n",
        "import cv2\n",
        "evaluate_bn_roc_pr(\"/content/drive/MyDrive/Unknown_Detection/OPenGANTestTinyImageNetNotPretrainedSep5th.classifier\", \n",
        "                   \"/content/drive/MyDrive/Unknown_Detection/50EpochsFullTrainTinyImageNetAug27th.pth\", \n",
        "                   euro_dataset, testTinyImageNet)"
      ],
      "metadata": {
        "colab": {
          "base_uri": "https://localhost:8080/"
        },
        "id": "wRcNQfD8zLVq",
        "outputId": "c81fe10e-ef8d-4fe4-bdbc-7d8e24e3acb9"
      },
      "execution_count": null,
      "outputs": [
        {
          "output_type": "stream",
          "name": "stdout",
          "text": [
            "For Loop Loader is closedDataLoader\n",
            "Iter Loop Loader is openDataLoader\n"
          ]
        },
        {
          "output_type": "stream",
          "name": "stderr",
          "text": [
            "100%|██████████| 282/282 [00:15<00:00, 18.11it/s]"
          ]
        },
        {
          "output_type": "stream",
          "name": "stdout",
          "text": [
            "\n",
            "\n",
            "ROC AU value: 92.43709613869189%\n",
            "PR AU value: 92.38217617458508%\n"
          ]
        },
        {
          "output_type": "stream",
          "name": "stderr",
          "text": [
            "\n"
          ]
        },
        {
          "output_type": "execute_result",
          "data": {
            "text/plain": [
              "(92.43709613869189, 92.38217617458508)"
            ]
          },
          "metadata": {},
          "execution_count": 31
        }
      ]
    },
    {
      "cell_type": "code",
      "source": [
        "evaluate_bn_roc_pr(\"/content/OpenGAN/exp/demo_step030_OpenGAN_num1000_w0.20/epoch-20.classifier\", \n",
        "                   \"/content/drive/MyDrive/Unknown_Detection/50EpochsFullTrainTinyImageNetAug27th.pth\", \n",
        "                   test_OpenSetSVHN, testTinyImageNet)"
      ],
      "metadata": {
        "id": "XyS4ENZsGEnC",
        "colab": {
          "base_uri": "https://localhost:8080/"
        },
        "outputId": "e71976b2-d57b-4cbd-f2ba-a9f141bbd45b"
      },
      "execution_count": null,
      "outputs": [
        {
          "output_type": "stream",
          "name": "stdout",
          "text": [
            "For Loop Loader is closedDataLoader\n",
            "Iter Loop Loader is openDataLoader\n"
          ]
        },
        {
          "output_type": "stream",
          "name": "stderr",
          "text": [
            "100%|██████████| 282/282 [00:13<00:00, 20.23it/s]"
          ]
        },
        {
          "output_type": "stream",
          "name": "stdout",
          "text": [
            "\n",
            "\n",
            "ROC AU value: 99.965035214736%\n",
            "PR AU value: 99.96569362127879%\n"
          ]
        },
        {
          "output_type": "stream",
          "name": "stderr",
          "text": [
            "\n"
          ]
        },
        {
          "output_type": "execute_result",
          "data": {
            "text/plain": [
              "(99.965035214736, 99.96569362127879)"
            ]
          },
          "metadata": {},
          "execution_count": 24
        }
      ]
    },
    {
      "cell_type": "code",
      "source": [
        "evaluate_bn_roc_pr(\"/content/OpenGAN/exp/demo_step030_OpenGAN_num1000_w0.20/epoch-20.classifier\", \n",
        "                   \"/content/drive/MyDrive/Unknown_Detection/50KWayModelAugust21.pth\", \n",
        "                   test_closedset_CIFAR, testTinyImageNet)"
      ],
      "metadata": {
        "colab": {
          "base_uri": "https://localhost:8080/"
        },
        "id": "otsFRPsEt8dZ",
        "outputId": "6fc34adc-833f-419d-9f36-10b945b470e5"
      },
      "execution_count": null,
      "outputs": [
        {
          "output_type": "stream",
          "name": "stdout",
          "text": [
            "For Loop Loader is openDataLoader\n",
            "Iter Loop Loader is closedDataLoader\n"
          ]
        },
        {
          "output_type": "stream",
          "name": "stderr",
          "text": [
            "100%|██████████| 188/188 [00:08<00:00, 23.07it/s]"
          ]
        },
        {
          "output_type": "stream",
          "name": "stdout",
          "text": [
            "\n",
            "\n",
            "ROC AU value: 89.08872866799645%\n",
            "PR AU value: 86.23262546060755%\n"
          ]
        },
        {
          "output_type": "stream",
          "name": "stderr",
          "text": [
            "\n"
          ]
        },
        {
          "output_type": "execute_result",
          "data": {
            "text/plain": [
              "(89.08872866799645, 86.23262546060755)"
            ]
          },
          "metadata": {},
          "execution_count": 29
        }
      ]
    },
    {
      "cell_type": "code",
      "source": [
        "evaluate_bn_roc_pr(\"/content/OpenGAN/exp/demo_step030_OpenGAN_num1000_w0.20/epoch-20.classifier\", \n",
        "                   \"/content/drive/MyDrive/Unknown_Detection/Final_kWay10.pth\", \n",
        "                   test_closedset_CIFAR, testTinyImageNet)"
      ],
      "metadata": {
        "colab": {
          "base_uri": "https://localhost:8080/"
        },
        "id": "xDeSPcvgiblJ",
        "outputId": "cebc5d53-5874-4439-eaaf-75f62f9e646e"
      },
      "execution_count": null,
      "outputs": [
        {
          "output_type": "stream",
          "name": "stdout",
          "text": [
            "For Loop Loader is openDataLoader\n",
            "Iter Loop Loader is closedDataLoader\n"
          ]
        },
        {
          "output_type": "stream",
          "name": "stderr",
          "text": [
            "100%|██████████| 188/188 [00:08<00:00, 22.03it/s]"
          ]
        },
        {
          "output_type": "stream",
          "name": "stdout",
          "text": [
            "\n",
            "\n",
            "ROC AU value: 55.60331477171986%\n",
            "PR AU value: 55.87801505132166%\n"
          ]
        },
        {
          "output_type": "stream",
          "name": "stderr",
          "text": [
            "\n"
          ]
        },
        {
          "output_type": "execute_result",
          "data": {
            "text/plain": [
              "(55.60331477171986, 55.87801505132166)"
            ]
          },
          "metadata": {},
          "execution_count": 31
        }
      ]
    },
    {
      "cell_type": "code",
      "source": [
        "evaluate_bn_roc_pr(\"/content/OpenGAN/exp/demo_step030_OpenGAN_num1000_w0.20/epoch-15.classifier\", \n",
        "                   \"/content/drive/MyDrive/Unknown_Detection/Final_kWay10.pth\", \n",
        "                   heavy_Transforms_CIFAR, testTinyImageNet)"
      ],
      "metadata": {
        "colab": {
          "base_uri": "https://localhost:8080/"
        },
        "id": "x6hoyb37N8KC",
        "outputId": "27d4a91e-2a1a-4c1e-c897-9e2956d9aa80"
      },
      "execution_count": null,
      "outputs": [
        {
          "output_type": "stream",
          "name": "stdout",
          "text": [
            "For Loop Loader is closedDataLoader\n",
            "Iter Loop Loader is openDataLoader\n"
          ]
        },
        {
          "output_type": "stream",
          "name": "stderr",
          "text": [
            "100%|██████████| 282/282 [01:17<00:00,  3.66it/s]"
          ]
        },
        {
          "output_type": "stream",
          "name": "stdout",
          "text": [
            "\n",
            "\n",
            "ROC AU value: 84.7548721926714%\n",
            "PR AU value: 86.37322143721642%\n"
          ]
        },
        {
          "output_type": "stream",
          "name": "stderr",
          "text": [
            "\n"
          ]
        },
        {
          "output_type": "execute_result",
          "data": {
            "text/plain": [
              "(84.7548721926714, 86.37322143721642)"
            ]
          },
          "metadata": {},
          "execution_count": 71
        }
      ]
    },
    {
      "cell_type": "code",
      "source": [
        "evaluate_bn_roc_pr(\"/content/OpenGAN/exp/demo_step030_OpenGAN_num1000_w0.20/epoch-13.classifier\", \n",
        "                   \"/content/drive/MyDrive/Unknown_Detection/Final_kWay10.pth\", \n",
        "                   test_OpenSetMNIST, testTinyImageNet)"
      ],
      "metadata": {
        "colab": {
          "base_uri": "https://localhost:8080/"
        },
        "id": "j4nKdw95gM9g",
        "outputId": "c7074e62-7915-4e6a-84b5-6d8d647948a8"
      },
      "execution_count": null,
      "outputs": [
        {
          "output_type": "stream",
          "name": "stdout",
          "text": [
            "For Loop Loader is closedDataLoader\n",
            "Iter Loop Loader is openDataLoader\n"
          ]
        },
        {
          "output_type": "stream",
          "name": "stderr",
          "text": [
            "100%|██████████| 1125/1125 [00:24<00:00, 46.33it/s]\n"
          ]
        },
        {
          "output_type": "stream",
          "name": "stdout",
          "text": [
            "\n",
            "\n",
            "ROC AU value: 79.29610555555556%\n",
            "PR AU value: 82.38180214732527%\n"
          ]
        },
        {
          "output_type": "execute_result",
          "data": {
            "text/plain": [
              "(79.29610555555556, 82.38180214732527)"
            ]
          },
          "metadata": {},
          "execution_count": 35
        }
      ]
    },
    {
      "cell_type": "code",
      "source": [
        "evaluate_bn_roc_pr(\"/content/OpenGAN/exp/demo_step030_OpenGAN_num1000_w0.20/epoch-13.classifier\", \n",
        "                   \"/content/drive/MyDrive/Unknown_Detection/Final_kWay10.pth\", \n",
        "                   test_OpenSetMNIST, testTinyImageNet)"
      ],
      "metadata": {
        "colab": {
          "base_uri": "https://localhost:8080/"
        },
        "id": "bqXyN4xyuc4N",
        "outputId": "c548f3f7-e7b3-4cb4-9d09-d6bf3d70c3af"
      },
      "execution_count": null,
      "outputs": [
        {
          "output_type": "stream",
          "name": "stdout",
          "text": [
            "For Loop Loader is closedDataLoader\n",
            "Iter Loop Loader is openDataLoader\n"
          ]
        },
        {
          "output_type": "stream",
          "name": "stderr",
          "text": [
            "100%|██████████| 1125/1125 [00:31<00:00, 35.29it/s]\n"
          ]
        },
        {
          "output_type": "stream",
          "name": "stdout",
          "text": [
            "\n",
            "\n",
            "ROC AU value: 79.6186574074074%\n",
            "PR AU value: 82.65972034942249%\n"
          ]
        },
        {
          "output_type": "execute_result",
          "data": {
            "text/plain": [
              "(79.6186574074074, 82.65972034942249)"
            ]
          },
          "metadata": {},
          "execution_count": 46
        }
      ]
    },
    {
      "cell_type": "code",
      "source": [],
      "metadata": {
        "id": "2W-vVZQrucJn"
      },
      "execution_count": null,
      "outputs": []
    },
    {
      "cell_type": "code",
      "source": [
        "evaluate_bn_roc_pr(\"/content/OpenGAN/exp/demo_step030_OpenGAN_num1000_w0.20/epoch-10.classifier\", \n",
        "                   \"/content/drive/MyDrive/Unknown_Detection/Final_kWay50.pth\", \n",
        "                   test_OpenSetMNIST, testTinyImageNet)"
      ],
      "metadata": {
        "colab": {
          "base_uri": "https://localhost:8080/"
        },
        "id": "dqGRjs6GiGka",
        "outputId": "dc591a86-7334-4c73-e373-634999722247"
      },
      "execution_count": null,
      "outputs": [
        {
          "output_type": "stream",
          "name": "stdout",
          "text": [
            "For Loop Loader is closedDataLoader\n",
            "Iter Loop Loader is openDataLoader\n"
          ]
        },
        {
          "output_type": "stream",
          "name": "stderr",
          "text": [
            "100%|██████████| 563/563 [00:13<00:00, 42.91it/s]\n"
          ]
        },
        {
          "output_type": "stream",
          "name": "stdout",
          "text": [
            "\n",
            "\n",
            "ROC AU value: 31.609109803631334%\n",
            "PR AU value: 44.063480140476116%\n"
          ]
        },
        {
          "output_type": "execute_result",
          "data": {
            "text/plain": [
              "(31.609109803631334, 44.063480140476116)"
            ]
          },
          "metadata": {},
          "execution_count": 83
        }
      ]
    },
    {
      "cell_type": "code",
      "source": [
        "test_OpenSetMNIST = OpenSetSVHN(mnist_OEtestset.data, mnist_OEtestset.targets, test_transform, MNIST = True)\n",
        "# train_OpenSetSVHNLoader = torch.utils.data.DataLoader(train_OpenSetSVHN, batch_size = 16, shuffle = True)"
      ],
      "metadata": {
        "colab": {
          "base_uri": "https://localhost:8080/"
        },
        "id": "PpD5uVkVLJBc",
        "outputId": "4b0fbf44-e2a1-4413-f4a2-7009bdabd3f8"
      },
      "execution_count": null,
      "outputs": [
        {
          "output_type": "stream",
          "name": "stdout",
          "text": [
            "Len of Entire Dataset 10000\n"
          ]
        }
      ]
    },
    {
      "cell_type": "code",
      "source": [
        "plt.imshow(train_OpenSetMNIST[0][0].permute(1, 2, 0) * 255)"
      ],
      "metadata": {
        "colab": {
          "base_uri": "https://localhost:8080/",
          "height": 302
        },
        "id": "_jQqJoJpMZ9D",
        "outputId": "9adf2443-0a43-42b9-ba56-02b3fccb44f1"
      },
      "execution_count": null,
      "outputs": [
        {
          "output_type": "stream",
          "name": "stderr",
          "text": [
            "WARNING:matplotlib.image:Clipping input data to the valid range for imshow with RGB data ([0..1] for floats or [0..255] for integers).\n"
          ]
        },
        {
          "output_type": "execute_result",
          "data": {
            "text/plain": [
              "<matplotlib.image.AxesImage at 0x7fe894a21950>"
            ]
          },
          "metadata": {},
          "execution_count": 28
        },
        {
          "output_type": "display_data",
          "data": {
            "text/plain": [
              "<Figure size 432x288 with 1 Axes>"
            ],
            "image/png": "[encoded data removed]"
          },
          "metadata": {
            "needs_background": "light"
          }
        }
      ]
    },
    {
      "cell_type": "code",
      "source": [
        "[-1]"
      ],
      "metadata": {
        "id": "1cDZv0ivM2yN"
      },
      "execution_count": null,
      "outputs": []
    },
    {
      "cell_type": "code",
      "source": [
        "class SplitCIFAR(torch.utils.data.Dataset):\n",
        "    def __init__(self, data, targets, split, mode, transformFunc, iaa_compat = False, rain = False):\n",
        "        \"\"\"\n",
        "        datasets: a list of get_class_i outputs, i.e. a list of list of images for selected classes\n",
        "        \"\"\"\n",
        "        img2targets = list(zip(data, targets))\n",
        "        self.data = list()\n",
        "        self.iaa_compat = iaa_compat\n",
        "        self.rain = rain\n",
        "\n",
        "        if mode == \"train\": \n",
        "          for v in img2targets:\n",
        "            _, target = v\n",
        "            if target < split: \n",
        "              self.data.append(v)\n",
        "        elif mode == \"test\": \n",
        "          for v in img2targets: \n",
        "            _, target = v \n",
        "            if target >= split: \n",
        "              self.data.append(v)\n",
        "        else: \n",
        "          raise ValueError(\"Not a mode\")\n",
        "        \n",
        "        self.transformFunc = transformFunc\n",
        "\n",
        "        if self.iaa_compat: \n",
        "          self.contents = [\"UNSEEN\"] * (len(self.data) // 2)\n",
        "          left = len(self.data) - len(self.contents)\n",
        "          self.contents.extend(([\"SEEN\"] * left))\n",
        "\n",
        "          assert len(self.contents) == len(self.data)\n",
        "\n",
        "          self.normal_transform = transforms.Compose([\n",
        "                                                      transforms.ToPILImage(), \n",
        "                                                      transforms.ToTensor(), \n",
        "                                                      transforms.Normalize(mean, std)])                             \n",
        "    def __getitem__(self, i):\n",
        "       img, target = self.data[i]\n",
        "       if self.iaa_compat: \n",
        "         if self.contents[i] == \"UNSEEN\":\n",
        "           img = self.transformFunc(image = img)\n",
        "           target = torch.tensor(0, dtype = int)\n",
        "         else: \n",
        "           '''SEEN data'''\n",
        "           if self.rain: \n",
        "             img = self.transformFunc(image = img)\n",
        "           target = torch.tensor(1, dtype = int)\n",
        "\n",
        "         img = self.normal_transform(img)\n",
        "         return img, target \n",
        "       else: \n",
        "         img = self.transformFunc(img)\n",
        "         return img, target\n",
        "\n",
        "    def __len__(self):\n",
        "        return len(self.data)\n",
        "\n",
        "batch_size = 32\n",
        "\n",
        "split = 6\n",
        "testset = CIFAR10(root='./data', train=False, download=True)\n",
        "test_transform = transforms.Compose([\n",
        "    transforms.ToPILImage(), \n",
        "    transforms.ToTensor(), \n",
        "    transforms.Normalize(mean, std)\n",
        "])\n",
        "test_closedset_CIFAR = SplitCIFAR(testset.data, testset.targets, split, \"train\", test_transform)\n",
        "len(test_closedset_CIFAR)"
      ],
      "metadata": {
        "colab": {
          "base_uri": "https://localhost:8080/"
        },
        "id": "bp_I0oTtjNKj",
        "outputId": "b153985a-3b5c-4e88-a0f8-5096cf379d83"
      },
      "execution_count": null,
      "outputs": [
        {
          "output_type": "stream",
          "name": "stdout",
          "text": [
            "Files already downloaded and verified\n"
          ]
        },
        {
          "output_type": "execute_result",
          "data": {
            "text/plain": [
              "6000"
            ]
          },
          "metadata": {},
          "execution_count": 33
        }
      ]
    },
    {
      "cell_type": "code",
      "source": [
        "!pip install git+https://github.com/aleju/imgaug.git\n",
        "import imgaug.augmenters as iaa"
      ],
      "metadata": {
        "colab": {
          "base_uri": "https://localhost:8080/"
        },
        "id": "SqrBu30Xl-my",
        "outputId": "708cb7ba-3d14-4d53-9728-b9e8ec87db29"
      },
      "execution_count": null,
      "outputs": [
        {
          "output_type": "stream",
          "name": "stdout",
          "text": [
            "Looking in indexes: https://pypi.org/simple, https://us-python.pkg.dev/colab-wheels/public/simple/\n",
            "Collecting git+https://github.com/aleju/imgaug.git\n",
            "  Cloning https://github.com/aleju/imgaug.git to /tmp/pip-req-build-yugtuhm_\n",
            "  Running command git clone -q https://github.com/aleju/imgaug.git /tmp/pip-req-build-yugtuhm_\n",
            "Requirement already satisfied: six in /usr/local/lib/python3.7/dist-packages (from imgaug==0.4.0) (1.15.0)\n",
            "Requirement already satisfied: numpy>=1.15 in /usr/local/lib/python3.7/dist-packages (from imgaug==0.4.0) (1.21.6)\n",
            "Requirement already satisfied: scipy in /usr/local/lib/python3.7/dist-packages (from imgaug==0.4.0) (1.7.3)\n",
            "Requirement already satisfied: Pillow in /usr/local/lib/python3.7/dist-packages (from imgaug==0.4.0) (7.1.2)\n",
            "Requirement already satisfied: matplotlib in /usr/local/lib/python3.7/dist-packages (from imgaug==0.4.0) (3.2.2)\n",
            "Requirement already satisfied: scikit-image>=0.14.2 in /usr/local/lib/python3.7/dist-packages (from imgaug==0.4.0) (0.18.3)\n",
            "Requirement already satisfied: opencv-python in /usr/local/lib/python3.7/dist-packages (from imgaug==0.4.0) (4.6.0.66)\n",
            "Requirement already satisfied: Shapely in /usr/local/lib/python3.7/dist-packages (from imgaug==0.4.0) (1.8.2)\n",
            "Requirement already satisfied: imageio in /usr/local/lib/python3.7/dist-packages (from imgaug==0.4.0) (2.4.1)\n",
            "Requirement already satisfied: networkx>=2.0 in /usr/local/lib/python3.7/dist-packages (from scikit-image>=0.14.2->imgaug==0.4.0) (2.6.3)\n",
            "Requirement already satisfied: PyWavelets>=1.1.1 in /usr/local/lib/python3.7/dist-packages (from scikit-image>=0.14.2->imgaug==0.4.0) (1.3.0)\n",
            "Requirement already satisfied: tifffile>=2019.7.26 in /usr/local/lib/python3.7/dist-packages (from scikit-image>=0.14.2->imgaug==0.4.0) (2021.11.2)\n",
            "Requirement already satisfied: pyparsing!=2.0.4,!=2.1.2,!=2.1.6,>=2.0.1 in /usr/local/lib/python3.7/dist-packages (from matplotlib->imgaug==0.4.0) (3.0.9)\n",
            "Requirement already satisfied: python-dateutil>=2.1 in /usr/local/lib/python3.7/dist-packages (from matplotlib->imgaug==0.4.0) (2.8.2)\n",
            "Requirement already satisfied: kiwisolver>=1.0.1 in /usr/local/lib/python3.7/dist-packages (from matplotlib->imgaug==0.4.0) (1.4.4)\n",
            "Requirement already satisfied: cycler>=0.10 in /usr/local/lib/python3.7/dist-packages (from matplotlib->imgaug==0.4.0) (0.11.0)\n",
            "Requirement already satisfied: typing-extensions in /usr/local/lib/python3.7/dist-packages (from kiwisolver>=1.0.1->matplotlib->imgaug==0.4.0) (4.1.1)\n"
          ]
        }
      ]
    },
    {
      "cell_type": "code",
      "source": [
        "transforms_noisyOE = iaa.Sequential([\n",
        "    iaa.Fliplr(0.5),\n",
        "    iaa.pillike.EnhanceContrast(), \n",
        "    iaa.GaussianBlur(sigma=(0.1, 2)), \n",
        "    iaa.Rain(speed=(0.1, 0.3))\n",
        "])\n",
        "\n",
        "heavy_Transforms_CIFAR = SplitCIFAR(testset.data, testset.targets, 10, \"train\", transforms_noisyOE, iaa_compat = True, rain = True)\n",
        "closed_set_heavy_TransformsLoader = torch.utils.data.DataLoader(heavy_Transforms_CIFAR, batch_size = batch_size, shuffle = True)\n",
        "\n",
        "noiseRegIter = iter(closed_set_heavy_TransformsLoader)\n",
        "imgs, targets = next(noiseRegIter)\n",
        "imgs = imgs.float()\n",
        "imgs -= imgs.min()\n",
        "imgs /= imgs.max()\n",
        "\n",
        "fig = plt.figure(figsize=(25, 4))\n",
        "for idx in np.arange(5):\n",
        "  ax = fig.add_subplot(2, 16/2, idx+1, xticks=[], yticks=[])\n",
        "  plt.imshow(np.transpose(imgs[idx], (1, 2, 0)))\n",
        "  ax.set_title(mixed_classes[targets[idx]])\n",
        "  ax = fig.add_subplot(2, 16/2, idx+1, xticks=[], yticks=[])"
      ],
      "metadata": {
        "colab": {
          "base_uri": "https://localhost:8080/",
          "height": 149
        },
        "id": "y16-Hi_nl_ML",
        "outputId": "269e351e-b116-4825-cfb4-f41a7c9f54c2"
      },
      "execution_count": null,
      "outputs": [
        {
          "output_type": "display_data",
          "data": {
            "text/plain": [
              "<Figure size 1800x288 with 5 Axes>"
            ],
            "image/png": "[encoded data removed]"
          },
          "metadata": {}
        }
      ]
    },
    {
      "cell_type": "code",
      "source": [
        "def validate_OpenGAN_on_noise(dis_model_path, kway_model_path, datasets, noise_type): \n",
        "\n",
        "  disc = load_discriminator(dis_model_path)\n",
        "  kway = build_max_model(kway_model_path)\n",
        "\n",
        "  DataLoader = torch.utils.data.DataLoader(datasets, batch_size = 32, shuffle = True)\n",
        "\n",
        "  '''Only will find ROC and PR Metrics'''\n",
        "\n",
        "  disc = disc.cuda()\n",
        "  kway = kway.cuda()\n",
        "\n",
        "  stacked_outs = list()\n",
        "  stacked_targets = list()\n",
        "\n",
        "  dateiter = iter(DataLoader)\n",
        "  for i in tqdm(range(300)):\n",
        "    if (i % 2) == 0: \n",
        "      images, targets = next(dateiter)\n",
        "      images = images[0]\n",
        "      images = images.unsqueeze(0)\n",
        "      targets = torch.ones(1)\n",
        "    else: \n",
        "      if noise_type == \"normal\": \n",
        "        mu, sigma = 0, 1\n",
        "        images = torch.from_numpy(np.random.normal(mu, sigma, size = (1, 3, 32, 32)))\n",
        "      elif noise_type == \"uniform\": \n",
        "        mu, sigma = 0, 1\n",
        "        images = torch.from_numpy(np.random.uniform(mu, sigma, size = (1, 3, 32, 32)))\n",
        "      targets = torch.zeros(1)\n",
        "\n",
        "    images = images.cuda()\n",
        "    targets = targets.cuda()\n",
        "    \n",
        "    disc.eval()\n",
        "\n",
        "    #forward\n",
        "    x_feat = kway(images.float())[:, :, None, None]\n",
        "    out = disc(x_feat)\n",
        "    out = out.view(-1)\n",
        "\n",
        "    assert out.size(0) == targets.size(0)\n",
        "\n",
        "    stacked_outs.extend(out.tolist()) \n",
        "    stacked_targets.extend(targets.tolist()) # Only 0's and 1's\n",
        "  \n",
        "  roc_measure = roc(stacked_outs, stacked_targets)['auc'] * 100\n",
        "  pr_measure = pr(stacked_outs, stacked_targets)['auc'] * 100\n",
        "\n",
        "  print(\"\\n\")\n",
        "  print(\"ROC AU value: {}%\".format(roc_measure))\n",
        "  print(\"PR AU value: {}%\".format(pr_measure))\n",
        "\n",
        "  return roc_measure, pr_measure\n"
      ],
      "metadata": {
        "id": "cv8QKQ6Fi33N"
      },
      "execution_count": null,
      "outputs": []
    },
    {
      "cell_type": "code",
      "source": [
        "def validate_logits_on_noise(kway_model_path, datasets, noise_type, form): \n",
        "\n",
        "  kway = build_max_model(kway_model_path)\n",
        "\n",
        "  DataLoader = torch.utils.data.DataLoader(datasets, batch_size = 32, shuffle = True)\n",
        "\n",
        "  '''Only will find ROC and PR Metrics'''\n",
        "\n",
        "  kway = kway.cuda()\n",
        "\n",
        "  stacked_outs = list()\n",
        "  stacked_targets = list()\n",
        "\n",
        "  dateiter = iter(DataLoader)\n",
        "  for i in tqdm(range(563)):\n",
        "    if (i % 2) == 0: \n",
        "      images, targets = next(dateiter)\n",
        "      images = images[0]\n",
        "      images = images.unsqueeze(0)\n",
        "      targets = torch.ones(1)\n",
        "    else: \n",
        "      if noise_type == \"normal\": \n",
        "        mu, sigma = 0, 1\n",
        "        images = torch.from_numpy(np.random.normal(mu, sigma, size = (1, 3, 32, 32)))\n",
        "      elif noise_type == \"uniform\": \n",
        "        mu, sigma = 0, 1\n",
        "        images = torch.from_numpy(np.random.uniform(mu, sigma, size = (1, 3, 32, 32)))\n",
        "      targets = torch.zeros(1)\n",
        "\n",
        "    images = images.cuda()\n",
        "    targets = targets.cuda()\n",
        "\n",
        "    #forward\n",
        "    x = kway(images.float())\n",
        "    if form == \"softmax\":\n",
        "      # Softmax Probability\n",
        "      x = F.softmax(x, dim=1)\n",
        "      assert sum(x[0]).item() > 0.99 and sum(x[0]).item() < 1.001\n",
        "    \n",
        "    max = torch.max(x, dim = 1).values\n",
        "\n",
        "    stacked_outs.extend(max.tolist()) \n",
        "    stacked_targets.extend(targets.tolist()) # Only 0's and 1's\n",
        "  \n",
        "  roc_measure = roc(stacked_outs, stacked_targets)['auc'] * 100\n",
        "  pr_measure = pr(stacked_outs, stacked_targets)['auc'] * 100\n",
        "\n",
        "  print(\"\\n\")\n",
        "  print(\"ROC AU value: {}%\".format(roc_measure))\n",
        "  print(\"PR AU value: {}%\".format(pr_measure))\n",
        "\n",
        "  return roc_measure, pr_measure\n"
      ],
      "metadata": {
        "id": "1DDQSMaRWMPW"
      },
      "execution_count": null,
      "outputs": []
    },
    {
      "cell_type": "code",
      "source": [
        "validate_logits_on_noise(\"/content/drive/MyDrive/Unknown_Detection/model_epoch15.pth\", test_closedset_CIFAR, \"uniform\", \"softmax\")"
      ],
      "metadata": {
        "colab": {
          "base_uri": "https://localhost:8080/"
        },
        "id": "whbl8YKuXFlk",
        "outputId": "60310015-df44-4dfd-d86d-6b40c1fb4554"
      },
      "execution_count": null,
      "outputs": [
        {
          "output_type": "stream",
          "name": "stderr",
          "text": [
            "100%|██████████| 563/563 [00:07<00:00, 75.60it/s]"
          ]
        },
        {
          "output_type": "stream",
          "name": "stdout",
          "text": [
            "\n",
            "\n",
            "ROC AU value: 68.40942934302517%\n",
            "PR AU value: 79.99738506777474%\n"
          ]
        },
        {
          "output_type": "stream",
          "name": "stderr",
          "text": [
            "\n"
          ]
        },
        {
          "output_type": "execute_result",
          "data": {
            "text/plain": [
              "(68.40942934302517, 79.99738506777474)"
            ]
          },
          "metadata": {},
          "execution_count": 51
        }
      ]
    },
    {
      "cell_type": "code",
      "source": [
        "\n",
        "validate_OpenGAN_on_noise(\"/content/drive/MyDrive/Unknown_Detection/OPenGANTestTinyImageNetNotPretrainedSep5th.classifier\", \"/content/drive/MyDrive/Unknown_Detection/50EpochsFullTrainTinyImageNetAug27th.pth\", testTinyImageNet, \"normal\")"
      ],
      "metadata": {
        "colab": {
          "base_uri": "https://localhost:8080/"
        },
        "id": "-BMgtjUTrISG",
        "outputId": "feb00e04-b6e9-439f-fe73-790ae2bc3098"
      },
      "execution_count": null,
      "outputs": [
        {
          "output_type": "stream",
          "name": "stderr",
          "text": [
            "100%|██████████| 563/563 [00:11<00:00, 51.00it/s]"
          ]
        },
        {
          "output_type": "stream",
          "name": "stdout",
          "text": [
            "\n",
            "\n",
            "ROC AU value: 100.0%\n",
            "PR AU value: 100.0%\n"
          ]
        },
        {
          "output_type": "stream",
          "name": "stderr",
          "text": [
            "\n"
          ]
        },
        {
          "output_type": "execute_result",
          "data": {
            "text/plain": [
              "(100.0, 100.0)"
            ]
          },
          "metadata": {},
          "execution_count": 25
        }
      ]
    },
    {
      "cell_type": "code",
      "source": [
        "validate_OpenGAN_on_noise(\"/content/drive/MyDrive/Unknown_Detection/20epochOpenGANCIFARKwayOct6th.pth\", \"/content/drive/MyDrive/Unknown_Detection/CIFAR50thepochOct3.pth\", test_closedset_CIFAR, \"uniform\")"
      ],
      "metadata": {
        "colab": {
          "base_uri": "https://localhost:8080/"
        },
        "id": "MEe0M3P3xyt8",
        "outputId": "04f1fbd4-372e-44bd-fc8e-147e040dcaac"
      },
      "execution_count": null,
      "outputs": [
        {
          "output_type": "stream",
          "name": "stderr",
          "text": [
            "100%|██████████| 300/300 [00:04<00:00, 63.80it/s]"
          ]
        },
        {
          "output_type": "stream",
          "name": "stdout",
          "text": [
            "\n",
            "\n",
            "ROC AU value: 93.68888888888887%\n",
            "PR AU value: 96.28526191042559%\n"
          ]
        },
        {
          "output_type": "stream",
          "name": "stderr",
          "text": [
            "\n"
          ]
        },
        {
          "output_type": "execute_result",
          "data": {
            "text/plain": [
              "(93.68888888888887, 96.28526191042559)"
            ]
          },
          "metadata": {},
          "execution_count": 39
        }
      ]
    }
  ]
}